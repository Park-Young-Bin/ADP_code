{
 "cells": [
  {
   "cell_type": "markdown",
   "id": "8c5ee9e2",
   "metadata": {},
   "source": [
    "[출처](https://www.datamanim.com/dataset/ADPpb/00/23.html)\n",
    "\n",
    "## 1. 기계학습\n",
    "- 데이터 설명\n",
    "\n",
    "- 온,습도,조도,CO2농도에 따른 객실의 사용유무 판별\n",
    "- 종속변수 Occupancy, 0: 비어있음 , 1: 사용중\n",
    "- 데이터 출처 : https://archive.ics.uci.edu/ml/datasets/Occupancy+Detection+\n",
    "- data Url : https://raw.githubusercontent.com/Datamanim/datarepo/main/adp/p1/problem1.csv\n",
    "\n",
    "### 1.1 데이터 EDA 수행 후, 분석가 입장에서 의미있는 탐색"
   ]
  },
  {
   "cell_type": "code",
   "execution_count": 1,
   "id": "5c3d483c",
   "metadata": {},
   "outputs": [
    {
     "data": {
      "text/html": [
       "<div>\n",
       "<style scoped>\n",
       "    .dataframe tbody tr th:only-of-type {\n",
       "        vertical-align: middle;\n",
       "    }\n",
       "\n",
       "    .dataframe tbody tr th {\n",
       "        vertical-align: top;\n",
       "    }\n",
       "\n",
       "    .dataframe thead th {\n",
       "        text-align: right;\n",
       "    }\n",
       "</style>\n",
       "<table border=\"1\" class=\"dataframe\">\n",
       "  <thead>\n",
       "    <tr style=\"text-align: right;\">\n",
       "      <th></th>\n",
       "      <th>date</th>\n",
       "      <th>Temperature</th>\n",
       "      <th>Humidity</th>\n",
       "      <th>Light</th>\n",
       "      <th>CO2</th>\n",
       "      <th>HumidityRatio</th>\n",
       "      <th>Occupancy</th>\n",
       "    </tr>\n",
       "  </thead>\n",
       "  <tbody>\n",
       "    <tr>\n",
       "      <th>0</th>\n",
       "      <td>2015-02-02 14:19:59</td>\n",
       "      <td>23.7180</td>\n",
       "      <td>26.290</td>\n",
       "      <td>578.400000</td>\n",
       "      <td>760.40</td>\n",
       "      <td>0.004773</td>\n",
       "      <td>1</td>\n",
       "    </tr>\n",
       "    <tr>\n",
       "      <th>1</th>\n",
       "      <td>2015-02-02 14:22:00</td>\n",
       "      <td>23.7225</td>\n",
       "      <td>26.125</td>\n",
       "      <td>493.750000</td>\n",
       "      <td>774.75</td>\n",
       "      <td>0.004744</td>\n",
       "      <td>1</td>\n",
       "    </tr>\n",
       "    <tr>\n",
       "      <th>2</th>\n",
       "      <td>2015-02-02 14:23:00</td>\n",
       "      <td>23.7540</td>\n",
       "      <td>26.200</td>\n",
       "      <td>488.600000</td>\n",
       "      <td>779.00</td>\n",
       "      <td>0.004767</td>\n",
       "      <td>1</td>\n",
       "    </tr>\n",
       "    <tr>\n",
       "      <th>3</th>\n",
       "      <td>2015-02-02 14:23:59</td>\n",
       "      <td>23.7600</td>\n",
       "      <td>26.260</td>\n",
       "      <td>568.666667</td>\n",
       "      <td>790.00</td>\n",
       "      <td>0.004779</td>\n",
       "      <td>1</td>\n",
       "    </tr>\n",
       "    <tr>\n",
       "      <th>4</th>\n",
       "      <td>2015-02-02 14:25:59</td>\n",
       "      <td>23.7540</td>\n",
       "      <td>26.290</td>\n",
       "      <td>509.000000</td>\n",
       "      <td>797.00</td>\n",
       "      <td>0.004783</td>\n",
       "      <td>1</td>\n",
       "    </tr>\n",
       "  </tbody>\n",
       "</table>\n",
       "</div>"
      ],
      "text/plain": [
       "                  date  Temperature  Humidity       Light     CO2  \\\n",
       "0  2015-02-02 14:19:59      23.7180    26.290  578.400000  760.40   \n",
       "1  2015-02-02 14:22:00      23.7225    26.125  493.750000  774.75   \n",
       "2  2015-02-02 14:23:00      23.7540    26.200  488.600000  779.00   \n",
       "3  2015-02-02 14:23:59      23.7600    26.260  568.666667  790.00   \n",
       "4  2015-02-02 14:25:59      23.7540    26.290  509.000000  797.00   \n",
       "\n",
       "   HumidityRatio  Occupancy  \n",
       "0       0.004773          1  \n",
       "1       0.004744          1  \n",
       "2       0.004767          1  \n",
       "3       0.004779          1  \n",
       "4       0.004783          1  "
      ]
     },
     "execution_count": 1,
     "metadata": {},
     "output_type": "execute_result"
    }
   ],
   "source": [
    "import pandas as pd\n",
    "import numpy as np\n",
    "import matplotlib.pyplot as plt\n",
    "import seaborn as sns\n",
    "import os\n",
    "import warnings\n",
    "warnings.filterwarnings('ignore')\n",
    "plt.rc('font', family='Malgun Gothic')\n",
    "plt.rcParams['axes.unicode_minus']=False\n",
    "\n",
    "df =pd.read_csv('https://raw.githubusercontent.com/Datamanim/datarepo/main/adp/23/problem1.csv')\n",
    "df.head()"
   ]
  },
  {
   "cell_type": "code",
   "execution_count": 3,
   "id": "386fe97c",
   "metadata": {},
   "outputs": [
    {
     "name": "stdout",
     "output_type": "stream",
     "text": [
      "<class 'pandas.core.frame.DataFrame'>\n",
      "RangeIndex: 17910 entries, 0 to 17909\n",
      "Data columns (total 7 columns):\n",
      " #   Column         Non-Null Count  Dtype  \n",
      "---  ------         --------------  -----  \n",
      " 0   date           17910 non-null  object \n",
      " 1   Temperature    17910 non-null  float64\n",
      " 2   Humidity       17910 non-null  float64\n",
      " 3   Light          17910 non-null  float64\n",
      " 4   CO2            17889 non-null  float64\n",
      " 5   HumidityRatio  17910 non-null  float64\n",
      " 6   Occupancy      17910 non-null  int64  \n",
      "dtypes: float64(5), int64(1), object(1)\n",
      "memory usage: 979.6+ KB\n"
     ]
    }
   ],
   "source": [
    "df.info()"
   ]
  },
  {
   "cell_type": "code",
   "execution_count": 4,
   "id": "d15bff93",
   "metadata": {},
   "outputs": [
    {
     "data": {
      "text/plain": [
       "(17910, 7)"
      ]
     },
     "execution_count": 4,
     "metadata": {},
     "output_type": "execute_result"
    }
   ],
   "source": [
    "df.shape"
   ]
  },
  {
   "cell_type": "code",
   "execution_count": 5,
   "id": "a5fec2a6",
   "metadata": {},
   "outputs": [
    {
     "data": {
      "text/plain": [
       "date              0\n",
       "Temperature       0\n",
       "Humidity          0\n",
       "Light             0\n",
       "CO2              21\n",
       "HumidityRatio     0\n",
       "Occupancy         0\n",
       "dtype: int64"
      ]
     },
     "execution_count": 5,
     "metadata": {},
     "output_type": "execute_result"
    }
   ],
   "source": [
    "df.isna().sum()"
   ]
  },
  {
   "cell_type": "code",
   "execution_count": 6,
   "id": "0e0995d9",
   "metadata": {},
   "outputs": [
    {
     "data": {
      "text/html": [
       "<div>\n",
       "<style scoped>\n",
       "    .dataframe tbody tr th:only-of-type {\n",
       "        vertical-align: middle;\n",
       "    }\n",
       "\n",
       "    .dataframe tbody tr th {\n",
       "        vertical-align: top;\n",
       "    }\n",
       "\n",
       "    .dataframe thead th {\n",
       "        text-align: right;\n",
       "    }\n",
       "</style>\n",
       "<table border=\"1\" class=\"dataframe\">\n",
       "  <thead>\n",
       "    <tr style=\"text-align: right;\">\n",
       "      <th></th>\n",
       "      <th>Temperature</th>\n",
       "      <th>Humidity</th>\n",
       "      <th>Light</th>\n",
       "      <th>CO2</th>\n",
       "      <th>HumidityRatio</th>\n",
       "      <th>Occupancy</th>\n",
       "    </tr>\n",
       "  </thead>\n",
       "  <tbody>\n",
       "    <tr>\n",
       "      <th>count</th>\n",
       "      <td>17910.000000</td>\n",
       "      <td>17910.000000</td>\n",
       "      <td>17910.000000</td>\n",
       "      <td>17889.000000</td>\n",
       "      <td>17910.000000</td>\n",
       "      <td>17910.000000</td>\n",
       "    </tr>\n",
       "    <tr>\n",
       "      <th>mean</th>\n",
       "      <td>20.749036</td>\n",
       "      <td>27.589163</td>\n",
       "      <td>78.157369</td>\n",
       "      <td>647.700865</td>\n",
       "      <td>0.004175</td>\n",
       "      <td>0.117253</td>\n",
       "    </tr>\n",
       "    <tr>\n",
       "      <th>std</th>\n",
       "      <td>0.994012</td>\n",
       "      <td>5.043595</td>\n",
       "      <td>168.574068</td>\n",
       "      <td>285.997340</td>\n",
       "      <td>0.000755</td>\n",
       "      <td>0.321730</td>\n",
       "    </tr>\n",
       "    <tr>\n",
       "      <th>min</th>\n",
       "      <td>19.000000</td>\n",
       "      <td>16.745000</td>\n",
       "      <td>-99.000000</td>\n",
       "      <td>412.750000</td>\n",
       "      <td>0.002674</td>\n",
       "      <td>0.000000</td>\n",
       "    </tr>\n",
       "    <tr>\n",
       "      <th>25%</th>\n",
       "      <td>20.100000</td>\n",
       "      <td>24.390000</td>\n",
       "      <td>0.000000</td>\n",
       "      <td>453.000000</td>\n",
       "      <td>0.003702</td>\n",
       "      <td>0.000000</td>\n",
       "    </tr>\n",
       "    <tr>\n",
       "      <th>50%</th>\n",
       "      <td>20.600000</td>\n",
       "      <td>27.200000</td>\n",
       "      <td>0.000000</td>\n",
       "      <td>532.666667</td>\n",
       "      <td>0.004222</td>\n",
       "      <td>0.000000</td>\n",
       "    </tr>\n",
       "    <tr>\n",
       "      <th>75%</th>\n",
       "      <td>21.200000</td>\n",
       "      <td>31.290000</td>\n",
       "      <td>22.000000</td>\n",
       "      <td>722.000000</td>\n",
       "      <td>0.004790</td>\n",
       "      <td>0.000000</td>\n",
       "    </tr>\n",
       "    <tr>\n",
       "      <th>max</th>\n",
       "      <td>24.408333</td>\n",
       "      <td>39.500000</td>\n",
       "      <td>1581.000000</td>\n",
       "      <td>2076.500000</td>\n",
       "      <td>0.006461</td>\n",
       "      <td>1.000000</td>\n",
       "    </tr>\n",
       "  </tbody>\n",
       "</table>\n",
       "</div>"
      ],
      "text/plain": [
       "        Temperature      Humidity         Light           CO2  HumidityRatio  \\\n",
       "count  17910.000000  17910.000000  17910.000000  17889.000000   17910.000000   \n",
       "mean      20.749036     27.589163     78.157369    647.700865       0.004175   \n",
       "std        0.994012      5.043595    168.574068    285.997340       0.000755   \n",
       "min       19.000000     16.745000    -99.000000    412.750000       0.002674   \n",
       "25%       20.100000     24.390000      0.000000    453.000000       0.003702   \n",
       "50%       20.600000     27.200000      0.000000    532.666667       0.004222   \n",
       "75%       21.200000     31.290000     22.000000    722.000000       0.004790   \n",
       "max       24.408333     39.500000   1581.000000   2076.500000       0.006461   \n",
       "\n",
       "          Occupancy  \n",
       "count  17910.000000  \n",
       "mean       0.117253  \n",
       "std        0.321730  \n",
       "min        0.000000  \n",
       "25%        0.000000  \n",
       "50%        0.000000  \n",
       "75%        0.000000  \n",
       "max        1.000000  "
      ]
     },
     "execution_count": 6,
     "metadata": {},
     "output_type": "execute_result"
    }
   ],
   "source": [
    "df.describe()"
   ]
  },
  {
   "cell_type": "code",
   "execution_count": 7,
   "id": "9b8ce8c2",
   "metadata": {},
   "outputs": [
    {
     "data": {
      "text/plain": [
       "0"
      ]
     },
     "execution_count": 7,
     "metadata": {},
     "output_type": "execute_result"
    }
   ],
   "source": [
    "df.duplicated().sum()"
   ]
  },
  {
   "cell_type": "code",
   "execution_count": 9,
   "id": "78cb6302",
   "metadata": {},
   "outputs": [
    {
     "data": {
      "image/png": "[encoded data removed]",
      "text/plain": [
       "<Figure size 640x480 with 6 Axes>"
      ]
     },
     "metadata": {},
     "output_type": "display_data"
    }
   ],
   "source": [
    "df.hist()\n",
    "plt.tight_layout();"
   ]
  },
  {
   "cell_type": "code",
   "execution_count": 10,
   "id": "9537dc6e",
   "metadata": {},
   "outputs": [
    {
     "data": {
      "text/plain": [
       "0    15810\n",
       "1     2100\n",
       "Name: Occupancy, dtype: int64"
      ]
     },
     "execution_count": 10,
     "metadata": {},
     "output_type": "execute_result"
    }
   ],
   "source": [
    "df.Occupancy.value_counts()"
   ]
  },
  {
   "cell_type": "code",
   "execution_count": 12,
   "id": "6eda268a",
   "metadata": {},
   "outputs": [
    {
     "data": {
      "image/png": "[encoded data removed]",
      "text/plain": [
       "<Figure size 500x400 with 2 Axes>"
      ]
     },
     "metadata": {},
     "output_type": "display_data"
    }
   ],
   "source": [
    "df_corr = df.corr()\n",
    "plt.figure(figsize=(5,4))\n",
    "sns.heatmap(df_corr, fmt='.2f', cmap='RdBu', vmax=1, vmin=-1, annot=True);"
   ]
  },
  {
   "cell_type": "markdown",
   "id": "3d324cce",
   "metadata": {},
   "source": [
    "1. 결측치 존재 여부\n",
    "    - CO2 변수에만 결측치가 있다. 수치형 변수이므로 평균 또는 중앙값으로 대체할 수 있다.\n",
    "1. 데이터 타입\n",
    "    - 종속변수인 Occupancy는 0 또는 1로 이루어져 있고, int형으로 구성되어 있다. 독립변수는 object와 float로 구성되어 있다.\n",
    "1. 종속변수와 독립변수의 상관관계\n",
    "    - 상관성이 가장 높은 관계는 Occupancy와 Light로 상관계수는 0.84로 나타났다.\n",
    "1. 독립변수 간 상관관계\n",
    "    - 다중공선성을 의심할 만큼 상관성이 높은 관계는 HumidityRatio와 Humidity로 이때 상관계수는 0.94로 나타났다.\n",
    "    - 따라서 두 변수 간의 관계는 주의해야 할 필요가 있다.\n",
    "1. 유의할 점\n",
    "    - 종속변수의 클래스 개수가 불균형하다.\n",
    "    - 0 값이 15810개 1값이 2100개로 데이터 불균형 이슈가 우려되므로 오버샘플링 또는 언더샘플링 기법을 사용해야 할 것으로 판단한다."
   ]
  },
  {
   "cell_type": "markdown",
   "id": "5258dc42",
   "metadata": {},
   "source": [
    "### 1.2 결측치를 대체하는 방식 선택하고 근거제시, 대체 수행\n",
    "- 결측치를 대체하는 방식에는 단순 대치법과 KNN을 이용한 결측치 대체가 있다.\n",
    "- 단순 대치법: 수치형 변수라면 각 컬럼의 평균이나 중앙값을 사용하여 결측치를 대체할 수 있지만 범주형 변수라면 최빈값을 이용할 수 있다.\n",
    "- KNN을 이용한 결측치 대체: 보간법 중 결측치가 없는 컬럼들의 최근접 이웃 알고리즘을 통해 결측치가 있는 변수를 대체할 수 있다. 단 거리 계산이 가능한 수치형 변수만 사용 가능하다.\n",
    "- 본 분석에서는 빠른 처리를 위해 단순 대치법을 이용하며, 그중에서도 평균값으로 대체할 것이다."
   ]
  },
  {
   "cell_type": "code",
   "execution_count": 16,
   "id": "eeeeb24c",
   "metadata": {},
   "outputs": [
    {
     "data": {
      "text/plain": [
       "date             0\n",
       "Temperature      0\n",
       "Humidity         0\n",
       "Light            0\n",
       "CO2              0\n",
       "HumidityRatio    0\n",
       "Occupancy        0\n",
       "dtype: int64"
      ]
     },
     "execution_count": 16,
     "metadata": {},
     "output_type": "execute_result"
    }
   ],
   "source": [
    "df.fillna(df.mean(), inplace=True)\n",
    "df.isna().sum()"
   ]
  },
  {
   "cell_type": "markdown",
   "id": "621a80fa",
   "metadata": {},
   "source": [
    "### 1.3 추가적으로 데이터의 질 및 품질관리를 향상시킬만한 내용 작성\n",
    "1. Light의 최솟값이 -99인 것으로 보아 결측값인 것으로 판단된다. 따라서 해당 값을 Light의 평균값으로 바꿀 수 있다.\n",
    "1. 수치형 변수들의 값의 단위가 다르므로 스케일링을 통해 이들의 범위를 동일하게 할 필요가 있다. "
   ]
  },
  {
   "cell_type": "code",
   "execution_count": 19,
   "id": "2bcbb42e",
   "metadata": {},
   "outputs": [
    {
     "data": {
      "text/plain": [
       "0.0"
      ]
     },
     "execution_count": 19,
     "metadata": {},
     "output_type": "execute_result"
    }
   ],
   "source": [
    "df.loc[df['Light']==-99, 'Light'] = np.mean(df['Light'])\n",
    "np.min(df['Light'])"
   ]
  },
  {
   "cell_type": "markdown",
   "id": "d1e8fa5f",
   "metadata": {},
   "source": [
    "### 2.1 데이터에 불균형이 있는지 확인, 불균형 판단 근거 작성\n",
    "- 0 값이 15810개 1값이 2100개로 데이터 불균형 이슈가 우려되므로 오버샘플링 또는 언더샘플링 기법을 사용해야 할 것으로 판단한다."
   ]
  },
  {
   "cell_type": "code",
   "execution_count": 20,
   "id": "1229f8d4",
   "metadata": {},
   "outputs": [
    {
     "data": {
      "text/plain": [
       "0    15810\n",
       "1     2100\n",
       "Name: Occupancy, dtype: int64"
      ]
     },
     "execution_count": 20,
     "metadata": {},
     "output_type": "execute_result"
    }
   ],
   "source": [
    "df.Occupancy.value_counts()"
   ]
  },
  {
   "cell_type": "markdown",
   "id": "b1f963f1",
   "metadata": {},
   "source": [
    "### 2.2 오버샘플링 방법들 중 2개 선택하고 장단점 등 선정 이유 "
   ]
  },
  {
   "cell_type": "code",
   "execution_count": 30,
   "id": "971036c8",
   "metadata": {},
   "outputs": [
    {
     "name": "stdout",
     "output_type": "stream",
     "text": [
      "랜덤오버샘플링:\n",
      " 1    15810\n",
      "0    15810\n",
      "dtype: int64\n",
      "\n",
      "SMOTE:\n",
      " 1    15810\n",
      "0    15810\n",
      "dtype: int64\n"
     ]
    }
   ],
   "source": [
    "from imblearn.over_sampling import SMOTE, RandomOverSampler\n",
    "X = df.drop(['date', 'Occupancy'], axis=1)\n",
    "y = df.Occupancy\n",
    "\n",
    "ro = RandomOverSampler(random_state=1)\n",
    "X_ro, y_ro = ro.fit_resample(X, y)\n",
    "\n",
    "smote = SMOTE()\n",
    "X_sm, y_sm = smote.fit_resample(X, y)\n",
    "\n",
    "print('랜덤오버샘플링:\\n', pd.Series(y_ro).value_counts())\n",
    "print()\n",
    "print('SMOTE:\\n', pd.Series(y_sm).value_counts())"
   ]
  },
  {
   "cell_type": "markdown",
   "id": "90f2f419",
   "metadata": {},
   "source": [
    "### 3.1 속도측면, 정확도측면 모델 1개씩 선택, 선택 이유도 기술\n",
    "- 이진 분류이므로 속도 측면에서는 로지스틱 회귀모델을 선택하였고, 정확도 측면에서는 램덤포레스트를 선택하였다.\n",
    "- 로지스틱 회귀모델을 선택한 이유는 분류 모델에서 널리 사용되는 이진 분류기이며, 모델 속도가 다른 분류 모델에 비해 빠른 편이기에 선택하였다.\n",
    "- 랜덤포레스트는 앙상블 기법 중 하나로 배깅, 부스팅보다 더 많은 무작위성을 주어 약한 학습기를 생성한 후에 이를 선형결합하여 최종 학습기를 만드는 모델이다. 따라서 정확도 측면에서 보장할 수 있는 성능을 보이기에 선택하였다."
   ]
  },
  {
   "cell_type": "markdown",
   "id": "2b7932ad",
   "metadata": {},
   "source": [
    "### 3.2 위에서 오버샘플링 한 데이터 2개, 오버샘플링 하기 전 데이터 1개에 대해 모델 2개를 적용하고 성능 보여주기"
   ]
  },
  {
   "cell_type": "code",
   "execution_count": 59,
   "id": "900003d2",
   "metadata": {},
   "outputs": [
    {
     "name": "stdout",
     "output_type": "stream",
     "text": [
      "--오버 샘플링 전--\n",
      "<LogisticRegression>\n",
      " time: 0.0873sec / 정확도: 0.9883\n",
      "<RandomForestClassifier>\n",
      " time: 1.3123sec / 정확도: 0.9948\n"
     ]
    }
   ],
   "source": [
    "from sklearn.linear_model import LogisticRegression\n",
    "from sklearn.ensemble import RandomForestClassifier\n",
    "from sklearn.model_selection import train_test_split\n",
    "from sklearn.metrics import accuracy_score\n",
    "import time\n",
    "from sklearn.preprocessing import StandardScaler\n",
    "\n",
    "X = df.drop(['date', 'Occupancy'], axis=1)\n",
    "y = df.Occupancy\n",
    "\n",
    "X_train, X_test, y_train, y_test =  train_test_split(X, y, test_size=.3, random_state=1)\n",
    "\n",
    "# 스케일링\n",
    "scaler = StandardScaler()\n",
    "X_train_sc = scaler.fit_transform(X_train)\n",
    "X_test_sc = scaler.transform(X_test)\n",
    "\n",
    "lr = LogisticRegression()\n",
    "rfr_clf = RandomForestClassifier()\n",
    "\n",
    "# 모델 구현\n",
    "def make_model(model, X_train, y_train, X_test, y_test):\n",
    "    start = time.time()\n",
    "    model.fit(X_train, y_train)\n",
    "    end = time.time()\n",
    "    pred = model.predict(X_test)\n",
    "    acc = accuracy_score(y_test, pred)\n",
    "    return print(f'<{model.__class__.__name__}>\\n time: {round(end-start, 4)}sec / 정확도: {round(acc, 4)}')\n",
    "print('--오버 샘플링 전--')\n",
    "make_model(lr, X_train_sc, y_train, X_test_sc, y_test)\n",
    "make_model(rfr_clf, X_train_sc, y_train, X_test_sc, y_test)"
   ]
  },
  {
   "cell_type": "code",
   "execution_count": 60,
   "id": "ba32ddad",
   "metadata": {},
   "outputs": [
    {
     "name": "stdout",
     "output_type": "stream",
     "text": [
      "--랜덤 오버 샘플링--\n",
      "<LogisticRegression>\n",
      " time: 0.1135sec / 정확도: 0.9897\n",
      "<RandomForestClassifier>\n",
      " time: 2.4648sec / 정확도: 0.9974\n"
     ]
    }
   ],
   "source": [
    "# 랜덤 오버샘플링\n",
    "X_train_ro, X_test_ro, y_train_ro, y_test_ro =  train_test_split(X_ro, y_ro, test_size=.3, random_state=1)\n",
    "\n",
    "# 스케일링\n",
    "scaler = StandardScaler()\n",
    "X_train_sc = scaler.fit_transform(X_train_ro)\n",
    "X_test_sc = scaler.transform(X_test_ro)\n",
    "\n",
    "# 모델 구현\n",
    "def make_model_over(model, X_train, y_train, X_test, y_test):\n",
    "    start = time.time()\n",
    "    model.fit(X_train, y_train)\n",
    "    end = time.time()\n",
    "    pred = model.predict(X_test)\n",
    "    acc = accuracy_score(y_test, pred)\n",
    "    return print(f'<{model.__class__.__name__}>\\n time: {round(end-start, 4)}sec / 정확도: {round(acc, 4)}')\n",
    "print('--랜덤 오버 샘플링--')\n",
    "make_model_over(lr, X_train_sc, y_train_ro, X_test_sc, y_test_ro)\n",
    "make_model_over(rfr_clf, X_train_sc, y_train_ro, X_test_sc, y_test_ro)"
   ]
  },
  {
   "cell_type": "code",
   "execution_count": 63,
   "id": "f35904c8",
   "metadata": {},
   "outputs": [
    {
     "name": "stdout",
     "output_type": "stream",
     "text": [
      "--SMOTE--\n",
      "<LogisticRegression>\n",
      " time: 0.0918sec / 정확도: 0.9898\n",
      "<RandomForestClassifier>\n",
      " time: 3.5107sec / 정확도: 0.996\n"
     ]
    }
   ],
   "source": [
    "# SMOTE\n",
    "X_train_sm, X_test_sm, y_train_sm, y_test_sm =  train_test_split(X_sm, y_sm, test_size=.3, random_state=1)\n",
    "\n",
    "# 스케일링\n",
    "scaler = StandardScaler()\n",
    "X_train_sc = scaler.fit_transform(X_train_sm)\n",
    "X_test_sc = scaler.transform(X_test_sm)\n",
    "\n",
    "# 모델 구현\n",
    "print('--SMOTE--')\n",
    "make_model_over(lr, X_train_sc, y_train_sm, X_test_sc, y_test_sm)\n",
    "make_model_over(rfr_clf, X_train_sc, y_train_sm, X_test_sc, y_test_sm)"
   ]
  },
  {
   "cell_type": "markdown",
   "id": "fc31b8f7",
   "metadata": {},
   "source": [
    "### 3.3 위 예측결과 사용해서 오버샘플링이 미친 영향에 대해 작성하라"
   ]
  },
  {
   "cell_type": "markdown",
   "id": "333c3a4c",
   "metadata": {},
   "source": [
    "- 오버샘플링을 적용한 모델은 원본 데이터를 이용한 모델보다 학습 속도가 더 오래 걸린 것을 알 수 있다. 이는 오버샘플링으로 데이터 수가 증가했기 때문이라고 유추할 수 있다.\n",
    "- 또한 랜덤포레스트보다 로지스틱귀 모델의 속도가 더 빠른 것이 공통적으로 나타났다.\n",
    "- 모델 성능은 큰 차이는 없지만 전반적으로 향상되었다. 원본 데이터를 이용한 각 모델의 정확도는 0.9883, 0.9948이었다면, 랜덤 오버 샘플링을 이용한 모델의 정확도는 0.9897, 0.9974, SMOTE는 각각 0.9898, 0.996이었다.\n",
    "- 따라서 오버 샘플링이 분석 정확도에 긍정적인 영향을 주었다는 것을 알 수 있다. 특히 오버 샘플링은 데이터 불균형으로 인한 과적합을 방지하고, 예측 모델의 일반화를 가능하게 하였다."
   ]
  },
  {
   "cell_type": "markdown",
   "id": "a7d91ec8",
   "metadata": {},
   "source": [
    "## 2. 통계분석\n",
    "\n",
    "- 공장에서는 진공관 수명이 1만 시간이라고 주장하여 품질관리팀에서 12개 샘플을 뽑았음 유의수준 5%에서 부호 검정하시오\n",
    "\n",
    "### 2.1 귀무가설, 연구가설 세우기\n",
    "- 귀무가설: 진공관 수명은 1만 시간이다.\n",
    "- 대립가설: 진공관 수명은 1만 시간이 아니다.\n",
    "\n",
    "### 2.2 유효한 데이터의 개수는?"
   ]
  },
  {
   "cell_type": "code",
   "execution_count": 64,
   "id": "553a30f3",
   "metadata": {},
   "outputs": [
    {
     "data": {
      "text/html": [
       "<div>\n",
       "<style scoped>\n",
       "    .dataframe tbody tr th:only-of-type {\n",
       "        vertical-align: middle;\n",
       "    }\n",
       "\n",
       "    .dataframe tbody tr th {\n",
       "        vertical-align: top;\n",
       "    }\n",
       "\n",
       "    .dataframe thead th {\n",
       "        text-align: right;\n",
       "    }\n",
       "</style>\n",
       "<table border=\"1\" class=\"dataframe\">\n",
       "  <thead>\n",
       "    <tr style=\"text-align: right;\">\n",
       "      <th></th>\n",
       "      <th>name</th>\n",
       "      <th>life span</th>\n",
       "    </tr>\n",
       "  </thead>\n",
       "  <tbody>\n",
       "    <tr>\n",
       "      <th>0</th>\n",
       "      <td>sample1</td>\n",
       "      <td>10000</td>\n",
       "    </tr>\n",
       "    <tr>\n",
       "      <th>1</th>\n",
       "      <td>sample2</td>\n",
       "      <td>9000</td>\n",
       "    </tr>\n",
       "    <tr>\n",
       "      <th>2</th>\n",
       "      <td>sample3</td>\n",
       "      <td>9500</td>\n",
       "    </tr>\n",
       "    <tr>\n",
       "      <th>3</th>\n",
       "      <td>sample4</td>\n",
       "      <td>10000</td>\n",
       "    </tr>\n",
       "    <tr>\n",
       "      <th>4</th>\n",
       "      <td>sample5</td>\n",
       "      <td>10000</td>\n",
       "    </tr>\n",
       "  </tbody>\n",
       "</table>\n",
       "</div>"
      ],
      "text/plain": [
       "      name  life span\n",
       "0  sample1      10000\n",
       "1  sample2       9000\n",
       "2  sample3       9500\n",
       "3  sample4      10000\n",
       "4  sample5      10000"
      ]
     },
     "execution_count": 64,
     "metadata": {},
     "output_type": "execute_result"
    }
   ],
   "source": [
    "df =pd.read_csv('https://raw.githubusercontent.com/Datamanim/datarepo/main/adp/23/problem2.csv')\n",
    "df.head()"
   ]
  },
  {
   "cell_type": "code",
   "execution_count": 66,
   "id": "68797f0f",
   "metadata": {},
   "outputs": [
    {
     "name": "stdout",
     "output_type": "stream",
     "text": [
      "중위수와 동일한 값들은 순위 부호 검정에서 불필요한 데이터이다. 그 숫자는 :  4\n",
      "유효한 데이터 개수: 8\n"
     ]
    }
   ],
   "source": [
    "print('중위수와 동일한 값들은 순위 부호 검정에서 불필요한 데이터이다. 그 숫자는 : ',\n",
    "      df[df['life span']==np.median(df['life span'])].shape[0])\n",
    "\n",
    "df_fillter = df[df['life span'] != 10000]\n",
    "\n",
    "print(f'유효한 데이터 개수: {len(df_fillter)}')"
   ]
  },
  {
   "cell_type": "markdown",
   "id": "c0e25efb",
   "metadata": {},
   "source": [
    "### 2.3 검정통계량 및 연구가설 채택 여부를 작성하라"
   ]
  },
  {
   "cell_type": "code",
   "execution_count": 69,
   "id": "33373600",
   "metadata": {},
   "outputs": [
    {
     "data": {
      "text/plain": [
       "ShapiroResult(statistic=0.7996643781661987, pvalue=0.00928695872426033)"
      ]
     },
     "execution_count": 69,
     "metadata": {},
     "output_type": "execute_result"
    }
   ],
   "source": [
    "import scipy.stats as stats\n",
    "stats.shapiro(df['life span']) # 정규성 만족 못 함"
   ]
  },
  {
   "cell_type": "code",
   "execution_count": 82,
   "id": "542509cf",
   "metadata": {},
   "outputs": [
    {
     "data": {
      "text/plain": [
       "WilcoxonResult(statistic=8.5, pvalue=0.18289327757982765)"
      ]
     },
     "execution_count": 82,
     "metadata": {},
     "output_type": "execute_result"
    }
   ],
   "source": [
    "stats.wilcoxon(df['life span'] - 10_000) # 귀무가설 채택"
   ]
  },
  {
   "cell_type": "markdown",
   "id": "4d6f4d71",
   "metadata": {},
   "source": [
    "# 3. 코로나 시계열 데이터\n",
    "- 일자/국가명/확진자수\n",
    "- 데이터 출처(후처리과정 미포함) :https://www.kaggle.com/antgoldbloom/covid19panels?select=country_panel.csv \n",
    "- 데이터 url : https://raw.githubusercontent.com/Datamanim/datarepo/main/adp/p1/problem3_covid2.csv"
   ]
  },
  {
   "cell_type": "code",
   "execution_count": 2,
   "id": "5dc03020",
   "metadata": {},
   "outputs": [
    {
     "data": {
      "text/html": [
       "<div>\n",
       "<style scoped>\n",
       "    .dataframe tbody tr th:only-of-type {\n",
       "        vertical-align: middle;\n",
       "    }\n",
       "\n",
       "    .dataframe tbody tr th {\n",
       "        vertical-align: top;\n",
       "    }\n",
       "\n",
       "    .dataframe thead th {\n",
       "        text-align: right;\n",
       "    }\n",
       "</style>\n",
       "<table border=\"1\" class=\"dataframe\">\n",
       "  <thead>\n",
       "    <tr style=\"text-align: right;\">\n",
       "      <th></th>\n",
       "      <th>location</th>\n",
       "      <th>date</th>\n",
       "      <th>new_cases</th>\n",
       "    </tr>\n",
       "  </thead>\n",
       "  <tbody>\n",
       "    <tr>\n",
       "      <th>0</th>\n",
       "      <td>Austria</td>\n",
       "      <td>2021-01-01</td>\n",
       "      <td>2096.0</td>\n",
       "    </tr>\n",
       "    <tr>\n",
       "      <th>1</th>\n",
       "      <td>Austria</td>\n",
       "      <td>2021-01-02</td>\n",
       "      <td>1391.0</td>\n",
       "    </tr>\n",
       "    <tr>\n",
       "      <th>2</th>\n",
       "      <td>Austria</td>\n",
       "      <td>2021-01-03</td>\n",
       "      <td>1466.0</td>\n",
       "    </tr>\n",
       "    <tr>\n",
       "      <th>3</th>\n",
       "      <td>Austria</td>\n",
       "      <td>2021-01-04</td>\n",
       "      <td>1642.0</td>\n",
       "    </tr>\n",
       "    <tr>\n",
       "      <th>4</th>\n",
       "      <td>Austria</td>\n",
       "      <td>2021-01-05</td>\n",
       "      <td>2311.0</td>\n",
       "    </tr>\n",
       "  </tbody>\n",
       "</table>\n",
       "</div>"
      ],
      "text/plain": [
       "  location        date  new_cases\n",
       "0  Austria  2021-01-01     2096.0\n",
       "1  Austria  2021-01-02     1391.0\n",
       "2  Austria  2021-01-03     1466.0\n",
       "3  Austria  2021-01-04     1642.0\n",
       "4  Austria  2021-01-05     2311.0"
      ]
     },
     "execution_count": 2,
     "metadata": {},
     "output_type": "execute_result"
    }
   ],
   "source": [
    "df =pd.read_csv('https://raw.githubusercontent.com/Datamanim/datarepo/main/adp/23/problem3_covid2.csv')\n",
    "df.head()"
   ]
  },
  {
   "cell_type": "markdown",
   "id": "263994a5",
   "metadata": {},
   "source": [
    "### 3.1 데이터는 일자별 각 나라의 일일 확진자수를 나타낸다. 각 나라의 일자별 누적확진자 수를 나타내는 데이터 프레임을 생성하라"
   ]
  },
  {
   "cell_type": "code",
   "execution_count": 3,
   "id": "bc43a126",
   "metadata": {},
   "outputs": [
    {
     "data": {
      "text/plain": [
       "(11895, 3)"
      ]
     },
     "execution_count": 3,
     "metadata": {},
     "output_type": "execute_result"
    }
   ],
   "source": [
    "df.shape"
   ]
  },
  {
   "cell_type": "code",
   "execution_count": 7,
   "id": "9d0908a2",
   "metadata": {},
   "outputs": [
    {
     "name": "stdout",
     "output_type": "stream",
     "text": [
      "<class 'pandas.core.frame.DataFrame'>\n",
      "RangeIndex: 11895 entries, 0 to 11894\n",
      "Data columns (total 3 columns):\n",
      " #   Column     Non-Null Count  Dtype  \n",
      "---  ------     --------------  -----  \n",
      " 0   location   11895 non-null  object \n",
      " 1   date       11895 non-null  object \n",
      " 2   new_cases  11662 non-null  float64\n",
      "dtypes: float64(1), object(2)\n",
      "memory usage: 278.9+ KB\n"
     ]
    }
   ],
   "source": [
    "df.info()"
   ]
  },
  {
   "cell_type": "code",
   "execution_count": 8,
   "id": "c76ebd87",
   "metadata": {},
   "outputs": [],
   "source": [
    "df['date'] = pd.to_datetime(df['date'])"
   ]
  },
  {
   "cell_type": "code",
   "execution_count": 22,
   "id": "af7a316d",
   "metadata": {},
   "outputs": [
    {
     "data": {
      "text/html": [
       "<div>\n",
       "<style scoped>\n",
       "    .dataframe tbody tr th:only-of-type {\n",
       "        vertical-align: middle;\n",
       "    }\n",
       "\n",
       "    .dataframe tbody tr th {\n",
       "        vertical-align: top;\n",
       "    }\n",
       "\n",
       "    .dataframe thead th {\n",
       "        text-align: right;\n",
       "    }\n",
       "</style>\n",
       "<table border=\"1\" class=\"dataframe\">\n",
       "  <thead>\n",
       "    <tr style=\"text-align: right;\">\n",
       "      <th></th>\n",
       "      <th>location</th>\n",
       "      <th>date</th>\n",
       "      <th>cumulative sum</th>\n",
       "    </tr>\n",
       "  </thead>\n",
       "  <tbody>\n",
       "    <tr>\n",
       "      <th>0</th>\n",
       "      <td>Austria</td>\n",
       "      <td>2021-01-01</td>\n",
       "      <td>2096.0</td>\n",
       "    </tr>\n",
       "    <tr>\n",
       "      <th>1</th>\n",
       "      <td>Austria</td>\n",
       "      <td>2021-01-02</td>\n",
       "      <td>3487.0</td>\n",
       "    </tr>\n",
       "    <tr>\n",
       "      <th>2</th>\n",
       "      <td>Austria</td>\n",
       "      <td>2021-01-03</td>\n",
       "      <td>4953.0</td>\n",
       "    </tr>\n",
       "    <tr>\n",
       "      <th>3</th>\n",
       "      <td>Austria</td>\n",
       "      <td>2021-01-04</td>\n",
       "      <td>6595.0</td>\n",
       "    </tr>\n",
       "    <tr>\n",
       "      <th>4</th>\n",
       "      <td>Austria</td>\n",
       "      <td>2021-01-05</td>\n",
       "      <td>8906.0</td>\n",
       "    </tr>\n",
       "    <tr>\n",
       "      <th>...</th>\n",
       "      <td>...</td>\n",
       "      <td>...</td>\n",
       "      <td>...</td>\n",
       "    </tr>\n",
       "    <tr>\n",
       "      <th>11890</th>\n",
       "      <td>Vanuatu</td>\n",
       "      <td>2021-10-28</td>\n",
       "      <td>5.0</td>\n",
       "    </tr>\n",
       "    <tr>\n",
       "      <th>11891</th>\n",
       "      <td>Vanuatu</td>\n",
       "      <td>2021-10-29</td>\n",
       "      <td>5.0</td>\n",
       "    </tr>\n",
       "    <tr>\n",
       "      <th>11892</th>\n",
       "      <td>Vanuatu</td>\n",
       "      <td>2021-10-30</td>\n",
       "      <td>5.0</td>\n",
       "    </tr>\n",
       "    <tr>\n",
       "      <th>11893</th>\n",
       "      <td>Vanuatu</td>\n",
       "      <td>2021-10-31</td>\n",
       "      <td>5.0</td>\n",
       "    </tr>\n",
       "    <tr>\n",
       "      <th>11894</th>\n",
       "      <td>Vanuatu</td>\n",
       "      <td>2021-11-01</td>\n",
       "      <td>5.0</td>\n",
       "    </tr>\n",
       "  </tbody>\n",
       "</table>\n",
       "<p>11895 rows × 3 columns</p>\n",
       "</div>"
      ],
      "text/plain": [
       "      location       date  cumulative sum\n",
       "0      Austria 2021-01-01          2096.0\n",
       "1      Austria 2021-01-02          3487.0\n",
       "2      Austria 2021-01-03          4953.0\n",
       "3      Austria 2021-01-04          6595.0\n",
       "4      Austria 2021-01-05          8906.0\n",
       "...        ...        ...             ...\n",
       "11890  Vanuatu 2021-10-28             5.0\n",
       "11891  Vanuatu 2021-10-29             5.0\n",
       "11892  Vanuatu 2021-10-30             5.0\n",
       "11893  Vanuatu 2021-10-31             5.0\n",
       "11894  Vanuatu 2021-11-01             5.0\n",
       "\n",
       "[11895 rows x 3 columns]"
      ]
     },
     "execution_count": 22,
     "metadata": {},
     "output_type": "execute_result"
    }
   ],
   "source": [
    "target = df.groupby(['location', 'date']).sum().groupby(level=0).cumsum()\n",
    "target.columns = ['cumulative sum']\n",
    "target = target.reset_index()\n",
    "target"
   ]
  },
  {
   "cell_type": "markdown",
   "id": "68f48f31",
   "metadata": {},
   "source": [
    "### 3.2 1에서 구한 데이터를 각 나라별로 acf값을 구하고(lag는 50개까지 구하고 첫번째 값을 제외하라) 국가를 기준으로 유클리디안 거리를 기준으로 클러스터링을 진행 후 계층적 군집 분석을 위해 덴드로그램 작성하라"
   ]
  },
  {
   "cell_type": "code",
   "execution_count": 24,
   "id": "62dcfd67",
   "metadata": {},
   "outputs": [
    {
     "data": {
      "image/png": "[encoded data removed]",
      "text/plain": [
       "<Figure size 1700x1000 with 1 Axes>"
      ]
     },
     "metadata": {},
     "output_type": "display_data"
    }
   ],
   "source": [
    "from scipy.spatial import distance\n",
    "import statsmodels.api as sm\n",
    "import numpy as np\n",
    "name =[]\n",
    "for lo in target.location.unique(): # 나라별로 for문 돌리기\n",
    "    \n",
    "    # ACF 계산\n",
    "    v = sm.tsa.stattools.acf(target[target.location==lo]['cumulative sum'], nlags=50, fft=False) \n",
    "    name.append([lo]+list(v[1:]))\n",
    "\n",
    "v = pd.DataFrame(name)\n",
    "\n",
    "import seaborn as sns\n",
    "import scipy\n",
    "import matplotlib.pyplot as plt\n",
    "from scipy.cluster.hierarchy import dendrogram, linkage\n",
    "\n",
    "data =v.set_index(0)\n",
    "label = np.array(data.index)\n",
    "\n",
    "datav = data.values\n",
    "\n",
    "fig = plt.figure(figsize=(17,10))\n",
    "\n",
    "ax3 = fig.add_subplot(1,1,1)\n",
    "dend3 = linkage(datav, method='average', metric='euclidean')\n",
    "cutoff = 0.3*max(dend3[:,2])\n",
    "dend_res3 = dendrogram(dend3, color_threshold=cutoff)\n",
    "ax3.set_xticklabels(label[dend_res3['leaves']], minor=False)\n",
    "\n",
    "plt.show()"
   ]
  },
  {
   "cell_type": "markdown",
   "id": "a094b199",
   "metadata": {},
   "source": [
    "## 4. 아래 이미지와 같은 학과별 학점 분포 인원수 표가 있다. 학과와 성적이 관계있는지를 검정하라\n",
    "### 4.1 귀무가설, 연구가설 세우기\n",
    "- 귀무가설: 학과와 성적은 서로 독립이다.\n",
    "- 대립가설: 학과와 성적은 서로 독립이 아니다.\n",
    "\n",
    "### 4.2 학과와 성적이 독립일 경우의 기댓값을 구하시오\n",
    "### 4.3 검정통계량 구하고 연구가설의 채택여부 작성 "
   ]
  },
  {
   "cell_type": "code",
   "execution_count": 32,
   "id": "8b39c3c7",
   "metadata": {},
   "outputs": [
    {
     "data": {
      "text/html": [
       "<div>\n",
       "<style scoped>\n",
       "    .dataframe tbody tr th:only-of-type {\n",
       "        vertical-align: middle;\n",
       "    }\n",
       "\n",
       "    .dataframe tbody tr th {\n",
       "        vertical-align: top;\n",
       "    }\n",
       "\n",
       "    .dataframe thead th {\n",
       "        text-align: right;\n",
       "    }\n",
       "</style>\n",
       "<table border=\"1\" class=\"dataframe\">\n",
       "  <thead>\n",
       "    <tr style=\"text-align: right;\">\n",
       "      <th></th>\n",
       "      <th>사회과학</th>\n",
       "      <th>자연과학</th>\n",
       "      <th>공학</th>\n",
       "    </tr>\n",
       "  </thead>\n",
       "  <tbody>\n",
       "    <tr>\n",
       "      <th>1.5~2.5</th>\n",
       "      <td>15</td>\n",
       "      <td>25</td>\n",
       "      <td>10</td>\n",
       "    </tr>\n",
       "    <tr>\n",
       "      <th>2.5~3.5</th>\n",
       "      <td>60</td>\n",
       "      <td>69</td>\n",
       "      <td>77</td>\n",
       "    </tr>\n",
       "    <tr>\n",
       "      <th>3.5~4.5</th>\n",
       "      <td>24</td>\n",
       "      <td>5</td>\n",
       "      <td>13</td>\n",
       "    </tr>\n",
       "  </tbody>\n",
       "</table>\n",
       "</div>"
      ],
      "text/plain": [
       "         사회과학  자연과학  공학\n",
       "1.5~2.5    15    25  10\n",
       "2.5~3.5    60    69  77\n",
       "3.5~4.5    24     5  13"
      ]
     },
     "execution_count": 32,
     "metadata": {},
     "output_type": "execute_result"
    }
   ],
   "source": [
    "tab = pd.DataFrame({'사회과학': [15, 60, 24], '자연과학': [25, 69, 5], '공학': [10, 77, 13]},\n",
    "                  index= ['1.5~2.5', '2.5~3.5', '3.5~4.5'])\n",
    "tab"
   ]
  },
  {
   "cell_type": "code",
   "execution_count": 34,
   "id": "d68815fd",
   "metadata": {},
   "outputs": [
    {
     "name": "stdout",
     "output_type": "stream",
     "text": [
      "p-value:  0.00018822647762421383\n",
      "기댓값:  [[16.61073826 16.61073826 16.77852349]\n",
      " [68.43624161 68.43624161 69.12751678]\n",
      " [13.95302013 13.95302013 14.09395973]]\n"
     ]
    }
   ],
   "source": [
    "from scipy.stats import chi2_contingency\n",
    "chi, p, df, expect = chi2_contingency(tab)\n",
    "print('p-value: ', p) # 독립이 아님\n",
    "print('기댓값: ', expect)"
   ]
  },
  {
   "cell_type": "code",
   "execution_count": null,
   "id": "40fe0bad",
   "metadata": {},
   "outputs": [],
   "source": []
  }
 ],
 "metadata": {
  "kernelspec": {
   "display_name": "adp_code",
   "language": "python",
   "name": "adp_code"
  },
  "language_info": {
   "codemirror_mode": {
    "name": "ipython",
    "version": 3
   },
   "file_extension": ".py",
   "mimetype": "text/x-python",
   "name": "python",
   "nbconvert_exporter": "python",
   "pygments_lexer": "ipython3",
   "version": "3.7.16"
  }
 },
 "nbformat": 4,
 "nbformat_minor": 5
}
