{
 "cells": [
  {
   "cell_type": "markdown",
   "id": "b40da7ac",
   "metadata": {},
   "source": [
    "[출처](https://www.datamanim.com/dataset/ADPpb/00/22.html)  \n",
    "[참고](https://ysjang0926.github.io/data/2021/09/22/ADP-22-comments/)\n",
    "\n",
    "# 머신러닝\n",
    "## 1. 데이터 확인 및 전처리\n",
    "\n",
    "**데이터 설명**\n",
    "\n",
    "- 신체스펙\n",
    "\n",
    "    - Pregnancies\n",
    "\n",
    "    - Glucose\n",
    "\n",
    "    - BloodPressure\n",
    "\n",
    "    - SkinThickness\n",
    "\n",
    "    - Insulin\n",
    "\n",
    "    - BMI\n",
    "\n",
    "    - DiabetesPedigreeFunction\n",
    "\n",
    "    - Age\n",
    "\n",
    "- 발병유무(종속변수) : Outcome\n",
    "\n",
    "### 1.1 탐색적 데이터 분석 수행(시각화 포함)"
   ]
  },
  {
   "cell_type": "code",
   "execution_count": 1,
   "id": "2539604c",
   "metadata": {},
   "outputs": [
    {
     "data": {
      "text/html": [
       "<div>\n",
       "<style scoped>\n",
       "    .dataframe tbody tr th:only-of-type {\n",
       "        vertical-align: middle;\n",
       "    }\n",
       "\n",
       "    .dataframe tbody tr th {\n",
       "        vertical-align: top;\n",
       "    }\n",
       "\n",
       "    .dataframe thead th {\n",
       "        text-align: right;\n",
       "    }\n",
       "</style>\n",
       "<table border=\"1\" class=\"dataframe\">\n",
       "  <thead>\n",
       "    <tr style=\"text-align: right;\">\n",
       "      <th></th>\n",
       "      <th>Pregnancies</th>\n",
       "      <th>Glucose</th>\n",
       "      <th>BloodPressure</th>\n",
       "      <th>SkinThickness</th>\n",
       "      <th>Insulin</th>\n",
       "      <th>BMI</th>\n",
       "      <th>DiabetesPedigreeFunction</th>\n",
       "      <th>Age</th>\n",
       "      <th>Outcome</th>\n",
       "    </tr>\n",
       "  </thead>\n",
       "  <tbody>\n",
       "    <tr>\n",
       "      <th>0</th>\n",
       "      <td>6</td>\n",
       "      <td>148</td>\n",
       "      <td>72</td>\n",
       "      <td>35</td>\n",
       "      <td>0</td>\n",
       "      <td>33.6</td>\n",
       "      <td>0.627</td>\n",
       "      <td>50</td>\n",
       "      <td>1</td>\n",
       "    </tr>\n",
       "    <tr>\n",
       "      <th>1</th>\n",
       "      <td>1</td>\n",
       "      <td>85</td>\n",
       "      <td>66</td>\n",
       "      <td>29</td>\n",
       "      <td>0</td>\n",
       "      <td>26.6</td>\n",
       "      <td>0.351</td>\n",
       "      <td>31</td>\n",
       "      <td>0</td>\n",
       "    </tr>\n",
       "    <tr>\n",
       "      <th>2</th>\n",
       "      <td>8</td>\n",
       "      <td>183</td>\n",
       "      <td>64</td>\n",
       "      <td>0</td>\n",
       "      <td>0</td>\n",
       "      <td>23.3</td>\n",
       "      <td>0.672</td>\n",
       "      <td>32</td>\n",
       "      <td>1</td>\n",
       "    </tr>\n",
       "    <tr>\n",
       "      <th>3</th>\n",
       "      <td>1</td>\n",
       "      <td>89</td>\n",
       "      <td>66</td>\n",
       "      <td>23</td>\n",
       "      <td>94</td>\n",
       "      <td>28.1</td>\n",
       "      <td>0.167</td>\n",
       "      <td>21</td>\n",
       "      <td>0</td>\n",
       "    </tr>\n",
       "    <tr>\n",
       "      <th>4</th>\n",
       "      <td>0</td>\n",
       "      <td>137</td>\n",
       "      <td>40</td>\n",
       "      <td>35</td>\n",
       "      <td>168</td>\n",
       "      <td>43.1</td>\n",
       "      <td>2.288</td>\n",
       "      <td>33</td>\n",
       "      <td>1</td>\n",
       "    </tr>\n",
       "  </tbody>\n",
       "</table>\n",
       "</div>"
      ],
      "text/plain": [
       "   Pregnancies  Glucose  BloodPressure  SkinThickness  Insulin   BMI  \\\n",
       "0            6      148             72             35        0  33.6   \n",
       "1            1       85             66             29        0  26.6   \n",
       "2            8      183             64              0        0  23.3   \n",
       "3            1       89             66             23       94  28.1   \n",
       "4            0      137             40             35      168  43.1   \n",
       "\n",
       "   DiabetesPedigreeFunction  Age  Outcome  \n",
       "0                     0.627   50        1  \n",
       "1                     0.351   31        0  \n",
       "2                     0.672   32        1  \n",
       "3                     0.167   21        0  \n",
       "4                     2.288   33        1  "
      ]
     },
     "execution_count": 1,
     "metadata": {},
     "output_type": "execute_result"
    }
   ],
   "source": [
    "import pandas as pd\n",
    "import numpy as np\n",
    "import matplotlib.pyplot as plt\n",
    "import seaborn as sns\n",
    "import warnings\n",
    "warnings.filterwarnings('ignore')\n",
    "plt.rc('font', family='Malgun Gothic')\n",
    "plt.rcParams['axes.unicode_minus']=False\n",
    "\n",
    "df= pd.read_csv('https://raw.githubusercontent.com/Datamanim/datarepo/main/adp/22/data1.csv')\n",
    "df.head()"
   ]
  },
  {
   "cell_type": "code",
   "execution_count": 23,
   "id": "35bf478a",
   "metadata": {},
   "outputs": [
    {
     "name": "stdout",
     "output_type": "stream",
     "text": [
      "<class 'pandas.core.frame.DataFrame'>\n",
      "RangeIndex: 768 entries, 0 to 767\n",
      "Data columns (total 9 columns):\n",
      " #   Column                    Non-Null Count  Dtype  \n",
      "---  ------                    --------------  -----  \n",
      " 0   Pregnancies               768 non-null    int64  \n",
      " 1   Glucose                   768 non-null    int64  \n",
      " 2   BloodPressure             768 non-null    int64  \n",
      " 3   SkinThickness             768 non-null    int64  \n",
      " 4   Insulin                   768 non-null    int64  \n",
      " 5   BMI                       768 non-null    float64\n",
      " 6   DiabetesPedigreeFunction  768 non-null    float64\n",
      " 7   Age                       768 non-null    int64  \n",
      " 8   Outcome                   768 non-null    int64  \n",
      "dtypes: float64(2), int64(7)\n",
      "memory usage: 54.1 KB\n"
     ]
    }
   ],
   "source": [
    "df.info()"
   ]
  },
  {
   "cell_type": "code",
   "execution_count": 24,
   "id": "ce9552c5",
   "metadata": {},
   "outputs": [
    {
     "data": {
      "text/plain": [
       "Pregnancies                 0\n",
       "Glucose                     0\n",
       "BloodPressure               0\n",
       "SkinThickness               0\n",
       "Insulin                     0\n",
       "BMI                         0\n",
       "DiabetesPedigreeFunction    0\n",
       "Age                         0\n",
       "Outcome                     0\n",
       "dtype: int64"
      ]
     },
     "execution_count": 24,
     "metadata": {},
     "output_type": "execute_result"
    }
   ],
   "source": [
    "# 결측치 개수\n",
    "df.isna().sum()"
   ]
  },
  {
   "cell_type": "code",
   "execution_count": 25,
   "id": "e46c46bb",
   "metadata": {},
   "outputs": [
    {
     "data": {
      "text/plain": [
       "0"
      ]
     },
     "execution_count": 25,
     "metadata": {},
     "output_type": "execute_result"
    }
   ],
   "source": [
    "# 중복행 개수\n",
    "df.duplicated().sum()"
   ]
  },
  {
   "cell_type": "code",
   "execution_count": 26,
   "id": "ca9af88d",
   "metadata": {},
   "outputs": [
    {
     "data": {
      "image/png": "[encoded data removed]",
      "text/plain": [
       "<Figure size 600x400 with 9 Axes>"
      ]
     },
     "metadata": {},
     "output_type": "display_data"
    }
   ],
   "source": [
    "# 변수 분포 시각화\n",
    "df.hist(figsize=(6,4))\n",
    "plt.tight_layout()\n",
    "plt.show()"
   ]
  },
  {
   "cell_type": "code",
   "execution_count": 27,
   "id": "62fd6d24",
   "metadata": {},
   "outputs": [
    {
     "data": {
      "text/plain": [
       "0    500\n",
       "1    268\n",
       "Name: Outcome, dtype: int64"
      ]
     },
     "execution_count": 27,
     "metadata": {},
     "output_type": "execute_result"
    }
   ],
   "source": [
    "df.Outcome.value_counts()"
   ]
  },
  {
   "cell_type": "code",
   "execution_count": 15,
   "id": "3e6e057a",
   "metadata": {},
   "outputs": [
    {
     "data": {
      "image/png": "[encoded data removed]",
      "text/plain": [
       "<Figure size 500x400 with 2 Axes>"
      ]
     },
     "metadata": {},
     "output_type": "display_data"
    }
   ],
   "source": [
    "df_corr = df.corr()\n",
    "plt.figure(figsize=(5,4))\n",
    "sns.heatmap(df_corr, cmap='viridis', annot=True, linewidth=0.4, vmax=1, vmin=-1, fmt='.2f')\n",
    "plt.show()"
   ]
  },
  {
   "cell_type": "markdown",
   "id": "eb6046af",
   "metadata": {},
   "source": [
    "[해석]\n",
    "1. 결측치 존재 여부\n",
    "    - 모든 컬럼에서 결측치가 존재하지 않는다.\n",
    "1. 데이터 타입\n",
    "    - 종속변수는 int형, 나머지 독립변수는 int형, float형으로 구성되어 있다.\n",
    "1. 종속변수와 독립변수의 상관관계\n",
    "    - 종속변수 Outcome와의 상관계수를 확인해 보았을 때, 큰 상관성이 없었다.\n",
    "1. 독립변수 간 상관관계\n",
    "    - 다중공선성을 의심할만큼 독립변수들끼리의 상관성이 큰 변수는 보이지 않았다.\n",
    "1. 종속변수 분포\n",
    "    - Outcome 컬럼은 0 또는 1로 이루어진 이진 변수로 분포를 확인한 결과, 0 값이 500개, 1 값이 268개로 데이터 불균형이 의심된다.\n",
    "    - 따라서 오버 샘플링 또는 언더 샘플링 기법을 이용해서 데이터 불균형 문제를 해결해야 할 것이다."
   ]
  },
  {
   "cell_type": "markdown",
   "id": "da4fa0c1",
   "metadata": {},
   "source": [
    "### 1.2 이상치 처리(이상값 대체방안 제시)\n",
    "- 이상치 확인을 위해 독립변수들의 상자그림을 시각화한 결과, BloodPressure, BMI, Age 세 변수에서 이상치를 확인하였다.\n",
    "    - 각각 9999, 9999.0, 999 값으로 확인하였다.\n",
    "- Insulin 변수도 이상치가 존재하였지만, 위 세 가지 변수처럼 동떨어진 값이 아닌 연속적으로 발생한 값들이기에 이상치가 아니라고 판단하였다.\n",
    "- 연속형 변수의 이상치 처리 방법은 평균, 중앙값 등의 값으로 대체하는 방식이 있는데, 본 분석에서는 평균으로 대체하였다."
   ]
  },
  {
   "cell_type": "code",
   "execution_count": 28,
   "id": "3dc68416",
   "metadata": {},
   "outputs": [
    {
     "data": {
      "image/png": "[encoded data removed]",
      "text/plain": [
       "<Figure size 1000x300 with 1 Axes>"
      ]
     },
     "metadata": {},
     "output_type": "display_data"
    }
   ],
   "source": [
    "# 독립변수 상자그림\n",
    "melt_df = pd.melt(df.drop('Outcome', axis=1), var_name='col', value_name='value')\n",
    "plt.figure(figsize=(10, 3))\n",
    "sns.boxplot(x='col', y='value', data=melt_df)\n",
    "plt.show()"
   ]
  },
  {
   "cell_type": "code",
   "execution_count": 32,
   "id": "9804f140",
   "metadata": {},
   "outputs": [
    {
     "data": {
      "text/html": [
       "<div>\n",
       "<style scoped>\n",
       "    .dataframe tbody tr th:only-of-type {\n",
       "        vertical-align: middle;\n",
       "    }\n",
       "\n",
       "    .dataframe tbody tr th {\n",
       "        vertical-align: top;\n",
       "    }\n",
       "\n",
       "    .dataframe thead th {\n",
       "        text-align: right;\n",
       "    }\n",
       "</style>\n",
       "<table border=\"1\" class=\"dataframe\">\n",
       "  <thead>\n",
       "    <tr style=\"text-align: right;\">\n",
       "      <th></th>\n",
       "      <th>Pregnancies</th>\n",
       "      <th>Glucose</th>\n",
       "      <th>BloodPressure</th>\n",
       "      <th>SkinThickness</th>\n",
       "      <th>Insulin</th>\n",
       "      <th>BMI</th>\n",
       "      <th>DiabetesPedigreeFunction</th>\n",
       "      <th>Age</th>\n",
       "      <th>Outcome</th>\n",
       "    </tr>\n",
       "  </thead>\n",
       "  <tbody>\n",
       "    <tr>\n",
       "      <th>691</th>\n",
       "      <td>13</td>\n",
       "      <td>158</td>\n",
       "      <td>9999</td>\n",
       "      <td>0</td>\n",
       "      <td>0</td>\n",
       "      <td>42.3</td>\n",
       "      <td>0.257</td>\n",
       "      <td>44</td>\n",
       "      <td>1</td>\n",
       "    </tr>\n",
       "    <tr>\n",
       "      <th>106</th>\n",
       "      <td>1</td>\n",
       "      <td>96</td>\n",
       "      <td>122</td>\n",
       "      <td>0</td>\n",
       "      <td>0</td>\n",
       "      <td>22.4</td>\n",
       "      <td>0.207</td>\n",
       "      <td>27</td>\n",
       "      <td>0</td>\n",
       "    </tr>\n",
       "    <tr>\n",
       "      <th>43</th>\n",
       "      <td>9</td>\n",
       "      <td>171</td>\n",
       "      <td>110</td>\n",
       "      <td>24</td>\n",
       "      <td>240</td>\n",
       "      <td>45.4</td>\n",
       "      <td>0.721</td>\n",
       "      <td>54</td>\n",
       "      <td>1</td>\n",
       "    </tr>\n",
       "  </tbody>\n",
       "</table>\n",
       "</div>"
      ],
      "text/plain": [
       "     Pregnancies  Glucose  BloodPressure  SkinThickness  Insulin   BMI  \\\n",
       "691           13      158           9999              0        0  42.3   \n",
       "106            1       96            122              0        0  22.4   \n",
       "43             9      171            110             24      240  45.4   \n",
       "\n",
       "     DiabetesPedigreeFunction  Age  Outcome  \n",
       "691                     0.257   44        1  \n",
       "106                     0.207   27        0  \n",
       "43                      0.721   54        1  "
      ]
     },
     "execution_count": 32,
     "metadata": {},
     "output_type": "execute_result"
    }
   ],
   "source": [
    "df.sort_values('BloodPressure', ascending=False).head(3)"
   ]
  },
  {
   "cell_type": "code",
   "execution_count": 33,
   "id": "2c9b4571",
   "metadata": {},
   "outputs": [
    {
     "data": {
      "text/html": [
       "<div>\n",
       "<style scoped>\n",
       "    .dataframe tbody tr th:only-of-type {\n",
       "        vertical-align: middle;\n",
       "    }\n",
       "\n",
       "    .dataframe tbody tr th {\n",
       "        vertical-align: top;\n",
       "    }\n",
       "\n",
       "    .dataframe thead th {\n",
       "        text-align: right;\n",
       "    }\n",
       "</style>\n",
       "<table border=\"1\" class=\"dataframe\">\n",
       "  <thead>\n",
       "    <tr style=\"text-align: right;\">\n",
       "      <th></th>\n",
       "      <th>Pregnancies</th>\n",
       "      <th>Glucose</th>\n",
       "      <th>BloodPressure</th>\n",
       "      <th>SkinThickness</th>\n",
       "      <th>Insulin</th>\n",
       "      <th>BMI</th>\n",
       "      <th>DiabetesPedigreeFunction</th>\n",
       "      <th>Age</th>\n",
       "      <th>Outcome</th>\n",
       "    </tr>\n",
       "  </thead>\n",
       "  <tbody>\n",
       "    <tr>\n",
       "      <th>445</th>\n",
       "      <td>0</td>\n",
       "      <td>180</td>\n",
       "      <td>78</td>\n",
       "      <td>63</td>\n",
       "      <td>14</td>\n",
       "      <td>9999.0</td>\n",
       "      <td>2.420</td>\n",
       "      <td>25</td>\n",
       "      <td>1</td>\n",
       "    </tr>\n",
       "    <tr>\n",
       "      <th>177</th>\n",
       "      <td>0</td>\n",
       "      <td>129</td>\n",
       "      <td>110</td>\n",
       "      <td>46</td>\n",
       "      <td>130</td>\n",
       "      <td>67.1</td>\n",
       "      <td>0.319</td>\n",
       "      <td>26</td>\n",
       "      <td>1</td>\n",
       "    </tr>\n",
       "    <tr>\n",
       "      <th>673</th>\n",
       "      <td>3</td>\n",
       "      <td>123</td>\n",
       "      <td>100</td>\n",
       "      <td>35</td>\n",
       "      <td>240</td>\n",
       "      <td>57.3</td>\n",
       "      <td>0.880</td>\n",
       "      <td>22</td>\n",
       "      <td>0</td>\n",
       "    </tr>\n",
       "  </tbody>\n",
       "</table>\n",
       "</div>"
      ],
      "text/plain": [
       "     Pregnancies  Glucose  BloodPressure  SkinThickness  Insulin     BMI  \\\n",
       "445            0      180             78             63       14  9999.0   \n",
       "177            0      129            110             46      130    67.1   \n",
       "673            3      123            100             35      240    57.3   \n",
       "\n",
       "     DiabetesPedigreeFunction  Age  Outcome  \n",
       "445                     2.420   25        1  \n",
       "177                     0.319   26        1  \n",
       "673                     0.880   22        0  "
      ]
     },
     "execution_count": 33,
     "metadata": {},
     "output_type": "execute_result"
    }
   ],
   "source": [
    "df.sort_values('BMI', ascending=False).head(3)"
   ]
  },
  {
   "cell_type": "code",
   "execution_count": 38,
   "id": "7cbe101f",
   "metadata": {},
   "outputs": [
    {
     "data": {
      "text/html": [
       "<div>\n",
       "<style scoped>\n",
       "    .dataframe tbody tr th:only-of-type {\n",
       "        vertical-align: middle;\n",
       "    }\n",
       "\n",
       "    .dataframe tbody tr th {\n",
       "        vertical-align: top;\n",
       "    }\n",
       "\n",
       "    .dataframe thead th {\n",
       "        text-align: right;\n",
       "    }\n",
       "</style>\n",
       "<table border=\"1\" class=\"dataframe\">\n",
       "  <thead>\n",
       "    <tr style=\"text-align: right;\">\n",
       "      <th></th>\n",
       "      <th>Pregnancies</th>\n",
       "      <th>Glucose</th>\n",
       "      <th>BloodPressure</th>\n",
       "      <th>SkinThickness</th>\n",
       "      <th>Insulin</th>\n",
       "      <th>BMI</th>\n",
       "      <th>DiabetesPedigreeFunction</th>\n",
       "      <th>Age</th>\n",
       "      <th>Outcome</th>\n",
       "    </tr>\n",
       "  </thead>\n",
       "  <tbody>\n",
       "    <tr>\n",
       "      <th>453</th>\n",
       "      <td>2</td>\n",
       "      <td>119</td>\n",
       "      <td>0</td>\n",
       "      <td>0</td>\n",
       "      <td>0</td>\n",
       "      <td>19.6</td>\n",
       "      <td>0.832</td>\n",
       "      <td>999</td>\n",
       "      <td>0</td>\n",
       "    </tr>\n",
       "    <tr>\n",
       "      <th>459</th>\n",
       "      <td>9</td>\n",
       "      <td>134</td>\n",
       "      <td>74</td>\n",
       "      <td>33</td>\n",
       "      <td>60</td>\n",
       "      <td>25.9</td>\n",
       "      <td>0.460</td>\n",
       "      <td>81</td>\n",
       "      <td>0</td>\n",
       "    </tr>\n",
       "    <tr>\n",
       "      <th>666</th>\n",
       "      <td>4</td>\n",
       "      <td>145</td>\n",
       "      <td>82</td>\n",
       "      <td>18</td>\n",
       "      <td>0</td>\n",
       "      <td>32.5</td>\n",
       "      <td>0.235</td>\n",
       "      <td>70</td>\n",
       "      <td>1</td>\n",
       "    </tr>\n",
       "  </tbody>\n",
       "</table>\n",
       "</div>"
      ],
      "text/plain": [
       "     Pregnancies  Glucose  BloodPressure  SkinThickness  Insulin   BMI  \\\n",
       "453            2      119              0              0        0  19.6   \n",
       "459            9      134             74             33       60  25.9   \n",
       "666            4      145             82             18        0  32.5   \n",
       "\n",
       "     DiabetesPedigreeFunction  Age  Outcome  \n",
       "453                     0.832  999        0  \n",
       "459                     0.460   81        0  \n",
       "666                     0.235   70        1  "
      ]
     },
     "execution_count": 38,
     "metadata": {},
     "output_type": "execute_result"
    }
   ],
   "source": [
    "df.sort_values('Age', ascending=False).head(3)"
   ]
  },
  {
   "cell_type": "code",
   "execution_count": 6,
   "id": "07dc765c",
   "metadata": {},
   "outputs": [],
   "source": [
    "# 평균으로 이상치 대체\n",
    "df.loc[df['BloodPressure']>=9999, 'BloodPressure'] = np.mean(df['BloodPressure'])\n",
    "df.loc[df['BMI']>=9999, 'BMI'] = np.mean(df['BMI'])\n",
    "df.loc[df['Age']>=999, 'Age'] = np.mean(df['Age'])"
   ]
  },
  {
   "cell_type": "markdown",
   "id": "edf3a9c8",
   "metadata": {},
   "source": [
    "### 1.3 앞선 두 단계에서 얻은 향후 분석시 고려사항 작성\n",
    "1. 종속변수에서 데이터 불균형 문제가 우려되므로 오버 샘플링이나 언더 샘플링을 통해 문제를 해결할 필요가 있을 것이다.\n",
    "1. 각 컬럼별로 값의 범위가 상이하기 때문에 스케일링 작업을 통해 모든 컬럼의 값의 범위를 같게 만들어야 할 것이다.\n",
    "1. 종속변수가 이진 변수이므로 회귀모델이 아닌 분류 모델을 사용해야 할 것이다."
   ]
  },
  {
   "cell_type": "markdown",
   "id": "20391ced",
   "metadata": {},
   "source": [
    "## 2 1번 문제 데이터 참고하여\n",
    "### 2.1 오버샘플링 과정 설명하고 결과 작성\n",
    "- 오버샘플링은 소수의 레이블을 지닌 데이터 세트를 다수 레이블을 지닌 데이터 세트의 수만큼 증식시켜 학습에 사용하기 위한 충분한 양과 비율의 데이터를 확보하는 기법이다. 데이터의 손실이 없어 일반적으로 언더 샘플링보다 성능이 유리하여 주로 사용된다.\n",
    "- 랜덤 오버 샘플링\n",
    "    - 소수 클래스에 속하는 데이터의 관측치를 복사하는 방식으로 데이터를 증식한다.\n",
    "    - 데이터를 단순 복사하는 방식이므로 기본의 데이터와 동일한 복제 데이터를 생성한다.\n",
    "    - 소수 클래스에 과적합이 발생할 가능성이 있다는 단점이 있지만, 사용 방법이 간단하다는 장점이 있다.\n",
    "- SMOTE\n",
    "    - 적은 데이터 세트에 있는 개별 데이터들의 k-최근접 이웃을 찾아, 해당 데이터와 k개 이웃들의 차이를 일정한 값으로 만들어 기존 데이터와 약간의 차이를 지닌 새로운 데이터를 생성하는 방식이다.\n",
    "    - 랜덤 샘플링 방식보다 처리 속도가 느리다는 단점이 있지만, 데이터를 단순히 동일하게 증식시키는 방식이 아니기 때문에, 과적합 문제를 예방할 수 있다."
   ]
  },
  {
   "cell_type": "code",
   "execution_count": 19,
   "id": "7146fc62",
   "metadata": {},
   "outputs": [
    {
     "name": "stdout",
     "output_type": "stream",
     "text": [
      "기존 타깃 분포\n",
      "0    500\n",
      "1    268\n",
      "Name: Outcome, dtype: int64\n",
      "----------\n",
      "SMOTE 타깃 분포\n",
      "1    500\n",
      "0    500\n",
      "dtype: int64\n"
     ]
    }
   ],
   "source": [
    "# 오버 샘플링\n",
    "from imblearn.over_sampling import SMOTE\n",
    "\n",
    "X = df.drop('Outcome', axis=1)\n",
    "y = df.Outcome\n",
    "\n",
    "smote = SMOTE()\n",
    "X_sm, y_sm = smote.fit_resample(X, y)\n",
    "print('기존 타깃 분포')\n",
    "print(df['Outcome'].value_counts())\n",
    "print('-'*10)\n",
    "print('SMOTE 타깃 분포')\n",
    "print(pd.Series(y_sm).value_counts())"
   ]
  },
  {
   "cell_type": "markdown",
   "id": "63c3f190",
   "metadata": {},
   "source": [
    "### 2.2 언더샘플링 과정 설명하고 결과 작성\n",
    "- 다수 클래스를 감소시켜 소수 클래스 개수에 맞추는 방식으로 대표적으로 random으로 다수의 클래스의 데이터를 선택하여 삭제하는 RandomUnderSampler, 서로 다른 클래스가 있을 때 서로 다른 클래스에 가장 가까운 데이터들이 토멕 링크로 묶여서 토멕 링크 중 다수 클래스의 데이터를 제거하는 Tomek link 방식이 있다."
   ]
  },
  {
   "cell_type": "code",
   "execution_count": 20,
   "id": "ca9b907b",
   "metadata": {},
   "outputs": [
    {
     "name": "stdout",
     "output_type": "stream",
     "text": [
      "기존 타깃 분포\n",
      "0    500\n",
      "1    268\n",
      "Name: Outcome, dtype: int64\n",
      "----------\n",
      "RandomUnderSampler 타깃 분포\n",
      "1    268\n",
      "0    268\n",
      "dtype: int64\n"
     ]
    }
   ],
   "source": [
    "# 언더 샘플링\n",
    "from imblearn.under_sampling import RandomUnderSampler\n",
    "\n",
    "rus = RandomUnderSampler()\n",
    "X_rus, y_rus = rus.fit_resample(X, y)\n",
    "print('기존 타깃 분포')\n",
    "print(df['Outcome'].value_counts())\n",
    "print('-'*10)\n",
    "print('RandomUnderSampler 타깃 분포')\n",
    "print(pd.Series(y_rus).value_counts())"
   ]
  },
  {
   "cell_type": "markdown",
   "id": "bf5c1d14",
   "metadata": {},
   "source": [
    "### 2.3 둘 중 하나를 선택하고 이유 설명\n",
    "- 본 분석은 오버 샘플링 방식(SMOTE)을 이용할 것이다.\n",
    "- 언더 샘플링은 데이터 소실로 인해 오버핑팅이 일어날 위험이 있기 때문이다."
   ]
  },
  {
   "cell_type": "markdown",
   "id": "b5beb543",
   "metadata": {},
   "source": [
    "## 3 2번 문제 데이터 참고하여\n",
    "\n",
    "### 3.1 최소 3개 이상 알고리즘 제시하고 정확도 측면의 모델 1개와 속도 측면의 모델 1개를 꼭 구현(총 2개 이상)\n",
    "속도 측면에서 로지스틱 회귀모델, 정확도 측면에서 서포트 벡터 머신, 기타로 xgboost 모델을 선정하였다."
   ]
  },
  {
   "cell_type": "code",
   "execution_count": 45,
   "id": "dfeb543b",
   "metadata": {},
   "outputs": [
    {
     "name": "stdout",
     "output_type": "stream",
     "text": [
      "(700, 8)\n",
      "(300, 8)\n",
      "(700,)\n",
      "(300,)\n"
     ]
    }
   ],
   "source": [
    "from sklearn.linear_model import LogisticRegression\n",
    "from sklearn.svm import SVC\n",
    "from xgboost import XGBClassifier\n",
    "from sklearn.metrics import accuracy_score\n",
    "import time\n",
    "\n",
    "# 모델 지정\n",
    "log = LogisticRegression(solver='liblinear')\n",
    "xgb = XGBClassifier()\n",
    "svc = SVC()\n",
    "\n",
    "# 데이터 분할\n",
    "from sklearn.model_selection import cross_val_score, train_test_split\n",
    "X_train, X_test, y_train, y_test = train_test_split(X_sm, y_sm, test_size=0.3, random_state=123, stratify=y_sm)\n",
    "print(X_train.shape)\n",
    "print(X_test.shape)\n",
    "print(y_train.shape)\n",
    "print(y_test.shape)"
   ]
  },
  {
   "cell_type": "code",
   "execution_count": 50,
   "id": "5e599204",
   "metadata": {},
   "outputs": [
    {
     "name": "stdout",
     "output_type": "stream",
     "text": [
      "소요시간:  0.00997186 sec\n",
      "모델 정확도: 0.7667\n"
     ]
    }
   ],
   "source": [
    "start = time.time()\n",
    "log.fit(X_train, y_train)\n",
    "end = time.time()\n",
    "log_pred = log.predict(X_test)\n",
    "print('<로지스틱 회귀모델>')\n",
    "print('소요시간: ', round(end-start, 8), 'sec')\n",
    "print('모델 정확도:', round(accuracy_score(y_test, log_pred), 4))"
   ]
  },
  {
   "cell_type": "code",
   "execution_count": 51,
   "id": "9b9593d4",
   "metadata": {},
   "outputs": [
    {
     "name": "stdout",
     "output_type": "stream",
     "text": [
      "[21:03:07] WARNING: D:\\Build\\xgboost\\xgboost-1.5.1.git\\src\\learner.cc:1115: Starting in XGBoost 1.3.0, the default evaluation metric used with the objective 'binary:logistic' was changed from 'error' to 'logloss'. Explicitly set eval_metric if you'd like to restore the old behavior.\n",
      "소요시간:  0.24342799 sec\n",
      "모델 정확도: 0.8067\n"
     ]
    }
   ],
   "source": [
    "start = time.time()\n",
    "xgb.fit(X_train, y_train)\n",
    "end = time.time()\n",
    "xgb_pred = xgb.predict(X_test)\n",
    "print('<XGBoost>')\n",
    "print('소요시간: ', round(end-start, 8), 'sec')\n",
    "print('모델 정확도:', round(accuracy_score(y_test, xgb_pred), 4))"
   ]
  },
  {
   "cell_type": "code",
   "execution_count": 52,
   "id": "77b67c40",
   "metadata": {},
   "outputs": [
    {
     "name": "stdout",
     "output_type": "stream",
     "text": [
      "소요시간:  0.02697349 sec\n",
      "모델 정확도: 0.7067\n"
     ]
    }
   ],
   "source": [
    "start = time.time()\n",
    "svc.fit(X_train, y_train)\n",
    "end = time.time()\n",
    "svc_pred = svc.predict(X_test)\n",
    "print('<SCV>')\n",
    "print('소요시간: ', round(end-start, 8), 'sec')\n",
    "print('모델 정확도:', round(accuracy_score(y_test, svc_pred), 4))"
   ]
  },
  {
   "cell_type": "markdown",
   "id": "b20d0ea9",
   "metadata": {},
   "source": [
    "### 3.2 모델 비교하고 결과 설명\n",
    "- 세 가지 모델의 성능을 정확도 기준으로 비교한 결과, 정확도가 가장 높은 모델은 XGBoost이었고, 속도 측면에서는 로지스틱 회귀모델이 가장 빠른 것으로 나타났다."
   ]
  },
  {
   "cell_type": "markdown",
   "id": "d1ca3986",
   "metadata": {},
   "source": [
    "### 3.3 속도 개선을 위한 차원 축소 설명하고 수행, 예측 성능과 속도 비교하고 결과 작성"
   ]
  },
  {
   "cell_type": "code",
   "execution_count": 67,
   "id": "f2d20db9",
   "metadata": {},
   "outputs": [
    {
     "name": "stdout",
     "output_type": "stream",
     "text": [
      "[0.25603962 0.22261443 0.13031951 0.11820133 0.09548193 0.07964007\n",
      " 0.05218437 0.04551875]\n",
      "0.8226568106500489\n"
     ]
    }
   ],
   "source": [
    "from sklearn.preprocessing import StandardScaler\n",
    "from sklearn.decomposition import PCA\n",
    "\n",
    "# 데이터 분할\n",
    "X_train, X_test, y_train, y_test = train_test_split(X, y, test_size=0.3, random_state=123, stratify=y)\n",
    "\n",
    "# 스케일링\n",
    "scaler = StandardScaler()\n",
    "X_train_sc = scaler.fit_transform(X_train)\n",
    "\n",
    "# 주성분 분석\n",
    "pca = PCA(n_components=8)\n",
    "pca_fit = pca.fit(X_train_sc)\n",
    "\n",
    "print(pca.explained_variance_ratio_)\n",
    "print(pca.explained_variance_ratio_[:5].sum())\n",
    "# plt.figure(figsize=(6,4))\n",
    "# plt.plot(pca.explained_variance_ratio_, 'o-');"
   ]
  },
  {
   "cell_type": "markdown",
   "id": "82733dca",
   "metadata": {},
   "source": [
    "[해석]\n",
    "- 해당 데이터에서 독립변수를 차원 축소시켜 적절한 주성분의 개수를 찾아보고자 하였다. 8개의 독립변수 대신에 5개 주성분까지 사용하면 전체 데이터의 82%를 설명할 수 있음을 파악하였다."
   ]
  },
  {
   "cell_type": "code",
   "execution_count": 68,
   "id": "52acc1d2",
   "metadata": {},
   "outputs": [],
   "source": [
    "# 데이터 분할\n",
    "X_train, X_test, y_train, y_test = train_test_split(X_sm, y_sm, test_size=0.3, random_state=123, stratify=y_sm)\n",
    "\n",
    "# 스케일링\n",
    "scaler = StandardScaler()\n",
    "X_train_sc = scaler.fit_transform(X_train)\n",
    "X_test_sc = scaler.transform(X_test)\n",
    "\n",
    "# 주성분 분석\n",
    "pca = PCA(n_components=5)\n",
    "X_train_pca = pca.fit_transform(X_train_sc)\n",
    "X_test_pca = pca.fit_transform(X_test_sc)"
   ]
  },
  {
   "cell_type": "code",
   "execution_count": 75,
   "id": "5e4c345d",
   "metadata": {},
   "outputs": [
    {
     "name": "stdout",
     "output_type": "stream",
     "text": [
      "<로지스틱 회귀모델>\n",
      "소요시간:  0.00199556 sec\n",
      "모델 정확도: 0.4433\n"
     ]
    }
   ],
   "source": [
    "start = time.time()\n",
    "log.fit(X_train_pca, y_train)\n",
    "end = time.time()\n",
    "log_pred = log.predict(X_test_pca)\n",
    "print('<로지스틱 회귀모델>')\n",
    "print('소요시간: ', round(end-start, 8), 'sec')\n",
    "print('모델 정확도:', round(accuracy_score(y_test, log_pred), 4))"
   ]
  },
  {
   "cell_type": "code",
   "execution_count": 81,
   "id": "530cf47a",
   "metadata": {},
   "outputs": [
    {
     "name": "stdout",
     "output_type": "stream",
     "text": [
      "[21:57:19] WARNING: D:\\Build\\xgboost\\xgboost-1.5.1.git\\src\\learner.cc:1115: Starting in XGBoost 1.3.0, the default evaluation metric used with the objective 'binary:logistic' was changed from 'error' to 'logloss'. Explicitly set eval_metric if you'd like to restore the old behavior.\n",
      "<XGBoost>\n",
      "소요시간:  0.2663157 sec\n",
      "모델 정확도: 0.4367\n"
     ]
    }
   ],
   "source": [
    "start = time.time()\n",
    "xgb.fit(X_train_pca, y_train)\n",
    "end = time.time()\n",
    "xgb_pred = xgb.predict(X_test_pca)\n",
    "print('<XGBoost>')\n",
    "print('소요시간: ', round(end-start, 8), 'sec')\n",
    "print('모델 정확도:', round(accuracy_score(y_test, xgb_pred), 4))"
   ]
  },
  {
   "cell_type": "code",
   "execution_count": 77,
   "id": "0b1bfb1c",
   "metadata": {},
   "outputs": [
    {
     "name": "stdout",
     "output_type": "stream",
     "text": [
      "<SCV>\n",
      "소요시간:  0.02493858 sec\n",
      "모델 정확도: 0.4467\n"
     ]
    }
   ],
   "source": [
    "start = time.time()\n",
    "svc.fit(X_train_pca, y_train)\n",
    "end = time.time()\n",
    "svc_pred = svc.predict(X_test_pca)\n",
    "print('<SCV>')\n",
    "print('소요시간: ', round(end-start, 8), 'sec')\n",
    "print('모델 정확도:', round(accuracy_score(y_test, svc_pred), 4))"
   ]
  },
  {
   "cell_type": "markdown",
   "id": "3823ed8b",
   "metadata": {},
   "source": [
    "[해석]\n",
    "- 예측 성능은 다소 떨어졌지만 속도는 차원 축소로 인해 더 빨라졌다. 향후에 데이터가 크게 늘어난다면 차원 축소를 통해 성능 및 속도 측면에서 더 유의미한 결과를 찾아낼 수 있을 것이다."
   ]
  },
  {
   "cell_type": "markdown",
   "id": "7b738202",
   "metadata": {},
   "source": [
    "# 통계분석\n",
    "## 4. 금속 성분 함유량 데이터(변수 1개) - 제품에 금속 재질 함유량의 분산이 1.3을 넘으면 불량이라고 보고 있는데 제조사별로 차이가 난다고 제보를 받았으며, 분산에 대해 검정을 수행하시오. (유의확률 0.05)\n",
    "\n",
    "### 4.1 연구가설과 귀무가설 작성\n",
    "- 귀무가설: 금속 재질 함유량의 분산이 1.3이다.\n",
    "- 대립가설: 금속 재질 함유량의 분산이 1.3이 아니다."
   ]
  },
  {
   "cell_type": "markdown",
   "id": "65930e7f",
   "metadata": {},
   "source": [
    "### 4.2 양측 검정 시행"
   ]
  },
  {
   "cell_type": "code",
   "execution_count": 6,
   "id": "863c5f42",
   "metadata": {},
   "outputs": [
    {
     "data": {
      "text/html": [
       "<div>\n",
       "<style scoped>\n",
       "    .dataframe tbody tr th:only-of-type {\n",
       "        vertical-align: middle;\n",
       "    }\n",
       "\n",
       "    .dataframe tbody tr th {\n",
       "        vertical-align: top;\n",
       "    }\n",
       "\n",
       "    .dataframe thead th {\n",
       "        text-align: right;\n",
       "    }\n",
       "</style>\n",
       "<table border=\"1\" class=\"dataframe\">\n",
       "  <thead>\n",
       "    <tr style=\"text-align: right;\">\n",
       "      <th></th>\n",
       "      <th>content</th>\n",
       "    </tr>\n",
       "  </thead>\n",
       "  <tbody>\n",
       "    <tr>\n",
       "      <th>0</th>\n",
       "      <td>97.995295</td>\n",
       "    </tr>\n",
       "    <tr>\n",
       "      <th>1</th>\n",
       "      <td>101.478315</td>\n",
       "    </tr>\n",
       "    <tr>\n",
       "      <th>2</th>\n",
       "      <td>102.284913</td>\n",
       "    </tr>\n",
       "    <tr>\n",
       "      <th>3</th>\n",
       "      <td>98.993634</td>\n",
       "    </tr>\n",
       "    <tr>\n",
       "      <th>4</th>\n",
       "      <td>104.635232</td>\n",
       "    </tr>\n",
       "  </tbody>\n",
       "</table>\n",
       "</div>"
      ],
      "text/plain": [
       "      content\n",
       "0   97.995295\n",
       "1  101.478315\n",
       "2  102.284913\n",
       "3   98.993634\n",
       "4  104.635232"
      ]
     },
     "metadata": {},
     "output_type": "display_data"
    },
    {
     "name": "stdout",
     "output_type": "stream",
     "text": [
      "(200, 1)\n"
     ]
    }
   ],
   "source": [
    "df= pd.read_csv('https://raw.githubusercontent.com/Datamanim/datarepo/main/adp/22/content.csv')\n",
    "display(df.head())\n",
    "print(df.shape)"
   ]
  },
  {
   "cell_type": "code",
   "execution_count": 51,
   "id": "08eae06e",
   "metadata": {},
   "outputs": [
    {
     "data": {
      "text/plain": [
       "ShapiroResult(statistic=0.9930017590522766, pvalue=0.4605061113834381)"
      ]
     },
     "execution_count": 51,
     "metadata": {},
     "output_type": "execute_result"
    }
   ],
   "source": [
    "# 정규성 검정\n",
    "## 정규성을 만족한다.\n",
    "stats.shapiro(df.content)"
   ]
  },
  {
   "cell_type": "code",
   "execution_count": 46,
   "id": "e4cea838",
   "metadata": {},
   "outputs": [],
   "source": [
    "# 정규분포의 모분산에 대한 검정\n",
    "def pvar_test(sample, var0, alpha=0.05):\n",
    "    u_var = np.var(sample, ddof=1)\n",
    "    n = len(sample)\n",
    "    rv = stats.chi2(df=n-1)\n",
    "    interval = rv.interval(1-alpha)\n",
    "\n",
    "    y = (n-1) * u_var / var0\n",
    "    if interval[0] <= y <= interval[1]:\n",
    "        print('귀무가설을 채택')\n",
    "    else:\n",
    "        print('귀무가설을 기각')\n",
    "\n",
    "    if y < rv.isf(0.5):\n",
    "        p = rv.cdf(y) * 2\n",
    "    else:\n",
    "        p = (1 - rv.cdf(y)) * 2\n",
    "    print(f'p값은 {p:.3f}')"
   ]
  },
  {
   "cell_type": "markdown",
   "id": "6c096971",
   "metadata": {},
   "source": [
    "### 4.3 검정통계량, 가설 채택 및 기각 여부"
   ]
  },
  {
   "cell_type": "code",
   "execution_count": 52,
   "id": "43e8344a",
   "metadata": {},
   "outputs": [
    {
     "data": {
      "text/plain": [
       "326.6508365405755"
      ]
     },
     "execution_count": 52,
     "metadata": {},
     "output_type": "execute_result"
    }
   ],
   "source": [
    "# 검정통계량\n",
    "n = len(ary)\n",
    "var0 = 1.3\n",
    "Q = (n - 1) * np.var(ary) / var0\n",
    "Q"
   ]
  },
  {
   "cell_type": "code",
   "execution_count": 67,
   "id": "02043d1d",
   "metadata": {},
   "outputs": [
    {
     "name": "stdout",
     "output_type": "stream",
     "text": [
      "귀무가설을 기각\n",
      "p값은 0.000\n"
     ]
    }
   ],
   "source": [
    "pvar_test(ary, 1.3)"
   ]
  },
  {
   "cell_type": "markdown",
   "id": "ab3aa952",
   "metadata": {},
   "source": [
    "## 5. Lot별 200개에 대한 불량 제품 수량 데이터(변수 2개 - lot번호, 불량제품수)\n",
    "\n",
    "### 5.1 불량률 관리도에 따라 관리중심선(CL : Center Line), 관리 상한선(UCL : Upper Control Limit), 하한선(LCL : Lower Control Limit) 구하기"
   ]
  },
  {
   "cell_type": "code",
   "execution_count": 70,
   "id": "a95d60ec",
   "metadata": {},
   "outputs": [
    {
     "data": {
      "text/html": [
       "<div>\n",
       "<style scoped>\n",
       "    .dataframe tbody tr th:only-of-type {\n",
       "        vertical-align: middle;\n",
       "    }\n",
       "\n",
       "    .dataframe tbody tr th {\n",
       "        vertical-align: top;\n",
       "    }\n",
       "\n",
       "    .dataframe thead th {\n",
       "        text-align: right;\n",
       "    }\n",
       "</style>\n",
       "<table border=\"1\" class=\"dataframe\">\n",
       "  <thead>\n",
       "    <tr style=\"text-align: right;\">\n",
       "      <th></th>\n",
       "      <th>iot_number</th>\n",
       "      <th>error_case_number</th>\n",
       "    </tr>\n",
       "  </thead>\n",
       "  <tbody>\n",
       "    <tr>\n",
       "      <th>0</th>\n",
       "      <td>1</td>\n",
       "      <td>4.5</td>\n",
       "    </tr>\n",
       "    <tr>\n",
       "      <th>1</th>\n",
       "      <td>2</td>\n",
       "      <td>2.5</td>\n",
       "    </tr>\n",
       "    <tr>\n",
       "      <th>2</th>\n",
       "      <td>3</td>\n",
       "      <td>2.0</td>\n",
       "    </tr>\n",
       "    <tr>\n",
       "      <th>3</th>\n",
       "      <td>4</td>\n",
       "      <td>3.0</td>\n",
       "    </tr>\n",
       "    <tr>\n",
       "      <th>4</th>\n",
       "      <td>5</td>\n",
       "      <td>0.5</td>\n",
       "    </tr>\n",
       "  </tbody>\n",
       "</table>\n",
       "</div>"
      ],
      "text/plain": [
       "   iot_number  error_case_number\n",
       "0           1                4.5\n",
       "1           2                2.5\n",
       "2           3                2.0\n",
       "3           4                3.0\n",
       "4           5                0.5"
      ]
     },
     "execution_count": 70,
     "metadata": {},
     "output_type": "execute_result"
    }
   ],
   "source": [
    "d= pd.read_csv('https://raw.githubusercontent.com/Datamanim/datarepo/main/adp/22/error.csv')\n",
    "d.head()"
   ]
  },
  {
   "cell_type": "code",
   "execution_count": 81,
   "id": "d8d93c40",
   "metadata": {},
   "outputs": [
    {
     "name": "stdout",
     "output_type": "stream",
     "text": [
      "cl : 0.42625 ucl : 1.6698072600772789 lcl : -0.8173072600772788\n"
     ]
    }
   ],
   "source": [
    "d['error_case_number'] = d['error_case_number']/200*100 # 불량률 계산\n",
    "\n",
    "mean =d['error_case_number'].mean()\n",
    "ucl = mean + d['error_case_number'].std()*3 # 관리 상한선\n",
    "lcl = mean - d['error_case_number'].std()*3 # 관리 하한선\n",
    "\n",
    "print('cl :', mean, 'ucl :', ucl, 'lcl :',lcl)"
   ]
  },
  {
   "cell_type": "markdown",
   "id": "691aa654",
   "metadata": {},
   "source": [
    "### 5.2 관리도 시각화"
   ]
  },
  {
   "cell_type": "code",
   "execution_count": 75,
   "id": "8286fc6b",
   "metadata": {},
   "outputs": [
    {
     "data": {
      "image/png": "[encoded data removed]",
      "text/plain": [
       "<Figure size 500x300 with 1 Axes>"
      ]
     },
     "metadata": {},
     "output_type": "display_data"
    }
   ],
   "source": [
    "plt.figure(figsize=(5,3))\n",
    "plt.plot(d['error_case_number'])\n",
    "plt.axhline(y=ucl, color='r', linestyle='--',label='Upper')\n",
    "plt.axhline(y=lcl, color='y', linestyle='--',label='Lower')\n",
    "plt.axhline(y=mean, color='b',label=\"Mean\")\n",
    "plt.legend()\n",
    "plt.ylabel('error ratio')\n",
    "plt.xlabel('iot id')\n",
    "plt.show()"
   ]
  },
  {
   "cell_type": "markdown",
   "id": "cd162ea4",
   "metadata": {},
   "source": [
    "## 6. 상품 a와 b가 있을 때 다음과 같은 구매 패턴이 있다고 한다. aa bb aaaa bbbb a b aa bb aa bbb aa bb a b 구매하는 패턴으로 보아 두 상품의 패턴이 임의적인지 확인하라\n",
    "\n",
    "### 6.1 연구가설과 귀무가설 작성\n",
    "- 귀무가설: 두 상품의 패턴이 임의적이다.\n",
    "- 대립가설: 두 상품의 패턴이 임의적이 아니다."
   ]
  },
  {
   "cell_type": "markdown",
   "id": "30af46ba",
   "metadata": {},
   "source": [
    "### 6.2 평균과 표준편차를 구하시오."
   ]
  },
  {
   "cell_type": "code",
   "execution_count": 77,
   "id": "647f1fb2",
   "metadata": {},
   "outputs": [
    {
     "name": "stdout",
     "output_type": "stream",
     "text": [
      "mean :  15.482758620689655 std :  2.6408030342821784\n"
     ]
    }
   ],
   "source": [
    "a = 14\n",
    "b = 15\n",
    "\n",
    "mean =2*a*b/(a+b) +1\n",
    "std = (2*a*b*(2*a*b-a-b)/(a+b)**2/(a+b-1))**0.5\n",
    "print('mean : ',mean,'std : ',std)"
   ]
  },
  {
   "cell_type": "markdown",
   "id": "9d1f90da",
   "metadata": {},
   "source": [
    "### 6.3 가설을 채택하시오.\n",
    "- p-value > 0.05 이므로 귀무가설을 채택할 수 있다. 따라서 두 상품의 패턴은 임의적이라고 할 수 있다."
   ]
  },
  {
   "cell_type": "code",
   "execution_count": 78,
   "id": "93a2b77a",
   "metadata": {},
   "outputs": [
    {
     "data": {
      "text/plain": [
       "(-0.3721438547031917, 0.7097857460625617)"
      ]
     },
     "execution_count": 78,
     "metadata": {},
     "output_type": "execute_result"
    }
   ],
   "source": [
    "from statsmodels.sandbox.stats.runs import runstest_1samp\n",
    "\n",
    "# 귀무가설 : 랜덤생성\n",
    "# 대립 : 랜덤생성이 아님\n",
    "# 데이터 이진 변환, 각 패턴들을 구분지을 필요없이 하나로 연결\n",
    "x = [1,1,0,0,1,1,1,1,0,0,0,0,1,0,1,1,0,0,1,1,0,0,0,1,1,0,0,1,0]\n",
    "runstest_1samp(x, cutoff='mean', correction=True)"
   ]
  },
  {
   "cell_type": "code",
   "execution_count": null,
   "id": "13b6030a",
   "metadata": {},
   "outputs": [],
   "source": []
  }
 ],
 "metadata": {
  "kernelspec": {
   "display_name": "adp_code",
   "language": "python",
   "name": "adp_code"
  },
  "language_info": {
   "codemirror_mode": {
    "name": "ipython",
    "version": 3
   },
   "file_extension": ".py",
   "mimetype": "text/x-python",
   "name": "python",
   "nbconvert_exporter": "python",
   "pygments_lexer": "ipython3",
   "version": "3.7.16"
  }
 },
 "nbformat": 4,
 "nbformat_minor": 5
}
