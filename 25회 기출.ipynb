{
 "cells": [
  {
   "cell_type": "markdown",
   "id": "9069030b",
   "metadata": {},
   "source": [
    "[출처](https://www.datamanim.com/dataset/ADPpb/00/27.html)  \n",
    "\n",
    "# 머신러닝\n",
    "## 1. 데이터 확인 및 전처리\n",
    "\n",
    "**데이터 설명**\n",
    "\n",
    "- InvoiceNo: Invoice number. Nominal, a 6-digit integral number uniquely assigned to each transaction. If this code starts with letter ‘c’, it indicates a cancellation.\n",
    "\n",
    "- StockCode: Product (item) code. Nominal, a 5-digit integral number uniquely assigned to each distinct product.\n",
    "\n",
    "- Description: Product (item) name. Nominal.\n",
    "\n",
    "- Quantity: The quantities of each product (item) per transaction. Numeric.\n",
    "\n",
    "- InvoiceDate: Invice Date and time. Numeric, the day and time when each transaction was generated.\n",
    "\n",
    "- UnitPrice: Unit price. Numeric, Product price per unit in sterling.\n",
    "\n",
    "- CustomerID: Customer number. Nominal, a 5-digit integral number uniquely assigned to each customer.\n",
    "\n",
    "- Country: Country name. Nominal, the name of the country where each customer resides.- "
   ]
  },
  {
   "cell_type": "code",
   "execution_count": 2,
   "id": "80480b23",
   "metadata": {},
   "outputs": [
    {
     "data": {
      "text/html": [
       "<div>\n",
       "<style scoped>\n",
       "    .dataframe tbody tr th:only-of-type {\n",
       "        vertical-align: middle;\n",
       "    }\n",
       "\n",
       "    .dataframe tbody tr th {\n",
       "        vertical-align: top;\n",
       "    }\n",
       "\n",
       "    .dataframe thead th {\n",
       "        text-align: right;\n",
       "    }\n",
       "</style>\n",
       "<table border=\"1\" class=\"dataframe\">\n",
       "  <thead>\n",
       "    <tr style=\"text-align: right;\">\n",
       "      <th></th>\n",
       "      <th>InvoiceNo</th>\n",
       "      <th>StockCode</th>\n",
       "      <th>Description</th>\n",
       "      <th>Quantity</th>\n",
       "      <th>InvoiceDate</th>\n",
       "      <th>UnitPrice</th>\n",
       "      <th>CustomerID</th>\n",
       "      <th>Country</th>\n",
       "    </tr>\n",
       "  </thead>\n",
       "  <tbody>\n",
       "    <tr>\n",
       "      <th>0</th>\n",
       "      <td>565857</td>\n",
       "      <td>84879</td>\n",
       "      <td>ASSORTED COLOUR BIRD ORNAMENT</td>\n",
       "      <td>16</td>\n",
       "      <td>9/7/2011 14:13</td>\n",
       "      <td>1.69</td>\n",
       "      <td>14911.0</td>\n",
       "      <td>EIRE</td>\n",
       "    </tr>\n",
       "    <tr>\n",
       "      <th>1</th>\n",
       "      <td>560452</td>\n",
       "      <td>22432</td>\n",
       "      <td>WATERING CAN PINK BUNNY</td>\n",
       "      <td>6</td>\n",
       "      <td>7/19/2011 9:51</td>\n",
       "      <td>1.95</td>\n",
       "      <td>12682.0</td>\n",
       "      <td>France</td>\n",
       "    </tr>\n",
       "    <tr>\n",
       "      <th>2</th>\n",
       "      <td>578509</td>\n",
       "      <td>22492</td>\n",
       "      <td>MINI PAINT SET VINTAGE</td>\n",
       "      <td>36</td>\n",
       "      <td>11/24/2011 13:17</td>\n",
       "      <td>0.65</td>\n",
       "      <td>12705.0</td>\n",
       "      <td>Germany</td>\n",
       "    </tr>\n",
       "    <tr>\n",
       "      <th>3</th>\n",
       "      <td>579345</td>\n",
       "      <td>22728</td>\n",
       "      <td>ALARM CLOCK BAKELIKE PINK</td>\n",
       "      <td>8</td>\n",
       "      <td>11/29/2011 11:46</td>\n",
       "      <td>3.75</td>\n",
       "      <td>12727.0</td>\n",
       "      <td>France</td>\n",
       "    </tr>\n",
       "    <tr>\n",
       "      <th>4</th>\n",
       "      <td>564039</td>\n",
       "      <td>21731</td>\n",
       "      <td>RED TOADSTOOL LED NIGHT LIGHT</td>\n",
       "      <td>12</td>\n",
       "      <td>8/22/2011 12:40</td>\n",
       "      <td>1.65</td>\n",
       "      <td>12645.0</td>\n",
       "      <td>Germany</td>\n",
       "    </tr>\n",
       "  </tbody>\n",
       "</table>\n",
       "</div>"
      ],
      "text/plain": [
       "  InvoiceNo StockCode                    Description  Quantity  \\\n",
       "0    565857     84879  ASSORTED COLOUR BIRD ORNAMENT        16   \n",
       "1    560452     22432        WATERING CAN PINK BUNNY         6   \n",
       "2    578509     22492        MINI PAINT SET VINTAGE         36   \n",
       "3    579345     22728      ALARM CLOCK BAKELIKE PINK         8   \n",
       "4    564039     21731  RED TOADSTOOL LED NIGHT LIGHT        12   \n",
       "\n",
       "        InvoiceDate  UnitPrice  CustomerID  Country  \n",
       "0    9/7/2011 14:13       1.69     14911.0     EIRE  \n",
       "1    7/19/2011 9:51       1.95     12682.0   France  \n",
       "2  11/24/2011 13:17       0.65     12705.0  Germany  \n",
       "3  11/29/2011 11:46       3.75     12727.0   France  \n",
       "4   8/22/2011 12:40       1.65     12645.0  Germany  "
      ]
     },
     "execution_count": 2,
     "metadata": {},
     "output_type": "execute_result"
    }
   ],
   "source": [
    "import pandas as pd\n",
    "import numpy as np\n",
    "import seaborn as sns\n",
    "import matplotlib.pyplot as plt\n",
    "plt.rc('font', family='Malgun Gothic')\n",
    "plt.rcParams['axes.unicode_minus']=False\n",
    "\n",
    "df= pd.read_csv('https://raw.githubusercontent.com/Datamanim/datarepo/main/adp/25/problem1.csv')\n",
    "df.head()"
   ]
  },
  {
   "cell_type": "code",
   "execution_count": 3,
   "id": "80e1f2b3",
   "metadata": {},
   "outputs": [
    {
     "name": "stdout",
     "output_type": "stream",
     "text": [
      "<class 'pandas.core.frame.DataFrame'>\n",
      "RangeIndex: 41024 entries, 0 to 41023\n",
      "Data columns (total 8 columns):\n",
      " #   Column       Non-Null Count  Dtype  \n",
      "---  ------       --------------  -----  \n",
      " 0   InvoiceNo    41024 non-null  object \n",
      " 1   StockCode    41024 non-null  object \n",
      " 2   Description  41024 non-null  object \n",
      " 3   Quantity     41024 non-null  int64  \n",
      " 4   InvoiceDate  41024 non-null  object \n",
      " 5   UnitPrice    41024 non-null  float64\n",
      " 6   CustomerID   41024 non-null  float64\n",
      " 7   Country      41024 non-null  object \n",
      "dtypes: float64(2), int64(1), object(5)\n",
      "memory usage: 2.5+ MB\n"
     ]
    }
   ],
   "source": [
    "df.info()"
   ]
  },
  {
   "cell_type": "markdown",
   "id": "eab47013",
   "metadata": {},
   "source": [
    "### 1.1 F(소비자별 구매빈도), M(소비자별 총 구매액) feature를 새로 생성해서 그 결과값으로 탐색적 분석 실시"
   ]
  },
  {
   "cell_type": "code",
   "execution_count": 14,
   "id": "1c77ac51",
   "metadata": {},
   "outputs": [
    {
     "data": {
      "text/html": [
       "<div>\n",
       "<style scoped>\n",
       "    .dataframe tbody tr th:only-of-type {\n",
       "        vertical-align: middle;\n",
       "    }\n",
       "\n",
       "    .dataframe tbody tr th {\n",
       "        vertical-align: top;\n",
       "    }\n",
       "\n",
       "    .dataframe thead th {\n",
       "        text-align: right;\n",
       "    }\n",
       "</style>\n",
       "<table border=\"1\" class=\"dataframe\">\n",
       "  <thead>\n",
       "    <tr style=\"text-align: right;\">\n",
       "      <th></th>\n",
       "      <th>CustomerID</th>\n",
       "      <th>InvoiceNo</th>\n",
       "    </tr>\n",
       "  </thead>\n",
       "  <tbody>\n",
       "    <tr>\n",
       "      <th>0</th>\n",
       "      <td>12348.0</td>\n",
       "      <td>31</td>\n",
       "    </tr>\n",
       "    <tr>\n",
       "      <th>1</th>\n",
       "      <td>12349.0</td>\n",
       "      <td>73</td>\n",
       "    </tr>\n",
       "    <tr>\n",
       "      <th>2</th>\n",
       "      <td>12350.0</td>\n",
       "      <td>17</td>\n",
       "    </tr>\n",
       "    <tr>\n",
       "      <th>3</th>\n",
       "      <td>12352.0</td>\n",
       "      <td>95</td>\n",
       "    </tr>\n",
       "    <tr>\n",
       "      <th>4</th>\n",
       "      <td>12354.0</td>\n",
       "      <td>58</td>\n",
       "    </tr>\n",
       "    <tr>\n",
       "      <th>...</th>\n",
       "      <td>...</td>\n",
       "      <td>...</td>\n",
       "    </tr>\n",
       "    <tr>\n",
       "      <th>343</th>\n",
       "      <td>14935.0</td>\n",
       "      <td>10</td>\n",
       "    </tr>\n",
       "    <tr>\n",
       "      <th>344</th>\n",
       "      <td>14936.0</td>\n",
       "      <td>366</td>\n",
       "    </tr>\n",
       "    <tr>\n",
       "      <th>345</th>\n",
       "      <td>14937.0</td>\n",
       "      <td>35</td>\n",
       "    </tr>\n",
       "    <tr>\n",
       "      <th>346</th>\n",
       "      <td>16321.0</td>\n",
       "      <td>16</td>\n",
       "    </tr>\n",
       "    <tr>\n",
       "      <th>347</th>\n",
       "      <td>17097.0</td>\n",
       "      <td>213</td>\n",
       "    </tr>\n",
       "  </tbody>\n",
       "</table>\n",
       "<p>348 rows × 2 columns</p>\n",
       "</div>"
      ],
      "text/plain": [
       "     CustomerID  InvoiceNo\n",
       "0       12348.0         31\n",
       "1       12349.0         73\n",
       "2       12350.0         17\n",
       "3       12352.0         95\n",
       "4       12354.0         58\n",
       "..          ...        ...\n",
       "343     14935.0         10\n",
       "344     14936.0        366\n",
       "345     14937.0         35\n",
       "346     16321.0         16\n",
       "347     17097.0        213\n",
       "\n",
       "[348 rows x 2 columns]"
      ]
     },
     "execution_count": 14,
     "metadata": {},
     "output_type": "execute_result"
    }
   ],
   "source": [
    "# 소비자별 구매빈도 계산\n",
    "customer_fre = df.groupby('CustomerID', as_index = False).count()[['CustomerID', 'InvoiceNo']]\n",
    "customer_fre"
   ]
  },
  {
   "cell_type": "code",
   "execution_count": 20,
   "id": "218275be",
   "metadata": {},
   "outputs": [
    {
     "data": {
      "text/html": [
       "<div>\n",
       "<style scoped>\n",
       "    .dataframe tbody tr th:only-of-type {\n",
       "        vertical-align: middle;\n",
       "    }\n",
       "\n",
       "    .dataframe tbody tr th {\n",
       "        vertical-align: top;\n",
       "    }\n",
       "\n",
       "    .dataframe thead th {\n",
       "        text-align: right;\n",
       "    }\n",
       "</style>\n",
       "<table border=\"1\" class=\"dataframe\">\n",
       "  <thead>\n",
       "    <tr style=\"text-align: right;\">\n",
       "      <th></th>\n",
       "      <th>CustomerID</th>\n",
       "      <th>M</th>\n",
       "    </tr>\n",
       "  </thead>\n",
       "  <tbody>\n",
       "    <tr>\n",
       "      <th>0</th>\n",
       "      <td>12348.0</td>\n",
       "      <td>1797.24</td>\n",
       "    </tr>\n",
       "    <tr>\n",
       "      <th>1</th>\n",
       "      <td>12349.0</td>\n",
       "      <td>1757.55</td>\n",
       "    </tr>\n",
       "    <tr>\n",
       "      <th>2</th>\n",
       "      <td>12350.0</td>\n",
       "      <td>334.40</td>\n",
       "    </tr>\n",
       "    <tr>\n",
       "      <th>3</th>\n",
       "      <td>12352.0</td>\n",
       "      <td>1545.41</td>\n",
       "    </tr>\n",
       "    <tr>\n",
       "      <th>4</th>\n",
       "      <td>12354.0</td>\n",
       "      <td>1079.40</td>\n",
       "    </tr>\n",
       "    <tr>\n",
       "      <th>...</th>\n",
       "      <td>...</td>\n",
       "      <td>...</td>\n",
       "    </tr>\n",
       "    <tr>\n",
       "      <th>343</th>\n",
       "      <td>14935.0</td>\n",
       "      <td>1784.71</td>\n",
       "    </tr>\n",
       "    <tr>\n",
       "      <th>344</th>\n",
       "      <td>14936.0</td>\n",
       "      <td>8117.42</td>\n",
       "    </tr>\n",
       "    <tr>\n",
       "      <th>345</th>\n",
       "      <td>14937.0</td>\n",
       "      <td>1617.63</td>\n",
       "    </tr>\n",
       "    <tr>\n",
       "      <th>346</th>\n",
       "      <td>16321.0</td>\n",
       "      <td>230.70</td>\n",
       "    </tr>\n",
       "    <tr>\n",
       "      <th>347</th>\n",
       "      <td>17097.0</td>\n",
       "      <td>937.92</td>\n",
       "    </tr>\n",
       "  </tbody>\n",
       "</table>\n",
       "<p>348 rows × 2 columns</p>\n",
       "</div>"
      ],
      "text/plain": [
       "     CustomerID        M\n",
       "0       12348.0  1797.24\n",
       "1       12349.0  1757.55\n",
       "2       12350.0   334.40\n",
       "3       12352.0  1545.41\n",
       "4       12354.0  1079.40\n",
       "..          ...      ...\n",
       "343     14935.0  1784.71\n",
       "344     14936.0  8117.42\n",
       "345     14937.0  1617.63\n",
       "346     16321.0   230.70\n",
       "347     17097.0   937.92\n",
       "\n",
       "[348 rows x 2 columns]"
      ]
     },
     "execution_count": 20,
     "metadata": {},
     "output_type": "execute_result"
    }
   ],
   "source": [
    "# 소비자별 총 구매액 계산\n",
    "customer_price = df.copy()\n",
    "customer_price['M'] = customer_price['Quantity'] * customer_price['UnitPrice']\n",
    "customer_price = customer_price.groupby('CustomerID', as_index=False)[['M']].sum()\n",
    "customer_price"
   ]
  },
  {
   "cell_type": "code",
   "execution_count": 64,
   "id": "dd80e53a",
   "metadata": {},
   "outputs": [
    {
     "data": {
      "text/html": [
       "<div>\n",
       "<style scoped>\n",
       "    .dataframe tbody tr th:only-of-type {\n",
       "        vertical-align: middle;\n",
       "    }\n",
       "\n",
       "    .dataframe tbody tr th {\n",
       "        vertical-align: top;\n",
       "    }\n",
       "\n",
       "    .dataframe thead th {\n",
       "        text-align: right;\n",
       "    }\n",
       "</style>\n",
       "<table border=\"1\" class=\"dataframe\">\n",
       "  <thead>\n",
       "    <tr style=\"text-align: right;\">\n",
       "      <th></th>\n",
       "      <th>CustomerID</th>\n",
       "      <th>F</th>\n",
       "      <th>M</th>\n",
       "    </tr>\n",
       "  </thead>\n",
       "  <tbody>\n",
       "    <tr>\n",
       "      <th>0</th>\n",
       "      <td>12348.0</td>\n",
       "      <td>31</td>\n",
       "      <td>1797.24</td>\n",
       "    </tr>\n",
       "    <tr>\n",
       "      <th>1</th>\n",
       "      <td>12349.0</td>\n",
       "      <td>73</td>\n",
       "      <td>1757.55</td>\n",
       "    </tr>\n",
       "    <tr>\n",
       "      <th>2</th>\n",
       "      <td>12350.0</td>\n",
       "      <td>17</td>\n",
       "      <td>334.40</td>\n",
       "    </tr>\n",
       "    <tr>\n",
       "      <th>3</th>\n",
       "      <td>12352.0</td>\n",
       "      <td>95</td>\n",
       "      <td>1545.41</td>\n",
       "    </tr>\n",
       "    <tr>\n",
       "      <th>4</th>\n",
       "      <td>12354.0</td>\n",
       "      <td>58</td>\n",
       "      <td>1079.40</td>\n",
       "    </tr>\n",
       "    <tr>\n",
       "      <th>...</th>\n",
       "      <td>...</td>\n",
       "      <td>...</td>\n",
       "      <td>...</td>\n",
       "    </tr>\n",
       "    <tr>\n",
       "      <th>343</th>\n",
       "      <td>14935.0</td>\n",
       "      <td>10</td>\n",
       "      <td>1784.71</td>\n",
       "    </tr>\n",
       "    <tr>\n",
       "      <th>344</th>\n",
       "      <td>14936.0</td>\n",
       "      <td>366</td>\n",
       "      <td>8117.42</td>\n",
       "    </tr>\n",
       "    <tr>\n",
       "      <th>345</th>\n",
       "      <td>14937.0</td>\n",
       "      <td>35</td>\n",
       "      <td>1617.63</td>\n",
       "    </tr>\n",
       "    <tr>\n",
       "      <th>346</th>\n",
       "      <td>16321.0</td>\n",
       "      <td>16</td>\n",
       "      <td>230.70</td>\n",
       "    </tr>\n",
       "    <tr>\n",
       "      <th>347</th>\n",
       "      <td>17097.0</td>\n",
       "      <td>213</td>\n",
       "      <td>937.92</td>\n",
       "    </tr>\n",
       "  </tbody>\n",
       "</table>\n",
       "<p>348 rows × 3 columns</p>\n",
       "</div>"
      ],
      "text/plain": [
       "     CustomerID    F        M\n",
       "0       12348.0   31  1797.24\n",
       "1       12349.0   73  1757.55\n",
       "2       12350.0   17   334.40\n",
       "3       12352.0   95  1545.41\n",
       "4       12354.0   58  1079.40\n",
       "..          ...  ...      ...\n",
       "343     14935.0   10  1784.71\n",
       "344     14936.0  366  8117.42\n",
       "345     14937.0   35  1617.63\n",
       "346     16321.0   16   230.70\n",
       "347     17097.0  213   937.92\n",
       "\n",
       "[348 rows x 3 columns]"
      ]
     },
     "execution_count": 64,
     "metadata": {},
     "output_type": "execute_result"
    }
   ],
   "source": [
    "# 두 데이터 병합\n",
    "customer_df = customer_fre.merge(customer_price, on='CustomerID')\n",
    "customer_df.columns = ['CustomerID', 'F', 'M']\n",
    "customer_df"
   ]
  },
  {
   "cell_type": "code",
   "execution_count": 65,
   "id": "d2e0d9df",
   "metadata": {},
   "outputs": [
    {
     "data": {
      "text/html": [
       "<div>\n",
       "<style scoped>\n",
       "    .dataframe tbody tr th:only-of-type {\n",
       "        vertical-align: middle;\n",
       "    }\n",
       "\n",
       "    .dataframe tbody tr th {\n",
       "        vertical-align: top;\n",
       "    }\n",
       "\n",
       "    .dataframe thead th {\n",
       "        text-align: right;\n",
       "    }\n",
       "</style>\n",
       "<table border=\"1\" class=\"dataframe\">\n",
       "  <thead>\n",
       "    <tr style=\"text-align: right;\">\n",
       "      <th></th>\n",
       "      <th>CustomerID</th>\n",
       "      <th>F</th>\n",
       "      <th>M</th>\n",
       "    </tr>\n",
       "  </thead>\n",
       "  <tbody>\n",
       "    <tr>\n",
       "      <th>337</th>\n",
       "      <td>14911.0</td>\n",
       "      <td>5903</td>\n",
       "      <td>132572.62</td>\n",
       "    </tr>\n",
       "    <tr>\n",
       "      <th>336</th>\n",
       "      <td>14646.0</td>\n",
       "      <td>2085</td>\n",
       "      <td>279489.02</td>\n",
       "    </tr>\n",
       "    <tr>\n",
       "      <th>331</th>\n",
       "      <td>14156.0</td>\n",
       "      <td>1420</td>\n",
       "      <td>113384.14</td>\n",
       "    </tr>\n",
       "    <tr>\n",
       "      <th>40</th>\n",
       "      <td>12415.0</td>\n",
       "      <td>778</td>\n",
       "      <td>123725.45</td>\n",
       "    </tr>\n",
       "    <tr>\n",
       "      <th>243</th>\n",
       "      <td>12681.0</td>\n",
       "      <td>646</td>\n",
       "      <td>13677.59</td>\n",
       "    </tr>\n",
       "  </tbody>\n",
       "</table>\n",
       "</div>"
      ],
      "text/plain": [
       "     CustomerID     F          M\n",
       "337     14911.0  5903  132572.62\n",
       "336     14646.0  2085  279489.02\n",
       "331     14156.0  1420  113384.14\n",
       "40      12415.0   778  123725.45\n",
       "243     12681.0   646   13677.59"
      ]
     },
     "metadata": {},
     "output_type": "display_data"
    },
    {
     "data": {
      "text/html": [
       "<div>\n",
       "<style scoped>\n",
       "    .dataframe tbody tr th:only-of-type {\n",
       "        vertical-align: middle;\n",
       "    }\n",
       "\n",
       "    .dataframe tbody tr th {\n",
       "        vertical-align: top;\n",
       "    }\n",
       "\n",
       "    .dataframe thead th {\n",
       "        text-align: right;\n",
       "    }\n",
       "</style>\n",
       "<table border=\"1\" class=\"dataframe\">\n",
       "  <thead>\n",
       "    <tr style=\"text-align: right;\">\n",
       "      <th></th>\n",
       "      <th>CustomerID</th>\n",
       "      <th>F</th>\n",
       "      <th>M</th>\n",
       "    </tr>\n",
       "  </thead>\n",
       "  <tbody>\n",
       "    <tr>\n",
       "      <th>336</th>\n",
       "      <td>14646.0</td>\n",
       "      <td>2085</td>\n",
       "      <td>279489.02</td>\n",
       "    </tr>\n",
       "    <tr>\n",
       "      <th>337</th>\n",
       "      <td>14911.0</td>\n",
       "      <td>5903</td>\n",
       "      <td>132572.62</td>\n",
       "    </tr>\n",
       "    <tr>\n",
       "      <th>40</th>\n",
       "      <td>12415.0</td>\n",
       "      <td>778</td>\n",
       "      <td>123725.45</td>\n",
       "    </tr>\n",
       "    <tr>\n",
       "      <th>331</th>\n",
       "      <td>14156.0</td>\n",
       "      <td>1420</td>\n",
       "      <td>113384.14</td>\n",
       "    </tr>\n",
       "    <tr>\n",
       "      <th>281</th>\n",
       "      <td>12731.0</td>\n",
       "      <td>277</td>\n",
       "      <td>18793.41</td>\n",
       "    </tr>\n",
       "  </tbody>\n",
       "</table>\n",
       "</div>"
      ],
      "text/plain": [
       "     CustomerID     F          M\n",
       "336     14646.0  2085  279489.02\n",
       "337     14911.0  5903  132572.62\n",
       "40      12415.0   778  123725.45\n",
       "331     14156.0  1420  113384.14\n",
       "281     12731.0   277   18793.41"
      ]
     },
     "metadata": {},
     "output_type": "display_data"
    }
   ],
   "source": [
    "display(customer_df.sort_values(['F'], ascending=False).head(5))\n",
    "display(customer_df.sort_values(['M'], ascending=False).head(5))"
   ]
  },
  {
   "cell_type": "code",
   "execution_count": 66,
   "id": "7cfa7951",
   "metadata": {},
   "outputs": [
    {
     "data": {
      "text/html": [
       "<div>\n",
       "<style scoped>\n",
       "    .dataframe tbody tr th:only-of-type {\n",
       "        vertical-align: middle;\n",
       "    }\n",
       "\n",
       "    .dataframe tbody tr th {\n",
       "        vertical-align: top;\n",
       "    }\n",
       "\n",
       "    .dataframe thead th {\n",
       "        text-align: right;\n",
       "    }\n",
       "</style>\n",
       "<table border=\"1\" class=\"dataframe\">\n",
       "  <thead>\n",
       "    <tr style=\"text-align: right;\">\n",
       "      <th></th>\n",
       "      <th>CustomerID</th>\n",
       "      <th>F</th>\n",
       "      <th>M</th>\n",
       "    </tr>\n",
       "  </thead>\n",
       "  <tbody>\n",
       "    <tr>\n",
       "      <th>106</th>\n",
       "      <td>12505.0</td>\n",
       "      <td>1</td>\n",
       "      <td>-4.5</td>\n",
       "    </tr>\n",
       "    <tr>\n",
       "      <th>104</th>\n",
       "      <td>12503.0</td>\n",
       "      <td>1</td>\n",
       "      <td>-1126.0</td>\n",
       "    </tr>\n",
       "    <tr>\n",
       "      <th>304</th>\n",
       "      <td>12791.0</td>\n",
       "      <td>2</td>\n",
       "      <td>192.6</td>\n",
       "    </tr>\n",
       "    <tr>\n",
       "      <th>185</th>\n",
       "      <td>12603.0</td>\n",
       "      <td>3</td>\n",
       "      <td>739.2</td>\n",
       "    </tr>\n",
       "    <tr>\n",
       "      <th>187</th>\n",
       "      <td>12605.0</td>\n",
       "      <td>3</td>\n",
       "      <td>-7.5</td>\n",
       "    </tr>\n",
       "  </tbody>\n",
       "</table>\n",
       "</div>"
      ],
      "text/plain": [
       "     CustomerID  F       M\n",
       "106     12505.0  1    -4.5\n",
       "104     12503.0  1 -1126.0\n",
       "304     12791.0  2   192.6\n",
       "185     12603.0  3   739.2\n",
       "187     12605.0  3    -7.5"
      ]
     },
     "metadata": {},
     "output_type": "display_data"
    },
    {
     "data": {
      "text/html": [
       "<div>\n",
       "<style scoped>\n",
       "    .dataframe tbody tr th:only-of-type {\n",
       "        vertical-align: middle;\n",
       "    }\n",
       "\n",
       "    .dataframe tbody tr th {\n",
       "        vertical-align: top;\n",
       "    }\n",
       "\n",
       "    .dataframe thead th {\n",
       "        text-align: right;\n",
       "    }\n",
       "</style>\n",
       "<table border=\"1\" class=\"dataframe\">\n",
       "  <thead>\n",
       "    <tr style=\"text-align: right;\">\n",
       "      <th></th>\n",
       "      <th>CustomerID</th>\n",
       "      <th>F</th>\n",
       "      <th>M</th>\n",
       "    </tr>\n",
       "  </thead>\n",
       "  <tbody>\n",
       "    <tr>\n",
       "      <th>104</th>\n",
       "      <td>12503.0</td>\n",
       "      <td>1</td>\n",
       "      <td>-1.126000e+03</td>\n",
       "    </tr>\n",
       "    <tr>\n",
       "      <th>187</th>\n",
       "      <td>12605.0</td>\n",
       "      <td>3</td>\n",
       "      <td>-7.500000e+00</td>\n",
       "    </tr>\n",
       "    <tr>\n",
       "      <th>106</th>\n",
       "      <td>12505.0</td>\n",
       "      <td>1</td>\n",
       "      <td>-4.500000e+00</td>\n",
       "    </tr>\n",
       "    <tr>\n",
       "      <th>70</th>\n",
       "      <td>12454.0</td>\n",
       "      <td>30</td>\n",
       "      <td>2.557954e-13</td>\n",
       "    </tr>\n",
       "    <tr>\n",
       "      <th>232</th>\n",
       "      <td>12665.0</td>\n",
       "      <td>4</td>\n",
       "      <td>6.175000e+01</td>\n",
       "    </tr>\n",
       "  </tbody>\n",
       "</table>\n",
       "</div>"
      ],
      "text/plain": [
       "     CustomerID   F             M\n",
       "104     12503.0   1 -1.126000e+03\n",
       "187     12605.0   3 -7.500000e+00\n",
       "106     12505.0   1 -4.500000e+00\n",
       "70      12454.0  30  2.557954e-13\n",
       "232     12665.0   4  6.175000e+01"
      ]
     },
     "metadata": {},
     "output_type": "display_data"
    }
   ],
   "source": [
    "display(customer_df.sort_values(['F']).head(5))\n",
    "display(customer_df.sort_values(['M']).head(5))"
   ]
  },
  {
   "cell_type": "code",
   "execution_count": 50,
   "id": "7ada0a4a",
   "metadata": {},
   "outputs": [
    {
     "data": {
      "image/png": "[encoded data removed]",
      "text/plain": [
       "<Figure size 600x300 with 2 Axes>"
      ]
     },
     "metadata": {},
     "output_type": "display_data"
    }
   ],
   "source": [
    "fig, ax = plt.subplots(1, 2, figsize=(6,3))\n",
    "sns.violinplot(data=customer_df, y='F', ax=ax[0])\n",
    "sns.violinplot(data=customer_df, y='M', ax=ax[1])\n",
    "ax[0].set_title('소비자별 구매빈도 바이올린 플랏', fontsize=10)\n",
    "ax[1].set_title('소비자별 총 구매 금액 바이올린 플랏', fontsize=10)\n",
    "plt.tight_layout()\n",
    "plt.show()"
   ]
  },
  {
   "cell_type": "markdown",
   "id": "4c702137",
   "metadata": {},
   "source": [
    "[해석]\n",
    "- 소비자별 구매빈도가 가장 큰 CustomerID는 14911이고, 그 때 횟수는 5903회로 나타났음. 총 구매 금액은 132,572.62원임. \n",
    "- 반면에 구매빈도가 가장 작은 CustomerID는 12505와 12503인데, 이들의 총 구매 금액은 음수값으로 나타났음. 금액이 음수값이 나올 수 없으므로 전처리가 필요하다고 판단함.\n",
    "- 소비자별 구매 금액이 가장 큰 CustomerID는 14646이고, 그 때 금액 279,489.02원로 나타났음. 구매빈도는 2085회임. \n",
    "- 반면에 구매 금액이 가장 작은 CustomerID는 12503, 12605, 그리고 12505인데, 음수값으로 나타났음. 금액이 음수값이 나올 수 없으므로 전처리가 필요하다고 판단함. 또한 \n",
    "- 소비자별 구매빈도와 구매구매의 분포를 확인하기 위해 바이올린 플랏은 구현한 결과, 두 값이 비슷한 분포를 띄고 있음을 확인함."
   ]
  },
  {
   "cell_type": "markdown",
   "id": "32bc2f13",
   "metadata": {},
   "source": [
    "### 1.2 F, M feature 기반으로 군집분석 실시, 필요시 이상값 보정"
   ]
  },
  {
   "cell_type": "code",
   "execution_count": 67,
   "id": "64bc4219",
   "metadata": {},
   "outputs": [
    {
     "data": {
      "text/plain": [
       "Series([], Name: M, dtype: float64)"
      ]
     },
     "execution_count": 67,
     "metadata": {},
     "output_type": "execute_result"
    }
   ],
   "source": [
    "# 이상치를 중앙값으로 대체\n",
    "customer_df.loc[customer_df['M'] <= 1, 'M'] = np.median(customer_df['M'])\n",
    "customer_df.loc[customer_df['M'] <= 1, 'M']"
   ]
  },
  {
   "cell_type": "markdown",
   "id": "1ed2cfa4",
   "metadata": {},
   "source": [
    "[해석]\n",
    "- 앞서 확인한 구매금액이 음수이거나 1원이 안되는 CustomerID의 M 컬럼 값을 전체 데이터의 중앙값으로 대체하였음.\n",
    "- 이외에도 CustomerID의 구매빈도(F)별 평균값으로 대체하는 방법도 있음."
   ]
  },
  {
   "cell_type": "code",
   "execution_count": 71,
   "id": "dd4abcc9",
   "metadata": {},
   "outputs": [
    {
     "data": {
      "image/png": "[encoded data removed]",
      "text/plain": [
       "<Figure size 600x400 with 1 Axes>"
      ]
     },
     "metadata": {},
     "output_type": "display_data"
    },
    {
     "name": "stdout",
     "output_type": "stream",
     "text": [
      "[123045584742.0468, 21591791309.716984, 3277735038.8399935, 1297773885.175243, 717158978.5924046, 540080253.35581, 391933530.70207036, 319666066.70276433, 251785759.6899709, 188180136.12158006]\n"
     ]
    }
   ],
   "source": [
    "# 최적의 k값을 찾기 위한 엘보우 기법 구현\n",
    "from sklearn.cluster import KMeans\n",
    "def elbow(X):\n",
    "    sse=[]\n",
    "    for i in range(1,11):\n",
    "        km=KMeans(n_clusters=i, random_state=1)\n",
    "        km.fit(X)\n",
    "        sse.append(km.inertia_)\n",
    "        \n",
    "    plt.plot(range(1,11), sse, marker='o')\n",
    "    plt.xlabel('The Number of Cluster')\n",
    "    plt.ylabel('SSE')\n",
    "    plt.show()\n",
    "    print(sse)\n",
    "plt.figure(figsize=(6,4))\n",
    "elbow(customer_df)"
   ]
  },
  {
   "cell_type": "markdown",
   "id": "c93b7c94",
   "metadata": {},
   "source": [
    "[해석]\n",
    "- elbow 기법으로 최적의 k값을 확인한 결과, k값이 2에서 3으로 갈 때 기울기 소실이 발생하므로, 해당 데이터에서는 2~3개의 군집이 적당함을 알 수 있음.\n",
    "- 본 분석에서는 k = 3으로 하여 최종 군집분석을 수행함."
   ]
  },
  {
   "cell_type": "code",
   "execution_count": 70,
   "id": "354f983d",
   "metadata": {},
   "outputs": [
    {
     "data": {
      "text/html": [
       "<div>\n",
       "<style scoped>\n",
       "    .dataframe tbody tr th:only-of-type {\n",
       "        vertical-align: middle;\n",
       "    }\n",
       "\n",
       "    .dataframe tbody tr th {\n",
       "        vertical-align: top;\n",
       "    }\n",
       "\n",
       "    .dataframe thead th {\n",
       "        text-align: right;\n",
       "    }\n",
       "</style>\n",
       "<table border=\"1\" class=\"dataframe\">\n",
       "  <thead>\n",
       "    <tr style=\"text-align: right;\">\n",
       "      <th></th>\n",
       "      <th>CustomerID</th>\n",
       "      <th>F</th>\n",
       "      <th>M</th>\n",
       "    </tr>\n",
       "    <tr>\n",
       "      <th>cluster</th>\n",
       "      <th></th>\n",
       "      <th></th>\n",
       "      <th></th>\n",
       "    </tr>\n",
       "  </thead>\n",
       "  <tbody>\n",
       "    <tr>\n",
       "      <th>0</th>\n",
       "      <td>12722.130814</td>\n",
       "      <td>89.645349</td>\n",
       "      <td>2134.697238</td>\n",
       "    </tr>\n",
       "    <tr>\n",
       "      <th>1</th>\n",
       "      <td>13827.333333</td>\n",
       "      <td>2700.333333</td>\n",
       "      <td>123227.403333</td>\n",
       "    </tr>\n",
       "    <tr>\n",
       "      <th>2</th>\n",
       "      <td>14646.000000</td>\n",
       "      <td>2085.000000</td>\n",
       "      <td>279489.020000</td>\n",
       "    </tr>\n",
       "  </tbody>\n",
       "</table>\n",
       "</div>"
      ],
      "text/plain": [
       "           CustomerID            F              M\n",
       "cluster                                          \n",
       "0        12722.130814    89.645349    2134.697238\n",
       "1        13827.333333  2700.333333  123227.403333\n",
       "2        14646.000000  2085.000000  279489.020000"
      ]
     },
     "execution_count": 70,
     "metadata": {},
     "output_type": "execute_result"
    }
   ],
   "source": [
    "# 최적의 k로 K-Means 군집화 실행\n",
    "km=KMeans(n_clusters=3, random_state=1)\n",
    "km.fit(customer_df)\n",
    "\n",
    "# 할당된 군집을 customer_df 데이터에 추가\n",
    "new_labels = km.labels_\n",
    "customer_df['cluster'] = new_labels\n",
    "\n",
    "customer_df.groupby('cluster').mean()"
   ]
  },
  {
   "cell_type": "code",
   "execution_count": 74,
   "id": "3b924db4",
   "metadata": {},
   "outputs": [
    {
     "data": {
      "image/png": "[encoded data removed]",
      "text/plain": [
       "<Figure size 600x400 with 1 Axes>"
      ]
     },
     "metadata": {},
     "output_type": "display_data"
    }
   ],
   "source": [
    "plt.figure(figsize=(6, 4))\n",
    "sns.scatterplot(data=customer_df, x='F', y='M', hue='cluster')\n",
    "plt.show()"
   ]
  },
  {
   "cell_type": "markdown",
   "id": "c8b9328f",
   "metadata": {},
   "source": [
    "### 1.3 군집 결과의 적합성을 군집 내 응집도, 군집 간 분리도의 개념을 사용해서 서술\n",
    "**참고자료 / 파이썬 머신런이 완벽가이드 / p.442~449**"
   ]
  },
  {
   "cell_type": "markdown",
   "id": "368f29ff",
   "metadata": {},
   "source": [
    "[해석]\n",
    "- 군집화 평가 방법으로 실루엣 분석을 사용할 수 있음.\n",
    "- 실루엣 분석은 각 군집 간의 거리가 얼마나 효율적으로 분리돼 있는지를 나타내는데, 효율적으로 잘 분리됐다는 것은 다른 군집과의 거리는 떨어져 있고, 동일 군집끼리의 데이터는 서로 가깝게 잘 뭉쳐 있다는 의미임."
   ]
  },
  {
   "cell_type": "code",
   "execution_count": 78,
   "id": "baa2b2bd",
   "metadata": {},
   "outputs": [
    {
     "name": "stdout",
     "output_type": "stream",
     "text": [
      "Silhouette Analysis Score:0.974\n"
     ]
    },
    {
     "data": {
      "text/html": [
       "<div>\n",
       "<style scoped>\n",
       "    .dataframe tbody tr th:only-of-type {\n",
       "        vertical-align: middle;\n",
       "    }\n",
       "\n",
       "    .dataframe tbody tr th {\n",
       "        vertical-align: top;\n",
       "    }\n",
       "\n",
       "    .dataframe thead th {\n",
       "        text-align: right;\n",
       "    }\n",
       "</style>\n",
       "<table border=\"1\" class=\"dataframe\">\n",
       "  <thead>\n",
       "    <tr style=\"text-align: right;\">\n",
       "      <th></th>\n",
       "      <th>CustomerID</th>\n",
       "      <th>F</th>\n",
       "      <th>M</th>\n",
       "      <th>cluster</th>\n",
       "      <th>silhouette_coeff</th>\n",
       "    </tr>\n",
       "  </thead>\n",
       "  <tbody>\n",
       "    <tr>\n",
       "      <th>0</th>\n",
       "      <td>12348.0</td>\n",
       "      <td>31</td>\n",
       "      <td>1797.24</td>\n",
       "      <td>0</td>\n",
       "      <td>0.983989</td>\n",
       "    </tr>\n",
       "    <tr>\n",
       "      <th>1</th>\n",
       "      <td>12349.0</td>\n",
       "      <td>73</td>\n",
       "      <td>1757.55</td>\n",
       "      <td>0</td>\n",
       "      <td>0.984095</td>\n",
       "    </tr>\n",
       "    <tr>\n",
       "      <th>2</th>\n",
       "      <td>12350.0</td>\n",
       "      <td>17</td>\n",
       "      <td>334.40</td>\n",
       "      <td>0</td>\n",
       "      <td>0.983508</td>\n",
       "    </tr>\n",
       "  </tbody>\n",
       "</table>\n",
       "</div>"
      ],
      "text/plain": [
       "   CustomerID   F        M  cluster  silhouette_coeff\n",
       "0     12348.0  31  1797.24        0          0.983989\n",
       "1     12349.0  73  1757.55        0          0.984095\n",
       "2     12350.0  17   334.40        0          0.983508"
      ]
     },
     "execution_count": 78,
     "metadata": {},
     "output_type": "execute_result"
    }
   ],
   "source": [
    "from sklearn.metrics import silhouette_samples, silhouette_score\n",
    "\n",
    "# 모든 개별 데이터셋에 실루엣 계수 값을 구함.\n",
    "score_samples = silhouette_samples(customer_df, customer_df['cluster'])\n",
    "\n",
    "# customer_df에 실루엣 계수 컬럼 추가\n",
    "customer_df['silhouette_coeff'] = score_samples\n",
    "\n",
    "# 모든 데이터의 평균 실루엣 계수 값을 구함.\n",
    "average_score = silhouette_score(customer_df, customer_df.cluster)\n",
    "print('Silhouette Analysis Score:{0:.3f}'.format(average_score))\n",
    "customer_df.head(3)"
   ]
  },
  {
   "cell_type": "code",
   "execution_count": 79,
   "id": "7dc41dc7",
   "metadata": {},
   "outputs": [
    {
     "data": {
      "text/plain": [
       "cluster\n",
       "0    0.977193\n",
       "1    0.887297\n",
       "2    0.000000\n",
       "Name: silhouette_coeff, dtype: float64"
      ]
     },
     "execution_count": 79,
     "metadata": {},
     "output_type": "execute_result"
    }
   ],
   "source": [
    "customer_df.groupby('cluster')['silhouette_coeff'].mean()"
   ]
  },
  {
   "cell_type": "markdown",
   "id": "e6d6753f",
   "metadata": {},
   "source": [
    "[해석]\n",
    "- 평균 실루엣 계수는 약 0.974로 나왔음, 데이터의 맨 처음 3개 행은 0번 군집에 해당하고 개별 실루엣 계수 값이 약 0.98로 비슷함.\n",
    "- 하지만 군집별로 silhouette_coeff 컬럼의 평균을 비교한 결과, 0번 군집은 실루엣 계수 평균 값이 약 0.977인데 반해, 1번 군집은 약 0.887, 2번 군집은 0으로 나왔음.\n",
    "- 따라서 0, 1번 군집은 같은 군집 내의 데이터와 상대적으로 가깝게 군집되어 있고, 다른 군집에 있는 데이터와는 상대적으로 멀리 군집되어 있다고 할 수 있지만, 2번 군집은 그렇지 않다고 해석할 수 있음."
   ]
  },
  {
   "cell_type": "markdown",
   "id": "9e33a0db",
   "metadata": {},
   "source": [
    "### 1.4 적합된 군집 별 특성에 대한 의견과 비즈니스적 판단 제시\n",
    "[해석]\n",
    "- 앞서 확인한 결과처럼 전체 데이터의 평균 실루엣 계수 값이 높다고 해서 반드시 최적의 군집 개수로 군집화가 잘 됐다고 볼 수 없음. 특정 군집 내의 실루엣 계수 값만 너무 높고, 다른 군집은 내부 데이터끼리의 거리가 너무 떨어져 있어서 실루엣 계수 값이 낮아져도 평균적으로 높은 값을 가질 수 있음. 개별 군집별로 적당히 분리된 거리를 유지하면서도 군집 내의 데이터가 서로 뭉쳐있는 경우에 K-평균의 적절한 군집 개수가 잘 설정되었다고 판단할 수 있음.\n",
    "- 최적의 군집의 개수를 설정하기 위해서 앞서 진행한 이상치 처리 방안을 고려할 필요가 있을 것임. 예를 들어 본 분석에서는 음수에 해당하는 총 구매금액을 전체 데이터의 총 구매금액의 중앙값으로 대체했지만, 구매빈도(F)별 총 구매금액의 중앙값으로 이상치를 대체할 수 것임. \n",
    "    - 예들 들어 특정 CustomerID의 구매 횟수(F)가 3이고 이때 총 구매금액(M)이 -1(이상치)이라면, 구매 횟수(F)가 3인 모든 CustomerID의 총 구매금액(M)의 중앙값으로 대체하는 것임.\n",
    "- 실루엣 계수를 통한 K-평균 군집 평가 방식은 직관적으로 이해하기 쉽지만, 각 데이터별로 다른 데이터와의 거리를 반복적으로 계산해야 하므로 데이터 양이 늘어나면 수행 시간이 크게 늘어남. 특히 몇 만 건 이상의 데이터에 대해 사이킷런의 실루엣 계수 평가 API를 개인용 PC에서 수행한다면 메모리 부족 등의 에러가 발생할 수 있음. 이 경우 군집별로 임의의 데이터를 샘플링해 실루엣 계수를 평가하는 방안을 고려해야 함."
   ]
  },
  {
   "cell_type": "markdown",
   "id": "2dc00cac",
   "metadata": {},
   "source": [
    "## 2. 시계열분석\n",
    "\n",
    "### 2.1 EDA와 시각화를 진행하라"
   ]
  },
  {
   "cell_type": "code",
   "execution_count": 102,
   "id": "6b5eb086",
   "metadata": {},
   "outputs": [
    {
     "data": {
      "text/html": [
       "<div>\n",
       "<style scoped>\n",
       "    .dataframe tbody tr th:only-of-type {\n",
       "        vertical-align: middle;\n",
       "    }\n",
       "\n",
       "    .dataframe tbody tr th {\n",
       "        vertical-align: top;\n",
       "    }\n",
       "\n",
       "    .dataframe thead th {\n",
       "        text-align: right;\n",
       "    }\n",
       "</style>\n",
       "<table border=\"1\" class=\"dataframe\">\n",
       "  <thead>\n",
       "    <tr style=\"text-align: right;\">\n",
       "      <th></th>\n",
       "      <th>counts</th>\n",
       "    </tr>\n",
       "  </thead>\n",
       "  <tbody>\n",
       "    <tr>\n",
       "      <th>0</th>\n",
       "      <td>544.3</td>\n",
       "    </tr>\n",
       "    <tr>\n",
       "      <th>1</th>\n",
       "      <td>603.1</td>\n",
       "    </tr>\n",
       "    <tr>\n",
       "      <th>2</th>\n",
       "      <td>NaN</td>\n",
       "    </tr>\n",
       "    <tr>\n",
       "      <th>3</th>\n",
       "      <td>533.4</td>\n",
       "    </tr>\n",
       "    <tr>\n",
       "      <th>4</th>\n",
       "      <td>619.5</td>\n",
       "    </tr>\n",
       "  </tbody>\n",
       "</table>\n",
       "</div>"
      ],
      "text/plain": [
       "   counts\n",
       "0   544.3\n",
       "1   603.1\n",
       "2     NaN\n",
       "3   533.4\n",
       "4   619.5"
      ]
     },
     "metadata": {},
     "output_type": "display_data"
    },
    {
     "name": "stdout",
     "output_type": "stream",
     "text": [
      "(300, 1)\n"
     ]
    }
   ],
   "source": [
    "import pandas as pd\n",
    "\n",
    "df= pd.read_csv('https://raw.githubusercontent.com/Datamanim/datarepo/main/adp/25/problem2.csv',index_col = 0)\n",
    "display(df.head())\n",
    "print(df.shape)"
   ]
  },
  {
   "cell_type": "code",
   "execution_count": 84,
   "id": "e637c1b2",
   "metadata": {},
   "outputs": [
    {
     "name": "stdout",
     "output_type": "stream",
     "text": [
      "<class 'pandas.core.frame.DataFrame'>\n",
      "Int64Index: 300 entries, 0 to 299\n",
      "Data columns (total 1 columns):\n",
      " #   Column  Non-Null Count  Dtype  \n",
      "---  ------  --------------  -----  \n",
      " 0   counts  295 non-null    float64\n",
      "dtypes: float64(1)\n",
      "memory usage: 4.7 KB\n"
     ]
    }
   ],
   "source": [
    "df.info()"
   ]
  },
  {
   "cell_type": "code",
   "execution_count": 87,
   "id": "f9f5aca1",
   "metadata": {},
   "outputs": [
    {
     "data": {
      "text/html": [
       "<div>\n",
       "<style scoped>\n",
       "    .dataframe tbody tr th:only-of-type {\n",
       "        vertical-align: middle;\n",
       "    }\n",
       "\n",
       "    .dataframe tbody tr th {\n",
       "        vertical-align: top;\n",
       "    }\n",
       "\n",
       "    .dataframe thead th {\n",
       "        text-align: right;\n",
       "    }\n",
       "</style>\n",
       "<table border=\"1\" class=\"dataframe\">\n",
       "  <thead>\n",
       "    <tr style=\"text-align: right;\">\n",
       "      <th></th>\n",
       "      <th>counts</th>\n",
       "    </tr>\n",
       "  </thead>\n",
       "  <tbody>\n",
       "    <tr>\n",
       "      <th>count</th>\n",
       "      <td>295.000000</td>\n",
       "    </tr>\n",
       "    <tr>\n",
       "      <th>mean</th>\n",
       "      <td>498.678305</td>\n",
       "    </tr>\n",
       "    <tr>\n",
       "      <th>std</th>\n",
       "      <td>97.603920</td>\n",
       "    </tr>\n",
       "    <tr>\n",
       "      <th>min</th>\n",
       "      <td>239.400000</td>\n",
       "    </tr>\n",
       "    <tr>\n",
       "      <th>25%</th>\n",
       "      <td>432.600000</td>\n",
       "    </tr>\n",
       "    <tr>\n",
       "      <th>50%</th>\n",
       "      <td>499.800000</td>\n",
       "    </tr>\n",
       "    <tr>\n",
       "      <th>75%</th>\n",
       "      <td>565.550000</td>\n",
       "    </tr>\n",
       "    <tr>\n",
       "      <th>max</th>\n",
       "      <td>729.200000</td>\n",
       "    </tr>\n",
       "  </tbody>\n",
       "</table>\n",
       "</div>"
      ],
      "text/plain": [
       "           counts\n",
       "count  295.000000\n",
       "mean   498.678305\n",
       "std     97.603920\n",
       "min    239.400000\n",
       "25%    432.600000\n",
       "50%    499.800000\n",
       "75%    565.550000\n",
       "max    729.200000"
      ]
     },
     "execution_count": 87,
     "metadata": {},
     "output_type": "execute_result"
    }
   ],
   "source": [
    "df.describe()"
   ]
  },
  {
   "cell_type": "code",
   "execution_count": 103,
   "id": "d7414ace",
   "metadata": {},
   "outputs": [
    {
     "data": {
      "image/png": "[encoded data removed]",
      "text/plain": [
       "<Figure size 500x400 with 1 Axes>"
      ]
     },
     "metadata": {},
     "output_type": "display_data"
    }
   ],
   "source": [
    "plt.figure(figsize=(5,4))\n",
    "plt.hist(df);"
   ]
  },
  {
   "cell_type": "code",
   "execution_count": 91,
   "id": "8cd986d3",
   "metadata": {},
   "outputs": [
    {
     "data": {
      "text/plain": [
       "counts    5\n",
       "dtype: int64"
      ]
     },
     "execution_count": 91,
     "metadata": {},
     "output_type": "execute_result"
    }
   ],
   "source": [
    "df.isna().sum()"
   ]
  },
  {
   "cell_type": "markdown",
   "id": "6fbc8310",
   "metadata": {},
   "source": [
    "[해석]\n",
    "- 데이터는 하나의 컬럼으로 이루어져 있고, float 형으로 확인하였음. 또한 결측치 포함 총 300개의 행으로 구성됨.\n",
    "- 결측치는 총 5개이며, 추후 결측치를 대체하는 과정이 필요할 것임.\n",
    "- 데이터의 분포는 정규분포와 비슷하게 종 모양을 띄고 있음."
   ]
  },
  {
   "cell_type": "markdown",
   "id": "8420a9cd",
   "metadata": {},
   "source": [
    "### 2.2 결측치 처리와 해당 결측치 처리 방식에 대한 논리적 근거를 제시하라"
   ]
  },
  {
   "cell_type": "code",
   "execution_count": 101,
   "id": "c0adbf8a",
   "metadata": {},
   "outputs": [
    {
     "data": {
      "text/html": [
       "<div>\n",
       "<style scoped>\n",
       "    .dataframe tbody tr th:only-of-type {\n",
       "        vertical-align: middle;\n",
       "    }\n",
       "\n",
       "    .dataframe tbody tr th {\n",
       "        vertical-align: top;\n",
       "    }\n",
       "\n",
       "    .dataframe thead th {\n",
       "        text-align: right;\n",
       "    }\n",
       "</style>\n",
       "<table border=\"1\" class=\"dataframe\">\n",
       "  <thead>\n",
       "    <tr style=\"text-align: right;\">\n",
       "      <th></th>\n",
       "      <th>counts</th>\n",
       "    </tr>\n",
       "  </thead>\n",
       "  <tbody>\n",
       "    <tr>\n",
       "      <th>0</th>\n",
       "      <td>544.3</td>\n",
       "    </tr>\n",
       "    <tr>\n",
       "      <th>1</th>\n",
       "      <td>603.1</td>\n",
       "    </tr>\n",
       "    <tr>\n",
       "      <th>2</th>\n",
       "      <td>NaN</td>\n",
       "    </tr>\n",
       "    <tr>\n",
       "      <th>3</th>\n",
       "      <td>533.4</td>\n",
       "    </tr>\n",
       "    <tr>\n",
       "      <th>4</th>\n",
       "      <td>619.5</td>\n",
       "    </tr>\n",
       "    <tr>\n",
       "      <th>...</th>\n",
       "      <td>...</td>\n",
       "    </tr>\n",
       "    <tr>\n",
       "      <th>295</th>\n",
       "      <td>445.2</td>\n",
       "    </tr>\n",
       "    <tr>\n",
       "      <th>296</th>\n",
       "      <td>472.0</td>\n",
       "    </tr>\n",
       "    <tr>\n",
       "      <th>297</th>\n",
       "      <td>341.6</td>\n",
       "    </tr>\n",
       "    <tr>\n",
       "      <th>298</th>\n",
       "      <td>477.8</td>\n",
       "    </tr>\n",
       "    <tr>\n",
       "      <th>299</th>\n",
       "      <td>588.8</td>\n",
       "    </tr>\n",
       "  </tbody>\n",
       "</table>\n",
       "<p>300 rows × 1 columns</p>\n",
       "</div>"
      ],
      "text/plain": [
       "     counts\n",
       "0     544.3\n",
       "1     603.1\n",
       "2       NaN\n",
       "3     533.4\n",
       "4     619.5\n",
       "..      ...\n",
       "295   445.2\n",
       "296   472.0\n",
       "297   341.6\n",
       "298   477.8\n",
       "299   588.8\n",
       "\n",
       "[300 rows x 1 columns]"
      ]
     },
     "execution_count": 101,
     "metadata": {},
     "output_type": "execute_result"
    }
   ],
   "source": [
    "df"
   ]
  },
  {
   "cell_type": "code",
   "execution_count": null,
   "id": "60b51c08",
   "metadata": {},
   "outputs": [],
   "source": []
  },
  {
   "cell_type": "code",
   "execution_count": null,
   "id": "70710dc2",
   "metadata": {},
   "outputs": [],
   "source": []
  },
  {
   "cell_type": "code",
   "execution_count": null,
   "id": "1aeaabc4",
   "metadata": {},
   "outputs": [],
   "source": [
    "### 2.3 계절성을 반영한 시계열 모델을 제시하고 정확도 측면에서 모델 성능 평가 할 것\n",
    "\n",
    "### 2.4 분석 결과 활용 가능 여부에 대한 분석 전문가로서의 제안"
   ]
  }
 ],
 "metadata": {
  "kernelspec": {
   "display_name": "adp_code",
   "language": "python",
   "name": "adp_code"
  },
  "language_info": {
   "codemirror_mode": {
    "name": "ipython",
    "version": 3
   },
   "file_extension": ".py",
   "mimetype": "text/x-python",
   "name": "python",
   "nbconvert_exporter": "python",
   "pygments_lexer": "ipython3",
   "version": "3.7.16"
  }
 },
 "nbformat": 4,
 "nbformat_minor": 5
}
