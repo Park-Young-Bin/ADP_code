{
 "cells": [
  {
   "cell_type": "markdown",
   "id": "8d842423",
   "metadata": {},
   "source": [
    "[출처](https://www.datamanim.com/dataset/ADPpb/00/26.html)  \n",
    "\n",
    "# 머신러닝\n",
    "## 1. 데이터 확인 및 전처리\n",
    "\n",
    "### (1) EDA 데이터 탐색\n",
    "\n",
    "#### 1.1 결측치를 확인하고, 결측치 제거할 것\n",
    "\n",
    "#### 1.2 이상치 제거하는 방법을 설명하고, 이상치 제거하고 난 결과를 통계적으로 나타낼 것\n",
    "\n",
    "#### 1.3 전처리한 데이터로 Kmeans, DBSCAN 등 방법으로 군집을 생성할 것\n",
    "\n",
    "**데이터 설명**\n",
    "\n",
    "- InvoiceNo: Invoice number. Nominal, a 6-digit integral number uniquely assigned to each transaction. If this code starts with letter ‘c’, it indicates a cancellation.\n",
    "\n",
    "- StockCode: Product (item) code. Nominal, a 5-digit integral number uniquely assigned to each distinct product.\n",
    "\n",
    "- Description: Product (item) name. Nominal.\n",
    "\n",
    "- Quantity: The quantities of each product (item) per transaction. Numeric.\n",
    "\n",
    "- InvoiceDate: Invice Date and time. Numeric, the day and time when each transaction was generated.\n",
    "\n",
    "- UnitPrice: Unit price. Numeric, Product price per unit in sterling.\n",
    "\n",
    "- CustomerID: Customer number. Nominal, a 5-digit integral number uniquely assigned to each customer.\n",
    "\n",
    "- Country: Country name. Nominal, the name of the country where each customer resides."
   ]
  }
 ],
 "metadata": {
  "kernelspec": {
   "display_name": "adp_code",
   "language": "python",
   "name": "adp_code"
  },
  "language_info": {
   "codemirror_mode": {
    "name": "ipython",
    "version": 3
   },
   "file_extension": ".py",
   "mimetype": "text/x-python",
   "name": "python",
   "nbconvert_exporter": "python",
   "pygments_lexer": "ipython3",
   "version": "3.7.16"
  }
 },
 "nbformat": 4,
 "nbformat_minor": 5
}
