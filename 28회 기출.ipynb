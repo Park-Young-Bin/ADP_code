{
 "cells": [
  {
   "cell_type": "markdown",
   "id": "becfb245",
   "metadata": {},
   "source": [
    "[출처](https://www.datamanim.com/dataset/ADPpb/00/27.html)"
   ]
  },
  {
   "cell_type": "code",
   "execution_count": 1,
   "id": "48aef924",
   "metadata": {},
   "outputs": [],
   "source": [
    "import pandas as pd\n",
    "import numpy as np\n",
    "import seaborn as sns\n",
    "import matplotlib.pyplot as plt\n",
    "import warnings\n",
    "warnings.filterwarnings('ignore')"
   ]
  },
  {
   "cell_type": "markdown",
   "id": "e76356af",
   "metadata": {},
   "source": [
    "### 1번"
   ]
  },
  {
   "cell_type": "code",
   "execution_count": 106,
   "id": "32013eea",
   "metadata": {},
   "outputs": [],
   "source": [
    "df = pd.read_csv(\"https://raw.githubusercontent.com/Datamanim/datarepo/main/adp/28/p1.csv\")\n",
    "# df.head()"
   ]
  },
  {
   "cell_type": "markdown",
   "id": "46cef0ae",
   "metadata": {},
   "source": [
    "#### 1-1\n",
    "- EDA를 진행하고 (+시각화) , 차원축소의 필요성이 있는지 확인 (5점)\n",
    "    - 보통 차원축소는 설명변수의 수가 아주 많거나 설명변수 간에 다중공선성을 의심할 때 사용할 수 있는 기법이다.\n",
    "    - 하지만 상관관계 히트맵을 통해 변수 간 상관성을 확인한 결과, 설명변수 간에 다중공선성을 의심할 만한 관계는 존재하지 않은 것으로 판단된다.\n",
    "    - 따라서 본 데이터에서 차원축소는 불필요하다고 결론을 내린다."
   ]
  },
  {
   "cell_type": "code",
   "execution_count": null,
   "id": "fd58bb85",
   "metadata": {},
   "outputs": [],
   "source": [
    "df.isna().sum().sum() # 0개\n",
    "df.describe()\n",
    "\n",
    "df.boxplot(figsize=(9,2))\n",
    "plt.show()\n",
    "\n",
    "df_corr = df.corr()\n",
    "sns.heatmap(df_corr, vmin=-1, vmax=1, fmt='.2f', annot=True, cmap='RdBu')\n",
    "plt.show()"
   ]
  },
  {
   "cell_type": "markdown",
   "id": "493ca184",
   "metadata": {},
   "source": [
    "#### 2-1\n",
    "- 1-2 데이터셋을 기준으로 random forest, neural network , lightgbm 3가지 방식으로 학교 결석 횟수등급을 예측하는 모델을 만들어라, f1 score로 모델을 평가하라 (5점)\n",
    "\n",
    "- **신경망 (Neural Network) 특징**\n",
    "    - 신경망 (Neural Network)은 인공 신경망(ANN, Artificial Neural Network)을 지칭하는 용어이다. 이는 생물학적인 뉴런의 작동 방식에서 영감을 얻은 기계학습 기술의 한 종류이다. 신경망은 데이터를 입력층, 은닉층, 출력층으로 구성된 여러 개의 노드(뉴런)로 표현하고, 이 노드들 사이의 연결 가중치를 조정하며 복잡한 패턴을 학습하는데 사용된다.\n",
    "\n",
    "    - 장점:\n",
    "        - 복잡한 패턴 학습: 신경망은 복잡한 비선형 관계와 패턴을 학습할 수 있다. 이로 인해 이미지, 음성, 텍스트 등 다양한 데이터 유형을 처리하며 높은 성능을 보일 수 있다.\n",
    "        - 특징 학습: 신경망은 입력 데이터에서 특징을 스스로 학습할 수 있다. 이를 통해 사전에 정의된 특징 엔지니어링 없이도 좋은 성능을 내는 경우가 있다.\n",
    "        - 유연한 아키텍처: 신경망 구조는 은닉층의 수, 노드 수, 활성화 함수 등을 조정하여 다양한 문제에 적용할 수 있다. 이로 인해 다양한 유형의 모델을 만들 수 있다.\n",
    "        - 분산 처리와 병렬 처리: 신경망은 대용량 데이터와 복잡한 모델을 처리하기 위해 분산 처리와 병렬 처리를 활용할 수 있는 장점이 있다.\n",
    "\n",
    "    - 단점:\n",
    "        - 하이퍼파라미터 튜닝의 어려움: 신경망은 은닉층의 수, 노드 수, 학습률, 활성화 함수 등 다양한 하이퍼파라미터를 튜닝해야 하므로 이를 적절하게 조정하는 것이 어려울 수 있다.\n",
    "        - 과적합 가능성: 모델의 복잡도가 높을 경우 작은 데이터셋에서는 과적합(Overfitting)이 발생할 수 있다. 이를 방지하기 위해 규제 방법 등을 사용해야 할 수 있다.\n",
    "        - 계산 리소스 요구: 깊은 신경망의 경우 학습에 많은 계산 리소스가 필요할 수 있다. 특히 많은 데이터와 레이어를 가지는 경우에는 학습에 시간과 컴퓨팅 자원이 많이 소요될 수 있다.\n",
    "        - 데이터 양의 의존성: 신경망은 대량의 데이터가 필요한 경우가 많다. 데이터가 부족한 경우 성능이 저하될 수 있다.\n",
    "\n",
    "    - 신경망은 다양한 종류의 문제에 적용 가능한 강력한 모델이다. 그러나 하이퍼파라미터 튜닝과 과적합 방지, 계산 리소스 요구 등에 주의해야 한다.\n",
    "\n",
    "\n",
    "- **MLPClassifier 특징**\n",
    "    - MLPClassifier는 다중 레이어 퍼셉트론(Multi-Layer Perceptron)을 기반으로 하는 인공신경망 알고리즘 중 하나이다. 이 알고리즘은 딥 러닝(Deep Learning)의 기본 구성 요소 중 하나로, 복잡한 패턴을 학습하고 분류 또는 회귀 작업을 수행하는 데 사용된다. \n",
    "\n",
    "    - 장점:\n",
    "        - 다양한 문제에 적용 가능: MLPClassifier는 복잡한 비선형 패턴을 학습할 수 있어 다양한 유형의 문제에 적용할 수 있습니다. 이미지 분류, 텍스트 분류, 숫자 예측 등 다양한 작업에 활용됩니다.\n",
    "        - 유연한 구조: MLPClassifier는 다층 구조를 가지며, 은닉층의 수와 노드 수를 조절하여 모델의 복잡도를 조정할 수 있습니다. 이로 인해 다양한 데이터셋에 적합한 모델을 만들 수 있습니다.\n",
    "        - 특징 학습: MLPClassifier는 입력 데이터의 복잡한 특징을 스스로 학습할 수 있습니다. 이를 통해 사전에 정의된 특징 엔지니어링 없이도 좋은 성능을 내는 경우가 있습니다.\n",
    "        - 경사 하강법 기반 학습: 신경망 내부의 가중치를 최적화하기 위해 경사 하강법과 같은 강력한 최적화 알고리즘을 사용합니다. 이를 통해 모델을 효과적으로 학습할 수 있습니다.\n",
    "\n",
    "    - 단점:\n",
    "        - 하이퍼파라미터 튜닝의 어려움: MLPClassifier는 은닉층의 수, 노드 수, 학습률 등 다양한 하이퍼파라미터를 조절해야 하는데, 이를 적절하게 튜닝하는 것이 어려울 수 있습니다.\n",
    "        - 과적합 가능성: 모델의 복잡도가 높을 경우, 작은 데이터셋에서는 과적합(Overfitting)이 발생할 수 있습니다. 이를 방지하기 위해 규제 방법 등을 사용해야 할 수 있습니다.\n",
    "        - 계산 리소스 요구: 깊은 신경망의 경우 학습에 많은 계산 리소스가 필요할 수 있습니다. 특히 많은 데이터와 레이어를 가지는 경우에는 학습에 시간과 컴퓨팅 자원이 많이 소요될 수 있습니다.\n",
    "        - 미분 가능한 함수의 의존성: MLPClassifier는 역전파 알고리즘을 사용하여 가중치를 업데이트합니다. 이 때, 사용되는 활성화 함수와 손실 함수는 미분 가능해야 합니다."
   ]
  },
  {
   "cell_type": "code",
   "execution_count": 28,
   "id": "19538502",
   "metadata": {},
   "outputs": [],
   "source": [
    "from sklearn.ensemble import RandomForestClassifier\n",
    "from lightgbm import LGBMClassifier\n",
    "from sklearn.neural_network import MLPClassifier\n",
    "from sklearn.metrics import f1_score\n",
    "from sklearn.model_selection import train_test_split\n",
    "\n",
    "df_dum = pd.get_dummies(df, columns=['sex', 'pstatus', 'guardian'], drop_first=True)\n",
    "X = df_dum.drop('absences', axis=1)\n",
    "y=df_dum.absences\n",
    "X_train, X_test, y_train, y_test = train_test_split(X, y, test_size=.3, random_state=321, stratify=y)\n",
    "\n",
    "# 모델 객체 생성\n",
    "rfr_reg = RandomForestClassifier(random_state=321)\n",
    "lgbm_reg = LGBMClassifier(random_state=321)\n",
    "mlp_reg = MLPClassifier(random_state=321)\n",
    "\n",
    "# 모델 생성, 예측, 평가\n",
    "def make_model(model):\n",
    "    model.fit(X_train, y_train)\n",
    "    pred = model.predict(X_test)\n",
    "    f1 = f1_score(pred, y_test, average='micro') # 다중분류\n",
    "    print(f'### {model.__class__.__name__} ###')\n",
    "    print(f'F1_Score: {round(f1, 4)}')"
   ]
  },
  {
   "cell_type": "code",
   "execution_count": 30,
   "id": "4844c5ac",
   "metadata": {},
   "outputs": [
    {
     "name": "stdout",
     "output_type": "stream",
     "text": [
      "### RandomForestClassifier ###\n",
      "F1_Score: 0.437\n",
      "### LGBMClassifier ###\n",
      "F1_Score: 0.4034\n",
      "### MLPClassifier ###\n",
      "F1_Score: 0.4874\n"
     ]
    }
   ],
   "source": [
    "make_model(rfr_reg)\n",
    "make_model(lgbm_reg)\n",
    "make_model(mlp_reg)"
   ]
  },
  {
   "cell_type": "markdown",
   "id": "990c72b8",
   "metadata": {},
   "source": [
    "#### 2-2\n",
    "- hard voting, soft voting에 대한 장단점을 설명하고 2-1의 3가지 모델로 구현하라. 두 방식의 f1-score를 비교하라 (10점)\n",
    "    - **Hard Voting**: 하드 보팅은 다수결 원칙에 기반한다. 각각의 개별 모델들이 예측한 결과 중 가장 많은 선택을 받은 클래스로 최종 예측을 내린다.\n",
    "        - 장점\n",
    "            - 구현이 간단하고, 투표 결과가 명확하게 나오기 때문에 이해하기 쉽다.\n",
    "            - 앙상블에 포함되는 모델들이 비교적 단순해도 잘 작동할 수 있다.\n",
    "            - 이상치나 잘못된 예측을 하게 되는 모델의 영향을 줄일 수 있다.\n",
    "        - 단점:\n",
    "            - 모든 개별 모델의 성능이 균등하지 않으면, 예측 결과도 그 성능에 영향을 받을 수 있다.\n",
    "            - 모든 모델이 동일한 중요도를 가진 것으로 가정합니다. 중요한 모델이 다른 모델보다 성능이 좋지 않을 경우 문제가 될 수 있다.\n",
    "\n",
    "    - **Soft Voting**: 소프트 보팅은 각 개별 모델들이 클래스에 대한 확률값을 예측한 후, 이 확률들을 평균내어 가장 높은 확률을 가진 클래스를 선택한다.\n",
    "    \n",
    "        - 장점:\n",
    "            - 모델이 확률값을 제공하는 경우에도 사용 가능하므로, 확률 정보를 더 잘 활용할 수 있다.\n",
    "            - 개별 모델들의 확률 예측을 활용하므로, 정보의 손실이 적다.\n",
    "        - 단점:\n",
    "            - 모든 모델이 확률값을 예측할 수 있어야 하므로, 이에 대한 추가적인 계산이 필요하다.\n",
    "            - 모델들의 예측 확률들을 평균내는 것은 특정 모델의 확신도가 높을 때, 그 모델의 예측에 더 큰 영향을 줄 수 있다.\n",
    "- 요약하자면, 하드 보팅은 간단하고 이해하기 쉬우며 이상치에 강건한 경향이 있다. 반면에 소프트 보팅은 확률 예측을 활용하여 더 많은 정보를 사용하며, 모델이 예측의 확신도를 제공할 수 있는 경우 더 효과적이다."
   ]
  },
  {
   "cell_type": "code",
   "execution_count": 33,
   "id": "e2b01027",
   "metadata": {},
   "outputs": [
    {
     "name": "stdout",
     "output_type": "stream",
     "text": [
      "하드 보팅 결과\n",
      "F1_Score:  0.437\n"
     ]
    }
   ],
   "source": [
    "from sklearn.ensemble import VotingClassifier\n",
    "vo_clf_hard = VotingClassifier(estimators=[('rfr', rfr_reg), \n",
    "                                       ('lgbm', lgbm_reg), ('mlp', mlp_reg)],\n",
    "                         voting='hard')\n",
    "vo_clf_hard.fit(X_train, y_train)\n",
    "pred = vo_clf_hard.predict(X_test)\n",
    "print('하드 보팅 결과')\n",
    "print('F1_Score: ', round(f1_score(pred, y_test, \n",
    "                                   average='micro'), 4)) # 다중분류"
   ]
  },
  {
   "cell_type": "code",
   "execution_count": 34,
   "id": "bd207dbc",
   "metadata": {},
   "outputs": [
    {
     "name": "stdout",
     "output_type": "stream",
     "text": [
      "소프트 보팅 결과\n",
      "F1_Score:  0.4286\n"
     ]
    }
   ],
   "source": [
    "vo_clf_soft = VotingClassifier(estimators=[('rfr', rfr_reg), \n",
    "                                       ('lgbm', lgbm_reg), ('mlp', mlp_reg)],\n",
    "                         voting='soft')\n",
    "vo_clf_soft.fit(X_train, y_train)\n",
    "pred = vo_clf_soft.predict(X_test)\n",
    "print('소프트 보팅 결과')\n",
    "print('F1_Score: ', round(f1_score(pred, y_test, \n",
    "                                   average='micro'), 4)) # 다중분류"
   ]
  },
  {
   "cell_type": "markdown",
   "id": "1dee35ae",
   "metadata": {},
   "source": [
    "### 4번\n",
    "- status : 생존 여부 (death: 죽음 / event lost: 생존)\n",
    "- company : 회사구분\n",
    "\n",
    "#### 4-1\n",
    "- Kaplan Meier 방법 사용 생존분석 수행. 회사부품별 25, 35, 45 개월에서의 생존 확률 (소숫점 3자리 ,5점)"
   ]
  },
  {
   "cell_type": "code",
   "execution_count": 79,
   "id": "331da013",
   "metadata": {
    "scrolled": true
   },
   "outputs": [
    {
     "data": {
      "text/html": [
       "<div>\n",
       "<style scoped>\n",
       "    .dataframe tbody tr th:only-of-type {\n",
       "        vertical-align: middle;\n",
       "    }\n",
       "\n",
       "    .dataframe tbody tr th {\n",
       "        vertical-align: top;\n",
       "    }\n",
       "\n",
       "    .dataframe thead th {\n",
       "        text-align: right;\n",
       "    }\n",
       "</style>\n",
       "<table border=\"1\" class=\"dataframe\">\n",
       "  <thead>\n",
       "    <tr style=\"text-align: right;\">\n",
       "      <th></th>\n",
       "      <th>time(month)</th>\n",
       "      <th>status</th>\n",
       "      <th>company</th>\n",
       "    </tr>\n",
       "  </thead>\n",
       "  <tbody>\n",
       "    <tr>\n",
       "      <th>0</th>\n",
       "      <td>1</td>\n",
       "      <td>event lost</td>\n",
       "      <td>X</td>\n",
       "    </tr>\n",
       "    <tr>\n",
       "      <th>1</th>\n",
       "      <td>2</td>\n",
       "      <td>event lost</td>\n",
       "      <td>X</td>\n",
       "    </tr>\n",
       "  </tbody>\n",
       "</table>\n",
       "</div>"
      ],
      "text/plain": [
       "   time(month)      status company\n",
       "0            1  event lost       X\n",
       "1            2  event lost       X"
      ]
     },
     "metadata": {},
     "output_type": "display_data"
    },
    {
     "name": "stdout",
     "output_type": "stream",
     "text": [
      "['event lost' 'death']\n",
      "['X' 'Y']\n"
     ]
    }
   ],
   "source": [
    "from lifelines import KaplanMeierFitter\n",
    "df = pd.read_csv('https://raw.githubusercontent.com/Datamanim/datarepo/main/adp/28/p4_.csv')\n",
    "display(df.head(2))\n",
    "print(df['status'].unique())\n",
    "print(df['company'].unique())"
   ]
  },
  {
   "cell_type": "code",
   "execution_count": 82,
   "id": "7d7056c1",
   "metadata": {},
   "outputs": [],
   "source": [
    "# status 컬럼을 숫자로 변경\n",
    "def to_int(X):\n",
    "    if X == 'event lost':\n",
    "        return 0\n",
    "    else: return 1\n",
    "df['event'] = df['status'].apply(to_int)\n",
    "\n",
    "# 회사별 데이터 분할\n",
    "X_company = df.loc[df['company']=='X']\n",
    "Y_company = df.loc[df['company']=='Y']"
   ]
  },
  {
   "cell_type": "code",
   "execution_count": 76,
   "id": "7680857b",
   "metadata": {},
   "outputs": [
    {
     "name": "stdout",
     "output_type": "stream",
     "text": [
      "### X 회사 ###\n",
      "생존 시간 25개월에서의 생존 확률: 0.636\n",
      "생존 시간 35개월에서의 생존 확률: 0.636\n",
      "생존 시간 45개월에서의 생존 확률: 0.636\n"
     ]
    },
    {
     "data": {
      "image/png": "[encoded data removed]",
      "text/plain": [
       "<Figure size 300x200 with 1 Axes>"
      ]
     },
     "metadata": {},
     "output_type": "display_data"
    }
   ],
   "source": [
    "# KaplanMeierFitter 객체 생성\n",
    "kmf = KaplanMeierFitter()\n",
    "\n",
    "# 생존 시간과 사망 여부 데이터 입력 + 학습\n",
    "kmf.fit(X_company['time(month)'], event_observed=X_company['event'])\n",
    "\n",
    "# 원하는 시간 지점의 생존 확률 구하기\n",
    "time_points = [25, 35, 45]\n",
    "survival_probabilities = kmf.predict(time_points)\n",
    "\n",
    "print('### X 회사 ###')\n",
    "for time, prob in zip(time_points, survival_probabilities):\n",
    "    print(f\"생존 시간 {time}개월에서의 생존 확률: {prob:.3f}\")\n",
    "    \n",
    "# 생존 곡선 그리기\n",
    "plt.figure(figsize=(3, 2))\n",
    "kmf.plot()\n",
    "plt.title('Kaplan-Meier Survival Curve')\n",
    "plt.xlabel('Time')\n",
    "plt.ylabel('Survival Probability')\n",
    "plt.show()"
   ]
  },
  {
   "cell_type": "code",
   "execution_count": 75,
   "id": "40d4b596",
   "metadata": {},
   "outputs": [
    {
     "name": "stdout",
     "output_type": "stream",
     "text": [
      "### Y 회사 ###\n",
      "생존 시간 25개월에서의 생존 확률: 0.880\n",
      "생존 시간 35개월에서의 생존 확률: 0.880\n",
      "생존 시간 45개월에서의 생존 확률: 0.880\n"
     ]
    }
   ],
   "source": [
    "# KaplanMeierFitter 객체 생성\n",
    "kmf = KaplanMeierFitter()\n",
    "\n",
    "# 생존 시간과 사망 여부 데이터 입력 + 학습\n",
    "kmf.fit(Y_company['time(month)'], event_observed=Y_company['event'])\n",
    "\n",
    "# 원하는 시간 지점의 생존 확률 구하기\n",
    "survival_probabilities = kmf.predict(time_points)\n",
    "\n",
    "print('### Y 회사 ###')\n",
    "for time, prob in zip(time_points, survival_probabilities):\n",
    "    print(f\"생존 시간 {time}개월에서의 생존 확률: {prob:.3f}\")"
   ]
  },
  {
   "cell_type": "markdown",
   "id": "3b6e37e6",
   "metadata": {},
   "source": [
    "#### 4-2\n",
    "- 두 회사간 생존시간 차이를 log-rank 방식으로 검정하시오. 가설설정, 통계량, 귀무가설 기각여부 판단(10점)\n",
    "    - 귀무가설 (H0): 두 그룹 간의 생존 곡선이 같다. 즉, 두 그룹 간의 생존시간 분포가 차이가 없다.\n",
    "    - 대립가설 (H1): 두 그룹 간의 생존 곡선이 다르다. 즉, 두 그룹 간의 생존시간 분포가 차이가 있다.\n",
    "    - p-value > 0.05 이므로 귀무가설을 채택할 수 있다."
   ]
  },
  {
   "cell_type": "code",
   "execution_count": 83,
   "id": "8151ff8f",
   "metadata": {},
   "outputs": [
    {
     "name": "stdout",
     "output_type": "stream",
     "text": [
      "\n",
      "Log-Rank 검정 결과:\n",
      "Test statistic: 0.2\n",
      "p-value: 0.6547208460185768\n"
     ]
    }
   ],
   "source": [
    "from lifelines import KaplanMeierFitter\n",
    "from lifelines.statistics import logrank_test\n",
    "\n",
    "# KaplanMeierFitter 객체 생성\n",
    "kmf = KaplanMeierFitter()\n",
    "\n",
    "# 그룹별 생존 시간과 사망 여부 데이터 입력\n",
    "groups = df['company'].unique()\n",
    "for group in groups:\n",
    "    group_data = df[df['company'] == group]\n",
    "    kmf.fit(group_data['time(month)'], event_observed=group_data['event'])\n",
    "#     print(f\"Group {group}의 Kaplan-Meier 추정치:\\n{kmf.survival_function_}\")\n",
    "\n",
    "# Log-Rank 검정 수행\n",
    "results = logrank_test(\n",
    "    df[df['company'] == groups[0]]['time(month)'],\n",
    "    df[df['company'] == groups[1]]['time(month)'],\n",
    "    df[df['company'] == groups[0]]['event'],\n",
    "    df[df['company'] == groups[1]]['event']\n",
    ")\n",
    "\n",
    "print(\"\\nLog-Rank 검정 결과:\")\n",
    "print(\"Test statistic:\", results.test_statistic)\n",
    "print(\"p-value:\", results.p_value)"
   ]
  },
  {
   "cell_type": "markdown",
   "id": "bdba31aa",
   "metadata": {},
   "source": [
    "### 6번\n",
    "- A,B 지역 학생의 점수에 차이가 있는지 가설을 설정하고 정하시오 (10점)\n",
    "- 귀무가설: 지역별 학생 점수에 차이가 없다.\n",
    "- 대립가설: 지역별 학생 점수에 차이가 있다."
   ]
  },
  {
   "cell_type": "code",
   "execution_count": 97,
   "id": "fc11d3c1",
   "metadata": {},
   "outputs": [
    {
     "data": {
      "text/plain": [
       "MannwhitneyuResult(statistic=98.0, pvalue=0.04326078462456094)"
      ]
     },
     "execution_count": 97,
     "metadata": {},
     "output_type": "execute_result"
    }
   ],
   "source": [
    "import scipy.stats as stats\n",
    "df = pd.read_csv('https://raw.githubusercontent.com/Datamanim/datarepo/main/adp/28/p6.csv')\n",
    "df.fillna(df.mean(), inplace=True)\n",
    "a_sample = df.loc[df['school_name']=='A', 'score']\n",
    "b_sample = df.loc[df['school_name']=='B', 'score']\n",
    "stats.shapiro(a_sample) # 정규성 불만족\n",
    "stats.shapiro(b_sample) # 정규성 불만족\n",
    "stats.mannwhitneyu(a_sample, b_sample) # 귀무가설 기각"
   ]
  },
  {
   "cell_type": "markdown",
   "id": "a05b25de",
   "metadata": {},
   "source": [
    "### 7\n",
    "- 몸무게를 제어한다고 생각하고, 나이와 콜레스테롤 상관계수 및 유의확률 구하라(10점)\n",
    "    - 귀무가설: 두 변수 간의 편상관계수가 0이다. 즉, 다른 변수들의 영향을 제어한 후에도 두 변수 간의 상관관계가 없다.\n",
    "    - 대립가설: 두 변수 간의 편상관계수가 0이 아니다. 즉, 다른 변수들의 영향을 제어한 후에도 두 변수 간의 상관관계가 존재한다.\n",
    "- 상관계수: -0.134317 / 유의확률: 0.014169\t\n",
    "- p-value < 0.05이므로 귀무가설을 기각한다."
   ]
  },
  {
   "cell_type": "code",
   "execution_count": 102,
   "id": "6a3182b1",
   "metadata": {},
   "outputs": [
    {
     "data": {
      "text/html": [
       "<div>\n",
       "<style scoped>\n",
       "    .dataframe tbody tr th:only-of-type {\n",
       "        vertical-align: middle;\n",
       "    }\n",
       "\n",
       "    .dataframe tbody tr th {\n",
       "        vertical-align: top;\n",
       "    }\n",
       "\n",
       "    .dataframe thead th {\n",
       "        text-align: right;\n",
       "    }\n",
       "</style>\n",
       "<table border=\"1\" class=\"dataframe\">\n",
       "  <thead>\n",
       "    <tr style=\"text-align: right;\">\n",
       "      <th></th>\n",
       "      <th>n</th>\n",
       "      <th>r</th>\n",
       "      <th>CI95%</th>\n",
       "      <th>r2</th>\n",
       "      <th>adj_r2</th>\n",
       "      <th>p-val</th>\n",
       "      <th>BF10</th>\n",
       "      <th>power</th>\n",
       "    </tr>\n",
       "  </thead>\n",
       "  <tbody>\n",
       "    <tr>\n",
       "      <th>pearson</th>\n",
       "      <td>333</td>\n",
       "      <td>-0.134317</td>\n",
       "      <td>[-0.24, -0.03]</td>\n",
       "      <td>0.018041</td>\n",
       "      <td>0.01209</td>\n",
       "      <td>0.014169</td>\n",
       "      <td>1.372</td>\n",
       "      <td>0.690805</td>\n",
       "    </tr>\n",
       "  </tbody>\n",
       "</table>\n",
       "</div>"
      ],
      "text/plain": [
       "           n         r           CI95%        r2   adj_r2     p-val   BF10  \\\n",
       "pearson  333 -0.134317  [-0.24, -0.03]  0.018041  0.01209  0.014169  1.372   \n",
       "\n",
       "            power  \n",
       "pearson  0.690805  "
      ]
     },
     "execution_count": 102,
     "metadata": {},
     "output_type": "execute_result"
    }
   ],
   "source": [
    "import pingouin as pg\n",
    "df = pd.read_csv('https://raw.githubusercontent.com/Datamanim/datarepo/main/adp/28/p7.csv')\n",
    "df.head(2)\n",
    "pg.partial_corr(data=df, x='Cholesterol', y='age', covar='weight')"
   ]
  }
 ],
 "metadata": {
  "kernelspec": {
   "display_name": "adp_code",
   "language": "python",
   "name": "adp_code"
  },
  "language_info": {
   "codemirror_mode": {
    "name": "ipython",
    "version": 3
   },
   "file_extension": ".py",
   "mimetype": "text/x-python",
   "name": "python",
   "nbconvert_exporter": "python",
   "pygments_lexer": "ipython3",
   "version": "3.7.16"
  }
 },
 "nbformat": 4,
 "nbformat_minor": 5
}
