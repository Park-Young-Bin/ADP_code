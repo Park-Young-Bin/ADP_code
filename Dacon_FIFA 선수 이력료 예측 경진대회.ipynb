{
 "cells": [
  {
   "cell_type": "markdown",
   "id": "8e3a9a75",
   "metadata": {},
   "source": [
    "# [Dacon_FIFA 선수 이력료 예측 경진대회](https://dacon.io/competitions/open/235538/overview/description)\n",
    "- 컬럼 설명\n",
    "    - id : 선수 고유의 아이디\n",
    "    - name : 이름\n",
    "    - age : 나이\n",
    "    - continent : 선수들의 국적이 포함되어 있는 대륙입니다\n",
    "    - contract_until : 선수의 계약기간이 언제까지인지 나타내어 줍니다\n",
    "    - position : 선수가 선호하는 포지션입니다. ex) 공격수, 수비수 등\n",
    "    - prefer_foot : 선수가 선호하는 발입니다. ex) 오른발\n",
    "    - reputation : 선수가 유명한 정도입니다. ex) 높은 수치일 수록 유명한 선수\n",
    "    - stat_overall : 선수의 현재 능력치 입니다.\n",
    "    - stat_potential : 선수가 경험 및 노력을 통해 발전할 수 있는 정도입니다.\n",
    "    - stat_skill_moves : 선수의 개인기 능력치 입니다.\n",
    "    - value : FIFA가 선정한 선수의 이적 시장 가격 (단위 : 유로) 입니다"
   ]
  },
  {
   "cell_type": "code",
   "execution_count": 1,
   "id": "1efbb5b5",
   "metadata": {},
   "outputs": [],
   "source": [
    "import pandas as pd\n",
    "import numpy as np\n",
    "import matplotlib.pyplot as plt\n",
    "import seaborn as sns\n",
    "import os\n",
    "import warnings\n",
    "warnings.filterwarnings('ignore')\n",
    "plt.rc('font', family='Malgun Gothic')\n",
    "plt.rcParams['axes.unicode_minus']=False"
   ]
  },
  {
   "cell_type": "markdown",
   "id": "6ee325ef",
   "metadata": {},
   "source": [
    "### 1. EDA"
   ]
  },
  {
   "cell_type": "code",
   "execution_count": 2,
   "id": "c49f63b9",
   "metadata": {
    "scrolled": true
   },
   "outputs": [
    {
     "data": {
      "text/html": [
       "<div>\n",
       "<style scoped>\n",
       "    .dataframe tbody tr th:only-of-type {\n",
       "        vertical-align: middle;\n",
       "    }\n",
       "\n",
       "    .dataframe tbody tr th {\n",
       "        vertical-align: top;\n",
       "    }\n",
       "\n",
       "    .dataframe thead th {\n",
       "        text-align: right;\n",
       "    }\n",
       "</style>\n",
       "<table border=\"1\" class=\"dataframe\">\n",
       "  <thead>\n",
       "    <tr style=\"text-align: right;\">\n",
       "      <th></th>\n",
       "      <th>name</th>\n",
       "      <th>age</th>\n",
       "      <th>continent</th>\n",
       "      <th>contract_until</th>\n",
       "      <th>position</th>\n",
       "      <th>prefer_foot</th>\n",
       "      <th>reputation</th>\n",
       "      <th>stat_overall</th>\n",
       "      <th>stat_potential</th>\n",
       "      <th>stat_skill_moves</th>\n",
       "      <th>value</th>\n",
       "    </tr>\n",
       "  </thead>\n",
       "  <tbody>\n",
       "    <tr>\n",
       "      <th>0</th>\n",
       "      <td>L. Messi</td>\n",
       "      <td>31</td>\n",
       "      <td>south america</td>\n",
       "      <td>2021</td>\n",
       "      <td>ST</td>\n",
       "      <td>left</td>\n",
       "      <td>5.0</td>\n",
       "      <td>94</td>\n",
       "      <td>94</td>\n",
       "      <td>4.0</td>\n",
       "      <td>110500000.0</td>\n",
       "    </tr>\n",
       "    <tr>\n",
       "      <th>1</th>\n",
       "      <td>De Gea</td>\n",
       "      <td>27</td>\n",
       "      <td>europe</td>\n",
       "      <td>2020</td>\n",
       "      <td>GK</td>\n",
       "      <td>right</td>\n",
       "      <td>4.0</td>\n",
       "      <td>91</td>\n",
       "      <td>93</td>\n",
       "      <td>1.0</td>\n",
       "      <td>72000000.0</td>\n",
       "    </tr>\n",
       "    <tr>\n",
       "      <th>2</th>\n",
       "      <td>L. Suárez</td>\n",
       "      <td>31</td>\n",
       "      <td>south america</td>\n",
       "      <td>2021</td>\n",
       "      <td>ST</td>\n",
       "      <td>right</td>\n",
       "      <td>5.0</td>\n",
       "      <td>91</td>\n",
       "      <td>91</td>\n",
       "      <td>3.0</td>\n",
       "      <td>80000000.0</td>\n",
       "    </tr>\n",
       "  </tbody>\n",
       "</table>\n",
       "</div>"
      ],
      "text/plain": [
       "        name  age      continent contract_until position prefer_foot  \\\n",
       "0   L. Messi   31  south america           2021       ST        left   \n",
       "1     De Gea   27         europe           2020       GK       right   \n",
       "2  L. Suárez   31  south america           2021       ST       right   \n",
       "\n",
       "   reputation  stat_overall  stat_potential  stat_skill_moves        value  \n",
       "0         5.0            94              94               4.0  110500000.0  \n",
       "1         4.0            91              93               1.0   72000000.0  \n",
       "2         5.0            91              91               3.0   80000000.0  "
      ]
     },
     "metadata": {},
     "output_type": "display_data"
    },
    {
     "name": "stdout",
     "output_type": "stream",
     "text": [
      "(8932, 11)\n",
      "<class 'pandas.core.frame.DataFrame'>\n",
      "RangeIndex: 8932 entries, 0 to 8931\n",
      "Data columns (total 11 columns):\n",
      " #   Column            Non-Null Count  Dtype  \n",
      "---  ------            --------------  -----  \n",
      " 0   name              8932 non-null   object \n",
      " 1   age               8932 non-null   int64  \n",
      " 2   continent         8932 non-null   object \n",
      " 3   contract_until    8932 non-null   object \n",
      " 4   position          8932 non-null   object \n",
      " 5   prefer_foot       8932 non-null   object \n",
      " 6   reputation        8932 non-null   float64\n",
      " 7   stat_overall      8932 non-null   int64  \n",
      " 8   stat_potential    8932 non-null   int64  \n",
      " 9   stat_skill_moves  8932 non-null   float64\n",
      " 10  value             8932 non-null   float64\n",
      "dtypes: float64(3), int64(3), object(5)\n",
      "memory usage: 767.7+ KB\n",
      "None\n",
      "0\n"
     ]
    }
   ],
   "source": [
    "train = pd.read_csv(os.getcwd() + '/data/FIFA/FIFA_train.csv').drop('id', axis=1)\n",
    "display(train.head(3))\n",
    "print(train.shape)\n",
    "print(train.info())\n",
    "print(train.isna().sum().sum()) # 0개"
   ]
  },
  {
   "cell_type": "code",
   "execution_count": 12,
   "id": "b38bbcbd",
   "metadata": {},
   "outputs": [
    {
     "data": {
      "text/html": [
       "<div>\n",
       "<style scoped>\n",
       "    .dataframe tbody tr th:only-of-type {\n",
       "        vertical-align: middle;\n",
       "    }\n",
       "\n",
       "    .dataframe tbody tr th {\n",
       "        vertical-align: top;\n",
       "    }\n",
       "\n",
       "    .dataframe thead th {\n",
       "        text-align: right;\n",
       "    }\n",
       "</style>\n",
       "<table border=\"1\" class=\"dataframe\">\n",
       "  <thead>\n",
       "    <tr style=\"text-align: right;\">\n",
       "      <th></th>\n",
       "      <th>age</th>\n",
       "      <th>reputation</th>\n",
       "      <th>stat_overall</th>\n",
       "      <th>stat_potential</th>\n",
       "      <th>stat_skill_moves</th>\n",
       "      <th>value</th>\n",
       "    </tr>\n",
       "  </thead>\n",
       "  <tbody>\n",
       "    <tr>\n",
       "      <th>count</th>\n",
       "      <td>8932.000000</td>\n",
       "      <td>8932.000000</td>\n",
       "      <td>8932.000000</td>\n",
       "      <td>8932.000000</td>\n",
       "      <td>8932.000000</td>\n",
       "      <td>8.932000e+03</td>\n",
       "    </tr>\n",
       "    <tr>\n",
       "      <th>mean</th>\n",
       "      <td>25.209136</td>\n",
       "      <td>1.130878</td>\n",
       "      <td>67.091133</td>\n",
       "      <td>71.997201</td>\n",
       "      <td>2.401702</td>\n",
       "      <td>2.778673e+06</td>\n",
       "    </tr>\n",
       "    <tr>\n",
       "      <th>std</th>\n",
       "      <td>4.635515</td>\n",
       "      <td>0.423792</td>\n",
       "      <td>6.854910</td>\n",
       "      <td>5.988147</td>\n",
       "      <td>0.776048</td>\n",
       "      <td>5.840982e+06</td>\n",
       "    </tr>\n",
       "    <tr>\n",
       "      <th>min</th>\n",
       "      <td>16.000000</td>\n",
       "      <td>1.000000</td>\n",
       "      <td>47.000000</td>\n",
       "      <td>48.000000</td>\n",
       "      <td>1.000000</td>\n",
       "      <td>1.000000e+04</td>\n",
       "    </tr>\n",
       "    <tr>\n",
       "      <th>25%</th>\n",
       "      <td>21.000000</td>\n",
       "      <td>1.000000</td>\n",
       "      <td>63.000000</td>\n",
       "      <td>68.000000</td>\n",
       "      <td>2.000000</td>\n",
       "      <td>3.750000e+05</td>\n",
       "    </tr>\n",
       "    <tr>\n",
       "      <th>50%</th>\n",
       "      <td>25.000000</td>\n",
       "      <td>1.000000</td>\n",
       "      <td>67.000000</td>\n",
       "      <td>72.000000</td>\n",
       "      <td>2.000000</td>\n",
       "      <td>8.250000e+05</td>\n",
       "    </tr>\n",
       "    <tr>\n",
       "      <th>75%</th>\n",
       "      <td>28.000000</td>\n",
       "      <td>1.000000</td>\n",
       "      <td>72.000000</td>\n",
       "      <td>76.000000</td>\n",
       "      <td>3.000000</td>\n",
       "      <td>2.600000e+06</td>\n",
       "    </tr>\n",
       "    <tr>\n",
       "      <th>max</th>\n",
       "      <td>40.000000</td>\n",
       "      <td>5.000000</td>\n",
       "      <td>94.000000</td>\n",
       "      <td>94.000000</td>\n",
       "      <td>5.000000</td>\n",
       "      <td>1.105000e+08</td>\n",
       "    </tr>\n",
       "  </tbody>\n",
       "</table>\n",
       "</div>"
      ],
      "text/plain": [
       "               age   reputation  stat_overall  stat_potential  \\\n",
       "count  8932.000000  8932.000000   8932.000000     8932.000000   \n",
       "mean     25.209136     1.130878     67.091133       71.997201   \n",
       "std       4.635515     0.423792      6.854910        5.988147   \n",
       "min      16.000000     1.000000     47.000000       48.000000   \n",
       "25%      21.000000     1.000000     63.000000       68.000000   \n",
       "50%      25.000000     1.000000     67.000000       72.000000   \n",
       "75%      28.000000     1.000000     72.000000       76.000000   \n",
       "max      40.000000     5.000000     94.000000       94.000000   \n",
       "\n",
       "       stat_skill_moves         value  \n",
       "count       8932.000000  8.932000e+03  \n",
       "mean           2.401702  2.778673e+06  \n",
       "std            0.776048  5.840982e+06  \n",
       "min            1.000000  1.000000e+04  \n",
       "25%            2.000000  3.750000e+05  \n",
       "50%            2.000000  8.250000e+05  \n",
       "75%            3.000000  2.600000e+06  \n",
       "max            5.000000  1.105000e+08  "
      ]
     },
     "execution_count": 12,
     "metadata": {},
     "output_type": "execute_result"
    }
   ],
   "source": [
    "train.describe()"
   ]
  },
  {
   "cell_type": "code",
   "execution_count": 13,
   "id": "013ce3e3",
   "metadata": {},
   "outputs": [
    {
     "data": {
      "image/png": "[encoded data removed]",
      "text/plain": [
       "<Figure size 640x480 with 6 Axes>"
      ]
     },
     "metadata": {},
     "output_type": "display_data"
    }
   ],
   "source": [
    "train.hist(bins=30)\n",
    "plt.tight_layout()\n",
    "plt.show()"
   ]
  },
  {
   "cell_type": "code",
   "execution_count": 14,
   "id": "ac1adf75",
   "metadata": {},
   "outputs": [
    {
     "data": {
      "text/plain": [
       "europe           5322\n",
       "south america    1927\n",
       "asia              787\n",
       "africa            721\n",
       "oceania           175\n",
       "Name: continent, dtype: int64"
      ]
     },
     "execution_count": 14,
     "metadata": {},
     "output_type": "execute_result"
    }
   ],
   "source": [
    "train['continent'].value_counts()"
   ]
  },
  {
   "cell_type": "code",
   "execution_count": 15,
   "id": "9bdcc8ad",
   "metadata": {},
   "outputs": [
    {
     "data": {
      "text/plain": [
       "2019            2366\n",
       "2021            2308\n",
       "2020            2041\n",
       "2022             761\n",
       "2023             506\n",
       "Jun 30, 2019     501\n",
       "2018             327\n",
       "Dec 31, 2018      64\n",
       "May 31, 2019      19\n",
       "2024              12\n",
       "Jan 31, 2019      10\n",
       "Jun 30, 2020       9\n",
       "2025               3\n",
       "Jan 1, 2019        2\n",
       "2026               1\n",
       "May 31, 2020       1\n",
       "Jan 12, 2019       1\n",
       "Name: contract_until, dtype: int64"
      ]
     },
     "execution_count": 15,
     "metadata": {},
     "output_type": "execute_result"
    }
   ],
   "source": [
    "train['contract_until'].value_counts()"
   ]
  },
  {
   "cell_type": "code",
   "execution_count": 3,
   "id": "d8e92a63",
   "metadata": {},
   "outputs": [
    {
     "data": {
      "text/plain": [
       "2019    2899\n",
       "2021    2308\n",
       "2020    2051\n",
       "2022     761\n",
       "2023     506\n",
       "2018     391\n",
       "2024      12\n",
       "2025       3\n",
       "2026       1\n",
       "Name: contract_year, dtype: int64"
      ]
     },
     "execution_count": 3,
     "metadata": {},
     "output_type": "execute_result"
    }
   ],
   "source": [
    "# contract_until 전처리(연도 정보만 남기기)\n",
    "def make_year(x):\n",
    "    if len(x) > 4:\n",
    "        return int(x[-4:])\n",
    "    else: return int(x)\n",
    "    \n",
    "train['contract_year'] = train['contract_until'].apply(make_year)\n",
    "train['contract_year'].value_counts()"
   ]
  },
  {
   "cell_type": "code",
   "execution_count": 16,
   "id": "ad23ad89",
   "metadata": {},
   "outputs": [
    {
     "data": {
      "text/plain": [
       "MF    3428\n",
       "DF    2791\n",
       "ST    1705\n",
       "GK    1008\n",
       "Name: position, dtype: int64"
      ]
     },
     "execution_count": 16,
     "metadata": {},
     "output_type": "execute_result"
    }
   ],
   "source": [
    "train['position'].value_counts()"
   ]
  },
  {
   "cell_type": "code",
   "execution_count": 17,
   "id": "03439aaf",
   "metadata": {},
   "outputs": [
    {
     "data": {
      "text/plain": [
       "right    6837\n",
       "left     2095\n",
       "Name: prefer_foot, dtype: int64"
      ]
     },
     "execution_count": 17,
     "metadata": {},
     "output_type": "execute_result"
    }
   ],
   "source": [
    "train['prefer_foot'].value_counts()"
   ]
  },
  {
   "cell_type": "code",
   "execution_count": 35,
   "id": "d210dedc",
   "metadata": {},
   "outputs": [
    {
     "data": {
      "image/png": "[encoded data removed]",
      "text/plain": [
       "<Figure size 400x300 with 2 Axes>"
      ]
     },
     "metadata": {},
     "output_type": "display_data"
    }
   ],
   "source": [
    "train_corr = train.corr()\n",
    "plt.figure(figsize=(4,3))\n",
    "sns.heatmap(train_corr, vmin=-1, vmax=1, cmap='RdBu', annot=True, fmt='.2f');"
   ]
  },
  {
   "cell_type": "markdown",
   "id": "63a40bdd",
   "metadata": {},
   "source": [
    "1. 결측치 존재 여부\n",
    "    - 전체 데이터에 결측치는 존재하지 않는다.\n",
    "1. 데이터 타입 구성\n",
    "    - 종속변수 value는 float형, 독립변수는 object, int, float형으로 구성되어 있다.\n",
    "1. 종속변수와 독립변수 간 상관관계\n",
    "    - 상관관계 히트맵을 확인한 결과, value와 가장 높은 상관성을 갖는 독립변수는 reputation이고 이때 상관계수는 약 0.67로 나타났다.\n",
    "1. 독립변수 간 상관관계\n",
    "    - 독립변수 간 상관관계를 확인한 결과, 다중공선성을 의심할 정도(약 0.9)의 상관관계는 존재하지 않았다.\n",
    "1. 주의할 점\n",
    "    - contract_until 변수는 값의 형태가 통일되지 않아서 연도 정보만 추출하여 contract_year라는 새로운 변수를 생성하였다.\n",
    "    - 모델 구현시, contract_year는 순서형 변수이므로 원핫인코딩을 적용해야 할 것이다."
   ]
  },
  {
   "cell_type": "markdown",
   "id": "d6829a6e",
   "metadata": {},
   "source": [
    "### 2. 통계 분석"
   ]
  },
  {
   "cell_type": "markdown",
   "id": "ee7afe32",
   "metadata": {},
   "source": [
    "#### 1) t-test(유의수준 0.95, 모분산 모름)\n",
    "- 귀무가설: 선수들의 평균 능력치는 85이다.\n",
    "- 대립가설: 선수들의 평균 능력치는 85보다 낮다."
   ]
  },
  {
   "cell_type": "code",
   "execution_count": 4,
   "id": "33d3679b",
   "metadata": {},
   "outputs": [
    {
     "name": "stdout",
     "output_type": "stream",
     "text": [
      "Ttest_1sampResult(statistic=-12.67567567567568, pvalue=6.893227191708033e-12)\n",
      "신뢰구간: (61.27246506467614, 67.94492623967167)\n"
     ]
    }
   ],
   "source": [
    "import scipy.stats as stats\n",
    "np.random.seed(1234)\n",
    "a = np.random.choice(train['stat_overall'], 23)\n",
    "stats.shapiro(a) # 정규성 만족\n",
    "print(stats.ttest_1samp(a, popmean=85, alternative='less')) # 귀무가설 기각\n",
    "print('신뢰구간:', stats.t.interval(alpha=0.95, df=len(a)-1, loc=np.mean(a),\n",
    "                 scale=stats.sem(a)))"
   ]
  },
  {
   "cell_type": "markdown",
   "id": "da937571",
   "metadata": {},
   "source": [
    "#### 2) 독립표본 t-test\n",
    "- 귀무가설: 아시아와 아프리카 선수들 간 유명한 정도에 차이가 없다.\n",
    "- 대립가설: 아시아와 아프리카 선수들 간 유명한 정도에 차이가 있다."
   ]
  },
  {
   "cell_type": "code",
   "execution_count": 65,
   "id": "f7ddb48b",
   "metadata": {
    "scrolled": true
   },
   "outputs": [
    {
     "name": "stdout",
     "output_type": "stream",
     "text": [
      "MannwhitneyuResult(statistic=1998.0, pvalue=0.16685089020233357)\n"
     ]
    }
   ],
   "source": [
    "np.random.seed(1234)\n",
    "asia = np.random.choice(train.loc[train['continent']=='asia', 'reputation'], 60)\n",
    "africa = np.random.choice(train.loc[train['continent']=='africa', 'reputation'], 72)\n",
    "stats.shapiro(asia) # 정규성 불만족\n",
    "stats.shapiro(africa) # 정규성 불만족\n",
    "stats.levene(asia, africa) # 등분산성 만족\n",
    "print(stats.mannwhitneyu(asia, africa)) # 귀무가설 채택"
   ]
  },
  {
   "cell_type": "code",
   "execution_count": 66,
   "id": "bf12aff9",
   "metadata": {},
   "outputs": [
    {
     "name": "stdout",
     "output_type": "stream",
     "text": [
      "신뢰구간: (-0.13747362891149909, -0.09030414886627877)\n"
     ]
    }
   ],
   "source": [
    "def sp(data1, data2):\n",
    "    df = len(data1) + len(data2)\n",
    "    s1 = (len(data1)-1) * (data1.std()**2)\n",
    "    s2 = (len(data2)-1) * (data2.std()**2)\n",
    "    sp = np.sqrt((s1+s2)/df)\n",
    "    return sp\n",
    "alpha=0.95\n",
    "dof = len(asia) + len(africa) - 2\n",
    "diff_mean = np.mean(asia)-np.mean(africa)\n",
    "s = sp(asia, africa)*(1/len(asia)+1/len(africa))\n",
    "cl=stats.t.interval(alpha, dof, loc=diff_mean, scale=s)\n",
    "print('신뢰구간:', cl)"
   ]
  },
  {
   "cell_type": "markdown",
   "id": "c114504b",
   "metadata": {},
   "source": [
    "#### 3) 일원배치 분산분석\n",
    "- 귀무가설: 선수가 선호하는 포지선에 따라 이적료에 차이가 없다.\n",
    "- 대립가설: 적어도 하나의 선수가 선호하는 포지션에 따라 이적료에 차이가 있다."
   ]
  },
  {
   "cell_type": "code",
   "execution_count": 84,
   "id": "7f7ed450",
   "metadata": {},
   "outputs": [
    {
     "data": {
      "text/html": [
       "<table class=\"simpletable\">\n",
       "<caption>Multiple Comparison of Means - Tukey HSD, FWER=0.05</caption>\n",
       "<tr>\n",
       "  <th>group1</th> <th>group2</th>   <th>meandiff</th>   <th>p-adj</th>     <th>lower</th>        <th>upper</th>    <th>reject</th>\n",
       "</tr>\n",
       "<tr>\n",
       "    <td>DF</td>     <td>GK</td>   <td>-312274.4913</td> <td>0.462</td> <td>-861916.0805</td>  <td>237367.0979</td>  <td>False</td>\n",
       "</tr>\n",
       "<tr>\n",
       "    <td>DF</td>     <td>MF</td>    <td>817414.0563</td>  <td>0.0</td>   <td>436071.672</td>  <td>1198756.4407</td>  <td>True</td> \n",
       "</tr>\n",
       "<tr>\n",
       "    <td>DF</td>     <td>ST</td>   <td>1026012.7998</td>  <td>0.0</td>   <td>566258.1127</td>  <td>1485767.487</td>  <td>True</td> \n",
       "</tr>\n",
       "<tr>\n",
       "    <td>GK</td>     <td>MF</td>   <td>1129688.5476</td>  <td>0.0</td>   <td>593768.2324</td> <td>1665608.8629</td>  <td>True</td> \n",
       "</tr>\n",
       "<tr>\n",
       "    <td>GK</td>     <td>ST</td>   <td>1338287.2911</td>  <td>0.0</td>   <td>744012.1507</td> <td>1932562.4315</td>  <td>True</td> \n",
       "</tr>\n",
       "<tr>\n",
       "    <td>MF</td>     <td>ST</td>    <td>208598.7435</td> <td>0.621</td> <td>-234660.8645</td>  <td>651858.3514</td>  <td>False</td>\n",
       "</tr>\n",
       "</table>"
      ],
      "text/plain": [
       "<class 'statsmodels.iolib.table.SimpleTable'>"
      ]
     },
     "metadata": {},
     "output_type": "display_data"
    },
    {
     "data": {
      "image/png": "[encoded data removed]",
      "text/plain": [
       "<Figure size 300x100 with 1 Axes>"
      ]
     },
     "metadata": {},
     "output_type": "display_data"
    }
   ],
   "source": [
    "for pos in ['MF', 'DF', 'ST', 'GK']:\n",
    "    globals()['{}_sample'.format(pos)] = \\\n",
    "    train.loc[train['position']==pos, 'value'] # 샘플 생성\n",
    "\n",
    "# for pos in ['MF', 'DF', 'ST', 'GK']:\n",
    "#     print(stats.shapiro(globals()['{}_sample'.format(pos)])) # 전부 정규성 불만족\n",
    "    \n",
    "# print(stats.levene(MF_sample, DF_sample, ST_sample, GK_sample)) # 등분산성 불만족\n",
    "\n",
    "stats.kruskal(MF_sample, DF_sample, ST_sample, GK_sample) # 귀무가설 기각\n",
    "\n",
    "from statsmodels.stats.multicomp import pairwise_tukeyhsd, MultiComparison\n",
    "mc = MultiComparison(data=train['value'], groups=train['position'])\n",
    "tukeyhsd = mc.tukeyhsd(alpha=.05)\n",
    "fig = tukeyhsd.plot_simultaneous(figsize=(3,1))\n",
    "display(tukeyhsd.summary())"
   ]
  },
  {
   "cell_type": "markdown",
   "id": "7fa61389",
   "metadata": {},
   "source": [
    "#### 4) 회귀분석"
   ]
  },
  {
   "cell_type": "code",
   "execution_count": 85,
   "id": "d81f0177",
   "metadata": {},
   "outputs": [
    {
     "data": {
      "text/html": [
       "<div>\n",
       "<style scoped>\n",
       "    .dataframe tbody tr th:only-of-type {\n",
       "        vertical-align: middle;\n",
       "    }\n",
       "\n",
       "    .dataframe tbody tr th {\n",
       "        vertical-align: top;\n",
       "    }\n",
       "\n",
       "    .dataframe thead th {\n",
       "        text-align: right;\n",
       "    }\n",
       "</style>\n",
       "<table border=\"1\" class=\"dataframe\">\n",
       "  <thead>\n",
       "    <tr style=\"text-align: right;\">\n",
       "      <th></th>\n",
       "      <th>name</th>\n",
       "      <th>age</th>\n",
       "      <th>continent</th>\n",
       "      <th>contract_until</th>\n",
       "      <th>position</th>\n",
       "      <th>prefer_foot</th>\n",
       "      <th>reputation</th>\n",
       "      <th>stat_overall</th>\n",
       "      <th>stat_potential</th>\n",
       "      <th>stat_skill_moves</th>\n",
       "      <th>value</th>\n",
       "      <th>contract_year</th>\n",
       "    </tr>\n",
       "  </thead>\n",
       "  <tbody>\n",
       "    <tr>\n",
       "      <th>0</th>\n",
       "      <td>L. Messi</td>\n",
       "      <td>31</td>\n",
       "      <td>south america</td>\n",
       "      <td>2021</td>\n",
       "      <td>ST</td>\n",
       "      <td>left</td>\n",
       "      <td>5.0</td>\n",
       "      <td>94</td>\n",
       "      <td>94</td>\n",
       "      <td>4.0</td>\n",
       "      <td>110500000.0</td>\n",
       "      <td>2021</td>\n",
       "    </tr>\n",
       "    <tr>\n",
       "      <th>1</th>\n",
       "      <td>De Gea</td>\n",
       "      <td>27</td>\n",
       "      <td>europe</td>\n",
       "      <td>2020</td>\n",
       "      <td>GK</td>\n",
       "      <td>right</td>\n",
       "      <td>4.0</td>\n",
       "      <td>91</td>\n",
       "      <td>93</td>\n",
       "      <td>1.0</td>\n",
       "      <td>72000000.0</td>\n",
       "      <td>2020</td>\n",
       "    </tr>\n",
       "  </tbody>\n",
       "</table>\n",
       "</div>"
      ],
      "text/plain": [
       "       name  age      continent contract_until position prefer_foot  \\\n",
       "0  L. Messi   31  south america           2021       ST        left   \n",
       "1    De Gea   27         europe           2020       GK       right   \n",
       "\n",
       "   reputation  stat_overall  stat_potential  stat_skill_moves        value  \\\n",
       "0         5.0            94              94               4.0  110500000.0   \n",
       "1         4.0            91              93               1.0   72000000.0   \n",
       "\n",
       "   contract_year  \n",
       "0           2021  \n",
       "1           2020  "
      ]
     },
     "execution_count": 85,
     "metadata": {},
     "output_type": "execute_result"
    }
   ],
   "source": [
    "train.head(2)"
   ]
  },
  {
   "cell_type": "code",
   "execution_count": 23,
   "id": "241a6d5c",
   "metadata": {},
   "outputs": [
    {
     "name": "stdout",
     "output_type": "stream",
     "text": [
      "                            OLS Regression Results                            \n",
      "==============================================================================\n",
      "Dep. Variable:                  value   R-squared:                       0.653\n",
      "Model:                            OLS   Adj. R-squared:                  0.652\n",
      "Method:                 Least Squares   F-statistic:                     1196.\n",
      "Date:                Wed, 27 Sep 2023   Prob (F-statistic):               0.00\n",
      "Time:                        10:16:21   Log-Likelihood:            -1.4712e+05\n",
      "No. Observations:                8932   AIC:                         2.943e+05\n",
      "Df Residuals:                    8917   BIC:                         2.944e+05\n",
      "Df Model:                          14                                         \n",
      "Covariance Type:            nonrobust                                         \n",
      "==============================================================================================\n",
      "                                 coef    std err          t      P>|t|      [0.025      0.975]\n",
      "----------------------------------------------------------------------------------------------\n",
      "Intercept                   -7.16e+08   6.13e+07    -11.683      0.000   -8.36e+08   -5.96e+08\n",
      "continent[T.asia]           6.268e+05   1.81e+05      3.457      0.001    2.71e+05    9.82e+05\n",
      "continent[T.europe]         1.918e+05   1.38e+05      1.392      0.164   -7.83e+04    4.62e+05\n",
      "continent[T.oceania]        7.333e+05   2.92e+05      2.510      0.012    1.61e+05    1.31e+06\n",
      "continent[T.south america]  2.859e+05   1.52e+05      1.885      0.059   -1.14e+04    5.83e+05\n",
      "position[T.GK]               9.26e+05   1.56e+05      5.942      0.000    6.21e+05    1.23e+06\n",
      "position[T.MF]              3.664e+05   9.74e+04      3.763      0.000    1.76e+05    5.57e+05\n",
      "position[T.ST]              4.415e+05   1.15e+05      3.827      0.000    2.15e+05    6.68e+05\n",
      "prefer_foot[T.right]        9.058e+04   8.79e+04      1.031      0.303   -8.17e+04    2.63e+05\n",
      "age                        -4.034e+05   1.64e+04    -24.658      0.000   -4.36e+05   -3.71e+05\n",
      "reputation                  6.254e+06   1.03e+05     60.594      0.000    6.05e+06    6.46e+06\n",
      "stat_overall                5.154e+05   1.46e+04     35.348      0.000    4.87e+05    5.44e+05\n",
      "stat_potential             -6.093e+04   1.48e+04     -4.128      0.000   -8.99e+04    -3.2e+04\n",
      "stat_skill_moves            8.516e+04   7.77e+04      1.096      0.273   -6.72e+04    2.37e+05\n",
      "contract_year                3.42e+05   3.04e+04     11.261      0.000    2.82e+05    4.02e+05\n",
      "==============================================================================\n",
      "Omnibus:                     9288.044   Durbin-Watson:                   0.864\n",
      "Prob(Omnibus):                  0.000   Jarque-Bera (JB):          1478629.304\n",
      "Skew:                           4.855   Prob(JB):                         0.00\n",
      "Kurtosis:                      65.280   Cond. No.                     3.40e+06\n",
      "==============================================================================\n",
      "\n",
      "Notes:\n",
      "[1] Standard Errors assume that the covariance matrix of the errors is correctly specified.\n",
      "[2] The condition number is large, 3.4e+06. This might indicate that there are\n",
      "strong multicollinearity or other numerical problems.\n"
     ]
    }
   ],
   "source": [
    "feature_nm = train.columns.drop(['name', 'contract_until', 'value'])\n",
    "feature_nm = [name for name in feature_nm]\n",
    "\n",
    "import statsmodels.api as sm\n",
    "import statsmodels.formula.api as smf\n",
    "model = smf.ols(formula='value ~' + \"+\".join(feature_nm), data=train)\n",
    "result = model.fit()\n",
    "print(result.summary())"
   ]
  },
  {
   "cell_type": "markdown",
   "id": "e08444ff",
   "metadata": {},
   "source": [
    "- 범주형 변수는 더미변수로 치환, 연속형 변수는 스케일링을 하여 다시 회귀분석 하였다(아래)."
   ]
  },
  {
   "cell_type": "code",
   "execution_count": 48,
   "id": "649572a1",
   "metadata": {},
   "outputs": [
    {
     "name": "stdout",
     "output_type": "stream",
     "text": [
      "                            OLS Regression Results                            \n",
      "==============================================================================\n",
      "Dep. Variable:                  value   R-squared:                       1.000\n",
      "Model:                            OLS   Adj. R-squared:                  1.000\n",
      "Method:                 Least Squares   F-statistic:                 1.373e+32\n",
      "Date:                Wed, 27 Sep 2023   Prob (F-statistic):               0.00\n",
      "Time:                        10:27:03   Log-Likelihood:             1.5183e+05\n",
      "No. Observations:                8932   AIC:                        -3.036e+05\n",
      "Df Residuals:                    8909   BIC:                        -3.035e+05\n",
      "Df Model:                          22                                         \n",
      "Covariance Type:            nonrobust                                         \n",
      "===========================================================================================\n",
      "                              coef    std err          t      P>|t|      [0.025      0.975]\n",
      "-------------------------------------------------------------------------------------------\n",
      "Intercept               -1.484e-09   6.93e-10     -2.142      0.032   -2.84e-09   -1.26e-10\n",
      "age                      2.314e-09   2.29e-10     10.103      0.000    1.86e-09    2.76e-09\n",
      "reputation               2.139e-09   1.52e-10     14.065      0.000    1.84e-09    2.44e-09\n",
      "stat_overall            -1.426e-09   3.12e-10     -4.567      0.000   -2.04e-09   -8.14e-10\n",
      "stat_potential          -4.075e-10   2.58e-10     -1.577      0.115   -9.14e-10    9.89e-11\n",
      "stat_skill_moves        -4.984e-10   1.76e-10     -2.831      0.005   -8.43e-10   -1.53e-10\n",
      "value                       1.0000   3.13e-17    3.2e+16      0.000       1.000       1.000\n",
      "continent_asia          -8.658e-10   5.31e-10     -1.631      0.103   -1.91e-09    1.75e-10\n",
      "continent_europe        -5.894e-10   4.02e-10     -1.467      0.142   -1.38e-09    1.98e-10\n",
      "continent_oceania        -5.02e-10   8.53e-10     -0.589      0.556   -2.17e-09    1.17e-09\n",
      "continent_south_america -4.075e-10   4.46e-10     -0.913      0.361   -1.28e-09    4.67e-10\n",
      "position_GK             -8.004e-10   4.55e-10     -1.758      0.079   -1.69e-09    9.21e-11\n",
      "position_MF             -6.403e-10   2.84e-10     -2.252      0.024    -1.2e-09    -8.3e-11\n",
      "position_ST              4.366e-10   3.37e-10      1.296      0.195   -2.24e-10     1.1e-09\n",
      "prefer_foot_right        3.929e-10   2.56e-10      1.533      0.125    -1.1e-10    8.95e-10\n",
      "contract_year_2019       8.004e-11   5.51e-10      0.145      0.884      -1e-09    1.16e-09\n",
      "contract_year_2020      -5.493e-10   5.66e-10     -0.971      0.332   -1.66e-09     5.6e-10\n",
      "contract_year_2021       1.746e-10   5.57e-10      0.313      0.754   -9.18e-10    1.27e-09\n",
      "contract_year_2022      -1.397e-09   6.47e-10     -2.158      0.031   -2.67e-09   -1.28e-10\n",
      "contract_year_2023      -1.746e-09   6.87e-10     -2.540      0.011   -3.09e-09   -3.99e-10\n",
      "contract_year_2024               0   2.99e-09          0      1.000   -5.86e-09    5.86e-09\n",
      "contract_year_2025       5.588e-09   5.84e-09      0.957      0.338   -5.85e-09     1.7e-08\n",
      "contract_year_2026      -3.725e-08   1.01e-08     -3.684      0.000   -5.71e-08   -1.74e-08\n",
      "==============================================================================\n",
      "Omnibus:                    10237.228   Durbin-Watson:                   0.181\n",
      "Prob(Omnibus):                  0.000   Jarque-Bera (JB):          1244701.999\n",
      "Skew:                          -5.938   Prob(JB):                         0.00\n",
      "Kurtosis:                      59.599   Cond. No.                     6.15e+08\n",
      "==============================================================================\n",
      "\n",
      "Notes:\n",
      "[1] Standard Errors assume that the covariance matrix of the errors is correctly specified.\n",
      "[2] The condition number is large, 6.15e+08. This might indicate that there are\n",
      "strong multicollinearity or other numerical problems.\n"
     ]
    }
   ],
   "source": [
    "from sklearn.preprocessing import StandardScaler\n",
    "train_drop = train.drop(['name', 'contract_until'], axis=1)\n",
    "train_dum = pd.get_dummies(data=train_drop, columns=['continent', 'position', 'prefer_foot', 'contract_year'], drop_first=True)\n",
    "train_sc = train_dum.copy()\n",
    "scaler = StandardScaler()\n",
    "train_sc.iloc[:, :5] = scaler.fit_transform(train_sc.iloc[:, :5])\n",
    "train_sc.rename(columns = {'continent_south america' : 'continent_south_america'}, inplace = True)\n",
    "\n",
    "features = \"+\".join([nm for nm in train_sc.columns])\n",
    "model = smf.ols(formula='value ~' + features, data=train_sc)\n",
    "result = model.fit()\n",
    "print(result.summary())"
   ]
  },
  {
   "cell_type": "markdown",
   "id": "05d2873d",
   "metadata": {},
   "source": [
    "### 3. 머신러닝\n",
    "#### 1) kfold 교차 검증을 수행하시오.\n",
    "#### 2) 범주형 변수는 더미 변수로 치환하여 모델을 학습하시오.\n",
    "    - 기준변수: continent('europe'), contract_year('2019'), position('ST'), prefer_foot('left')"
   ]
  },
  {
   "cell_type": "code",
   "execution_count": 78,
   "id": "1ba964cf",
   "metadata": {},
   "outputs": [],
   "source": [
    "from sklearn.model_selection import train_test_split, KFold, cross_val_score\n",
    "from sklearn.preprocessing import StandardScaler\n",
    "from sklearn.ensemble import RandomForestRegressor\n",
    "from xgboost import XGBRegressor\n",
    "from lightgbm import LGBMRegressor\n",
    "from sklearn.metrics import mean_squared_error\n",
    "import time\n",
    "\n",
    "# 데이터 전처리\n",
    "train_drop = train.drop(['name', 'contract_until'], axis=1)\n",
    "train_drop.head(2)\n",
    "train_dum = pd.get_dummies(columns=['continent', 'position', 'prefer_foot', 'contract_year'], \n",
    "                           data=train_drop)\n",
    "train_dum.drop(['continent_europe', 'contract_year_2019', 'position_ST', 'prefer_foot_left'], \n",
    "               axis=1, inplace=True)\n",
    "train_dum.head(3)\n",
    "\n",
    "# 데이터 분할\n",
    "X = train_dum.drop('value', axis=1)\n",
    "y = train_dum.value\n",
    "\n",
    "# KFold 사용자 정의 함수 생성(cv=5)\n",
    "kfold=KFold()\n",
    "def model_result(model):\n",
    "    pred_li = []\n",
    "    for train_index, test_index in kfold.split(X):\n",
    "        X_train, X_test = X.iloc[train_index, :], X.iloc[test_index, :]\n",
    "        y_train, y_test = y.iloc[train_index], y.iloc[test_index]\n",
    "        \n",
    "        start = time.time()\n",
    "        model.fit(X_train, y_train)\n",
    "        end = time.time()\n",
    "        \n",
    "        pred = model.predict(X_test)\n",
    "        rmse = np.sqrt(mean_squared_error(pred, y_test))\n",
    "        pred_li.append(rmse)\n",
    "        \n",
    "    print(f'### {model.__class__.__name__} ###')\n",
    "    print(f'time: {end-start} sec')\n",
    "    print(f'평균 RMSE: {round(np.mean(pred_li),4)}')\n",
    "    \n",
    "# 모델 객체 생성\n",
    "rfr_reg = RandomForestRegressor(random_state=123)\n",
    "xgb_reg = XGBRegressor(random_state=123)\n",
    "lgbm_reg = LGBMRegressor(random_state=123)"
   ]
  },
  {
   "cell_type": "code",
   "execution_count": 77,
   "id": "c16af28d",
   "metadata": {},
   "outputs": [
    {
     "name": "stdout",
     "output_type": "stream",
     "text": [
      "### RandomForestRegressor ###\n",
      "time: 4.2838873863220215 sec\n",
      "평균 RMSE: 2486207.195\n",
      "### XGBRegressor ###\n",
      "time: 2.7109153270721436 sec\n",
      "평균 RMSE: 2496808.6933\n",
      "### LGBMRegressor ###\n",
      "time: 1.5722835063934326 sec\n",
      "평균 RMSE: 2470924.7896\n"
     ]
    }
   ],
   "source": [
    "model_result(rfr_reg)\n",
    "model_result(xgb_reg)\n",
    "model_result(lgbm_reg)"
   ]
  },
  {
   "cell_type": "code",
   "execution_count": null,
   "id": "e3402d0d",
   "metadata": {},
   "outputs": [],
   "source": []
  }
 ],
 "metadata": {
  "kernelspec": {
   "display_name": "adp_code",
   "language": "python",
   "name": "adp_code"
  },
  "language_info": {
   "codemirror_mode": {
    "name": "ipython",
    "version": 3
   },
   "file_extension": ".py",
   "mimetype": "text/x-python",
   "name": "python",
   "nbconvert_exporter": "python",
   "pygments_lexer": "ipython3",
   "version": "3.7.16"
  }
 },
 "nbformat": 4,
 "nbformat_minor": 5
}
