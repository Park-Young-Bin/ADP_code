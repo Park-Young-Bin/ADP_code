{
 "cells": [
  {
   "cell_type": "markdown",
   "id": "80564661",
   "metadata": {},
   "source": [
    "# [Dacon_당뇨병 위험 분류 예측](https://dacon.io/competitions/open/236068/overview/description)\n",
    "\n",
    "- 평가 산식 : ACCURACY\n",
    "- 컬럼 종류\n",
    "    - Pregnancies : 임신 횟수\n",
    "    - Glucose : 포도당 부하 검사 수치\n",
    "    - BloodPressure : 혈압(mm Hg)\n",
    "    - SkinThickness : 팔 삼두근 뒤쪽의 피하지방 측정값(mm)\n",
    "    - Insulin : 혈청 인슐린(mu U/ml)\n",
    "    - BMI : 체질량지수\n",
    "    - DiabetesPedigreeFunction : 당뇨 내력 가중치 값\n",
    "    - Age : 나이\n",
    "    - Outcome : 당뇨병 여부(0: 발병되지 않음, 1: 발병)"
   ]
  },
  {
   "cell_type": "markdown",
   "id": "585f2806",
   "metadata": {},
   "source": [
    "## 1. 데이터 살펴보기"
   ]
  },
  {
   "cell_type": "code",
   "execution_count": 1,
   "id": "f270ee9b",
   "metadata": {
    "scrolled": true
   },
   "outputs": [
    {
     "data": {
      "text/html": [
       "<div>\n",
       "<style scoped>\n",
       "    .dataframe tbody tr th:only-of-type {\n",
       "        vertical-align: middle;\n",
       "    }\n",
       "\n",
       "    .dataframe tbody tr th {\n",
       "        vertical-align: top;\n",
       "    }\n",
       "\n",
       "    .dataframe thead th {\n",
       "        text-align: right;\n",
       "    }\n",
       "</style>\n",
       "<table border=\"1\" class=\"dataframe\">\n",
       "  <thead>\n",
       "    <tr style=\"text-align: right;\">\n",
       "      <th></th>\n",
       "      <th>Pregnancies</th>\n",
       "      <th>Glucose</th>\n",
       "      <th>BloodPressure</th>\n",
       "      <th>SkinThickness</th>\n",
       "      <th>Insulin</th>\n",
       "      <th>BMI</th>\n",
       "      <th>DiabetesPedigreeFunction</th>\n",
       "      <th>Age</th>\n",
       "      <th>Outcome</th>\n",
       "    </tr>\n",
       "  </thead>\n",
       "  <tbody>\n",
       "    <tr>\n",
       "      <th>0</th>\n",
       "      <td>4</td>\n",
       "      <td>103</td>\n",
       "      <td>60</td>\n",
       "      <td>33</td>\n",
       "      <td>192</td>\n",
       "      <td>24.0</td>\n",
       "      <td>0.966</td>\n",
       "      <td>33</td>\n",
       "      <td>0</td>\n",
       "    </tr>\n",
       "    <tr>\n",
       "      <th>1</th>\n",
       "      <td>10</td>\n",
       "      <td>133</td>\n",
       "      <td>68</td>\n",
       "      <td>0</td>\n",
       "      <td>0</td>\n",
       "      <td>27.0</td>\n",
       "      <td>0.245</td>\n",
       "      <td>36</td>\n",
       "      <td>0</td>\n",
       "    </tr>\n",
       "    <tr>\n",
       "      <th>2</th>\n",
       "      <td>4</td>\n",
       "      <td>112</td>\n",
       "      <td>78</td>\n",
       "      <td>40</td>\n",
       "      <td>0</td>\n",
       "      <td>39.4</td>\n",
       "      <td>0.236</td>\n",
       "      <td>38</td>\n",
       "      <td>0</td>\n",
       "    </tr>\n",
       "    <tr>\n",
       "      <th>3</th>\n",
       "      <td>1</td>\n",
       "      <td>119</td>\n",
       "      <td>88</td>\n",
       "      <td>41</td>\n",
       "      <td>170</td>\n",
       "      <td>45.3</td>\n",
       "      <td>0.507</td>\n",
       "      <td>26</td>\n",
       "      <td>0</td>\n",
       "    </tr>\n",
       "    <tr>\n",
       "      <th>4</th>\n",
       "      <td>1</td>\n",
       "      <td>114</td>\n",
       "      <td>66</td>\n",
       "      <td>36</td>\n",
       "      <td>200</td>\n",
       "      <td>38.1</td>\n",
       "      <td>0.289</td>\n",
       "      <td>21</td>\n",
       "      <td>0</td>\n",
       "    </tr>\n",
       "  </tbody>\n",
       "</table>\n",
       "</div>"
      ],
      "text/plain": [
       "   Pregnancies  Glucose  BloodPressure  SkinThickness  Insulin   BMI  \\\n",
       "0            4      103             60             33      192  24.0   \n",
       "1           10      133             68              0        0  27.0   \n",
       "2            4      112             78             40        0  39.4   \n",
       "3            1      119             88             41      170  45.3   \n",
       "4            1      114             66             36      200  38.1   \n",
       "\n",
       "   DiabetesPedigreeFunction  Age  Outcome  \n",
       "0                     0.966   33        0  \n",
       "1                     0.245   36        0  \n",
       "2                     0.236   38        0  \n",
       "3                     0.507   26        0  \n",
       "4                     0.289   21        0  "
      ]
     },
     "execution_count": 1,
     "metadata": {},
     "output_type": "execute_result"
    }
   ],
   "source": [
    "import os\n",
    "import pandas as pd\n",
    "import numpy as np\n",
    "import matplotlib.pyplot as plt\n",
    "import seaborn as sns\n",
    "plt.rc('font', family='Malgun Gothic')\n",
    "plt.rcParams['axes.unicode_minus']=False\n",
    "df = pd.read_csv(os.getcwd() + '/data/diabetes/train.csv').drop(columns=['ID'], axis=1)\n",
    "df.head()"
   ]
  },
  {
   "cell_type": "code",
   "execution_count": 2,
   "id": "fe530e88",
   "metadata": {},
   "outputs": [
    {
     "name": "stdout",
     "output_type": "stream",
     "text": [
      "<class 'pandas.core.frame.DataFrame'>\n",
      "RangeIndex: 652 entries, 0 to 651\n",
      "Data columns (total 9 columns):\n",
      " #   Column                    Non-Null Count  Dtype  \n",
      "---  ------                    --------------  -----  \n",
      " 0   Pregnancies               652 non-null    int64  \n",
      " 1   Glucose                   652 non-null    int64  \n",
      " 2   BloodPressure             652 non-null    int64  \n",
      " 3   SkinThickness             652 non-null    int64  \n",
      " 4   Insulin                   652 non-null    int64  \n",
      " 5   BMI                       652 non-null    float64\n",
      " 6   DiabetesPedigreeFunction  652 non-null    float64\n",
      " 7   Age                       652 non-null    int64  \n",
      " 8   Outcome                   652 non-null    int64  \n",
      "dtypes: float64(2), int64(7)\n",
      "memory usage: 46.0 KB\n"
     ]
    }
   ],
   "source": [
    "df.info()"
   ]
  },
  {
   "cell_type": "code",
   "execution_count": 10,
   "id": "ecf3c07d",
   "metadata": {},
   "outputs": [
    {
     "data": {
      "text/plain": [
       "0"
      ]
     },
     "execution_count": 10,
     "metadata": {},
     "output_type": "execute_result"
    }
   ],
   "source": [
    "# 중복 행 개수\n",
    "df.duplicated().sum()"
   ]
  },
  {
   "cell_type": "code",
   "execution_count": 16,
   "id": "a0190b06",
   "metadata": {},
   "outputs": [
    {
     "data": {
      "text/plain": [
       "Pregnancies                 0\n",
       "Glucose                     0\n",
       "BloodPressure               0\n",
       "SkinThickness               0\n",
       "Insulin                     0\n",
       "BMI                         0\n",
       "DiabetesPedigreeFunction    0\n",
       "Age                         0\n",
       "Outcome                     0\n",
       "dtype: int64"
      ]
     },
     "execution_count": 16,
     "metadata": {},
     "output_type": "execute_result"
    }
   ],
   "source": [
    "# 결측치 확인\n",
    "df.isna().sum()"
   ]
  },
  {
   "cell_type": "code",
   "execution_count": 10,
   "id": "02870942",
   "metadata": {},
   "outputs": [
    {
     "data": {
      "image/png": "[encoded data removed]",
      "text/plain": [
       "<Figure size 500x400 with 2 Axes>"
      ]
     },
     "metadata": {},
     "output_type": "display_data"
    }
   ],
   "source": [
    "# 상관행렬 히트맵\n",
    "plt.figure(figsize=(5,4))\n",
    "df_corr = df.corr()\n",
    "up_mask = np.triu(np.ones(df_corr.shape), k=1).astype(np.bool_)\n",
    "sns.heatmap(df_corr, vmax=1, vmin=-1, annot = True, fmt='.2f', cmap='viridis', mask=up_mask)\n",
    "plt.show()"
   ]
  },
  {
   "cell_type": "code",
   "execution_count": 17,
   "id": "f8ca5708",
   "metadata": {},
   "outputs": [
    {
     "data": {
      "image/png": "[encoded data removed]",
      "text/plain": [
       "<Figure size 1000x400 with 1 Axes>"
      ]
     },
     "metadata": {},
     "output_type": "display_data"
    }
   ],
   "source": [
    "# 독립변수 상자그림\n",
    "df_v1 = pd.melt(df.drop('Outcome', axis=1), var_name='cols', value_name='values')\n",
    "plt.figure(figsize=(10, 4))\n",
    "plt.xticks(fontsize=8)\n",
    "sns.boxplot(data=df_v1,x = 'cols', y='values');"
   ]
  },
  {
   "cell_type": "code",
   "execution_count": 18,
   "id": "778803ca",
   "metadata": {},
   "outputs": [
    {
     "data": {
      "text/html": [
       "<div>\n",
       "<style scoped>\n",
       "    .dataframe tbody tr th:only-of-type {\n",
       "        vertical-align: middle;\n",
       "    }\n",
       "\n",
       "    .dataframe tbody tr th {\n",
       "        vertical-align: top;\n",
       "    }\n",
       "\n",
       "    .dataframe thead th {\n",
       "        text-align: right;\n",
       "    }\n",
       "</style>\n",
       "<table border=\"1\" class=\"dataframe\">\n",
       "  <thead>\n",
       "    <tr style=\"text-align: right;\">\n",
       "      <th></th>\n",
       "      <th>Pregnancies</th>\n",
       "      <th>Glucose</th>\n",
       "      <th>BloodPressure</th>\n",
       "      <th>SkinThickness</th>\n",
       "      <th>Insulin</th>\n",
       "      <th>BMI</th>\n",
       "      <th>DiabetesPedigreeFunction</th>\n",
       "      <th>Age</th>\n",
       "      <th>Outcome</th>\n",
       "    </tr>\n",
       "  </thead>\n",
       "  <tbody>\n",
       "    <tr>\n",
       "      <th>count</th>\n",
       "      <td>652.000000</td>\n",
       "      <td>652.000000</td>\n",
       "      <td>652.000000</td>\n",
       "      <td>652.000000</td>\n",
       "      <td>652.000000</td>\n",
       "      <td>652.000000</td>\n",
       "      <td>652.000000</td>\n",
       "      <td>652.000000</td>\n",
       "      <td>652.000000</td>\n",
       "    </tr>\n",
       "    <tr>\n",
       "      <th>mean</th>\n",
       "      <td>3.923313</td>\n",
       "      <td>120.946319</td>\n",
       "      <td>68.895706</td>\n",
       "      <td>20.440184</td>\n",
       "      <td>80.878834</td>\n",
       "      <td>31.947393</td>\n",
       "      <td>0.465133</td>\n",
       "      <td>33.510736</td>\n",
       "      <td>0.349693</td>\n",
       "    </tr>\n",
       "    <tr>\n",
       "      <th>std</th>\n",
       "      <td>3.327529</td>\n",
       "      <td>31.992394</td>\n",
       "      <td>19.183843</td>\n",
       "      <td>15.918604</td>\n",
       "      <td>117.748315</td>\n",
       "      <td>7.460975</td>\n",
       "      <td>0.329496</td>\n",
       "      <td>11.824817</td>\n",
       "      <td>0.477239</td>\n",
       "    </tr>\n",
       "    <tr>\n",
       "      <th>min</th>\n",
       "      <td>0.000000</td>\n",
       "      <td>0.000000</td>\n",
       "      <td>0.000000</td>\n",
       "      <td>0.000000</td>\n",
       "      <td>0.000000</td>\n",
       "      <td>0.000000</td>\n",
       "      <td>0.084000</td>\n",
       "      <td>21.000000</td>\n",
       "      <td>0.000000</td>\n",
       "    </tr>\n",
       "    <tr>\n",
       "      <th>25%</th>\n",
       "      <td>1.000000</td>\n",
       "      <td>99.000000</td>\n",
       "      <td>64.000000</td>\n",
       "      <td>0.000000</td>\n",
       "      <td>0.000000</td>\n",
       "      <td>27.400000</td>\n",
       "      <td>0.238750</td>\n",
       "      <td>24.000000</td>\n",
       "      <td>0.000000</td>\n",
       "    </tr>\n",
       "    <tr>\n",
       "      <th>50%</th>\n",
       "      <td>3.000000</td>\n",
       "      <td>117.000000</td>\n",
       "      <td>72.000000</td>\n",
       "      <td>23.000000</td>\n",
       "      <td>34.000000</td>\n",
       "      <td>32.000000</td>\n",
       "      <td>0.363000</td>\n",
       "      <td>29.500000</td>\n",
       "      <td>0.000000</td>\n",
       "    </tr>\n",
       "    <tr>\n",
       "      <th>75%</th>\n",
       "      <td>6.000000</td>\n",
       "      <td>142.000000</td>\n",
       "      <td>80.000000</td>\n",
       "      <td>32.000000</td>\n",
       "      <td>126.000000</td>\n",
       "      <td>36.425000</td>\n",
       "      <td>0.607750</td>\n",
       "      <td>41.000000</td>\n",
       "      <td>1.000000</td>\n",
       "    </tr>\n",
       "    <tr>\n",
       "      <th>max</th>\n",
       "      <td>15.000000</td>\n",
       "      <td>199.000000</td>\n",
       "      <td>114.000000</td>\n",
       "      <td>99.000000</td>\n",
       "      <td>846.000000</td>\n",
       "      <td>57.300000</td>\n",
       "      <td>2.329000</td>\n",
       "      <td>81.000000</td>\n",
       "      <td>1.000000</td>\n",
       "    </tr>\n",
       "  </tbody>\n",
       "</table>\n",
       "</div>"
      ],
      "text/plain": [
       "       Pregnancies     Glucose  BloodPressure  SkinThickness     Insulin  \\\n",
       "count   652.000000  652.000000     652.000000     652.000000  652.000000   \n",
       "mean      3.923313  120.946319      68.895706      20.440184   80.878834   \n",
       "std       3.327529   31.992394      19.183843      15.918604  117.748315   \n",
       "min       0.000000    0.000000       0.000000       0.000000    0.000000   \n",
       "25%       1.000000   99.000000      64.000000       0.000000    0.000000   \n",
       "50%       3.000000  117.000000      72.000000      23.000000   34.000000   \n",
       "75%       6.000000  142.000000      80.000000      32.000000  126.000000   \n",
       "max      15.000000  199.000000     114.000000      99.000000  846.000000   \n",
       "\n",
       "              BMI  DiabetesPedigreeFunction         Age     Outcome  \n",
       "count  652.000000                652.000000  652.000000  652.000000  \n",
       "mean    31.947393                  0.465133   33.510736    0.349693  \n",
       "std      7.460975                  0.329496   11.824817    0.477239  \n",
       "min      0.000000                  0.084000   21.000000    0.000000  \n",
       "25%     27.400000                  0.238750   24.000000    0.000000  \n",
       "50%     32.000000                  0.363000   29.500000    0.000000  \n",
       "75%     36.425000                  0.607750   41.000000    1.000000  \n",
       "max     57.300000                  2.329000   81.000000    1.000000  "
      ]
     },
     "execution_count": 18,
     "metadata": {},
     "output_type": "execute_result"
    }
   ],
   "source": [
    "df.describe()"
   ]
  },
  {
   "cell_type": "code",
   "execution_count": 36,
   "id": "0e74666c",
   "metadata": {},
   "outputs": [
    {
     "data": {
      "image/png": "[encoded data removed]",
      "text/plain": [
       "<Figure size 640x480 with 6 Axes>"
      ]
     },
     "metadata": {},
     "output_type": "display_data"
    }
   ],
   "source": [
    "df[['Glucose','BloodPressure','SkinThickness','Insulin','BMI']].hist(bins=100)\n",
    "plt.tight_layout();"
   ]
  },
  {
   "cell_type": "code",
   "execution_count": 38,
   "id": "1c328435",
   "metadata": {},
   "outputs": [],
   "source": [
    "# 0값이 많이 존재하는 컬럼의 0값을 평균으로 대체\n",
    "zero_cols = ['Glucose','BloodPressure','SkinThickness','Insulin','BMI']\n",
    "mean_zero_cols = df[zero_cols].mean()\n",
    "df[zero_cols] = df[zero_cols].replace(0, mean_zero_cols)"
   ]
  },
  {
   "cell_type": "code",
   "execution_count": 17,
   "id": "8d64e709",
   "metadata": {},
   "outputs": [
    {
     "data": {
      "text/plain": [
       "0    424\n",
       "1    228\n",
       "Name: Outcome, dtype: int64"
      ]
     },
     "execution_count": 17,
     "metadata": {},
     "output_type": "execute_result"
    }
   ],
   "source": [
    "# 종속변수 범주별 개수 확인\n",
    "df.Outcome.value_counts()"
   ]
  },
  {
   "cell_type": "markdown",
   "id": "8257fb3c",
   "metadata": {},
   "source": [
    "[해석]\n",
    "1. 결측치 존재 여부\n",
    "\t- 결측치는 존재하지 않는 것으로 파악하였음.\n",
    "1. 데이터 타입 설명\n",
    "\t- 종속변수는 int형, 나머지 독립변수는 int형과 float형으로 구성되어 있음.\n",
    "1. 종속변수와 독립변수의 상관관계\n",
    "\t- 상관행렬 히트맵으로 시각화한 결과, 종속변수와 독립변수 간에 강한 상관성은 없었음.\n",
    "1. 독립변수 상관관계\n",
    "\t- 독립변수끼리의 상관관계를 확인해본 결과, 다중공선성을 걱정할 만큼 독립변수끼리의 상관성이 큰 변수는 존재하지 않았음.\n",
    "1. 종속변수 분포 파악\n",
    "\t- 0 값이 424, 1 값이 228로 데이터 불균형 문제가 발생할 수 있으며, 이를 방지하기 위해 오버샘플링 또는 언더샘플링을 진행해야 할 것임.\n",
    "1. df.describe() 함수 실행 결과, 최솟값이 0인 컬럼들이 다수 존재한다. 예를 들어 Glucose 컬럼은 포도당 수치인데 최솟값이 0인 것을 말이 안되므로 이러한 분포를 보인 컬럼들의 0값을 평균으로 대체하였다."
   ]
  },
  {
   "cell_type": "markdown",
   "id": "b5116d93",
   "metadata": {},
   "source": [
    "## 2. EDA\n",
    "### 1) z-test\n",
    "- 귀무가설: 포도당 농도는 100이다.\n",
    "- 대립가설: 포도당 농도는 100이 아니다.\n",
    "\n",
    "[해석]\n",
    "- p-value < 0.05 이므로 귀무가설을 기각함.\n",
    "- 신뢰구간에 mean0(=100)가 포함하지 않으므로(귀무가설 기각) z-test의 결과과 일치한다고 할 수 있음."
   ]
  },
  {
   "cell_type": "code",
   "execution_count": 41,
   "id": "b1081780",
   "metadata": {},
   "outputs": [
    {
     "name": "stdout",
     "output_type": "stream",
     "text": [
      "귀무가설 기각\n",
      "p값은 0.000\n",
      "신뢰구간:  (116.6621215998543, 129.27787840014568)\n"
     ]
    }
   ],
   "source": [
    "import scipy.stats as stats\n",
    "def pmean_test(sample, mean0, p_var, alpha=0.05):\n",
    "    s_mean = np.mean(sample)\n",
    "    n = len(sample)\n",
    "    rv = stats.norm()\n",
    "    interval = rv.interval(1-alpha)\n",
    "    \n",
    "    z = (s_mean - mean0) / np.sqrt(p_var / n)\n",
    "    if interval[0] <= z <= interval[1]:\n",
    "        print('귀무가설 채택')\n",
    "    else: print('귀무가설 기각')\n",
    "        \n",
    "    if z < 0: \n",
    "        p = rv.cdf(z)*2\n",
    "    else: p = (1-rv.cdf(z))*2\n",
    "    \n",
    "    print(f'p값은 {p:.3f}')\n",
    "    \n",
    "np.random.seed(100) # seed 값 고정\n",
    "z_sample = np.random.choice(df.Glucose, 100) # 100개의 표본 추출\n",
    "pmean_test(z_sample, 100, np.var(z_sample)) # z-검정 수행\n",
    "\n",
    "# 신뢰구간 계산(유의수준 95%)\n",
    "print('신뢰구간: ', stats.norm.interval(alpha=0.95, loc=np.mean(z_sample), scale = stats.sem(z_sample)))"
   ]
  },
  {
   "cell_type": "markdown",
   "id": "97873167",
   "metadata": {},
   "source": [
    "### 2) 일표본 t-test\n",
    "- 귀무가설: 포도당 농도는 112이다.\n",
    "- 대립가설: 포도당 농도는 112이 아니다.\n",
    "\n",
    "[해석]\n",
    "- p-value > 0.05 이므로 귀무가설을 기각할 수 없음.\n",
    "- 신뢰구간에 mean0(=112)가 포함하므로(귀무가설 기각 못함) t-test의 결과과 일치한다고 할 수 있음."
   ]
  },
  {
   "cell_type": "code",
   "execution_count": 42,
   "id": "94c879a4",
   "metadata": {},
   "outputs": [
    {
     "name": "stdout",
     "output_type": "stream",
     "text": [
      "(윌콕슨 부호 순위 검정) 귀무가설 기각 못함.\n",
      "(일표본t-test) 귀무가설 기각 못함.\n",
      "신뢰구간: (103.86092853151503, 127.20573813515163)\n"
     ]
    }
   ],
   "source": [
    "np.random.seed(2023) # seed 값 고정\n",
    "t_sample = np.random.choice(df.Glucose, 15) # 15개의 표본 추출\n",
    "\n",
    "# 정규성 검정\n",
    "import scipy.stats as stats\n",
    "stats.shapiro(t_sample) # 정규성을 만족하지 않음.\n",
    "    \n",
    "# 윌콕슨 부호 순위 검정\n",
    "v, p = stats.wilcoxon(t_sample - 112)\n",
    "if p < 0.05: print('(윌콕슨 부호 순위 검정) 귀무가설 기각')\n",
    "else: print('(윌콕슨 부호 순위 검정) 귀무가설 기각 못함.')\n",
    "\n",
    "# 일표본 t-검정\n",
    "t_value, p_value = stats.ttest_1samp(t_sample, popmean=112)\n",
    "if p_value < 0.05: print('(일표본t-test) 귀무가설 기각')\n",
    "else: print('(일표본t-test) 귀무가설 기각 못함.')\n",
    "    \n",
    "# 신뢰구간 계산(유의수준 95%)\n",
    "print('신뢰구간:', stats.t.interval(alpha=0.95, df=len(t_sample)-1, loc=np.mean(t_sample), scale=stats.sem(t_sample)))"
   ]
  },
  {
   "cell_type": "markdown",
   "id": "86f79717",
   "metadata": {},
   "source": [
    "### 3) 독립표본 t-test\n",
    "- 귀무가설: 두 집단 간 평균 차이가 없다.\n",
    "- 대립가설: 두 집단 간 평균 차이가 있다.\n",
    "\n",
    "[해석]\n",
    "- p-value > 0.05 이므로 귀무가설을 기각할 수 없음.\n",
    "- 신뢰구간에 diff_mean(=-5.0249)가 포함하므로(귀무가설 기각 못함) t-test의 결과과 일치한다고 할 수 있음."
   ]
  },
  {
   "cell_type": "code",
   "execution_count": 43,
   "id": "f1f991f4",
   "metadata": {},
   "outputs": [
    {
     "name": "stdout",
     "output_type": "stream",
     "text": [
      "(윌콕슨 순위합 검정) 귀무가설 기각 못함.\n",
      "(독립표본 t-test) 귀무가설 기각 못함.\n",
      "신뢰구간: (-6.414490203589484, -3.635509796410514)\n",
      "diff_mean: -5.024999999999999\n"
     ]
    }
   ],
   "source": [
    "np.random.seed(200) # seed 값 고정\n",
    "bmi_0 = np.random.choice(df.loc[df['Outcome']==0, 'BMI'], 20) # 20개의 표본 추출\n",
    "bmi_1 = np.random.choice(df.loc[df['Outcome']==1, 'BMI'], 20) # 20개의 표본 추출\n",
    "\n",
    "stats.shapiro(bmi_0) # 정규성 만족 못함.\n",
    "stats.shapiro(bmi_1) # 정규성 만족 못함.\n",
    "stats.levene(bmi_0, bmi_1) # 등분산성 만족 못함.\n",
    "\n",
    "# 윌콕슨 순위합 검정\n",
    "statistic, p = stats.mannwhitneyu(bmi_0, bmi_1)\n",
    "if p_value < 0.05: print('(윌콕슨 순위합 검정) 귀무가설 기각')\n",
    "else: print('(윌콕슨 순위합 검정) 귀무가설 기각 못함.')\n",
    "    \n",
    "# 독립표본 t-test\n",
    "statistic, p = stats.ttest_ind(bmi_0, bmi_1, equal_var=False)\n",
    "if p_value < 0.05: print('(독립표본 t-test) 귀무가설 기각')\n",
    "else: print('(독립표본 t-test) 귀무가설 기각 못함.')\n",
    "    \n",
    "def sp(data1, data2):\n",
    "    df = len(data1) + len(data2)-2\n",
    "    s1 = (len(data1)-1) * (data1.std()**2)\n",
    "    s2 = (len(data2)-1) * (data2.std()**2)\n",
    "    sp = np.sqrt((s1+s2)/df)\n",
    "    return sp\n",
    "\n",
    "alpha=0.95\n",
    "dof = len(bmi_0) + len(bmi_1) - 2\n",
    "diff_mean = np.mean(bmi_0) - np.mean(bmi_1)\n",
    "s = sp(bmi_0, bmi_1)*(1/len(bmi_0) + 1/len(bmi_1))\n",
    "ci = stats.t.interval(alpha, dof, loc=diff_mean, scale=s)\n",
    "\n",
    "# 신뢰구간 계산(유의수준 95%)\n",
    "print('신뢰구간:', ci)\n",
    "print('diff_mean:', diff_mean)"
   ]
  },
  {
   "cell_type": "markdown",
   "id": "e43ce6db",
   "metadata": {},
   "source": [
    "### 4) 이항 로지스틱 회귀분석\n",
    "- 회귀계수 유의성 검정 결과, BloodPressure, SkinThickness, Insulin, Age 4개 변수가 유의수준 0.05 하에서 유의하지 않는 것으로 나타났음.\n",
    "    - Pregnancies, Glucose, BMI, DiabetesPedigreeFunction 변수는 종속변수와 양의 상관성이 있음.\n",
    "    - Pregnancies(임신횟수)가 1 증가하면 당뇨병에 걸리 확률이 그렇지 않을 확률에 비해 1.136103배 증가함.\n",
    "    - Glucose(포도당 농도)가 1 증가하면 당뇨병에 걸리 확률이 그렇지 않을 확률에 비해 1.039702배 증가함.\n",
    "    - BMI가 1 증가하면 당뇨병에 걸리 확률이 그렇지 않을 확률에 비해 1.107052배 증가함.\n",
    "    - DiabetesPedigreeFunction가 1 증가하면 당뇨병에 걸리 확률이 그렇지 않을 확률에 비해 2.701998배 증가함."
   ]
  },
  {
   "cell_type": "code",
   "execution_count": 44,
   "id": "c3085a4c",
   "metadata": {},
   "outputs": [
    {
     "name": "stdout",
     "output_type": "stream",
     "text": [
      "                 Generalized Linear Model Regression Results                  \n",
      "==============================================================================\n",
      "Dep. Variable:                Outcome   No. Observations:                  652\n",
      "Model:                            GLM   Df Residuals:                      643\n",
      "Model Family:                Binomial   Df Model:                            8\n",
      "Link Function:                  Logit   Scale:                          1.0000\n",
      "Method:                          IRLS   Log-Likelihood:                -303.73\n",
      "Date:                Tue, 27 Jun 2023   Deviance:                       607.46\n",
      "Time:                        14:55:17   Pearson chi2:                     618.\n",
      "No. Iterations:                     5   Pseudo R-squ. (CS):             0.3043\n",
      "Covariance Type:            nonrobust                                         \n",
      "============================================================================================\n",
      "                               coef    std err          z      P>|z|      [0.025      0.975]\n",
      "--------------------------------------------------------------------------------------------\n",
      "Intercept                   -9.1491      0.894    -10.231      0.000     -10.902      -7.396\n",
      "Pregnancies                  0.1276      0.035      3.668      0.000       0.059       0.196\n",
      "Glucose                      0.0389      0.004      9.235      0.000       0.031       0.047\n",
      "BloodPressure               -0.0088      0.009     -0.931      0.352      -0.027       0.010\n",
      "SkinThickness               -0.0090      0.012     -0.739      0.460      -0.033       0.015\n",
      "Insulin                     -0.0014      0.001     -1.280      0.200      -0.004       0.001\n",
      "BMI                          0.1017      0.019      5.294      0.000       0.064       0.139\n",
      "DiabetesPedigreeFunction     0.9940      0.317      3.132      0.002       0.372       1.616\n",
      "Age                          0.0102      0.010      1.026      0.305      -0.009       0.030\n",
      "============================================================================================\n",
      "\n",
      "Intercept                   0.000106\n",
      "Pregnancies                 1.136103\n",
      "Glucose                     1.039702\n",
      "BloodPressure               0.991238\n",
      "SkinThickness               0.991046\n",
      "Insulin                     0.998584\n",
      "BMI                         1.107052\n",
      "DiabetesPedigreeFunction    2.701998\n",
      "Age                         1.010239\n",
      "dtype: float64\n"
     ]
    }
   ],
   "source": [
    "import statsmodels.api as sm\n",
    "import statsmodels.formula.api as smf\n",
    "\n",
    "model = smf.glm(\"Outcome ~ Pregnancies + Glucose + BloodPressure + SkinThickness \\\n",
    "                + Insulin + BMI + DiabetesPedigreeFunction + Age\", data=df,\n",
    "               family = sm.families.Binomial()).fit()\n",
    "\n",
    "print(model.summary())\n",
    "print()\n",
    "print(np.exp(model.params))"
   ]
  },
  {
   "cell_type": "markdown",
   "id": "df2b7a24",
   "metadata": {},
   "source": [
    "### 5) 비계층적 군집분석\n",
    "#### (1) KMeans"
   ]
  },
  {
   "cell_type": "code",
   "execution_count": 45,
   "id": "ab958181",
   "metadata": {},
   "outputs": [
    {
     "data": {
      "image/png": "[encoded data removed]",
      "text/plain": [
       "<Figure size 500x400 with 1 Axes>"
      ]
     },
     "metadata": {},
     "output_type": "display_data"
    },
    {
     "name": "stdout",
     "output_type": "stream",
     "text": [
      "[6815696.540732062, 2727067.74974501, 1657878.3752639194, 1283951.071957886, 994730.776823182, 829274.1195478968, 734890.0313059824, 660547.756949671, 610658.2258406255, 568139.257722153]\n"
     ]
    }
   ],
   "source": [
    "from sklearn.cluster import KMeans\n",
    "X = df.drop(columns=['Outcome'], axis=1)\n",
    "\n",
    "def elbow(X):\n",
    "    sse=[]\n",
    "    for i in range(1,11):\n",
    "        km = KMeans(n_clusters=i, random_state=1)\n",
    "        km.fit(X)\n",
    "        sse.append(km.inertia_)\n",
    "        \n",
    "    plt.figure(figsize=(5,4))\n",
    "    plt.plot(range(1,11), sse, marker='o')\n",
    "    plt.xlabel('The Number of Cluster')\n",
    "    plt.ylabel('SSE')\n",
    "    plt.show()\n",
    "    print(sse)\n",
    "    \n",
    "elbow(X)"
   ]
  },
  {
   "cell_type": "markdown",
   "id": "e1e70b90",
   "metadata": {},
   "source": [
    "[해석]\n",
    "- elbow 기법을 적용하여 시각화한 결과, k 값이 2에서 3으로 갈 때에 기울기 소실이 발생하므로, 해당 데이터는 2~3개의 군집이 적절함을 알 수 있음.\n",
    "- 본 분석에서는 k 값을 2로 지정하였음."
   ]
  },
  {
   "cell_type": "code",
   "execution_count": 46,
   "id": "f4a2c4ba",
   "metadata": {},
   "outputs": [
    {
     "data": {
      "text/html": [
       "<div>\n",
       "<style scoped>\n",
       "    .dataframe tbody tr th:only-of-type {\n",
       "        vertical-align: middle;\n",
       "    }\n",
       "\n",
       "    .dataframe tbody tr th {\n",
       "        vertical-align: top;\n",
       "    }\n",
       "\n",
       "    .dataframe thead th {\n",
       "        text-align: right;\n",
       "    }\n",
       "</style>\n",
       "<table border=\"1\" class=\"dataframe\">\n",
       "  <thead>\n",
       "    <tr style=\"text-align: right;\">\n",
       "      <th></th>\n",
       "      <th>Pregnancies</th>\n",
       "      <th>Glucose</th>\n",
       "      <th>BloodPressure</th>\n",
       "      <th>SkinThickness</th>\n",
       "      <th>Insulin</th>\n",
       "      <th>BMI</th>\n",
       "      <th>DiabetesPedigreeFunction</th>\n",
       "      <th>Age</th>\n",
       "    </tr>\n",
       "    <tr>\n",
       "      <th>cluster</th>\n",
       "      <th></th>\n",
       "      <th></th>\n",
       "      <th></th>\n",
       "      <th></th>\n",
       "      <th></th>\n",
       "      <th></th>\n",
       "      <th></th>\n",
       "      <th></th>\n",
       "    </tr>\n",
       "  </thead>\n",
       "  <tbody>\n",
       "    <tr>\n",
       "      <th>0</th>\n",
       "      <td>3.750000</td>\n",
       "      <td>156.326923</td>\n",
       "      <td>72.307692</td>\n",
       "      <td>31.211538</td>\n",
       "      <td>387.019231</td>\n",
       "      <td>35.359615</td>\n",
       "      <td>0.596365</td>\n",
       "      <td>33.923077</td>\n",
       "    </tr>\n",
       "    <tr>\n",
       "      <th>1</th>\n",
       "      <td>3.938333</td>\n",
       "      <td>118.686309</td>\n",
       "      <td>72.044785</td>\n",
       "      <td>26.149726</td>\n",
       "      <td>97.212449</td>\n",
       "      <td>32.024386</td>\n",
       "      <td>0.453760</td>\n",
       "      <td>33.475000</td>\n",
       "    </tr>\n",
       "  </tbody>\n",
       "</table>\n",
       "</div>"
      ],
      "text/plain": [
       "         Pregnancies     Glucose  BloodPressure  SkinThickness     Insulin  \\\n",
       "cluster                                                                      \n",
       "0           3.750000  156.326923      72.307692      31.211538  387.019231   \n",
       "1           3.938333  118.686309      72.044785      26.149726   97.212449   \n",
       "\n",
       "               BMI  DiabetesPedigreeFunction        Age  \n",
       "cluster                                                  \n",
       "0        35.359615                  0.596365  33.923077  \n",
       "1        32.024386                  0.453760  33.475000  "
      ]
     },
     "execution_count": 46,
     "metadata": {},
     "output_type": "execute_result"
    }
   ],
   "source": [
    "# 최적의 k로 K-Means 군집화 실행\n",
    "km = KMeans(n_clusters=2, random_state=1)\n",
    "km.fit(X)\n",
    "\n",
    "# 할당된 군집을 df1 데이터에 추가\n",
    "df1 = df.drop(columns=['Outcome'], axis=1).copy()\n",
    "new_lables = km.labels_\n",
    "df1['cluster'] = new_lables\n",
    "\n",
    "df1.groupby(['cluster']).mean()"
   ]
  },
  {
   "cell_type": "markdown",
   "id": "33f93c7f",
   "metadata": {},
   "source": [
    "[해석]\n",
    "- 그룹 간 차이를 보이는 큰 변수는 Glucose, SkinThickness, Insulin, BMI으로 나타남."
   ]
  },
  {
   "cell_type": "code",
   "execution_count": 47,
   "id": "7f1d332e",
   "metadata": {},
   "outputs": [
    {
     "name": "stdout",
     "output_type": "stream",
     "text": [
      "Silhouette Analysis Score: 0.734\n"
     ]
    },
    {
     "data": {
      "text/html": [
       "<div>\n",
       "<style scoped>\n",
       "    .dataframe tbody tr th:only-of-type {\n",
       "        vertical-align: middle;\n",
       "    }\n",
       "\n",
       "    .dataframe tbody tr th {\n",
       "        vertical-align: top;\n",
       "    }\n",
       "\n",
       "    .dataframe thead th {\n",
       "        text-align: right;\n",
       "    }\n",
       "</style>\n",
       "<table border=\"1\" class=\"dataframe\">\n",
       "  <thead>\n",
       "    <tr style=\"text-align: right;\">\n",
       "      <th></th>\n",
       "      <th>Pregnancies</th>\n",
       "      <th>Glucose</th>\n",
       "      <th>BloodPressure</th>\n",
       "      <th>SkinThickness</th>\n",
       "      <th>Insulin</th>\n",
       "      <th>BMI</th>\n",
       "      <th>DiabetesPedigreeFunction</th>\n",
       "      <th>Age</th>\n",
       "      <th>cluster</th>\n",
       "      <th>silhouette_coeff</th>\n",
       "    </tr>\n",
       "  </thead>\n",
       "  <tbody>\n",
       "    <tr>\n",
       "      <th>0</th>\n",
       "      <td>4</td>\n",
       "      <td>103.0</td>\n",
       "      <td>60.0</td>\n",
       "      <td>33.000000</td>\n",
       "      <td>192.000000</td>\n",
       "      <td>24.0</td>\n",
       "      <td>0.966</td>\n",
       "      <td>33</td>\n",
       "      <td>1</td>\n",
       "      <td>0.485967</td>\n",
       "    </tr>\n",
       "    <tr>\n",
       "      <th>1</th>\n",
       "      <td>10</td>\n",
       "      <td>133.0</td>\n",
       "      <td>68.0</td>\n",
       "      <td>20.440184</td>\n",
       "      <td>80.878834</td>\n",
       "      <td>27.0</td>\n",
       "      <td>0.245</td>\n",
       "      <td>36</td>\n",
       "      <td>1</td>\n",
       "      <td>0.833761</td>\n",
       "    </tr>\n",
       "    <tr>\n",
       "      <th>2</th>\n",
       "      <td>4</td>\n",
       "      <td>112.0</td>\n",
       "      <td>78.0</td>\n",
       "      <td>40.000000</td>\n",
       "      <td>80.878834</td>\n",
       "      <td>39.4</td>\n",
       "      <td>0.236</td>\n",
       "      <td>38</td>\n",
       "      <td>1</td>\n",
       "      <td>0.834925</td>\n",
       "    </tr>\n",
       "    <tr>\n",
       "      <th>3</th>\n",
       "      <td>1</td>\n",
       "      <td>119.0</td>\n",
       "      <td>88.0</td>\n",
       "      <td>41.000000</td>\n",
       "      <td>170.000000</td>\n",
       "      <td>45.3</td>\n",
       "      <td>0.507</td>\n",
       "      <td>26</td>\n",
       "      <td>1</td>\n",
       "      <td>0.596955</td>\n",
       "    </tr>\n",
       "    <tr>\n",
       "      <th>4</th>\n",
       "      <td>1</td>\n",
       "      <td>114.0</td>\n",
       "      <td>66.0</td>\n",
       "      <td>36.000000</td>\n",
       "      <td>200.000000</td>\n",
       "      <td>38.1</td>\n",
       "      <td>0.289</td>\n",
       "      <td>21</td>\n",
       "      <td>1</td>\n",
       "      <td>0.429716</td>\n",
       "    </tr>\n",
       "  </tbody>\n",
       "</table>\n",
       "</div>"
      ],
      "text/plain": [
       "   Pregnancies  Glucose  BloodPressure  SkinThickness     Insulin   BMI  \\\n",
       "0            4    103.0           60.0      33.000000  192.000000  24.0   \n",
       "1           10    133.0           68.0      20.440184   80.878834  27.0   \n",
       "2            4    112.0           78.0      40.000000   80.878834  39.4   \n",
       "3            1    119.0           88.0      41.000000  170.000000  45.3   \n",
       "4            1    114.0           66.0      36.000000  200.000000  38.1   \n",
       "\n",
       "   DiabetesPedigreeFunction  Age  cluster  silhouette_coeff  \n",
       "0                     0.966   33        1          0.485967  \n",
       "1                     0.245   36        1          0.833761  \n",
       "2                     0.236   38        1          0.834925  \n",
       "3                     0.507   26        1          0.596955  \n",
       "4                     0.289   21        1          0.429716  "
      ]
     },
     "execution_count": 47,
     "metadata": {},
     "output_type": "execute_result"
    }
   ],
   "source": [
    "# 실루엣 분석을 이용한 군집화 평가 진행\n",
    "## 실루엣 분석: 각 군집 간의 거리가 얼마나 효율적으로 분리돼 있는지를 나타냄\n",
    "## 효율적으로 분리됐다는 것은 다른 군집과의 거리는 떨어져 있고 동일 군집끼리의 데이터는 서로 가깝게 잘 뭉쳐 있다는 것임.\n",
    "\n",
    "# 모든 개별 데이터에 실루엣 계수 값을 구함.\n",
    "from sklearn.metrics import silhouette_samples, silhouette_score\n",
    "score_samples=silhouette_samples(X, df1.cluster)\n",
    "\n",
    "# df1에 실루엣 계수 칼럼 추가\n",
    "df1['silhouette_coeff'] = score_samples\n",
    "\n",
    "# 모든 데이터의 평균 실루엣 계수 값을 구함.\n",
    "average_score = silhouette_score(X, df1.cluster)\n",
    "print('Silhouette Analysis Score: {:.3f}'.format(average_score))\n",
    "df1.head()"
   ]
  },
  {
   "cell_type": "code",
   "execution_count": 48,
   "id": "78a0c184",
   "metadata": {},
   "outputs": [
    {
     "data": {
      "text/plain": [
       "cluster\n",
       "0    0.434625\n",
       "1    0.759588\n",
       "Name: silhouette_coeff, dtype: float64"
      ]
     },
     "execution_count": 48,
     "metadata": {},
     "output_type": "execute_result"
    }
   ],
   "source": [
    "df1.groupby('cluster')['silhouette_coeff'].mean()"
   ]
  },
  {
   "cell_type": "markdown",
   "id": "d07626b0",
   "metadata": {},
   "source": [
    "[해석]\n",
    "- 평균 실루엣 계수 값은 약 0.734이고, 상위 5개 데이터만 뽑은 결과에서 그룹 1의 실루엣 계수 값의 범위가 최소 0.429716에서 최대 0.834925로 다양하게 나타남.\n",
    "- 또한 군집별 평균 실루엣 계수 값을 확인한 결과, 그룹 0의 평균 실루엣 계수 값은 0.434625, 그룹 1은 0.759588로 나타남.\n",
    "- 값이 1에 가까울수록 군집이 잘 됐다는 것인데, 그룹 0은 군집이 잘 되었다고 할 수 없음."
   ]
  },
  {
   "cell_type": "markdown",
   "id": "43a6855e",
   "metadata": {},
   "source": [
    "#### (2) 혼합 군집 분포\n",
    "- 모형을 기준으로 데이터를 군집하며, 각 데이터와 k개의 혼합 분포 중 어느 모형으로부터 나왔을 확률이 높은지에 따라 군집의 분류가 이뤄짐.\n",
    "- 즉, 각 데이터는 k개의 모수적 모형에서 왔고, 각각의 데이터들의 k개의 모형에 속할 확률을 구해서 군집화 함."
   ]
  },
  {
   "cell_type": "code",
   "execution_count": 49,
   "id": "b313b08d",
   "metadata": {},
   "outputs": [
    {
     "data": {
      "text/html": [
       "<div>\n",
       "<style scoped>\n",
       "    .dataframe tbody tr th:only-of-type {\n",
       "        vertical-align: middle;\n",
       "    }\n",
       "\n",
       "    .dataframe tbody tr th {\n",
       "        vertical-align: top;\n",
       "    }\n",
       "\n",
       "    .dataframe thead th {\n",
       "        text-align: right;\n",
       "    }\n",
       "</style>\n",
       "<table border=\"1\" class=\"dataframe\">\n",
       "  <thead>\n",
       "    <tr style=\"text-align: right;\">\n",
       "      <th></th>\n",
       "      <th>Pregnancies</th>\n",
       "      <th>Glucose</th>\n",
       "      <th>BloodPressure</th>\n",
       "      <th>SkinThickness</th>\n",
       "      <th>Insulin</th>\n",
       "      <th>BMI</th>\n",
       "      <th>DiabetesPedigreeFunction</th>\n",
       "      <th>Age</th>\n",
       "    </tr>\n",
       "    <tr>\n",
       "      <th>gmm_cluster</th>\n",
       "      <th></th>\n",
       "      <th></th>\n",
       "      <th></th>\n",
       "      <th></th>\n",
       "      <th></th>\n",
       "      <th></th>\n",
       "      <th></th>\n",
       "      <th></th>\n",
       "    </tr>\n",
       "  </thead>\n",
       "  <tbody>\n",
       "    <tr>\n",
       "      <th>0</th>\n",
       "      <td>3.792453</td>\n",
       "      <td>132.833760</td>\n",
       "      <td>73.199213</td>\n",
       "      <td>29.962895</td>\n",
       "      <td>177.841521</td>\n",
       "      <td>33.434697</td>\n",
       "      <td>0.620226</td>\n",
       "      <td>37.841509</td>\n",
       "    </tr>\n",
       "    <tr>\n",
       "      <th>1</th>\n",
       "      <td>4.012920</td>\n",
       "      <td>114.056431</td>\n",
       "      <td>71.289612</td>\n",
       "      <td>24.218782</td>\n",
       "      <td>80.941773</td>\n",
       "      <td>31.506814</td>\n",
       "      <td>0.358933</td>\n",
       "      <td>30.545220</td>\n",
       "    </tr>\n",
       "  </tbody>\n",
       "</table>\n",
       "</div>"
      ],
      "text/plain": [
       "             Pregnancies     Glucose  BloodPressure  SkinThickness  \\\n",
       "gmm_cluster                                                          \n",
       "0               3.792453  132.833760      73.199213      29.962895   \n",
       "1               4.012920  114.056431      71.289612      24.218782   \n",
       "\n",
       "                Insulin        BMI  DiabetesPedigreeFunction        Age  \n",
       "gmm_cluster                                                              \n",
       "0            177.841521  33.434697                  0.620226  37.841509  \n",
       "1             80.941773  31.506814                  0.358933  30.545220  "
      ]
     },
     "execution_count": 49,
     "metadata": {},
     "output_type": "execute_result"
    }
   ],
   "source": [
    "from sklearn.preprocessing import StandardScaler\n",
    "from sklearn.mixture import GaussianMixture\n",
    "\n",
    "df2 = df.copy().drop(columns='Outcome')\n",
    "\n",
    "# 데이터 스케일링\n",
    "scaler = StandardScaler()\n",
    "df_scaled = scaler.fit_transform(df2)\n",
    "\n",
    "# 가우시안 혼합모델 구축\n",
    "gmm = GaussianMixture(n_components=2)\n",
    "gmm.fit(df_scaled)\n",
    "gmm_labels = gmm.predict(df_scaled)\n",
    "\n",
    "df2['gmm_cluster'] = gmm_labels\n",
    "\n",
    "# 군집의 변수별 통계량 확인\n",
    "clusters = [0, 1]\n",
    "df2.groupby('gmm_cluster').mean()"
   ]
  },
  {
   "cell_type": "markdown",
   "id": "4e8d64c0",
   "metadata": {},
   "source": [
    "[해석]\n",
    "- 혼합 군집 분석에서 총 2개의 군집으로 설정하였으며, 그룹 1보다 그룹 0의 변수 평균값이 대부분 높게 나옴."
   ]
  },
  {
   "cell_type": "markdown",
   "id": "cd0ecf8c",
   "metadata": {},
   "source": [
    "#### (3) DBSCAN"
   ]
  },
  {
   "cell_type": "code",
   "execution_count": 50,
   "id": "43821ec8",
   "metadata": {},
   "outputs": [
    {
     "name": "stdout",
     "output_type": "stream",
     "text": [
      "target  dbscan_cluster\n",
      "0       -1                424\n",
      "1       -1                228\n",
      "Name: dbscan_cluster, dtype: int64\n"
     ]
    }
   ],
   "source": [
    "from  sklearn.cluster import DBSCAN\n",
    "\n",
    "X = df.drop(columns=['Outcome'], axis=1)\n",
    "df3 = df.copy().drop(columns='Outcome')\n",
    "\n",
    "dbscan = DBSCAN(eps=0.6, min_samples=8, metric = 'euclidean')\n",
    "dbscan_lables = dbscan.fit_predict(X)\n",
    "\n",
    "df3['dbscan_cluster'] = dbscan_lables\n",
    "df3['target'] = df.Outcome\n",
    "\n",
    "df3_result = df3.groupby(['target'])['dbscan_cluster'].value_counts()\n",
    "print(df3_result)"
   ]
  },
  {
   "cell_type": "markdown",
   "id": "61208fa1",
   "metadata": {},
   "source": [
    "[해석]\n",
    "- dbscan_cluster 값을 보면 -1이 군집 레이블로 있는 것을 알 수 있는데, 군집 레이블이 -1인 것은 노이즈에 속하는 군집을 의미함.\n",
    "- 따라서 위 당뇨병 데이터가 모두 노이즈로 분류되었음을 알 수 있음."
   ]
  },
  {
   "cell_type": "markdown",
   "id": "a90a1e09",
   "metadata": {},
   "source": [
    "## 3. 모델 구현\n",
    "#### 문제1: 데이터 불균형을 시각화하여 식별하고 불균형 판단 근거를 작성하시오.\n",
    "- 0값이 1값보다 많이 분포됐기 때문에 데이터 불균형이라고 판단하였음."
   ]
  },
  {
   "cell_type": "code",
   "execution_count": 51,
   "id": "79dd88c4",
   "metadata": {},
   "outputs": [
    {
     "data": {
      "image/png": "[encoded data removed]",
      "text/plain": [
       "<Figure size 400x300 with 1 Axes>"
      ]
     },
     "metadata": {},
     "output_type": "display_data"
    }
   ],
   "source": [
    "plt.figure(figsize=(4,3))\n",
    "sns.countplot(x = df.Outcome);"
   ]
  },
  {
   "cell_type": "markdown",
   "id": "3287358e",
   "metadata": {},
   "source": [
    "#### 문제2: 오버샘플링, 언더샘플링 기법을 설명하고 두 기법 중 하나를 선택하고, 선택한 이유를 작성하시오.\n",
    "- 오버샘플링:소수의 레이블을 지닌 데이터세트를 다수 레이블을 지닌 데이터세트의 수만틈 증식시켜 학습에 사용하기 위한 충분한 양과 비율의 데이터를 확보하는 기법이다.\n",
    "    - 랜덤 오버 샘플링: 소수의 레이블을 지닌 데이터세트를 단순 복제하여 다수의 레이블과 비율을 맞추는 방법이다. 데이터를 단순 복제하기 때문에 분포는 변하지 않지만 그 수가 늘어나 같은 비율로 가중치를 받을 수 있다.\n",
    "    - SMOTE 기법: 소수 레이블을 지닌 데이터세트의 관측값에 대한 K개의 최근접 이웃을 찾고, 관측값과 이웃으로 선택된 값 사이에 임의의 새로운 데이터를 생성하는 방법으로 샘플 수를 늘리는 방법이다.\n",
    "- 언더샘플링: 다수의 레이블을 가진 데이터를 샘플링하여 소수의 데이터세트가 가진 레이블의 수 수준으로 감소기키는 방법이다.\n",
    "    - 랜덤 언더 샘플링: 다수를 차지하는 레이블에서 무작위로 데이터를 제거하는 방법이다. 다수의 클래스 데이터를 제거하므로 계산 시간이 감소하고 클래스 오버랩을 감소시킨다. 하지만 데이터를 제거하기 때문에 정보 손실이 발생한다.\n",
    "- 본 분석에서는 데이터 손실을 막기 위해 오버 샘플링 기법을 활용한다."
   ]
  },
  {
   "cell_type": "markdown",
   "id": "c9e36639",
   "metadata": {},
   "source": [
    "#### 문제3: 원데이터를 포함해 샘플링 기법을 적용한 데이터 세트를 구성하시오."
   ]
  },
  {
   "cell_type": "code",
   "execution_count": 53,
   "id": "7e6e1bbc",
   "metadata": {
    "scrolled": false
   },
   "outputs": [
    {
     "name": "stdout",
     "output_type": "stream",
     "text": [
      "<원본 y 클래스> \n",
      " 0    424\n",
      "1    228\n",
      "Name: Outcome, dtype: int64\n",
      "<랜덤 오버 샘링 y 클래스> \n",
      " 1    424\n",
      "0    424\n",
      "dtype: int64\n",
      "<smote y 클래스> \n",
      " 1    424\n",
      "0    424\n",
      "dtype: int64\n"
     ]
    }
   ],
   "source": [
    "from sklearn.preprocessing import StandardScaler\n",
    "from imblearn.over_sampling import SMOTE, RandomOverSampler\n",
    "from imblearn.under_sampling import RandomUnderSampler\n",
    "import warnings\n",
    "warnings.filterwarnings('ignore')\n",
    "\n",
    "X = df.drop(columns=['Outcome'], axis=1)\n",
    "y = df.Outcome\n",
    "\n",
    "undersample = RandomOverSampler()\n",
    "smote = SMOTE()\n",
    "\n",
    "X_ro, y_ro = undersample.fit_resample(X, y)\n",
    "X_sm, y_sm = smote.fit_resample(X, y)\n",
    "\n",
    "print('<원본 y 클래스> \\n', y.value_counts())\n",
    "print('<랜덤 오버 샘링 y 클래스> \\n', pd.Series(y_ro).value_counts())\n",
    "print('<smote y 클래스> \\n', pd.Series(y_sm).value_counts())"
   ]
  },
  {
   "cell_type": "markdown",
   "id": "237ca571",
   "metadata": {},
   "source": [
    "#### 문제4: 오버샘플링 데이터와 원데이터를 포함해 모델을 비교하고 성능을 측정하시오."
   ]
  },
  {
   "cell_type": "code",
   "execution_count": 54,
   "id": "0fcb4abe",
   "metadata": {},
   "outputs": [
    {
     "name": "stdout",
     "output_type": "stream",
     "text": [
      "time: 0.3291904926300049 sec\n"
     ]
    },
    {
     "data": {
      "image/png": "[encoded data removed]",
      "text/plain": [
       "<Figure size 640x480 with 1 Axes>"
      ]
     },
     "metadata": {},
     "output_type": "display_data"
    }
   ],
   "source": [
    "# 원본 데이터\n",
    "from sklearn.model_selection import train_test_split\n",
    "from sklearn.ensemble import RandomForestClassifier\n",
    "from sklearn.metrics import plot_roc_curve\n",
    "import time\n",
    "\n",
    "start=time.time()\n",
    "\n",
    "# 데이터 분할\n",
    "X_train, X_test, y_train, y_test = train_test_split(X, y, random_state=100, stratify=y, test_size=.3)\n",
    "\n",
    "# 스케일링\n",
    "scaler = StandardScaler()\n",
    "X_train_sc = scaler.fit_transform(X_train)\n",
    "X_test_sc = scaler.transform(X_test)\n",
    "\n",
    "# 모델 학습\n",
    "rfr = RandomForestClassifier(random_state=100)\n",
    "rfr.fit(X_train_sc, y_train)\n",
    "\n",
    "# roc 곡선 및 auc 스코어\n",
    "plot_roc_curve(rfr, X_test_sc, y_test)\n",
    "print(f'time: {time.time() - start} sec')"
   ]
  },
  {
   "cell_type": "code",
   "execution_count": 55,
   "id": "466ddbd0",
   "metadata": {},
   "outputs": [
    {
     "name": "stdout",
     "output_type": "stream",
     "text": [
      "time: 0.3597996234893799 sec\n"
     ]
    },
    {
     "data": {
      "image/png": "[encoded data removed]",
      "text/plain": [
       "<Figure size 640x480 with 1 Axes>"
      ]
     },
     "metadata": {},
     "output_type": "display_data"
    }
   ],
   "source": [
    "# 랜덤 오버 샘플링 데이터\n",
    "start=time.time()\n",
    "\n",
    "# 데이터 분할\n",
    "X_ro_train, X_ro_test, y_ro_train, y_ro_test = train_test_split(X_ro, y_ro, random_state=100, stratify=y_ro, test_size=.3)\n",
    "\n",
    "# 스케일링\n",
    "scaler = StandardScaler()\n",
    "X_ro_train_sc = scaler.fit_transform(X_ro_train)\n",
    "X_ro_test_sc = scaler.transform(X_ro_test)\n",
    "\n",
    "# 모델 학습\n",
    "rfr = RandomForestClassifier(random_state=100)\n",
    "rfr.fit(X_ro_train_sc, y_ro_train)\n",
    "\n",
    "# roc 곡선 및 auc 스코어\n",
    "plot_roc_curve(rfr, X_ro_test_sc, y_ro_test)\n",
    "print(f'time: {time.time() - start} sec')"
   ]
  },
  {
   "cell_type": "code",
   "execution_count": 56,
   "id": "9e45e96f",
   "metadata": {},
   "outputs": [
    {
     "name": "stdout",
     "output_type": "stream",
     "text": [
      "time: 0.3628096580505371 sec\n"
     ]
    },
    {
     "data": {
      "image/png": "[encoded data removed]",
      "text/plain": [
       "<Figure size 640x480 with 1 Axes>"
      ]
     },
     "metadata": {},
     "output_type": "display_data"
    }
   ],
   "source": [
    "# SMOTE 데이터\n",
    "start=time.time()\n",
    "\n",
    "# 데이터 분할\n",
    "X_sm_train, X_sm_test, y_sm_train, y_sm_test = train_test_split(X_sm, y_sm, random_state=100, stratify=y_sm, test_size=.3)\n",
    "\n",
    "# 스케일링\n",
    "scaler = StandardScaler()\n",
    "X_sm_train_sc = scaler.fit_transform(X_sm_train)\n",
    "X_sm_test_sc = scaler.transform(X_sm_test)\n",
    "\n",
    "# 모델 학습\n",
    "rfr = RandomForestClassifier(random_state=100)\n",
    "rfr.fit(X_sm_train_sc, y_sm_train)\n",
    "\n",
    "# roc 곡선 및 auc 스코어\n",
    "plot_roc_curve(rfr, X_sm_test_sc, y_sm_test)\n",
    "print(f'time: {time.time() - start} sec')"
   ]
  },
  {
   "cell_type": "markdown",
   "id": "03575850",
   "metadata": {},
   "source": [
    "#### 문제5: 원데이터와 오버 샘플링 데이터를 가지고 각각 분류한 결과를 바탕으로 오버 샘플링이 성능에 미친 영향에 대해 작성하시오.\n",
    "- 처리 속도 측면에서 보았을 때, 오버 샘플링 기법을 적용한 모델이 원보 데이터를 이용한 모델보다 조금 더 오래 걸렸다. 이는 오버 샘플링을 통해 데이터가 증가하였기에 발생한 현상이라 판단할 수 있다.\n",
    "- AUC 스코어는 값이 클수록 성능이 좋다고 할 수 있는데, 랜덤 오버 샘플링을 적용한 스코어 값이 0.92로 가장 높았으며, 원본 데이터를 이용한 모델의 값은 0.80로 가장 낮았다.\n",
    "- 따라서 오버 샘플링은 분석 정확도에 긍정적인 영향을 주었다는 것을 알 수 있다.\n",
    "\n",
    "---\n",
    "### ↓ 경진대회를 위한 모델 구현"
   ]
  },
  {
   "cell_type": "code",
   "execution_count": 57,
   "id": "b7717f09",
   "metadata": {
    "scrolled": true
   },
   "outputs": [
    {
     "name": "stdout",
     "output_type": "stream",
     "text": [
      "(636, 8)\n",
      "(212, 8)\n",
      "(636,)\n",
      "(212,)\n"
     ]
    }
   ],
   "source": [
    "from sklearn.preprocessing import StandardScaler\n",
    "from imblearn.over_sampling import SMOTE\n",
    "from sklearn.model_selection import train_test_split\n",
    "from sklearn.metrics import accuracy_score\n",
    "\n",
    "X = df.drop(columns=['Outcome'], axis=1)\n",
    "y = df.Outcome\n",
    "\n",
    "smote = SMOTE()\n",
    "X_sm, y_sm = smote.fit_resample(X, y)\n",
    "\n",
    "X_train, X_test, y_train, y_test = train_test_split(X_sm, y_sm, random_state=123, stratify=y_sm)\n",
    "\n",
    "scaler = StandardScaler()\n",
    "X_train_sc = scaler.fit_transform(X_train)\n",
    "X_test_sc = scaler.transform(X_test)\n",
    "\n",
    "print(X_train_sc.shape)\n",
    "print(X_test_sc.shape)\n",
    "print(y_train.shape)\n",
    "print(y_test.shape)"
   ]
  },
  {
   "cell_type": "code",
   "execution_count": 58,
   "id": "5813e871",
   "metadata": {},
   "outputs": [
    {
     "name": "stdout",
     "output_type": "stream",
     "text": [
      "테스트 정확도:  0.5\n"
     ]
    }
   ],
   "source": [
    "# 라쏘 회귀\n",
    "from sklearn.linear_model import Lasso\n",
    "\n",
    "## 모델 학습\n",
    "lasso = Lasso(random_state=100)\n",
    "lasso.fit(X_train_sc, y_train)\n",
    "\n",
    "## 예측값 계산\n",
    "pred = lasso.predict(X_test_sc)\n",
    "preds_1d = pred.flatten() # 차원 펴주기\n",
    "pred_class = np.where(preds_1d > 0.5, 1 , 0) #0.5보다 크면 1, 작으면 0\n",
    "\n",
    "print('테스트 정확도: ', accuracy_score(y_test, pred_class))"
   ]
  },
  {
   "cell_type": "code",
   "execution_count": 59,
   "id": "a438cea1",
   "metadata": {},
   "outputs": [
    {
     "name": "stdout",
     "output_type": "stream",
     "text": [
      "테스트 정확도:  0.7405660377358491\n"
     ]
    }
   ],
   "source": [
    "# 릿지 회귀\n",
    "from sklearn.linear_model import Ridge\n",
    "\n",
    "## 모델 학습\n",
    "ridge = Ridge(random_state=100)\n",
    "ridge.fit(X_train_sc, y_train)\n",
    "\n",
    "## 예측값 계산\n",
    "pred = ridge.predict(X_test_sc)\n",
    "preds_1d = pred.flatten() # 차원 펴주기\n",
    "pred_class = np.where(preds_1d > 0.5, 1 , 0) #0.5보다 크면 1, 작으면 0\n",
    "\n",
    "print('테스트 정확도: ', accuracy_score(y_test, pred_class))"
   ]
  },
  {
   "cell_type": "code",
   "execution_count": 60,
   "id": "dfa8d6cf",
   "metadata": {},
   "outputs": [
    {
     "name": "stdout",
     "output_type": "stream",
     "text": [
      "테스트 정확도:  0.7783018867924528\n"
     ]
    }
   ],
   "source": [
    "# SVM\n",
    "from sklearn.svm import SVC\n",
    "\n",
    "## 모델 학습\n",
    "svm = SVC(random_state=100)\n",
    "svm.fit(X_train_sc, y_train)\n",
    "\n",
    "## 예측값 계산\n",
    "pred = svm.predict(X_test_sc)\n",
    "print('테스트 정확도: ', accuracy_score(y_test, pred))"
   ]
  },
  {
   "cell_type": "code",
   "execution_count": 61,
   "id": "f2d9bed1",
   "metadata": {},
   "outputs": [
    {
     "name": "stdout",
     "output_type": "stream",
     "text": [
      "테스트 정확도:  0.7830188679245284\n"
     ]
    }
   ],
   "source": [
    "# 랜덤포레스트\n",
    "from sklearn.ensemble import RandomForestClassifier\n",
    "\n",
    "## 모델 학습\n",
    "rfr = RandomForestClassifier(random_state=100, n_estimators=300, max_depth=5,  min_samples_split=3)\n",
    "rfr.fit(X_train_sc, y_train)\n",
    "\n",
    "## 예측값 계산\n",
    "pred = rfr.predict(X_test_sc)\n",
    "print('테스트 정확도: ', accuracy_score(y_test, pred))"
   ]
  },
  {
   "cell_type": "code",
   "execution_count": 62,
   "id": "390cda18",
   "metadata": {},
   "outputs": [
    {
     "name": "stdout",
     "output_type": "stream",
     "text": [
      "voting 모델의 테스트 정확도:  0.7452830188679245\n",
      "LogisticRegression 모델의 테스트 정확도: 0.7311\n",
      "KNeighborsClassifier 모델의 테스트 정확도: 0.7264\n"
     ]
    }
   ],
   "source": [
    "# 보팅(Voting)\n",
    "from sklearn.ensemble import VotingClassifier\n",
    "from sklearn.neighbors import KNeighborsClassifier\n",
    "from sklearn.linear_model import LogisticRegression\n",
    "\n",
    "## 개별 모델 및 소프트 보팅 기반의 앙상블 모델 구현\n",
    "lr_clf = LogisticRegression(random_state=100, solver='liblinear')\n",
    "knn_clf = KNeighborsClassifier(n_neighbors=6)\n",
    "vo_clf = VotingClassifier(estimators = [('lr', lr_clf), ('KNN', knn_clf)], voting='soft')\n",
    "\n",
    "## 모델 학습\n",
    "vo_clf.fit(X_train_sc, y_train)\n",
    "pred = vo_clf.predict(X_test_sc)\n",
    "print('voting 모델의 테스트 정확도: ', accuracy_score(y_test, pred))\n",
    "\n",
    "## 개별 모델의 학습/예측/평가\n",
    "classifiers = [lr_clf, knn_clf]\n",
    "for classifier in classifiers:\n",
    "    classifier.fit(X_train_sc, y_train)\n",
    "    pred = classifier.predict(X_test_sc)\n",
    "    class_name = classifier.__class__.__name__\n",
    "    print('{} 모델의 테스트 정확도: {:.4f}'.format(class_name, accuracy_score(y_test, pred)))"
   ]
  },
  {
   "cell_type": "code",
   "execution_count": 63,
   "id": "750fe6b2",
   "metadata": {},
   "outputs": [
    {
     "name": "stdout",
     "output_type": "stream",
     "text": [
      "테스트 정확도:  0.7688679245283019\n"
     ]
    }
   ],
   "source": [
    "# 배깅\n",
    "from sklearn.ensemble import BaggingClassifier\n",
    "\n",
    "## 모델 학습\n",
    "bagging_clf = BaggingClassifier(random_state=100, oob_score=True)\n",
    "bagging_clf.fit(X_train_sc, y_train)\n",
    "\n",
    "## 예측값 계산\n",
    "pred = bagging_clf.predict(X_test_sc)\n",
    "print('테스트 정확도: ', accuracy_score(y_test, pred))"
   ]
  },
  {
   "cell_type": "code",
   "execution_count": 64,
   "id": "a0cde1fa",
   "metadata": {
    "scrolled": true
   },
   "outputs": [
    {
     "name": "stdout",
     "output_type": "stream",
     "text": [
      "[15:04:15] WARNING: D:\\Build\\xgboost\\xgboost-1.5.1.git\\src\\learner.cc:1115: Starting in XGBoost 1.3.0, the default evaluation metric used with the objective 'binary:logistic' was changed from 'error' to 'logloss'. Explicitly set eval_metric if you'd like to restore the old behavior.\n",
      "[15:04:15] WARNING: D:\\Build\\xgboost\\xgboost-1.5.1.git\\src\\learner.cc:1115: Starting in XGBoost 1.3.0, the default evaluation metric used with the objective 'binary:logistic' was changed from 'error' to 'logloss'. Explicitly set eval_metric if you'd like to restore the old behavior.\n",
      "[15:04:15] WARNING: D:\\Build\\xgboost\\xgboost-1.5.1.git\\src\\learner.cc:1115: Starting in XGBoost 1.3.0, the default evaluation metric used with the objective 'binary:logistic' was changed from 'error' to 'logloss'. Explicitly set eval_metric if you'd like to restore the old behavior.\n",
      "[15:04:15] WARNING: D:\\Build\\xgboost\\xgboost-1.5.1.git\\src\\learner.cc:1115: Starting in XGBoost 1.3.0, the default evaluation metric used with the objective 'binary:logistic' was changed from 'error' to 'logloss'. Explicitly set eval_metric if you'd like to restore the old behavior.\n",
      "[15:04:16] WARNING: D:\\Build\\xgboost\\xgboost-1.5.1.git\\src\\learner.cc:1115: Starting in XGBoost 1.3.0, the default evaluation metric used with the objective 'binary:logistic' was changed from 'error' to 'logloss'. Explicitly set eval_metric if you'd like to restore the old behavior.\n",
      "[15:04:16] WARNING: D:\\Build\\xgboost\\xgboost-1.5.1.git\\src\\learner.cc:1115: Starting in XGBoost 1.3.0, the default evaluation metric used with the objective 'binary:logistic' was changed from 'error' to 'logloss'. Explicitly set eval_metric if you'd like to restore the old behavior.\n",
      "[15:04:16] WARNING: D:\\Build\\xgboost\\xgboost-1.5.1.git\\src\\learner.cc:1115: Starting in XGBoost 1.3.0, the default evaluation metric used with the objective 'binary:logistic' was changed from 'error' to 'logloss'. Explicitly set eval_metric if you'd like to restore the old behavior.\n",
      "[15:04:16] WARNING: D:\\Build\\xgboost\\xgboost-1.5.1.git\\src\\learner.cc:1115: Starting in XGBoost 1.3.0, the default evaluation metric used with the objective 'binary:logistic' was changed from 'error' to 'logloss'. Explicitly set eval_metric if you'd like to restore the old behavior.\n",
      "[15:04:16] WARNING: D:\\Build\\xgboost\\xgboost-1.5.1.git\\src\\learner.cc:1115: Starting in XGBoost 1.3.0, the default evaluation metric used with the objective 'binary:logistic' was changed from 'error' to 'logloss'. Explicitly set eval_metric if you'd like to restore the old behavior.\n",
      "[15:04:16] WARNING: D:\\Build\\xgboost\\xgboost-1.5.1.git\\src\\learner.cc:1115: Starting in XGBoost 1.3.0, the default evaluation metric used with the objective 'binary:logistic' was changed from 'error' to 'logloss'. Explicitly set eval_metric if you'd like to restore the old behavior.\n",
      "[15:04:17] WARNING: D:\\Build\\xgboost\\xgboost-1.5.1.git\\src\\learner.cc:1115: Starting in XGBoost 1.3.0, the default evaluation metric used with the objective 'binary:logistic' was changed from 'error' to 'logloss'. Explicitly set eval_metric if you'd like to restore the old behavior.\n",
      "[15:04:17] WARNING: D:\\Build\\xgboost\\xgboost-1.5.1.git\\src\\learner.cc:1115: Starting in XGBoost 1.3.0, the default evaluation metric used with the objective 'binary:logistic' was changed from 'error' to 'logloss'. Explicitly set eval_metric if you'd like to restore the old behavior.\n",
      "[15:04:17] WARNING: D:\\Build\\xgboost\\xgboost-1.5.1.git\\src\\learner.cc:1115: Starting in XGBoost 1.3.0, the default evaluation metric used with the objective 'binary:logistic' was changed from 'error' to 'logloss'. Explicitly set eval_metric if you'd like to restore the old behavior.\n",
      "[15:04:17] WARNING: D:\\Build\\xgboost\\xgboost-1.5.1.git\\src\\learner.cc:1115: Starting in XGBoost 1.3.0, the default evaluation metric used with the objective 'binary:logistic' was changed from 'error' to 'logloss'. Explicitly set eval_metric if you'd like to restore the old behavior.\n",
      "[15:04:17] WARNING: D:\\Build\\xgboost\\xgboost-1.5.1.git\\src\\learner.cc:1115: Starting in XGBoost 1.3.0, the default evaluation metric used with the objective 'binary:logistic' was changed from 'error' to 'logloss'. Explicitly set eval_metric if you'd like to restore the old behavior.\n",
      "[15:04:18] WARNING: D:\\Build\\xgboost\\xgboost-1.5.1.git\\src\\learner.cc:1115: Starting in XGBoost 1.3.0, the default evaluation metric used with the objective 'binary:logistic' was changed from 'error' to 'logloss'. Explicitly set eval_metric if you'd like to restore the old behavior.\n",
      "[15:04:18] WARNING: D:\\Build\\xgboost\\xgboost-1.5.1.git\\src\\learner.cc:1115: Starting in XGBoost 1.3.0, the default evaluation metric used with the objective 'binary:logistic' was changed from 'error' to 'logloss'. Explicitly set eval_metric if you'd like to restore the old behavior.\n",
      "[15:04:18] WARNING: D:\\Build\\xgboost\\xgboost-1.5.1.git\\src\\learner.cc:1115: Starting in XGBoost 1.3.0, the default evaluation metric used with the objective 'binary:logistic' was changed from 'error' to 'logloss'. Explicitly set eval_metric if you'd like to restore the old behavior.\n",
      "[15:04:18] WARNING: D:\\Build\\xgboost\\xgboost-1.5.1.git\\src\\learner.cc:1115: Starting in XGBoost 1.3.0, the default evaluation metric used with the objective 'binary:logistic' was changed from 'error' to 'logloss'. Explicitly set eval_metric if you'd like to restore the old behavior.\n",
      "[15:04:19] WARNING: D:\\Build\\xgboost\\xgboost-1.5.1.git\\src\\learner.cc:1115: Starting in XGBoost 1.3.0, the default evaluation metric used with the objective 'binary:logistic' was changed from 'error' to 'logloss'. Explicitly set eval_metric if you'd like to restore the old behavior.\n",
      "[15:04:19] WARNING: D:\\Build\\xgboost\\xgboost-1.5.1.git\\src\\learner.cc:1115: Starting in XGBoost 1.3.0, the default evaluation metric used with the objective 'binary:logistic' was changed from 'error' to 'logloss'. Explicitly set eval_metric if you'd like to restore the old behavior.\n",
      "[15:04:19] WARNING: D:\\Build\\xgboost\\xgboost-1.5.1.git\\src\\learner.cc:1115: Starting in XGBoost 1.3.0, the default evaluation metric used with the objective 'binary:logistic' was changed from 'error' to 'logloss'. Explicitly set eval_metric if you'd like to restore the old behavior.\n",
      "[15:04:19] WARNING: D:\\Build\\xgboost\\xgboost-1.5.1.git\\src\\learner.cc:1115: Starting in XGBoost 1.3.0, the default evaluation metric used with the objective 'binary:logistic' was changed from 'error' to 'logloss'. Explicitly set eval_metric if you'd like to restore the old behavior.\n",
      "[15:04:19] WARNING: D:\\Build\\xgboost\\xgboost-1.5.1.git\\src\\learner.cc:1115: Starting in XGBoost 1.3.0, the default evaluation metric used with the objective 'binary:logistic' was changed from 'error' to 'logloss'. Explicitly set eval_metric if you'd like to restore the old behavior.\n",
      "[15:04:20] WARNING: D:\\Build\\xgboost\\xgboost-1.5.1.git\\src\\learner.cc:1115: Starting in XGBoost 1.3.0, the default evaluation metric used with the objective 'binary:logistic' was changed from 'error' to 'logloss'. Explicitly set eval_metric if you'd like to restore the old behavior.\n",
      "[15:04:20] WARNING: D:\\Build\\xgboost\\xgboost-1.5.1.git\\src\\learner.cc:1115: Starting in XGBoost 1.3.0, the default evaluation metric used with the objective 'binary:logistic' was changed from 'error' to 'logloss'. Explicitly set eval_metric if you'd like to restore the old behavior.\n",
      "테스트 정확도:  0.7971698113207547\n"
     ]
    }
   ],
   "source": [
    "# XGBoost\n",
    "from xgboost import XGBClassifier\n",
    "from sklearn.model_selection import GridSearchCV\n",
    "import warnings\n",
    "warnings.filterwarnings('ignore')\n",
    "\n",
    "## 모델 학습\n",
    "param_grid = [{'max_depth': [2, 4, 6, 8, 10]}]\n",
    "xgb_clf = GridSearchCV(estimator=XGBClassifier(n_estimators = 100), cv=5, param_grid=param_grid)\n",
    "xgb_clf.fit(X_train_sc, y_train)\n",
    "\n",
    "## 예측값 계산\n",
    "pred = xgb_clf.best_estimator_.predict(X_test_sc)\n",
    "print('테스트 정확도: ', accuracy_score(y_test, pred))"
   ]
  },
  {
   "cell_type": "markdown",
   "id": "755ee4bd",
   "metadata": {},
   "source": [
    "## 4. 예측값 도출"
   ]
  },
  {
   "cell_type": "code",
   "execution_count": 65,
   "id": "b58949df",
   "metadata": {},
   "outputs": [
    {
     "data": {
      "text/html": [
       "<div>\n",
       "<style scoped>\n",
       "    .dataframe tbody tr th:only-of-type {\n",
       "        vertical-align: middle;\n",
       "    }\n",
       "\n",
       "    .dataframe tbody tr th {\n",
       "        vertical-align: top;\n",
       "    }\n",
       "\n",
       "    .dataframe thead th {\n",
       "        text-align: right;\n",
       "    }\n",
       "</style>\n",
       "<table border=\"1\" class=\"dataframe\">\n",
       "  <thead>\n",
       "    <tr style=\"text-align: right;\">\n",
       "      <th></th>\n",
       "      <th>Pregnancies</th>\n",
       "      <th>Glucose</th>\n",
       "      <th>BloodPressure</th>\n",
       "      <th>SkinThickness</th>\n",
       "      <th>Insulin</th>\n",
       "      <th>BMI</th>\n",
       "      <th>DiabetesPedigreeFunction</th>\n",
       "      <th>Age</th>\n",
       "    </tr>\n",
       "  </thead>\n",
       "  <tbody>\n",
       "    <tr>\n",
       "      <th>0</th>\n",
       "      <td>5</td>\n",
       "      <td>112</td>\n",
       "      <td>66</td>\n",
       "      <td>0</td>\n",
       "      <td>0</td>\n",
       "      <td>37.8</td>\n",
       "      <td>0.261</td>\n",
       "      <td>41</td>\n",
       "    </tr>\n",
       "    <tr>\n",
       "      <th>1</th>\n",
       "      <td>3</td>\n",
       "      <td>107</td>\n",
       "      <td>62</td>\n",
       "      <td>13</td>\n",
       "      <td>48</td>\n",
       "      <td>22.9</td>\n",
       "      <td>0.678</td>\n",
       "      <td>23</td>\n",
       "    </tr>\n",
       "    <tr>\n",
       "      <th>2</th>\n",
       "      <td>3</td>\n",
       "      <td>113</td>\n",
       "      <td>44</td>\n",
       "      <td>13</td>\n",
       "      <td>0</td>\n",
       "      <td>22.4</td>\n",
       "      <td>0.140</td>\n",
       "      <td>22</td>\n",
       "    </tr>\n",
       "    <tr>\n",
       "      <th>3</th>\n",
       "      <td>6</td>\n",
       "      <td>190</td>\n",
       "      <td>92</td>\n",
       "      <td>0</td>\n",
       "      <td>0</td>\n",
       "      <td>35.5</td>\n",
       "      <td>0.278</td>\n",
       "      <td>66</td>\n",
       "    </tr>\n",
       "    <tr>\n",
       "      <th>4</th>\n",
       "      <td>1</td>\n",
       "      <td>107</td>\n",
       "      <td>72</td>\n",
       "      <td>30</td>\n",
       "      <td>82</td>\n",
       "      <td>30.8</td>\n",
       "      <td>0.821</td>\n",
       "      <td>24</td>\n",
       "    </tr>\n",
       "  </tbody>\n",
       "</table>\n",
       "</div>"
      ],
      "text/plain": [
       "   Pregnancies  Glucose  BloodPressure  SkinThickness  Insulin   BMI  \\\n",
       "0            5      112             66              0        0  37.8   \n",
       "1            3      107             62             13       48  22.9   \n",
       "2            3      113             44             13        0  22.4   \n",
       "3            6      190             92              0        0  35.5   \n",
       "4            1      107             72             30       82  30.8   \n",
       "\n",
       "   DiabetesPedigreeFunction  Age  \n",
       "0                     0.261   41  \n",
       "1                     0.678   23  \n",
       "2                     0.140   22  \n",
       "3                     0.278   66  \n",
       "4                     0.821   24  "
      ]
     },
     "execution_count": 65,
     "metadata": {},
     "output_type": "execute_result"
    }
   ],
   "source": [
    "test = pd.read_csv(os.getcwd() + '/data/diabetes/test.csv').drop(columns=['ID'], axis=1)\n",
    "test.head()"
   ]
  },
  {
   "cell_type": "code",
   "execution_count": 21,
   "id": "3f13db95",
   "metadata": {},
   "outputs": [
    {
     "name": "stdout",
     "output_type": "stream",
     "text": [
      "<class 'pandas.core.frame.DataFrame'>\n",
      "RangeIndex: 116 entries, 0 to 115\n",
      "Data columns (total 8 columns):\n",
      " #   Column                    Non-Null Count  Dtype  \n",
      "---  ------                    --------------  -----  \n",
      " 0   Pregnancies               116 non-null    int64  \n",
      " 1   Glucose                   116 non-null    int64  \n",
      " 2   BloodPressure             116 non-null    int64  \n",
      " 3   SkinThickness             116 non-null    int64  \n",
      " 4   Insulin                   116 non-null    int64  \n",
      " 5   BMI                       116 non-null    float64\n",
      " 6   DiabetesPedigreeFunction  116 non-null    float64\n",
      " 7   Age                       116 non-null    int64  \n",
      "dtypes: float64(2), int64(6)\n",
      "memory usage: 7.4 KB\n"
     ]
    }
   ],
   "source": [
    "test.info()"
   ]
  },
  {
   "cell_type": "code",
   "execution_count": 66,
   "id": "687bce39",
   "metadata": {},
   "outputs": [],
   "source": [
    "# 예측값 도출\n",
    "test_pred = xgb_clf.predict(test)\n",
    "\n",
    "# 제출 데이터 불러오기\n",
    "sub_df = pd.read_csv(os.getcwd() + '/data/diabetes/sample_submission.csv')\n",
    "\n",
    "# 예측값 대입\n",
    "sub_df['Outcome'] = test_pred\n",
    "\n",
    "# 제출 데이터 저장\n",
    "sub_df.to_csv(os.getcwd() + '/data/diabetes/result1.csv', index=False)"
   ]
  },
  {
   "cell_type": "code",
   "execution_count": null,
   "id": "6a982310",
   "metadata": {},
   "outputs": [],
   "source": []
  }
 ],
 "metadata": {
  "kernelspec": {
   "display_name": "adp_code",
   "language": "python",
   "name": "adp_code"
  },
  "language_info": {
   "codemirror_mode": {
    "name": "ipython",
    "version": 3
   },
   "file_extension": ".py",
   "mimetype": "text/x-python",
   "name": "python",
   "nbconvert_exporter": "python",
   "pygments_lexer": "ipython3",
   "version": "3.7.16"
  }
 },
 "nbformat": 4,
 "nbformat_minor": 5
}
