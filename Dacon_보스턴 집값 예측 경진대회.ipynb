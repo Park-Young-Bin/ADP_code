{
 "cells": [
  {
   "cell_type": "markdown",
   "id": "00e949b9",
   "metadata": {},
   "source": [
    "# [Dacon_보스턴 집값 예측 경진대회](https://dacon.io/competitions/open/236065/overview/description)\n",
    "\n",
    "- 평가 산식 : RMSE\n",
    "- 컬럼 종류\n",
    "    - CRIM: 도시별 1인당 범죄율\n",
    "    - ZN: 25,000 피트를 초과하는 주거용 토지의 비율\n",
    "    - NDUS: 비상업 면적의 비율\n",
    "    - CHAS: 찰스강에 대한 더미 변수(강의 경계에 위치한 경우는 1, 아니면 0)\n",
    "    - NOX: 일산화질소 농도\n",
    "    - RM: 주택당 평균 방의 개수\n",
    "    - AGE: 1940년 이전에 건축된 자가주택의 비율\n",
    "    - DIS: 5개의 보스턴 고용 센터와의 거리\n",
    "    - RAD: 고속도로 접근성 지수\n",
    "    - TAX: 10,000달러당 재산세율\n",
    "    - PTRATIO: 도시별 교사와 학생 수 비율\n",
    "    - B: 마을의 흑인 거주 비율\n",
    "    - LSTAT: 하위 계층의 비율\n",
    "    - MEDV: 본인 소유의 주택 가격(중앙값, 단위: 천달러)"
   ]
  },
  {
   "cell_type": "markdown",
   "id": "922786e2",
   "metadata": {},
   "source": [
    "[가설]\n",
    "- CRIM(도시별 1인당 범죄율)과 MEDV(본인 소유의 주택 가격) 간에는 **음**의 상관성이 존재할 것이다.\n",
    "- ZN(25,000 피트를 초과하는 주거용 토지의 비율)와 MEDV 간에는 **양**의 상관성이 존재할 것이다.\n",
    "- INDUS(비상업 면적의 비율): ???\n",
    "- CHAS(찰스강 경계에 위치한 경우는 1, 아니면 0)이 1이면 0일때 보다 MEDV 값이 높을 것이다.\n",
    "- NOX(일산화질소 농도)와 MEDV 간에는 **음**의 상관성이 존재할 것이다.\n",
    "- RM(주택당 평균 방 개수)와 MEDV 간에는 **양**의 상관성이 존재할 것이다.\n",
    "- AGE(1940년 이전에 건축된 자가주택의 비율)과 MEDV(본인 소유의 주택 가격) 간에는 **음**의 상관성이 존재할 것이다.\n",
    "- DIS(5개의 보스턴 고용 센터와의 거리)와 MEDV 간에는 **음**의 상관성이 존재할 것이다.\n",
    "- RAD(고속도로 접근성 지수)와 MEDV 간에는 **양**의 상관성이 존재할 것이다.\n",
    "- TAX(10,000달러당 재산세율)와 MEDV 간에는 **양**의 상관성이 존재할 것이다.\n",
    "    - [제산세](https://easylaw.go.kr/CSP/CnpClsMain.laf?popMenu=ov&csmSeq=1259&ccfNo=4&cciNo=1&cnpClsNo=3): 토지, 건축물, 주택, 항공기 및 선박과 같은 재산에 대해 정기적으로 부과되는 지방세\n",
    "- PTRATIO(도시별 교사와 학생 수 비율)와 MEDV 간에는 **양**의 상관성이 존재할 것이다.\n",
    "- B(마을의 흑인 거주 비율)와 MEDV 간에는 **음**의 상관성이 존재할 것이다.\n",
    "- LSTAT(하위 계층의 비율)와 MEDV 간에는 **음**의 상관성이 존재할 것이다."
   ]
  },
  {
   "cell_type": "markdown",
   "id": "dc39f7e2",
   "metadata": {},
   "source": [
    "## 1. 데이터 살펴보기"
   ]
  },
  {
   "cell_type": "code",
   "execution_count": 1,
   "id": "f65407b9",
   "metadata": {},
   "outputs": [
    {
     "data": {
      "text/html": [
       "<div>\n",
       "<style scoped>\n",
       "    .dataframe tbody tr th:only-of-type {\n",
       "        vertical-align: middle;\n",
       "    }\n",
       "\n",
       "    .dataframe tbody tr th {\n",
       "        vertical-align: top;\n",
       "    }\n",
       "\n",
       "    .dataframe thead th {\n",
       "        text-align: right;\n",
       "    }\n",
       "</style>\n",
       "<table border=\"1\" class=\"dataframe\">\n",
       "  <thead>\n",
       "    <tr style=\"text-align: right;\">\n",
       "      <th></th>\n",
       "      <th>CRIM</th>\n",
       "      <th>ZN</th>\n",
       "      <th>INDUS</th>\n",
       "      <th>CHAS</th>\n",
       "      <th>NOX</th>\n",
       "      <th>RM</th>\n",
       "      <th>AGE</th>\n",
       "      <th>DIS</th>\n",
       "      <th>RAD</th>\n",
       "      <th>TAX</th>\n",
       "      <th>PTRATIO</th>\n",
       "      <th>B</th>\n",
       "      <th>LSTAT</th>\n",
       "      <th>MEDV</th>\n",
       "    </tr>\n",
       "  </thead>\n",
       "  <tbody>\n",
       "    <tr>\n",
       "      <th>0</th>\n",
       "      <td>0.04819</td>\n",
       "      <td>80.0</td>\n",
       "      <td>3.64</td>\n",
       "      <td>0.0</td>\n",
       "      <td>0.392</td>\n",
       "      <td>6.108</td>\n",
       "      <td>32.0</td>\n",
       "      <td>9.2203</td>\n",
       "      <td>1.0</td>\n",
       "      <td>315.0</td>\n",
       "      <td>16.4</td>\n",
       "      <td>392.89</td>\n",
       "      <td>6.57</td>\n",
       "      <td>21.9</td>\n",
       "    </tr>\n",
       "    <tr>\n",
       "      <th>1</th>\n",
       "      <td>1.42502</td>\n",
       "      <td>0.0</td>\n",
       "      <td>19.58</td>\n",
       "      <td>0.0</td>\n",
       "      <td>0.871</td>\n",
       "      <td>6.510</td>\n",
       "      <td>100.0</td>\n",
       "      <td>1.7659</td>\n",
       "      <td>5.0</td>\n",
       "      <td>403.0</td>\n",
       "      <td>14.7</td>\n",
       "      <td>364.31</td>\n",
       "      <td>7.39</td>\n",
       "      <td>23.3</td>\n",
       "    </tr>\n",
       "    <tr>\n",
       "      <th>2</th>\n",
       "      <td>0.01778</td>\n",
       "      <td>95.0</td>\n",
       "      <td>1.47</td>\n",
       "      <td>0.0</td>\n",
       "      <td>0.403</td>\n",
       "      <td>7.135</td>\n",
       "      <td>13.9</td>\n",
       "      <td>7.6534</td>\n",
       "      <td>3.0</td>\n",
       "      <td>402.0</td>\n",
       "      <td>17.0</td>\n",
       "      <td>384.30</td>\n",
       "      <td>4.45</td>\n",
       "      <td>32.9</td>\n",
       "    </tr>\n",
       "  </tbody>\n",
       "</table>\n",
       "</div>"
      ],
      "text/plain": [
       "      CRIM    ZN  INDUS  CHAS    NOX     RM    AGE     DIS  RAD    TAX  \\\n",
       "0  0.04819  80.0   3.64   0.0  0.392  6.108   32.0  9.2203  1.0  315.0   \n",
       "1  1.42502   0.0  19.58   0.0  0.871  6.510  100.0  1.7659  5.0  403.0   \n",
       "2  0.01778  95.0   1.47   0.0  0.403  7.135   13.9  7.6534  3.0  402.0   \n",
       "\n",
       "   PTRATIO       B  LSTAT  MEDV  \n",
       "0     16.4  392.89   6.57  21.9  \n",
       "1     14.7  364.31   7.39  23.3  \n",
       "2     17.0  384.30   4.45  32.9  "
      ]
     },
     "metadata": {},
     "output_type": "display_data"
    },
    {
     "name": "stdout",
     "output_type": "stream",
     "text": [
      "(455, 14)\n"
     ]
    }
   ],
   "source": [
    "import pandas as pd\n",
    "import numpy as np\n",
    "import matplotlib.pyplot as plt\n",
    "import seaborn as sns\n",
    "plt.rc('font', family='Malgun Gothic')\n",
    "plt.rcParams['axes.unicode_minus']=False\n",
    "\n",
    "train = pd.read_csv('C:/Users/user/Desktop/Python/adp/2. dacon/data/house_price/train.csv').drop('ID', axis=1)\n",
    "display(train.head(3))\n",
    "print(train.shape)"
   ]
  },
  {
   "cell_type": "code",
   "execution_count": 2,
   "id": "702d897e",
   "metadata": {},
   "outputs": [
    {
     "name": "stdout",
     "output_type": "stream",
     "text": [
      "<class 'pandas.core.frame.DataFrame'>\n",
      "RangeIndex: 455 entries, 0 to 454\n",
      "Data columns (total 14 columns):\n",
      " #   Column   Non-Null Count  Dtype  \n",
      "---  ------   --------------  -----  \n",
      " 0   CRIM     455 non-null    float64\n",
      " 1   ZN       455 non-null    float64\n",
      " 2   INDUS    455 non-null    float64\n",
      " 3   CHAS     455 non-null    float64\n",
      " 4   NOX      455 non-null    float64\n",
      " 5   RM       455 non-null    float64\n",
      " 6   AGE      455 non-null    float64\n",
      " 7   DIS      455 non-null    float64\n",
      " 8   RAD      455 non-null    float64\n",
      " 9   TAX      455 non-null    float64\n",
      " 10  PTRATIO  455 non-null    float64\n",
      " 11  B        455 non-null    float64\n",
      " 12  LSTAT    455 non-null    float64\n",
      " 13  MEDV     455 non-null    float64\n",
      "dtypes: float64(14)\n",
      "memory usage: 49.9 KB\n"
     ]
    }
   ],
   "source": [
    "train.info()"
   ]
  },
  {
   "cell_type": "code",
   "execution_count": 3,
   "id": "b3fe1ca2",
   "metadata": {
    "scrolled": true
   },
   "outputs": [
    {
     "data": {
      "text/plain": [
       "CRIM       0\n",
       "ZN         0\n",
       "INDUS      0\n",
       "CHAS       0\n",
       "NOX        0\n",
       "RM         0\n",
       "AGE        0\n",
       "DIS        0\n",
       "RAD        0\n",
       "TAX        0\n",
       "PTRATIO    0\n",
       "B          0\n",
       "LSTAT      0\n",
       "MEDV       0\n",
       "dtype: int64"
      ]
     },
     "execution_count": 3,
     "metadata": {},
     "output_type": "execute_result"
    }
   ],
   "source": [
    "# 결측치 확인\n",
    "train.isna().sum()"
   ]
  },
  {
   "cell_type": "code",
   "execution_count": 4,
   "id": "ccc868f1",
   "metadata": {},
   "outputs": [
    {
     "name": "stdout",
     "output_type": "stream",
     "text": [
      "중복 행 개수: 0 개\n"
     ]
    }
   ],
   "source": [
    "# 중복 개수 확인\n",
    "print('중복 행 개수: {} 개'.format(train.duplicated().sum()))"
   ]
  },
  {
   "cell_type": "code",
   "execution_count": 5,
   "id": "64631bb7",
   "metadata": {},
   "outputs": [
    {
     "data": {
      "text/html": [
       "<div>\n",
       "<style scoped>\n",
       "    .dataframe tbody tr th:only-of-type {\n",
       "        vertical-align: middle;\n",
       "    }\n",
       "\n",
       "    .dataframe tbody tr th {\n",
       "        vertical-align: top;\n",
       "    }\n",
       "\n",
       "    .dataframe thead th {\n",
       "        text-align: right;\n",
       "    }\n",
       "</style>\n",
       "<table border=\"1\" class=\"dataframe\">\n",
       "  <thead>\n",
       "    <tr style=\"text-align: right;\">\n",
       "      <th></th>\n",
       "      <th>CRIM</th>\n",
       "      <th>ZN</th>\n",
       "      <th>INDUS</th>\n",
       "      <th>CHAS</th>\n",
       "      <th>NOX</th>\n",
       "      <th>RM</th>\n",
       "      <th>AGE</th>\n",
       "      <th>DIS</th>\n",
       "      <th>RAD</th>\n",
       "      <th>TAX</th>\n",
       "      <th>PTRATIO</th>\n",
       "      <th>B</th>\n",
       "      <th>LSTAT</th>\n",
       "      <th>MEDV</th>\n",
       "    </tr>\n",
       "  </thead>\n",
       "  <tbody>\n",
       "    <tr>\n",
       "      <th>count</th>\n",
       "      <td>455.000000</td>\n",
       "      <td>455.000000</td>\n",
       "      <td>455.000000</td>\n",
       "      <td>455.000000</td>\n",
       "      <td>455.000000</td>\n",
       "      <td>455.000000</td>\n",
       "      <td>455.000000</td>\n",
       "      <td>455.000000</td>\n",
       "      <td>455.000000</td>\n",
       "      <td>455.000000</td>\n",
       "      <td>455.000000</td>\n",
       "      <td>455.000000</td>\n",
       "      <td>455.000000</td>\n",
       "      <td>455.000000</td>\n",
       "    </tr>\n",
       "    <tr>\n",
       "      <th>mean</th>\n",
       "      <td>3.659998</td>\n",
       "      <td>11.165934</td>\n",
       "      <td>11.092747</td>\n",
       "      <td>0.065934</td>\n",
       "      <td>0.555160</td>\n",
       "      <td>6.285352</td>\n",
       "      <td>68.320440</td>\n",
       "      <td>3.788439</td>\n",
       "      <td>9.551648</td>\n",
       "      <td>407.892308</td>\n",
       "      <td>18.453846</td>\n",
       "      <td>356.285714</td>\n",
       "      <td>12.604967</td>\n",
       "      <td>22.574725</td>\n",
       "    </tr>\n",
       "    <tr>\n",
       "      <th>std</th>\n",
       "      <td>8.888075</td>\n",
       "      <td>22.953757</td>\n",
       "      <td>6.821697</td>\n",
       "      <td>0.248440</td>\n",
       "      <td>0.116524</td>\n",
       "      <td>0.699346</td>\n",
       "      <td>27.893807</td>\n",
       "      <td>2.082031</td>\n",
       "      <td>8.718624</td>\n",
       "      <td>169.446805</td>\n",
       "      <td>2.149137</td>\n",
       "      <td>92.664335</td>\n",
       "      <td>7.090388</td>\n",
       "      <td>9.120759</td>\n",
       "    </tr>\n",
       "    <tr>\n",
       "      <th>min</th>\n",
       "      <td>0.006320</td>\n",
       "      <td>0.000000</td>\n",
       "      <td>0.460000</td>\n",
       "      <td>0.000000</td>\n",
       "      <td>0.389000</td>\n",
       "      <td>3.561000</td>\n",
       "      <td>2.900000</td>\n",
       "      <td>1.129600</td>\n",
       "      <td>1.000000</td>\n",
       "      <td>187.000000</td>\n",
       "      <td>12.600000</td>\n",
       "      <td>0.320000</td>\n",
       "      <td>1.730000</td>\n",
       "      <td>5.000000</td>\n",
       "    </tr>\n",
       "    <tr>\n",
       "      <th>25%</th>\n",
       "      <td>0.079230</td>\n",
       "      <td>0.000000</td>\n",
       "      <td>5.160000</td>\n",
       "      <td>0.000000</td>\n",
       "      <td>0.449000</td>\n",
       "      <td>5.881000</td>\n",
       "      <td>44.700000</td>\n",
       "      <td>2.100350</td>\n",
       "      <td>4.000000</td>\n",
       "      <td>278.000000</td>\n",
       "      <td>17.400000</td>\n",
       "      <td>375.990000</td>\n",
       "      <td>6.970000</td>\n",
       "      <td>17.100000</td>\n",
       "    </tr>\n",
       "    <tr>\n",
       "      <th>50%</th>\n",
       "      <td>0.245220</td>\n",
       "      <td>0.000000</td>\n",
       "      <td>9.690000</td>\n",
       "      <td>0.000000</td>\n",
       "      <td>0.538000</td>\n",
       "      <td>6.208000</td>\n",
       "      <td>76.700000</td>\n",
       "      <td>3.199200</td>\n",
       "      <td>5.000000</td>\n",
       "      <td>330.000000</td>\n",
       "      <td>19.000000</td>\n",
       "      <td>391.700000</td>\n",
       "      <td>11.280000</td>\n",
       "      <td>21.200000</td>\n",
       "    </tr>\n",
       "    <tr>\n",
       "      <th>75%</th>\n",
       "      <td>3.685665</td>\n",
       "      <td>12.500000</td>\n",
       "      <td>18.100000</td>\n",
       "      <td>0.000000</td>\n",
       "      <td>0.624000</td>\n",
       "      <td>6.627000</td>\n",
       "      <td>93.850000</td>\n",
       "      <td>5.164950</td>\n",
       "      <td>24.000000</td>\n",
       "      <td>666.000000</td>\n",
       "      <td>20.200000</td>\n",
       "      <td>396.375000</td>\n",
       "      <td>16.695000</td>\n",
       "      <td>25.100000</td>\n",
       "    </tr>\n",
       "    <tr>\n",
       "      <th>max</th>\n",
       "      <td>88.976200</td>\n",
       "      <td>100.000000</td>\n",
       "      <td>27.740000</td>\n",
       "      <td>1.000000</td>\n",
       "      <td>0.871000</td>\n",
       "      <td>8.780000</td>\n",
       "      <td>100.000000</td>\n",
       "      <td>12.126500</td>\n",
       "      <td>24.000000</td>\n",
       "      <td>711.000000</td>\n",
       "      <td>22.000000</td>\n",
       "      <td>396.900000</td>\n",
       "      <td>36.980000</td>\n",
       "      <td>50.000000</td>\n",
       "    </tr>\n",
       "  </tbody>\n",
       "</table>\n",
       "</div>"
      ],
      "text/plain": [
       "             CRIM          ZN       INDUS        CHAS         NOX          RM  \\\n",
       "count  455.000000  455.000000  455.000000  455.000000  455.000000  455.000000   \n",
       "mean     3.659998   11.165934   11.092747    0.065934    0.555160    6.285352   \n",
       "std      8.888075   22.953757    6.821697    0.248440    0.116524    0.699346   \n",
       "min      0.006320    0.000000    0.460000    0.000000    0.389000    3.561000   \n",
       "25%      0.079230    0.000000    5.160000    0.000000    0.449000    5.881000   \n",
       "50%      0.245220    0.000000    9.690000    0.000000    0.538000    6.208000   \n",
       "75%      3.685665   12.500000   18.100000    0.000000    0.624000    6.627000   \n",
       "max     88.976200  100.000000   27.740000    1.000000    0.871000    8.780000   \n",
       "\n",
       "              AGE         DIS         RAD         TAX     PTRATIO           B  \\\n",
       "count  455.000000  455.000000  455.000000  455.000000  455.000000  455.000000   \n",
       "mean    68.320440    3.788439    9.551648  407.892308   18.453846  356.285714   \n",
       "std     27.893807    2.082031    8.718624  169.446805    2.149137   92.664335   \n",
       "min      2.900000    1.129600    1.000000  187.000000   12.600000    0.320000   \n",
       "25%     44.700000    2.100350    4.000000  278.000000   17.400000  375.990000   \n",
       "50%     76.700000    3.199200    5.000000  330.000000   19.000000  391.700000   \n",
       "75%     93.850000    5.164950   24.000000  666.000000   20.200000  396.375000   \n",
       "max    100.000000   12.126500   24.000000  711.000000   22.000000  396.900000   \n",
       "\n",
       "            LSTAT        MEDV  \n",
       "count  455.000000  455.000000  \n",
       "mean    12.604967   22.574725  \n",
       "std      7.090388    9.120759  \n",
       "min      1.730000    5.000000  \n",
       "25%      6.970000   17.100000  \n",
       "50%     11.280000   21.200000  \n",
       "75%     16.695000   25.100000  \n",
       "max     36.980000   50.000000  "
      ]
     },
     "execution_count": 5,
     "metadata": {},
     "output_type": "execute_result"
    }
   ],
   "source": [
    "# 기초통계량 확인\n",
    "train.describe()"
   ]
  },
  {
   "cell_type": "markdown",
   "id": "81ccc98f",
   "metadata": {},
   "source": [
    "## 2. EDA"
   ]
  },
  {
   "cell_type": "markdown",
   "id": "3928e522",
   "metadata": {},
   "source": [
    "#### 1) MEDV 분포 확인"
   ]
  },
  {
   "cell_type": "code",
   "execution_count": 2,
   "id": "2de7b778",
   "metadata": {},
   "outputs": [],
   "source": [
    "# 통계 분석을 위한 dataframe 생성\n",
    "train_stats = train.copy()"
   ]
  },
  {
   "cell_type": "code",
   "execution_count": 7,
   "id": "d20cdbba",
   "metadata": {},
   "outputs": [
    {
     "data": {
      "image/png": "[encoded data removed]",
      "text/plain": [
       "<Figure size 500x400 with 1 Axes>"
      ]
     },
     "metadata": {},
     "output_type": "display_data"
    }
   ],
   "source": [
    "plt.figure(figsize=(5,4))\n",
    "plt.hist(data=train_stats, x='MEDV', bins=30)\n",
    "plt.xlabel('MEDV')\n",
    "plt.title('MEDV의 히스토그램')\n",
    "plt.show()"
   ]
  },
  {
   "cell_type": "markdown",
   "id": "e8a04008",
   "metadata": {},
   "source": [
    "#### 1) - (1) MEDV(종속변수)의 정규성 검정"
   ]
  },
  {
   "cell_type": "code",
   "execution_count": 8,
   "id": "f7cc9c5c",
   "metadata": {},
   "outputs": [
    {
     "name": "stdout",
     "output_type": "stream",
     "text": [
      "ShapiroResult(statistic=0.9195359945297241, pvalue=7.256905647690277e-15)\n",
      "=> p-value < 0.05 이므로 정규성을 만족하지 않음\n"
     ]
    }
   ],
   "source": [
    "# 귀무가설: 정규성을 만족함.\n",
    "# 대립가설: 정규성을 만족하지 않음\n",
    "import scipy.stats as stats\n",
    "print(stats.shapiro(train_stats['MEDV']))\n",
    "\n",
    "if stats.shapiro(train_stats['MEDV'])[1] < 0.05:\n",
    "    print('=> p-value < 0.05 이므로 정규성을 만족하지 않음')\n",
    "else: print('=> p-value >= 0.05 이므로 정규성을 만족함')"
   ]
  },
  {
   "cell_type": "markdown",
   "id": "17d6e1ee",
   "metadata": {},
   "source": [
    "#### 2) 변수간 상관관계 히트맵"
   ]
  },
  {
   "cell_type": "code",
   "execution_count": 9,
   "id": "2cd2ca23",
   "metadata": {},
   "outputs": [
    {
     "data": {
      "image/png": "[encoded data removed]",
      "text/plain": [
       "<Figure size 900x700 with 2 Axes>"
      ]
     },
     "metadata": {},
     "output_type": "display_data"
    }
   ],
   "source": [
    "train_corr = train_stats.corr()\n",
    "up_mask = np.triu(np.ones(train_corr.shape), k=1).astype(np.bool_)\n",
    "\n",
    "plt.figure(figsize=(8,6))\n",
    "sns.heatmap(train_corr, vmin=-1, vmax=1, annot=True, fmt='.2f', cmap='viridis', mask=up_mask)\n",
    "plt.show()"
   ]
  },
  {
   "cell_type": "markdown",
   "id": "034af2d8",
   "metadata": {},
   "source": [
    "[가설 검토]\n",
    "- CRIM(도시별 1인당 범죄율)과 MEDV(본인 소유의 주택 가격) 간에는 **음**의 상관성이 존재할 것이다.\n",
    "- ZN(25,000 피트를 초과하는 주거용 토지의 비율)와 MEDV 간에는 **양**의 상관성이 존재할 것이다.\n",
    "- INDUS(비상업 면적의 비율): ???\n",
    "- CHAS(찰스강 경계에 위치한 경우는 1, 아니면 0)이 1이면 0일때 보다 MEDV 값이 높을 것이다.\n",
    "- NOX(일산화질소 농도)와 MEDV 간에는 **음**의 상관성이 존재할 것이다.\n",
    "- RM(주택당 평균 방 개수)와 MEDV 간에는 **양**의 상관성이 존재할 것이다.\n",
    "- AGE(1940년 이전에 건축된 자가주택의 비율)과 MEDV(본인 소유의 주택 가격) 간에는 **음**의 상관성이 존재할 것이다.\n",
    "- DIS(5개의 보스턴 고용 센터와의 거리)와 MEDV 간에는 **양**의 상관성이 존재할 것이다.\n",
    "- RAD(고속도로 접근성 지수)와 MEDV 간에는 **양**의 상관성이 존재할 것이다. → **음**의 상관성\n",
    "- TAX(10,000달러당 재산세율)와 MEDV 간에는 **양**의 상관성이 존재할 것이다. → **음**의 상관성\n",
    "    - [제산세](https://easylaw.go.kr/CSP/CnpClsMain.laf?popMenu=ov&csmSeq=1259&ccfNo=4&cciNo=1&cnpClsNo=3): 토지, 건축물, 주택, 항공기 및 선박과 같은 재산에 대해 정기적으로 부과되는 지방세\n",
    "- PTRATIO(도시별 교사와 학생 수 비율)와 MEDV 간에는 **양**의 상관성이 존재할 것이다.  → **음**의 상관성\n",
    "- B(마을의 흑인 거주 비율)와 MEDV 간에는 **음**의 상관성이 존재할 것이다. → **양**의 상관성\n",
    "- LSTAT(하위 계층의 비율)와 MEDV 간에는 **음**의 상관성이 존재할 것이다.\n",
    "\n",
    "[상관관계 히트맵 해석]\n",
    "- TAX와 RAD 변수 간에 0.91라는 강한 상관성이 존재하므로 다중공선정을 의심할 수 있음.\n",
    "- 종속변수인 MEDV와 강한 상관성을 갖는 변수는 LSTAT이고 이때 상관계수는 -0.74임."
   ]
  },
  {
   "cell_type": "code",
   "execution_count": 10,
   "id": "9e07a2b7",
   "metadata": {},
   "outputs": [
    {
     "data": {
      "text/html": [
       "<style  type=\"text/css\" >\n",
       "#T_ef658ad4_0aad_11ee_a47d_1002b515c010row0_col0,#T_ef658ad4_0aad_11ee_a47d_1002b515c010row1_col0{\n",
       "            background-color:  #fde725;\n",
       "            color:  #000000;\n",
       "        }#T_ef658ad4_0aad_11ee_a47d_1002b515c010row2_col0,#T_ef658ad4_0aad_11ee_a47d_1002b515c010row3_col0{\n",
       "            background-color:  #46327e;\n",
       "            color:  #f1f1f1;\n",
       "        }#T_ef658ad4_0aad_11ee_a47d_1002b515c010row4_col0,#T_ef658ad4_0aad_11ee_a47d_1002b515c010row5_col0{\n",
       "            background-color:  #472c7a;\n",
       "            color:  #f1f1f1;\n",
       "        }#T_ef658ad4_0aad_11ee_a47d_1002b515c010row6_col0,#T_ef658ad4_0aad_11ee_a47d_1002b515c010row7_col0{\n",
       "            background-color:  #46075a;\n",
       "            color:  #f1f1f1;\n",
       "        }#T_ef658ad4_0aad_11ee_a47d_1002b515c010row8_col0,#T_ef658ad4_0aad_11ee_a47d_1002b515c010row9_col0{\n",
       "            background-color:  #440154;\n",
       "            color:  #f1f1f1;\n",
       "        }</style><table id=\"T_ef658ad4_0aad_11ee_a47d_1002b515c010\" ><thead>    <tr>        <th class=\"blank\" ></th>        <th class=\"blank level0\" ></th>        <th class=\"col_heading level0 col0\" >corr</th>    </tr></thead><tbody>\n",
       "                <tr>\n",
       "                        <th id=\"T_ef658ad4_0aad_11ee_a47d_1002b515c010level0_row0\" class=\"row_heading level0 row0\" >TAX</th>\n",
       "                        <th id=\"T_ef658ad4_0aad_11ee_a47d_1002b515c010level1_row0\" class=\"row_heading level1 row0\" >RAD</th>\n",
       "                        <td id=\"T_ef658ad4_0aad_11ee_a47d_1002b515c010row0_col0\" class=\"data row0 col0\" >0.908535</td>\n",
       "            </tr>\n",
       "            <tr>\n",
       "                        <th id=\"T_ef658ad4_0aad_11ee_a47d_1002b515c010level0_row1\" class=\"row_heading level0 row1\" >RAD</th>\n",
       "                        <th id=\"T_ef658ad4_0aad_11ee_a47d_1002b515c010level1_row1\" class=\"row_heading level1 row1\" >TAX</th>\n",
       "                        <td id=\"T_ef658ad4_0aad_11ee_a47d_1002b515c010row1_col0\" class=\"data row1 col0\" >0.908535</td>\n",
       "            </tr>\n",
       "            <tr>\n",
       "                        <th id=\"T_ef658ad4_0aad_11ee_a47d_1002b515c010level0_row2\" class=\"row_heading level0 row2\" >NOX</th>\n",
       "                        <th id=\"T_ef658ad4_0aad_11ee_a47d_1002b515c010level1_row2\" class=\"row_heading level1 row2\" >DIS</th>\n",
       "                        <td id=\"T_ef658ad4_0aad_11ee_a47d_1002b515c010row2_col0\" class=\"data row2 col0\" >0.762721</td>\n",
       "            </tr>\n",
       "            <tr>\n",
       "                        <th id=\"T_ef658ad4_0aad_11ee_a47d_1002b515c010level0_row3\" class=\"row_heading level0 row3\" >DIS</th>\n",
       "                        <th id=\"T_ef658ad4_0aad_11ee_a47d_1002b515c010level1_row3\" class=\"row_heading level1 row3\" >NOX</th>\n",
       "                        <td id=\"T_ef658ad4_0aad_11ee_a47d_1002b515c010row3_col0\" class=\"data row3 col0\" >0.762721</td>\n",
       "            </tr>\n",
       "            <tr>\n",
       "                        <th id=\"T_ef658ad4_0aad_11ee_a47d_1002b515c010level0_row4\" class=\"row_heading level0 row4\" >NOX</th>\n",
       "                        <th id=\"T_ef658ad4_0aad_11ee_a47d_1002b515c010level1_row4\" class=\"row_heading level1 row4\" >INDUS</th>\n",
       "                        <td id=\"T_ef658ad4_0aad_11ee_a47d_1002b515c010row4_col0\" class=\"data row4 col0\" >0.759181</td>\n",
       "            </tr>\n",
       "            <tr>\n",
       "                        <th id=\"T_ef658ad4_0aad_11ee_a47d_1002b515c010level0_row5\" class=\"row_heading level0 row5\" >INDUS</th>\n",
       "                        <th id=\"T_ef658ad4_0aad_11ee_a47d_1002b515c010level1_row5\" class=\"row_heading level1 row5\" >NOX</th>\n",
       "                        <td id=\"T_ef658ad4_0aad_11ee_a47d_1002b515c010row5_col0\" class=\"data row5 col0\" >0.759181</td>\n",
       "            </tr>\n",
       "            <tr>\n",
       "                        <th id=\"T_ef658ad4_0aad_11ee_a47d_1002b515c010level0_row6\" class=\"row_heading level0 row6\" >DIS</th>\n",
       "                        <th id=\"T_ef658ad4_0aad_11ee_a47d_1002b515c010level1_row6\" class=\"row_heading level1 row6\" >AGE</th>\n",
       "                        <td id=\"T_ef658ad4_0aad_11ee_a47d_1002b515c010row6_col0\" class=\"data row6 col0\" >0.741336</td>\n",
       "            </tr>\n",
       "            <tr>\n",
       "                        <th id=\"T_ef658ad4_0aad_11ee_a47d_1002b515c010level0_row7\" class=\"row_heading level0 row7\" >AGE</th>\n",
       "                        <th id=\"T_ef658ad4_0aad_11ee_a47d_1002b515c010level1_row7\" class=\"row_heading level1 row7\" >DIS</th>\n",
       "                        <td id=\"T_ef658ad4_0aad_11ee_a47d_1002b515c010row7_col0\" class=\"data row7 col0\" >0.741336</td>\n",
       "            </tr>\n",
       "            <tr>\n",
       "                        <th id=\"T_ef658ad4_0aad_11ee_a47d_1002b515c010level0_row8\" class=\"row_heading level0 row8\" >LSTAT</th>\n",
       "                        <th id=\"T_ef658ad4_0aad_11ee_a47d_1002b515c010level1_row8\" class=\"row_heading level1 row8\" >MEDV</th>\n",
       "                        <td id=\"T_ef658ad4_0aad_11ee_a47d_1002b515c010row8_col0\" class=\"data row8 col0\" >0.738124</td>\n",
       "            </tr>\n",
       "            <tr>\n",
       "                        <th id=\"T_ef658ad4_0aad_11ee_a47d_1002b515c010level0_row9\" class=\"row_heading level0 row9\" >MEDV</th>\n",
       "                        <th id=\"T_ef658ad4_0aad_11ee_a47d_1002b515c010level1_row9\" class=\"row_heading level1 row9\" >LSTAT</th>\n",
       "                        <td id=\"T_ef658ad4_0aad_11ee_a47d_1002b515c010row9_col0\" class=\"data row9 col0\" >0.738124</td>\n",
       "            </tr>\n",
       "    </tbody></table>"
      ],
      "text/plain": [
       "<pandas.io.formats.style.Styler at 0x278fbe7b588>"
      ]
     },
     "metadata": {},
     "output_type": "display_data"
    },
    {
     "name": "stdout",
     "output_type": "stream",
     "text": [
      "top_corr_cols: ['TAX' 'RAD' 'NOX' 'DIS' 'INDUS' 'AGE' 'LSTAT' 'MEDV']\n"
     ]
    }
   ],
   "source": [
    "# 상관계수 값이 큰 상위 faeture 출력\n",
    "\n",
    "## 상관계수에 절댓값 적용\n",
    "corr_unstack = train_corr.abs().unstack()\n",
    "df_cor = pd.DataFrame(corr_unstack[corr_unstack < 1].sort_values(ascending=False), columns=['corr'])[:10]\n",
    "display(df_cor.style.background_gradient(cmap='viridis'))\n",
    "\n",
    "## 상위 피처 컬럼명\n",
    "top_corr_cols = df_cor.reset_index()['level_0'].unique()\n",
    "print('top_corr_cols:', top_corr_cols)"
   ]
  },
  {
   "cell_type": "markdown",
   "id": "19f2b359",
   "metadata": {},
   "source": [
    "#### 3) 통계분석 - (1) 회귀분석 가정\n",
    "\n",
    "- 선형성, 정규성, 등분산성, 독립성\n",
    "\n",
    "**참고 사이트**  \n",
    "[[회귀분석] 회귀분석 실습(2) - 잔차분석(Python)](https://ysyblog.tistory.com/120)"
   ]
  },
  {
   "cell_type": "code",
   "execution_count": 11,
   "id": "6e1fd1af",
   "metadata": {},
   "outputs": [
    {
     "name": "stdout",
     "output_type": "stream",
     "text": [
      "<class 'pandas.core.frame.DataFrame'>\n",
      "RangeIndex: 455 entries, 0 to 454\n",
      "Data columns (total 14 columns):\n",
      " #   Column    Non-Null Count  Dtype  \n",
      "---  ------    --------------  -----  \n",
      " 0   CRIM      455 non-null    float64\n",
      " 1   ZN        455 non-null    float64\n",
      " 2   INDUS     455 non-null    float64\n",
      " 3   NOX       455 non-null    float64\n",
      " 4   RM        455 non-null    float64\n",
      " 5   AGE       455 non-null    float64\n",
      " 6   DIS       455 non-null    float64\n",
      " 7   RAD       455 non-null    float64\n",
      " 8   TAX       455 non-null    float64\n",
      " 9   PTRATIO   455 non-null    float64\n",
      " 10  B         455 non-null    float64\n",
      " 11  LSTAT     455 non-null    float64\n",
      " 12  MEDV      455 non-null    float64\n",
      " 13  CHAS_yes  455 non-null    uint8  \n",
      "dtypes: float64(13), uint8(1)\n",
      "memory usage: 46.8 KB\n"
     ]
    }
   ],
   "source": [
    "## CHAS을 범주형으로 바꾸기\n",
    "train_linear = train.copy() # 선형회귀분석을 위한 데이터프레임 만들기\n",
    "train_linear.loc[train['CHAS'] == 1, 'CHAS'] = 'yes'\n",
    "train_linear.loc[train['CHAS'] == 0, 'CHAS'] = 'no'\n",
    "\n",
    "## CHAS을 더비변수로 만들기\n",
    "train_linear = pd.get_dummies(train_linear, columns=['CHAS'], drop_first=True)\n",
    "train_linear.info()"
   ]
  },
  {
   "cell_type": "code",
   "execution_count": 12,
   "id": "6471999f",
   "metadata": {},
   "outputs": [],
   "source": [
    "# 모델 생성\n",
    "import statsmodels.api as sm\n",
    "import statsmodels.formula.api as smf\n",
    "\n",
    "model = smf.ols(formula='MEDV ~ CRIM + ZN + INDUS + NOX + RM + AGE + DIS + RAD + TAX + PTRATIO + B + LSTAT + CHAS_yes', \n",
    "               data=train_linear)\n",
    "result = model.fit()\n",
    "\n",
    "# 잔차 계산\n",
    "predicted = result.predict(train_linear.drop(columns=['MEDV'], axis=1))\n",
    "residual = train_linear['MEDV'] - predicted"
   ]
  },
  {
   "cell_type": "code",
   "execution_count": 13,
   "id": "2133c883",
   "metadata": {},
   "outputs": [
    {
     "data": {
      "image/png": "[encoded data removed]",
      "text/plain": [
       "<Figure size 640x480 with 1 Axes>"
      ]
     },
     "metadata": {},
     "output_type": "display_data"
    }
   ],
   "source": [
    "# 선형성\n",
    "sns.regplot(predicted, residual, lowess=True, line_kws={'color': 'red'})\n",
    "plt.plot([predicted.min(), predicted.max()], [0,0], '--', color='grey')\n",
    "plt.title('모형의 선형성')\n",
    "plt.xlabel('predicted value')\n",
    "plt.ylabel('residual')\n",
    "plt.show()"
   ]
  },
  {
   "cell_type": "markdown",
   "id": "d3d559bf",
   "metadata": {},
   "source": [
    "[해석]\n",
    "- 모든 예측값에서 가운데 점선에 맞추어 잔차가 비슷하게 있어야함.\n",
    "- 빨간 실선은 잔차의 추세를 나타냄.\n",
    "- 빨간 실선이 점선에서 크게 벗어나므로 예측값에 따라 잔차가 달라진다는 것이기에 선형성이 없다고 판단함."
   ]
  },
  {
   "cell_type": "code",
   "execution_count": 14,
   "id": "d66eed12",
   "metadata": {},
   "outputs": [
    {
     "data": {
      "image/png": "[encoded data removed]",
      "text/plain": [
       "<Figure size 640x480 with 1 Axes>"
      ]
     },
     "metadata": {},
     "output_type": "display_data"
    },
    {
     "name": "stdout",
     "output_type": "stream",
     "text": [
      "ShapiroResult(statistic=0.8916897773742676, pvalue=2.1742377880868553e-17)\n",
      "=> p-value < 0.05 이므로 정규성을 만족하지 않음\n"
     ]
    }
   ],
   "source": [
    "# 정규성\n",
    "import scipy.stats as stats\n",
    "\n",
    "## Q-Q plot\n",
    "sr = stats.zscore(residual)\n",
    "(x, y), _ = stats.probplot(sr)\n",
    "sns.scatterplot(x, y)\n",
    "plt.plot([-3, 3], [-3, 3], '--', color='grey')\n",
    "plt.title('잔차의 정규성')\n",
    "plt.show()\n",
    "\n",
    "## shapiro test\n",
    "## 귀무가설: 정규성을 만족함.\n",
    "## 대립가설: 정규성을 만족하지 않음.\n",
    "print(stats.shapiro(residual))\n",
    "if stats.shapiro(residual)[1] < 0.05:\n",
    "    print('=> p-value < 0.05 이므로 정규성을 만족하지 않음')\n",
    "else: print('=> p-value >= 0.05 이므로 정규성을 만족함')"
   ]
  },
  {
   "cell_type": "markdown",
   "id": "26813a6c",
   "metadata": {},
   "source": [
    "[해석]\n",
    "- 점들이 점선에 따라 배치되어있지 않으므로 정규성을 만족하지 않음.\n",
    "- shapiro test를 통해 알 수 있는데, 역시 정규성을 만족하지 않는다고 판단함."
   ]
  },
  {
   "cell_type": "code",
   "execution_count": 15,
   "id": "30811741",
   "metadata": {},
   "outputs": [
    {
     "data": {
      "image/png": "[encoded data removed]",
      "text/plain": [
       "<Figure size 640x480 with 1 Axes>"
      ]
     },
     "metadata": {},
     "output_type": "display_data"
    }
   ],
   "source": [
    "# 등분산성\n",
    "sns.regplot(predicted, np.sqrt(np.abs(sr)), lowess=True, line_kws={'color': 'red'})\n",
    "plt.title('잔차의 등분산성')\n",
    "plt.xlabel('predicted value')\n",
    "plt.ylabel('resiual의 표준화된 value')\n",
    "plt.show()"
   ]
  },
  {
   "cell_type": "markdown",
   "id": "33de8ef2",
   "metadata": {},
   "source": [
    "[해석]\n",
    "- 예측값에 따라 잔차가 어떻게 변하는지 보여주는 그래프인데, 빨간색 실선이 수평선에 가까울수록 등분산성을 만족함.\n",
    "- 하지만 이를 어기므로 등분산성을 만족하지 않음."
   ]
  },
  {
   "cell_type": "markdown",
   "id": "5a0e925a",
   "metadata": {},
   "source": [
    "#### 3) - (2) 다중회귀분석(종속변수: MEDV, 독립변수: 그외)\n",
    "- 회귀분석의 가정을 모두 만족한다는 가정 하에 진행함."
   ]
  },
  {
   "cell_type": "code",
   "execution_count": 16,
   "id": "e0ef26cf",
   "metadata": {},
   "outputs": [
    {
     "data": {
      "text/html": [
       "<table class=\"simpletable\">\n",
       "<caption>OLS Regression Results</caption>\n",
       "<tr>\n",
       "  <th>Dep. Variable:</th>          <td>MEDV</td>       <th>  R-squared:         </th> <td>   0.742</td> \n",
       "</tr>\n",
       "<tr>\n",
       "  <th>Model:</th>                   <td>OLS</td>       <th>  Adj. R-squared:    </th> <td>   0.735</td> \n",
       "</tr>\n",
       "<tr>\n",
       "  <th>Method:</th>             <td>Least Squares</td>  <th>  F-statistic:       </th> <td>   97.64</td> \n",
       "</tr>\n",
       "<tr>\n",
       "  <th>Date:</th>             <td>Wed, 14 Jun 2023</td> <th>  Prob (F-statistic):</th> <td>9.18e-121</td>\n",
       "</tr>\n",
       "<tr>\n",
       "  <th>Time:</th>                 <td>21:21:08</td>     <th>  Log-Likelihood:    </th> <td> -1342.6</td> \n",
       "</tr>\n",
       "<tr>\n",
       "  <th>No. Observations:</th>      <td>   455</td>      <th>  AIC:               </th> <td>   2713.</td> \n",
       "</tr>\n",
       "<tr>\n",
       "  <th>Df Residuals:</th>          <td>   441</td>      <th>  BIC:               </th> <td>   2771.</td> \n",
       "</tr>\n",
       "<tr>\n",
       "  <th>Df Model:</th>              <td>    13</td>      <th>                     </th>     <td> </td>    \n",
       "</tr>\n",
       "<tr>\n",
       "  <th>Covariance Type:</th>      <td>nonrobust</td>    <th>                     </th>     <td> </td>    \n",
       "</tr>\n",
       "</table>\n",
       "<table class=\"simpletable\">\n",
       "<tr>\n",
       "      <td></td>         <th>coef</th>     <th>std err</th>      <th>t</th>      <th>P>|t|</th>  <th>[0.025</th>    <th>0.975]</th>  \n",
       "</tr>\n",
       "<tr>\n",
       "  <th>Intercept</th> <td>   36.6210</td> <td>    5.327</td> <td>    6.874</td> <td> 0.000</td> <td>   26.151</td> <td>   47.091</td>\n",
       "</tr>\n",
       "<tr>\n",
       "  <th>CRIM</th>      <td>   -0.1105</td> <td>    0.033</td> <td>   -3.374</td> <td> 0.001</td> <td>   -0.175</td> <td>   -0.046</td>\n",
       "</tr>\n",
       "<tr>\n",
       "  <th>ZN</th>        <td>    0.0455</td> <td>    0.014</td> <td>    3.194</td> <td> 0.002</td> <td>    0.018</td> <td>    0.074</td>\n",
       "</tr>\n",
       "<tr>\n",
       "  <th>INDUS</th>     <td>    0.0495</td> <td>    0.064</td> <td>    0.770</td> <td> 0.442</td> <td>   -0.077</td> <td>    0.176</td>\n",
       "</tr>\n",
       "<tr>\n",
       "  <th>NOX</th>       <td>  -17.8706</td> <td>    3.931</td> <td>   -4.546</td> <td> 0.000</td> <td>  -25.597</td> <td>  -10.144</td>\n",
       "</tr>\n",
       "<tr>\n",
       "  <th>RM</th>        <td>    3.8354</td> <td>    0.436</td> <td>    8.806</td> <td> 0.000</td> <td>    2.979</td> <td>    4.691</td>\n",
       "</tr>\n",
       "<tr>\n",
       "  <th>AGE</th>       <td>    0.0018</td> <td>    0.014</td> <td>    0.130</td> <td> 0.897</td> <td>   -0.025</td> <td>    0.029</td>\n",
       "</tr>\n",
       "<tr>\n",
       "  <th>DIS</th>       <td>   -1.3702</td> <td>    0.205</td> <td>   -6.683</td> <td> 0.000</td> <td>   -1.773</td> <td>   -0.967</td>\n",
       "</tr>\n",
       "<tr>\n",
       "  <th>RAD</th>       <td>    0.3048</td> <td>    0.068</td> <td>    4.462</td> <td> 0.000</td> <td>    0.171</td> <td>    0.439</td>\n",
       "</tr>\n",
       "<tr>\n",
       "  <th>TAX</th>       <td>   -0.0120</td> <td>    0.004</td> <td>   -3.088</td> <td> 0.002</td> <td>   -0.020</td> <td>   -0.004</td>\n",
       "</tr>\n",
       "<tr>\n",
       "  <th>PTRATIO</th>   <td>   -1.0090</td> <td>    0.138</td> <td>   -7.331</td> <td> 0.000</td> <td>   -1.279</td> <td>   -0.738</td>\n",
       "</tr>\n",
       "<tr>\n",
       "  <th>B</th>         <td>    0.0089</td> <td>    0.003</td> <td>    3.210</td> <td> 0.001</td> <td>    0.003</td> <td>    0.014</td>\n",
       "</tr>\n",
       "<tr>\n",
       "  <th>LSTAT</th>     <td>   -0.5208</td> <td>    0.053</td> <td>   -9.836</td> <td> 0.000</td> <td>   -0.625</td> <td>   -0.417</td>\n",
       "</tr>\n",
       "<tr>\n",
       "  <th>CHAS_yes</th>  <td>    2.4724</td> <td>    0.919</td> <td>    2.690</td> <td> 0.007</td> <td>    0.666</td> <td>    4.279</td>\n",
       "</tr>\n",
       "</table>\n",
       "<table class=\"simpletable\">\n",
       "<tr>\n",
       "  <th>Omnibus:</th>       <td>177.556</td> <th>  Durbin-Watson:     </th> <td>   1.968</td> \n",
       "</tr>\n",
       "<tr>\n",
       "  <th>Prob(Omnibus):</th> <td> 0.000</td>  <th>  Jarque-Bera (JB):  </th> <td> 897.029</td> \n",
       "</tr>\n",
       "<tr>\n",
       "  <th>Skew:</th>          <td> 1.636</td>  <th>  Prob(JB):          </th> <td>1.63e-195</td>\n",
       "</tr>\n",
       "<tr>\n",
       "  <th>Kurtosis:</th>      <td> 9.051</td>  <th>  Cond. No.          </th> <td>1.50e+04</td> \n",
       "</tr>\n",
       "</table><br/><br/>Notes:<br/>[1] Standard Errors assume that the covariance matrix of the errors is correctly specified.<br/>[2] The condition number is large, 1.5e+04. This might indicate that there are<br/>strong multicollinearity or other numerical problems."
      ],
      "text/plain": [
       "<class 'statsmodels.iolib.summary.Summary'>\n",
       "\"\"\"\n",
       "                            OLS Regression Results                            \n",
       "==============================================================================\n",
       "Dep. Variable:                   MEDV   R-squared:                       0.742\n",
       "Model:                            OLS   Adj. R-squared:                  0.735\n",
       "Method:                 Least Squares   F-statistic:                     97.64\n",
       "Date:                Wed, 14 Jun 2023   Prob (F-statistic):          9.18e-121\n",
       "Time:                        21:21:08   Log-Likelihood:                -1342.6\n",
       "No. Observations:                 455   AIC:                             2713.\n",
       "Df Residuals:                     441   BIC:                             2771.\n",
       "Df Model:                          13                                         \n",
       "Covariance Type:            nonrobust                                         \n",
       "==============================================================================\n",
       "                 coef    std err          t      P>|t|      [0.025      0.975]\n",
       "------------------------------------------------------------------------------\n",
       "Intercept     36.6210      5.327      6.874      0.000      26.151      47.091\n",
       "CRIM          -0.1105      0.033     -3.374      0.001      -0.175      -0.046\n",
       "ZN             0.0455      0.014      3.194      0.002       0.018       0.074\n",
       "INDUS          0.0495      0.064      0.770      0.442      -0.077       0.176\n",
       "NOX          -17.8706      3.931     -4.546      0.000     -25.597     -10.144\n",
       "RM             3.8354      0.436      8.806      0.000       2.979       4.691\n",
       "AGE            0.0018      0.014      0.130      0.897      -0.025       0.029\n",
       "DIS           -1.3702      0.205     -6.683      0.000      -1.773      -0.967\n",
       "RAD            0.3048      0.068      4.462      0.000       0.171       0.439\n",
       "TAX           -0.0120      0.004     -3.088      0.002      -0.020      -0.004\n",
       "PTRATIO       -1.0090      0.138     -7.331      0.000      -1.279      -0.738\n",
       "B              0.0089      0.003      3.210      0.001       0.003       0.014\n",
       "LSTAT         -0.5208      0.053     -9.836      0.000      -0.625      -0.417\n",
       "CHAS_yes       2.4724      0.919      2.690      0.007       0.666       4.279\n",
       "==============================================================================\n",
       "Omnibus:                      177.556   Durbin-Watson:                   1.968\n",
       "Prob(Omnibus):                  0.000   Jarque-Bera (JB):              897.029\n",
       "Skew:                           1.636   Prob(JB):                    1.63e-195\n",
       "Kurtosis:                       9.051   Cond. No.                     1.50e+04\n",
       "==============================================================================\n",
       "\n",
       "Notes:\n",
       "[1] Standard Errors assume that the covariance matrix of the errors is correctly specified.\n",
       "[2] The condition number is large, 1.5e+04. This might indicate that there are\n",
       "strong multicollinearity or other numerical problems.\n",
       "\"\"\""
      ]
     },
     "execution_count": 16,
     "metadata": {},
     "output_type": "execute_result"
    }
   ],
   "source": [
    "import statsmodels.api as sm\n",
    "import statsmodels.formula.api as smf\n",
    "\n",
    "model = smf.ols(formula='MEDV ~ CRIM + ZN + INDUS + NOX + RM + AGE + DIS + RAD + TAX + PTRATIO + B + LSTAT + CHAS_yes', \n",
    "               data=train_linear)\n",
    "result = model.fit()\n",
    "result.summary()"
   ]
  },
  {
   "cell_type": "markdown",
   "id": "9ebee7d2",
   "metadata": {},
   "source": [
    "[다중 선형 회귀 분석 해석]\n",
    "- 수정된 결정계수는 0.735로 어느정도 설명력이 있다고 할 수 있음.\n",
    "- 회귀모델 유의성 검정 결과, F-값이 97.64이고, p-value < 0.05이므로 회귀모델은 유의수준 0.05하에서 유의하다고 할 수 있음.\n",
    "- 회귀계수 유의성 검정 결과, INDUS와 Age 외에 모든 독립변수가 유의하다고 할 수 있음.\n",
    "- 종속변수에 가장 큰 영향을 주는 변수는 NOX(coef = -17.8706)인 것으로 나타남.\n",
    "- 더빈-왓슨 계수가 2에 근접하므로(1.968) 잔차의 독립성은 만족한다고 판단함.\n",
    "- 하지만 Notes의 [2]에 명시된 대로 다중공선성 문제가 있음. "
   ]
  },
  {
   "cell_type": "code",
   "execution_count": 17,
   "id": "16e2ac9d",
   "metadata": {},
   "outputs": [
    {
     "data": {
      "text/html": [
       "<div>\n",
       "<style scoped>\n",
       "    .dataframe tbody tr th:only-of-type {\n",
       "        vertical-align: middle;\n",
       "    }\n",
       "\n",
       "    .dataframe tbody tr th {\n",
       "        vertical-align: top;\n",
       "    }\n",
       "\n",
       "    .dataframe thead th {\n",
       "        text-align: right;\n",
       "    }\n",
       "</style>\n",
       "<table border=\"1\" class=\"dataframe\">\n",
       "  <thead>\n",
       "    <tr style=\"text-align: right;\">\n",
       "      <th></th>\n",
       "      <th>vif</th>\n",
       "      <th>variable</th>\n",
       "    </tr>\n",
       "  </thead>\n",
       "  <tbody>\n",
       "    <tr>\n",
       "      <th>8</th>\n",
       "      <td>8.858027</td>\n",
       "      <td>TAX</td>\n",
       "    </tr>\n",
       "    <tr>\n",
       "      <th>7</th>\n",
       "      <td>7.292333</td>\n",
       "      <td>RAD</td>\n",
       "    </tr>\n",
       "    <tr>\n",
       "      <th>3</th>\n",
       "      <td>4.314668</td>\n",
       "      <td>NOX</td>\n",
       "    </tr>\n",
       "    <tr>\n",
       "      <th>2</th>\n",
       "      <td>3.962295</td>\n",
       "      <td>INDUS</td>\n",
       "    </tr>\n",
       "    <tr>\n",
       "      <th>6</th>\n",
       "      <td>3.746728</td>\n",
       "      <td>DIS</td>\n",
       "    </tr>\n",
       "    <tr>\n",
       "      <th>5</th>\n",
       "      <td>3.026899</td>\n",
       "      <td>AGE</td>\n",
       "    </tr>\n",
       "    <tr>\n",
       "      <th>11</th>\n",
       "      <td>2.897446</td>\n",
       "      <td>LSTAT</td>\n",
       "    </tr>\n",
       "    <tr>\n",
       "      <th>1</th>\n",
       "      <td>2.199627</td>\n",
       "      <td>ZN</td>\n",
       "    </tr>\n",
       "    <tr>\n",
       "      <th>4</th>\n",
       "      <td>1.907402</td>\n",
       "      <td>RM</td>\n",
       "    </tr>\n",
       "    <tr>\n",
       "      <th>9</th>\n",
       "      <td>1.798662</td>\n",
       "      <td>PTRATIO</td>\n",
       "    </tr>\n",
       "    <tr>\n",
       "      <th>0</th>\n",
       "      <td>1.741360</td>\n",
       "      <td>CRIM</td>\n",
       "    </tr>\n",
       "    <tr>\n",
       "      <th>10</th>\n",
       "      <td>1.357885</td>\n",
       "      <td>B</td>\n",
       "    </tr>\n",
       "    <tr>\n",
       "      <th>12</th>\n",
       "      <td>1.071778</td>\n",
       "      <td>CHAS_yes</td>\n",
       "    </tr>\n",
       "  </tbody>\n",
       "</table>\n",
       "</div>"
      ],
      "text/plain": [
       "         vif  variable\n",
       "8   8.858027       TAX\n",
       "7   7.292333       RAD\n",
       "3   4.314668       NOX\n",
       "2   3.962295     INDUS\n",
       "6   3.746728       DIS\n",
       "5   3.026899       AGE\n",
       "11  2.897446     LSTAT\n",
       "1   2.199627        ZN\n",
       "4   1.907402        RM\n",
       "9   1.798662   PTRATIO\n",
       "0   1.741360      CRIM\n",
       "10  1.357885         B\n",
       "12  1.071778  CHAS_yes"
      ]
     },
     "execution_count": 17,
     "metadata": {},
     "output_type": "execute_result"
    }
   ],
   "source": [
    "# 다중공선성 판단을 위한 VIF(분산팽창지수)\n",
    "from patsy import dmatrices\n",
    "from statsmodels.stats.outliers_influence import variance_inflation_factor\n",
    "\n",
    "y, X= dmatrices('MEDV ~ CRIM + ZN + INDUS + NOX + RM + AGE + DIS + RAD + TAX + PTRATIO + B + LSTAT + CHAS_yes', \n",
    "               data=train_linear,\n",
    "              return_type='dataframe')\n",
    "\n",
    "vif_list = []\n",
    "for i in range(1, len(X.columns)):\n",
    "    vif_list.append([variance_inflation_factor(X.values, i), X.columns[i]])\n",
    "pd.DataFrame(vif_list, columns=['vif', 'variable']).sort_values(by = 'vif', ascending=False)"
   ]
  },
  {
   "cell_type": "markdown",
   "id": "cbb5fe75",
   "metadata": {},
   "source": [
    "[해석]\n",
    "- 상관관계 히트맵에서 알 수 있듯이 RAD와 TAX의 vif값이 상대적으로 높음.\n",
    "    - 두 변수 간 상관계수는 0.9 였음."
   ]
  },
  {
   "cell_type": "code",
   "execution_count": 18,
   "id": "0c2a9255",
   "metadata": {},
   "outputs": [],
   "source": [
    "# 변수선택법\n",
    "import time\n",
    "import itertools\n",
    "def processSubset(X,y, feature_set):\n",
    "            model = sm.OLS(y,X[list(feature_set)]) # Modeling\n",
    "            regr = model.fit() # 모델 학습\n",
    "            AIC = regr.aic # 모델의 AIC\n",
    "            return {\"model\":regr, \"AIC\":AIC}\n",
    "# 전진선택법\n",
    "def forward(X, y, predictors):\n",
    "    # 데이터 변수들이 미리정의된 predictors에 있는지 없는지 확인 및 분류\n",
    "    remaining_predictors = [p for p in X.columns.difference(['Intercept']) if p not in predictors]\n",
    "    results = []\n",
    "    for p in remaining_predictors:\n",
    "        results.append(processSubset(X=X, y= y,            feature_set=predictors+[p]+['Intercept']))\n",
    "        \n",
    "    # 데이터프레임으로 변환\n",
    "    models = pd.DataFrame(results)\n",
    "    # AIC가 가장 낮은 것을 선택\n",
    "    best_model = models.loc[models['AIC'].argmin()] # index\n",
    "    print(\"Processed \", models.shape[0], \"models on\", len(predictors)+1, \"predictors in\")\n",
    "    print('Selected predictors:',best_model['model'].model.exog_names,' AIC:',best_model[0] )\n",
    "    return best_model\n",
    "\n",
    "# 후진제거법\n",
    "def backward(X,y,predictors):\n",
    "    tic = time.time()\n",
    "    results = []\n",
    "    \n",
    "    # 데이터 변수들이 미리정의된 predictors 조합 확인\n",
    "    for combo in itertools.combinations(predictors, len(predictors) -1):\n",
    "        results.append(processSubset(X=X, y= y,        feature_set = list(combo)+['Intercept']))\n",
    "    models = pd.DataFrame(results)\n",
    "    \n",
    "    # 가장 낮은 AIC를 가진 모델을 선택\n",
    "    best_model = models.loc[models['AIC'].argmin()]\n",
    "    toc = time.time()\n",
    "    print(\"Processed \", models.shape[0], \"models on\",          len(predictors) -1, \"predictors in\", (toc - tic))\n",
    "    print('Selected predictors:',best_model['model'].model.exog_names,         'AIC:',best_model[0] )\n",
    "\n",
    "    return best_model\n",
    "\n",
    "# 단계적 선택법\n",
    "def Stepwise_model(X,y):\n",
    "    Stepmodels = pd.DataFrame(columns=[\"AIC\", \"model\"])\n",
    "    tic = time.time()\n",
    "    predictors = []\n",
    "    Smodel_before = processSubset(X,y,predictors+['Intercept'])['AIC']\n",
    "\n",
    "    for i in range(1, len(X.columns.difference(['Intercept'])) +1):\n",
    "        Forward_result = forward(X=X, y=y, predictors=predictors) \n",
    "        print('forward')\n",
    "        Stepmodels.loc[i] = Forward_result\n",
    "        predictors = Stepmodels.loc[i][\"model\"].model.exog_names\n",
    "        predictors = [ k for k in predictors if k !='Intercept']\n",
    "        Backward_result = backward(X=X, y=y, predictors=predictors)\n",
    "\n",
    "        if Backward_result['AIC']< Forward_result['AIC']:\n",
    "            Stepmodels.loc[i] = Backward_result\n",
    "            predictors = Stepmodels.loc[i][\"model\"].model.exog_names\n",
    "            Smodel_before = Stepmodels.loc[i][\"AIC\"]\n",
    "            predictors = [ k for k in predictors if k !='Intercept']\n",
    "            print('backward')\n",
    "\n",
    "        if Stepmodels.loc[i]['AIC']> Smodel_before:\n",
    "            break\n",
    "        else:\n",
    "            Smodel_before = Stepmodels.loc[i][\"AIC\"]\n",
    "    toc = time.time()\n",
    "    print(\"Total elapsed time:\", (toc - tic), \"seconds.\")\n",
    "\n",
    "    return (Stepmodels['model'][len(Stepmodels['model'])])"
   ]
  },
  {
   "cell_type": "code",
   "execution_count": 19,
   "id": "89513357",
   "metadata": {
    "scrolled": true
   },
   "outputs": [
    {
     "name": "stdout",
     "output_type": "stream",
     "text": [
      "Processed  13 models on 1 predictors in\n",
      "Selected predictors: ['LSTAT', 'Intercept']  AIC: <statsmodels.regression.linear_model.RegressionResultsWrapper object at 0x00000278FD761F08>\n",
      "forward\n",
      "Processed  1 models on 0 predictors in 0.003992319107055664\n",
      "Selected predictors: ['Intercept'] AIC: <statsmodels.regression.linear_model.RegressionResultsWrapper object at 0x00000278FD7685C8>\n",
      "Processed  12 models on 2 predictors in\n",
      "Selected predictors: ['LSTAT', 'RM', 'Intercept']  AIC: <statsmodels.regression.linear_model.RegressionResultsWrapper object at 0x00000278FD75F088>\n",
      "forward\n",
      "Processed  2 models on 1 predictors in 0.004984617233276367\n",
      "Selected predictors: ['LSTAT', 'Intercept'] AIC: <statsmodels.regression.linear_model.RegressionResultsWrapper object at 0x00000278F13E78C8>\n",
      "Processed  11 models on 3 predictors in\n",
      "Selected predictors: ['LSTAT', 'RM', 'PTRATIO', 'Intercept']  AIC: <statsmodels.regression.linear_model.RegressionResultsWrapper object at 0x00000278FD752708>\n",
      "forward\n",
      "Processed  3 models on 2 predictors in 0.01595592498779297\n",
      "Selected predictors: ['LSTAT', 'RM', 'Intercept'] AIC: <statsmodels.regression.linear_model.RegressionResultsWrapper object at 0x00000278FD75DE88>\n",
      "Processed  10 models on 4 predictors in\n",
      "Selected predictors: ['LSTAT', 'RM', 'PTRATIO', 'DIS', 'Intercept']  AIC: <statsmodels.regression.linear_model.RegressionResultsWrapper object at 0x00000278FD754648>\n",
      "forward\n",
      "Processed  4 models on 3 predictors in 0.00599980354309082\n",
      "Selected predictors: ['LSTAT', 'RM', 'PTRATIO', 'Intercept'] AIC: <statsmodels.regression.linear_model.RegressionResultsWrapper object at 0x00000278FD744E48>\n",
      "Processed  9 models on 5 predictors in\n",
      "Selected predictors: ['LSTAT', 'RM', 'PTRATIO', 'DIS', 'NOX', 'Intercept']  AIC: <statsmodels.regression.linear_model.RegressionResultsWrapper object at 0x00000278FD759C48>\n",
      "forward\n",
      "Processed  5 models on 4 predictors in 0.019952774047851562\n",
      "Selected predictors: ['LSTAT', 'RM', 'PTRATIO', 'DIS', 'Intercept'] AIC: <statsmodels.regression.linear_model.RegressionResultsWrapper object at 0x00000278FD769888>\n",
      "Processed  8 models on 6 predictors in\n",
      "Selected predictors: ['LSTAT', 'RM', 'PTRATIO', 'DIS', 'NOX', 'B', 'Intercept']  AIC: <statsmodels.regression.linear_model.RegressionResultsWrapper object at 0x00000278F13E7208>\n",
      "forward\n",
      "Processed  6 models on 5 predictors in 0.012682676315307617\n",
      "Selected predictors: ['LSTAT', 'RM', 'PTRATIO', 'DIS', 'NOX', 'Intercept'] AIC: <statsmodels.regression.linear_model.RegressionResultsWrapper object at 0x00000278FDAFE2C8>\n",
      "Processed  7 models on 7 predictors in\n",
      "Selected predictors: ['LSTAT', 'RM', 'PTRATIO', 'DIS', 'NOX', 'B', 'CHAS_yes', 'Intercept']  AIC: <statsmodels.regression.linear_model.RegressionResultsWrapper object at 0x00000278FD752608>\n",
      "forward\n",
      "Processed  7 models on 6 predictors in 0.013962984085083008\n",
      "Selected predictors: ['LSTAT', 'RM', 'PTRATIO', 'DIS', 'NOX', 'B', 'Intercept'] AIC: <statsmodels.regression.linear_model.RegressionResultsWrapper object at 0x00000278FD743708>\n",
      "Processed  6 models on 8 predictors in\n",
      "Selected predictors: ['LSTAT', 'RM', 'PTRATIO', 'DIS', 'NOX', 'B', 'CHAS_yes', 'ZN', 'Intercept']  AIC: <statsmodels.regression.linear_model.RegressionResultsWrapper object at 0x00000278FD772808>\n",
      "forward\n",
      "Processed  8 models on 7 predictors in 0.021942853927612305\n",
      "Selected predictors: ['LSTAT', 'RM', 'PTRATIO', 'DIS', 'NOX', 'B', 'CHAS_yes', 'Intercept'] AIC: <statsmodels.regression.linear_model.RegressionResultsWrapper object at 0x00000278FD743A88>\n",
      "Processed  5 models on 9 predictors in\n",
      "Selected predictors: ['LSTAT', 'RM', 'PTRATIO', 'DIS', 'NOX', 'B', 'CHAS_yes', 'ZN', 'CRIM', 'Intercept']  AIC: <statsmodels.regression.linear_model.RegressionResultsWrapper object at 0x00000278FD75E348>\n",
      "forward\n",
      "Processed  9 models on 8 predictors in 0.03989386558532715\n",
      "Selected predictors: ['LSTAT', 'RM', 'PTRATIO', 'DIS', 'NOX', 'B', 'CHAS_yes', 'ZN', 'Intercept'] AIC: <statsmodels.regression.linear_model.RegressionResultsWrapper object at 0x00000278FD75EF88>\n",
      "Processed  4 models on 10 predictors in\n",
      "Selected predictors: ['LSTAT', 'RM', 'PTRATIO', 'DIS', 'NOX', 'B', 'CHAS_yes', 'ZN', 'CRIM', 'RAD', 'Intercept']  AIC: <statsmodels.regression.linear_model.RegressionResultsWrapper object at 0x00000278FD773C48>\n",
      "forward\n",
      "Processed  10 models on 9 predictors in 0.04500412940979004\n",
      "Selected predictors: ['LSTAT', 'RM', 'PTRATIO', 'DIS', 'NOX', 'B', 'CHAS_yes', 'CRIM', 'RAD', 'Intercept'] AIC: <statsmodels.regression.linear_model.RegressionResultsWrapper object at 0x00000278FD772408>\n",
      "Processed  3 models on 11 predictors in\n",
      "Selected predictors: ['LSTAT', 'RM', 'PTRATIO', 'DIS', 'NOX', 'B', 'CHAS_yes', 'ZN', 'CRIM', 'RAD', 'TAX', 'Intercept']  AIC: <statsmodels.regression.linear_model.RegressionResultsWrapper object at 0x00000278FD775488>\n",
      "forward\n",
      "Processed  11 models on 10 predictors in 0.04412269592285156\n",
      "Selected predictors: ['LSTAT', 'RM', 'PTRATIO', 'DIS', 'NOX', 'B', 'ZN', 'CRIM', 'RAD', 'TAX', 'Intercept'] AIC: <statsmodels.regression.linear_model.RegressionResultsWrapper object at 0x00000278FD778A08>\n",
      "Processed  2 models on 12 predictors in\n",
      "Selected predictors: ['LSTAT', 'RM', 'PTRATIO', 'DIS', 'NOX', 'B', 'CHAS_yes', 'ZN', 'CRIM', 'RAD', 'TAX', 'INDUS', 'Intercept']  AIC: <statsmodels.regression.linear_model.RegressionResultsWrapper object at 0x00000278FD77D788>\n",
      "forward\n",
      "Processed  12 models on 11 predictors in 0.06876015663146973\n",
      "Selected predictors: ['LSTAT', 'RM', 'PTRATIO', 'DIS', 'NOX', 'B', 'CHAS_yes', 'ZN', 'CRIM', 'RAD', 'TAX', 'Intercept'] AIC: <statsmodels.regression.linear_model.RegressionResultsWrapper object at 0x00000278FD77D208>\n",
      "backward\n",
      "Processed  2 models on 12 predictors in\n",
      "Selected predictors: ['LSTAT', 'RM', 'PTRATIO', 'DIS', 'NOX', 'B', 'CHAS_yes', 'ZN', 'CRIM', 'RAD', 'TAX', 'INDUS', 'Intercept']  AIC: <statsmodels.regression.linear_model.RegressionResultsWrapper object at 0x00000278FD780548>\n",
      "forward\n",
      "Processed  12 models on 11 predictors in 0.06991982460021973\n",
      "Selected predictors: ['LSTAT', 'RM', 'PTRATIO', 'DIS', 'NOX', 'B', 'CHAS_yes', 'ZN', 'CRIM', 'RAD', 'TAX', 'Intercept'] AIC: <statsmodels.regression.linear_model.RegressionResultsWrapper object at 0x00000278FD7750C8>\n",
      "backward\n",
      "Total elapsed time: 0.8575549125671387 seconds.\n"
     ]
    }
   ],
   "source": [
    "# 단계적 선택법\n",
    "Stepwise_best_model = Stepwise_model(X=X, y=y)"
   ]
  },
  {
   "cell_type": "code",
   "execution_count": 20,
   "id": "562036b5",
   "metadata": {},
   "outputs": [
    {
     "data": {
      "text/html": [
       "<table class=\"simpletable\">\n",
       "<caption>OLS Regression Results</caption>\n",
       "<tr>\n",
       "  <th>Dep. Variable:</th>          <td>MEDV</td>       <th>  R-squared:         </th> <td>   0.742</td> \n",
       "</tr>\n",
       "<tr>\n",
       "  <th>Model:</th>                   <td>OLS</td>       <th>  Adj. R-squared:    </th> <td>   0.735</td> \n",
       "</tr>\n",
       "<tr>\n",
       "  <th>Method:</th>             <td>Least Squares</td>  <th>  F-statistic:       </th> <td>   115.7</td> \n",
       "</tr>\n",
       "<tr>\n",
       "  <th>Date:</th>             <td>Wed, 14 Jun 2023</td> <th>  Prob (F-statistic):</th> <td>1.07e-122</td>\n",
       "</tr>\n",
       "<tr>\n",
       "  <th>Time:</th>                 <td>21:21:10</td>     <th>  Log-Likelihood:    </th> <td> -1342.9</td> \n",
       "</tr>\n",
       "<tr>\n",
       "  <th>No. Observations:</th>      <td>   455</td>      <th>  AIC:               </th> <td>   2710.</td> \n",
       "</tr>\n",
       "<tr>\n",
       "  <th>Df Residuals:</th>          <td>   443</td>      <th>  BIC:               </th> <td>   2759.</td> \n",
       "</tr>\n",
       "<tr>\n",
       "  <th>Df Model:</th>              <td>    11</td>      <th>                     </th>     <td> </td>    \n",
       "</tr>\n",
       "<tr>\n",
       "  <th>Covariance Type:</th>      <td>nonrobust</td>    <th>                     </th>     <td> </td>    \n",
       "</tr>\n",
       "</table>\n",
       "<table class=\"simpletable\">\n",
       "<tr>\n",
       "      <td></td>         <th>coef</th>     <th>std err</th>      <th>t</th>      <th>P>|t|</th>  <th>[0.025</th>    <th>0.975]</th>  \n",
       "</tr>\n",
       "<tr>\n",
       "  <th>LSTAT</th>     <td>   -0.5152</td> <td>    0.050</td> <td>  -10.355</td> <td> 0.000</td> <td>   -0.613</td> <td>   -0.417</td>\n",
       "</tr>\n",
       "<tr>\n",
       "  <th>RM</th>        <td>    3.8178</td> <td>    0.425</td> <td>    8.982</td> <td> 0.000</td> <td>    2.982</td> <td>    4.653</td>\n",
       "</tr>\n",
       "<tr>\n",
       "  <th>PTRATIO</th>   <td>   -0.9959</td> <td>    0.136</td> <td>   -7.311</td> <td> 0.000</td> <td>   -1.264</td> <td>   -0.728</td>\n",
       "</tr>\n",
       "<tr>\n",
       "  <th>DIS</th>       <td>   -1.4099</td> <td>    0.191</td> <td>   -7.377</td> <td> 0.000</td> <td>   -1.786</td> <td>   -1.034</td>\n",
       "</tr>\n",
       "<tr>\n",
       "  <th>NOX</th>       <td>  -16.9577</td> <td>    3.645</td> <td>   -4.653</td> <td> 0.000</td> <td>  -24.120</td> <td>   -9.795</td>\n",
       "</tr>\n",
       "<tr>\n",
       "  <th>B</th>         <td>    0.0088</td> <td>    0.003</td> <td>    3.203</td> <td> 0.001</td> <td>    0.003</td> <td>    0.014</td>\n",
       "</tr>\n",
       "<tr>\n",
       "  <th>CHAS_yes</th>  <td>    2.5523</td> <td>    0.912</td> <td>    2.799</td> <td> 0.005</td> <td>    0.760</td> <td>    4.344</td>\n",
       "</tr>\n",
       "<tr>\n",
       "  <th>ZN</th>        <td>    0.0440</td> <td>    0.014</td> <td>    3.139</td> <td> 0.002</td> <td>    0.016</td> <td>    0.072</td>\n",
       "</tr>\n",
       "<tr>\n",
       "  <th>CRIM</th>      <td>   -0.1113</td> <td>    0.033</td> <td>   -3.407</td> <td> 0.001</td> <td>   -0.176</td> <td>   -0.047</td>\n",
       "</tr>\n",
       "<tr>\n",
       "  <th>RAD</th>       <td>    0.2902</td> <td>    0.066</td> <td>    4.428</td> <td> 0.000</td> <td>    0.161</td> <td>    0.419</td>\n",
       "</tr>\n",
       "<tr>\n",
       "  <th>TAX</th>       <td>   -0.0106</td> <td>    0.003</td> <td>   -3.066</td> <td> 0.002</td> <td>   -0.017</td> <td>   -0.004</td>\n",
       "</tr>\n",
       "<tr>\n",
       "  <th>Intercept</th> <td>   36.3649</td> <td>    5.298</td> <td>    6.864</td> <td> 0.000</td> <td>   25.953</td> <td>   46.777</td>\n",
       "</tr>\n",
       "</table>\n",
       "<table class=\"simpletable\">\n",
       "<tr>\n",
       "  <th>Omnibus:</th>       <td>178.575</td> <th>  Durbin-Watson:     </th> <td>   1.972</td> \n",
       "</tr>\n",
       "<tr>\n",
       "  <th>Prob(Omnibus):</th> <td> 0.000</td>  <th>  Jarque-Bera (JB):  </th> <td> 909.450</td> \n",
       "</tr>\n",
       "<tr>\n",
       "  <th>Skew:</th>          <td> 1.644</td>  <th>  Prob(JB):          </th> <td>3.28e-198</td>\n",
       "</tr>\n",
       "<tr>\n",
       "  <th>Kurtosis:</th>      <td> 9.096</td>  <th>  Cond. No.          </th> <td>1.46e+04</td> \n",
       "</tr>\n",
       "</table><br/><br/>Notes:<br/>[1] Standard Errors assume that the covariance matrix of the errors is correctly specified.<br/>[2] The condition number is large, 1.46e+04. This might indicate that there are<br/>strong multicollinearity or other numerical problems."
      ],
      "text/plain": [
       "<class 'statsmodels.iolib.summary.Summary'>\n",
       "\"\"\"\n",
       "                            OLS Regression Results                            \n",
       "==============================================================================\n",
       "Dep. Variable:                   MEDV   R-squared:                       0.742\n",
       "Model:                            OLS   Adj. R-squared:                  0.735\n",
       "Method:                 Least Squares   F-statistic:                     115.7\n",
       "Date:                Wed, 14 Jun 2023   Prob (F-statistic):          1.07e-122\n",
       "Time:                        21:21:10   Log-Likelihood:                -1342.9\n",
       "No. Observations:                 455   AIC:                             2710.\n",
       "Df Residuals:                     443   BIC:                             2759.\n",
       "Df Model:                          11                                         \n",
       "Covariance Type:            nonrobust                                         \n",
       "==============================================================================\n",
       "                 coef    std err          t      P>|t|      [0.025      0.975]\n",
       "------------------------------------------------------------------------------\n",
       "LSTAT         -0.5152      0.050    -10.355      0.000      -0.613      -0.417\n",
       "RM             3.8178      0.425      8.982      0.000       2.982       4.653\n",
       "PTRATIO       -0.9959      0.136     -7.311      0.000      -1.264      -0.728\n",
       "DIS           -1.4099      0.191     -7.377      0.000      -1.786      -1.034\n",
       "NOX          -16.9577      3.645     -4.653      0.000     -24.120      -9.795\n",
       "B              0.0088      0.003      3.203      0.001       0.003       0.014\n",
       "CHAS_yes       2.5523      0.912      2.799      0.005       0.760       4.344\n",
       "ZN             0.0440      0.014      3.139      0.002       0.016       0.072\n",
       "CRIM          -0.1113      0.033     -3.407      0.001      -0.176      -0.047\n",
       "RAD            0.2902      0.066      4.428      0.000       0.161       0.419\n",
       "TAX           -0.0106      0.003     -3.066      0.002      -0.017      -0.004\n",
       "Intercept     36.3649      5.298      6.864      0.000      25.953      46.777\n",
       "==============================================================================\n",
       "Omnibus:                      178.575   Durbin-Watson:                   1.972\n",
       "Prob(Omnibus):                  0.000   Jarque-Bera (JB):              909.450\n",
       "Skew:                           1.644   Prob(JB):                    3.28e-198\n",
       "Kurtosis:                       9.096   Cond. No.                     1.46e+04\n",
       "==============================================================================\n",
       "\n",
       "Notes:\n",
       "[1] Standard Errors assume that the covariance matrix of the errors is correctly specified.\n",
       "[2] The condition number is large, 1.46e+04. This might indicate that there are\n",
       "strong multicollinearity or other numerical problems.\n",
       "\"\"\""
      ]
     },
     "execution_count": 20,
     "metadata": {},
     "output_type": "execute_result"
    }
   ],
   "source": [
    "Stepwise_best_model.summary()"
   ]
  },
  {
   "cell_type": "markdown",
   "id": "4888fb65",
   "metadata": {},
   "source": [
    "[해석]\n",
    "- 단계선택법으로 회귀분석한 결과, INDUS와 Age가 탈락되었음.\n",
    "- 수정된 결정계수는 0.735로 변수선택법을 적용하지 않은 회귀분석의 값과 일치함.\n",
    "- 회귀모형의 유의성 검정 결과, p-value < 0.05이므로 추정된 회귀모델은 유의하다고 할 수 있음.\n",
    "\n",
    "[가설]\n",
    "- CRIM(도시별 1인당 범죄율)과 MEDV(본인 소유의 주택 가격) 간에는 **음**의 상관성이 존재할 것이다. → yes\n",
    "- ZN(25,000 피트를 초과하는 주거용 토지의 비율)와 MEDV 간에는 **양**의 상관성이 존재할 것이다. → yes\n",
    "- CHAS(찰스강 경계에 위치한 경우는 1, 아니면 0)이 1이면 0일때 보다 MEDV 값이 높을 것이다. → yes\n",
    "- NOX(일산화질소 농도)와 MEDV 간에는 **음**의 상관성이 존재할 것이다. → yes\n",
    "- RM(주택당 평균 방 개수)와 MEDV 간에는 **양**의 상관성이 존재할 것이다. → yes\n",
    "- DIS(5개의 보스턴 고용 센터와의 거리)와 MEDV 간에는 **음**의 상관성이 존재할 것이다. → yes\n",
    "- RAD(고속도로 접근성 지수)와 MEDV 간에는 **양**의 상관성이 존재할 것이다. → yes\n",
    "- TAX(10,000달러당 재산세율)와 MEDV 간에는 **양**의 상관성이 존재할 것이다. → no\n",
    "    - [제산세](https://easylaw.go.kr/CSP/CnpClsMain.laf?popMenu=ov&csmSeq=1259&ccfNo=4&cciNo=1&cnpClsNo=3): 토지, 건축물, 주택, 항공기 및 선박과 같은 재산에 대해 정기적으로 부과되는 지방세\n",
    "- PTRATIO(도시별 교사와 학생 수 비율)와 MEDV 간에는 **양**의 상관성이 존재할 것이다. → no\n",
    "- B(마을의 흑인 거주 비율)와 MEDV 간에는 **음**의 상관성이 존재할 것이다. → no\n",
    "- LSTAT(하위 계층의 비율)와 MEDV 간에는 **음**의 상관성이 존재할 것이다. → yes"
   ]
  },
  {
   "cell_type": "markdown",
   "id": "2f7e3460",
   "metadata": {},
   "source": [
    "#### 3) - (3) 일원배치 분산분석\n",
    "- 귀무가설: CHAS(0, 1)에 따라 MEDV의 평균에 차이가 없다.\n",
    "- 대립가설: CHAS(0, 1)에 따라 MEDV의 평균에 차이가 있다."
   ]
  },
  {
   "cell_type": "code",
   "execution_count": 21,
   "id": "114f60ce",
   "metadata": {},
   "outputs": [
    {
     "data": {
      "text/plain": [
       "0.0    425\n",
       "1.0     30\n",
       "Name: CHAS, dtype: int64"
      ]
     },
     "execution_count": 21,
     "metadata": {},
     "output_type": "execute_result"
    }
   ],
   "source": [
    "import scipy.stats as stats\n",
    "train_stats['CHAS'].value_counts()"
   ]
  },
  {
   "cell_type": "code",
   "execution_count": 22,
   "id": "07067377",
   "metadata": {},
   "outputs": [],
   "source": [
    "CHAS_0 = train_stats.loc[train_stats['CHAS']==0, 'MEDV']\n",
    "CHAS_1 = train_stats.loc[train_stats['CHAS']==1, 'MEDV']"
   ]
  },
  {
   "cell_type": "code",
   "execution_count": 23,
   "id": "741e3b29",
   "metadata": {
    "scrolled": true
   },
   "outputs": [
    {
     "name": "stdout",
     "output_type": "stream",
     "text": [
      "정규성 검정\n",
      "ShapiroResult(statistic=0.9294405579566956, pvalue=2.834657421985076e-13)\n",
      "ShapiroResult(statistic=0.8497606515884399, pvalue=0.0006129213143140078)\n",
      "\n",
      "등분산성 검정\n",
      "LeveneResult(statistic=4.402675594978763, pvalue=0.03643584046199921)\n"
     ]
    }
   ],
   "source": [
    "# 정규성, 등분산성 검정\n",
    "print('정규성 검정')\n",
    "print(stats.shapiro(CHAS_0))\n",
    "print(stats.shapiro(CHAS_1))\n",
    "\n",
    "print('\\n등분산성 검정')\n",
    "print(stats.levene(CHAS_0, CHAS_1))"
   ]
  },
  {
   "cell_type": "markdown",
   "id": "6ff085aa",
   "metadata": {},
   "source": [
    "[해석]\n",
    "- 정규성과 등분산성 모두 만족하지 않은 것으로 나타남."
   ]
  },
  {
   "cell_type": "code",
   "execution_count": 24,
   "id": "e931dbfb",
   "metadata": {},
   "outputs": [
    {
     "name": "stdout",
     "output_type": "stream",
     "text": [
      "<크루스칼-왈리스 순위합 검정>\n",
      "KruskalResult(statistic=9.899867014648247, pvalue=0.001652907159926855)\n"
     ]
    }
   ],
   "source": [
    "# 크루스칼-왈리스 순위합 검정(Kruskal-Wallis rank sum test)\n",
    "# 정규성을 만족하지 않은 비모수 분산분석 방법\n",
    "print('<크루스칼-왈리스 순위합 검정>')\n",
    "print(stats.kruskal(CHAS_0, CHAS_1))"
   ]
  },
  {
   "cell_type": "code",
   "execution_count": 25,
   "id": "9527433a",
   "metadata": {},
   "outputs": [
    {
     "name": "stdout",
     "output_type": "stream",
     "text": [
      "Weich's ANOVA\n"
     ]
    },
    {
     "data": {
      "text/html": [
       "<div>\n",
       "<style scoped>\n",
       "    .dataframe tbody tr th:only-of-type {\n",
       "        vertical-align: middle;\n",
       "    }\n",
       "\n",
       "    .dataframe tbody tr th {\n",
       "        vertical-align: top;\n",
       "    }\n",
       "\n",
       "    .dataframe thead th {\n",
       "        text-align: right;\n",
       "    }\n",
       "</style>\n",
       "<table border=\"1\" class=\"dataframe\">\n",
       "  <thead>\n",
       "    <tr style=\"text-align: right;\">\n",
       "      <th></th>\n",
       "      <th>Source</th>\n",
       "      <th>ddof1</th>\n",
       "      <th>ddof2</th>\n",
       "      <th>F</th>\n",
       "      <th>p-unc</th>\n",
       "      <th>np2</th>\n",
       "    </tr>\n",
       "  </thead>\n",
       "  <tbody>\n",
       "    <tr>\n",
       "      <th>0</th>\n",
       "      <td>MEDV</td>\n",
       "      <td>216</td>\n",
       "      <td>1496.553916</td>\n",
       "      <td>0.116187</td>\n",
       "      <td>1.0</td>\n",
       "      <td>0.457654</td>\n",
       "    </tr>\n",
       "  </tbody>\n",
       "</table>\n",
       "</div>"
      ],
      "text/plain": [
       "  Source  ddof1        ddof2         F  p-unc       np2\n",
       "0   MEDV    216  1496.553916  0.116187    1.0  0.457654"
      ]
     },
     "metadata": {},
     "output_type": "display_data"
    }
   ],
   "source": [
    "# Welch's ANOVA \n",
    "# 등분산성 가정을 충족하지 않을 때 사용\n",
    "import pingouin as pg\n",
    "import warnings\n",
    "warnings.filterwarnings(action='ignore')\n",
    "print(\"Weich's ANOVA\")\n",
    "display(pg.welch_anova(dv = 'CHAS', between='MEDV', data=train_stats))"
   ]
  },
  {
   "cell_type": "code",
   "execution_count": 26,
   "id": "b7f3ca62",
   "metadata": {},
   "outputs": [
    {
     "data": {
      "text/plain": [
       "F_onewayResult(statistic=15.472363040194002, pvalue=9.684375493194697e-05)"
      ]
     },
     "execution_count": 26,
     "metadata": {},
     "output_type": "execute_result"
    }
   ],
   "source": [
    "# 정규성과 등분산성을 모두 만족할 때의 일원배치 분산분석\n",
    "stats.f_oneway(CHAS_0, CHAS_1)"
   ]
  },
  {
   "cell_type": "markdown",
   "id": "f037f8c3",
   "metadata": {},
   "source": [
    "[해석]\n",
    "- 정규성과 등분산성을 모두 만족한다는 가정 하에 진행한 결과, CHAS에 따라 평균 MEDV에 차이가 있다고 할 수 있음."
   ]
  },
  {
   "cell_type": "code",
   "execution_count": 27,
   "id": "5269aaf4",
   "metadata": {},
   "outputs": [
    {
     "data": {
      "text/html": [
       "<table class=\"simpletable\">\n",
       "<caption>Multiple Comparison of Means - Tukey HSD, FWER=0.05</caption>\n",
       "<tr>\n",
       "  <th>group1</th> <th>group2</th> <th>meandiff</th>  <th>p-adj</th>  <th>lower</th>  <th>upper</th>  <th>reject</th>\n",
       "</tr>\n",
       "<tr>\n",
       "    <td>0.0</td>    <td>1.0</td>   <td>6.6718</td>  <td>0.0001</td> <td>3.3385</td> <td>10.0052</td>  <td>True</td> \n",
       "</tr>\n",
       "</table>"
      ],
      "text/plain": [
       "<class 'statsmodels.iolib.table.SimpleTable'>"
      ]
     },
     "metadata": {},
     "output_type": "display_data"
    },
    {
     "data": {
      "image/png": "[encoded data removed]",
      "text/plain": [
       "<Figure size 1000x600 with 1 Axes>"
      ]
     },
     "metadata": {},
     "output_type": "display_data"
    }
   ],
   "source": [
    "# 사후 검정\n",
    "from statsmodels.stats.multicomp import pairwise_tukeyhsd\n",
    "from statsmodels.stats.multicomp import MultiComparison\n",
    "mc = MultiComparison(data=train_stats['MEDV'], groups=train_stats['CHAS'])\n",
    "tukeyhsd = mc.tukeyhsd(alpha=0.05)\n",
    "fig = tukeyhsd.plot_simultaneous()\n",
    "display(tukeyhsd.summary())"
   ]
  },
  {
   "cell_type": "markdown",
   "id": "3eb41fbe",
   "metadata": {},
   "source": [
    "#### 3) - (4) 일표본 t-test\n",
    "- 귀무가설: NOX(일산화질소)의 농도는 0.4이다.\n",
    "- 대립가설: NOX(일산화질소)의 농도는 0.4가 아니다."
   ]
  },
  {
   "cell_type": "code",
   "execution_count": 28,
   "id": "d98b053d",
   "metadata": {},
   "outputs": [
    {
     "data": {
      "text/plain": [
       "ShapiroResult(statistic=0.9318305850028992, pvalue=1.4948872489265602e-13)"
      ]
     },
     "execution_count": 28,
     "metadata": {},
     "output_type": "execute_result"
    }
   ],
   "source": [
    "# 정규성 검정\n",
    "## 귀무가설: 정규분포를 따름.\n",
    "## 대립가설: 정규분포를 따르지 않음.\n",
    "stats.shapiro(train_stats['NOX'])"
   ]
  },
  {
   "cell_type": "code",
   "execution_count": 29,
   "id": "2fabd210",
   "metadata": {},
   "outputs": [
    {
     "data": {
      "text/plain": [
       "WilcoxonResult(statistic=66.0, pvalue=1.326655768327734e-75)"
      ]
     },
     "execution_count": 29,
     "metadata": {},
     "output_type": "execute_result"
    }
   ],
   "source": [
    "# 정규성을 만족하지 않으므로 윌콕슨 분호 순위 검정 실행\n",
    "stats.wilcoxon(train_stats['NOX']-0.4)"
   ]
  },
  {
   "cell_type": "markdown",
   "id": "afdc3740",
   "metadata": {},
   "source": [
    "[해석]\n",
    "- 정규성을 만족하지 않아서 윌콕슨 부호 순위 검정을 진행했는데, p-value < 0.05 이므로 귀무가설을 기각하여, NOX의 농도는 0.4가 아님을 알 수 있음."
   ]
  },
  {
   "cell_type": "code",
   "execution_count": 30,
   "id": "54264952",
   "metadata": {},
   "outputs": [
    {
     "data": {
      "text/plain": [
       "Ttest_1sampResult(statistic=28.403306996235365, pvalue=9.520351304972463e-103)"
      ]
     },
     "execution_count": 30,
     "metadata": {},
     "output_type": "execute_result"
    }
   ],
   "source": [
    "# 정규성을 만족한다는 가정 하에 t-test\n",
    "stats.ttest_1samp(train_stats['NOX'], popmean=0.4)"
   ]
  },
  {
   "cell_type": "markdown",
   "id": "fc3077e1",
   "metadata": {},
   "source": [
    "[해석]\n",
    "- 일표본 t-test 결과 역시, p-value < 0.05 이므로 귀무가설을 기각하여, NOX의 농도는 0.4가 아님을 알 수 있음."
   ]
  },
  {
   "cell_type": "code",
   "execution_count": 31,
   "id": "da1d7bb3",
   "metadata": {
    "scrolled": true
   },
   "outputs": [
    {
     "name": "stdout",
     "output_type": "stream",
     "text": [
      "신뢰구간: (0.544424394323871, 0.5658951661156896)\n"
     ]
    }
   ],
   "source": [
    "# 신뢰구간\n",
    "ci_tuple = stats.t.interval(alpha=0.95, df=len(train_stats['NOX'])-1, \n",
    "                            loc=np.mean(train_stats['NOX']), scale=stats.sem(train_stats['NOX']))\n",
    "print('신뢰구간:', ci_tuple)"
   ]
  },
  {
   "cell_type": "markdown",
   "id": "c5bddf7a",
   "metadata": {},
   "source": [
    "[해석]\n",
    "- 가설을 설정할 때, μ0를 0.4로 설정했고, 이는 위에서 구한 신뢰구간에 포함되지 않으므로 귀무가설을 기각할 수 있음.\n",
    "- 이는 곧 앞서 진행한 t-test의 결과와 동일함."
   ]
  },
  {
   "cell_type": "markdown",
   "id": "75f39afb",
   "metadata": {},
   "source": [
    "#### 3) - (5) 상관분석\n",
    "[가설]\n",
    "- 귀무가설: TAX, RAD 간에 상관성이 없다.\n",
    "- 대립가설: TAX, RAD 간에 상관성이 있다."
   ]
  },
  {
   "cell_type": "code",
   "execution_count": 32,
   "id": "4ee93491",
   "metadata": {},
   "outputs": [
    {
     "name": "stdout",
     "output_type": "stream",
     "text": [
      "상관계수: 0.9085 / p-value: 8.272931307680358e-174\n"
     ]
    }
   ],
   "source": [
    "value = stats.pearsonr(train_stats['TAX'], train_stats['RAD'])[0]\n",
    "p = stats.pearsonr(train_stats['TAX'], train_stats['RAD'])[1]\n",
    "\n",
    "print(f'상관계수: {round(value, 4)} / p-value: {p}')"
   ]
  },
  {
   "cell_type": "markdown",
   "id": "f5f8e8c2",
   "metadata": {},
   "source": [
    "[해석]\n",
    "- p-value < 0.05이므로 귀무가설을 기각하여 두 변수 간에 상관성이 존재함을 알 수 있음."
   ]
  },
  {
   "cell_type": "code",
   "execution_count": 33,
   "id": "15d93dc9",
   "metadata": {},
   "outputs": [
    {
     "name": "stdout",
     "output_type": "stream",
     "text": [
      "공분산: 1342.2181294476445\n"
     ]
    }
   ],
   "source": [
    "print('공분산:', np.cov(train_stats['TAX'], train_stats['RAD'])[0, 1])"
   ]
  },
  {
   "cell_type": "code",
   "execution_count": 34,
   "id": "22ddec84",
   "metadata": {},
   "outputs": [
    {
     "data": {
      "image/png": "[encoded data removed]",
      "text/plain": [
       "<Figure size 600x400 with 1 Axes>"
      ]
     },
     "metadata": {},
     "output_type": "display_data"
    }
   ],
   "source": [
    "plt.figure(figsize=(6,4))\n",
    "sns.regplot(train_stats['TAX'], train_stats['RAD'])\n",
    "plt.title('TAX와 RAD의 Scatterplot')\n",
    "plt.show()"
   ]
  },
  {
   "cell_type": "markdown",
   "id": "e73983fe",
   "metadata": {},
   "source": [
    "#### 3) - (6) 교차검증(독립성 검정)\n",
    "[가설]\n",
    "- 귀무가설: CRIM, B 간에 연관성이 없다.\n",
    "- 대립가설: CRIM, B 간에 연관성이 있다."
   ]
  },
  {
   "cell_type": "code",
   "execution_count": 35,
   "id": "afe61d63",
   "metadata": {},
   "outputs": [
    {
     "data": {
      "image/png": "[encoded data removed]",
      "text/plain": [
       "<Figure size 500x400 with 1 Axes>"
      ]
     },
     "metadata": {},
     "output_type": "display_data"
    }
   ],
   "source": [
    "plt.figure(figsize=(5,4))\n",
    "train_stats['CRIM'].hist(bins=30)\n",
    "plt.show()"
   ]
  },
  {
   "cell_type": "code",
   "execution_count": 36,
   "id": "b65609e4",
   "metadata": {},
   "outputs": [
    {
     "data": {
      "image/png": "[encoded data removed]",
      "text/plain": [
       "<Figure size 500x400 with 1 Axes>"
      ]
     },
     "metadata": {},
     "output_type": "display_data"
    }
   ],
   "source": [
    "plt.figure(figsize=(5,4))\n",
    "train_stats['B'].hist(bins=30)\n",
    "plt.show()"
   ]
  },
  {
   "cell_type": "code",
   "execution_count": 37,
   "id": "42a12668",
   "metadata": {},
   "outputs": [
    {
     "data": {
      "text/html": [
       "<div>\n",
       "<style scoped>\n",
       "    .dataframe tbody tr th:only-of-type {\n",
       "        vertical-align: middle;\n",
       "    }\n",
       "\n",
       "    .dataframe tbody tr th {\n",
       "        vertical-align: top;\n",
       "    }\n",
       "\n",
       "    .dataframe thead th {\n",
       "        text-align: right;\n",
       "    }\n",
       "</style>\n",
       "<table border=\"1\" class=\"dataframe\">\n",
       "  <thead>\n",
       "    <tr style=\"text-align: right;\">\n",
       "      <th></th>\n",
       "      <th>CRIM</th>\n",
       "      <th>ZN</th>\n",
       "      <th>INDUS</th>\n",
       "      <th>CHAS</th>\n",
       "      <th>NOX</th>\n",
       "      <th>RM</th>\n",
       "      <th>AGE</th>\n",
       "      <th>DIS</th>\n",
       "      <th>RAD</th>\n",
       "      <th>TAX</th>\n",
       "      <th>PTRATIO</th>\n",
       "      <th>B</th>\n",
       "      <th>LSTAT</th>\n",
       "      <th>MEDV</th>\n",
       "      <th>crim_cate</th>\n",
       "      <th>b_cate</th>\n",
       "    </tr>\n",
       "  </thead>\n",
       "  <tbody>\n",
       "    <tr>\n",
       "      <th>0</th>\n",
       "      <td>0.04819</td>\n",
       "      <td>80.0</td>\n",
       "      <td>3.64</td>\n",
       "      <td>0.0</td>\n",
       "      <td>0.392</td>\n",
       "      <td>6.108</td>\n",
       "      <td>32.0</td>\n",
       "      <td>9.2203</td>\n",
       "      <td>1.0</td>\n",
       "      <td>315.0</td>\n",
       "      <td>16.4</td>\n",
       "      <td>392.89</td>\n",
       "      <td>6.57</td>\n",
       "      <td>21.9</td>\n",
       "      <td>0</td>\n",
       "      <td>3</td>\n",
       "    </tr>\n",
       "    <tr>\n",
       "      <th>1</th>\n",
       "      <td>1.42502</td>\n",
       "      <td>0.0</td>\n",
       "      <td>19.58</td>\n",
       "      <td>0.0</td>\n",
       "      <td>0.871</td>\n",
       "      <td>6.510</td>\n",
       "      <td>100.0</td>\n",
       "      <td>1.7659</td>\n",
       "      <td>5.0</td>\n",
       "      <td>403.0</td>\n",
       "      <td>14.7</td>\n",
       "      <td>364.31</td>\n",
       "      <td>7.39</td>\n",
       "      <td>23.3</td>\n",
       "      <td>0</td>\n",
       "      <td>3</td>\n",
       "    </tr>\n",
       "    <tr>\n",
       "      <th>2</th>\n",
       "      <td>0.01778</td>\n",
       "      <td>95.0</td>\n",
       "      <td>1.47</td>\n",
       "      <td>0.0</td>\n",
       "      <td>0.403</td>\n",
       "      <td>7.135</td>\n",
       "      <td>13.9</td>\n",
       "      <td>7.6534</td>\n",
       "      <td>3.0</td>\n",
       "      <td>402.0</td>\n",
       "      <td>17.0</td>\n",
       "      <td>384.30</td>\n",
       "      <td>4.45</td>\n",
       "      <td>32.9</td>\n",
       "      <td>0</td>\n",
       "      <td>3</td>\n",
       "    </tr>\n",
       "  </tbody>\n",
       "</table>\n",
       "</div>"
      ],
      "text/plain": [
       "      CRIM    ZN  INDUS  CHAS    NOX     RM    AGE     DIS  RAD    TAX  \\\n",
       "0  0.04819  80.0   3.64   0.0  0.392  6.108   32.0  9.2203  1.0  315.0   \n",
       "1  1.42502   0.0  19.58   0.0  0.871  6.510  100.0  1.7659  5.0  403.0   \n",
       "2  0.01778  95.0   1.47   0.0  0.403  7.135   13.9  7.6534  3.0  402.0   \n",
       "\n",
       "   PTRATIO       B  LSTAT  MEDV  crim_cate  b_cate  \n",
       "0     16.4  392.89   6.57  21.9          0       3  \n",
       "1     14.7  364.31   7.39  23.3          0       3  \n",
       "2     17.0  384.30   4.45  32.9          0       3  "
      ]
     },
     "execution_count": 37,
     "metadata": {},
     "output_type": "execute_result"
    }
   ],
   "source": [
    "def crim_cate(x):\n",
    "    if x <= 20: \n",
    "        return 0 # 'very low'\n",
    "    if x > 20 and x <= 40:\n",
    "        return  1 # 'low'\n",
    "    if x > 40 and x <= 60:\n",
    "        return 2 # 'meidan'\n",
    "    if x > 60 and x <= 80:\n",
    "        return 3 # 'high'\n",
    "    if x > 80:\n",
    "        return 4 # 'very high'\n",
    "    \n",
    "train_stats['crim_cate'] = train_stats['CRIM'].apply(crim_cate)\n",
    "\n",
    "def b_cate(x):\n",
    "    if x <= 100: \n",
    "        return 0 # 'very low'\n",
    "    if x > 100 and x <= 200:\n",
    "        return 1 # 'low'\n",
    "    if x > 200 and x <= 300:\n",
    "        return 2 # 'meidan'\n",
    "    if x > 300 and x <= 400:\n",
    "        return 3 # 'high'\n",
    "    if x > 400:\n",
    "        return 4 # 'very high'\n",
    "    \n",
    "train_stats['crim_cate'] = train_stats['CRIM'].apply(crim_cate)\n",
    "train_stats['b_cate'] = train_stats['B'].apply(b_cate)\n",
    "\n",
    "train_stats.head(3)"
   ]
  },
  {
   "cell_type": "code",
   "execution_count": 38,
   "id": "47426c80",
   "metadata": {},
   "outputs": [
    {
     "data": {
      "text/html": [
       "<div>\n",
       "<style scoped>\n",
       "    .dataframe tbody tr th:only-of-type {\n",
       "        vertical-align: middle;\n",
       "    }\n",
       "\n",
       "    .dataframe tbody tr th {\n",
       "        vertical-align: top;\n",
       "    }\n",
       "\n",
       "    .dataframe thead th {\n",
       "        text-align: right;\n",
       "    }\n",
       "</style>\n",
       "<table border=\"1\" class=\"dataframe\">\n",
       "  <thead>\n",
       "    <tr style=\"text-align: right;\">\n",
       "      <th>b_cate</th>\n",
       "      <th>0</th>\n",
       "      <th>1</th>\n",
       "      <th>2</th>\n",
       "      <th>3</th>\n",
       "    </tr>\n",
       "    <tr>\n",
       "      <th>crim_cate</th>\n",
       "      <th></th>\n",
       "      <th></th>\n",
       "      <th></th>\n",
       "      <th></th>\n",
       "    </tr>\n",
       "  </thead>\n",
       "  <tbody>\n",
       "    <tr>\n",
       "      <th>0</th>\n",
       "      <td>25</td>\n",
       "      <td>7</td>\n",
       "      <td>11</td>\n",
       "      <td>395</td>\n",
       "    </tr>\n",
       "    <tr>\n",
       "      <th>1</th>\n",
       "      <td>1</td>\n",
       "      <td>1</td>\n",
       "      <td>1</td>\n",
       "      <td>8</td>\n",
       "    </tr>\n",
       "    <tr>\n",
       "      <th>2</th>\n",
       "      <td>2</td>\n",
       "      <td>0</td>\n",
       "      <td>0</td>\n",
       "      <td>1</td>\n",
       "    </tr>\n",
       "    <tr>\n",
       "      <th>3</th>\n",
       "      <td>1</td>\n",
       "      <td>0</td>\n",
       "      <td>0</td>\n",
       "      <td>1</td>\n",
       "    </tr>\n",
       "    <tr>\n",
       "      <th>4</th>\n",
       "      <td>0</td>\n",
       "      <td>0</td>\n",
       "      <td>0</td>\n",
       "      <td>1</td>\n",
       "    </tr>\n",
       "  </tbody>\n",
       "</table>\n",
       "</div>"
      ],
      "text/plain": [
       "b_cate      0  1   2    3\n",
       "crim_cate                \n",
       "0          25  7  11  395\n",
       "1           1  1   1    8\n",
       "2           2  0   0    1\n",
       "3           1  0   0    1\n",
       "4           0  0   0    1"
      ]
     },
     "execution_count": 38,
     "metadata": {},
     "output_type": "execute_result"
    }
   ],
   "source": [
    "table = pd.crosstab(train_stats['crim_cate'],  train_stats['b_cate'])\n",
    "table"
   ]
  },
  {
   "cell_type": "code",
   "execution_count": 39,
   "id": "0c0959ed",
   "metadata": {},
   "outputs": [
    {
     "name": "stdout",
     "output_type": "stream",
     "text": [
      "Statistic: 30.822435204668317\n",
      "p-value: 0.002096590450856597\n",
      "df: 12\n",
      "expect:\n",
      " [[2.79164835e+01 7.70109890e+00 1.15516484e+01 3.90830769e+02]\n",
      " [7.01098901e-01 1.93406593e-01 2.90109890e-01 9.81538462e+00]\n",
      " [1.91208791e-01 5.27472527e-02 7.91208791e-02 2.67692308e+00]\n",
      " [1.27472527e-01 3.51648352e-02 5.27472527e-02 1.78461538e+00]\n",
      " [6.37362637e-02 1.75824176e-02 2.63736264e-02 8.92307692e-01]]\n"
     ]
    }
   ],
   "source": [
    "from scipy.stats import chi2_contingency\n",
    "chi, p, dff, expect = chi2_contingency(table)\n",
    "print('Statistic:', chi)\n",
    "print('p-value:', p)\n",
    "print('df:', dff)\n",
    "print('expect:\\n', expect)"
   ]
  },
  {
   "cell_type": "markdown",
   "id": "be4fa1fd",
   "metadata": {},
   "source": [
    "[해석]\n",
    "- p-value < 0.05 이므로 귀무가설을 기각하여 두 변수는 서로 연관성이 있다고 할 수 있음."
   ]
  },
  {
   "cell_type": "code",
   "execution_count": 40,
   "id": "38ea797b",
   "metadata": {},
   "outputs": [
    {
     "name": "stdout",
     "output_type": "stream",
     "text": [
      "상관계수: -0.3841 / p-value: 1.933919233203838e-17\n"
     ]
    },
    {
     "data": {
      "image/png": "[encoded data removed]",
      "text/plain": [
       "<Figure size 640x480 with 1 Axes>"
      ]
     },
     "metadata": {},
     "output_type": "display_data"
    }
   ],
   "source": [
    "# + 위 두 개 변수들에 대해서 상관분석 진행\n",
    "value = stats.pearsonr(train_stats['CRIM'], train_stats['B'])[0]\n",
    "p = stats.pearsonr(train_stats['CRIM'], train_stats['B'])[1]\n",
    "print(f'상관계수: {round(value, 4)} / p-value: {p}')\n",
    "\n",
    "sns.regplot(x= train_stats['CRIM'], y=train_stats['B'])\n",
    "plt.title('CRIM와 B의 Scatterplot')\n",
    "plt.ylim(-5, 405)\n",
    "plt.show()"
   ]
  },
  {
   "cell_type": "markdown",
   "id": "b0b6de49",
   "metadata": {},
   "source": [
    "#### 3) - (7) 이원배치 분산분석\n",
    "[가설]\n",
    "1. 주효과 검정\n",
    "    - 귀무가설: CRIM에 따라 MEDV에 차이가 있지 않다.\n",
    "    - 대립가설: CRIM, B에 따라 MEDV에 차이가 있다.\n",
    "\n",
    "    - 귀무가설: B에 따라 MEDV에 차이가 있지 않다.\n",
    "    - 대립가설: B에 따라 MEDV에 차이가 있다.\n",
    "    \n",
    "2. 교호작용 검정\n",
    "    - 귀무가설: CRIM과 B 간에 상호작용 효과가 있다.\n",
    "    - 대립가설: CRIM과 B 간에 상호작용 효과가 없다."
   ]
  },
  {
   "cell_type": "code",
   "execution_count": 41,
   "id": "c5586c30",
   "metadata": {},
   "outputs": [
    {
     "data": {
      "text/html": [
       "<div>\n",
       "<style scoped>\n",
       "    .dataframe tbody tr th:only-of-type {\n",
       "        vertical-align: middle;\n",
       "    }\n",
       "\n",
       "    .dataframe tbody tr th {\n",
       "        vertical-align: top;\n",
       "    }\n",
       "\n",
       "    .dataframe thead th {\n",
       "        text-align: right;\n",
       "    }\n",
       "</style>\n",
       "<table border=\"1\" class=\"dataframe\">\n",
       "  <thead>\n",
       "    <tr style=\"text-align: right;\">\n",
       "      <th></th>\n",
       "      <th>sum_sq</th>\n",
       "      <th>df</th>\n",
       "      <th>F</th>\n",
       "      <th>PR(&gt;F)</th>\n",
       "    </tr>\n",
       "  </thead>\n",
       "  <tbody>\n",
       "    <tr>\n",
       "      <th>C(crim_cate)</th>\n",
       "      <td>1623.954848</td>\n",
       "      <td>4.0</td>\n",
       "      <td>5.725580</td>\n",
       "      <td>3.508143e-03</td>\n",
       "    </tr>\n",
       "    <tr>\n",
       "      <th>C(b_cate)</th>\n",
       "      <td>2879.925676</td>\n",
       "      <td>3.0</td>\n",
       "      <td>13.538344</td>\n",
       "      <td>1.822823e-08</td>\n",
       "    </tr>\n",
       "    <tr>\n",
       "      <th>C(crim_cate):C(b_cate)</th>\n",
       "      <td>1348.651860</td>\n",
       "      <td>12.0</td>\n",
       "      <td>1.584981</td>\n",
       "      <td>1.497346e-01</td>\n",
       "    </tr>\n",
       "    <tr>\n",
       "      <th>Residual</th>\n",
       "      <td>31341.282183</td>\n",
       "      <td>442.0</td>\n",
       "      <td>NaN</td>\n",
       "      <td>NaN</td>\n",
       "    </tr>\n",
       "  </tbody>\n",
       "</table>\n",
       "</div>"
      ],
      "text/plain": [
       "                              sum_sq     df          F        PR(>F)\n",
       "C(crim_cate)             1623.954848    4.0   5.725580  3.508143e-03\n",
       "C(b_cate)                2879.925676    3.0  13.538344  1.822823e-08\n",
       "C(crim_cate):C(b_cate)   1348.651860   12.0   1.584981  1.497346e-01\n",
       "Residual                31341.282183  442.0        NaN           NaN"
      ]
     },
     "execution_count": 41,
     "metadata": {},
     "output_type": "execute_result"
    }
   ],
   "source": [
    "from statsmodels.formula.api import ols\n",
    "from statsmodels.stats.anova import anova_lm\n",
    "formula = 'MEDV ~ C(crim_cate) + C(b_cate) + C(crim_cate):C(b_cate)'\n",
    "model = ols(formula, train_stats).fit()\n",
    "aov_table = anova_lm(model, typ=2)\n",
    "aov_table"
   ]
  },
  {
   "cell_type": "markdown",
   "id": "0ed92a9b",
   "metadata": {},
   "source": [
    "[해석]\n",
    "- CRIM의 주효과 검정 결과, p-value < 0.05 이므로 CRIM에 따라 MEDV에 차이가 있다고 할 수 있음.\n",
    "- B의 주효과 검정 결과, p-value > 0.05 이므로 B에 따라 MEDV에 차이가 있다고 할 수 있음.\n",
    "- 상호작용 검정 결과, p-value > 0.05 이므로 두 변수 간에 상호작용이 없는 것으로 판단함."
   ]
  },
  {
   "cell_type": "markdown",
   "id": "a30f6f34",
   "metadata": {},
   "source": [
    "#### 3) - (8) 주성분 분석\n",
    "- 서로 상관성이 높은 변수를 선형결합하여 \"주성분\"이라는 새로운 변수로 만드는 기법 \n",
    "- 변수가 너무 많아 기존 변수를 조합해 새로운 변수를 가지고 모델링을 하려 할 때 주로 사용 됨(차원 축소).\n",
    "- PCA를 수행하기 전에 변수 간 스케일의 차이가 주성분 선정에 영향을 주는 것을 방지하기 위해 이상치를 제거하고 스케일링을 수행해야 함.\n",
    "- 주성분 개수 선정 방법\n",
    "    - 누적기여율이 약 80% 이상인 지점까지를 주성분의 개수라고 설정할 수 있음.\n",
    "    - Scree plot을 이용해 기울기가 완만해 지는 지점까지를 주성분의 개수를 설정할 수 있음."
   ]
  },
  {
   "cell_type": "code",
   "execution_count": 42,
   "id": "98f7b1db",
   "metadata": {},
   "outputs": [
    {
     "data": {
      "text/html": [
       "<div>\n",
       "<style scoped>\n",
       "    .dataframe tbody tr th:only-of-type {\n",
       "        vertical-align: middle;\n",
       "    }\n",
       "\n",
       "    .dataframe tbody tr th {\n",
       "        vertical-align: top;\n",
       "    }\n",
       "\n",
       "    .dataframe thead th {\n",
       "        text-align: right;\n",
       "    }\n",
       "</style>\n",
       "<table border=\"1\" class=\"dataframe\">\n",
       "  <thead>\n",
       "    <tr style=\"text-align: right;\">\n",
       "      <th></th>\n",
       "      <th>CRIM</th>\n",
       "      <th>ZN</th>\n",
       "      <th>INDUS</th>\n",
       "      <th>CHAS</th>\n",
       "      <th>NOX</th>\n",
       "      <th>RM</th>\n",
       "      <th>AGE</th>\n",
       "      <th>DIS</th>\n",
       "      <th>RAD</th>\n",
       "      <th>TAX</th>\n",
       "      <th>PTRATIO</th>\n",
       "      <th>B</th>\n",
       "      <th>LSTAT</th>\n",
       "    </tr>\n",
       "  </thead>\n",
       "  <tbody>\n",
       "    <tr>\n",
       "      <th>0</th>\n",
       "      <td>0.04819</td>\n",
       "      <td>80.0</td>\n",
       "      <td>3.64</td>\n",
       "      <td>0.0</td>\n",
       "      <td>0.392</td>\n",
       "      <td>6.108</td>\n",
       "      <td>32.0</td>\n",
       "      <td>9.2203</td>\n",
       "      <td>1.0</td>\n",
       "      <td>315.0</td>\n",
       "      <td>16.4</td>\n",
       "      <td>392.89</td>\n",
       "      <td>6.57</td>\n",
       "    </tr>\n",
       "    <tr>\n",
       "      <th>1</th>\n",
       "      <td>1.42502</td>\n",
       "      <td>0.0</td>\n",
       "      <td>19.58</td>\n",
       "      <td>0.0</td>\n",
       "      <td>0.871</td>\n",
       "      <td>6.510</td>\n",
       "      <td>100.0</td>\n",
       "      <td>1.7659</td>\n",
       "      <td>5.0</td>\n",
       "      <td>403.0</td>\n",
       "      <td>14.7</td>\n",
       "      <td>364.31</td>\n",
       "      <td>7.39</td>\n",
       "    </tr>\n",
       "    <tr>\n",
       "      <th>2</th>\n",
       "      <td>0.01778</td>\n",
       "      <td>95.0</td>\n",
       "      <td>1.47</td>\n",
       "      <td>0.0</td>\n",
       "      <td>0.403</td>\n",
       "      <td>7.135</td>\n",
       "      <td>13.9</td>\n",
       "      <td>7.6534</td>\n",
       "      <td>3.0</td>\n",
       "      <td>402.0</td>\n",
       "      <td>17.0</td>\n",
       "      <td>384.30</td>\n",
       "      <td>4.45</td>\n",
       "    </tr>\n",
       "  </tbody>\n",
       "</table>\n",
       "</div>"
      ],
      "text/plain": [
       "      CRIM    ZN  INDUS  CHAS    NOX     RM    AGE     DIS  RAD    TAX  \\\n",
       "0  0.04819  80.0   3.64   0.0  0.392  6.108   32.0  9.2203  1.0  315.0   \n",
       "1  1.42502   0.0  19.58   0.0  0.871  6.510  100.0  1.7659  5.0  403.0   \n",
       "2  0.01778  95.0   1.47   0.0  0.403  7.135   13.9  7.6534  3.0  402.0   \n",
       "\n",
       "   PTRATIO       B  LSTAT  \n",
       "0     16.4  392.89   6.57  \n",
       "1     14.7  364.31   7.39  \n",
       "2     17.0  384.30   4.45  "
      ]
     },
     "execution_count": 42,
     "metadata": {},
     "output_type": "execute_result"
    }
   ],
   "source": [
    "# 주성분 분석할 변수만 추출\n",
    "train_pca = train_stats.drop(columns=['crim_cate', 'b_cate', 'MEDV'])\n",
    "train_pca.head(3)"
   ]
  },
  {
   "cell_type": "code",
   "execution_count": 43,
   "id": "4d840ee1",
   "metadata": {},
   "outputs": [
    {
     "data": {
      "text/html": [
       "<div>\n",
       "<style scoped>\n",
       "    .dataframe tbody tr th:only-of-type {\n",
       "        vertical-align: middle;\n",
       "    }\n",
       "\n",
       "    .dataframe tbody tr th {\n",
       "        vertical-align: top;\n",
       "    }\n",
       "\n",
       "    .dataframe thead th {\n",
       "        text-align: right;\n",
       "    }\n",
       "</style>\n",
       "<table border=\"1\" class=\"dataframe\">\n",
       "  <thead>\n",
       "    <tr style=\"text-align: right;\">\n",
       "      <th></th>\n",
       "      <th>CRIM</th>\n",
       "      <th>ZN</th>\n",
       "      <th>INDUS</th>\n",
       "      <th>CHAS</th>\n",
       "      <th>NOX</th>\n",
       "      <th>RM</th>\n",
       "      <th>AGE</th>\n",
       "      <th>DIS</th>\n",
       "      <th>RAD</th>\n",
       "      <th>TAX</th>\n",
       "      <th>PTRATIO</th>\n",
       "      <th>B</th>\n",
       "      <th>LSTAT</th>\n",
       "    </tr>\n",
       "  </thead>\n",
       "  <tbody>\n",
       "    <tr>\n",
       "      <th>0</th>\n",
       "      <td>-0.406813</td>\n",
       "      <td>3.002116</td>\n",
       "      <td>-1.093709</td>\n",
       "      <td>-0.265684</td>\n",
       "      <td>-1.401764</td>\n",
       "      <td>-0.253876</td>\n",
       "      <td>-1.303530</td>\n",
       "      <td>2.611796</td>\n",
       "      <td>-0.981928</td>\n",
       "      <td>-0.548813</td>\n",
       "      <td>-0.956713</td>\n",
       "      <td>0.395455</td>\n",
       "      <td>-0.852084</td>\n",
       "    </tr>\n",
       "    <tr>\n",
       "      <th>1</th>\n",
       "      <td>-0.251735</td>\n",
       "      <td>-0.486989</td>\n",
       "      <td>1.245525</td>\n",
       "      <td>-0.265684</td>\n",
       "      <td>2.713496</td>\n",
       "      <td>0.321580</td>\n",
       "      <td>1.136970</td>\n",
       "      <td>-0.972495</td>\n",
       "      <td>-0.522635</td>\n",
       "      <td>-0.028904</td>\n",
       "      <td>-1.748599</td>\n",
       "      <td>0.086691</td>\n",
       "      <td>-0.736308</td>\n",
       "    </tr>\n",
       "    <tr>\n",
       "      <th>2</th>\n",
       "      <td>-0.410238</td>\n",
       "      <td>3.656323</td>\n",
       "      <td>-1.412162</td>\n",
       "      <td>-0.265684</td>\n",
       "      <td>-1.307259</td>\n",
       "      <td>1.216256</td>\n",
       "      <td>-1.953134</td>\n",
       "      <td>1.858385</td>\n",
       "      <td>-0.752282</td>\n",
       "      <td>-0.034812</td>\n",
       "      <td>-0.677224</td>\n",
       "      <td>0.302653</td>\n",
       "      <td>-1.151410</td>\n",
       "    </tr>\n",
       "    <tr>\n",
       "      <th>3</th>\n",
       "      <td>0.659319</td>\n",
       "      <td>-0.486989</td>\n",
       "      <td>1.028331</td>\n",
       "      <td>-0.265684</td>\n",
       "      <td>1.356062</td>\n",
       "      <td>0.633643</td>\n",
       "      <td>0.925221</td>\n",
       "      <td>-0.621394</td>\n",
       "      <td>1.659007</td>\n",
       "      <td>1.524914</td>\n",
       "      <td>0.813385</td>\n",
       "      <td>-3.776971</td>\n",
       "      <td>0.861977</td>\n",
       "    </tr>\n",
       "    <tr>\n",
       "      <th>4</th>\n",
       "      <td>-0.225651</td>\n",
       "      <td>-0.486989</td>\n",
       "      <td>1.245525</td>\n",
       "      <td>-0.265684</td>\n",
       "      <td>2.713496</td>\n",
       "      <td>-0.233835</td>\n",
       "      <td>1.040068</td>\n",
       "      <td>-1.043610</td>\n",
       "      <td>-0.522635</td>\n",
       "      <td>-0.028904</td>\n",
       "      <td>-1.748599</td>\n",
       "      <td>0.178412</td>\n",
       "      <td>0.211086</td>\n",
       "    </tr>\n",
       "  </tbody>\n",
       "</table>\n",
       "</div>"
      ],
      "text/plain": [
       "       CRIM        ZN     INDUS      CHAS       NOX        RM       AGE  \\\n",
       "0 -0.406813  3.002116 -1.093709 -0.265684 -1.401764 -0.253876 -1.303530   \n",
       "1 -0.251735 -0.486989  1.245525 -0.265684  2.713496  0.321580  1.136970   \n",
       "2 -0.410238  3.656323 -1.412162 -0.265684 -1.307259  1.216256 -1.953134   \n",
       "3  0.659319 -0.486989  1.028331 -0.265684  1.356062  0.633643  0.925221   \n",
       "4 -0.225651 -0.486989  1.245525 -0.265684  2.713496 -0.233835  1.040068   \n",
       "\n",
       "        DIS       RAD       TAX   PTRATIO         B     LSTAT  \n",
       "0  2.611796 -0.981928 -0.548813 -0.956713  0.395455 -0.852084  \n",
       "1 -0.972495 -0.522635 -0.028904 -1.748599  0.086691 -0.736308  \n",
       "2  1.858385 -0.752282 -0.034812 -0.677224  0.302653 -1.151410  \n",
       "3 -0.621394  1.659007  1.524914  0.813385 -3.776971  0.861977  \n",
       "4 -1.043610 -0.522635 -0.028904 -1.748599  0.178412  0.211086  "
      ]
     },
     "execution_count": 43,
     "metadata": {},
     "output_type": "execute_result"
    }
   ],
   "source": [
    "from sklearn.preprocessing import StandardScaler\n",
    "from sklearn.decomposition import PCA\n",
    "\n",
    "scaler = StandardScaler()\n",
    "train_pca_sc = scaler.fit_transform(train_pca)\n",
    "pd.DataFrame(train_pca_sc, columns = train_pca.columns).head()"
   ]
  },
  {
   "cell_type": "code",
   "execution_count": 44,
   "id": "9b8316b9",
   "metadata": {},
   "outputs": [
    {
     "name": "stdout",
     "output_type": "stream",
     "text": [
      "분산 설명력: \n",
      " [0.4706459  0.10815404 0.09648977 0.06638718 0.06314546 0.05056666\n",
      " 0.04207723 0.03036023 0.02109831 0.01777714 0.01489526 0.01339605\n",
      " 0.00500678]\n"
     ]
    }
   ],
   "source": [
    "pca = PCA(n_components=13)\n",
    "pca_fit = pca.fit(train_pca_sc)\n",
    "\n",
    "print('분산 설명력: \\n', pca.explained_variance_ratio_) # 전체 데이터에서 각 주성분이 설명할 수 있는 분산의 비율"
   ]
  },
  {
   "cell_type": "code",
   "execution_count": 45,
   "id": "233270ce",
   "metadata": {},
   "outputs": [
    {
     "data": {
      "image/png": "[encoded data removed]",
      "text/plain": [
       "<Figure size 640x480 with 1 Axes>"
      ]
     },
     "metadata": {},
     "output_type": "display_data"
    }
   ],
   "source": [
    "plt.title('Scree Plot')\n",
    "plt.xlabel('Number of Composition')\n",
    "plt.ylabel('Cumulative Explained Variance')\n",
    "plt.plot(pca.explained_variance_ratio_, 'o-')\n",
    "plt.show()"
   ]
  },
  {
   "cell_type": "code",
   "execution_count": 46,
   "id": "dfefcb1c",
   "metadata": {},
   "outputs": [
    {
     "name": "stdout",
     "output_type": "stream",
     "text": [
      "주성분 3개로 축소할 시 분산설명력(=누적기여율):  67.52897062058695\n",
      "주성분 5개로 축소할 시 분산설명력(=누적기여율):  80.48223417744342\n"
     ]
    }
   ],
   "source": [
    "print('주성분 3개로 축소할 시 분산설명력(=누적기여율): ', pca.explained_variance_ratio_[:3].sum()*100)\n",
    "print('주성분 5개로 축소할 시 분산설명력(=누적기여율): ', pca.explained_variance_ratio_[:5].sum()*100)"
   ]
  },
  {
   "cell_type": "markdown",
   "id": "526422de",
   "metadata": {},
   "source": [
    "[해석]\n",
    "- 시각화한 자료로만 보아서는 3개의 차원 축소 값으로 사용하면 되어 보이지만 분산 설명력이 67%임.\n",
    "- 5개로 축소하면 약 80% 이상이므로 주성분의 개수를 5개로 설정할 수 있다고 판단함."
   ]
  },
  {
   "cell_type": "code",
   "execution_count": 47,
   "id": "991933c7",
   "metadata": {},
   "outputs": [
    {
     "data": {
      "text/html": [
       "<div>\n",
       "<style scoped>\n",
       "    .dataframe tbody tr th:only-of-type {\n",
       "        vertical-align: middle;\n",
       "    }\n",
       "\n",
       "    .dataframe tbody tr th {\n",
       "        vertical-align: top;\n",
       "    }\n",
       "\n",
       "    .dataframe thead th {\n",
       "        text-align: right;\n",
       "    }\n",
       "</style>\n",
       "<table border=\"1\" class=\"dataframe\">\n",
       "  <thead>\n",
       "    <tr style=\"text-align: right;\">\n",
       "      <th></th>\n",
       "      <th>pc1</th>\n",
       "      <th>pc2</th>\n",
       "      <th>pc3</th>\n",
       "      <th>pc4</th>\n",
       "      <th>pc5</th>\n",
       "    </tr>\n",
       "  </thead>\n",
       "  <tbody>\n",
       "    <tr>\n",
       "      <th>0</th>\n",
       "      <td>-3.960955</td>\n",
       "      <td>-1.859747</td>\n",
       "      <td>0.500043</td>\n",
       "      <td>-0.195254</td>\n",
       "      <td>1.655637</td>\n",
       "    </tr>\n",
       "    <tr>\n",
       "      <th>1</th>\n",
       "      <td>1.249413</td>\n",
       "      <td>2.450169</td>\n",
       "      <td>0.526221</td>\n",
       "      <td>-1.908836</td>\n",
       "      <td>-0.169064</td>\n",
       "    </tr>\n",
       "    <tr>\n",
       "      <th>2</th>\n",
       "      <td>-4.217295</td>\n",
       "      <td>-1.975493</td>\n",
       "      <td>1.832774</td>\n",
       "      <td>-0.088003</td>\n",
       "      <td>0.772284</td>\n",
       "    </tr>\n",
       "    <tr>\n",
       "      <th>3</th>\n",
       "      <td>3.742970</td>\n",
       "      <td>-1.008813</td>\n",
       "      <td>1.989152</td>\n",
       "      <td>-0.873146</td>\n",
       "      <td>-0.195609</td>\n",
       "    </tr>\n",
       "    <tr>\n",
       "      <th>4</th>\n",
       "      <td>1.629470</td>\n",
       "      <td>2.274725</td>\n",
       "      <td>-0.049937</td>\n",
       "      <td>-1.953770</td>\n",
       "      <td>0.468236</td>\n",
       "    </tr>\n",
       "  </tbody>\n",
       "</table>\n",
       "</div>"
      ],
      "text/plain": [
       "        pc1       pc2       pc3       pc4       pc5\n",
       "0 -3.960955 -1.859747  0.500043 -0.195254  1.655637\n",
       "1  1.249413  2.450169  0.526221 -1.908836 -0.169064\n",
       "2 -4.217295 -1.975493  1.832774 -0.088003  0.772284\n",
       "3  3.742970 -1.008813  1.989152 -0.873146 -0.195609\n",
       "4  1.629470  2.274725 -0.049937 -1.953770  0.468236"
      ]
     },
     "execution_count": 47,
     "metadata": {},
     "output_type": "execute_result"
    }
   ],
   "source": [
    "# PCA 객체 생성 (주성분 개수 5개 선정)\n",
    "pca = PCA(n_components=5)\n",
    "\n",
    "# 5개의 주성분을 가진 데이터로 변환\n",
    "principalComponents = pca.fit_transform(train_pca_sc)\n",
    "principal_data = pd.DataFrame(data=principalComponents, columns=['pc1', 'pc2', 'pc3', 'pc4', 'pc5'])\n",
    "principal_data.head()"
   ]
  },
  {
   "cell_type": "markdown",
   "id": "8dd49cdd",
   "metadata": {},
   "source": [
    "#### 3) - (9) 이항 로지스틱 회귀분석"
   ]
  },
  {
   "cell_type": "code",
   "execution_count": 48,
   "id": "15ff978d",
   "metadata": {},
   "outputs": [
    {
     "name": "stdout",
     "output_type": "stream",
     "text": [
      "                 Generalized Linear Model Regression Results                  \n",
      "==============================================================================\n",
      "Dep. Variable:              river_yes   No. Observations:                  455\n",
      "Model:                            GLM   Df Residuals:                      453\n",
      "Model Family:                Binomial   Df Model:                            1\n",
      "Link Function:                  Logit   Scale:                          1.0000\n",
      "Method:                          IRLS   Log-Likelihood:                -104.24\n",
      "Date:                Wed, 14 Jun 2023   Deviance:                       208.47\n",
      "Time:                        21:21:15   Pearson chi2:                     446.\n",
      "No. Iterations:                     6   Pseudo R-squ. (CS):            0.02743\n",
      "Covariance Type:            nonrobust                                         \n",
      "===============================================================================\n",
      "                  coef    std err          z      P>|z|      [0.025      0.975]\n",
      "-------------------------------------------------------------------------------\n",
      "Intercept      -4.2503      0.515     -8.253      0.000      -5.260      -3.241\n",
      "house_pirce     0.0636      0.017      3.713      0.000       0.030       0.097\n",
      "===============================================================================\n",
      "\n",
      "<Odds ratio>\n",
      "Intercept     -4.250291\n",
      "house_pirce    0.063601\n",
      "dtype: float64\n",
      "\n",
      "<종속변수에 log를 취한 상태이므로 Odds ratio에 exp를 취함>\n",
      "Intercept      0.014260\n",
      "house_pirce    1.065667\n",
      "dtype: float64\n"
     ]
    }
   ],
   "source": [
    "import statsmodels.api as sm\n",
    "import statsmodels.formula.api as smf\n",
    "\n",
    "house_pirce = train_linear['MEDV']\n",
    "river_yes = train_linear['CHAS_yes']\n",
    "\n",
    "model = smf.glm(\"river_yes ~ house_pirce\", data = train_linear, family = sm.families.Binomial()).fit()\n",
    "print(model.summary())\n",
    "\n",
    "# 오즈비 확인\n",
    "print('\\n<Odds ratio>')\n",
    "print(model.params)\n",
    "\n",
    "# exp 취함\n",
    "print('\\n<종속변수에 log를 취한 상태이므로 Odds ratio에 exp를 취함>')\n",
    "print(np.exp(model.params))"
   ]
  },
  {
   "cell_type": "markdown",
   "id": "c6660dc0",
   "metadata": {},
   "source": [
    "[해석]\n",
    "- feature의 p-value값이 0.05보다 작으므로 회귀계수는 통계적으로 유의함.\n",
    "- feature의 오즈비(coef)를 살펴보면 양수(+)이므로 CHAS_yes에 양의 영향을 준다는 것을 알 수 있다.\n",
    "- 따라서 집값이 1 증가(천 달러)하면 찰스강 경계에 집이 위치해 있을 확률(1)은 그렇지 않을 때(0)보다 1.065667배 증가함."
   ]
  },
  {
   "cell_type": "markdown",
   "id": "13190f5e",
   "metadata": {},
   "source": [
    "#### 4) 이상치 확인"
   ]
  },
  {
   "cell_type": "code",
   "execution_count": 49,
   "id": "75b26db8",
   "metadata": {},
   "outputs": [
    {
     "data": {
      "text/html": [
       "<div>\n",
       "<style scoped>\n",
       "    .dataframe tbody tr th:only-of-type {\n",
       "        vertical-align: middle;\n",
       "    }\n",
       "\n",
       "    .dataframe tbody tr th {\n",
       "        vertical-align: top;\n",
       "    }\n",
       "\n",
       "    .dataframe thead th {\n",
       "        text-align: right;\n",
       "    }\n",
       "</style>\n",
       "<table border=\"1\" class=\"dataframe\">\n",
       "  <thead>\n",
       "    <tr style=\"text-align: right;\">\n",
       "      <th></th>\n",
       "      <th>variable</th>\n",
       "      <th>value</th>\n",
       "    </tr>\n",
       "  </thead>\n",
       "  <tbody>\n",
       "    <tr>\n",
       "      <th>0</th>\n",
       "      <td>CRIM</td>\n",
       "      <td>0.04819</td>\n",
       "    </tr>\n",
       "    <tr>\n",
       "      <th>1</th>\n",
       "      <td>CRIM</td>\n",
       "      <td>1.42502</td>\n",
       "    </tr>\n",
       "    <tr>\n",
       "      <th>2</th>\n",
       "      <td>CRIM</td>\n",
       "      <td>0.01778</td>\n",
       "    </tr>\n",
       "    <tr>\n",
       "      <th>3</th>\n",
       "      <td>CRIM</td>\n",
       "      <td>9.51363</td>\n",
       "    </tr>\n",
       "    <tr>\n",
       "      <th>4</th>\n",
       "      <td>CRIM</td>\n",
       "      <td>1.65660</td>\n",
       "    </tr>\n",
       "    <tr>\n",
       "      <th>...</th>\n",
       "      <td>...</td>\n",
       "      <td>...</td>\n",
       "    </tr>\n",
       "    <tr>\n",
       "      <th>5910</th>\n",
       "      <td>MEDV</td>\n",
       "      <td>24.30000</td>\n",
       "    </tr>\n",
       "    <tr>\n",
       "      <th>5911</th>\n",
       "      <td>MEDV</td>\n",
       "      <td>19.90000</td>\n",
       "    </tr>\n",
       "    <tr>\n",
       "      <th>5912</th>\n",
       "      <td>MEDV</td>\n",
       "      <td>8.10000</td>\n",
       "    </tr>\n",
       "    <tr>\n",
       "      <th>5913</th>\n",
       "      <td>MEDV</td>\n",
       "      <td>20.50000</td>\n",
       "    </tr>\n",
       "    <tr>\n",
       "      <th>5914</th>\n",
       "      <td>MEDV</td>\n",
       "      <td>10.40000</td>\n",
       "    </tr>\n",
       "  </tbody>\n",
       "</table>\n",
       "<p>5915 rows × 2 columns</p>\n",
       "</div>"
      ],
      "text/plain": [
       "     variable     value\n",
       "0        CRIM   0.04819\n",
       "1        CRIM   1.42502\n",
       "2        CRIM   0.01778\n",
       "3        CRIM   9.51363\n",
       "4        CRIM   1.65660\n",
       "...       ...       ...\n",
       "5910     MEDV  24.30000\n",
       "5911     MEDV  19.90000\n",
       "5912     MEDV   8.10000\n",
       "5913     MEDV  20.50000\n",
       "5914     MEDV  10.40000\n",
       "\n",
       "[5915 rows x 2 columns]"
      ]
     },
     "execution_count": 49,
     "metadata": {},
     "output_type": "execute_result"
    },
    {
     "name": "stdout",
     "output_type": "stream",
     "text": [
      "ERROR! Session/line number was not unique in"
     ]
    }
   ],
   "source": [
    "train_melt = pd.melt(train.drop(columns=['CHAS']), var_name='variable', value_name='value')\n",
    "train_melt"
   ]
  },
  {
   "cell_type": "code",
   "execution_count": 50,
   "id": "3305f748",
   "metadata": {},
   "outputs": [
    {
     "name": "stdout",
     "output_type": "stream",
     "text": [
      " database. History logging moved to new session 3122\n"
     ]
    },
    {
     "data": {
      "image/png": "[encoded data removed]",
      "text/plain": [
       "<Figure size 640x480 with 1 Axes>"
      ]
     },
     "metadata": {},
     "output_type": "display_data"
    }
   ],
   "source": [
    "sns.boxplot(data=train_melt, x='variable', y='value')\n",
    "plt.show()"
   ]
  },
  {
   "cell_type": "markdown",
   "id": "4e034944",
   "metadata": {},
   "source": [
    "[해석]\n",
    "- 상자그림을 통해 이상치가 많은 변수를 확인할 수 있었지만, 이상치들이 연속적으로 이어져 있어 실제로 이상치를 가진 변수가 있을 수 있으므로 현업의 의견이 필요할 것으로 판단함.\n",
    "- 따라서 이상치를 제거하거나 다른 값으로 대체하는 작업은 하지 않음."
   ]
  },
  {
   "cell_type": "markdown",
   "id": "fdc58bd0",
   "metadata": {},
   "source": [
    "## 3. 모델 구현(머신러닝)\n",
    "- SVM, RandomForest, XGBoost\n",
    "\n",
    "    - SVM\n",
    "        - 분류문제와 달리 회귀문제에서는 마진 내부에 최대한 많은 데이터가 들어가도록 학습하는 알고리즘.\n",
    "        - 장점: 비선형 회귀에도 쓰일 수 있으며 오류 데이터에 대한 영향이 거의 없으므로 과적합되는 경우가 거의 없음.\n",
    "        - 단점: 학습 속도가 오래 걸리고, 모델 해석이 어려움.\n",
    "        \n",
    "    - RandomForest\n",
    "        - 배깅, 부스팅보다 더 많은 무작위성을 주어 약한 학습기를 생성한 후, 이를 선형결합하여 최종학습기를 만드는 알고리즘.\n",
    "        - 장점: 이상치와 결측치에 강하고, 변수의 중요도를 확인할 수 있음. 정규화 과정이 필요 없고, 비선형적인 데이터에도 높은 성능을 보임.\n",
    "        - 단점: 하이퍼 파라미터가 너무 많고, 그로 인해 튜닝을 위한 시간이 많이 소모됨.\n",
    "        \n",
    "    - XGBoost\n",
    "        - Gradient Boost 알고리즘을 방렬 학습이 지원되도록 구현한 라이브러리\n",
    "        - 장점: GBM 대비 수행 시간이 빠름. 조기 종료 기능이 있고, 다양한 옵션을 제공해 customizing 할 수 있음.\n",
    "        - 단점: 작은 데이터 세트에 대해 과적합 가능성이 있음, 모든 앙상블 계열 알고리즘이 갖고 있는 근원적 문제인 입력 변수에 대하여 출력 변수가 어떻게 변하는지에 대한 해석이 어려움.\n",
    "\n",
    " - 공통점\n",
    "     - 분류와 회귀 문제 모두 쓰일 수 있음.\n",
    "     - 회귀분석에서 다중공선성 문제를 해결할 수 있음.\n",
    "     - 모두 범주형 변수를 독립변수로 사용할 수 없어 변환(더미변수)을 해주어야 함."
   ]
  },
  {
   "cell_type": "code",
   "execution_count": 2,
   "id": "1d905692",
   "metadata": {},
   "outputs": [
    {
     "data": {
      "text/html": [
       "<div>\n",
       "<style scoped>\n",
       "    .dataframe tbody tr th:only-of-type {\n",
       "        vertical-align: middle;\n",
       "    }\n",
       "\n",
       "    .dataframe tbody tr th {\n",
       "        vertical-align: top;\n",
       "    }\n",
       "\n",
       "    .dataframe thead th {\n",
       "        text-align: right;\n",
       "    }\n",
       "</style>\n",
       "<table border=\"1\" class=\"dataframe\">\n",
       "  <thead>\n",
       "    <tr style=\"text-align: right;\">\n",
       "      <th></th>\n",
       "      <th>CRIM</th>\n",
       "      <th>ZN</th>\n",
       "      <th>INDUS</th>\n",
       "      <th>CHAS</th>\n",
       "      <th>NOX</th>\n",
       "      <th>RM</th>\n",
       "      <th>AGE</th>\n",
       "      <th>DIS</th>\n",
       "      <th>RAD</th>\n",
       "      <th>TAX</th>\n",
       "      <th>PTRATIO</th>\n",
       "      <th>B</th>\n",
       "      <th>LSTAT</th>\n",
       "      <th>MEDV</th>\n",
       "    </tr>\n",
       "  </thead>\n",
       "  <tbody>\n",
       "    <tr>\n",
       "      <th>0</th>\n",
       "      <td>0.04819</td>\n",
       "      <td>80.0</td>\n",
       "      <td>3.64</td>\n",
       "      <td>0.0</td>\n",
       "      <td>0.392</td>\n",
       "      <td>6.108</td>\n",
       "      <td>32.0</td>\n",
       "      <td>9.2203</td>\n",
       "      <td>1.0</td>\n",
       "      <td>315.0</td>\n",
       "      <td>16.4</td>\n",
       "      <td>392.89</td>\n",
       "      <td>6.57</td>\n",
       "      <td>21.9</td>\n",
       "    </tr>\n",
       "    <tr>\n",
       "      <th>1</th>\n",
       "      <td>1.42502</td>\n",
       "      <td>0.0</td>\n",
       "      <td>19.58</td>\n",
       "      <td>0.0</td>\n",
       "      <td>0.871</td>\n",
       "      <td>6.510</td>\n",
       "      <td>100.0</td>\n",
       "      <td>1.7659</td>\n",
       "      <td>5.0</td>\n",
       "      <td>403.0</td>\n",
       "      <td>14.7</td>\n",
       "      <td>364.31</td>\n",
       "      <td>7.39</td>\n",
       "      <td>23.3</td>\n",
       "    </tr>\n",
       "    <tr>\n",
       "      <th>2</th>\n",
       "      <td>0.01778</td>\n",
       "      <td>95.0</td>\n",
       "      <td>1.47</td>\n",
       "      <td>0.0</td>\n",
       "      <td>0.403</td>\n",
       "      <td>7.135</td>\n",
       "      <td>13.9</td>\n",
       "      <td>7.6534</td>\n",
       "      <td>3.0</td>\n",
       "      <td>402.0</td>\n",
       "      <td>17.0</td>\n",
       "      <td>384.30</td>\n",
       "      <td>4.45</td>\n",
       "      <td>32.9</td>\n",
       "    </tr>\n",
       "  </tbody>\n",
       "</table>\n",
       "</div>"
      ],
      "text/plain": [
       "      CRIM    ZN  INDUS  CHAS    NOX     RM    AGE     DIS  RAD    TAX  \\\n",
       "0  0.04819  80.0   3.64   0.0  0.392  6.108   32.0  9.2203  1.0  315.0   \n",
       "1  1.42502   0.0  19.58   0.0  0.871  6.510  100.0  1.7659  5.0  403.0   \n",
       "2  0.01778  95.0   1.47   0.0  0.403  7.135   13.9  7.6534  3.0  402.0   \n",
       "\n",
       "   PTRATIO       B  LSTAT  MEDV  \n",
       "0     16.4  392.89   6.57  21.9  \n",
       "1     14.7  364.31   7.39  23.3  \n",
       "2     17.0  384.30   4.45  32.9  "
      ]
     },
     "metadata": {},
     "output_type": "display_data"
    },
    {
     "name": "stdout",
     "output_type": "stream",
     "text": [
      "(318, 13)\n",
      "(137, 13)\n",
      "(318,)\n",
      "(137,)\n"
     ]
    }
   ],
   "source": [
    "from sklearn.svm import SVR\n",
    "from sklearn.ensemble import RandomForestRegressor\n",
    "from xgboost import XGBRegressor\n",
    "from sklearn.preprocessing import StandardScaler, OneHotEncoder\n",
    "from sklearn.metrics import mean_squared_error\n",
    "from sklearn.model_selection import train_test_split, GridSearchCV\n",
    "from sklearn.compose import ColumnTransformer\n",
    "from sklearn.pipeline import Pipeline\n",
    "import time\n",
    "\n",
    "train = pd.read_csv('C:/Users/user/Desktop/Python/adp/2. dacon/data/house_price/train.csv').drop('ID', axis=1)\n",
    "display(train.head(3))\n",
    "\n",
    "X = train.drop(columns=['MEDV'])\n",
    "y = train.MEDV\n",
    "X_train, X_test, y_train, y_test = train_test_split(X, y, test_size=0.3, random_state=1)\n",
    "print(X_train.shape)\n",
    "print(X_test.shape)\n",
    "print(y_train.shape)\n",
    "print(y_test.shape)"
   ]
  },
  {
   "cell_type": "markdown",
   "id": "3588ce84",
   "metadata": {},
   "source": [
    "### 1. SVR"
   ]
  },
  {
   "cell_type": "code",
   "execution_count": 29,
   "id": "5241f22b",
   "metadata": {},
   "outputs": [],
   "source": [
    "# 컬럼 속성별 전처리 transformer 만들기\n",
    "numeric_features = train.columns.drop(['CHAS', 'MEDV'])\n",
    "categorical_features = ['CHAS']\n",
    "\n",
    "column_transformer = ColumnTransformer([\n",
    "    (\"num\", StandardScaler(), numeric_features),\n",
    "    (\"cat\", OneHotEncoder(sparse=False, handle_unknown='ignore'), categorical_features)\n",
    "])\n",
    "\n",
    "svm_rg = Pipeline([(\"preprocesser\", column_transformer),\n",
    "                  ('svm', SVR())])"
   ]
  },
  {
   "cell_type": "code",
   "execution_count": 30,
   "id": "dc70276e",
   "metadata": {
    "scrolled": false
   },
   "outputs": [
    {
     "name": "stdout",
     "output_type": "stream",
     "text": [
      "소요 시간: 168.00544595718384 sec\n"
     ]
    },
    {
     "data": {
      "text/html": [
       "<div>\n",
       "<style scoped>\n",
       "    .dataframe tbody tr th:only-of-type {\n",
       "        vertical-align: middle;\n",
       "    }\n",
       "\n",
       "    .dataframe tbody tr th {\n",
       "        vertical-align: top;\n",
       "    }\n",
       "\n",
       "    .dataframe thead th {\n",
       "        text-align: right;\n",
       "    }\n",
       "</style>\n",
       "<table border=\"1\" class=\"dataframe\">\n",
       "  <thead>\n",
       "    <tr style=\"text-align: right;\">\n",
       "      <th></th>\n",
       "      <th>mean_fit_time</th>\n",
       "      <th>std_fit_time</th>\n",
       "      <th>mean_score_time</th>\n",
       "      <th>std_score_time</th>\n",
       "      <th>param_svm__C</th>\n",
       "      <th>param_svm__gamma</th>\n",
       "      <th>param_svm__kernel</th>\n",
       "      <th>params</th>\n",
       "      <th>split0_test_score</th>\n",
       "      <th>split1_test_score</th>\n",
       "      <th>split2_test_score</th>\n",
       "      <th>split3_test_score</th>\n",
       "      <th>split4_test_score</th>\n",
       "      <th>mean_test_score</th>\n",
       "      <th>std_test_score</th>\n",
       "      <th>rank_test_score</th>\n",
       "    </tr>\n",
       "  </thead>\n",
       "  <tbody>\n",
       "    <tr>\n",
       "      <th>41</th>\n",
       "      <td>0.015817</td>\n",
       "      <td>0.000420</td>\n",
       "      <td>0.006801</td>\n",
       "      <td>0.001158</td>\n",
       "      <td>10</td>\n",
       "      <td>0.1</td>\n",
       "      <td>rbf</td>\n",
       "      <td>{'svm__C': 10, 'svm__gamma': 0.1, 'svm__kernel...</td>\n",
       "      <td>-33.532556</td>\n",
       "      <td>-10.482364</td>\n",
       "      <td>-11.752797</td>\n",
       "      <td>-15.936006</td>\n",
       "      <td>-17.676975</td>\n",
       "      <td>-17.876140</td>\n",
       "      <td>8.259424</td>\n",
       "      <td>1</td>\n",
       "    </tr>\n",
       "    <tr>\n",
       "      <th>7</th>\n",
       "      <td>0.039712</td>\n",
       "      <td>0.009679</td>\n",
       "      <td>0.011464</td>\n",
       "      <td>0.002918</td>\n",
       "      <td>0.01</td>\n",
       "      <td>1</td>\n",
       "      <td>poly</td>\n",
       "      <td>{'svm__C': 0.01, 'svm__gamma': 1, 'svm__kernel...</td>\n",
       "      <td>-26.464894</td>\n",
       "      <td>-29.299622</td>\n",
       "      <td>-10.732351</td>\n",
       "      <td>-10.811197</td>\n",
       "      <td>-19.103223</td>\n",
       "      <td>-19.282257</td>\n",
       "      <td>7.704929</td>\n",
       "      <td>2</td>\n",
       "    </tr>\n",
       "    <tr>\n",
       "      <th>40</th>\n",
       "      <td>0.022067</td>\n",
       "      <td>0.000600</td>\n",
       "      <td>0.005996</td>\n",
       "      <td>0.000013</td>\n",
       "      <td>10</td>\n",
       "      <td>0.1</td>\n",
       "      <td>poly</td>\n",
       "      <td>{'svm__C': 10, 'svm__gamma': 0.1, 'svm__kernel...</td>\n",
       "      <td>-26.464943</td>\n",
       "      <td>-29.299986</td>\n",
       "      <td>-10.732592</td>\n",
       "      <td>-10.811184</td>\n",
       "      <td>-19.103096</td>\n",
       "      <td>-19.282360</td>\n",
       "      <td>7.704983</td>\n",
       "      <td>3</td>\n",
       "    </tr>\n",
       "    <tr>\n",
       "      <th>19</th>\n",
       "      <td>0.127725</td>\n",
       "      <td>0.034502</td>\n",
       "      <td>0.006214</td>\n",
       "      <td>0.000751</td>\n",
       "      <td>0.1</td>\n",
       "      <td>1</td>\n",
       "      <td>poly</td>\n",
       "      <td>{'svm__C': 0.1, 'svm__gamma': 1, 'svm__kernel'...</td>\n",
       "      <td>-31.325803</td>\n",
       "      <td>-36.465372</td>\n",
       "      <td>-10.111329</td>\n",
       "      <td>-16.300221</td>\n",
       "      <td>-20.109776</td>\n",
       "      <td>-22.862500</td>\n",
       "      <td>9.694318</td>\n",
       "      <td>4</td>\n",
       "    </tr>\n",
       "    <tr>\n",
       "      <th>38</th>\n",
       "      <td>0.014753</td>\n",
       "      <td>0.000401</td>\n",
       "      <td>0.006197</td>\n",
       "      <td>0.000394</td>\n",
       "      <td>10</td>\n",
       "      <td>0.01</td>\n",
       "      <td>rbf</td>\n",
       "      <td>{'svm__C': 10, 'svm__gamma': 0.01, 'svm__kerne...</td>\n",
       "      <td>-44.393402</td>\n",
       "      <td>-12.330710</td>\n",
       "      <td>-12.685323</td>\n",
       "      <td>-23.982286</td>\n",
       "      <td>-22.778903</td>\n",
       "      <td>-23.234125</td>\n",
       "      <td>11.650267</td>\n",
       "      <td>5</td>\n",
       "    </tr>\n",
       "  </tbody>\n",
       "</table>\n",
       "</div>"
      ],
      "text/plain": [
       "    mean_fit_time  std_fit_time  mean_score_time  std_score_time param_svm__C  \\\n",
       "41       0.015817      0.000420         0.006801        0.001158           10   \n",
       "7        0.039712      0.009679         0.011464        0.002918         0.01   \n",
       "40       0.022067      0.000600         0.005996        0.000013           10   \n",
       "19       0.127725      0.034502         0.006214        0.000751          0.1   \n",
       "38       0.014753      0.000401         0.006197        0.000394           10   \n",
       "\n",
       "   param_svm__gamma param_svm__kernel  \\\n",
       "41              0.1               rbf   \n",
       "7                 1              poly   \n",
       "40              0.1              poly   \n",
       "19                1              poly   \n",
       "38             0.01               rbf   \n",
       "\n",
       "                                               params  split0_test_score  \\\n",
       "41  {'svm__C': 10, 'svm__gamma': 0.1, 'svm__kernel...         -33.532556   \n",
       "7   {'svm__C': 0.01, 'svm__gamma': 1, 'svm__kernel...         -26.464894   \n",
       "40  {'svm__C': 10, 'svm__gamma': 0.1, 'svm__kernel...         -26.464943   \n",
       "19  {'svm__C': 0.1, 'svm__gamma': 1, 'svm__kernel'...         -31.325803   \n",
       "38  {'svm__C': 10, 'svm__gamma': 0.01, 'svm__kerne...         -44.393402   \n",
       "\n",
       "    split1_test_score  split2_test_score  split3_test_score  \\\n",
       "41         -10.482364         -11.752797         -15.936006   \n",
       "7          -29.299622         -10.732351         -10.811197   \n",
       "40         -29.299986         -10.732592         -10.811184   \n",
       "19         -36.465372         -10.111329         -16.300221   \n",
       "38         -12.330710         -12.685323         -23.982286   \n",
       "\n",
       "    split4_test_score  mean_test_score  std_test_score  rank_test_score  \n",
       "41         -17.676975       -17.876140        8.259424                1  \n",
       "7          -19.103223       -19.282257        7.704929                2  \n",
       "40         -19.103096       -19.282360        7.704983                3  \n",
       "19         -20.109776       -22.862500        9.694318                4  \n",
       "38         -22.778903       -23.234125       11.650267                5  "
      ]
     },
     "metadata": {},
     "output_type": "display_data"
    },
    {
     "name": "stdout",
     "output_type": "stream",
     "text": [
      "최적의 성능을 보일 때의 파라미터(mean_test_score 기준):  {'svm__C': 10, 'svm__gamma': 0.1, 'svm__kernel': 'rbf'}\n",
      "테스트 데이터 RMSE: 3.689069490705439\n"
     ]
    }
   ],
   "source": [
    "# gridsearch 진행\n",
    "\n",
    "## 데이터 전처리와 모델 학습하는 파이프라인 만들기\n",
    "param_grid = {\"svm__kernel\": ['linear', 'poly', 'rbf'],\n",
    "            \"svm__C\": [0.01, 0.1, 1, 10],\n",
    "             \"svm__gamma\": [0.01, 0.1, 1, 10]}\n",
    "\n",
    "## 그리드 서치 진행\n",
    "start_time = time.time()\n",
    "grid = GridSearchCV(estimator=svm_rg, cv=5, param_grid=param_grid, scoring='neg_mean_squared_error')\n",
    "grid.fit(X_train, y_train)\n",
    "end_time = time.time()\n",
    "\n",
    "print(f'소요 시간: {end_time - start_time} sec')\n",
    "\n",
    "scores_df = pd.DataFrame(grid.cv_results_) # 그리드 서치 결과를 데이터프레임으로 변환\n",
    "display(scores_df.sort_values(by='mean_test_score', ascending=False).head(5))\n",
    "print('최적의 성능을 보일 때의 파라미터(mean_test_score 기준): ', grid.best_params_)\n",
    "\n",
    "## 그리드 서치의 refit으로 이미 학습된 estimator 반환\n",
    "svr_estimator = grid.best_estimator_\n",
    "\n",
    "### 그리드 서치의 best_estimator_는 이미 최적 학습이 됐으므로 별도 학습이 필요 없음.\n",
    "pred = svr_estimator.predict(X_test)\n",
    "print('테스트 데이터 RMSE:', np.sqrt(mean_squared_error(y_test, pred)))"
   ]
  },
  {
   "cell_type": "markdown",
   "id": "e907105c",
   "metadata": {},
   "source": [
    "[해석]\n",
    "- 모델 학습 시간은약 168초임.\n",
    "    - 하이퍼 파라미터 튜닝에 따라 늘어날수도 줄어들수도 있음.\n",
    "- MSE 값이 낮을수록 모델 성능이 좋은 것인데, 그리드서치에서는 negative(-)가 붙어서 \"neg_mean_squared_error\" 값이 클수록 좋을 모델이라고 할 수 있음\n",
    "    - MSE(평균제곱오차): 잔차 제곱합의 평균을 의미함\n",
    "    - RMSE: MSE**(1/2)\n",
    "- 테스트 데이터의 성능을 확인한 결과, RMSE 값이 약 3.6890으로 나옴."
   ]
  },
  {
   "cell_type": "markdown",
   "id": "c6151fcd",
   "metadata": {},
   "source": [
    "### 2. XGBoost"
   ]
  },
  {
   "cell_type": "code",
   "execution_count": 3,
   "id": "115de988",
   "metadata": {},
   "outputs": [],
   "source": [
    "# 컬럼 속성별 전처리 transformer 만들기\n",
    "numeric_features = train.columns.drop(['CHAS', 'MEDV'])\n",
    "categorical_features = ['CHAS']\n",
    "\n",
    "column_transformer = ColumnTransformer([\n",
    "    (\"num\", StandardScaler(), numeric_features),\n",
    "    (\"cat\", OneHotEncoder(sparse=False, handle_unknown='ignore'), categorical_features)\n",
    "])\n",
    "\n",
    "xgb = Pipeline([(\"preprocesser\", column_transformer),\n",
    "                  ('xgb', XGBRegressor())])"
   ]
  },
  {
   "cell_type": "code",
   "execution_count": 17,
   "id": "3a1ec443",
   "metadata": {
    "scrolled": false
   },
   "outputs": [
    {
     "name": "stdout",
     "output_type": "stream",
     "text": [
      "소요 시간: 17.078588724136353 sec\n"
     ]
    },
    {
     "data": {
      "text/html": [
       "<div>\n",
       "<style scoped>\n",
       "    .dataframe tbody tr th:only-of-type {\n",
       "        vertical-align: middle;\n",
       "    }\n",
       "\n",
       "    .dataframe tbody tr th {\n",
       "        vertical-align: top;\n",
       "    }\n",
       "\n",
       "    .dataframe thead th {\n",
       "        text-align: right;\n",
       "    }\n",
       "</style>\n",
       "<table border=\"1\" class=\"dataframe\">\n",
       "  <thead>\n",
       "    <tr style=\"text-align: right;\">\n",
       "      <th></th>\n",
       "      <th>mean_fit_time</th>\n",
       "      <th>std_fit_time</th>\n",
       "      <th>mean_score_time</th>\n",
       "      <th>std_score_time</th>\n",
       "      <th>param_xgb__learning_rate</th>\n",
       "      <th>param_xgb__max_depth</th>\n",
       "      <th>param_xgb__min_child_weight</th>\n",
       "      <th>params</th>\n",
       "      <th>split0_test_score</th>\n",
       "      <th>split1_test_score</th>\n",
       "      <th>split2_test_score</th>\n",
       "      <th>split3_test_score</th>\n",
       "      <th>split4_test_score</th>\n",
       "      <th>mean_test_score</th>\n",
       "      <th>std_test_score</th>\n",
       "      <th>rank_test_score</th>\n",
       "    </tr>\n",
       "  </thead>\n",
       "  <tbody>\n",
       "    <tr>\n",
       "      <th>6</th>\n",
       "      <td>0.250450</td>\n",
       "      <td>0.019302</td>\n",
       "      <td>0.014198</td>\n",
       "      <td>0.004911</td>\n",
       "      <td>0.1</td>\n",
       "      <td>7</td>\n",
       "      <td>1</td>\n",
       "      <td>{'xgb__learning_rate': 0.1, 'xgb__max_depth': ...</td>\n",
       "      <td>-18.291961</td>\n",
       "      <td>-10.975190</td>\n",
       "      <td>-8.752171</td>\n",
       "      <td>-9.691247</td>\n",
       "      <td>-14.395007</td>\n",
       "      <td>-12.421115</td>\n",
       "      <td>3.503345</td>\n",
       "      <td>1</td>\n",
       "    </tr>\n",
       "    <tr>\n",
       "      <th>4</th>\n",
       "      <td>0.211601</td>\n",
       "      <td>0.018319</td>\n",
       "      <td>0.020014</td>\n",
       "      <td>0.002324</td>\n",
       "      <td>0.1</td>\n",
       "      <td>5</td>\n",
       "      <td>1</td>\n",
       "      <td>{'xgb__learning_rate': 0.1, 'xgb__max_depth': ...</td>\n",
       "      <td>-21.835959</td>\n",
       "      <td>-10.916702</td>\n",
       "      <td>-7.753698</td>\n",
       "      <td>-10.108215</td>\n",
       "      <td>-17.082622</td>\n",
       "      <td>-13.539439</td>\n",
       "      <td>5.167460</td>\n",
       "      <td>2</td>\n",
       "    </tr>\n",
       "    <tr>\n",
       "      <th>5</th>\n",
       "      <td>0.190748</td>\n",
       "      <td>0.017472</td>\n",
       "      <td>0.019771</td>\n",
       "      <td>0.003172</td>\n",
       "      <td>0.1</td>\n",
       "      <td>5</td>\n",
       "      <td>3</td>\n",
       "      <td>{'xgb__learning_rate': 0.1, 'xgb__max_depth': ...</td>\n",
       "      <td>-18.328985</td>\n",
       "      <td>-15.982791</td>\n",
       "      <td>-7.857113</td>\n",
       "      <td>-10.353336</td>\n",
       "      <td>-17.393255</td>\n",
       "      <td>-13.983096</td>\n",
       "      <td>4.128378</td>\n",
       "      <td>3</td>\n",
       "    </tr>\n",
       "    <tr>\n",
       "      <th>7</th>\n",
       "      <td>0.230286</td>\n",
       "      <td>0.025440</td>\n",
       "      <td>0.017481</td>\n",
       "      <td>0.001654</td>\n",
       "      <td>0.1</td>\n",
       "      <td>7</td>\n",
       "      <td>3</td>\n",
       "      <td>{'xgb__learning_rate': 0.1, 'xgb__max_depth': ...</td>\n",
       "      <td>-22.715556</td>\n",
       "      <td>-15.949141</td>\n",
       "      <td>-8.514179</td>\n",
       "      <td>-9.606143</td>\n",
       "      <td>-17.399731</td>\n",
       "      <td>-14.836950</td>\n",
       "      <td>5.238626</td>\n",
       "      <td>4</td>\n",
       "    </tr>\n",
       "    <tr>\n",
       "      <th>10</th>\n",
       "      <td>0.130687</td>\n",
       "      <td>0.003748</td>\n",
       "      <td>0.018399</td>\n",
       "      <td>0.000477</td>\n",
       "      <td>1</td>\n",
       "      <td>7</td>\n",
       "      <td>1</td>\n",
       "      <td>{'xgb__learning_rate': 1, 'xgb__max_depth': 7,...</td>\n",
       "      <td>-30.929796</td>\n",
       "      <td>-12.628721</td>\n",
       "      <td>-19.004413</td>\n",
       "      <td>-22.932266</td>\n",
       "      <td>-16.918813</td>\n",
       "      <td>-20.482802</td>\n",
       "      <td>6.192153</td>\n",
       "      <td>5</td>\n",
       "    </tr>\n",
       "  </tbody>\n",
       "</table>\n",
       "</div>"
      ],
      "text/plain": [
       "    mean_fit_time  std_fit_time  mean_score_time  std_score_time  \\\n",
       "6        0.250450      0.019302         0.014198        0.004911   \n",
       "4        0.211601      0.018319         0.020014        0.002324   \n",
       "5        0.190748      0.017472         0.019771        0.003172   \n",
       "7        0.230286      0.025440         0.017481        0.001654   \n",
       "10       0.130687      0.003748         0.018399        0.000477   \n",
       "\n",
       "   param_xgb__learning_rate param_xgb__max_depth param_xgb__min_child_weight  \\\n",
       "6                       0.1                    7                           1   \n",
       "4                       0.1                    5                           1   \n",
       "5                       0.1                    5                           3   \n",
       "7                       0.1                    7                           3   \n",
       "10                        1                    7                           1   \n",
       "\n",
       "                                               params  split0_test_score  \\\n",
       "6   {'xgb__learning_rate': 0.1, 'xgb__max_depth': ...         -18.291961   \n",
       "4   {'xgb__learning_rate': 0.1, 'xgb__max_depth': ...         -21.835959   \n",
       "5   {'xgb__learning_rate': 0.1, 'xgb__max_depth': ...         -18.328985   \n",
       "7   {'xgb__learning_rate': 0.1, 'xgb__max_depth': ...         -22.715556   \n",
       "10  {'xgb__learning_rate': 1, 'xgb__max_depth': 7,...         -30.929796   \n",
       "\n",
       "    split1_test_score  split2_test_score  split3_test_score  \\\n",
       "6          -10.975190          -8.752171          -9.691247   \n",
       "4          -10.916702          -7.753698         -10.108215   \n",
       "5          -15.982791          -7.857113         -10.353336   \n",
       "7          -15.949141          -8.514179          -9.606143   \n",
       "10         -12.628721         -19.004413         -22.932266   \n",
       "\n",
       "    split4_test_score  mean_test_score  std_test_score  rank_test_score  \n",
       "6          -14.395007       -12.421115        3.503345                1  \n",
       "4          -17.082622       -13.539439        5.167460                2  \n",
       "5          -17.393255       -13.983096        4.128378                3  \n",
       "7          -17.399731       -14.836950        5.238626                4  \n",
       "10         -16.918813       -20.482802        6.192153                5  "
      ]
     },
     "metadata": {},
     "output_type": "display_data"
    },
    {
     "name": "stdout",
     "output_type": "stream",
     "text": [
      "최적의 성능을 보일 때의 파라미터(mean_test_score 기준):  {'xgb__learning_rate': 0.1, 'xgb__max_depth': 7, 'xgb__min_child_weight': 1}\n",
      "테스트 데이터 RMSE: 2.8546059570341535\n"
     ]
    }
   ],
   "source": [
    "# gridsearch 진행\n",
    "\n",
    "## 데이터 전처리와 모델 학습하는 파이프라인 만들기\n",
    "param_grid = {\"xgb__learning_rate\": [0.01, 0.1, 1, 2],\n",
    "              'xgb__min_child_weight': [1, 3],\n",
    "             'xgb__max_depth': [5, 7]}\n",
    "\n",
    "## 그리드 서치 진행\n",
    "start_time = time.time()\n",
    "grid = GridSearchCV(estimator=xgb, cv=5, param_grid=param_grid, scoring='neg_mean_squared_error')\n",
    "grid.fit(X_train, y_train)\n",
    "end_time = time.time()\n",
    "\n",
    "print(f'소요 시간: {end_time - start_time} sec')\n",
    "\n",
    "scores_df = pd.DataFrame(grid.cv_results_) # 그리드 서치 결과를 데이터프레임으로 변환\n",
    "display(scores_df.sort_values(by='mean_test_score', ascending=False).head(5))\n",
    "print('최적의 성능을 보일 때의 파라미터(mean_test_score 기준): ', grid.best_params_)\n",
    "\n",
    "## 그리드 서치의 refit으로 이미 학습된 estimator 반환\n",
    "xgb_estimator = grid.best_estimator_\n",
    "\n",
    "### 그리드 서치의 best_estimator_는 이미 최적 학습이 됐으므로 별도 학습이 필요 없음.\n",
    "pred = xgb_estimator.predict(X_test)\n",
    "print('테스트 데이터 RMSE:', np.sqrt(mean_squared_error(y_test, pred)))"
   ]
  },
  {
   "cell_type": "markdown",
   "id": "251e087c",
   "metadata": {},
   "source": [
    "[해석]\n",
    "- 모델 학습 시간은약 17초임.\n",
    "    - 하이퍼 파라미터 튜닝에 따라 늘어날수도 줄어들수도 있음.\n",
    "- 테스트 데이터의 성능을 확인한 결과, RMSE 값이 약 2.8546으로 나옴."
   ]
  },
  {
   "cell_type": "code",
   "execution_count": 42,
   "id": "5b622d4c",
   "metadata": {},
   "outputs": [
    {
     "data": {
      "text/plain": [
       "<AxesSubplot:title={'center':'Feature importance'}, xlabel='F score', ylabel='Features'>"
      ]
     },
     "execution_count": 42,
     "metadata": {},
     "output_type": "execute_result"
    },
    {
     "data": {
      "image/png": "[encoded data removed]",
      "text/plain": [
       "<Figure size 640x480 with 1 Axes>"
      ]
     },
     "metadata": {},
     "output_type": "display_data"
    }
   ],
   "source": [
    "from xgboost import plot_importance\n",
    "grid_xgb = XGBRegressor(learning_rate=0.1, max_depth=7, min_child_weight=1)\n",
    "grid_xgb.fit(X_train, y_train)\n",
    "plot_importance(grid_xgb)\n",
    "# plot_importance(grid.best_estimator_[1])"
   ]
  },
  {
   "cell_type": "markdown",
   "id": "917a49e3",
   "metadata": {},
   "source": [
    "[해석]\n",
    "- XGBoost 모델로 나타난 변수 중요도를 시각화한 결과, CRIM 변수가 최종 성적에 영향을 많이 주는 것으로 보임.\n",
    "- 반면에 ZN과 CHAS, RAD는 모델에 큰 영향을 주지 못하는 것으로 나타남."
   ]
  },
  {
   "cell_type": "markdown",
   "id": "ce791ad3",
   "metadata": {},
   "source": [
    "### 3. RandomForest"
   ]
  },
  {
   "cell_type": "code",
   "execution_count": 33,
   "id": "2d8d6df2",
   "metadata": {},
   "outputs": [],
   "source": [
    "# 컬럼 속성별 전처리 transformer 만들기\n",
    "numeric_features = train.columns.drop(['CHAS', 'MEDV'])\n",
    "categorical_features = ['CHAS']\n",
    "\n",
    "column_transformer = ColumnTransformer([\n",
    "    (\"num\", StandardScaler(), numeric_features),\n",
    "    (\"cat\", OneHotEncoder(sparse=False, handle_unknown='ignore'), categorical_features)\n",
    "])\n",
    "\n",
    "rfr = Pipeline([(\"preprocesser\", column_transformer),\n",
    "                  ('rfr', RandomForestRegressor(random_state=1))])"
   ]
  },
  {
   "cell_type": "code",
   "execution_count": 34,
   "id": "70a61467",
   "metadata": {
    "scrolled": false
   },
   "outputs": [
    {
     "name": "stdout",
     "output_type": "stream",
     "text": [
      "소요 시간: 40.928938150405884 sec\n"
     ]
    },
    {
     "data": {
      "text/html": [
       "<div>\n",
       "<style scoped>\n",
       "    .dataframe tbody tr th:only-of-type {\n",
       "        vertical-align: middle;\n",
       "    }\n",
       "\n",
       "    .dataframe tbody tr th {\n",
       "        vertical-align: top;\n",
       "    }\n",
       "\n",
       "    .dataframe thead th {\n",
       "        text-align: right;\n",
       "    }\n",
       "</style>\n",
       "<table border=\"1\" class=\"dataframe\">\n",
       "  <thead>\n",
       "    <tr style=\"text-align: right;\">\n",
       "      <th></th>\n",
       "      <th>mean_fit_time</th>\n",
       "      <th>std_fit_time</th>\n",
       "      <th>mean_score_time</th>\n",
       "      <th>std_score_time</th>\n",
       "      <th>param_rfr__max_depth</th>\n",
       "      <th>param_rfr__min_samples_leaf</th>\n",
       "      <th>param_rfr__min_samples_split</th>\n",
       "      <th>params</th>\n",
       "      <th>split0_test_score</th>\n",
       "      <th>split1_test_score</th>\n",
       "      <th>split2_test_score</th>\n",
       "      <th>split3_test_score</th>\n",
       "      <th>split4_test_score</th>\n",
       "      <th>mean_test_score</th>\n",
       "      <th>std_test_score</th>\n",
       "      <th>rank_test_score</th>\n",
       "    </tr>\n",
       "  </thead>\n",
       "  <tbody>\n",
       "    <tr>\n",
       "      <th>18</th>\n",
       "      <td>0.371884</td>\n",
       "      <td>0.079993</td>\n",
       "      <td>0.016788</td>\n",
       "      <td>0.003162</td>\n",
       "      <td>24</td>\n",
       "      <td>1</td>\n",
       "      <td>2</td>\n",
       "      <td>{'rfr__max_depth': 24, 'rfr__min_samples_leaf'...</td>\n",
       "      <td>-14.170090</td>\n",
       "      <td>-14.751849</td>\n",
       "      <td>-9.242125</td>\n",
       "      <td>-9.293349</td>\n",
       "      <td>-13.695365</td>\n",
       "      <td>-12.230556</td>\n",
       "      <td>2.442223</td>\n",
       "      <td>1</td>\n",
       "    </tr>\n",
       "    <tr>\n",
       "      <th>9</th>\n",
       "      <td>0.330783</td>\n",
       "      <td>0.055396</td>\n",
       "      <td>0.015967</td>\n",
       "      <td>0.000632</td>\n",
       "      <td>16</td>\n",
       "      <td>1</td>\n",
       "      <td>2</td>\n",
       "      <td>{'rfr__max_depth': 16, 'rfr__min_samples_leaf'...</td>\n",
       "      <td>-14.241861</td>\n",
       "      <td>-14.787477</td>\n",
       "      <td>-9.196206</td>\n",
       "      <td>-9.146217</td>\n",
       "      <td>-13.842239</td>\n",
       "      <td>-12.242800</td>\n",
       "      <td>2.525882</td>\n",
       "      <td>2</td>\n",
       "    </tr>\n",
       "    <tr>\n",
       "      <th>0</th>\n",
       "      <td>0.295648</td>\n",
       "      <td>0.011614</td>\n",
       "      <td>0.017968</td>\n",
       "      <td>0.003737</td>\n",
       "      <td>8</td>\n",
       "      <td>1</td>\n",
       "      <td>2</td>\n",
       "      <td>{'rfr__max_depth': 8, 'rfr__min_samples_leaf':...</td>\n",
       "      <td>-14.412717</td>\n",
       "      <td>-14.978426</td>\n",
       "      <td>-9.272161</td>\n",
       "      <td>-9.211426</td>\n",
       "      <td>-14.221137</td>\n",
       "      <td>-12.419173</td>\n",
       "      <td>2.606315</td>\n",
       "      <td>3</td>\n",
       "    </tr>\n",
       "    <tr>\n",
       "      <th>10</th>\n",
       "      <td>0.268461</td>\n",
       "      <td>0.005668</td>\n",
       "      <td>0.014587</td>\n",
       "      <td>0.000478</td>\n",
       "      <td>16</td>\n",
       "      <td>1</td>\n",
       "      <td>8</td>\n",
       "      <td>{'rfr__max_depth': 16, 'rfr__min_samples_leaf'...</td>\n",
       "      <td>-13.594641</td>\n",
       "      <td>-15.652374</td>\n",
       "      <td>-9.333519</td>\n",
       "      <td>-9.180826</td>\n",
       "      <td>-14.468040</td>\n",
       "      <td>-12.445880</td>\n",
       "      <td>2.684688</td>\n",
       "      <td>4</td>\n",
       "    </tr>\n",
       "    <tr>\n",
       "      <th>19</th>\n",
       "      <td>0.351080</td>\n",
       "      <td>0.048105</td>\n",
       "      <td>0.018067</td>\n",
       "      <td>0.003927</td>\n",
       "      <td>24</td>\n",
       "      <td>1</td>\n",
       "      <td>8</td>\n",
       "      <td>{'rfr__max_depth': 24, 'rfr__min_samples_leaf'...</td>\n",
       "      <td>-13.597325</td>\n",
       "      <td>-15.651973</td>\n",
       "      <td>-9.330378</td>\n",
       "      <td>-9.180706</td>\n",
       "      <td>-14.470809</td>\n",
       "      <td>-12.446238</td>\n",
       "      <td>2.685997</td>\n",
       "      <td>5</td>\n",
       "    </tr>\n",
       "  </tbody>\n",
       "</table>\n",
       "</div>"
      ],
      "text/plain": [
       "    mean_fit_time  std_fit_time  mean_score_time  std_score_time  \\\n",
       "18       0.371884      0.079993         0.016788        0.003162   \n",
       "9        0.330783      0.055396         0.015967        0.000632   \n",
       "0        0.295648      0.011614         0.017968        0.003737   \n",
       "10       0.268461      0.005668         0.014587        0.000478   \n",
       "19       0.351080      0.048105         0.018067        0.003927   \n",
       "\n",
       "   param_rfr__max_depth param_rfr__min_samples_leaf  \\\n",
       "18                   24                           1   \n",
       "9                    16                           1   \n",
       "0                     8                           1   \n",
       "10                   16                           1   \n",
       "19                   24                           1   \n",
       "\n",
       "   param_rfr__min_samples_split  \\\n",
       "18                            2   \n",
       "9                             2   \n",
       "0                             2   \n",
       "10                            8   \n",
       "19                            8   \n",
       "\n",
       "                                               params  split0_test_score  \\\n",
       "18  {'rfr__max_depth': 24, 'rfr__min_samples_leaf'...         -14.170090   \n",
       "9   {'rfr__max_depth': 16, 'rfr__min_samples_leaf'...         -14.241861   \n",
       "0   {'rfr__max_depth': 8, 'rfr__min_samples_leaf':...         -14.412717   \n",
       "10  {'rfr__max_depth': 16, 'rfr__min_samples_leaf'...         -13.594641   \n",
       "19  {'rfr__max_depth': 24, 'rfr__min_samples_leaf'...         -13.597325   \n",
       "\n",
       "    split1_test_score  split2_test_score  split3_test_score  \\\n",
       "18         -14.751849          -9.242125          -9.293349   \n",
       "9          -14.787477          -9.196206          -9.146217   \n",
       "0          -14.978426          -9.272161          -9.211426   \n",
       "10         -15.652374          -9.333519          -9.180826   \n",
       "19         -15.651973          -9.330378          -9.180706   \n",
       "\n",
       "    split4_test_score  mean_test_score  std_test_score  rank_test_score  \n",
       "18         -13.695365       -12.230556        2.442223                1  \n",
       "9          -13.842239       -12.242800        2.525882                2  \n",
       "0          -14.221137       -12.419173        2.606315                3  \n",
       "10         -14.468040       -12.445880        2.684688                4  \n",
       "19         -14.470809       -12.446238        2.685997                5  "
      ]
     },
     "metadata": {},
     "output_type": "display_data"
    },
    {
     "name": "stdout",
     "output_type": "stream",
     "text": [
      "최적의 성능을 보일 때의 파라미터(mean_test_score 기준):  {'rfr__max_depth': 24, 'rfr__min_samples_leaf': 1, 'rfr__min_samples_split': 2}\n",
      "테스트 데이터 RMSE: 3.024530060619541\n"
     ]
    }
   ],
   "source": [
    "# gridsearch 진행\n",
    "\n",
    "## 데이터 전처리와 모델 학습하는 파이프라인 만들기\n",
    "param_grid = {\"rfr__max_depth\": [8, 16, 24],\n",
    "            \"rfr__min_samples_leaf\": [1, 6, 12],\n",
    "             \"rfr__min_samples_split\": [2, 8, 18]}\n",
    "\n",
    "## 그리드 서치 진행\n",
    "start_time = time.time()\n",
    "grid = GridSearchCV(estimator=rfr, cv=5, param_grid=param_grid, scoring='neg_mean_squared_error')\n",
    "grid.fit(X_train, y_train)\n",
    "end_time = time.time()\n",
    "\n",
    "print(f'소요 시간: {end_time - start_time} sec')\n",
    "\n",
    "scores_df = pd.DataFrame(grid.cv_results_) # 그리드 서치 결과를 데이터프레임으로 변환\n",
    "display(scores_df.sort_values(by='mean_test_score', ascending=False).head(5))\n",
    "print('최적의 성능을 보일 때의 파라미터(mean_test_score 기준): ', grid.best_params_)\n",
    "\n",
    "## 그리드 서치의 refit으로 이미 학습된 estimator 반환\n",
    "rfr_estimator = grid.best_estimator_\n",
    "\n",
    "### 그리드 서치의 best_estimator_는 이미 최적 학습이 됐으므로 별도 학습이 필요 없음.\n",
    "pred = rfr_estimator.predict(X_test)\n",
    "print('테스트 데이터 RMSE:', np.sqrt(mean_squared_error(y_test, pred)))"
   ]
  },
  {
   "cell_type": "markdown",
   "id": "bfcef8c8",
   "metadata": {},
   "source": [
    "[해석]\n",
    "- 모델 학습 시간은약 40초임.\n",
    "    - 하이퍼 파라미터 튜닝에 따라 늘어날수도 줄어들수도 있음.\n",
    "- 테스트 데이터의 성능을 확인한 결과, RMSE 값이 약 3.0245으로 나옴."
   ]
  },
  {
   "cell_type": "markdown",
   "id": "9ca3268a",
   "metadata": {},
   "source": [
    "[해석]\n",
    "- 학습 소요 시간과 RMSE 값이 모두 작은 XGBoost 모델을 사용하기로 결정함."
   ]
  },
  {
   "cell_type": "markdown",
   "id": "a165c181",
   "metadata": {},
   "source": [
    "### 6. 예측값 도출"
   ]
  },
  {
   "cell_type": "code",
   "execution_count": 40,
   "id": "e14a7613",
   "metadata": {},
   "outputs": [
    {
     "data": {
      "text/html": [
       "<div>\n",
       "<style scoped>\n",
       "    .dataframe tbody tr th:only-of-type {\n",
       "        vertical-align: middle;\n",
       "    }\n",
       "\n",
       "    .dataframe tbody tr th {\n",
       "        vertical-align: top;\n",
       "    }\n",
       "\n",
       "    .dataframe thead th {\n",
       "        text-align: right;\n",
       "    }\n",
       "</style>\n",
       "<table border=\"1\" class=\"dataframe\">\n",
       "  <thead>\n",
       "    <tr style=\"text-align: right;\">\n",
       "      <th></th>\n",
       "      <th>CRIM</th>\n",
       "      <th>ZN</th>\n",
       "      <th>INDUS</th>\n",
       "      <th>CHAS</th>\n",
       "      <th>NOX</th>\n",
       "      <th>RM</th>\n",
       "      <th>AGE</th>\n",
       "      <th>DIS</th>\n",
       "      <th>RAD</th>\n",
       "      <th>TAX</th>\n",
       "      <th>PTRATIO</th>\n",
       "      <th>B</th>\n",
       "      <th>LSTAT</th>\n",
       "      <th>MEDV</th>\n",
       "    </tr>\n",
       "  </thead>\n",
       "  <tbody>\n",
       "    <tr>\n",
       "      <th>0</th>\n",
       "      <td>0.04819</td>\n",
       "      <td>80.0</td>\n",
       "      <td>3.64</td>\n",
       "      <td>0.0</td>\n",
       "      <td>0.392</td>\n",
       "      <td>6.108</td>\n",
       "      <td>32.0</td>\n",
       "      <td>9.2203</td>\n",
       "      <td>1.0</td>\n",
       "      <td>315.0</td>\n",
       "      <td>16.4</td>\n",
       "      <td>392.89</td>\n",
       "      <td>6.57</td>\n",
       "      <td>21.9</td>\n",
       "    </tr>\n",
       "    <tr>\n",
       "      <th>1</th>\n",
       "      <td>1.42502</td>\n",
       "      <td>0.0</td>\n",
       "      <td>19.58</td>\n",
       "      <td>0.0</td>\n",
       "      <td>0.871</td>\n",
       "      <td>6.510</td>\n",
       "      <td>100.0</td>\n",
       "      <td>1.7659</td>\n",
       "      <td>5.0</td>\n",
       "      <td>403.0</td>\n",
       "      <td>14.7</td>\n",
       "      <td>364.31</td>\n",
       "      <td>7.39</td>\n",
       "      <td>23.3</td>\n",
       "    </tr>\n",
       "    <tr>\n",
       "      <th>2</th>\n",
       "      <td>0.01778</td>\n",
       "      <td>95.0</td>\n",
       "      <td>1.47</td>\n",
       "      <td>0.0</td>\n",
       "      <td>0.403</td>\n",
       "      <td>7.135</td>\n",
       "      <td>13.9</td>\n",
       "      <td>7.6534</td>\n",
       "      <td>3.0</td>\n",
       "      <td>402.0</td>\n",
       "      <td>17.0</td>\n",
       "      <td>384.30</td>\n",
       "      <td>4.45</td>\n",
       "      <td>32.9</td>\n",
       "    </tr>\n",
       "  </tbody>\n",
       "</table>\n",
       "</div>"
      ],
      "text/plain": [
       "      CRIM    ZN  INDUS  CHAS    NOX     RM    AGE     DIS  RAD    TAX  \\\n",
       "0  0.04819  80.0   3.64   0.0  0.392  6.108   32.0  9.2203  1.0  315.0   \n",
       "1  1.42502   0.0  19.58   0.0  0.871  6.510  100.0  1.7659  5.0  403.0   \n",
       "2  0.01778  95.0   1.47   0.0  0.403  7.135   13.9  7.6534  3.0  402.0   \n",
       "\n",
       "   PTRATIO       B  LSTAT  MEDV  \n",
       "0     16.4  392.89   6.57  21.9  \n",
       "1     14.7  364.31   7.39  23.3  \n",
       "2     17.0  384.30   4.45  32.9  "
      ]
     },
     "metadata": {},
     "output_type": "display_data"
    },
    {
     "name": "stdout",
     "output_type": "stream",
     "text": [
      "(51, 13)\n"
     ]
    }
   ],
   "source": [
    "# loading test data\n",
    "test = pd.read_csv('C:/Users/user/Desktop/Python/adp/2. dacon/data/house_price/test.csv').drop('ID', axis=1)\n",
    "display(train.head(3))\n",
    "print(test.shape)"
   ]
  },
  {
   "cell_type": "code",
   "execution_count": 21,
   "id": "f659382d",
   "metadata": {},
   "outputs": [
    {
     "name": "stdout",
     "output_type": "stream",
     "text": [
      "<class 'pandas.core.frame.DataFrame'>\n",
      "RangeIndex: 51 entries, 0 to 50\n",
      "Data columns (total 13 columns):\n",
      " #   Column   Non-Null Count  Dtype  \n",
      "---  ------   --------------  -----  \n",
      " 0   CRIM     51 non-null     float64\n",
      " 1   ZN       51 non-null     float64\n",
      " 2   INDUS    51 non-null     float64\n",
      " 3   CHAS     51 non-null     float64\n",
      " 4   NOX      51 non-null     float64\n",
      " 5   RM       51 non-null     float64\n",
      " 6   AGE      51 non-null     float64\n",
      " 7   DIS      51 non-null     float64\n",
      " 8   RAD      51 non-null     float64\n",
      " 9   TAX      51 non-null     float64\n",
      " 10  PTRATIO  51 non-null     float64\n",
      " 11  B        51 non-null     float64\n",
      " 12  LSTAT    51 non-null     float64\n",
      "dtypes: float64(13)\n",
      "memory usage: 5.3 KB\n"
     ]
    }
   ],
   "source": [
    "test.info()"
   ]
  },
  {
   "cell_type": "code",
   "execution_count": 24,
   "id": "78596b04",
   "metadata": {},
   "outputs": [
    {
     "data": {
      "text/plain": [
       "CRIM       0\n",
       "ZN         0\n",
       "INDUS      0\n",
       "CHAS       0\n",
       "NOX        0\n",
       "RM         0\n",
       "AGE        0\n",
       "DIS        0\n",
       "RAD        0\n",
       "TAX        0\n",
       "PTRATIO    0\n",
       "B          0\n",
       "LSTAT      0\n",
       "dtype: int64"
      ]
     },
     "execution_count": 24,
     "metadata": {},
     "output_type": "execute_result"
    }
   ],
   "source": [
    "test.isna().sum()"
   ]
  },
  {
   "cell_type": "code",
   "execution_count": 27,
   "id": "21a0c4ff",
   "metadata": {},
   "outputs": [
    {
     "name": "stdout",
     "output_type": "stream",
     "text": [
      "중복 행 개수: 0 개\n"
     ]
    }
   ],
   "source": [
    "# 중복 개수 확인\n",
    "print('중복 행 개수: {} 개'.format(test.duplicated().sum()))"
   ]
  },
  {
   "cell_type": "code",
   "execution_count": 56,
   "id": "664b8139",
   "metadata": {},
   "outputs": [],
   "source": [
    "# 예측값 생성\n",
    "pred = xgb_estimator.predict(test)"
   ]
  },
  {
   "cell_type": "code",
   "execution_count": 58,
   "id": "c06dc86c",
   "metadata": {},
   "outputs": [
    {
     "data": {
      "text/html": [
       "<div>\n",
       "<style scoped>\n",
       "    .dataframe tbody tr th:only-of-type {\n",
       "        vertical-align: middle;\n",
       "    }\n",
       "\n",
       "    .dataframe tbody tr th {\n",
       "        vertical-align: top;\n",
       "    }\n",
       "\n",
       "    .dataframe thead th {\n",
       "        text-align: right;\n",
       "    }\n",
       "</style>\n",
       "<table border=\"1\" class=\"dataframe\">\n",
       "  <thead>\n",
       "    <tr style=\"text-align: right;\">\n",
       "      <th></th>\n",
       "      <th>ID</th>\n",
       "      <th>MEDV</th>\n",
       "    </tr>\n",
       "  </thead>\n",
       "  <tbody>\n",
       "    <tr>\n",
       "      <th>0</th>\n",
       "      <td>TEST_000</td>\n",
       "      <td>0</td>\n",
       "    </tr>\n",
       "    <tr>\n",
       "      <th>1</th>\n",
       "      <td>TEST_001</td>\n",
       "      <td>0</td>\n",
       "    </tr>\n",
       "    <tr>\n",
       "      <th>2</th>\n",
       "      <td>TEST_002</td>\n",
       "      <td>0</td>\n",
       "    </tr>\n",
       "    <tr>\n",
       "      <th>3</th>\n",
       "      <td>TEST_003</td>\n",
       "      <td>0</td>\n",
       "    </tr>\n",
       "    <tr>\n",
       "      <th>4</th>\n",
       "      <td>TEST_004</td>\n",
       "      <td>0</td>\n",
       "    </tr>\n",
       "  </tbody>\n",
       "</table>\n",
       "</div>"
      ],
      "text/plain": [
       "         ID  MEDV\n",
       "0  TEST_000     0\n",
       "1  TEST_001     0\n",
       "2  TEST_002     0\n",
       "3  TEST_003     0\n",
       "4  TEST_004     0"
      ]
     },
     "execution_count": 58,
     "metadata": {},
     "output_type": "execute_result"
    }
   ],
   "source": [
    "# submission file 불러오기\n",
    "submission = pd.read_csv('C:/Users/user/Desktop/Python/adp/2. dacon/data/house_price/sample_submission.csv')\n",
    "submission.head()"
   ]
  },
  {
   "cell_type": "code",
   "execution_count": 64,
   "id": "14dd33dc",
   "metadata": {},
   "outputs": [],
   "source": [
    "# 결과물 저장\n",
    "submission['MEDV'] = pred\n",
    "submission.to_csv('C:/Users/user/Desktop/Python/adp/2. dacon/data/house_price/result1.csv', index=False)"
   ]
  },
  {
   "cell_type": "code",
   "execution_count": null,
   "id": "c04e3910",
   "metadata": {},
   "outputs": [],
   "source": []
  }
 ],
 "metadata": {
  "kernelspec": {
   "display_name": "adp_code",
   "language": "python",
   "name": "adp_code"
  },
  "language_info": {
   "codemirror_mode": {
    "name": "ipython",
    "version": 3
   },
   "file_extension": ".py",
   "mimetype": "text/x-python",
   "name": "python",
   "nbconvert_exporter": "python",
   "pygments_lexer": "ipython3",
   "version": "3.7.16"
  }
 },
 "nbformat": 4,
 "nbformat_minor": 5
}
