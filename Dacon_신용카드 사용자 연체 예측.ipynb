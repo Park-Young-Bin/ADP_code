{
 "cells": [
  {
   "cell_type": "markdown",
   "id": "c9afaaa7",
   "metadata": {},
   "source": [
    "# [Dacon_신용카드 사용자 연체 예측](https://dacon.io/competitions/official/236116/data)\n",
    "[참고](https://dacon.io/competitions/official/236116/codeshare/8753?page=1&dtype=random)\n",
    "\n",
    "index: 고유한 인덱스\n",
    "gender: 성별\n",
    "car: 차 소유 여부\n",
    "reality: 부동산 소유 여부\n",
    "child_num: 자녀 수\n",
    "income_total: 총 수입\n",
    "income_type: 소득 유형\n",
    "edu_type: 교육 수준\n",
    "family_type: 가족 유형\n",
    "house_type: 주택 유형\n",
    "DAYS_BIRTH: 출생일로부터의 날짜\n",
    "DAYS_EMPLOYED: 고용일로부터의 날짜\n",
    "FLAG_MOBIL: 모바일 전화 소유 여부\n",
    "work_phone: 업무용 전화 소유 여부\n",
    "phone: 전화 소유 여부\n",
    "email: 이메일 소유 여부\n",
    "occyp_type: 직업 유형\n",
    "family_size: 가족 규모\n",
    "begin_month: 신용카드 발급일로부터의 월 수\n",
    "credit: 신용도 (타겟 변수)"
   ]
  },
  {
   "cell_type": "code",
   "execution_count": 1,
   "id": "7fd3df18",
   "metadata": {},
   "outputs": [],
   "source": [
    "import pandas as pd\n",
    "import numpy as np\n",
    "import matplotlib.pyplot as plt\n",
    "import seaborn as sns\n",
    "import os\n",
    "import warnings\n",
    "warnings.filterwarnings('ignore')\n",
    "plt.rc('font', family='Malgun Gothic')\n",
    "plt.rcParams['axes.unicode_minus']=False"
   ]
  },
  {
   "cell_type": "code",
   "execution_count": 2,
   "id": "5ea98b7c",
   "metadata": {},
   "outputs": [
    {
     "data": {
      "text/html": [
       "<div>\n",
       "<style scoped>\n",
       "    .dataframe tbody tr th:only-of-type {\n",
       "        vertical-align: middle;\n",
       "    }\n",
       "\n",
       "    .dataframe tbody tr th {\n",
       "        vertical-align: top;\n",
       "    }\n",
       "\n",
       "    .dataframe thead th {\n",
       "        text-align: right;\n",
       "    }\n",
       "</style>\n",
       "<table border=\"1\" class=\"dataframe\">\n",
       "  <thead>\n",
       "    <tr style=\"text-align: right;\">\n",
       "      <th></th>\n",
       "      <th>gender</th>\n",
       "      <th>car</th>\n",
       "      <th>reality</th>\n",
       "      <th>child_num</th>\n",
       "      <th>income_total</th>\n",
       "      <th>income_type</th>\n",
       "      <th>edu_type</th>\n",
       "      <th>family_type</th>\n",
       "      <th>house_type</th>\n",
       "      <th>DAYS_BIRTH</th>\n",
       "      <th>DAYS_EMPLOYED</th>\n",
       "      <th>FLAG_MOBIL</th>\n",
       "      <th>work_phone</th>\n",
       "      <th>phone</th>\n",
       "      <th>email</th>\n",
       "      <th>occyp_type</th>\n",
       "      <th>family_size</th>\n",
       "      <th>begin_month</th>\n",
       "      <th>credit</th>\n",
       "    </tr>\n",
       "  </thead>\n",
       "  <tbody>\n",
       "    <tr>\n",
       "      <th>0</th>\n",
       "      <td>F</td>\n",
       "      <td>N</td>\n",
       "      <td>N</td>\n",
       "      <td>0</td>\n",
       "      <td>202500.0</td>\n",
       "      <td>Commercial associate</td>\n",
       "      <td>Higher education</td>\n",
       "      <td>Married</td>\n",
       "      <td>Municipal apartment</td>\n",
       "      <td>-13899</td>\n",
       "      <td>-4709</td>\n",
       "      <td>1</td>\n",
       "      <td>0</td>\n",
       "      <td>0</td>\n",
       "      <td>0</td>\n",
       "      <td>NaN</td>\n",
       "      <td>2.0</td>\n",
       "      <td>-6.0</td>\n",
       "      <td>1.0</td>\n",
       "    </tr>\n",
       "    <tr>\n",
       "      <th>1</th>\n",
       "      <td>F</td>\n",
       "      <td>N</td>\n",
       "      <td>Y</td>\n",
       "      <td>1</td>\n",
       "      <td>247500.0</td>\n",
       "      <td>Commercial associate</td>\n",
       "      <td>Secondary / secondary special</td>\n",
       "      <td>Civil marriage</td>\n",
       "      <td>House / apartment</td>\n",
       "      <td>-11380</td>\n",
       "      <td>-1540</td>\n",
       "      <td>1</td>\n",
       "      <td>0</td>\n",
       "      <td>0</td>\n",
       "      <td>1</td>\n",
       "      <td>Laborers</td>\n",
       "      <td>3.0</td>\n",
       "      <td>-5.0</td>\n",
       "      <td>1.0</td>\n",
       "    </tr>\n",
       "    <tr>\n",
       "      <th>2</th>\n",
       "      <td>M</td>\n",
       "      <td>Y</td>\n",
       "      <td>Y</td>\n",
       "      <td>0</td>\n",
       "      <td>450000.0</td>\n",
       "      <td>Working</td>\n",
       "      <td>Higher education</td>\n",
       "      <td>Married</td>\n",
       "      <td>House / apartment</td>\n",
       "      <td>-19087</td>\n",
       "      <td>-4434</td>\n",
       "      <td>1</td>\n",
       "      <td>0</td>\n",
       "      <td>1</td>\n",
       "      <td>0</td>\n",
       "      <td>Managers</td>\n",
       "      <td>2.0</td>\n",
       "      <td>-22.0</td>\n",
       "      <td>2.0</td>\n",
       "    </tr>\n",
       "  </tbody>\n",
       "</table>\n",
       "</div>"
      ],
      "text/plain": [
       "  gender car reality  child_num  income_total           income_type  \\\n",
       "0      F   N       N          0      202500.0  Commercial associate   \n",
       "1      F   N       Y          1      247500.0  Commercial associate   \n",
       "2      M   Y       Y          0      450000.0               Working   \n",
       "\n",
       "                        edu_type     family_type           house_type  \\\n",
       "0               Higher education         Married  Municipal apartment   \n",
       "1  Secondary / secondary special  Civil marriage    House / apartment   \n",
       "2               Higher education         Married    House / apartment   \n",
       "\n",
       "   DAYS_BIRTH  DAYS_EMPLOYED  FLAG_MOBIL  work_phone  phone  email occyp_type  \\\n",
       "0      -13899          -4709           1           0      0      0        NaN   \n",
       "1      -11380          -1540           1           0      0      1   Laborers   \n",
       "2      -19087          -4434           1           0      1      0   Managers   \n",
       "\n",
       "   family_size  begin_month  credit  \n",
       "0          2.0         -6.0     1.0  \n",
       "1          3.0         -5.0     1.0  \n",
       "2          2.0        -22.0     2.0  "
      ]
     },
     "metadata": {},
     "output_type": "display_data"
    },
    {
     "name": "stdout",
     "output_type": "stream",
     "text": [
      "(26457, 19)\n",
      "<class 'pandas.core.frame.DataFrame'>\n",
      "RangeIndex: 26457 entries, 0 to 26456\n",
      "Data columns (total 19 columns):\n",
      " #   Column         Non-Null Count  Dtype  \n",
      "---  ------         --------------  -----  \n",
      " 0   gender         26457 non-null  object \n",
      " 1   car            26457 non-null  object \n",
      " 2   reality        26457 non-null  object \n",
      " 3   child_num      26457 non-null  int64  \n",
      " 4   income_total   26457 non-null  float64\n",
      " 5   income_type    26457 non-null  object \n",
      " 6   edu_type       26457 non-null  object \n",
      " 7   family_type    26457 non-null  object \n",
      " 8   house_type     26457 non-null  object \n",
      " 9   DAYS_BIRTH     26457 non-null  int64  \n",
      " 10  DAYS_EMPLOYED  26457 non-null  int64  \n",
      " 11  FLAG_MOBIL     26457 non-null  int64  \n",
      " 12  work_phone     26457 non-null  int64  \n",
      " 13  phone          26457 non-null  int64  \n",
      " 14  email          26457 non-null  int64  \n",
      " 15  occyp_type     18286 non-null  object \n",
      " 16  family_size    26457 non-null  float64\n",
      " 17  begin_month    26457 non-null  float64\n",
      " 18  credit         26457 non-null  float64\n",
      "dtypes: float64(4), int64(7), object(8)\n",
      "memory usage: 3.8+ MB\n",
      "None\n"
     ]
    }
   ],
   "source": [
    "train = pd.read_csv(os.getcwd() + '/data/credit card/train.csv').drop('index', axis=1)\n",
    "display(train.head(3))\n",
    "print(train.shape)\n",
    "print(train.info())"
   ]
  },
  {
   "cell_type": "code",
   "execution_count": 16,
   "id": "12d01250",
   "metadata": {},
   "outputs": [
    {
     "name": "stdout",
     "output_type": "stream",
     "text": [
      "### gender ###\n",
      "['F' 'M']\n",
      "\n",
      "\n",
      "### car ###\n",
      "['N' 'Y']\n",
      "\n",
      "\n",
      "### reality ###\n",
      "['N' 'Y']\n",
      "\n",
      "\n",
      "### income_type ###\n",
      "['Commercial associate' 'Working' 'State servant' 'Pensioner' 'Student']\n",
      "\n",
      "\n",
      "### edu_type ###\n",
      "['Higher education' 'Secondary / secondary special' 'Incomplete higher'\n",
      " 'Lower secondary' 'Academic degree']\n",
      "\n",
      "\n",
      "### family_type ###\n",
      "['Married' 'Civil marriage' 'Separated' 'Single / not married' 'Widow']\n",
      "\n",
      "\n",
      "### house_type ###\n",
      "['Municipal apartment' 'House / apartment' 'With parents'\n",
      " 'Co-op apartment' 'Rented apartment' 'Office apartment']\n",
      "\n",
      "\n",
      "### occyp_type ###\n",
      "[nan 'Laborers' 'Managers' 'Sales staff' 'High skill tech staff'\n",
      " 'Core staff' 'Drivers' 'Medicine staff' 'Accountants' 'Realty agents'\n",
      " 'Security staff' 'Cleaning staff' 'Private service staff' 'Cooking staff'\n",
      " 'Secretaries' 'HR staff' 'IT staff' 'Low-skill Laborers'\n",
      " 'Waiters/barmen staff']\n",
      "\n",
      "\n"
     ]
    }
   ],
   "source": [
    "# 범주형 변수의 범주 구성 확인\n",
    "for col in train.select_dtypes('object').columns.tolist():\n",
    "    print(f'### {col} ###')\n",
    "    print(train[col].unique())\n",
    "    print('\\n')"
   ]
  },
  {
   "cell_type": "code",
   "execution_count": 3,
   "id": "a34a43b9",
   "metadata": {},
   "outputs": [
    {
     "data": {
      "text/plain": [
       "0"
      ]
     },
     "execution_count": 3,
     "metadata": {},
     "output_type": "execute_result"
    }
   ],
   "source": [
    "# 결측치 확인\n",
    "train.isna().sum() # occyp_type: 8,171개\n",
    "\n",
    "# 결측치 대체(최빈값)\n",
    "train.loc[train['occyp_type'].isna(), 'occyp_type'] = train['occyp_type'].value_counts().index[0]\n",
    "train.isna().sum().sum() # 결측치 대체 완료"
   ]
  },
  {
   "cell_type": "code",
   "execution_count": 29,
   "id": "31a13f1b",
   "metadata": {},
   "outputs": [
    {
     "data": {
      "text/html": [
       "<div>\n",
       "<style scoped>\n",
       "    .dataframe tbody tr th:only-of-type {\n",
       "        vertical-align: middle;\n",
       "    }\n",
       "\n",
       "    .dataframe tbody tr th {\n",
       "        vertical-align: top;\n",
       "    }\n",
       "\n",
       "    .dataframe thead th {\n",
       "        text-align: right;\n",
       "    }\n",
       "</style>\n",
       "<table border=\"1\" class=\"dataframe\">\n",
       "  <thead>\n",
       "    <tr style=\"text-align: right;\">\n",
       "      <th></th>\n",
       "      <th>child_num</th>\n",
       "      <th>income_total</th>\n",
       "      <th>DAYS_BIRTH</th>\n",
       "      <th>DAYS_EMPLOYED</th>\n",
       "      <th>FLAG_MOBIL</th>\n",
       "      <th>work_phone</th>\n",
       "      <th>phone</th>\n",
       "      <th>email</th>\n",
       "      <th>family_size</th>\n",
       "      <th>begin_month</th>\n",
       "      <th>credit</th>\n",
       "    </tr>\n",
       "  </thead>\n",
       "  <tbody>\n",
       "    <tr>\n",
       "      <th>count</th>\n",
       "      <td>26457.000000</td>\n",
       "      <td>2.645700e+04</td>\n",
       "      <td>26457.000000</td>\n",
       "      <td>26457.000000</td>\n",
       "      <td>26457.0</td>\n",
       "      <td>26457.000000</td>\n",
       "      <td>26457.000000</td>\n",
       "      <td>26457.000000</td>\n",
       "      <td>26457.000000</td>\n",
       "      <td>26457.000000</td>\n",
       "      <td>26457.000000</td>\n",
       "    </tr>\n",
       "    <tr>\n",
       "      <th>mean</th>\n",
       "      <td>0.428658</td>\n",
       "      <td>1.873065e+05</td>\n",
       "      <td>-15958.053899</td>\n",
       "      <td>59068.750728</td>\n",
       "      <td>1.0</td>\n",
       "      <td>0.224742</td>\n",
       "      <td>0.294251</td>\n",
       "      <td>0.091280</td>\n",
       "      <td>2.196848</td>\n",
       "      <td>-26.123294</td>\n",
       "      <td>1.519560</td>\n",
       "    </tr>\n",
       "    <tr>\n",
       "      <th>std</th>\n",
       "      <td>0.747326</td>\n",
       "      <td>1.018784e+05</td>\n",
       "      <td>4201.589022</td>\n",
       "      <td>137475.427503</td>\n",
       "      <td>0.0</td>\n",
       "      <td>0.417420</td>\n",
       "      <td>0.455714</td>\n",
       "      <td>0.288013</td>\n",
       "      <td>0.916717</td>\n",
       "      <td>16.559550</td>\n",
       "      <td>0.702283</td>\n",
       "    </tr>\n",
       "    <tr>\n",
       "      <th>min</th>\n",
       "      <td>0.000000</td>\n",
       "      <td>2.700000e+04</td>\n",
       "      <td>-25152.000000</td>\n",
       "      <td>-15713.000000</td>\n",
       "      <td>1.0</td>\n",
       "      <td>0.000000</td>\n",
       "      <td>0.000000</td>\n",
       "      <td>0.000000</td>\n",
       "      <td>1.000000</td>\n",
       "      <td>-60.000000</td>\n",
       "      <td>0.000000</td>\n",
       "    </tr>\n",
       "    <tr>\n",
       "      <th>25%</th>\n",
       "      <td>0.000000</td>\n",
       "      <td>1.215000e+05</td>\n",
       "      <td>-19431.000000</td>\n",
       "      <td>-3153.000000</td>\n",
       "      <td>1.0</td>\n",
       "      <td>0.000000</td>\n",
       "      <td>0.000000</td>\n",
       "      <td>0.000000</td>\n",
       "      <td>2.000000</td>\n",
       "      <td>-39.000000</td>\n",
       "      <td>1.000000</td>\n",
       "    </tr>\n",
       "    <tr>\n",
       "      <th>50%</th>\n",
       "      <td>0.000000</td>\n",
       "      <td>1.575000e+05</td>\n",
       "      <td>-15547.000000</td>\n",
       "      <td>-1539.000000</td>\n",
       "      <td>1.0</td>\n",
       "      <td>0.000000</td>\n",
       "      <td>0.000000</td>\n",
       "      <td>0.000000</td>\n",
       "      <td>2.000000</td>\n",
       "      <td>-24.000000</td>\n",
       "      <td>2.000000</td>\n",
       "    </tr>\n",
       "    <tr>\n",
       "      <th>75%</th>\n",
       "      <td>1.000000</td>\n",
       "      <td>2.250000e+05</td>\n",
       "      <td>-12446.000000</td>\n",
       "      <td>-407.000000</td>\n",
       "      <td>1.0</td>\n",
       "      <td>0.000000</td>\n",
       "      <td>1.000000</td>\n",
       "      <td>0.000000</td>\n",
       "      <td>3.000000</td>\n",
       "      <td>-12.000000</td>\n",
       "      <td>2.000000</td>\n",
       "    </tr>\n",
       "    <tr>\n",
       "      <th>max</th>\n",
       "      <td>19.000000</td>\n",
       "      <td>1.575000e+06</td>\n",
       "      <td>-7705.000000</td>\n",
       "      <td>365243.000000</td>\n",
       "      <td>1.0</td>\n",
       "      <td>1.000000</td>\n",
       "      <td>1.000000</td>\n",
       "      <td>1.000000</td>\n",
       "      <td>20.000000</td>\n",
       "      <td>0.000000</td>\n",
       "      <td>2.000000</td>\n",
       "    </tr>\n",
       "  </tbody>\n",
       "</table>\n",
       "</div>"
      ],
      "text/plain": [
       "          child_num  income_total    DAYS_BIRTH  DAYS_EMPLOYED  FLAG_MOBIL  \\\n",
       "count  26457.000000  2.645700e+04  26457.000000   26457.000000     26457.0   \n",
       "mean       0.428658  1.873065e+05 -15958.053899   59068.750728         1.0   \n",
       "std        0.747326  1.018784e+05   4201.589022  137475.427503         0.0   \n",
       "min        0.000000  2.700000e+04 -25152.000000  -15713.000000         1.0   \n",
       "25%        0.000000  1.215000e+05 -19431.000000   -3153.000000         1.0   \n",
       "50%        0.000000  1.575000e+05 -15547.000000   -1539.000000         1.0   \n",
       "75%        1.000000  2.250000e+05 -12446.000000    -407.000000         1.0   \n",
       "max       19.000000  1.575000e+06  -7705.000000  365243.000000         1.0   \n",
       "\n",
       "         work_phone         phone         email   family_size   begin_month  \\\n",
       "count  26457.000000  26457.000000  26457.000000  26457.000000  26457.000000   \n",
       "mean       0.224742      0.294251      0.091280      2.196848    -26.123294   \n",
       "std        0.417420      0.455714      0.288013      0.916717     16.559550   \n",
       "min        0.000000      0.000000      0.000000      1.000000    -60.000000   \n",
       "25%        0.000000      0.000000      0.000000      2.000000    -39.000000   \n",
       "50%        0.000000      0.000000      0.000000      2.000000    -24.000000   \n",
       "75%        0.000000      1.000000      0.000000      3.000000    -12.000000   \n",
       "max        1.000000      1.000000      1.000000     20.000000      0.000000   \n",
       "\n",
       "             credit  \n",
       "count  26457.000000  \n",
       "mean       1.519560  \n",
       "std        0.702283  \n",
       "min        0.000000  \n",
       "25%        1.000000  \n",
       "50%        2.000000  \n",
       "75%        2.000000  \n",
       "max        2.000000  "
      ]
     },
     "execution_count": 29,
     "metadata": {},
     "output_type": "execute_result"
    }
   ],
   "source": [
    "train.describe()"
   ]
  },
  {
   "cell_type": "code",
   "execution_count": 33,
   "id": "312a3a97",
   "metadata": {},
   "outputs": [
    {
     "data": {
      "image/png": "[encoded data removed]",
      "text/plain": [
       "<Figure size 640x480 with 12 Axes>"
      ]
     },
     "metadata": {},
     "output_type": "display_data"
    }
   ],
   "source": [
    "train.hist(bins=30)\n",
    "plt.tight_layout()\n",
    "plt.show()"
   ]
  },
  {
   "cell_type": "code",
   "execution_count": 39,
   "id": "b671ad01",
   "metadata": {},
   "outputs": [
    {
     "data": {
      "image/png": "[encoded data removed]",
      "text/plain": [
       "<Figure size 200x300 with 1 Axes>"
      ]
     },
     "metadata": {},
     "output_type": "display_data"
    }
   ],
   "source": [
    "train[['DAYS_BIRTH']].boxplot(figsize=(2,3))\n",
    "plt.show()"
   ]
  },
  {
   "cell_type": "code",
   "execution_count": 49,
   "id": "0ec5a468",
   "metadata": {},
   "outputs": [
    {
     "data": {
      "image/png": "[encoded data removed]",
      "text/plain": [
       "<Figure size 200x300 with 1 Axes>"
      ]
     },
     "metadata": {},
     "output_type": "display_data"
    }
   ],
   "source": [
    "train[['DAYS_EMPLOYED']].boxplot(figsize=(2,3))\n",
    "plt.show()"
   ]
  },
  {
   "cell_type": "code",
   "execution_count": 4,
   "id": "794c862b",
   "metadata": {},
   "outputs": [],
   "source": [
    "# DAYS_EMPLOYED 이상치 대체(중앙값)\n",
    "train.loc[train['DAYS_EMPLOYED']==np.max(train['DAYS_EMPLOYED']), 'DAYS_EMPLOYED']\\\n",
    "                                =np.median(train['DAYS_EMPLOYED'])"
   ]
  },
  {
   "cell_type": "code",
   "execution_count": 50,
   "id": "2ada1a29",
   "metadata": {},
   "outputs": [
    {
     "data": {
      "image/png": "[encoded data removed]",
      "text/plain": [
       "<Figure size 200x300 with 1 Axes>"
      ]
     },
     "metadata": {},
     "output_type": "display_data"
    }
   ],
   "source": [
    "train[['begin_month']].boxplot(figsize=(2,3))\n",
    "plt.show()"
   ]
  },
  {
   "cell_type": "code",
   "execution_count": 5,
   "id": "29c71ccc",
   "metadata": {},
   "outputs": [
    {
     "data": {
      "image/png": "[encoded data removed]",
      "text/plain": [
       "<Figure size 640x480 with 2 Axes>"
      ]
     },
     "metadata": {},
     "output_type": "display_data"
    }
   ],
   "source": [
    "train_corr = train.corr()\n",
    "sns.heatmap(train_corr, vmin=-1, vmax=1, annot=True, fmt='.2f', cmap='RdBu')\n",
    "plt.show()"
   ]
  },
  {
   "cell_type": "markdown",
   "id": "15d5b103",
   "metadata": {},
   "source": [
    "1. 데이터 결측치 존재 여부\n",
    "    - occyp_type 칼럼에 결측치가 존재했으며 최빈값으로 대체하였다.\n",
    "1. 데이터 타입 구성\n",
    "    - 종속변수인 credit은 float형이고, 독립변수는 object, int, float형으로 구성되었다.\n",
    "1. 종속변수와 독립변수 간 상관관계\n",
    "    - 종속변수와 독립변수 간 상관관계를 파악한 결과, 높은 상관성은 존재하지 않았다.\n",
    "1. 독립변수 간 상관관계\n",
    "    - 독립변수 간 상관관계를 확인한 결과, family_size와 child_total의 상관계수가 약 0.89로 다중공선성을 의심할 수 있다."
   ]
  },
  {
   "cell_type": "markdown",
   "id": "65bdd616",
   "metadata": {},
   "source": [
    "### 2. 통계분석\n",
    "#### 1. 독립표본 t-test\n",
    "- 귀무가설: 부동산 소유 여부에 따라 총 수입에 차이가 없다.\n",
    "- 대립가설: not H0"
   ]
  },
  {
   "cell_type": "code",
   "execution_count": 5,
   "id": "6a3e4860",
   "metadata": {},
   "outputs": [
    {
     "data": {
      "text/plain": [
       "MannwhitneyuResult(statistic=74273086.5, pvalue=5.686432483612073e-06)"
      ]
     },
     "execution_count": 5,
     "metadata": {},
     "output_type": "execute_result"
    }
   ],
   "source": [
    "import scipy.stats as stats\n",
    "reality_n = train[train['reality']=='N']['income_total']\n",
    "reality_y = train[train['reality']=='Y']['income_total']\n",
    "\n",
    "stats.shapiro(reality_n) # 정규성 불만족\n",
    "stats.shapiro(reality_y) # 정규성 불만족\n",
    "\n",
    "stats.mannwhitneyu(reality_n, reality_y) # 귀무가설 기각"
   ]
  },
  {
   "cell_type": "markdown",
   "id": "e096d5ba",
   "metadata": {},
   "source": [
    "#### 2. 교차검정"
   ]
  },
  {
   "cell_type": "code",
   "execution_count": 6,
   "id": "5a70b22c",
   "metadata": {},
   "outputs": [
    {
     "data": {
      "text/html": [
       "<div>\n",
       "<style scoped>\n",
       "    .dataframe tbody tr th:only-of-type {\n",
       "        vertical-align: middle;\n",
       "    }\n",
       "\n",
       "    .dataframe tbody tr th {\n",
       "        vertical-align: top;\n",
       "    }\n",
       "\n",
       "    .dataframe thead th {\n",
       "        text-align: right;\n",
       "    }\n",
       "</style>\n",
       "<table border=\"1\" class=\"dataframe\">\n",
       "  <thead>\n",
       "    <tr style=\"text-align: right;\">\n",
       "      <th></th>\n",
       "      <th>variable</th>\n",
       "      <th>chi2_statistic</th>\n",
       "      <th>p_value</th>\n",
       "    </tr>\n",
       "  </thead>\n",
       "  <tbody>\n",
       "    <tr>\n",
       "      <th>0</th>\n",
       "      <td>gender</td>\n",
       "      <td>0.753743</td>\n",
       "      <td>0.686004</td>\n",
       "    </tr>\n",
       "    <tr>\n",
       "      <th>1</th>\n",
       "      <td>car</td>\n",
       "      <td>9.396436</td>\n",
       "      <td>0.009111</td>\n",
       "    </tr>\n",
       "    <tr>\n",
       "      <th>2</th>\n",
       "      <td>reality</td>\n",
       "      <td>11.231612</td>\n",
       "      <td>0.003640</td>\n",
       "    </tr>\n",
       "    <tr>\n",
       "      <th>3</th>\n",
       "      <td>work_phone</td>\n",
       "      <td>0.363705</td>\n",
       "      <td>0.833724</td>\n",
       "    </tr>\n",
       "    <tr>\n",
       "      <th>4</th>\n",
       "      <td>phone</td>\n",
       "      <td>8.035167</td>\n",
       "      <td>0.017996</td>\n",
       "    </tr>\n",
       "    <tr>\n",
       "      <th>5</th>\n",
       "      <td>email</td>\n",
       "      <td>6.065864</td>\n",
       "      <td>0.048174</td>\n",
       "    </tr>\n",
       "  </tbody>\n",
       "</table>\n",
       "</div>"
      ],
      "text/plain": [
       "     variable  chi2_statistic   p_value\n",
       "0      gender        0.753743  0.686004\n",
       "1         car        9.396436  0.009111\n",
       "2     reality       11.231612  0.003640\n",
       "3  work_phone        0.363705  0.833724\n",
       "4       phone        8.035167  0.017996\n",
       "5       email        6.065864  0.048174"
      ]
     },
     "execution_count": 6,
     "metadata": {},
     "output_type": "execute_result"
    }
   ],
   "source": [
    "from statsmodels.stats.contingency_tables import Table\n",
    "\n",
    "# 카이제곱 검정을 수행할 컬럼을 설정합니다.\n",
    "variables_to_compare = ['gender', 'car', 'reality', 'work_phone', 'phone', 'email']\n",
    "chi2_results_multi = []\n",
    "\n",
    "# 2개 이상을 가지는 범주에 대한 카이제곱 검정을 수행합니다.\n",
    "for variable in variables_to_compare:\n",
    "    contingency_table = pd.crosstab(train[variable], train['credit'])\n",
    "\n",
    "    # Table 클래스로 카이제곱 검정을 수행합니다.\n",
    "    table = Table(contingency_table)\n",
    "    result = table.test_nominal_association()\n",
    "    chi2_stat = result.statistic\n",
    "    p_value = result.pvalue\n",
    "\n",
    "    # 결과를 저장합니다.\n",
    "    chi2_results_multi.append({\n",
    "        \"variable\": variable,\n",
    "        \"chi2_statistic\": chi2_stat,\n",
    "        \"p_value\": p_value\n",
    "    })\n",
    "\n",
    "chi2_results_multi_df = pd.DataFrame(chi2_results_multi)\n",
    "chi2_results_multi_df"
   ]
  },
  {
   "cell_type": "markdown",
   "id": "6f2843c5",
   "metadata": {},
   "source": [
    "#### 3. 비계층적 군집분석"
   ]
  },
  {
   "cell_type": "code",
   "execution_count": 7,
   "id": "b3fe13bb",
   "metadata": {},
   "outputs": [
    {
     "name": "stdout",
     "output_type": "stream",
     "text": [
      "14610.432332011\n",
      "15335.089543151536\n",
      "14733.080563388901\n",
      "13669.091041586276\n",
      "13103.685419256157\n",
      "12437.758274571333\n",
      "11972.88192739305\n",
      "11708.375417725383\n"
     ]
    }
   ],
   "source": [
    "from sklearn.preprocessing import StandardScaler, MinMaxScaler\n",
    "from sklearn.metrics import calinski_harabasz_score\n",
    "from sklearn.cluster import KMeans\n",
    "sub_df = train[['income_total', 'DAYS_BIRTH', 'DAYS_EMPLOYED', 'family_size', 'begin_month']]\n",
    "scaler=MinMaxScaler()\n",
    "sub_df_sc = scaler.fit_transform(sub_df)\n",
    "\n",
    "for k in range(2,10): # 클러스터별 콜린스키 하라바츠 결과 비교\n",
    "    kmeans_model = KMeans(n_clusters=k, random_state=1).fit(sub_df_sc)\n",
    "    labels = kmeans_model.labels_\n",
    "    print(calinski_harabasz_score(sub_df_sc, labels))"
   ]
  },
  {
   "cell_type": "markdown",
   "id": "d09c9f99",
   "metadata": {},
   "source": [
    "- k값이 3일 때 가장 높은 값을 가지는 것을 확인했다. 하지만 콜린스키 하라바츠 스코어 값만으로 k값을 확정짓기 어려우므로 엘보우 기밥을 사용하여 적절한 k값을 선택할 수 있다."
   ]
  },
  {
   "cell_type": "code",
   "execution_count": 8,
   "id": "da037a3b",
   "metadata": {},
   "outputs": [
    {
     "data": {
      "image/png": "[encoded data removed]",
      "text/plain": [
       "<Figure size 400x300 with 1 Axes>"
      ]
     },
     "metadata": {},
     "output_type": "display_data"
    },
    {
     "name": "stdout",
     "output_type": "stream",
     "text": [
      "[4242.531138053172, 2733.112662983398, 1964.709989592183, 1588.4656202936453, 1383.2867697359925, 1220.1901462196072, 1110.2032155094464, 1017.7040197287588, 934.1628731153796, 871.4076844405896]\n"
     ]
    }
   ],
   "source": [
    "def elbow(X):\n",
    "    sse=[]\n",
    "    for i in range(1,11):\n",
    "        km=KMeans(n_clusters=i, random_state=1)\n",
    "        km.fit(X)\n",
    "        sse.append(km.inertia_)\n",
    "    \n",
    "    plt.figure(figsize=(4,3))\n",
    "    plt.plot(range(1,11), sse, marker='o')\n",
    "    plt.show()\n",
    "    print(sse)\n",
    "elbow(sub_df_sc)"
   ]
  },
  {
   "cell_type": "markdown",
   "id": "e55c5607",
   "metadata": {},
   "source": [
    "- k 값이 3에서 4로 갈 때에 기울기 소실이 발생하므로, 해당 데이터에서는 2~3개의 군집이 적절함을 알 수 있다.\n",
    "- 따라서 k 값을 3으로 지정해서 최종 군집분석을 수행한다."
   ]
  },
  {
   "cell_type": "code",
   "execution_count": 42,
   "id": "5bcaafff",
   "metadata": {},
   "outputs": [
    {
     "data": {
      "text/html": [
       "<div>\n",
       "<style scoped>\n",
       "    .dataframe tbody tr th:only-of-type {\n",
       "        vertical-align: middle;\n",
       "    }\n",
       "\n",
       "    .dataframe tbody tr th {\n",
       "        vertical-align: top;\n",
       "    }\n",
       "\n",
       "    .dataframe thead th {\n",
       "        text-align: right;\n",
       "    }\n",
       "</style>\n",
       "<table border=\"1\" class=\"dataframe\">\n",
       "  <thead>\n",
       "    <tr style=\"text-align: right;\">\n",
       "      <th></th>\n",
       "      <th>income_total</th>\n",
       "      <th>DAYS_BIRTH</th>\n",
       "      <th>DAYS_EMPLOYED</th>\n",
       "      <th>family_size</th>\n",
       "      <th>begin_month</th>\n",
       "    </tr>\n",
       "    <tr>\n",
       "      <th>cluster</th>\n",
       "      <th></th>\n",
       "      <th></th>\n",
       "      <th></th>\n",
       "      <th></th>\n",
       "      <th></th>\n",
       "    </tr>\n",
       "  </thead>\n",
       "  <tbody>\n",
       "    <tr>\n",
       "      <th>0</th>\n",
       "      <td>189906.556832</td>\n",
       "      <td>-12371.041877</td>\n",
       "      <td>-1926.875735</td>\n",
       "      <td>2.445319</td>\n",
       "      <td>-15.845508</td>\n",
       "    </tr>\n",
       "    <tr>\n",
       "      <th>1</th>\n",
       "      <td>189813.048309</td>\n",
       "      <td>-16228.585919</td>\n",
       "      <td>-2780.387010</td>\n",
       "      <td>2.231971</td>\n",
       "      <td>-44.914295</td>\n",
       "    </tr>\n",
       "    <tr>\n",
       "      <th>2</th>\n",
       "      <td>180950.322498</td>\n",
       "      <td>-20131.686799</td>\n",
       "      <td>-2723.435184</td>\n",
       "      <td>1.841356</td>\n",
       "      <td>-15.877489</td>\n",
       "    </tr>\n",
       "  </tbody>\n",
       "</table>\n",
       "</div>"
      ],
      "text/plain": [
       "          income_total    DAYS_BIRTH  DAYS_EMPLOYED  family_size  begin_month\n",
       "cluster                                                                      \n",
       "0        189906.556832 -12371.041877   -1926.875735     2.445319   -15.845508\n",
       "1        189813.048309 -16228.585919   -2780.387010     2.231971   -44.914295\n",
       "2        180950.322498 -20131.686799   -2723.435184     1.841356   -15.877489"
      ]
     },
     "execution_count": 42,
     "metadata": {},
     "output_type": "execute_result"
    }
   ],
   "source": [
    "# 최적의 k로 KMeans 군집화 실행\n",
    "km = KMeans(n_clusters=3, random_state=1)\n",
    "km.fit(sub_df_sc)\n",
    "\n",
    "# 할당된 군집을 train_cluster에 추가\n",
    "new_labels=km.labels_\n",
    "train_cluster = sub_df.copy()\n",
    "train_cluster['cluster']=new_labels\n",
    "train_cluster.groupby(['cluster']).mean()"
   ]
  },
  {
   "cell_type": "code",
   "execution_count": 43,
   "id": "5b5e9e5d",
   "metadata": {},
   "outputs": [
    {
     "data": {
      "text/plain": [
       "0    9528\n",
       "1    9346\n",
       "2    7583\n",
       "Name: cluster, dtype: int64"
      ]
     },
     "execution_count": 43,
     "metadata": {},
     "output_type": "execute_result"
    }
   ],
   "source": [
    "train_cluster.cluster.value_counts()"
   ]
  },
  {
   "cell_type": "code",
   "execution_count": 44,
   "id": "0191e1e7",
   "metadata": {},
   "outputs": [
    {
     "name": "stdout",
     "output_type": "stream",
     "text": [
      "실루엣 분석 점수: -0.013\n"
     ]
    }
   ],
   "source": [
    "# 실루엣 분석을 통한 군집 평가\n",
    "from sklearn.metrics import silhouette_samples, silhouette_score\n",
    "score_samples = silhouette_samples(sub_df, train_cluster.cluster)\n",
    "train_cluster['silhouette_coeff']=score_samples\n",
    "average_score = silhouette_score(sub_df, train_cluster.cluster)\n",
    "print('실루엣 분석 점수: {:.3f}'.format(average_score))"
   ]
  },
  {
   "cell_type": "code",
   "execution_count": 45,
   "id": "77485906",
   "metadata": {},
   "outputs": [
    {
     "data": {
      "text/plain": [
       "cluster\n",
       "0    0.021044\n",
       "1   -0.039942\n",
       "2   -0.023471\n",
       "Name: silhouette_coeff, dtype: float64"
      ]
     },
     "execution_count": 45,
     "metadata": {},
     "output_type": "execute_result"
    }
   ],
   "source": [
    "train_cluster.groupby('cluster')['silhouette_coeff'].mean()"
   ]
  },
  {
   "cell_type": "code",
   "execution_count": 46,
   "id": "78f59169",
   "metadata": {},
   "outputs": [
    {
     "name": "stdout",
     "output_type": "stream",
     "text": [
      "credit  cluster\n",
      "0.0     0          1279\n",
      "        1          1023\n",
      "        2           920\n",
      "1.0     0          2593\n",
      "        2          1989\n",
      "        1          1685\n",
      "2.0     1          6638\n",
      "        0          5656\n",
      "        2          4674\n",
      "Name: cluster, dtype: int64\n"
     ]
    }
   ],
   "source": [
    "# train_cluster와 credit 값 결합\n",
    "train_cluster =pd.concat([train_cluster, train.credit], axis=1)\n",
    "\n",
    "# target 값에 따라 cluster 값이 어떻게 매핑됐는지 확인\n",
    "cluster_result = train_cluster.groupby(['credit'])['cluster'].value_counts()\n",
    "print(cluster_result)"
   ]
  },
  {
   "cell_type": "markdown",
   "id": "f68e1c23",
   "metadata": {},
   "source": [
    "#### 4. 혼합분포 군집분석"
   ]
  },
  {
   "cell_type": "code",
   "execution_count": 47,
   "id": "4ae2661e",
   "metadata": {},
   "outputs": [
    {
     "data": {
      "text/html": [
       "<div>\n",
       "<style scoped>\n",
       "    .dataframe tbody tr th:only-of-type {\n",
       "        vertical-align: middle;\n",
       "    }\n",
       "\n",
       "    .dataframe tbody tr th {\n",
       "        vertical-align: top;\n",
       "    }\n",
       "\n",
       "    .dataframe thead th {\n",
       "        text-align: right;\n",
       "    }\n",
       "</style>\n",
       "<table border=\"1\" class=\"dataframe\">\n",
       "  <thead>\n",
       "    <tr style=\"text-align: right;\">\n",
       "      <th></th>\n",
       "      <th>income_total</th>\n",
       "      <th>DAYS_BIRTH</th>\n",
       "      <th>DAYS_EMPLOYED</th>\n",
       "      <th>family_size</th>\n",
       "      <th>begin_month</th>\n",
       "      <th>credit</th>\n",
       "    </tr>\n",
       "    <tr>\n",
       "      <th>gmm_cluster</th>\n",
       "      <th></th>\n",
       "      <th></th>\n",
       "      <th></th>\n",
       "      <th></th>\n",
       "      <th></th>\n",
       "      <th></th>\n",
       "    </tr>\n",
       "  </thead>\n",
       "  <tbody>\n",
       "    <tr>\n",
       "      <th>0</th>\n",
       "      <td>154300.361104</td>\n",
       "      <td>-20084.162199</td>\n",
       "      <td>-1335.368052</td>\n",
       "      <td>1.786399</td>\n",
       "      <td>-25.729587</td>\n",
       "      <td>1.524225</td>\n",
       "    </tr>\n",
       "    <tr>\n",
       "      <th>1</th>\n",
       "      <td>171927.050162</td>\n",
       "      <td>-12222.521724</td>\n",
       "      <td>-1837.117792</td>\n",
       "      <td>2.578425</td>\n",
       "      <td>-25.340648</td>\n",
       "      <td>1.500132</td>\n",
       "    </tr>\n",
       "    <tr>\n",
       "      <th>2</th>\n",
       "      <td>251303.130338</td>\n",
       "      <td>-17257.160271</td>\n",
       "      <td>-4790.404212</td>\n",
       "      <td>2.051212</td>\n",
       "      <td>-27.871466</td>\n",
       "      <td>1.546018</td>\n",
       "    </tr>\n",
       "  </tbody>\n",
       "</table>\n",
       "</div>"
      ],
      "text/plain": [
       "              income_total    DAYS_BIRTH  DAYS_EMPLOYED  family_size  \\\n",
       "gmm_cluster                                                            \n",
       "0            154300.361104 -20084.162199   -1335.368052     1.786399   \n",
       "1            171927.050162 -12222.521724   -1837.117792     2.578425   \n",
       "2            251303.130338 -17257.160271   -4790.404212     2.051212   \n",
       "\n",
       "             begin_month    credit  \n",
       "gmm_cluster                         \n",
       "0             -25.729587  1.524225  \n",
       "1             -25.340648  1.500132  \n",
       "2             -27.871466  1.546018  "
      ]
     },
     "execution_count": 47,
     "metadata": {},
     "output_type": "execute_result"
    }
   ],
   "source": [
    "from sklearn.mixture import GaussianMixture\n",
    "# 가우시안 혼합모델 구축\n",
    "gmm = GaussianMixture(n_components=3)\n",
    "gmm.fit(sub_df_sc)\n",
    "gmm_labels = gmm.predict(sub_df_sc)\n",
    "# 군집의 변수별 통계량 확인\n",
    "train_cluster['gmm_cluster']=gmm_labels\n",
    "train_cluster.drop(['cluster','silhouette_coeff'], axis=1).groupby('gmm_cluster').mean()"
   ]
  },
  {
   "cell_type": "code",
   "execution_count": 48,
   "id": "e8e6809b",
   "metadata": {},
   "outputs": [
    {
     "data": {
      "text/plain": [
       "1    11393\n",
       "0     8132\n",
       "2     6932\n",
       "Name: gmm_cluster, dtype: int64"
      ]
     },
     "execution_count": 48,
     "metadata": {},
     "output_type": "execute_result"
    }
   ],
   "source": [
    "train_cluster.gmm_cluster.value_counts()"
   ]
  },
  {
   "cell_type": "code",
   "execution_count": 49,
   "id": "789ad32a",
   "metadata": {},
   "outputs": [
    {
     "name": "stdout",
     "output_type": "stream",
     "text": [
      "실루엣 분석 점수: -0.051\n"
     ]
    }
   ],
   "source": [
    "# 실루엣 분석을 통한 군집 평가\n",
    "score_samples = silhouette_samples(sub_df, train_cluster.gmm_cluster)\n",
    "train_cluster['gmm_silhouette_coeff']=score_samples\n",
    "average_score = silhouette_score(sub_df, train_cluster.gmm_cluster)\n",
    "print('실루엣 분석 점수: {:.3f}'.format(average_score))"
   ]
  },
  {
   "cell_type": "code",
   "execution_count": 50,
   "id": "4fefb8ed",
   "metadata": {},
   "outputs": [
    {
     "data": {
      "text/plain": [
       "gmm_cluster\n",
       "0    0.024818\n",
       "1    0.024753\n",
       "2   -0.265976\n",
       "Name: gmm_silhouette_coeff, dtype: float64"
      ]
     },
     "execution_count": 50,
     "metadata": {},
     "output_type": "execute_result"
    }
   ],
   "source": [
    "train_cluster.groupby('gmm_cluster')['gmm_silhouette_coeff'].mean()"
   ]
  },
  {
   "cell_type": "code",
   "execution_count": 51,
   "id": "6cde0ade",
   "metadata": {},
   "outputs": [
    {
     "name": "stdout",
     "output_type": "stream",
     "text": [
      "credit  gmm_cluster\n",
      "0.0     1              1439\n",
      "        0               947\n",
      "        2               836\n",
      "1.0     1              2817\n",
      "        0              1975\n",
      "        2              1475\n",
      "2.0     1              7137\n",
      "        0              5210\n",
      "        2              4621\n",
      "Name: gmm_cluster, dtype: int64\n"
     ]
    }
   ],
   "source": [
    "# target 값에 따라 cluster 값이 어떻게 매핑됐는지 확인\n",
    "gmm_cluster_result = train_cluster.groupby(['credit'])['gmm_cluster'].value_counts()\n",
    "print(gmm_cluster_result)"
   ]
  },
  {
   "cell_type": "markdown",
   "id": "c7078ea6",
   "metadata": {},
   "source": [
    "- Kmeans와 혼합분포 군집분석 결과, 군집별 평균 실루엣 계수값이 작으므로 군집이 잘 이루어졌다고 할 수 없다."
   ]
  },
  {
   "cell_type": "markdown",
   "id": "af034eb8",
   "metadata": {},
   "source": [
    "#### 5. 밀도 기반 군집분석(DBSCAN)"
   ]
  },
  {
   "cell_type": "code",
   "execution_count": 54,
   "id": "35f2be66",
   "metadata": {},
   "outputs": [
    {
     "data": {
      "text/plain": [
       "array([[0.11337209, 0.64498195, 0.70107034, 0.05263158, 0.9       ],\n",
       "       [0.14244186, 0.78936207, 0.90296891, 0.10526316, 0.91666667],\n",
       "       [0.27325581, 0.34762423, 0.71859072, 0.05263158, 0.63333333],\n",
       "       ...,\n",
       "       [0.17151163, 0.86375881, 0.87270642, 0.05263158, 0.58333333],\n",
       "       [0.09302326, 0.86014788, 0.99426606, 0.        , 0.01666667],\n",
       "       [0.03488372, 0.31999771, 0.93654434, 0.05263158, 0.85      ]])"
      ]
     },
     "execution_count": 54,
     "metadata": {},
     "output_type": "execute_result"
    }
   ],
   "source": [
    "sub_df_sc"
   ]
  },
  {
   "cell_type": "code",
   "execution_count": 55,
   "id": "53ec32e9",
   "metadata": {},
   "outputs": [
    {
     "name": "stdout",
     "output_type": "stream",
     "text": [
      "credit  dbscan_cluster\n",
      "0.0     0                  3222\n",
      "1.0     0                  6267\n",
      "2.0     0                 16968\n",
      "Name: dbscan_cluster, dtype: int64\n"
     ]
    }
   ],
   "source": [
    "from sklearn.cluster import DBSCAN\n",
    "\n",
    "dbscan = DBSCAN(eps=.6, min_samples=8, metric='euclidean')\n",
    "dbscan_labels = dbscan.fit_predict(sub_df_sc)\n",
    "\n",
    "train_cluster['dbscan_cluster'] = dbscan_labels\n",
    "dbscan_result = train_cluster.groupby(['credit'])['dbscan_cluster'].value_counts()\n",
    "print(dbscan_result)"
   ]
  },
  {
   "cell_type": "code",
   "execution_count": 58,
   "id": "0becd9c1",
   "metadata": {},
   "outputs": [
    {
     "data": {
      "text/plain": [
       "0    26457\n",
       "Name: dbscan_cluster, dtype: int64"
      ]
     },
     "execution_count": 58,
     "metadata": {},
     "output_type": "execute_result"
    }
   ],
   "source": [
    "train_cluster['dbscan_cluster'].value_counts()"
   ]
  },
  {
   "cell_type": "markdown",
   "id": "2be5c13c",
   "metadata": {},
   "source": [
    "### 3. 머신러닝"
   ]
  },
  {
   "cell_type": "code",
   "execution_count": 8,
   "id": "b495a52c",
   "metadata": {},
   "outputs": [],
   "source": [
    "test = pd.read_csv(os.getcwd() + '/data/credit card/test.csv').drop('index', axis=1)\n",
    "\n",
    "# occyp_type 칼럼 삭제(범주가 많기 때문)\n",
    "train.drop('occyp_type', axis=1, inplace=True) \n",
    "test.drop('occyp_type', axis=1, inplace=True)"
   ]
  },
  {
   "cell_type": "code",
   "execution_count": 9,
   "id": "405eb5ff",
   "metadata": {},
   "outputs": [
    {
     "name": "stdout",
     "output_type": "stream",
     "text": [
      "['gender', 'car', 'reality', 'income_type', 'edu_type', 'family_type', 'house_type']\n"
     ]
    }
   ],
   "source": [
    "# 범주형 변수 인코딩\n",
    "from sklearn.preprocessing import OneHotEncoder, LabelEncoder\n",
    "\n",
    "# object type(범주형)인 변수의 리스트 추출\n",
    "categorical_cols = train.select_dtypes(include=['object']).columns.tolist()\n",
    "print(categorical_cols)\n",
    "\n",
    "# categorical_cols 대상으로 더미 변수 생성\n",
    "train_dum = pd.get_dummies(data=train, columns=categorical_cols)"
   ]
  },
  {
   "cell_type": "code",
   "execution_count": 17,
   "id": "53590e86",
   "metadata": {},
   "outputs": [],
   "source": [
    "from sklearn.preprocessing import StandardScaler\n",
    "from sklearn.metrics import classification_report, accuracy_score\n",
    "from sklearn.model_selection import train_test_split, cross_val_score\n",
    "from sklearn.ensemble import RandomForestClassifier\n",
    "from sklearn.neural_network import MLPClassifier\n",
    "from xgboost import XGBClassifier\n",
    "from lightgbm import LGBMClassifier\n",
    "from imblearn.over_sampling import SMOTE, RandomOverSampler\n",
    "import time\n",
    "\n",
    "# 데이터 분할\n",
    "X = train_dum.drop('credit', axis=1)\n",
    "y = train_dum.credit\n",
    "X_train, X_test, y_train, y_test = train_test_split(X, y, test_size=.3, random_state=123, stratify=y)"
   ]
  },
  {
   "cell_type": "code",
   "execution_count": 29,
   "id": "20b4584b",
   "metadata": {},
   "outputs": [
    {
     "name": "stdout",
     "output_type": "stream",
     "text": [
      "### ('RandomForestClassifier', 'SMOTE') ###\n",
      "11.8672 sec\n",
      "0.6965\n",
      "### ('RandomForestClassifier', 'RandomOverSampler') ###\n",
      "8.2612 sec\n",
      "0.689\n",
      "[09:46:56] WARNING: D:\\Build\\xgboost\\xgboost-1.5.1.git\\src\\learner.cc:1115: Starting in XGBoost 1.3.0, the default evaluation metric used with the objective 'multi:softprob' was changed from 'merror' to 'mlogloss'. Explicitly set eval_metric if you'd like to restore the old behavior.\n",
      "[09:47:17] WARNING: D:\\Build\\xgboost\\xgboost-1.5.1.git\\src\\learner.cc:1115: Starting in XGBoost 1.3.0, the default evaluation metric used with the objective 'multi:softprob' was changed from 'merror' to 'mlogloss'. Explicitly set eval_metric if you'd like to restore the old behavior.\n",
      "[09:47:38] WARNING: D:\\Build\\xgboost\\xgboost-1.5.1.git\\src\\learner.cc:1115: Starting in XGBoost 1.3.0, the default evaluation metric used with the objective 'multi:softprob' was changed from 'merror' to 'mlogloss'. Explicitly set eval_metric if you'd like to restore the old behavior.\n",
      "[09:47:59] WARNING: D:\\Build\\xgboost\\xgboost-1.5.1.git\\src\\learner.cc:1115: Starting in XGBoost 1.3.0, the default evaluation metric used with the objective 'multi:softprob' was changed from 'merror' to 'mlogloss'. Explicitly set eval_metric if you'd like to restore the old behavior.\n",
      "[09:48:20] WARNING: D:\\Build\\xgboost\\xgboost-1.5.1.git\\src\\learner.cc:1115: Starting in XGBoost 1.3.0, the default evaluation metric used with the objective 'multi:softprob' was changed from 'merror' to 'mlogloss'. Explicitly set eval_metric if you'd like to restore the old behavior.\n",
      "### ('XGBClassifier', 'SMOTE') ###\n",
      "20.3726 sec\n",
      "0.7064\n",
      "[09:48:41] WARNING: D:\\Build\\xgboost\\xgboost-1.5.1.git\\src\\learner.cc:1115: Starting in XGBoost 1.3.0, the default evaluation metric used with the objective 'multi:softprob' was changed from 'merror' to 'mlogloss'. Explicitly set eval_metric if you'd like to restore the old behavior.\n",
      "[09:48:58] WARNING: D:\\Build\\xgboost\\xgboost-1.5.1.git\\src\\learner.cc:1115: Starting in XGBoost 1.3.0, the default evaluation metric used with the objective 'multi:softprob' was changed from 'merror' to 'mlogloss'. Explicitly set eval_metric if you'd like to restore the old behavior.\n",
      "[09:49:29] WARNING: D:\\Build\\xgboost\\xgboost-1.5.1.git\\src\\learner.cc:1115: Starting in XGBoost 1.3.0, the default evaluation metric used with the objective 'multi:softprob' was changed from 'merror' to 'mlogloss'. Explicitly set eval_metric if you'd like to restore the old behavior.\n",
      "[09:50:00] WARNING: D:\\Build\\xgboost\\xgboost-1.5.1.git\\src\\learner.cc:1115: Starting in XGBoost 1.3.0, the default evaluation metric used with the objective 'multi:softprob' was changed from 'merror' to 'mlogloss'. Explicitly set eval_metric if you'd like to restore the old behavior.\n",
      "[09:50:22] WARNING: D:\\Build\\xgboost\\xgboost-1.5.1.git\\src\\learner.cc:1115: Starting in XGBoost 1.3.0, the default evaluation metric used with the objective 'multi:softprob' was changed from 'merror' to 'mlogloss'. Explicitly set eval_metric if you'd like to restore the old behavior.\n",
      "### ('XGBClassifier', 'RandomOverSampler') ###\n",
      "14.7249 sec\n",
      "0.6253\n",
      "### ('LGBMClassifier', 'SMOTE') ###\n",
      "4.2038 sec\n",
      "0.7005\n",
      "### ('LGBMClassifier', 'RandomOverSampler') ###\n",
      "1.7404 sec\n",
      "0.6183\n",
      "### ('MLPClassifier', 'SMOTE') ###\n",
      "14.3987 sec\n",
      "0.2397\n",
      "### ('MLPClassifier', 'RandomOverSampler') ###\n",
      "10.0456 sec\n",
      "0.3717\n"
     ]
    }
   ],
   "source": [
    "# 모델 객체 생성\n",
    "rfr_clf = RandomForestClassifier(random_state=123)\n",
    "xgb_clf = XGBClassifier(random_state=123)\n",
    "lgbm_clf = LGBMClassifier(random_state=123)\n",
    "mlp_clf = MLPClassifier(random_state=123)\n",
    "\n",
    "# kflod 교차검증\n",
    "smote=SMOTE(random_state=123)\n",
    "ro = RandomOverSampler(random_state=123)\n",
    "\n",
    "from sklearn.model_selection import KFold\n",
    "kfold =KFold()\n",
    "def model_result(model, resampler=None):\n",
    "    pred_li=[]\n",
    "    for train_index, test_index in kfold.split(X):\n",
    "        X_train, X_test = X.iloc[train_index, :], X.iloc[test_index, :]\n",
    "        y_train, y_test = y.iloc[train_index], y.iloc[test_index]\n",
    "        \n",
    "        X_train_resample, y_train_resample = resampler.fit_resample(X_train, y_train)\n",
    "        \n",
    "        start=time.time()\n",
    "        model.fit(X_train_resample, y_train_resample)\n",
    "        end = time.time()\n",
    "        \n",
    "        pred = model.predict(X_test)\n",
    "        pred_li.append(accuracy_score(pred, y_test))\n",
    "        \n",
    "    print(f'### {model.__class__.__name__, resampler.__class__.__name__} ###')\n",
    "    print(f'{round(end-start, 4)} sec')\n",
    "    print(f'{round(np.mean(pred_li), 4)}')\n",
    "\n",
    "# for문 수행\n",
    "models = [rfr_clf,xgb_clf,lgbm_clf,mlp_clf]\n",
    "resamplers=[smote, ro]\n",
    "for model in models:\n",
    "    for resampler in resamplers:\n",
    "        model_result(model, resampler)"
   ]
  },
  {
   "cell_type": "markdown",
   "id": "80087cde",
   "metadata": {},
   "source": [
    "- 모델별로 kfold 교차검증을 수행한 결과, ('XGBClassifier', 'SMOTE') 조합의 정확도가 상대적으로 높기 때문에 해당 조합으로 모델을 구현할 수 있을 것이다.\n",
    "- MLPClassifier 모델을 제외하고는 SMOTE 방식이 랜덤오버샘플링 방식보다 정확도 값이 더 높다.\n",
    "- 다음으로는 classification report로 성능을 평가하고자 한다."
   ]
  },
  {
   "cell_type": "code",
   "execution_count": 39,
   "id": "1bd6dd97",
   "metadata": {},
   "outputs": [
    {
     "name": "stdout",
     "output_type": "stream",
     "text": [
      "### RandomForestClassifier ###\n",
      "              precision    recall  f1-score   support\n",
      "\n",
      "         0.0       0.31      0.43      0.36       690\n",
      "         1.0       0.50      0.56      0.53      1677\n",
      "         2.0       0.84      0.76      0.80      5571\n",
      "\n",
      "    accuracy                           0.69      7938\n",
      "   macro avg       0.55      0.58      0.56      7938\n",
      "weighted avg       0.72      0.69      0.70      7938\n",
      "\n",
      "[10:12:30] WARNING: D:\\Build\\xgboost\\xgboost-1.5.1.git\\src\\learner.cc:1115: Starting in XGBoost 1.3.0, the default evaluation metric used with the objective 'multi:softprob' was changed from 'merror' to 'mlogloss'. Explicitly set eval_metric if you'd like to restore the old behavior.\n",
      "### XGBClassifier ###\n",
      "              precision    recall  f1-score   support\n",
      "\n",
      "         0.0       0.16      0.47      0.24       332\n",
      "         1.0       0.31      0.67      0.43       882\n",
      "         2.0       0.94      0.71      0.81      6724\n",
      "\n",
      "    accuracy                           0.70      7938\n",
      "   macro avg       0.47      0.62      0.49      7938\n",
      "weighted avg       0.84      0.70      0.74      7938\n",
      "\n",
      "### LGBMClassifier ###\n",
      "              precision    recall  f1-score   support\n",
      "\n",
      "         0.0       0.08      0.49      0.13       150\n",
      "         1.0       0.27      0.68      0.39       744\n",
      "         2.0       0.97      0.70      0.81      7044\n",
      "\n",
      "    accuracy                           0.69      7938\n",
      "   macro avg       0.44      0.63      0.44      7938\n",
      "weighted avg       0.89      0.69      0.76      7938\n",
      "\n",
      "### MLPClassifier ###\n",
      "              precision    recall  f1-score   support\n",
      "\n",
      "         0.0       0.00      0.50      0.00         2\n",
      "         1.0       1.00      0.24      0.38      7936\n",
      "         2.0       0.00      0.00      0.00         0\n",
      "\n",
      "    accuracy                           0.24      7938\n",
      "   macro avg       0.33      0.25      0.13      7938\n",
      "weighted avg       1.00      0.24      0.38      7938\n",
      "\n"
     ]
    }
   ],
   "source": [
    "# Classification Report\n",
    "def metrics_reports(model):\n",
    "    X_train, X_test, y_train, y_test = train_test_split(X, y, test_size=.3, random_state=123, stratify=y)\n",
    "    X_train_sm, y_train_sm = smote.fit_resample(X_train, y_train)\n",
    "    model.fit(X_train_sm, y_train_sm)\n",
    "    pred = model.predict(X_test)\n",
    "    print(f'### {model.__class__.__name__} ###')\n",
    "    print(classification_report(pred, y_test))\n",
    "    \n",
    "models = [rfr_clf,xgb_clf,lgbm_clf,mlp_clf]\n",
    "for model in models:\n",
    "    metrics_reports(model)"
   ]
  },
  {
   "cell_type": "markdown",
   "id": "2942331d",
   "metadata": {},
   "source": [
    "- 연체자가 아닌 사람(N)을 연체자(P)로 분류하는 것 보다 연체자(P)를 연체자가 아니라고(N) 분류하는 것이 신용카드 회사 입장에서 큰 손해이므로 \"정밀도\"를 기준 지표로 활용할 수 있을 것이다.\n",
    "- 또한 classification report 결과, 클래스가 불균형하므로 \"weighted avg\"를 사용하여 불균형을 고려한 성능 측정을 수행하는 것이 더 적절하다.\n",
    "    - weighted avg: 클래스별로 서로 다른 가중치(weight)를 적용하여 정밀도(precision), 재현율(recall), F1-스코어(F1-score)의 평균을 계산하는 지표\n",
    "- 본 분석을 통해서 test 데이터셋으로 LGBMClassifier을 활용하고자 한다."
   ]
  },
  {
   "cell_type": "markdown",
   "id": "ff1d6b6e",
   "metadata": {},
   "source": [
    "### 4. test 데이터셋으로 예측 수행\n",
    "- LGBMClassifier / SMOTE 방식 이용"
   ]
  },
  {
   "cell_type": "code",
   "execution_count": 43,
   "id": "07ad2eb1",
   "metadata": {},
   "outputs": [
    {
     "data": {
      "text/html": [
       "<div>\n",
       "<style scoped>\n",
       "    .dataframe tbody tr th:only-of-type {\n",
       "        vertical-align: middle;\n",
       "    }\n",
       "\n",
       "    .dataframe tbody tr th {\n",
       "        vertical-align: top;\n",
       "    }\n",
       "\n",
       "    .dataframe thead th {\n",
       "        text-align: right;\n",
       "    }\n",
       "</style>\n",
       "<table border=\"1\" class=\"dataframe\">\n",
       "  <thead>\n",
       "    <tr style=\"text-align: right;\">\n",
       "      <th></th>\n",
       "      <th>gender</th>\n",
       "      <th>car</th>\n",
       "      <th>reality</th>\n",
       "      <th>child_num</th>\n",
       "      <th>income_total</th>\n",
       "      <th>income_type</th>\n",
       "      <th>edu_type</th>\n",
       "      <th>family_type</th>\n",
       "      <th>house_type</th>\n",
       "      <th>DAYS_BIRTH</th>\n",
       "      <th>DAYS_EMPLOYED</th>\n",
       "      <th>FLAG_MOBIL</th>\n",
       "      <th>work_phone</th>\n",
       "      <th>phone</th>\n",
       "      <th>email</th>\n",
       "      <th>family_size</th>\n",
       "      <th>begin_month</th>\n",
       "    </tr>\n",
       "  </thead>\n",
       "  <tbody>\n",
       "    <tr>\n",
       "      <th>0</th>\n",
       "      <td>M</td>\n",
       "      <td>Y</td>\n",
       "      <td>N</td>\n",
       "      <td>0</td>\n",
       "      <td>112500.0</td>\n",
       "      <td>Pensioner</td>\n",
       "      <td>Secondary / secondary special</td>\n",
       "      <td>Civil marriage</td>\n",
       "      <td>House / apartment</td>\n",
       "      <td>-21990</td>\n",
       "      <td>365243</td>\n",
       "      <td>1</td>\n",
       "      <td>0</td>\n",
       "      <td>1</td>\n",
       "      <td>0</td>\n",
       "      <td>2.0</td>\n",
       "      <td>-60.0</td>\n",
       "    </tr>\n",
       "    <tr>\n",
       "      <th>1</th>\n",
       "      <td>F</td>\n",
       "      <td>N</td>\n",
       "      <td>Y</td>\n",
       "      <td>0</td>\n",
       "      <td>135000.0</td>\n",
       "      <td>State servant</td>\n",
       "      <td>Higher education</td>\n",
       "      <td>Married</td>\n",
       "      <td>House / apartment</td>\n",
       "      <td>-18964</td>\n",
       "      <td>-8671</td>\n",
       "      <td>1</td>\n",
       "      <td>0</td>\n",
       "      <td>1</td>\n",
       "      <td>0</td>\n",
       "      <td>2.0</td>\n",
       "      <td>-36.0</td>\n",
       "    </tr>\n",
       "    <tr>\n",
       "      <th>2</th>\n",
       "      <td>F</td>\n",
       "      <td>N</td>\n",
       "      <td>Y</td>\n",
       "      <td>0</td>\n",
       "      <td>69372.0</td>\n",
       "      <td>Working</td>\n",
       "      <td>Secondary / secondary special</td>\n",
       "      <td>Married</td>\n",
       "      <td>House / apartment</td>\n",
       "      <td>-15887</td>\n",
       "      <td>-217</td>\n",
       "      <td>1</td>\n",
       "      <td>1</td>\n",
       "      <td>1</td>\n",
       "      <td>0</td>\n",
       "      <td>2.0</td>\n",
       "      <td>-40.0</td>\n",
       "    </tr>\n",
       "    <tr>\n",
       "      <th>3</th>\n",
       "      <td>M</td>\n",
       "      <td>Y</td>\n",
       "      <td>N</td>\n",
       "      <td>0</td>\n",
       "      <td>112500.0</td>\n",
       "      <td>Commercial associate</td>\n",
       "      <td>Secondary / secondary special</td>\n",
       "      <td>Married</td>\n",
       "      <td>House / apartment</td>\n",
       "      <td>-19270</td>\n",
       "      <td>-2531</td>\n",
       "      <td>1</td>\n",
       "      <td>1</td>\n",
       "      <td>0</td>\n",
       "      <td>0</td>\n",
       "      <td>2.0</td>\n",
       "      <td>-41.0</td>\n",
       "    </tr>\n",
       "    <tr>\n",
       "      <th>4</th>\n",
       "      <td>F</td>\n",
       "      <td>Y</td>\n",
       "      <td>Y</td>\n",
       "      <td>0</td>\n",
       "      <td>225000.0</td>\n",
       "      <td>State servant</td>\n",
       "      <td>Higher education</td>\n",
       "      <td>Married</td>\n",
       "      <td>House / apartment</td>\n",
       "      <td>-17822</td>\n",
       "      <td>-9385</td>\n",
       "      <td>1</td>\n",
       "      <td>1</td>\n",
       "      <td>0</td>\n",
       "      <td>0</td>\n",
       "      <td>2.0</td>\n",
       "      <td>-8.0</td>\n",
       "    </tr>\n",
       "    <tr>\n",
       "      <th>...</th>\n",
       "      <td>...</td>\n",
       "      <td>...</td>\n",
       "      <td>...</td>\n",
       "      <td>...</td>\n",
       "      <td>...</td>\n",
       "      <td>...</td>\n",
       "      <td>...</td>\n",
       "      <td>...</td>\n",
       "      <td>...</td>\n",
       "      <td>...</td>\n",
       "      <td>...</td>\n",
       "      <td>...</td>\n",
       "      <td>...</td>\n",
       "      <td>...</td>\n",
       "      <td>...</td>\n",
       "      <td>...</td>\n",
       "      <td>...</td>\n",
       "    </tr>\n",
       "    <tr>\n",
       "      <th>9995</th>\n",
       "      <td>F</td>\n",
       "      <td>Y</td>\n",
       "      <td>Y</td>\n",
       "      <td>0</td>\n",
       "      <td>202500.0</td>\n",
       "      <td>Working</td>\n",
       "      <td>Incomplete higher</td>\n",
       "      <td>Married</td>\n",
       "      <td>House / apartment</td>\n",
       "      <td>-18593</td>\n",
       "      <td>-5434</td>\n",
       "      <td>1</td>\n",
       "      <td>1</td>\n",
       "      <td>1</td>\n",
       "      <td>0</td>\n",
       "      <td>2.0</td>\n",
       "      <td>-19.0</td>\n",
       "    </tr>\n",
       "    <tr>\n",
       "      <th>9996</th>\n",
       "      <td>M</td>\n",
       "      <td>Y</td>\n",
       "      <td>Y</td>\n",
       "      <td>0</td>\n",
       "      <td>202500.0</td>\n",
       "      <td>Working</td>\n",
       "      <td>Secondary / secondary special</td>\n",
       "      <td>Civil marriage</td>\n",
       "      <td>House / apartment</td>\n",
       "      <td>-10886</td>\n",
       "      <td>-1315</td>\n",
       "      <td>1</td>\n",
       "      <td>1</td>\n",
       "      <td>0</td>\n",
       "      <td>0</td>\n",
       "      <td>2.0</td>\n",
       "      <td>-34.0</td>\n",
       "    </tr>\n",
       "    <tr>\n",
       "      <th>9997</th>\n",
       "      <td>F</td>\n",
       "      <td>N</td>\n",
       "      <td>Y</td>\n",
       "      <td>0</td>\n",
       "      <td>292500.0</td>\n",
       "      <td>Working</td>\n",
       "      <td>Secondary / secondary special</td>\n",
       "      <td>Married</td>\n",
       "      <td>House / apartment</td>\n",
       "      <td>-21016</td>\n",
       "      <td>-14018</td>\n",
       "      <td>1</td>\n",
       "      <td>0</td>\n",
       "      <td>0</td>\n",
       "      <td>0</td>\n",
       "      <td>2.0</td>\n",
       "      <td>-55.0</td>\n",
       "    </tr>\n",
       "    <tr>\n",
       "      <th>9998</th>\n",
       "      <td>F</td>\n",
       "      <td>Y</td>\n",
       "      <td>N</td>\n",
       "      <td>0</td>\n",
       "      <td>180000.0</td>\n",
       "      <td>Commercial associate</td>\n",
       "      <td>Secondary / secondary special</td>\n",
       "      <td>Married</td>\n",
       "      <td>House / apartment</td>\n",
       "      <td>-16541</td>\n",
       "      <td>-1085</td>\n",
       "      <td>1</td>\n",
       "      <td>0</td>\n",
       "      <td>1</td>\n",
       "      <td>0</td>\n",
       "      <td>2.0</td>\n",
       "      <td>-33.0</td>\n",
       "    </tr>\n",
       "    <tr>\n",
       "      <th>9999</th>\n",
       "      <td>F</td>\n",
       "      <td>N</td>\n",
       "      <td>Y</td>\n",
       "      <td>0</td>\n",
       "      <td>270000.0</td>\n",
       "      <td>Working</td>\n",
       "      <td>Higher education</td>\n",
       "      <td>Married</td>\n",
       "      <td>House / apartment</td>\n",
       "      <td>-9154</td>\n",
       "      <td>-187</td>\n",
       "      <td>1</td>\n",
       "      <td>0</td>\n",
       "      <td>0</td>\n",
       "      <td>1</td>\n",
       "      <td>2.0</td>\n",
       "      <td>-11.0</td>\n",
       "    </tr>\n",
       "  </tbody>\n",
       "</table>\n",
       "<p>10000 rows × 17 columns</p>\n",
       "</div>"
      ],
      "text/plain": [
       "     gender car reality  child_num  income_total           income_type  \\\n",
       "0         M   Y       N          0      112500.0             Pensioner   \n",
       "1         F   N       Y          0      135000.0         State servant   \n",
       "2         F   N       Y          0       69372.0               Working   \n",
       "3         M   Y       N          0      112500.0  Commercial associate   \n",
       "4         F   Y       Y          0      225000.0         State servant   \n",
       "...     ...  ..     ...        ...           ...                   ...   \n",
       "9995      F   Y       Y          0      202500.0               Working   \n",
       "9996      M   Y       Y          0      202500.0               Working   \n",
       "9997      F   N       Y          0      292500.0               Working   \n",
       "9998      F   Y       N          0      180000.0  Commercial associate   \n",
       "9999      F   N       Y          0      270000.0               Working   \n",
       "\n",
       "                           edu_type     family_type         house_type  \\\n",
       "0     Secondary / secondary special  Civil marriage  House / apartment   \n",
       "1                  Higher education         Married  House / apartment   \n",
       "2     Secondary / secondary special         Married  House / apartment   \n",
       "3     Secondary / secondary special         Married  House / apartment   \n",
       "4                  Higher education         Married  House / apartment   \n",
       "...                             ...             ...                ...   \n",
       "9995              Incomplete higher         Married  House / apartment   \n",
       "9996  Secondary / secondary special  Civil marriage  House / apartment   \n",
       "9997  Secondary / secondary special         Married  House / apartment   \n",
       "9998  Secondary / secondary special         Married  House / apartment   \n",
       "9999               Higher education         Married  House / apartment   \n",
       "\n",
       "      DAYS_BIRTH  DAYS_EMPLOYED  FLAG_MOBIL  work_phone  phone  email  \\\n",
       "0         -21990         365243           1           0      1      0   \n",
       "1         -18964          -8671           1           0      1      0   \n",
       "2         -15887           -217           1           1      1      0   \n",
       "3         -19270          -2531           1           1      0      0   \n",
       "4         -17822          -9385           1           1      0      0   \n",
       "...          ...            ...         ...         ...    ...    ...   \n",
       "9995      -18593          -5434           1           1      1      0   \n",
       "9996      -10886          -1315           1           1      0      0   \n",
       "9997      -21016         -14018           1           0      0      0   \n",
       "9998      -16541          -1085           1           0      1      0   \n",
       "9999       -9154           -187           1           0      0      1   \n",
       "\n",
       "      family_size  begin_month  \n",
       "0             2.0        -60.0  \n",
       "1             2.0        -36.0  \n",
       "2             2.0        -40.0  \n",
       "3             2.0        -41.0  \n",
       "4             2.0         -8.0  \n",
       "...           ...          ...  \n",
       "9995          2.0        -19.0  \n",
       "9996          2.0        -34.0  \n",
       "9997          2.0        -55.0  \n",
       "9998          2.0        -33.0  \n",
       "9999          2.0        -11.0  \n",
       "\n",
       "[10000 rows x 17 columns]"
      ]
     },
     "execution_count": 43,
     "metadata": {},
     "output_type": "execute_result"
    }
   ],
   "source": [
    "test"
   ]
  },
  {
   "cell_type": "code",
   "execution_count": null,
   "id": "c1f14d94",
   "metadata": {},
   "outputs": [],
   "source": []
  }
 ],
 "metadata": {
  "kernelspec": {
   "display_name": "adp_code",
   "language": "python",
   "name": "adp_code"
  },
  "language_info": {
   "codemirror_mode": {
    "name": "ipython",
    "version": 3
   },
   "file_extension": ".py",
   "mimetype": "text/x-python",
   "name": "python",
   "nbconvert_exporter": "python",
   "pygments_lexer": "ipython3",
   "version": "3.7.16"
  }
 },
 "nbformat": 4,
 "nbformat_minor": 5
}
