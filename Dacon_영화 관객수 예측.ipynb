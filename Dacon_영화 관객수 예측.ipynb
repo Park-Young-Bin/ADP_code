{
 "cells": [
  {
   "cell_type": "markdown",
   "id": "64fcf7df",
   "metadata": {},
   "source": [
    "# [[Dacon] 영화 관객수 예측 경진대회](https://dacon.io/competitions/official/235536/overview/description)\n",
    "- 평가 산식 : RMSE\n",
    "- 변수 설명\n",
    "    - title : 영화의 제목\n",
    "    - distributor : 배급사\n",
    "    - genre : 장르\n",
    "    - release_time : 개봉일\n",
    "    - time : 상영시간(분)\n",
    "    - screening_rat : 상영등급\n",
    "    - director : 감독이름\n",
    "    - dir_prev_bfnum : 해당 감독이 이 영화를 만들기 전 제작에 참여한 영화에서의 평균 관객수(단 관객수가 알려지지 않은 영화 제외)\n",
    "    - dir_prev_num : 해당 감독이 이 영화를 만들기 전 제작에 참여한 영화의 개수(단 관객수가 알려지지 않은 영화 제외)\n",
    "    - num_staff : 스텝수\n",
    "    - num_actor : 주연배우수\n",
    "    - box_off_num : 관객수\n",
    "\n",
    "## 1. EDA"
   ]
  },
  {
   "cell_type": "code",
   "execution_count": 1,
   "id": "08502d42",
   "metadata": {},
   "outputs": [],
   "source": [
    "import pandas as pd\n",
    "import numpy as np\n",
    "import seaborn as sns\n",
    "import matplotlib.pyplot as plt\n",
    "import os\n",
    "import warnings\n",
    "warnings.filterwarnings('ignore')\n",
    "plt.rc('font', family = 'Malgun Gothic')\n",
    "plt.rcParams['axes.unicode_minus']=False"
   ]
  },
  {
   "cell_type": "code",
   "execution_count": 2,
   "id": "0bcc1e8a",
   "metadata": {},
   "outputs": [
    {
     "data": {
      "text/html": [
       "<div>\n",
       "<style scoped>\n",
       "    .dataframe tbody tr th:only-of-type {\n",
       "        vertical-align: middle;\n",
       "    }\n",
       "\n",
       "    .dataframe tbody tr th {\n",
       "        vertical-align: top;\n",
       "    }\n",
       "\n",
       "    .dataframe thead th {\n",
       "        text-align: right;\n",
       "    }\n",
       "</style>\n",
       "<table border=\"1\" class=\"dataframe\">\n",
       "  <thead>\n",
       "    <tr style=\"text-align: right;\">\n",
       "      <th></th>\n",
       "      <th>title</th>\n",
       "      <th>distributor</th>\n",
       "      <th>genre</th>\n",
       "      <th>release_time</th>\n",
       "      <th>time</th>\n",
       "      <th>screening_rat</th>\n",
       "      <th>director</th>\n",
       "      <th>dir_prev_bfnum</th>\n",
       "      <th>dir_prev_num</th>\n",
       "      <th>num_staff</th>\n",
       "      <th>num_actor</th>\n",
       "      <th>box_off_num</th>\n",
       "    </tr>\n",
       "  </thead>\n",
       "  <tbody>\n",
       "    <tr>\n",
       "      <th>0</th>\n",
       "      <td>개들의 전쟁</td>\n",
       "      <td>롯데엔터테인먼트</td>\n",
       "      <td>액션</td>\n",
       "      <td>2012-11-22</td>\n",
       "      <td>96</td>\n",
       "      <td>청소년 관람불가</td>\n",
       "      <td>조병옥</td>\n",
       "      <td>NaN</td>\n",
       "      <td>0</td>\n",
       "      <td>91</td>\n",
       "      <td>2</td>\n",
       "      <td>23398</td>\n",
       "    </tr>\n",
       "    <tr>\n",
       "      <th>1</th>\n",
       "      <td>내부자들</td>\n",
       "      <td>(주)쇼박스</td>\n",
       "      <td>느와르</td>\n",
       "      <td>2015-11-19</td>\n",
       "      <td>130</td>\n",
       "      <td>청소년 관람불가</td>\n",
       "      <td>우민호</td>\n",
       "      <td>1161602.50</td>\n",
       "      <td>2</td>\n",
       "      <td>387</td>\n",
       "      <td>3</td>\n",
       "      <td>7072501</td>\n",
       "    </tr>\n",
       "    <tr>\n",
       "      <th>2</th>\n",
       "      <td>은밀하게 위대하게</td>\n",
       "      <td>(주)쇼박스</td>\n",
       "      <td>액션</td>\n",
       "      <td>2013-06-05</td>\n",
       "      <td>123</td>\n",
       "      <td>15세 관람가</td>\n",
       "      <td>장철수</td>\n",
       "      <td>220775.25</td>\n",
       "      <td>4</td>\n",
       "      <td>343</td>\n",
       "      <td>4</td>\n",
       "      <td>6959083</td>\n",
       "    </tr>\n",
       "    <tr>\n",
       "      <th>3</th>\n",
       "      <td>나는 공무원이다</td>\n",
       "      <td>(주)NEW</td>\n",
       "      <td>코미디</td>\n",
       "      <td>2012-07-12</td>\n",
       "      <td>101</td>\n",
       "      <td>전체 관람가</td>\n",
       "      <td>구자홍</td>\n",
       "      <td>23894.00</td>\n",
       "      <td>2</td>\n",
       "      <td>20</td>\n",
       "      <td>6</td>\n",
       "      <td>217866</td>\n",
       "    </tr>\n",
       "    <tr>\n",
       "      <th>4</th>\n",
       "      <td>불량남녀</td>\n",
       "      <td>쇼박스(주)미디어플렉스</td>\n",
       "      <td>코미디</td>\n",
       "      <td>2010-11-04</td>\n",
       "      <td>108</td>\n",
       "      <td>15세 관람가</td>\n",
       "      <td>신근호</td>\n",
       "      <td>1.00</td>\n",
       "      <td>1</td>\n",
       "      <td>251</td>\n",
       "      <td>2</td>\n",
       "      <td>483387</td>\n",
       "    </tr>\n",
       "  </tbody>\n",
       "</table>\n",
       "</div>"
      ],
      "text/plain": [
       "       title   distributor genre release_time  time screening_rat director  \\\n",
       "0     개들의 전쟁      롯데엔터테인먼트    액션   2012-11-22    96      청소년 관람불가      조병옥   \n",
       "1       내부자들        (주)쇼박스   느와르   2015-11-19   130      청소년 관람불가      우민호   \n",
       "2  은밀하게 위대하게        (주)쇼박스    액션   2013-06-05   123       15세 관람가      장철수   \n",
       "3   나는 공무원이다        (주)NEW   코미디   2012-07-12   101        전체 관람가      구자홍   \n",
       "4       불량남녀  쇼박스(주)미디어플렉스   코미디   2010-11-04   108       15세 관람가      신근호   \n",
       "\n",
       "   dir_prev_bfnum  dir_prev_num  num_staff  num_actor  box_off_num  \n",
       "0             NaN             0         91          2        23398  \n",
       "1      1161602.50             2        387          3      7072501  \n",
       "2       220775.25             4        343          4      6959083  \n",
       "3        23894.00             2         20          6       217866  \n",
       "4            1.00             1        251          2       483387  "
      ]
     },
     "metadata": {},
     "output_type": "display_data"
    },
    {
     "name": "stdout",
     "output_type": "stream",
     "text": [
      "<class 'pandas.core.frame.DataFrame'>\n",
      "RangeIndex: 600 entries, 0 to 599\n",
      "Data columns (total 12 columns):\n",
      " #   Column          Non-Null Count  Dtype  \n",
      "---  ------          --------------  -----  \n",
      " 0   title           600 non-null    object \n",
      " 1   distributor     600 non-null    object \n",
      " 2   genre           600 non-null    object \n",
      " 3   release_time    600 non-null    object \n",
      " 4   time            600 non-null    int64  \n",
      " 5   screening_rat   600 non-null    object \n",
      " 6   director        600 non-null    object \n",
      " 7   dir_prev_bfnum  270 non-null    float64\n",
      " 8   dir_prev_num    600 non-null    int64  \n",
      " 9   num_staff       600 non-null    int64  \n",
      " 10  num_actor       600 non-null    int64  \n",
      " 11  box_off_num     600 non-null    int64  \n",
      "dtypes: float64(1), int64(5), object(6)\n",
      "memory usage: 56.4+ KB\n",
      "None\n",
      "(600, 12)\n"
     ]
    }
   ],
   "source": [
    "df = pd.read_csv(os.getcwd() + '/data/movie_num/movies_train.csv')\n",
    "display(df.head())\n",
    "print(df.info())\n",
    "print(df.shape)"
   ]
  },
  {
   "cell_type": "code",
   "execution_count": 6,
   "id": "e47be21d",
   "metadata": {},
   "outputs": [
    {
     "data": {
      "text/plain": [
       "0"
      ]
     },
     "execution_count": 6,
     "metadata": {},
     "output_type": "execute_result"
    }
   ],
   "source": [
    "# 중복행 개수\n",
    "df.duplicated().sum()"
   ]
  },
  {
   "cell_type": "code",
   "execution_count": 24,
   "id": "863fa4ad",
   "metadata": {},
   "outputs": [
    {
     "name": "stdout",
     "output_type": "stream",
     "text": [
      "- \"title\" 컬럼의 범주 개수: 600\n",
      "- \"distributor\" 컬럼의 범주 개수: 169\n",
      "- \"genre\" 컬럼의 범주 개수: 12\n",
      "- \"release_time\" 컬럼의 범주 개수: 330\n",
      "- \"screening_rat\" 컬럼의 범주 개수: 4\n",
      "- \"director\" 컬럼의 범주 개수: 472\n"
     ]
    }
   ],
   "source": [
    "cate_cols = df.select_dtypes(include='object').columns\n",
    "for col in cate_cols:\n",
    "    print(f'- \"{col}\" 컬럼의 범주 개수: {len(df[col].unique())}')"
   ]
  },
  {
   "cell_type": "code",
   "execution_count": 4,
   "id": "9dcd4166",
   "metadata": {},
   "outputs": [
    {
     "data": {
      "text/html": [
       "<div>\n",
       "<style scoped>\n",
       "    .dataframe tbody tr th:only-of-type {\n",
       "        vertical-align: middle;\n",
       "    }\n",
       "\n",
       "    .dataframe tbody tr th {\n",
       "        vertical-align: top;\n",
       "    }\n",
       "\n",
       "    .dataframe thead th {\n",
       "        text-align: right;\n",
       "    }\n",
       "</style>\n",
       "<table border=\"1\" class=\"dataframe\">\n",
       "  <thead>\n",
       "    <tr style=\"text-align: right;\">\n",
       "      <th></th>\n",
       "      <th>genre</th>\n",
       "      <th>time</th>\n",
       "      <th>screening_rat</th>\n",
       "      <th>dir_prev_num</th>\n",
       "      <th>num_staff</th>\n",
       "      <th>num_actor</th>\n",
       "      <th>box_off_num</th>\n",
       "      <th>year</th>\n",
       "      <th>month</th>\n",
       "      <th>day</th>\n",
       "      <th>weekday</th>\n",
       "    </tr>\n",
       "  </thead>\n",
       "  <tbody>\n",
       "    <tr>\n",
       "      <th>0</th>\n",
       "      <td>액션</td>\n",
       "      <td>96</td>\n",
       "      <td>청소년 관람불가</td>\n",
       "      <td>0</td>\n",
       "      <td>91</td>\n",
       "      <td>2</td>\n",
       "      <td>23398</td>\n",
       "      <td>2012</td>\n",
       "      <td>11</td>\n",
       "      <td>22</td>\n",
       "      <td>3</td>\n",
       "    </tr>\n",
       "    <tr>\n",
       "      <th>1</th>\n",
       "      <td>느와르</td>\n",
       "      <td>130</td>\n",
       "      <td>청소년 관람불가</td>\n",
       "      <td>2</td>\n",
       "      <td>387</td>\n",
       "      <td>3</td>\n",
       "      <td>7072501</td>\n",
       "      <td>2015</td>\n",
       "      <td>11</td>\n",
       "      <td>19</td>\n",
       "      <td>3</td>\n",
       "    </tr>\n",
       "    <tr>\n",
       "      <th>2</th>\n",
       "      <td>액션</td>\n",
       "      <td>123</td>\n",
       "      <td>15세 관람가</td>\n",
       "      <td>4</td>\n",
       "      <td>343</td>\n",
       "      <td>4</td>\n",
       "      <td>6959083</td>\n",
       "      <td>2013</td>\n",
       "      <td>6</td>\n",
       "      <td>5</td>\n",
       "      <td>2</td>\n",
       "    </tr>\n",
       "  </tbody>\n",
       "</table>\n",
       "</div>"
      ],
      "text/plain": [
       "  genre  time screening_rat  dir_prev_num  num_staff  num_actor  box_off_num  \\\n",
       "0    액션    96      청소년 관람불가             0         91          2        23398   \n",
       "1   느와르   130      청소년 관람불가             2        387          3      7072501   \n",
       "2    액션   123       15세 관람가             4        343          4      6959083   \n",
       "\n",
       "   year  month  day  weekday  \n",
       "0  2012     11   22        3  \n",
       "1  2015     11   19        3  \n",
       "2  2013      6    5        2  "
      ]
     },
     "execution_count": 4,
     "metadata": {},
     "output_type": "execute_result"
    }
   ],
   "source": [
    "# release_time을 datetime으로 변경\n",
    "release_time = df['release_time'] # 원본 저장\n",
    "df['release_time'] = pd.to_datetime(df['release_time'])\n",
    "\n",
    "# release_time에서 연도, 월, 일, 요일 추출\n",
    "df['year'] = df['release_time'].dt.year\n",
    "df['month'] = df['release_time'].dt.month\n",
    "df['day'] = df['release_time'].dt.day\n",
    "df['weekday'] = df['release_time'].dt.weekday\n",
    "\n",
    "# 불필요한 컬럼 삭제\n",
    "df.drop(['title', 'distributor', 'director', 'release_time', 'dir_prev_bfnum'], axis=1, inplace=True)\n",
    "\n",
    "df.head(3)"
   ]
  },
  {
   "cell_type": "code",
   "execution_count": 34,
   "id": "1a14d5cf",
   "metadata": {},
   "outputs": [
    {
     "data": {
      "image/png": "[encoded data removed]",
      "text/plain": [
       "<Figure size 640x480 with 9 Axes>"
      ]
     },
     "metadata": {},
     "output_type": "display_data"
    }
   ],
   "source": [
    "# 히스토그램\n",
    "df.hist()\n",
    "plt.tight_layout();"
   ]
  },
  {
   "cell_type": "code",
   "execution_count": 95,
   "id": "cc5f7075",
   "metadata": {},
   "outputs": [
    {
     "data": {
      "image/png": "[encoded data removed]",
      "text/plain": [
       "<Figure size 1000x400 with 6 Axes>"
      ]
     },
     "metadata": {},
     "output_type": "display_data"
    }
   ],
   "source": [
    "# 범주형 컬럼의 막대그래프\n",
    "cat_features = ['genre', 'screening_rat', 'year', 'month', 'day', 'weekday']\n",
    "fig, ax = plt.subplots(figsize=(10, 4), ncols=3, nrows=2)\n",
    "for i, feature in enumerate(cat_features):\n",
    "    row = int(i/3)\n",
    "    col = i%3\n",
    "    sns.barplot(x=feature, y='box_off_num', data=df, ax=ax[row][col], ci=None)\n",
    "    ax[row][col].tick_params(axis='x', labelsize=8)\n",
    "    ax[0][0].tick_params(axis='x', rotation=90)\n",
    "    ax[0][1].tick_params(axis='x', rotation=20)\n",
    "    plt.tight_layout()"
   ]
  },
  {
   "cell_type": "code",
   "execution_count": 103,
   "id": "338034ed",
   "metadata": {},
   "outputs": [
    {
     "data": {
      "image/png": "[encoded data removed]",
      "text/plain": [
       "<Figure size 1000x200 with 4 Axes>"
      ]
     },
     "metadata": {},
     "output_type": "display_data"
    }
   ],
   "source": [
    "# 수치형 변수와 영화 관객수 간의 산점도\n",
    "num_features = df.drop(cat_features, axis=1).columns\n",
    "fig, ax = plt.subplots(figsize=(10, 2), ncols=4, nrows=1)\n",
    "for i, feature in enumerate(num_features[:-1]):\n",
    "    row = int(i/4)\n",
    "    col = i%4\n",
    "    sns.regplot(x=feature, y='box_off_num', data=df, ax=ax[col], ci=None)\n",
    "    plt.tight_layout()"
   ]
  },
  {
   "cell_type": "code",
   "execution_count": 71,
   "id": "f2e1accf",
   "metadata": {},
   "outputs": [
    {
     "data": {
      "image/png": "[encoded data removed]",
      "text/plain": [
       "<Figure size 500x400 with 2 Axes>"
      ]
     },
     "metadata": {},
     "output_type": "display_data"
    }
   ],
   "source": [
    "df_corr = df.corr()\n",
    "plt.figure(figsize=(5,4))\n",
    "sns.heatmap(df_corr, annot=True, cmap='RdBu', fmt='.2f', linewidth=.2, vmin=-1, vmax=1, annot_kws={'fontsize': 9});"
   ]
  },
  {
   "cell_type": "markdown",
   "id": "76d691c8",
   "metadata": {},
   "source": [
    "[해석]\n",
    "1. 결측치 존재 여부\n",
    "\t- dir_prev_bfnum 변수에서 270개의 결측치가 보이는데, 전체 데이터 600건 대비 약 절반 정도가 결측치 이므로 제거하였다.\n",
    "1. 데이터 타입 설명\n",
    "\t- 종속변수인 box_off_num은 int형이고, 나머지 독립변수는 object, int, float형으로 구성되었다.\n",
    "1. 종속변수와 독립변수의 상관관계\n",
    "\t- 상대적으로 높은 상관성을 보이는 변수는 num_staff이며, 상관계수값은 +0.54이다.\n",
    "1. 독립변수 상관관계\n",
    "\t- 다중공선성을 의심할 만큼 상관성(0.9 이상)이 큰 변수는 없었다.\n",
    "\t- 가장 상관성이 높은 변수는 num_staff와 time이며 상관계수값은 +0.62이다.\n",
    "1. 데이터 질을 향상시킬 수 있는 방법\n",
    "\t- release_time 변수를 datetime형으로 변환한 뒤에, 연도, 월, 일, 요일 값을 추출하였고, 기존의 release_time 변수는 삭제하였다.\n",
    "\t- 범주형 변수인 title, distributor, director 변수들은 범주의 개수가 많기에 원-핫 인코딩을 수행하면 컬럼수가 대폭 증가할 것이다. 따라서 모델 학습에 시간 소요가 클 것을 우려하여 분석 대상에서 제외하였다.\n",
    "\t- 하지만 genre와 screening_rat는 범주 개수가 상대적으로 적어서 분석 대상에 포함하였다.\n",
    "\t- num_staff, num_actor, 그리고 box_off_num 분포가 왼쪽으로 치우쳐져 있기에 정규화 및 로그 변환으로 정규 분포 형태로 바꾸어 주는 것이 좋을 것이다."
   ]
  },
  {
   "cell_type": "code",
   "execution_count": 115,
   "id": "9f2a2554",
   "metadata": {},
   "outputs": [
    {
     "data": {
      "text/html": [
       "<div>\n",
       "<style scoped>\n",
       "    .dataframe tbody tr th:only-of-type {\n",
       "        vertical-align: middle;\n",
       "    }\n",
       "\n",
       "    .dataframe tbody tr th {\n",
       "        vertical-align: top;\n",
       "    }\n",
       "\n",
       "    .dataframe thead tr th {\n",
       "        text-align: left;\n",
       "    }\n",
       "\n",
       "    .dataframe thead tr:last-of-type th {\n",
       "        text-align: right;\n",
       "    }\n",
       "</style>\n",
       "<table border=\"1\" class=\"dataframe\">\n",
       "  <thead>\n",
       "    <tr>\n",
       "      <th></th>\n",
       "      <th colspan=\"4\" halign=\"left\">box_off_num</th>\n",
       "    </tr>\n",
       "    <tr>\n",
       "      <th></th>\n",
       "      <th>mean</th>\n",
       "      <th>median</th>\n",
       "      <th>max</th>\n",
       "      <th>min</th>\n",
       "    </tr>\n",
       "    <tr>\n",
       "      <th>screening_rat</th>\n",
       "      <th></th>\n",
       "      <th></th>\n",
       "      <th></th>\n",
       "      <th></th>\n",
       "    </tr>\n",
       "  </thead>\n",
       "  <tbody>\n",
       "    <tr>\n",
       "      <th>12세 관람가</th>\n",
       "      <td>8.449809e+05</td>\n",
       "      <td>19323.0</td>\n",
       "      <td>14262766</td>\n",
       "      <td>90</td>\n",
       "    </tr>\n",
       "    <tr>\n",
       "      <th>15세 관람가</th>\n",
       "      <td>1.247519e+06</td>\n",
       "      <td>242381.0</td>\n",
       "      <td>12983841</td>\n",
       "      <td>36</td>\n",
       "    </tr>\n",
       "    <tr>\n",
       "      <th>전체 관람가</th>\n",
       "      <td>1.351005e+05</td>\n",
       "      <td>8325.0</td>\n",
       "      <td>4802169</td>\n",
       "      <td>65</td>\n",
       "    </tr>\n",
       "    <tr>\n",
       "      <th>청소년 관람불가</th>\n",
       "      <td>3.641813e+05</td>\n",
       "      <td>3008.5</td>\n",
       "      <td>7072501</td>\n",
       "      <td>1</td>\n",
       "    </tr>\n",
       "  </tbody>\n",
       "</table>\n",
       "</div>"
      ],
      "text/plain": [
       "                box_off_num                        \n",
       "                       mean    median       max min\n",
       "screening_rat                                      \n",
       "12세 관람가        8.449809e+05   19323.0  14262766  90\n",
       "15세 관람가        1.247519e+06  242381.0  12983841  36\n",
       "전체 관람가         1.351005e+05    8325.0   4802169  65\n",
       "청소년 관람불가       3.641813e+05    3008.5   7072501   1"
      ]
     },
     "execution_count": 115,
     "metadata": {},
     "output_type": "execute_result"
    }
   ],
   "source": [
    "# 상영등급별 관객수 통계량\n",
    "df[['screening_rat', 'box_off_num']].groupby('screening_rat').agg(['mean', 'median', 'max', 'min'])"
   ]
  },
  {
   "cell_type": "markdown",
   "id": "e4f0eaef",
   "metadata": {},
   "source": [
    "## 2. 통계 분석\n",
    "### 1) z-test\n",
    "- 귀무가설: 평균 영화 상영시간은 110 시간이다.\n",
    "- 대립가설: 평균 영화 상영시간은 110 시간이 아니다."
   ]
  },
  {
   "cell_type": "code",
   "execution_count": 128,
   "id": "c03a6892",
   "metadata": {},
   "outputs": [],
   "source": [
    "def peam_test(sample, mean0, p_var, alpha=0.05):\n",
    "    s_mean = np.mean(sample)\n",
    "    n = len(sample)\n",
    "    rv = stats.norm()\n",
    "    interval = rv.interval(1-alpha)\n",
    "    \n",
    "    z = (s_mean-mean0) / np.sqrt(p_var/n)\n",
    "    if interval[0] <= z <= interval[1]: print('귀무가설을 채택')\n",
    "    else: print('귀무가설을 기각')\n",
    "        \n",
    "    if z < 0: p = rv.cdf(z)*2\n",
    "    else: p = (1-rv.cdf(z))*2\n",
    "    print(f'p-값은 {p:.3f}')"
   ]
  },
  {
   "cell_type": "code",
   "execution_count": 147,
   "id": "aa2d7198",
   "metadata": {},
   "outputs": [
    {
     "name": "stdout",
     "output_type": "stream",
     "text": [
      "귀무가설을 기각\n",
      "p-값은 0.001\n",
      "-------------------- \n",
      "<신뢰구간>\n",
      "신뢰구간: (99.41646333529889, 102.31020333136777)\n",
      "μ0인 110가 신뢰구간에 포함하지 않기에 귀무가설을 기각함.\n",
      "-------------------- \n",
      "<검정통계량과 z-score 비교>\n",
      "검정통계량 z값(=|-3.3786|) > z(0.025)(=1.96) 이므로 귀무가설을 기각함.\n"
     ]
    }
   ],
   "source": [
    "import scipy.stats as stats\n",
    "np.random.seed(0)\n",
    "sample = np.random.choice(df['time'], 50)\n",
    "p_var = np.var(df.time)\n",
    "\n",
    "peam_test(sample, 110, p_var)\n",
    "print('-'*20, '\\n<신뢰구간>')\n",
    "print('신뢰구간:', stats.norm.interval(alpha=0.95, loc=np.mean(df['time']), scale = np.sqrt(p_var/len(df)) ) )\n",
    "print(f'μ0인 110가 신뢰구간에 포함하지 않기에 귀무가설을 기각함.')\n",
    "\n",
    "print('-'*20, '\\n<검정통계량과 z-score 비교>')\n",
    "z=( np.mean(sample) - 110 ) / np.sqrt(p_var/len(sample))\n",
    "print(f'검정통계량 z값(=|{round(z, 4)}|) > z(0.025)(={round(stats.norm.isf(0.025), 4)}) 이므로 귀무가설을 기각함.')"
   ]
  },
  {
   "cell_type": "markdown",
   "id": "03ae5ae0",
   "metadata": {},
   "source": [
    "### 1) 일표본 t-검정 (모분산을 모른다고 가정함)\n",
    "- 귀무가설: 평균 주연 배우수는 4명이다.\n",
    "- 대립가설: 평균 주연 배우수는 4명이 아니다."
   ]
  },
  {
   "cell_type": "code",
   "execution_count": 158,
   "id": "2b94dae5",
   "metadata": {},
   "outputs": [
    {
     "name": "stdout",
     "output_type": "stream",
     "text": [
      "귀무가설 채택\n",
      "p값은 0.729\n",
      "-------------------- \n",
      "<신뢰구간>\n",
      "신뢰구간: (2.7632083699025425, 5.736791630097457)\n",
      "μ0인 4가 신뢰구간에 포함하므로 귀무가설을 채택할 수 있음.\n",
      "-------------------- \n",
      "<검정통계량과 t-score 비교>\n",
      "검정통계량 t값(=0.3519) < t(0.025, 20)(=2.093) 이므로 귀무가설을 채택함.\n"
     ]
    }
   ],
   "source": [
    "def pmean_test(sample, mean0, alpha=0.05):\n",
    "    s_mean=np.mean(sample)\n",
    "    u_var = np.var(sample, ddof=1)\n",
    "    n = len(sample)\n",
    "    rv = stats.t(df=n-1)\n",
    "    interval = rv.interval(1-alpha)\n",
    "    \n",
    "    t = (s_mean - mean0) / np.sqrt(u_var/n)\n",
    "    if interval[0] <= t <= interval[1]: print('귀무가설 채택')\n",
    "    else: print('귀무가설 기각')\n",
    "        \n",
    "    if t < 0: p = rv.cdf(t) * 2\n",
    "    else: p = (1-rv.cdf(t)) * 2\n",
    "    print(f'p값은 {p:.3f}')\n",
    "    \n",
    "np.random.seed(1234)\n",
    "sample = np.random.choice(df['num_actor'], 20)\n",
    "pmean_test(sample, 4)\n",
    "print('-'*20, '\\n<신뢰구간>')\n",
    "print('신뢰구간:', stats.t.interval(alpha=0.95, df=len(sample)-1, loc=np.mean(sample), scale = stats.sem(sample)))\n",
    "print(f'μ0인 4가 신뢰구간에 포함하므로 귀무가설을 채택할 수 있음.')\n",
    "\n",
    "print('-'*20, '\\n<검정통계량과 t-score 비교>')\n",
    "s_mean = np.mean(sample)\n",
    "u_var = np.var(sample, ddof=1)\n",
    "n = len(sample)\n",
    "t = (s_mean-4) / np.sqrt(u_var/n)\n",
    "print(f'검정통계량 t값(={round(t, 4)}) < t(0.025, {n})(={round(stats.t(n-1).isf(0.025), 4)}) 이므로 귀무가설을 채택함.')"
   ]
  },
  {
   "cell_type": "code",
   "execution_count": 161,
   "id": "0add36b0",
   "metadata": {},
   "outputs": [
    {
     "data": {
      "text/plain": [
       "Ttest_1sampResult(statistic=0.3519363460283717, pvalue=0.7287592351957487)"
      ]
     },
     "execution_count": 161,
     "metadata": {},
     "output_type": "execute_result"
    }
   ],
   "source": [
    "# stats 패키지를 활용한 검정(간단함)\n",
    "stats.shapiro(sample) # 정규성 만족\n",
    "stats.ttest_1samp(sample, popmean=4) # 일표본 t검정"
   ]
  },
  {
   "cell_type": "markdown",
   "id": "829dfe9f",
   "metadata": {},
   "source": [
    "### 3) 독립표본 t-검정(유의수준 0.05)\n",
    "- 귀무가설: 2012년 평균 관객수와 2013년 평균 관객수에 차이가 없다.\n",
    "- 대립가설: 2012년 평균 관객수와 2013년 평균 관객수에 차이가 있다."
   ]
  },
  {
   "cell_type": "code",
   "execution_count": 19,
   "id": "19f0f5b6",
   "metadata": {},
   "outputs": [
    {
     "data": {
      "text/plain": [
       "MannwhitneyuResult(statistic=178.0, pvalue=0.8191393543865961)"
      ]
     },
     "execution_count": 19,
     "metadata": {},
     "output_type": "execute_result"
    }
   ],
   "source": [
    "import scipy.stats as stats\n",
    "\n",
    "a_sample = np.random.choice(df.loc[df['year']==2012, 'box_off_num'], 20)\n",
    "b_sample = np.random.choice(df.loc[df['year']==2013, 'box_off_num'], 17)\n",
    "\n",
    "stats.shapiro(a_sample) # 정규성 만족 안함\n",
    "stats.shapiro(b_sample) # 정규성 만족 안함\n",
    "\n",
    "# 맨-휘트니U 검정\n",
    "stats.mannwhitneyu(a_sample, b_sample) # 귀무가설을 채택함."
   ]
  },
  {
   "cell_type": "code",
   "execution_count": 20,
   "id": "2fd6998e",
   "metadata": {},
   "outputs": [
    {
     "data": {
      "text/plain": [
       "Ttest_indResult(statistic=-0.17088369916604798, pvalue=0.8652992977012797)"
      ]
     },
     "execution_count": 20,
     "metadata": {},
     "output_type": "execute_result"
    }
   ],
   "source": [
    "# 만약 정규성과 등분산성을 만족한다면\n",
    "stats.ttest_ind(a_sample, b_sample) # 귀무가설 채택"
   ]
  },
  {
   "cell_type": "code",
   "execution_count": 29,
   "id": "f37ceaf4",
   "metadata": {},
   "outputs": [
    {
     "name": "stdout",
     "output_type": "stream",
     "text": [
      "<신뢰구간>\n",
      "CI: (-1000602.3130498376, 584793.9071674846)\n",
      "두 집단의 평균 차이가 -207904.2029인데, 신뢰구간에 포함하므로 귀무가설을 채택할 수 있음.\n",
      "-------------------- \n",
      "<검정통계량과 t-score 비교>\n",
      "검정통계량 t값(=|-0.1756|) < t(0.025, 35)(=2.0301) 이므로 귀무가설을 채택함.\n"
     ]
    }
   ],
   "source": [
    "def sp(data1, data2):\n",
    "    df = len(data1) + len(data2) - 2\n",
    "    s1 = (len(data1)-1) * (data1.std()**2)\n",
    "    s2 = (len(data2)-1) * (data2.std()**2)\n",
    "    sp = np.sqrt((s1+s2)/df)\n",
    "    return sp\n",
    "\n",
    "alpha=0.95\n",
    "dof = len(a_sample) + len(b_sample)-2\n",
    "diff_mean = np.mean(a_sample) - np.mean(b_sample)\n",
    "s = sp(a_sample, b_sample)*(1/len(a_sample) + 1/len(b_sample))\n",
    "print('<신뢰구간>')\n",
    "print('CI:', stats.t.interval(alpha, dof, loc=diff_mean, scale=s))\n",
    "print(f'두 집단의 평균 차이가 {round(diff_mean, 4)}인데, 신뢰구간에 포함하므로 귀무가설을 채택할 수 있음.')\n",
    "\n",
    "print('-'*20, '\\n<검정통계량과 t-score 비교>')\n",
    "t = diff_mean / sp(a_sample, b_sample) / (1/len(a_sample) + 1/len(b_sample))**0.5\n",
    "print(f'검정통계량 t값(=|{round(t, 4)}|) < t(0.025, {dof})(={round(stats.t(dof).isf(0.025), 4)}) 이므로 귀무가설을 채택함.')"
   ]
  },
  {
   "cell_type": "markdown",
   "id": "b64fb3bf",
   "metadata": {},
   "source": [
    "### 4) 분산분석(유의수준 0.05)\n",
    "- 귀무가설: screening_rat에 따라 관객수에 차이가 없다.\n",
    "- 대립가설: screening_rat에 따라 관객수에 차이가 있다."
   ]
  },
  {
   "cell_type": "code",
   "execution_count": 31,
   "id": "35527571",
   "metadata": {},
   "outputs": [
    {
     "data": {
      "text/plain": [
       "array(['청소년 관람불가', '15세 관람가', '전체 관람가', '12세 관람가'], dtype=object)"
      ]
     },
     "execution_count": 31,
     "metadata": {},
     "output_type": "execute_result"
    }
   ],
   "source": [
    "df['screening_rat'].unique()"
   ]
  },
  {
   "cell_type": "code",
   "execution_count": 40,
   "id": "3b23a70e",
   "metadata": {},
   "outputs": [
    {
     "name": "stdout",
     "output_type": "stream",
     "text": [
      "ShapiroResult(statistic=0.4230273962020874, pvalue=3.493528450743978e-25)\n",
      "ShapiroResult(statistic=0.5457141399383545, pvalue=1.1726784649747811e-22)\n",
      "ShapiroResult(statistic=0.23940962553024292, pvalue=1.2516528675285887e-19)\n",
      "ShapiroResult(statistic=0.47243714332580566, pvalue=1.912598078794495e-17)\n"
     ]
    },
    {
     "data": {
      "text/plain": [
       "KruskalResult(statistic=51.76476633686402, pvalue=3.361554538378921e-11)"
      ]
     },
     "execution_count": 40,
     "metadata": {},
     "output_type": "execute_result"
    }
   ],
   "source": [
    "nokids = df.loc[df['screening_rat']=='청소년 관람불가', 'box_off_num']\n",
    "fifteen = df.loc[df['screening_rat']=='15세 관람가', 'box_off_num']\n",
    "allpeople = df.loc[df['screening_rat']=='전체 관람가', 'box_off_num']\n",
    "twelve = df.loc[df['screening_rat']=='12세 관람가', 'box_off_num']\n",
    "\n",
    "# 정규성 검정(모두 만족 못함)\n",
    "print(stats.shapiro(nokids)); print(stats.shapiro(fifteen)); print(stats.shapiro(allpeople)); print(stats.shapiro(twelve))\n",
    "\n",
    "# 크루크칼 왈리스 검정\n",
    "stats.kruskal(nokids, fifteen, allpeople, twelve) # 귀무가설 기각"
   ]
  },
  {
   "cell_type": "code",
   "execution_count": 43,
   "id": "90428610",
   "metadata": {},
   "outputs": [
    {
     "data": {
      "image/png": "[encoded data removed]",
      "text/plain": [
       "<Figure size 500x300 with 1 Axes>"
      ]
     },
     "metadata": {},
     "output_type": "display_data"
    }
   ],
   "source": [
    "from statsmodels.stats.multicomp import pairwise_tukeyhsd, MultiComparison\n",
    "mc = MultiComparison(data=df['box_off_num'], groups=df['screening_rat'])\n",
    "tuekeyhsd = mc.tukeyhsd(alpha=0.95)\n",
    "fig = tuekeyhsd.plot_simultaneous(figsize=(5, 3))"
   ]
  },
  {
   "cell_type": "code",
   "execution_count": 44,
   "id": "5551e458",
   "metadata": {},
   "outputs": [
    {
     "data": {
      "text/html": [
       "<table class=\"simpletable\">\n",
       "<caption>Multiple Comparison of Means - Tukey HSD, FWER=0.95</caption>\n",
       "<tr>\n",
       "  <th>group1</th>   <th>group2</th>    <th>meandiff</th>    <th>p-adj</th>     <th>lower</th>         <th>upper</th>    <th>reject</th>\n",
       "</tr>\n",
       "<tr>\n",
       "  <td>12세 관람가</td>  <td>15세 관람가</td>  <td>402537.7416</td> <td>0.2454</td>  <td>286501.7136</td>   <td>518573.7696</td>  <td>True</td> \n",
       "</tr>\n",
       "<tr>\n",
       "  <td>12세 관람가</td>  <td>전체 관람가</td>  <td>-709880.4454</td>  <td>0.029</td>  <td>-847233.619</td>  <td>-572527.2719</td>  <td>True</td> \n",
       "</tr>\n",
       "<tr>\n",
       "  <td>12세 관람가</td> <td>청소년 관람불가</td> <td>-480799.5735</td> <td>0.1168</td> <td>-596644.5956</td>  <td>-364954.5515</td>  <td>True</td> \n",
       "</tr>\n",
       "<tr>\n",
       "  <td>15세 관람가</td>  <td>전체 관람가</td>  <td>-1112418.187</td>   <td>0.0</td>  <td>-1232571.5414</td> <td>-992264.8327</td>  <td>True</td> \n",
       "</tr>\n",
       "<tr>\n",
       "  <td>15세 관람가</td> <td>청소년 관람불가</td> <td>-883337.3151</td>   <td>0.0</td>  <td>-978158.2169</td>  <td>-788516.4134</td>  <td>True</td> \n",
       "</tr>\n",
       "<tr>\n",
       "  <td>전체 관람가</td>  <td>청소년 관람불가</td>  <td>229080.8719</td> <td>0.7347</td>  <td>109111.968</td>    <td>349049.7758</td>  <td>True</td> \n",
       "</tr>\n",
       "</table>"
      ],
      "text/plain": [
       "<class 'statsmodels.iolib.table.SimpleTable'>"
      ]
     },
     "execution_count": 44,
     "metadata": {},
     "output_type": "execute_result"
    }
   ],
   "source": [
    "tuekeyhsd.summary()"
   ]
  },
  {
   "cell_type": "markdown",
   "id": "c3f5f41a",
   "metadata": {},
   "source": [
    "## 3. 머신러닝"
   ]
  },
  {
   "cell_type": "code",
   "execution_count": 39,
   "id": "ce1112fd",
   "metadata": {},
   "outputs": [],
   "source": [
    "from sklearn.preprocessing import StandardScaler\n",
    "from sklearn.model_selection import train_test_split, GridSearchCV, cross_val_score\n",
    "from sklearn.metrics import mean_squared_error\n",
    "from sklearn.linear_model import LinearRegression, Ridge, Lasso\n",
    "\n",
    "df_ohe = pd.get_dummies(df, drop_first=True) # 원-핫 인코딩 수행\n",
    "\n",
    "X = df_ohe.drop(['box_off_num'],axis=1)\n",
    "y = df_ohe['box_off_num']\n",
    "\n",
    "X_train, X_test, y_train, y_test = train_test_split(X, y, test_size=0.3, random_state=1)"
   ]
  },
  {
   "cell_type": "code",
   "execution_count": 32,
   "id": "d06444c5",
   "metadata": {},
   "outputs": [],
   "source": [
    "# rmse 계산 함수 생성\n",
    "def get_rmse(model):\n",
    "    pred = model.predict(X_test)\n",
    "    mse = mean_squared_error(y_test, pred)\n",
    "    rmse = np.sqrt(mse)\n",
    "    print(model.__class__.__name__, 'RMSE', np.round(rmse, 3))\n",
    "    return rmse\n",
    "\n",
    "def get_rmses(models):\n",
    "    rmses=[]\n",
    "    for model in models:\n",
    "        rmse = get_rmse(model)\n",
    "        rmses.append(rmse)\n",
    "    return rmses"
   ]
  },
  {
   "cell_type": "code",
   "execution_count": 34,
   "id": "b86ff5ad",
   "metadata": {},
   "outputs": [
    {
     "name": "stdout",
     "output_type": "stream",
     "text": [
      "LinearRegression RMSE 1528787.095\n",
      "Ridge RMSE 1530392.413\n",
      "Lasso RMSE 1528789.919\n"
     ]
    },
    {
     "data": {
      "text/plain": [
       "[1528787.0953709728, 1530392.4131620638, 1528789.9192952623]"
      ]
     },
     "execution_count": 34,
     "metadata": {},
     "output_type": "execute_result"
    }
   ],
   "source": [
    "# LinearRegression, Ridge, Lasso 학습, 예측, 평가\n",
    "lr_reg = LinearRegression()\n",
    "lr_reg.fit(X_train, y_train)\n",
    "ridge_reg = Ridge()\n",
    "ridge_reg.fit(X_train, y_train)\n",
    "lasso_reg = Lasso()\n",
    "lasso_reg.fit(X_train, y_train)\n",
    "\n",
    "models = [lr_reg, ridge_reg, lasso_reg]\n",
    "get_rmses(models)"
   ]
  },
  {
   "cell_type": "markdown",
   "id": "e97d3421",
   "metadata": {},
   "source": [
    "- 세 모델의 RMSE값이 매우 높음을 알 수 있다."
   ]
  },
  {
   "cell_type": "code",
   "execution_count": 63,
   "id": "786b52f6",
   "metadata": {},
   "outputs": [
    {
     "name": "stdout",
     "output_type": "stream",
     "text": [
      "         real  predicted        diff\n",
      "164  12323595  2101166.0  10222429.0\n",
      "132  12983841  3708492.0   9275349.0\n",
      "19    9350351  1011713.0   8338638.0\n",
      "108    467697  3321417.0   2853720.0\n",
      "36     317505  3128045.0   2810540.0\n",
      "-----------------------------------\n",
      "         real  predicted        diff\n",
      "164  12323595  2113806.0  10209789.0\n",
      "132  12983841  3694792.0   9289049.0\n",
      "19    9350351   906387.0   8443964.0\n",
      "108    467697  3312563.0   2844866.0\n",
      "36     317505  3128770.0   2811265.0\n",
      "-----------------------------------\n",
      "         real  predicted        diff\n",
      "164  12323595  2101187.0  10222408.0\n",
      "132  12983841  3708476.0   9275365.0\n",
      "19    9350351  1011545.0   8338806.0\n",
      "108    467697  3321408.0   2853711.0\n",
      "36     317505  3128046.0   2810541.0\n"
     ]
    }
   ],
   "source": [
    "def get_top_error_data(model, y_test, pred, n_top=5):\n",
    "    pred = model.predict(X_test)\n",
    "    result_df = pd.DataFrame(y_test.values, columns=['real'])\n",
    "    result_df['predicted'] = np.round(pred)\n",
    "    result_df['diff'] = np.abs(result_df['real']-result_df['predicted'])\n",
    "    print(result_df.sort_values('diff', ascending=False)[:n_top])\n",
    "\n",
    "for model in [lr_reg, ridge_reg, lasso_reg]:\n",
    "    get_top_error_data(model, y_test, pred, n_top=5)\n",
    "    if model != lasso_reg: print('-' * 35)"
   ]
  },
  {
   "cell_type": "markdown",
   "id": "a94227ae",
   "metadata": {},
   "source": [
    "- 위에서 실제값과 예측값이 어느 정도 차이 나는지 확인한 결과, 상당한 값이 차이가 있었다.\n",
    "- 따라서 num_staff, num_actor을 포함한 수치형 변수를 스케일링하였고, box_off_num을 로그변환 하였다."
   ]
  },
  {
   "cell_type": "code",
   "execution_count": 68,
   "id": "c5c397ee",
   "metadata": {},
   "outputs": [
    {
     "data": {
      "image/png": "[encoded data removed]",
      "text/plain": [
       "<Figure size 700x200 with 3 Axes>"
      ]
     },
     "metadata": {},
     "output_type": "display_data"
    }
   ],
   "source": [
    "fig, ax = plt.subplots(ncols=3, nrows=1, figsize=(7, 2))\n",
    "for i, feature in enumerate(['num_staff', 'num_actor', 'box_off_num']):\n",
    "    col = i % 3\n",
    "    sns.distplot(df_ohe[feature], ax=ax[col])\n",
    "plt.suptitle('변환 전');"
   ]
  },
  {
   "cell_type": "code",
   "execution_count": null,
   "id": "774db253",
   "metadata": {},
   "outputs": [],
   "source": []
  },
  {
   "cell_type": "code",
   "execution_count": 78,
   "id": "83e906a8",
   "metadata": {},
   "outputs": [],
   "source": [
    "# 범주형 변수 원-핫 인코딩\n",
    "df_ohe = pd.get_dummies(df, drop_first=True) # 원-핫 인코딩 수행\n",
    "\n",
    "# 종속변수 로그변환\n",
    "df_ohe['box_off_num'] = np.log1p(df_ohe['box_off_num'])\n",
    "\n",
    "X = df_ohe.drop(['box_off_num'],axis=1)\n",
    "y = df_ohe['box_off_num']\n",
    "\n",
    "X_train, X_test, y_train, y_test = train_test_split(X, y, test_size=0.3, random_state=1)\n",
    "scaler = StandardScaler()\n",
    "X_train_sc = scaler.fit_transform(X_train)\n",
    "X_test_sc = scaler.fit_transform(X_test)"
   ]
  },
  {
   "cell_type": "code",
   "execution_count": 77,
   "id": "56e7a3ca",
   "metadata": {},
   "outputs": [
    {
     "data": {
      "text/html": [
       "<div>\n",
       "<style scoped>\n",
       "    .dataframe tbody tr th:only-of-type {\n",
       "        vertical-align: middle;\n",
       "    }\n",
       "\n",
       "    .dataframe tbody tr th {\n",
       "        vertical-align: top;\n",
       "    }\n",
       "\n",
       "    .dataframe thead th {\n",
       "        text-align: right;\n",
       "    }\n",
       "</style>\n",
       "<table border=\"1\" class=\"dataframe\">\n",
       "  <thead>\n",
       "    <tr style=\"text-align: right;\">\n",
       "      <th></th>\n",
       "      <th>time</th>\n",
       "      <th>dir_prev_num</th>\n",
       "      <th>num_staff</th>\n",
       "      <th>num_actor</th>\n",
       "      <th>box_off_num</th>\n",
       "      <th>year</th>\n",
       "      <th>month</th>\n",
       "      <th>day</th>\n",
       "      <th>weekday</th>\n",
       "      <th>genre_공포</th>\n",
       "      <th>...</th>\n",
       "      <th>genre_멜로/로맨스</th>\n",
       "      <th>genre_뮤지컬</th>\n",
       "      <th>genre_미스터리</th>\n",
       "      <th>genre_서스펜스</th>\n",
       "      <th>genre_애니메이션</th>\n",
       "      <th>genre_액션</th>\n",
       "      <th>genre_코미디</th>\n",
       "      <th>screening_rat_15세 관람가</th>\n",
       "      <th>screening_rat_전체 관람가</th>\n",
       "      <th>screening_rat_청소년 관람불가</th>\n",
       "    </tr>\n",
       "  </thead>\n",
       "  <tbody>\n",
       "    <tr>\n",
       "      <th>0</th>\n",
       "      <td>96</td>\n",
       "      <td>0</td>\n",
       "      <td>91</td>\n",
       "      <td>2</td>\n",
       "      <td>10.060449</td>\n",
       "      <td>2012</td>\n",
       "      <td>11</td>\n",
       "      <td>22</td>\n",
       "      <td>3</td>\n",
       "      <td>0</td>\n",
       "      <td>...</td>\n",
       "      <td>0</td>\n",
       "      <td>0</td>\n",
       "      <td>0</td>\n",
       "      <td>0</td>\n",
       "      <td>0</td>\n",
       "      <td>1</td>\n",
       "      <td>0</td>\n",
       "      <td>0</td>\n",
       "      <td>0</td>\n",
       "      <td>1</td>\n",
       "    </tr>\n",
       "    <tr>\n",
       "      <th>1</th>\n",
       "      <td>130</td>\n",
       "      <td>2</td>\n",
       "      <td>387</td>\n",
       "      <td>3</td>\n",
       "      <td>15.771725</td>\n",
       "      <td>2015</td>\n",
       "      <td>11</td>\n",
       "      <td>19</td>\n",
       "      <td>3</td>\n",
       "      <td>0</td>\n",
       "      <td>...</td>\n",
       "      <td>0</td>\n",
       "      <td>0</td>\n",
       "      <td>0</td>\n",
       "      <td>0</td>\n",
       "      <td>0</td>\n",
       "      <td>0</td>\n",
       "      <td>0</td>\n",
       "      <td>0</td>\n",
       "      <td>0</td>\n",
       "      <td>1</td>\n",
       "    </tr>\n",
       "    <tr>\n",
       "      <th>2</th>\n",
       "      <td>123</td>\n",
       "      <td>4</td>\n",
       "      <td>343</td>\n",
       "      <td>4</td>\n",
       "      <td>15.755558</td>\n",
       "      <td>2013</td>\n",
       "      <td>6</td>\n",
       "      <td>5</td>\n",
       "      <td>2</td>\n",
       "      <td>0</td>\n",
       "      <td>...</td>\n",
       "      <td>0</td>\n",
       "      <td>0</td>\n",
       "      <td>0</td>\n",
       "      <td>0</td>\n",
       "      <td>0</td>\n",
       "      <td>1</td>\n",
       "      <td>0</td>\n",
       "      <td>1</td>\n",
       "      <td>0</td>\n",
       "      <td>0</td>\n",
       "    </tr>\n",
       "    <tr>\n",
       "      <th>3</th>\n",
       "      <td>101</td>\n",
       "      <td>2</td>\n",
       "      <td>20</td>\n",
       "      <td>6</td>\n",
       "      <td>12.291640</td>\n",
       "      <td>2012</td>\n",
       "      <td>7</td>\n",
       "      <td>12</td>\n",
       "      <td>3</td>\n",
       "      <td>0</td>\n",
       "      <td>...</td>\n",
       "      <td>0</td>\n",
       "      <td>0</td>\n",
       "      <td>0</td>\n",
       "      <td>0</td>\n",
       "      <td>0</td>\n",
       "      <td>0</td>\n",
       "      <td>1</td>\n",
       "      <td>0</td>\n",
       "      <td>1</td>\n",
       "      <td>0</td>\n",
       "    </tr>\n",
       "    <tr>\n",
       "      <th>4</th>\n",
       "      <td>108</td>\n",
       "      <td>1</td>\n",
       "      <td>251</td>\n",
       "      <td>2</td>\n",
       "      <td>13.088575</td>\n",
       "      <td>2010</td>\n",
       "      <td>11</td>\n",
       "      <td>4</td>\n",
       "      <td>3</td>\n",
       "      <td>0</td>\n",
       "      <td>...</td>\n",
       "      <td>0</td>\n",
       "      <td>0</td>\n",
       "      <td>0</td>\n",
       "      <td>0</td>\n",
       "      <td>0</td>\n",
       "      <td>0</td>\n",
       "      <td>1</td>\n",
       "      <td>1</td>\n",
       "      <td>0</td>\n",
       "      <td>0</td>\n",
       "    </tr>\n",
       "    <tr>\n",
       "      <th>...</th>\n",
       "      <td>...</td>\n",
       "      <td>...</td>\n",
       "      <td>...</td>\n",
       "      <td>...</td>\n",
       "      <td>...</td>\n",
       "      <td>...</td>\n",
       "      <td>...</td>\n",
       "      <td>...</td>\n",
       "      <td>...</td>\n",
       "      <td>...</td>\n",
       "      <td>...</td>\n",
       "      <td>...</td>\n",
       "      <td>...</td>\n",
       "      <td>...</td>\n",
       "      <td>...</td>\n",
       "      <td>...</td>\n",
       "      <td>...</td>\n",
       "      <td>...</td>\n",
       "      <td>...</td>\n",
       "      <td>...</td>\n",
       "      <td>...</td>\n",
       "    </tr>\n",
       "    <tr>\n",
       "      <th>595</th>\n",
       "      <td>111</td>\n",
       "      <td>1</td>\n",
       "      <td>510</td>\n",
       "      <td>7</td>\n",
       "      <td>14.204231</td>\n",
       "      <td>2014</td>\n",
       "      <td>8</td>\n",
       "      <td>13</td>\n",
       "      <td>2</td>\n",
       "      <td>0</td>\n",
       "      <td>...</td>\n",
       "      <td>0</td>\n",
       "      <td>0</td>\n",
       "      <td>0</td>\n",
       "      <td>0</td>\n",
       "      <td>0</td>\n",
       "      <td>0</td>\n",
       "      <td>0</td>\n",
       "      <td>0</td>\n",
       "      <td>0</td>\n",
       "      <td>1</td>\n",
       "    </tr>\n",
       "    <tr>\n",
       "      <th>596</th>\n",
       "      <td>127</td>\n",
       "      <td>1</td>\n",
       "      <td>286</td>\n",
       "      <td>6</td>\n",
       "      <td>14.355762</td>\n",
       "      <td>2013</td>\n",
       "      <td>3</td>\n",
       "      <td>14</td>\n",
       "      <td>3</td>\n",
       "      <td>0</td>\n",
       "      <td>...</td>\n",
       "      <td>0</td>\n",
       "      <td>0</td>\n",
       "      <td>0</td>\n",
       "      <td>0</td>\n",
       "      <td>0</td>\n",
       "      <td>0</td>\n",
       "      <td>0</td>\n",
       "      <td>1</td>\n",
       "      <td>0</td>\n",
       "      <td>0</td>\n",
       "    </tr>\n",
       "    <tr>\n",
       "      <th>597</th>\n",
       "      <td>99</td>\n",
       "      <td>0</td>\n",
       "      <td>123</td>\n",
       "      <td>4</td>\n",
       "      <td>7.814400</td>\n",
       "      <td>2010</td>\n",
       "      <td>9</td>\n",
       "      <td>30</td>\n",
       "      <td>3</td>\n",
       "      <td>1</td>\n",
       "      <td>...</td>\n",
       "      <td>0</td>\n",
       "      <td>0</td>\n",
       "      <td>0</td>\n",
       "      <td>0</td>\n",
       "      <td>0</td>\n",
       "      <td>0</td>\n",
       "      <td>0</td>\n",
       "      <td>0</td>\n",
       "      <td>0</td>\n",
       "      <td>1</td>\n",
       "    </tr>\n",
       "    <tr>\n",
       "      <th>598</th>\n",
       "      <td>102</td>\n",
       "      <td>0</td>\n",
       "      <td>431</td>\n",
       "      <td>4</td>\n",
       "      <td>14.600565</td>\n",
       "      <td>2015</td>\n",
       "      <td>5</td>\n",
       "      <td>14</td>\n",
       "      <td>3</td>\n",
       "      <td>0</td>\n",
       "      <td>...</td>\n",
       "      <td>0</td>\n",
       "      <td>0</td>\n",
       "      <td>0</td>\n",
       "      <td>0</td>\n",
       "      <td>0</td>\n",
       "      <td>0</td>\n",
       "      <td>0</td>\n",
       "      <td>1</td>\n",
       "      <td>0</td>\n",
       "      <td>0</td>\n",
       "    </tr>\n",
       "    <tr>\n",
       "      <th>599</th>\n",
       "      <td>120</td>\n",
       "      <td>0</td>\n",
       "      <td>363</td>\n",
       "      <td>5</td>\n",
       "      <td>15.784933</td>\n",
       "      <td>2013</td>\n",
       "      <td>1</td>\n",
       "      <td>30</td>\n",
       "      <td>2</td>\n",
       "      <td>0</td>\n",
       "      <td>...</td>\n",
       "      <td>0</td>\n",
       "      <td>0</td>\n",
       "      <td>0</td>\n",
       "      <td>0</td>\n",
       "      <td>0</td>\n",
       "      <td>1</td>\n",
       "      <td>0</td>\n",
       "      <td>1</td>\n",
       "      <td>0</td>\n",
       "      <td>0</td>\n",
       "    </tr>\n",
       "  </tbody>\n",
       "</table>\n",
       "<p>600 rows × 23 columns</p>\n",
       "</div>"
      ],
      "text/plain": [
       "     time  dir_prev_num  num_staff  num_actor  box_off_num  year  month  day  \\\n",
       "0      96             0         91          2    10.060449  2012     11   22   \n",
       "1     130             2        387          3    15.771725  2015     11   19   \n",
       "2     123             4        343          4    15.755558  2013      6    5   \n",
       "3     101             2         20          6    12.291640  2012      7   12   \n",
       "4     108             1        251          2    13.088575  2010     11    4   \n",
       "..    ...           ...        ...        ...          ...   ...    ...  ...   \n",
       "595   111             1        510          7    14.204231  2014      8   13   \n",
       "596   127             1        286          6    14.355762  2013      3   14   \n",
       "597    99             0        123          4     7.814400  2010      9   30   \n",
       "598   102             0        431          4    14.600565  2015      5   14   \n",
       "599   120             0        363          5    15.784933  2013      1   30   \n",
       "\n",
       "     weekday  genre_공포  ...  genre_멜로/로맨스  genre_뮤지컬  genre_미스터리  genre_서스펜스  \\\n",
       "0          3         0  ...             0          0           0           0   \n",
       "1          3         0  ...             0          0           0           0   \n",
       "2          2         0  ...             0          0           0           0   \n",
       "3          3         0  ...             0          0           0           0   \n",
       "4          3         0  ...             0          0           0           0   \n",
       "..       ...       ...  ...           ...        ...         ...         ...   \n",
       "595        2         0  ...             0          0           0           0   \n",
       "596        3         0  ...             0          0           0           0   \n",
       "597        3         1  ...             0          0           0           0   \n",
       "598        3         0  ...             0          0           0           0   \n",
       "599        2         0  ...             0          0           0           0   \n",
       "\n",
       "     genre_애니메이션  genre_액션  genre_코미디  screening_rat_15세 관람가  \\\n",
       "0              0         1          0                      0   \n",
       "1              0         0          0                      0   \n",
       "2              0         1          0                      1   \n",
       "3              0         0          1                      0   \n",
       "4              0         0          1                      1   \n",
       "..           ...       ...        ...                    ...   \n",
       "595            0         0          0                      0   \n",
       "596            0         0          0                      1   \n",
       "597            0         0          0                      0   \n",
       "598            0         0          0                      1   \n",
       "599            0         1          0                      1   \n",
       "\n",
       "     screening_rat_전체 관람가  screening_rat_청소년 관람불가  \n",
       "0                       0                       1  \n",
       "1                       0                       1  \n",
       "2                       0                       0  \n",
       "3                       1                       0  \n",
       "4                       0                       0  \n",
       "..                    ...                     ...  \n",
       "595                     0                       1  \n",
       "596                     0                       0  \n",
       "597                     0                       1  \n",
       "598                     0                       0  \n",
       "599                     0                       0  \n",
       "\n",
       "[600 rows x 23 columns]"
      ]
     },
     "execution_count": 77,
     "metadata": {},
     "output_type": "execute_result"
    }
   ],
   "source": [
    "df_ohe"
   ]
  },
  {
   "cell_type": "code",
   "execution_count": 79,
   "id": "1694add1",
   "metadata": {},
   "outputs": [
    {
     "data": {
      "text/plain": [
       "array([[-0.90699057,  0.13713767, -0.8964045 , ..., -0.69577219,\n",
       "         2.25542823, -0.70710678],\n",
       "       [ 0.79184713,  0.99680668,  1.0712384 , ..., -0.69577219,\n",
       "        -0.44337478,  1.41421356],\n",
       "       [-0.56722303,  0.99680668, -0.84767031, ...,  1.43725204,\n",
       "        -0.44337478, -0.70710678],\n",
       "       ...,\n",
       "       [ 0.62196336, -0.72253133, -0.23240117, ..., -0.69577219,\n",
       "        -0.44337478,  1.41421356],\n",
       "       [-1.24675811, -0.72253133, -0.79284435, ..., -0.69577219,\n",
       "         2.25542823, -0.70710678],\n",
       "       [ 1.18824259, -0.72253133, -0.08010682, ..., -0.69577219,\n",
       "        -0.44337478,  1.41421356]])"
      ]
     },
     "execution_count": 79,
     "metadata": {},
     "output_type": "execute_result"
    }
   ],
   "source": [
    "X_train_sc"
   ]
  },
  {
   "cell_type": "code",
   "execution_count": null,
   "id": "b643b3a7",
   "metadata": {},
   "outputs": [],
   "source": []
  }
 ],
 "metadata": {
  "kernelspec": {
   "display_name": "adp_code",
   "language": "python",
   "name": "adp_code"
  },
  "language_info": {
   "codemirror_mode": {
    "name": "ipython",
    "version": 3
   },
   "file_extension": ".py",
   "mimetype": "text/x-python",
   "name": "python",
   "nbconvert_exporter": "python",
   "pygments_lexer": "ipython3",
   "version": "3.7.16"
  }
 },
 "nbformat": 4,
 "nbformat_minor": 5
}
