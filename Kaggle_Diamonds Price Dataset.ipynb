{
 "cells": [
  {
   "cell_type": "markdown",
   "id": "5a3f8b53",
   "metadata": {},
   "source": [
    "# [Kaggle_Diamonds Price Dataset](https://www.kaggle.com/datasets/amirhosseinmirzaie/diamonds-price-dataset)"
   ]
  },
  {
   "cell_type": "code",
   "execution_count": 1,
   "id": "c9e22826",
   "metadata": {},
   "outputs": [],
   "source": [
    "import pandas as pd\n",
    "import numpy as np\n",
    "import seaborn as sns\n",
    "import matplotlib.pyplot as plt\n",
    "import os\n",
    "import warnings\n",
    "warnings.filterwarnings('ignore')\n",
    "plt.rc('font', family='Malgun Gothic')\n",
    "plt.rcParams['axes.unicode_minus']=False"
   ]
  },
  {
   "cell_type": "markdown",
   "id": "a0c00f68",
   "metadata": {},
   "source": [
    "## 1. EDA"
   ]
  },
  {
   "cell_type": "code",
   "execution_count": 2,
   "id": "9f32b275",
   "metadata": {},
   "outputs": [
    {
     "data": {
      "text/html": [
       "<div>\n",
       "<style scoped>\n",
       "    .dataframe tbody tr th:only-of-type {\n",
       "        vertical-align: middle;\n",
       "    }\n",
       "\n",
       "    .dataframe tbody tr th {\n",
       "        vertical-align: top;\n",
       "    }\n",
       "\n",
       "    .dataframe thead th {\n",
       "        text-align: right;\n",
       "    }\n",
       "</style>\n",
       "<table border=\"1\" class=\"dataframe\">\n",
       "  <thead>\n",
       "    <tr style=\"text-align: right;\">\n",
       "      <th></th>\n",
       "      <th>carat</th>\n",
       "      <th>cut</th>\n",
       "      <th>color</th>\n",
       "      <th>clarity</th>\n",
       "      <th>depth</th>\n",
       "      <th>table</th>\n",
       "      <th>price</th>\n",
       "      <th>x</th>\n",
       "      <th>y</th>\n",
       "      <th>z</th>\n",
       "    </tr>\n",
       "  </thead>\n",
       "  <tbody>\n",
       "    <tr>\n",
       "      <th>0</th>\n",
       "      <td>0.23</td>\n",
       "      <td>Ideal</td>\n",
       "      <td>E</td>\n",
       "      <td>SI2</td>\n",
       "      <td>61.5</td>\n",
       "      <td>55.0</td>\n",
       "      <td>326</td>\n",
       "      <td>3.95</td>\n",
       "      <td>3.98</td>\n",
       "      <td>2.43</td>\n",
       "    </tr>\n",
       "    <tr>\n",
       "      <th>1</th>\n",
       "      <td>0.21</td>\n",
       "      <td>Premium</td>\n",
       "      <td>E</td>\n",
       "      <td>SI1</td>\n",
       "      <td>59.8</td>\n",
       "      <td>61.0</td>\n",
       "      <td>326</td>\n",
       "      <td>3.89</td>\n",
       "      <td>3.84</td>\n",
       "      <td>2.31</td>\n",
       "    </tr>\n",
       "    <tr>\n",
       "      <th>2</th>\n",
       "      <td>0.23</td>\n",
       "      <td>Good</td>\n",
       "      <td>E</td>\n",
       "      <td>VS1</td>\n",
       "      <td>56.9</td>\n",
       "      <td>65.0</td>\n",
       "      <td>327</td>\n",
       "      <td>4.05</td>\n",
       "      <td>4.07</td>\n",
       "      <td>2.31</td>\n",
       "    </tr>\n",
       "  </tbody>\n",
       "</table>\n",
       "</div>"
      ],
      "text/plain": [
       "   carat      cut color clarity  depth  table  price     x     y     z\n",
       "0   0.23    Ideal     E     SI2   61.5   55.0    326  3.95  3.98  2.43\n",
       "1   0.21  Premium     E     SI1   59.8   61.0    326  3.89  3.84  2.31\n",
       "2   0.23     Good     E     VS1   56.9   65.0    327  4.05  4.07  2.31"
      ]
     },
     "metadata": {},
     "output_type": "display_data"
    },
    {
     "name": "stdout",
     "output_type": "stream",
     "text": [
      "<class 'pandas.core.frame.DataFrame'>\n",
      "RangeIndex: 50000 entries, 0 to 49999\n",
      "Data columns (total 10 columns):\n",
      " #   Column   Non-Null Count  Dtype  \n",
      "---  ------   --------------  -----  \n",
      " 0   carat    50000 non-null  float64\n",
      " 1   cut      50000 non-null  object \n",
      " 2   color    50000 non-null  object \n",
      " 3   clarity  50000 non-null  object \n",
      " 4   depth    50000 non-null  float64\n",
      " 5   table    50000 non-null  float64\n",
      " 6   price    50000 non-null  int64  \n",
      " 7   x        50000 non-null  float64\n",
      " 8   y        50000 non-null  float64\n",
      " 9   z        50000 non-null  float64\n",
      "dtypes: float64(6), int64(1), object(3)\n",
      "memory usage: 3.8+ MB\n",
      "None\n",
      "(50000, 10)\n",
      "carat      0\n",
      "cut        0\n",
      "color      0\n",
      "clarity    0\n",
      "depth      0\n",
      "table      0\n",
      "price      0\n",
      "x          0\n",
      "y          0\n",
      "z          0\n",
      "dtype: int64\n"
     ]
    }
   ],
   "source": [
    "df = pd.read_csv(os.getcwd() + '/data/diamonds/diamonds.csv')\n",
    "display(df.head(3))\n",
    "print(df.info())\n",
    "print(df.shape)\n",
    "print(df.isna().sum())"
   ]
  },
  {
   "cell_type": "code",
   "execution_count": 6,
   "id": "d9dc5df7",
   "metadata": {},
   "outputs": [
    {
     "data": {
      "text/html": [
       "<div>\n",
       "<style scoped>\n",
       "    .dataframe tbody tr th:only-of-type {\n",
       "        vertical-align: middle;\n",
       "    }\n",
       "\n",
       "    .dataframe tbody tr th {\n",
       "        vertical-align: top;\n",
       "    }\n",
       "\n",
       "    .dataframe thead th {\n",
       "        text-align: right;\n",
       "    }\n",
       "</style>\n",
       "<table border=\"1\" class=\"dataframe\">\n",
       "  <thead>\n",
       "    <tr style=\"text-align: right;\">\n",
       "      <th></th>\n",
       "      <th>carat</th>\n",
       "      <th>depth</th>\n",
       "      <th>table</th>\n",
       "      <th>price</th>\n",
       "      <th>x</th>\n",
       "      <th>y</th>\n",
       "      <th>z</th>\n",
       "    </tr>\n",
       "  </thead>\n",
       "  <tbody>\n",
       "    <tr>\n",
       "      <th>count</th>\n",
       "      <td>50000.000000</td>\n",
       "      <td>50000.000000</td>\n",
       "      <td>50000.000000</td>\n",
       "      <td>50000.000000</td>\n",
       "      <td>50000.000000</td>\n",
       "      <td>50000.000000</td>\n",
       "      <td>50000.000000</td>\n",
       "    </tr>\n",
       "    <tr>\n",
       "      <th>mean</th>\n",
       "      <td>0.799444</td>\n",
       "      <td>61.753006</td>\n",
       "      <td>57.457830</td>\n",
       "      <td>3944.805440</td>\n",
       "      <td>5.734403</td>\n",
       "      <td>5.737956</td>\n",
       "      <td>3.541056</td>\n",
       "    </tr>\n",
       "    <tr>\n",
       "      <th>std</th>\n",
       "      <td>0.475173</td>\n",
       "      <td>1.431088</td>\n",
       "      <td>2.232092</td>\n",
       "      <td>3997.938105</td>\n",
       "      <td>1.123077</td>\n",
       "      <td>1.145579</td>\n",
       "      <td>0.707065</td>\n",
       "    </tr>\n",
       "    <tr>\n",
       "      <th>min</th>\n",
       "      <td>0.200000</td>\n",
       "      <td>43.000000</td>\n",
       "      <td>43.000000</td>\n",
       "      <td>326.000000</td>\n",
       "      <td>0.000000</td>\n",
       "      <td>0.000000</td>\n",
       "      <td>0.000000</td>\n",
       "    </tr>\n",
       "    <tr>\n",
       "      <th>25%</th>\n",
       "      <td>0.400000</td>\n",
       "      <td>61.000000</td>\n",
       "      <td>56.000000</td>\n",
       "      <td>951.000000</td>\n",
       "      <td>4.710000</td>\n",
       "      <td>4.720000</td>\n",
       "      <td>2.910000</td>\n",
       "    </tr>\n",
       "    <tr>\n",
       "      <th>50%</th>\n",
       "      <td>0.700000</td>\n",
       "      <td>61.800000</td>\n",
       "      <td>57.000000</td>\n",
       "      <td>2410.000000</td>\n",
       "      <td>5.700000</td>\n",
       "      <td>5.710000</td>\n",
       "      <td>3.530000</td>\n",
       "    </tr>\n",
       "    <tr>\n",
       "      <th>75%</th>\n",
       "      <td>1.040000</td>\n",
       "      <td>62.500000</td>\n",
       "      <td>59.000000</td>\n",
       "      <td>5351.000000</td>\n",
       "      <td>6.540000</td>\n",
       "      <td>6.540000</td>\n",
       "      <td>4.040000</td>\n",
       "    </tr>\n",
       "    <tr>\n",
       "      <th>max</th>\n",
       "      <td>5.010000</td>\n",
       "      <td>79.000000</td>\n",
       "      <td>95.000000</td>\n",
       "      <td>18823.000000</td>\n",
       "      <td>10.740000</td>\n",
       "      <td>58.900000</td>\n",
       "      <td>31.800000</td>\n",
       "    </tr>\n",
       "  </tbody>\n",
       "</table>\n",
       "</div>"
      ],
      "text/plain": [
       "              carat         depth         table         price             x  \\\n",
       "count  50000.000000  50000.000000  50000.000000  50000.000000  50000.000000   \n",
       "mean       0.799444     61.753006     57.457830   3944.805440      5.734403   \n",
       "std        0.475173      1.431088      2.232092   3997.938105      1.123077   \n",
       "min        0.200000     43.000000     43.000000    326.000000      0.000000   \n",
       "25%        0.400000     61.000000     56.000000    951.000000      4.710000   \n",
       "50%        0.700000     61.800000     57.000000   2410.000000      5.700000   \n",
       "75%        1.040000     62.500000     59.000000   5351.000000      6.540000   \n",
       "max        5.010000     79.000000     95.000000  18823.000000     10.740000   \n",
       "\n",
       "                  y             z  \n",
       "count  50000.000000  50000.000000  \n",
       "mean       5.737956      3.541056  \n",
       "std        1.145579      0.707065  \n",
       "min        0.000000      0.000000  \n",
       "25%        4.720000      2.910000  \n",
       "50%        5.710000      3.530000  \n",
       "75%        6.540000      4.040000  \n",
       "max       58.900000     31.800000  "
      ]
     },
     "execution_count": 6,
     "metadata": {},
     "output_type": "execute_result"
    }
   ],
   "source": [
    "df.describe()"
   ]
  },
  {
   "cell_type": "code",
   "execution_count": 37,
   "id": "cd43599f",
   "metadata": {},
   "outputs": [
    {
     "data": {
      "image/png": "[encoded data removed]",
      "text/plain": [
       "<Figure size 700x300 with 1 Axes>"
      ]
     },
     "metadata": {},
     "output_type": "display_data"
    }
   ],
   "source": [
    "plt.figure(figsize=(7,3))\n",
    "df.drop('price', axis=1).boxplot()\n",
    "plt.tight_layout();"
   ]
  },
  {
   "cell_type": "code",
   "execution_count": 36,
   "id": "a071468a",
   "metadata": {},
   "outputs": [
    {
     "data": {
      "image/png": "[encoded data removed]",
      "text/plain": [
       "<Figure size 640x480 with 9 Axes>"
      ]
     },
     "metadata": {},
     "output_type": "display_data"
    }
   ],
   "source": [
    "df.hist(bins=30)\n",
    "plt.tight_layout();"
   ]
  },
  {
   "cell_type": "code",
   "execution_count": 29,
   "id": "8053ca8b",
   "metadata": {},
   "outputs": [
    {
     "data": {
      "image/png": "[encoded data removed]",
      "text/plain": [
       "<Figure size 1000x300 with 3 Axes>"
      ]
     },
     "metadata": {},
     "output_type": "display_data"
    }
   ],
   "source": [
    "cate_cols = df.select_dtypes(include='object').columns\n",
    "fig, ax = plt.subplots(nrows=1, ncols=3, figsize=(10, 3))\n",
    "for i, feature in zip(range(3), cate_cols):\n",
    "    col = i % 3\n",
    "    sns.barplot(df[feature], df.index, ax=ax[col], ci=None)\n",
    "plt.tight_layout();"
   ]
  },
  {
   "cell_type": "code",
   "execution_count": 49,
   "id": "b7eaaf97",
   "metadata": {},
   "outputs": [
    {
     "data": {
      "image/png": "[encoded data removed]",
      "text/plain": [
       "<Figure size 500x400 with 2 Axes>"
      ]
     },
     "metadata": {},
     "output_type": "display_data"
    }
   ],
   "source": [
    "df_corr = df.corr()\n",
    "plt.figure(figsize=(5,4))\n",
    "sns.heatmap(df_corr, annot=True, fmt='.2f', vmax=1, vmin=-1, cmap='RdBu', annot_kws={'fontsize': 9});"
   ]
  },
  {
   "cell_type": "code",
   "execution_count": 44,
   "id": "569731a5",
   "metadata": {},
   "outputs": [
    {
     "name": "stdout",
     "output_type": "stream",
     "text": [
      "\n",
      "[해석]\n",
      "1. 결측치 존재 여부\n",
      "    - 전체 데이터에 결측치는 존재하지 않는다.\n",
      "2. 데이터 타입\n",
      "    - 종속변수 price는 int형이고, 독립변수는 object, int, float형으로 구성되었다.\n",
      "3. 종속변수와 독립변수의 상관관계\n",
      "    - 종속변수 price와의 상관계수를 확인했을 때, caret, x, y, z와 강한 양의 상관성을 보인다.\n",
      "4. 독립변수 상관관계\n",
      "    - 독립변수들 끼리의 상관관계를 확인한 결과, 다중공선성을 걱정할 만큼(0.9 이상) 강한 상관관계를 보이는 변수들이 있다.\n",
      "    - caret과 x, y, z, 그리고 z, y, z 끼리의 관계가 그러하다.\n",
      "5. 유의할 점\n",
      "    - 독립변수에서 수치형 변수 간 값의 범위가 다르므로 스케일링을 통해 값의 범위를 통일시킬 필요가 있다.\n",
      "    - 다중공선성 문제에 유의해야 한다.\n",
      "\n"
     ]
    }
   ],
   "source": [
    "print('''\n",
    "[해석]\n",
    "1. 결측치 존재 여부\n",
    "    - 전체 데이터에 결측치는 존재하지 않는다.\n",
    "2. 데이터 타입\n",
    "    - 종속변수 price는 int형이고, 독립변수는 object, int, float형으로 구성되었다.\n",
    "3. 종속변수와 독립변수의 상관관계\n",
    "    - 종속변수 price와의 상관계수를 확인했을 때, caret, x, y, z와 강한 양의 상관성을 보인다.\n",
    "4. 독립변수 상관관계\n",
    "    - 독립변수들 끼리의 상관관계를 확인한 결과, 다중공선성을 걱정할 만큼(0.9 이상) 강한 상관관계를 보이는 변수들이 있다.\n",
    "    - caret과 x, y, z, 그리고 z, y, z 끼리의 관계가 그러하다.\n",
    "5. 유의할 점\n",
    "    - 독립변수에서 수치형 변수 간 값의 범위가 다르므로 스케일링을 통해 값의 범위를 통일시킬 필요가 있다.\n",
    "    - 다중공선성 문제에 유의해야 한다.\n",
    "''')"
   ]
  },
  {
   "cell_type": "markdown",
   "id": "f12da6b6",
   "metadata": {},
   "source": [
    "## 2. 통계분석\n",
    "### 1) 일원배치 분산분석\n",
    "- 귀무가설: 색깔('E', 'I', 'J')에 따라 다이아몬드 가격에 차이가 없다.\n",
    "- 대립가설: 색깔('E', 'I', 'J')에 따라 다이아몬드 가격에 차이가 있다."
   ]
  },
  {
   "cell_type": "code",
   "execution_count": 73,
   "id": "a9ef88e7",
   "metadata": {},
   "outputs": [
    {
     "data": {
      "text/html": [
       "<table class=\"simpletable\">\n",
       "<caption>Multiple Comparison of Means - Tukey HSD, FWER=0.05</caption>\n",
       "<tr>\n",
       "  <th>group1</th> <th>group2</th> <th>meandiff</th>   <th>p-adj</th>   <th>lower</th>     <th>upper</th>   <th>reject</th>\n",
       "</tr>\n",
       "<tr>\n",
       "     <td>E</td>      <td>I</td>   <td>2020.5071</td>  <td>-0.0</td>  <td>1856.0934</td> <td>2184.9208</td>  <td>True</td> \n",
       "</tr>\n",
       "<tr>\n",
       "     <td>E</td>      <td>J</td>   <td>2258.5754</td>  <td>-0.0</td>  <td>2050.3205</td> <td>2466.8303</td>  <td>True</td> \n",
       "</tr>\n",
       "<tr>\n",
       "     <td>I</td>      <td>J</td>   <td>238.0684</td>  <td>0.0361</td>  <td>12.0882</td>  <td>464.0485</td>   <td>True</td> \n",
       "</tr>\n",
       "</table>"
      ],
      "text/plain": [
       "<class 'statsmodels.iolib.table.SimpleTable'>"
      ]
     },
     "execution_count": 73,
     "metadata": {},
     "output_type": "execute_result"
    },
    {
     "data": {
      "image/png": "[encoded data removed]",
      "text/plain": [
       "<Figure size 600x300 with 1 Axes>"
      ]
     },
     "metadata": {},
     "output_type": "display_data"
    }
   ],
   "source": [
    "import scipy.stats as stats\n",
    "e_color = df.loc[df['color']=='E', 'price']\n",
    "i_color = df.loc[df['color']=='I', 'price']\n",
    "j_color = df.loc[df['color']=='J', 'price']\n",
    "\n",
    "# 정규성 검정 -> 모두 만족 못 함\n",
    "stats.shapiro(e_color)\n",
    "stats.shapiro(i_color)\n",
    "stats.shapiro(j_color)\n",
    "\n",
    "# 크루스칼 왈리스 검정\n",
    "stats.kruskal(e_color, i_color, j_color) # 귀무가설 기각\n",
    "\n",
    "# 사후검정\n",
    "cond = (df['color']=='E') | (df['color']=='I') | (df['color']=='J')\n",
    "samp_df = df.loc[cond][['color', 'price']]\n",
    "from statsmodels.stats.multicomp import pairwise_tukeyhsd\n",
    "from statsmodels.stats.multicomp import MultiComparison\n",
    "mc = MultiComparison(data = samp_df['price'], groups=samp_df['color'])\n",
    "tuekeyhsd = mc.tukeyhsd(alpha=.05)\n",
    "fig = tuekeyhsd.plot_simultaneous(figsize=(6, 3))\n",
    "tuekeyhsd.summary()"
   ]
  },
  {
   "cell_type": "markdown",
   "id": "28ab61a1",
   "metadata": {},
   "source": [
    "### 2) 이원배치 분산분석\n",
    "1. 주효과 검정1\n",
    "    - 귀무가설: 색깔('E', 'I', 'J')에 따라 다이아몬드 가격에 차이가 없다.\n",
    "    - 대립가설: 색깔('E', 'I', 'J')에 따라 다이아몬드 가격에 차이가 있다.\n",
    "1. 주효과 검정2\n",
    "    - 귀무가설: 컷핑 품질('Idal', 'Good', 'Fair')에 따라 다이아몬드 가격에 차이가 없다.\n",
    "    - 대립가설: 컷핑 품질('Idal', 'Good', 'Fair')에 따라 다이아몬드 가격에 차이가 있다.\n",
    "1. 교호작용 검정\n",
    "    - 귀무가설: 색깔과 컷핑 품질 간에 교호작용 효과가 없다.\n",
    "    - 대립가설: 색깔과 컷핑 품질 간에 교호작용 효과가 있다."
   ]
  },
  {
   "cell_type": "code",
   "execution_count": 84,
   "id": "065e6503",
   "metadata": {},
   "outputs": [
    {
     "data": {
      "text/html": [
       "<div>\n",
       "<style scoped>\n",
       "    .dataframe tbody tr th:only-of-type {\n",
       "        vertical-align: middle;\n",
       "    }\n",
       "\n",
       "    .dataframe tbody tr th {\n",
       "        vertical-align: top;\n",
       "    }\n",
       "\n",
       "    .dataframe thead th {\n",
       "        text-align: right;\n",
       "    }\n",
       "</style>\n",
       "<table border=\"1\" class=\"dataframe\">\n",
       "  <thead>\n",
       "    <tr style=\"text-align: right;\">\n",
       "      <th></th>\n",
       "      <th>sum_sq</th>\n",
       "      <th>df</th>\n",
       "      <th>F</th>\n",
       "      <th>PR(&gt;F)</th>\n",
       "    </tr>\n",
       "  </thead>\n",
       "  <tbody>\n",
       "    <tr>\n",
       "      <th>C(color)</th>\n",
       "      <td>7.288793e+09</td>\n",
       "      <td>2.0</td>\n",
       "      <td>263.135142</td>\n",
       "      <td>1.298667e-111</td>\n",
       "    </tr>\n",
       "    <tr>\n",
       "      <th>C(cut)</th>\n",
       "      <td>6.079363e+08</td>\n",
       "      <td>2.0</td>\n",
       "      <td>21.947309</td>\n",
       "      <td>3.110874e-10</td>\n",
       "    </tr>\n",
       "    <tr>\n",
       "      <th>C(color):C(cut)</th>\n",
       "      <td>2.970965e+08</td>\n",
       "      <td>4.0</td>\n",
       "      <td>5.362789</td>\n",
       "      <td>2.605743e-04</td>\n",
       "    </tr>\n",
       "    <tr>\n",
       "      <th>Residual</th>\n",
       "      <td>1.179596e+11</td>\n",
       "      <td>8517.0</td>\n",
       "      <td>NaN</td>\n",
       "      <td>NaN</td>\n",
       "    </tr>\n",
       "  </tbody>\n",
       "</table>\n",
       "</div>"
      ],
      "text/plain": [
       "                       sum_sq      df           F         PR(>F)\n",
       "C(color)         7.288793e+09     2.0  263.135142  1.298667e-111\n",
       "C(cut)           6.079363e+08     2.0   21.947309   3.110874e-10\n",
       "C(color):C(cut)  2.970965e+08     4.0    5.362789   2.605743e-04\n",
       "Residual         1.179596e+11  8517.0         NaN            NaN"
      ]
     },
     "execution_count": 84,
     "metadata": {},
     "output_type": "execute_result"
    }
   ],
   "source": [
    "e_color = df.loc[df['color']=='E', 'price']\n",
    "i_color = df.loc[df['color']=='I', 'price']\n",
    "j_color = df.loc[df['color']=='J', 'price']\n",
    "\n",
    "ideal_cut = df.loc[df['cut']=='Ideal', 'price']\n",
    "good_cut = df.loc[df['cut']=='Good', 'price']\n",
    "fair_cut = df.loc[df['cut']=='Fair', 'price']\n",
    "\n",
    "cond1 = (df['color']=='E') | (df['color']=='I') | (df['color']=='J')\n",
    "cond2 = (df['cut']=='Good') | (df['cut']=='Ideal') | (df['cut']=='Fair')\n",
    "samp_df2 = df.loc[cond1 & cond2][['cut', 'color', 'price']]\n",
    "\n",
    "# 분산분석\n",
    "from statsmodels.formula.api import ols\n",
    "from statsmodels.stats.anova import anova_lm\n",
    "formula = 'price ~ C(color) + C(cut) + C(color):C(cut)'\n",
    "model = ols(formula, samp_df2).fit()\n",
    "aov_table = anova_lm(model, typ=2)\n",
    "aov_table"
   ]
  },
  {
   "cell_type": "code",
   "execution_count": 87,
   "id": "a47705ab",
   "metadata": {},
   "outputs": [
    {
     "data": {
      "image/png": "[encoded data removed]",
      "text/plain": [
       "<Figure size 500x400 with 1 Axes>"
      ]
     },
     "metadata": {},
     "output_type": "display_data"
    }
   ],
   "source": [
    "from statsmodels.graphics.factorplots import interaction_plot\n",
    "cut = samp_df2['cut']\n",
    "color = samp_df2['color']\n",
    "price = samp_df2.price\n",
    "fig, ax = plt.subplots(figsize=(5,4))\n",
    "fig = interaction_plot(cut, color, price, colors=['red', 'blue', 'gray'], markers=['D', '^', '*'], ms=10, ax=ax)"
   ]
  },
  {
   "cell_type": "markdown",
   "id": "da4a2041",
   "metadata": {},
   "source": [
    "### 3) 독립성 검정\n",
    "- 귀무가설: 컷팅 품질과 투명도는 서로 독립이다.\n",
    "- 대립가설: 컷팅 품질과 투명도는 서로 독립이 아니다."
   ]
  },
  {
   "cell_type": "code",
   "execution_count": 94,
   "id": "ce14d92c",
   "metadata": {},
   "outputs": [
    {
     "name": "stdout",
     "output_type": "stream",
     "text": [
      "검정통계량:  4095.0133742617845\n",
      "p-value:  0.0\n"
     ]
    }
   ],
   "source": [
    "tab = pd.crosstab(df['cut'], df['clarity'])\n",
    "chi, p, dff, expect = stats.chi2_contingency(tab)\n",
    "print('검정통계량: ', chi)\n",
    "print('p-value: ', p) # 귀무가설 기각"
   ]
  },
  {
   "cell_type": "code",
   "execution_count": 103,
   "id": "4afc7e84",
   "metadata": {},
   "outputs": [
    {
     "name": "stdout",
     "output_type": "stream",
     "text": [
      "Spearman Correlation Matrix:\n",
      "[[ 1.  -0.5 -0.2 -0.1 -0.2 -0.2 -0.5 -0.5]\n",
      " [-0.5  1.   0.9  0.7  0.9  0.9  1.   1. ]\n",
      " [-0.2  0.9  1.   0.9  1.   1.   0.9  0.9]\n",
      " [-0.1  0.7  0.9  1.   0.9  0.9  0.7  0.7]\n",
      " [-0.2  0.9  1.   0.9  1.   1.   0.9  0.9]\n",
      " [-0.2  0.9  1.   0.9  1.   1.   0.9  0.9]\n",
      " [-0.5  1.   0.9  0.7  0.9  0.9  1.   1. ]\n",
      " [-0.5  1.   0.9  0.7  0.9  0.9  1.   1. ]]\n",
      "\n",
      "P-values Matrix:\n",
      "[[1.40426542e-24 3.91002219e-01 7.47060078e-01 8.72888572e-01\n",
      "  7.47060078e-01 7.47060078e-01 3.91002219e-01 3.91002219e-01]\n",
      " [3.91002219e-01 1.40426542e-24 3.73860735e-02 1.88120404e-01\n",
      "  3.73860735e-02 3.73860735e-02 1.40426542e-24 1.40426542e-24]\n",
      " [7.47060078e-01 3.73860735e-02 1.40426542e-24 3.73860735e-02\n",
      "  1.40426542e-24 1.40426542e-24 3.73860735e-02 3.73860735e-02]\n",
      " [8.72888572e-01 1.88120404e-01 3.73860735e-02 1.40426542e-24\n",
      "  3.73860735e-02 3.73860735e-02 1.88120404e-01 1.88120404e-01]\n",
      " [7.47060078e-01 3.73860735e-02 1.40426542e-24 3.73860735e-02\n",
      "  1.40426542e-24 1.40426542e-24 3.73860735e-02 3.73860735e-02]\n",
      " [7.47060078e-01 3.73860735e-02 1.40426542e-24 3.73860735e-02\n",
      "  1.40426542e-24 1.40426542e-24 3.73860735e-02 3.73860735e-02]\n",
      " [3.91002219e-01 1.40426542e-24 3.73860735e-02 1.88120404e-01\n",
      "  3.73860735e-02 3.73860735e-02 1.40426542e-24 1.40426542e-24]\n",
      " [3.91002219e-01 1.40426542e-24 3.73860735e-02 1.88120404e-01\n",
      "  3.73860735e-02 3.73860735e-02 1.40426542e-24 1.40426542e-24]]\n"
     ]
    }
   ],
   "source": [
    "# 스피어만 상관분석\n",
    "correlation_matrix, p_values = stats.spearmanr(tab)\n",
    "print(\"Spearman Correlation Matrix:\")\n",
    "print(correlation_matrix)\n",
    "\n",
    "print(\"\\nP-values Matrix:\")\n",
    "print(p_values)"
   ]
  },
  {
   "cell_type": "markdown",
   "id": "6bdb2f75",
   "metadata": {},
   "source": [
    "### 4) 회귀분석"
   ]
  },
  {
   "cell_type": "code",
   "execution_count": 79,
   "id": "f0167b15",
   "metadata": {},
   "outputs": [
    {
     "data": {
      "text/html": [
       "<div>\n",
       "<style scoped>\n",
       "    .dataframe tbody tr th:only-of-type {\n",
       "        vertical-align: middle;\n",
       "    }\n",
       "\n",
       "    .dataframe tbody tr th {\n",
       "        vertical-align: top;\n",
       "    }\n",
       "\n",
       "    .dataframe thead th {\n",
       "        text-align: right;\n",
       "    }\n",
       "</style>\n",
       "<table border=\"1\" class=\"dataframe\">\n",
       "  <thead>\n",
       "    <tr style=\"text-align: right;\">\n",
       "      <th></th>\n",
       "      <th>carat</th>\n",
       "      <th>depth</th>\n",
       "      <th>table</th>\n",
       "      <th>price</th>\n",
       "      <th>x</th>\n",
       "      <th>y</th>\n",
       "      <th>z</th>\n",
       "      <th>cut_Good</th>\n",
       "      <th>cut_Ideal</th>\n",
       "      <th>cut_Premium</th>\n",
       "      <th>...</th>\n",
       "      <th>color_H</th>\n",
       "      <th>color_I</th>\n",
       "      <th>color_J</th>\n",
       "      <th>clarity_IF</th>\n",
       "      <th>clarity_SI1</th>\n",
       "      <th>clarity_SI2</th>\n",
       "      <th>clarity_VS1</th>\n",
       "      <th>clarity_VS2</th>\n",
       "      <th>clarity_VVS1</th>\n",
       "      <th>clarity_VVS2</th>\n",
       "    </tr>\n",
       "  </thead>\n",
       "  <tbody>\n",
       "    <tr>\n",
       "      <th>0</th>\n",
       "      <td>0.23</td>\n",
       "      <td>61.5</td>\n",
       "      <td>55.0</td>\n",
       "      <td>326</td>\n",
       "      <td>3.95</td>\n",
       "      <td>3.98</td>\n",
       "      <td>2.43</td>\n",
       "      <td>0</td>\n",
       "      <td>1</td>\n",
       "      <td>0</td>\n",
       "      <td>...</td>\n",
       "      <td>0</td>\n",
       "      <td>0</td>\n",
       "      <td>0</td>\n",
       "      <td>0</td>\n",
       "      <td>0</td>\n",
       "      <td>1</td>\n",
       "      <td>0</td>\n",
       "      <td>0</td>\n",
       "      <td>0</td>\n",
       "      <td>0</td>\n",
       "    </tr>\n",
       "    <tr>\n",
       "      <th>1</th>\n",
       "      <td>0.21</td>\n",
       "      <td>59.8</td>\n",
       "      <td>61.0</td>\n",
       "      <td>326</td>\n",
       "      <td>3.89</td>\n",
       "      <td>3.84</td>\n",
       "      <td>2.31</td>\n",
       "      <td>0</td>\n",
       "      <td>0</td>\n",
       "      <td>1</td>\n",
       "      <td>...</td>\n",
       "      <td>0</td>\n",
       "      <td>0</td>\n",
       "      <td>0</td>\n",
       "      <td>0</td>\n",
       "      <td>1</td>\n",
       "      <td>0</td>\n",
       "      <td>0</td>\n",
       "      <td>0</td>\n",
       "      <td>0</td>\n",
       "      <td>0</td>\n",
       "    </tr>\n",
       "    <tr>\n",
       "      <th>2</th>\n",
       "      <td>0.23</td>\n",
       "      <td>56.9</td>\n",
       "      <td>65.0</td>\n",
       "      <td>327</td>\n",
       "      <td>4.05</td>\n",
       "      <td>4.07</td>\n",
       "      <td>2.31</td>\n",
       "      <td>1</td>\n",
       "      <td>0</td>\n",
       "      <td>0</td>\n",
       "      <td>...</td>\n",
       "      <td>0</td>\n",
       "      <td>0</td>\n",
       "      <td>0</td>\n",
       "      <td>0</td>\n",
       "      <td>0</td>\n",
       "      <td>0</td>\n",
       "      <td>1</td>\n",
       "      <td>0</td>\n",
       "      <td>0</td>\n",
       "      <td>0</td>\n",
       "    </tr>\n",
       "    <tr>\n",
       "      <th>3</th>\n",
       "      <td>0.29</td>\n",
       "      <td>62.4</td>\n",
       "      <td>58.0</td>\n",
       "      <td>334</td>\n",
       "      <td>4.20</td>\n",
       "      <td>4.23</td>\n",
       "      <td>2.63</td>\n",
       "      <td>0</td>\n",
       "      <td>0</td>\n",
       "      <td>1</td>\n",
       "      <td>...</td>\n",
       "      <td>0</td>\n",
       "      <td>1</td>\n",
       "      <td>0</td>\n",
       "      <td>0</td>\n",
       "      <td>0</td>\n",
       "      <td>0</td>\n",
       "      <td>0</td>\n",
       "      <td>1</td>\n",
       "      <td>0</td>\n",
       "      <td>0</td>\n",
       "    </tr>\n",
       "    <tr>\n",
       "      <th>4</th>\n",
       "      <td>0.31</td>\n",
       "      <td>63.3</td>\n",
       "      <td>58.0</td>\n",
       "      <td>335</td>\n",
       "      <td>4.34</td>\n",
       "      <td>4.35</td>\n",
       "      <td>2.75</td>\n",
       "      <td>1</td>\n",
       "      <td>0</td>\n",
       "      <td>0</td>\n",
       "      <td>...</td>\n",
       "      <td>0</td>\n",
       "      <td>0</td>\n",
       "      <td>1</td>\n",
       "      <td>0</td>\n",
       "      <td>0</td>\n",
       "      <td>1</td>\n",
       "      <td>0</td>\n",
       "      <td>0</td>\n",
       "      <td>0</td>\n",
       "      <td>0</td>\n",
       "    </tr>\n",
       "  </tbody>\n",
       "</table>\n",
       "<p>5 rows × 24 columns</p>\n",
       "</div>"
      ],
      "text/plain": [
       "   carat  depth  table  price     x     y     z  cut_Good  cut_Ideal  \\\n",
       "0   0.23   61.5   55.0    326  3.95  3.98  2.43         0          1   \n",
       "1   0.21   59.8   61.0    326  3.89  3.84  2.31         0          0   \n",
       "2   0.23   56.9   65.0    327  4.05  4.07  2.31         1          0   \n",
       "3   0.29   62.4   58.0    334  4.20  4.23  2.63         0          0   \n",
       "4   0.31   63.3   58.0    335  4.34  4.35  2.75         1          0   \n",
       "\n",
       "   cut_Premium  ...  color_H  color_I  color_J  clarity_IF  clarity_SI1  \\\n",
       "0            0  ...        0        0        0           0            0   \n",
       "1            1  ...        0        0        0           0            1   \n",
       "2            0  ...        0        0        0           0            0   \n",
       "3            1  ...        0        1        0           0            0   \n",
       "4            0  ...        0        0        1           0            0   \n",
       "\n",
       "   clarity_SI2  clarity_VS1  clarity_VS2  clarity_VVS1  clarity_VVS2  \n",
       "0            1            0            0             0             0  \n",
       "1            0            0            0             0             0  \n",
       "2            0            1            0             0             0  \n",
       "3            0            0            1             0             0  \n",
       "4            1            0            0             0             0  \n",
       "\n",
       "[5 rows x 24 columns]"
      ]
     },
     "execution_count": 79,
     "metadata": {},
     "output_type": "execute_result"
    }
   ],
   "source": [
    "import statsmodels.api as sm\n",
    "import statsmodels.formula.api as smf\n",
    "reg_df = pd.get_dummies(data=df, columns=['cut', 'color', 'clarity'], drop_first=True)\n",
    "reg_df.head()"
   ]
  },
  {
   "cell_type": "code",
   "execution_count": 81,
   "id": "0622ee16",
   "metadata": {},
   "outputs": [
    {
     "name": "stdout",
     "output_type": "stream",
     "text": [
      "price ~ carat + depth + table + x + y + z + cut_Good + cut_Ideal + cut_Premium + cut_Very_Good + color_E + color_F + color_G + color_H + color_I + color_J + clarity_IF + clarity_SI1 + clarity_SI2 + clarity_VS1 + clarity_VS2 + clarity_VVS1 + clarity_VVS2\n",
      "\n",
      "                            OLS Regression Results                            \n",
      "==============================================================================\n",
      "Dep. Variable:                  price   R-squared:                       0.920\n",
      "Model:                            OLS   Adj. R-squared:                  0.920\n",
      "Method:                 Least Squares   F-statistic:                 2.496e+04\n",
      "Date:                Wed, 26 Jul 2023   Prob (F-statistic):               0.00\n",
      "Time:                        11:40:11   Log-Likelihood:            -4.2251e+05\n",
      "No. Observations:               50000   AIC:                         8.451e+05\n",
      "Df Residuals:                   49976   BIC:                         8.453e+05\n",
      "Df Model:                          23                                         \n",
      "Covariance Type:            nonrobust                                         \n",
      "=================================================================================\n",
      "                    coef    std err          t      P>|t|      [0.025      0.975]\n",
      "---------------------------------------------------------------------------------\n",
      "Intercept      2235.7756    424.803      5.263      0.000    1403.157    3068.394\n",
      "carat          1.121e+04     50.398    222.491      0.000    1.11e+04    1.13e+04\n",
      "depth           -66.4952      4.717    -14.096      0.000     -75.741     -57.249\n",
      "table           -26.0845      3.030     -8.608      0.000     -32.024     -20.145\n",
      "x              -994.0632     33.630    -29.559      0.000   -1059.978    -928.148\n",
      "y                 5.9373     19.404      0.306      0.760     -32.095      43.969\n",
      "z               -39.6250     34.239     -1.157      0.247    -106.733      27.483\n",
      "cut_Good        599.8076     34.950     17.162      0.000     531.305     668.310\n",
      "cut_Ideal       852.1990     34.827     24.470      0.000     783.938     920.460\n",
      "cut_Premium     778.4580     33.596     23.171      0.000     712.609     844.307\n",
      "cut_Very_Good   747.4405     33.595     22.249      0.000     681.595     813.286\n",
      "color_E        -212.8573     18.659    -11.408      0.000    -249.429    -176.285\n",
      "color_F        -278.4960     18.861    -14.766      0.000    -315.463    -241.529\n",
      "color_G        -485.9989     18.486    -26.290      0.000    -522.232    -449.766\n",
      "color_H        -984.3977     19.634    -50.136      0.000   -1022.881    -945.914\n",
      "color_I       -1467.8807     22.017    -66.672      0.000   -1511.033   -1424.728\n",
      "color_J       -2373.2451     27.203    -87.242      0.000   -2426.563   -2319.927\n",
      "clarity_IF     5366.7961     53.167    100.942      0.000    5262.588    5471.004\n",
      "clarity_SI1    3680.9750     45.372     81.129      0.000    3592.045    3769.905\n",
      "clarity_SI2    2721.0613     45.562     59.722      0.000    2631.760    2810.363\n",
      "clarity_VS1    4590.5034     46.319     99.106      0.000    4499.717    4681.289\n",
      "clarity_VS2    4283.0063     45.597     93.932      0.000    4193.636    4372.376\n",
      "clarity_VVS1   5036.7387     49.061    102.663      0.000    4940.579    5132.898\n",
      "clarity_VVS2   4963.1282     47.683    104.086      0.000    4869.669    5056.587\n",
      "==============================================================================\n",
      "Omnibus:                    13290.523   Durbin-Watson:                   1.196\n",
      "Prob(Omnibus):                  0.000   Jarque-Bera (JB):           537289.978\n",
      "Skew:                           0.556   Prob(JB):                         0.00\n",
      "Kurtosis:                      19.021   Cond. No.                     7.15e+03\n",
      "==============================================================================\n",
      "\n",
      "Notes:\n",
      "[1] Standard Errors assume that the covariance matrix of the errors is correctly specified.\n",
      "[2] The condition number is large, 7.15e+03. This might indicate that there are\n",
      "strong multicollinearity or other numerical problems.\n"
     ]
    }
   ],
   "source": [
    "# 회귀분석을 위한 변수명 변경 formula 생성\n",
    "reg_col = []\n",
    "for col in reg_df.columns:\n",
    "    if ' ' in col:\n",
    "        reg_col.append(col.replace(' ', '_'))\n",
    "    else: \n",
    "        reg_col.append(col)\n",
    "        \n",
    "reg_df.columns = reg_col\n",
    "        \n",
    "# 회귀분석을 위한 formula 생성\n",
    "y_X = 'price ~ ' + ' + '.join(reg_col).replace('+ price ', '')\n",
    "print(y_X)\n",
    "\n",
    "# 회귀분석\n",
    "model = smf.ols(formula=y_X, data=reg_df)\n",
    "result = model.fit()\n",
    "print()\n",
    "print(result.summary())"
   ]
  },
  {
   "cell_type": "code",
   "execution_count": 48,
   "id": "a7f587f9",
   "metadata": {},
   "outputs": [
    {
     "data": {
      "text/html": [
       "<div>\n",
       "<style scoped>\n",
       "    .dataframe tbody tr th:only-of-type {\n",
       "        vertical-align: middle;\n",
       "    }\n",
       "\n",
       "    .dataframe tbody tr th {\n",
       "        vertical-align: top;\n",
       "    }\n",
       "\n",
       "    .dataframe thead th {\n",
       "        text-align: right;\n",
       "    }\n",
       "</style>\n",
       "<table border=\"1\" class=\"dataframe\">\n",
       "  <thead>\n",
       "    <tr style=\"text-align: right;\">\n",
       "      <th></th>\n",
       "      <th>vif</th>\n",
       "      <th>variable</th>\n",
       "    </tr>\n",
       "  </thead>\n",
       "  <tbody>\n",
       "    <tr>\n",
       "      <th>3</th>\n",
       "      <td>55.686440</td>\n",
       "      <td>x</td>\n",
       "    </tr>\n",
       "    <tr>\n",
       "      <th>5</th>\n",
       "      <td>22.879063</td>\n",
       "      <td>z</td>\n",
       "    </tr>\n",
       "    <tr>\n",
       "      <th>0</th>\n",
       "      <td>22.388005</td>\n",
       "      <td>carat</td>\n",
       "    </tr>\n",
       "    <tr>\n",
       "      <th>4</th>\n",
       "      <td>19.289243</td>\n",
       "      <td>y</td>\n",
       "    </tr>\n",
       "    <tr>\n",
       "      <th>17</th>\n",
       "      <td>14.754243</td>\n",
       "      <td>clarity_SI1</td>\n",
       "    </tr>\n",
       "    <tr>\n",
       "      <th>20</th>\n",
       "      <td>14.289550</td>\n",
       "      <td>clarity_VS2</td>\n",
       "    </tr>\n",
       "    <tr>\n",
       "      <th>18</th>\n",
       "      <td>11.454903</td>\n",
       "      <td>clarity_SI2</td>\n",
       "    </tr>\n",
       "    <tr>\n",
       "      <th>7</th>\n",
       "      <td>11.352133</td>\n",
       "      <td>cut_Ideal</td>\n",
       "    </tr>\n",
       "    <tr>\n",
       "      <th>19</th>\n",
       "      <td>10.771195</td>\n",
       "      <td>clarity_VS1</td>\n",
       "    </tr>\n",
       "    <tr>\n",
       "      <th>8</th>\n",
       "      <td>8.395071</td>\n",
       "      <td>cut_Premium</td>\n",
       "    </tr>\n",
       "  </tbody>\n",
       "</table>\n",
       "</div>"
      ],
      "text/plain": [
       "          vif     variable\n",
       "3   55.686440            x\n",
       "5   22.879063            z\n",
       "0   22.388005        carat\n",
       "4   19.289243            y\n",
       "17  14.754243  clarity_SI1\n",
       "20  14.289550  clarity_VS2\n",
       "18  11.454903  clarity_SI2\n",
       "7   11.352133    cut_Ideal\n",
       "19  10.771195  clarity_VS1\n",
       "8    8.395071  cut_Premium"
      ]
     },
     "execution_count": 48,
     "metadata": {},
     "output_type": "execute_result"
    }
   ],
   "source": [
    "# 다중공선성 확인\n",
    "from patsy import dmatrices\n",
    "from statsmodels.stats.outliers_influence import variance_inflation_factor\n",
    "\n",
    "y, X = dmatrices(y_X, data=reg_df, return_type='dataframe')\n",
    "\n",
    "# 독립변수끼리의 VIF 값을 계산하여 데이터프레임으로 만듦\n",
    "vif_lst = []\n",
    "for i in range(1, len(X.columns)):\n",
    "    vif_lst.append([variance_inflation_factor(X.values, i), X.columns[i]])\n",
    "pd.DataFrame(vif_lst, columns=['vif', 'variable']).sort_values('vif', ascending=False).head(10)"
   ]
  },
  {
   "cell_type": "code",
   "execution_count": 84,
   "id": "f2ffef8e",
   "metadata": {},
   "outputs": [
    {
     "name": "stdout",
     "output_type": "stream",
     "text": [
      "['x', 'z', 'carat', 'y', 'clarity_SI1', 'clarity_VS2', 'clarity_SI2', 'cut_Ideal', 'clarity_VS1', 'cut_Premium']\n",
      "price ~ depth + table + cut_Good + cut_Very_Good + color_E + color_F + color_G + color_H + color_I + color_J + clarity_IF + clarity_VVS1 + clarity_VVS2\n",
      "\n",
      "                            OLS Regression Results                            \n",
      "==============================================================================\n",
      "Dep. Variable:                  price   R-squared:                       0.060\n",
      "Model:                            OLS   Adj. R-squared:                  0.060\n",
      "Method:                 Least Squares   F-statistic:                     247.5\n",
      "Date:                Wed, 26 Jul 2023   Prob (F-statistic):               0.00\n",
      "Time:                        11:42:43   Log-Likelihood:            -4.8406e+05\n",
      "No. Observations:               50000   AIC:                         9.682e+05\n",
      "Df Residuals:                   49986   BIC:                         9.683e+05\n",
      "Df Model:                          13                                         \n",
      "Covariance Type:            nonrobust                                         \n",
      "=================================================================================\n",
      "                    coef    std err          t      P>|t|      [0.025      0.975]\n",
      "---------------------------------------------------------------------------------\n",
      "Intercept     -1.186e+04   1079.449    -10.985      0.000    -1.4e+04   -9742.015\n",
      "depth            41.7204     13.081      3.189      0.001      16.081      67.360\n",
      "table           220.5721      8.572     25.732      0.000     203.771     237.373\n",
      "cut_Good       -435.9882     63.977     -6.815      0.000    -561.385    -310.592\n",
      "cut_Very_Good  -136.2960     42.981     -3.171      0.002    -220.540     -52.052\n",
      "color_E         -42.7496     63.835     -0.670      0.503    -167.867      82.368\n",
      "color_F         665.5152     64.251     10.358      0.000     539.582     791.448\n",
      "color_G        1007.6638     62.489     16.126      0.000     885.186    1130.142\n",
      "color_H        1358.2349     66.210     20.514      0.000    1228.462    1488.007\n",
      "color_I        1932.3315     73.484     26.296      0.000    1788.302    2076.361\n",
      "color_J        2041.8171     90.574     22.543      0.000    1864.291    2219.344\n",
      "clarity_IF    -1197.9961     98.962    -12.106      0.000   -1391.963   -1004.029\n",
      "clarity_VVS1  -1515.7970     70.077    -21.631      0.000   -1653.148   -1378.446\n",
      "clarity_VVS2   -725.4809     60.244    -12.042      0.000    -843.561    -607.401\n",
      "==============================================================================\n",
      "Omnibus:                    13876.196   Durbin-Watson:                   0.101\n",
      "Prob(Omnibus):                  0.000   Jarque-Bera (JB):            31973.725\n",
      "Skew:                           1.589   Prob(JB):                         0.00\n",
      "Kurtosis:                       5.292   Cond. No.                     5.26e+03\n",
      "==============================================================================\n",
      "\n",
      "Notes:\n",
      "[1] Standard Errors assume that the covariance matrix of the errors is correctly specified.\n",
      "[2] The condition number is large, 5.26e+03. This might indicate that there are\n",
      "strong multicollinearity or other numerical problems.\n"
     ]
    }
   ],
   "source": [
    "# vif 값이 높은 상위 10개 독립변수 제거\n",
    "remove_col=pd.DataFrame(vif_lst, columns=['vif', 'variable']).sort_values('vif', ascending=False).head(10).variable.tolist()\n",
    "print(remove_col)\n",
    "reg_df2 = reg_df.drop(columns = remove_col, axis=1)\n",
    "\n",
    "# 회귀분석을 위한 formula 생성\n",
    "y_X_2 = 'price ~ ' + ' + '.join(reg_df2.columns).replace('+ price ', '')\n",
    "print(y_X_2)\n",
    "\n",
    "# 변수 제거후 회귀분석\n",
    "model2 = smf.ols(formula=y_X_2, data=reg_df2)\n",
    "result2 = model2.fit()\n",
    "print()\n",
    "print(result2.summary())"
   ]
  },
  {
   "cell_type": "code",
   "execution_count": 86,
   "id": "5483dce5",
   "metadata": {},
   "outputs": [
    {
     "name": "stdout",
     "output_type": "stream",
     "text": [
      "다중공선성 의심 변수를 제거한 회귀분석의 수정된 결정계수 값이 더 낮아졌다.\n"
     ]
    }
   ],
   "source": [
    "print('다중공선성 의심 변수를 제거한 회귀분석의 수정된 결정계수 값이 더 낮아졌다.')"
   ]
  },
  {
   "cell_type": "markdown",
   "id": "9c953dca",
   "metadata": {},
   "source": [
    "## 3. 머신러닝"
   ]
  },
  {
   "cell_type": "code",
   "execution_count": 111,
   "id": "8389b251",
   "metadata": {},
   "outputs": [],
   "source": [
    "from sklearn.model_selection import train_test_split\n",
    "from sklearn.preprocessing import StandardScaler\n",
    "from sklearn.ensemble import RandomForestRegressor\n",
    "from sklearn.linear_model import Lasso, Ridge\n",
    "from sklearn.metrics import r2_score, mean_squared_error\n",
    "from sklearn.svm import SVR\n",
    "import time\n",
    "\n",
    "# 원핫인코딩\n",
    "df2=pd.get_dummies(data= df, columns=['cut', 'color', 'clarity'], drop_first=True)\n",
    "\n",
    "# 데이터 분할\n",
    "X = df2.drop('price', axis=1)\n",
    "y = df2.price\n",
    "X_train, X_test, y_train, y_test = train_test_split(X, y, random_state=123)\n",
    "\n",
    "# 스케일링\n",
    "scaler = StandardScaler()\n",
    "X_train_sc = scaler.fit_transform(X_train)\n",
    "X_test_sc = scaler.transform(X_test)\n",
    "\n",
    "# 모델 객체 생성\n",
    "svr = SVR()\n",
    "rfr_reg = RandomForestRegressor(random_state=123)\n",
    "lasso=Lasso()\n",
    "ridge = Ridge()\n",
    "\n",
    "def model_train_test(model):\n",
    "    start=time.time()\n",
    "    model.fit(X_train_sc, y_train)\n",
    "    end=time.time()\n",
    "    y_pred = model.predict(X_test_sc)\n",
    "    r2 = round(r2_score(y_pred, y_test), 4)\n",
    "    rmse = round(np.sqrt(mean_squared_error(y_pred, y_test)), 4)\n",
    "    print(f'<<{model.__class__.__name__}>>')\n",
    "    print('R2 Score: ', r2)\n",
    "    print('RMSE: ', rmse)\n",
    "    print(f'time : {round(end-start, 4)}')"
   ]
  },
  {
   "cell_type": "code",
   "execution_count": 113,
   "id": "d09ff656",
   "metadata": {},
   "outputs": [
    {
     "name": "stdout",
     "output_type": "stream",
     "text": [
      "<<SVR>>\n",
      "R2 Score:  -6.1835\n",
      "RMSE:  3300.8039\n",
      "time : 141.5914\n",
      "<<RandomForestRegressor>>\n",
      "R2 Score:  0.9767\n",
      "RMSE:  599.0917\n",
      "time : 28.2963\n",
      "<<Lasso>>\n",
      "R2 Score:  0.9152\n",
      "RMSE:  1109.02\n",
      "time : 0.3608\n",
      "<<Ridge>>\n",
      "R2 Score:  0.9122\n",
      "RMSE:  1132.486\n",
      "time : 0.011\n"
     ]
    }
   ],
   "source": [
    "model_train_test(svr)\n",
    "model_train_test(rfr_reg)\n",
    "model_train_test(lasso)\n",
    "model_train_test(ridge)"
   ]
  },
  {
   "cell_type": "markdown",
   "id": "0e911a22",
   "metadata": {},
   "source": [
    "---\n",
    "#### 종속변수 price를 로그변환하여 다시 모델 구현"
   ]
  },
  {
   "cell_type": "code",
   "execution_count": 127,
   "id": "701929e9",
   "metadata": {},
   "outputs": [
    {
     "data": {
      "image/png": "[encoded data removed]",
      "text/plain": [
       "<Figure size 600x200 with 2 Axes>"
      ]
     },
     "metadata": {},
     "output_type": "display_data"
    }
   ],
   "source": [
    "fig, ax = plt.subplots(nrows=1, ncols=2, figsize=(6,2))\n",
    "ax[0].hist(df.price, bins=20)\n",
    "ax[1].hist(np.log1p(df.price), bins=20)\n",
    "plt.tight_layout();"
   ]
  },
  {
   "cell_type": "code",
   "execution_count": 143,
   "id": "b468a1d4",
   "metadata": {},
   "outputs": [],
   "source": [
    "# 로그변환 종속변수 추가\n",
    "df2['log_price'] = np.log1p(df.price) \n",
    "\n",
    "# 데이터 분할\n",
    "X = df2.drop(['price', 'log_price'], axis=1)\n",
    "y = df2['log_price']\n",
    "X_train, X_test, y_train, y_test = train_test_split(X, y, random_state=123)\n",
    "\n",
    "# 스케일링\n",
    "scaler = StandardScaler()\n",
    "X_train_sc = scaler.fit_transform(X_train)\n",
    "X_test_sc = scaler.transform(X_test)\n",
    "\n",
    "def model_train_test_exp(model):\n",
    "    start=time.time()\n",
    "    model.fit(X_train_sc, y_train)\n",
    "    end=time.time()\n",
    "    y_pred = model.predict(X_test_sc)\n",
    "    y_test_exp = np.expm1(y_test)\n",
    "    pred_exp = np.expm1(y_pred)\n",
    "    r2 = round(r2_score(pred_exp, y_test_exp), 4)\n",
    "    rmse = round(np.sqrt(mean_squared_error(pred_exp, y_test_exp)), 4)\n",
    "    print(f'<<{model.__class__.__name__}>>')\n",
    "    print('R2 Score: ', r2)\n",
    "    print('RMSE: ', rmse)\n",
    "    print(f'time : {round(end-start, 4)}')"
   ]
  },
  {
   "cell_type": "code",
   "execution_count": 144,
   "id": "c1bb828a",
   "metadata": {},
   "outputs": [
    {
     "name": "stdout",
     "output_type": "stream",
     "text": [
      "<<SVR>>\n",
      "R2 Score:  0.9768\n",
      "RMSE:  590.9808\n",
      "time : 83.2292\n",
      "<<RandomForestRegressor>>\n",
      "R2 Score:  0.9739\n",
      "RMSE:  627.7803\n",
      "time : 27.3628\n",
      "<<Lasso>>\n",
      "R2 Score:  0.0\n",
      "RMSE:  4244.7009\n",
      "time : 0.016\n",
      "<<Ridge>>\n",
      "R2 Score:  -0.0001\n",
      "RMSE:  1.2612454245708687e+18\n",
      "time : 0.01\n"
     ]
    }
   ],
   "source": [
    "model_train_test_exp(svr)\n",
    "model_train_test_exp(rfr_reg)\n",
    "model_train_test_exp(lasso)\n",
    "model_train_test_exp(ridge)"
   ]
  },
  {
   "cell_type": "code",
   "execution_count": null,
   "id": "69d73b52",
   "metadata": {},
   "outputs": [],
   "source": []
  }
 ],
 "metadata": {
  "kernelspec": {
   "display_name": "adp_code",
   "language": "python",
   "name": "adp_code"
  },
  "language_info": {
   "codemirror_mode": {
    "name": "ipython",
    "version": 3
   },
   "file_extension": ".py",
   "mimetype": "text/x-python",
   "name": "python",
   "nbconvert_exporter": "python",
   "pygments_lexer": "ipython3",
   "version": "3.7.16"
  }
 },
 "nbformat": 4,
 "nbformat_minor": 5
}
