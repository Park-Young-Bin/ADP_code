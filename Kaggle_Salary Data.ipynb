{
 "cells": [
  {
   "cell_type": "markdown",
   "id": "2459d3be",
   "metadata": {},
   "source": [
    "# [Kaggle_Salary_Data](https://www.kaggle.com/datasets/mohithsairamreddy/salary-data)"
   ]
  },
  {
   "cell_type": "code",
   "execution_count": 1,
   "id": "955067d6",
   "metadata": {},
   "outputs": [],
   "source": [
    "import pandas as pd\n",
    "import matplotlib.pyplot as plt\n",
    "import numpy as np\n",
    "import seaborn as sns\n",
    "import os\n",
    "import warnings \n",
    "plt.rc('font', family='Malgun Gothic')\n",
    "plt.rcParams['axes.unicode_minus']=False\n",
    "warnings.filterwarnings('ignore')"
   ]
  },
  {
   "cell_type": "markdown",
   "id": "a4ca59f3",
   "metadata": {},
   "source": [
    "## 1. EDA"
   ]
  },
  {
   "cell_type": "code",
   "execution_count": 99,
   "id": "3cbf6c1b",
   "metadata": {},
   "outputs": [
    {
     "data": {
      "text/html": [
       "<div>\n",
       "<style scoped>\n",
       "    .dataframe tbody tr th:only-of-type {\n",
       "        vertical-align: middle;\n",
       "    }\n",
       "\n",
       "    .dataframe tbody tr th {\n",
       "        vertical-align: top;\n",
       "    }\n",
       "\n",
       "    .dataframe thead th {\n",
       "        text-align: right;\n",
       "    }\n",
       "</style>\n",
       "<table border=\"1\" class=\"dataframe\">\n",
       "  <thead>\n",
       "    <tr style=\"text-align: right;\">\n",
       "      <th></th>\n",
       "      <th>Age</th>\n",
       "      <th>Gender</th>\n",
       "      <th>Education Level</th>\n",
       "      <th>Job Title</th>\n",
       "      <th>Years of Experience</th>\n",
       "      <th>Salary</th>\n",
       "    </tr>\n",
       "  </thead>\n",
       "  <tbody>\n",
       "    <tr>\n",
       "      <th>0</th>\n",
       "      <td>32.0</td>\n",
       "      <td>Male</td>\n",
       "      <td>Bachelor's</td>\n",
       "      <td>Software Engineer</td>\n",
       "      <td>5.0</td>\n",
       "      <td>90000.0</td>\n",
       "    </tr>\n",
       "    <tr>\n",
       "      <th>1</th>\n",
       "      <td>28.0</td>\n",
       "      <td>Female</td>\n",
       "      <td>Master's</td>\n",
       "      <td>Data Analyst</td>\n",
       "      <td>3.0</td>\n",
       "      <td>65000.0</td>\n",
       "    </tr>\n",
       "    <tr>\n",
       "      <th>2</th>\n",
       "      <td>45.0</td>\n",
       "      <td>Male</td>\n",
       "      <td>PhD</td>\n",
       "      <td>Senior Manager</td>\n",
       "      <td>15.0</td>\n",
       "      <td>150000.0</td>\n",
       "    </tr>\n",
       "    <tr>\n",
       "      <th>3</th>\n",
       "      <td>36.0</td>\n",
       "      <td>Female</td>\n",
       "      <td>Bachelor's</td>\n",
       "      <td>Sales Associate</td>\n",
       "      <td>7.0</td>\n",
       "      <td>60000.0</td>\n",
       "    </tr>\n",
       "    <tr>\n",
       "      <th>4</th>\n",
       "      <td>52.0</td>\n",
       "      <td>Male</td>\n",
       "      <td>Master's</td>\n",
       "      <td>Director</td>\n",
       "      <td>20.0</td>\n",
       "      <td>200000.0</td>\n",
       "    </tr>\n",
       "  </tbody>\n",
       "</table>\n",
       "</div>"
      ],
      "text/plain": [
       "    Age  Gender Education Level          Job Title  Years of Experience  \\\n",
       "0  32.0    Male      Bachelor's  Software Engineer                  5.0   \n",
       "1  28.0  Female        Master's       Data Analyst                  3.0   \n",
       "2  45.0    Male             PhD     Senior Manager                 15.0   \n",
       "3  36.0  Female      Bachelor's    Sales Associate                  7.0   \n",
       "4  52.0    Male        Master's           Director                 20.0   \n",
       "\n",
       "     Salary  \n",
       "0   90000.0  \n",
       "1   65000.0  \n",
       "2  150000.0  \n",
       "3   60000.0  \n",
       "4  200000.0  "
      ]
     },
     "metadata": {},
     "output_type": "display_data"
    },
    {
     "name": "stdout",
     "output_type": "stream",
     "text": [
      "<class 'pandas.core.frame.DataFrame'>\n",
      "RangeIndex: 6704 entries, 0 to 6703\n",
      "Data columns (total 6 columns):\n",
      " #   Column               Non-Null Count  Dtype  \n",
      "---  ------               --------------  -----  \n",
      " 0   Age                  6702 non-null   float64\n",
      " 1   Gender               6702 non-null   object \n",
      " 2   Education Level      6701 non-null   object \n",
      " 3   Job Title            6702 non-null   object \n",
      " 4   Years of Experience  6701 non-null   float64\n",
      " 5   Salary               6699 non-null   float64\n",
      "dtypes: float64(3), object(3)\n",
      "memory usage: 314.4+ KB\n",
      "None\n",
      "Age                    2\n",
      "Gender                 2\n",
      "Education Level        3\n",
      "Job Title              2\n",
      "Years of Experience    3\n",
      "Salary                 5\n",
      "dtype: int64\n"
     ]
    }
   ],
   "source": [
    "df =pd.read_csv(os.getcwd() + '/data/salary/Salary_Data.csv')\n",
    "display(df.head())\n",
    "print(df.info())\n",
    "print(df.isna().sum())"
   ]
  },
  {
   "cell_type": "code",
   "execution_count": 100,
   "id": "6ec0cbf6",
   "metadata": {},
   "outputs": [
    {
     "data": {
      "text/html": [
       "<div>\n",
       "<style scoped>\n",
       "    .dataframe tbody tr th:only-of-type {\n",
       "        vertical-align: middle;\n",
       "    }\n",
       "\n",
       "    .dataframe tbody tr th {\n",
       "        vertical-align: top;\n",
       "    }\n",
       "\n",
       "    .dataframe thead th {\n",
       "        text-align: right;\n",
       "    }\n",
       "</style>\n",
       "<table border=\"1\" class=\"dataframe\">\n",
       "  <thead>\n",
       "    <tr style=\"text-align: right;\">\n",
       "      <th></th>\n",
       "      <th>Age</th>\n",
       "      <th>Years of Experience</th>\n",
       "      <th>Salary</th>\n",
       "    </tr>\n",
       "  </thead>\n",
       "  <tbody>\n",
       "    <tr>\n",
       "      <th>count</th>\n",
       "      <td>6702.000000</td>\n",
       "      <td>6701.000000</td>\n",
       "      <td>6699.000000</td>\n",
       "    </tr>\n",
       "    <tr>\n",
       "      <th>mean</th>\n",
       "      <td>33.620859</td>\n",
       "      <td>8.094687</td>\n",
       "      <td>115326.964771</td>\n",
       "    </tr>\n",
       "    <tr>\n",
       "      <th>std</th>\n",
       "      <td>7.614633</td>\n",
       "      <td>6.059003</td>\n",
       "      <td>52786.183911</td>\n",
       "    </tr>\n",
       "    <tr>\n",
       "      <th>min</th>\n",
       "      <td>21.000000</td>\n",
       "      <td>0.000000</td>\n",
       "      <td>350.000000</td>\n",
       "    </tr>\n",
       "    <tr>\n",
       "      <th>25%</th>\n",
       "      <td>28.000000</td>\n",
       "      <td>3.000000</td>\n",
       "      <td>70000.000000</td>\n",
       "    </tr>\n",
       "    <tr>\n",
       "      <th>50%</th>\n",
       "      <td>32.000000</td>\n",
       "      <td>7.000000</td>\n",
       "      <td>115000.000000</td>\n",
       "    </tr>\n",
       "    <tr>\n",
       "      <th>75%</th>\n",
       "      <td>38.000000</td>\n",
       "      <td>12.000000</td>\n",
       "      <td>160000.000000</td>\n",
       "    </tr>\n",
       "    <tr>\n",
       "      <th>max</th>\n",
       "      <td>62.000000</td>\n",
       "      <td>34.000000</td>\n",
       "      <td>250000.000000</td>\n",
       "    </tr>\n",
       "  </tbody>\n",
       "</table>\n",
       "</div>"
      ],
      "text/plain": [
       "               Age  Years of Experience         Salary\n",
       "count  6702.000000          6701.000000    6699.000000\n",
       "mean     33.620859             8.094687  115326.964771\n",
       "std       7.614633             6.059003   52786.183911\n",
       "min      21.000000             0.000000     350.000000\n",
       "25%      28.000000             3.000000   70000.000000\n",
       "50%      32.000000             7.000000  115000.000000\n",
       "75%      38.000000            12.000000  160000.000000\n",
       "max      62.000000            34.000000  250000.000000"
      ]
     },
     "execution_count": 100,
     "metadata": {},
     "output_type": "execute_result"
    }
   ],
   "source": [
    "df.describe()"
   ]
  },
  {
   "cell_type": "code",
   "execution_count": 101,
   "id": "7e961d58",
   "metadata": {},
   "outputs": [
    {
     "data": {
      "image/png": "[encoded data removed]",
      "text/plain": [
       "<Figure size 800x200 with 3 Axes>"
      ]
     },
     "metadata": {},
     "output_type": "display_data"
    }
   ],
   "source": [
    "# 연속형 변수 히스토그램\n",
    "fig, ax = plt.subplots(nrows=1, ncols=3, figsize=(8,2))\n",
    "for i, feature in zip(range(3), ['Age', 'Years of Experience', 'Salary']):\n",
    "    col = i % 3\n",
    "    ax[col].hist(feature, bins=30, data=df)\n",
    "    ax[col].set_title(feature, fontsize=10)\n",
    "    \n",
    "plt.tight_layout();"
   ]
  },
  {
   "cell_type": "code",
   "execution_count": 102,
   "id": "902ec301",
   "metadata": {},
   "outputs": [
    {
     "name": "stdout",
     "output_type": "stream",
     "text": [
      "Male      3674\n",
      "Female    3014\n",
      "Other       14\n",
      "Name: Gender, dtype: int64\n",
      "----------------------------------------\n",
      "Bachelor's Degree    2267\n",
      "Master's Degree      1573\n",
      "PhD                  1368\n",
      "Bachelor's            756\n",
      "High School           448\n",
      "Master's              288\n",
      "phD                     1\n",
      "Name: Education Level, dtype: int64\n",
      "----------------------------------------\n",
      "Software Engineer                     518\n",
      "Data Scientist                        453\n",
      "Software Engineer Manager             376\n",
      "Data Analyst                          363\n",
      "Senior Project Engineer               318\n",
      "                                     ... \n",
      "Senior Account Executive                1\n",
      "Senior Human Resources Coordinator      1\n",
      "Customer Service Rep                    1\n",
      "Director                                1\n",
      "Director of Sales                       1\n",
      "Name: Job Title, Length: 193, dtype: int64\n"
     ]
    }
   ],
   "source": [
    "# 범주형 변수\n",
    "print(df['Gender'].value_counts())\n",
    "print('-'*40)\n",
    "print(df['Education Level'].value_counts())\n",
    "print('-'*40)\n",
    "print(df['Job Title'].value_counts())"
   ]
  },
  {
   "cell_type": "code",
   "execution_count": 103,
   "id": "891162b5",
   "metadata": {},
   "outputs": [
    {
     "data": {
      "text/plain": [
       "Age                    0\n",
       "Gender                 0\n",
       "Education Level        0\n",
       "Job Title              0\n",
       "Years of Experience    0\n",
       "Salary                 0\n",
       "dtype: int64"
      ]
     },
     "execution_count": 103,
     "metadata": {},
     "output_type": "execute_result"
    }
   ],
   "source": [
    "# Education Level 전처리\n",
    "df.loc[df['Education Level'] == \"Bachelor's\", 'Education Level'] = \"Bachelor's Degree\"\n",
    "df.loc[df['Education Level'] == \"Master's\", 'Education Level'] = \"Master's Degree\"\n",
    "df.loc[df['Education Level'] == \"phD\", 'Education Level'] = \"PhD\"\n",
    "\n",
    "# Gender의 Other 제거\n",
    "df=df.drop(df.loc[df['Gender']=='Other'].index)\n",
    "\n",
    "# 결측치 대체\n",
    "df = df.fillna(df.mean())\n",
    "df.loc[df['Gender'].isna(), 'Gender'] = 'Female'\n",
    "df.loc[df['Education Level'].isna(), 'Education Level'] = \"Bachelor's Degree\"\n",
    "df.loc[df['Job Title'].isna(), 'Job Title'] = \"Software Engineer\"\n",
    "df.isna().sum()"
   ]
  },
  {
   "cell_type": "code",
   "execution_count": 104,
   "id": "f80f39b3",
   "metadata": {},
   "outputs": [
    {
     "data": {
      "image/png": "[encoded data removed]",
      "text/plain": [
       "<Figure size 500x300 with 1 Axes>"
      ]
     },
     "metadata": {},
     "output_type": "display_data"
    }
   ],
   "source": [
    "# 연차에 따른 평균 연봉\n",
    "group_df1 = df.groupby('Years of Experience', as_index=False).Salary.mean()\n",
    "plt.figure(figsize=(5,3))\n",
    "plt.bar(group_df1['Years of Experience'], group_df1['Salary'])\n",
    "plt.xlabel('Years of Experience')\n",
    "plt.ylabel('Salary');"
   ]
  },
  {
   "cell_type": "code",
   "execution_count": 105,
   "id": "6842c7c5",
   "metadata": {},
   "outputs": [
    {
     "data": {
      "text/html": [
       "<div>\n",
       "<style scoped>\n",
       "    .dataframe tbody tr th:only-of-type {\n",
       "        vertical-align: middle;\n",
       "    }\n",
       "\n",
       "    .dataframe tbody tr th {\n",
       "        vertical-align: top;\n",
       "    }\n",
       "\n",
       "    .dataframe thead th {\n",
       "        text-align: right;\n",
       "    }\n",
       "</style>\n",
       "<table border=\"1\" class=\"dataframe\">\n",
       "  <thead>\n",
       "    <tr style=\"text-align: right;\">\n",
       "      <th></th>\n",
       "      <th>Job Title</th>\n",
       "      <th>Salary</th>\n",
       "    </tr>\n",
       "  </thead>\n",
       "  <tbody>\n",
       "    <tr>\n",
       "      <th>9</th>\n",
       "      <td>Chief Technology Officer</td>\n",
       "      <td>250000.000000</td>\n",
       "    </tr>\n",
       "    <tr>\n",
       "      <th>7</th>\n",
       "      <td>CEO</td>\n",
       "      <td>250000.000000</td>\n",
       "    </tr>\n",
       "    <tr>\n",
       "      <th>8</th>\n",
       "      <td>Chief Data Officer</td>\n",
       "      <td>220000.000000</td>\n",
       "    </tr>\n",
       "    <tr>\n",
       "      <th>28</th>\n",
       "      <td>Director of Data Science</td>\n",
       "      <td>204561.403509</td>\n",
       "    </tr>\n",
       "    <tr>\n",
       "      <th>190</th>\n",
       "      <td>VP of Finance</td>\n",
       "      <td>200000.000000</td>\n",
       "    </tr>\n",
       "    <tr>\n",
       "      <th>26</th>\n",
       "      <td>Director</td>\n",
       "      <td>200000.000000</td>\n",
       "    </tr>\n",
       "    <tr>\n",
       "      <th>191</th>\n",
       "      <td>VP of Operations</td>\n",
       "      <td>190000.000000</td>\n",
       "    </tr>\n",
       "    <tr>\n",
       "      <th>102</th>\n",
       "      <td>Operations Director</td>\n",
       "      <td>190000.000000</td>\n",
       "    </tr>\n",
       "    <tr>\n",
       "      <th>33</th>\n",
       "      <td>Director of Human Resources</td>\n",
       "      <td>187500.000000</td>\n",
       "    </tr>\n",
       "    <tr>\n",
       "      <th>96</th>\n",
       "      <td>Marketing Director</td>\n",
       "      <td>183984.375000</td>\n",
       "    </tr>\n",
       "  </tbody>\n",
       "</table>\n",
       "</div>"
      ],
      "text/plain": [
       "                       Job Title         Salary\n",
       "9       Chief Technology Officer  250000.000000\n",
       "7                            CEO  250000.000000\n",
       "8             Chief Data Officer  220000.000000\n",
       "28      Director of Data Science  204561.403509\n",
       "190                VP of Finance  200000.000000\n",
       "26                      Director  200000.000000\n",
       "191             VP of Operations  190000.000000\n",
       "102          Operations Director  190000.000000\n",
       "33   Director of Human Resources  187500.000000\n",
       "96            Marketing Director  183984.375000"
      ]
     },
     "execution_count": 105,
     "metadata": {},
     "output_type": "execute_result"
    }
   ],
   "source": [
    "# 상위 연봉을 갖는 직업군\n",
    "group_df2 = df.groupby('Job Title', as_index=False).Salary.mean()\n",
    "group_df2.sort_values('Salary', ascending=False).head(10)"
   ]
  },
  {
   "cell_type": "code",
   "execution_count": 106,
   "id": "6abd1c29",
   "metadata": {},
   "outputs": [
    {
     "data": {
      "text/html": [
       "<div>\n",
       "<style scoped>\n",
       "    .dataframe tbody tr th:only-of-type {\n",
       "        vertical-align: middle;\n",
       "    }\n",
       "\n",
       "    .dataframe tbody tr th {\n",
       "        vertical-align: top;\n",
       "    }\n",
       "\n",
       "    .dataframe thead th {\n",
       "        text-align: right;\n",
       "    }\n",
       "</style>\n",
       "<table border=\"1\" class=\"dataframe\">\n",
       "  <thead>\n",
       "    <tr style=\"text-align: right;\">\n",
       "      <th></th>\n",
       "      <th>Job Title</th>\n",
       "      <th>Salary</th>\n",
       "    </tr>\n",
       "  </thead>\n",
       "  <tbody>\n",
       "    <tr>\n",
       "      <th>61</th>\n",
       "      <td>Junior Business Operations Analyst</td>\n",
       "      <td>17675.000000</td>\n",
       "    </tr>\n",
       "    <tr>\n",
       "      <th>112</th>\n",
       "      <td>Receptionist</td>\n",
       "      <td>25000.000000</td>\n",
       "    </tr>\n",
       "    <tr>\n",
       "      <th>21</th>\n",
       "      <td>Delivery Driver</td>\n",
       "      <td>28000.000000</td>\n",
       "    </tr>\n",
       "    <tr>\n",
       "      <th>83</th>\n",
       "      <td>Junior Sales Associate</td>\n",
       "      <td>28211.267606</td>\n",
       "    </tr>\n",
       "    <tr>\n",
       "      <th>92</th>\n",
       "      <td>Juniour HR Coordinator</td>\n",
       "      <td>32000.000000</td>\n",
       "    </tr>\n",
       "    <tr>\n",
       "      <th>15</th>\n",
       "      <td>Customer Service Representative</td>\n",
       "      <td>33333.333333</td>\n",
       "    </tr>\n",
       "    <tr>\n",
       "      <th>19</th>\n",
       "      <td>Data Entry Clerk</td>\n",
       "      <td>35000.000000</td>\n",
       "    </tr>\n",
       "    <tr>\n",
       "      <th>49</th>\n",
       "      <td>Help Desk Analyst</td>\n",
       "      <td>35000.000000</td>\n",
       "    </tr>\n",
       "    <tr>\n",
       "      <th>63</th>\n",
       "      <td>Junior Customer Support Specialist</td>\n",
       "      <td>35000.000000</td>\n",
       "    </tr>\n",
       "    <tr>\n",
       "      <th>87</th>\n",
       "      <td>Junior Software Developer</td>\n",
       "      <td>35810.344828</td>\n",
       "    </tr>\n",
       "  </tbody>\n",
       "</table>\n",
       "</div>"
      ],
      "text/plain": [
       "                              Job Title        Salary\n",
       "61   Junior Business Operations Analyst  17675.000000\n",
       "112                        Receptionist  25000.000000\n",
       "21                      Delivery Driver  28000.000000\n",
       "83               Junior Sales Associate  28211.267606\n",
       "92               Juniour HR Coordinator  32000.000000\n",
       "15      Customer Service Representative  33333.333333\n",
       "19                     Data Entry Clerk  35000.000000\n",
       "49                    Help Desk Analyst  35000.000000\n",
       "63   Junior Customer Support Specialist  35000.000000\n",
       "87            Junior Software Developer  35810.344828"
      ]
     },
     "execution_count": 106,
     "metadata": {},
     "output_type": "execute_result"
    }
   ],
   "source": [
    "# 하위 연봉을 갖는 직업군\n",
    "group_df2.sort_values('Salary').head(10)"
   ]
  },
  {
   "cell_type": "code",
   "execution_count": 107,
   "id": "478ad5b0",
   "metadata": {},
   "outputs": [
    {
     "data": {
      "text/plain": [
       "Gender\n",
       "Female    107896.375218\n",
       "Male      121386.558457\n",
       "Name: Salary, dtype: float64"
      ]
     },
     "execution_count": 107,
     "metadata": {},
     "output_type": "execute_result"
    }
   ],
   "source": [
    "# 성별 평균 연봉\n",
    "df.groupby('Gender').Salary.mean()"
   ]
  },
  {
   "cell_type": "code",
   "execution_count": 108,
   "id": "aff8bc78",
   "metadata": {},
   "outputs": [
    {
     "data": {
      "text/html": [
       "<div>\n",
       "<style scoped>\n",
       "    .dataframe tbody tr th:only-of-type {\n",
       "        vertical-align: middle;\n",
       "    }\n",
       "\n",
       "    .dataframe tbody tr th {\n",
       "        vertical-align: top;\n",
       "    }\n",
       "\n",
       "    .dataframe thead th {\n",
       "        text-align: right;\n",
       "    }\n",
       "</style>\n",
       "<table border=\"1\" class=\"dataframe\">\n",
       "  <thead>\n",
       "    <tr style=\"text-align: right;\">\n",
       "      <th></th>\n",
       "      <th>Age</th>\n",
       "      <th>Years of Experience</th>\n",
       "      <th>Salary</th>\n",
       "    </tr>\n",
       "  </thead>\n",
       "  <tbody>\n",
       "    <tr>\n",
       "      <th>Age</th>\n",
       "      <td>1.000000</td>\n",
       "      <td>0.937468</td>\n",
       "      <td>0.728268</td>\n",
       "    </tr>\n",
       "    <tr>\n",
       "      <th>Years of Experience</th>\n",
       "      <td>0.937468</td>\n",
       "      <td>1.000000</td>\n",
       "      <td>0.810935</td>\n",
       "    </tr>\n",
       "    <tr>\n",
       "      <th>Salary</th>\n",
       "      <td>0.728268</td>\n",
       "      <td>0.810935</td>\n",
       "      <td>1.000000</td>\n",
       "    </tr>\n",
       "  </tbody>\n",
       "</table>\n",
       "</div>"
      ],
      "text/plain": [
       "                          Age  Years of Experience    Salary\n",
       "Age                  1.000000             0.937468  0.728268\n",
       "Years of Experience  0.937468             1.000000  0.810935\n",
       "Salary               0.728268             0.810935  1.000000"
      ]
     },
     "execution_count": 108,
     "metadata": {},
     "output_type": "execute_result"
    }
   ],
   "source": [
    "df.corr()"
   ]
  },
  {
   "cell_type": "markdown",
   "id": "b3378e10",
   "metadata": {},
   "source": [
    "[해석]\n",
    "1. 결측치 존재 여부\n",
    "    - 연속형 변수의 결칙는 각 변수들의 평균으로 대체했고, 범주형 변수는 최빈값으로 대체하였다.\n",
    "1. 데이터 구성\n",
    "    - 종속변수인 Salary는 float형으로 구성됐고, 독립변수는 object, float형으로 구성되었다.\n",
    "1. 독립변수와 종속변수의 상관관계\n",
    "    - Age와 Years of Experience 모두 종속변수와 높은 상관성(각각 0.73, 0.81)을 보이고 있다.\n",
    "1. 독립변수 간 상관관계\n",
    "    - Age와 Years of Experience 간에 높은 상관성(0.94)이 보이므로 다중공선성을 의심할 수 있다.\n",
    "1. 주의사항\n",
    "    - 다중공선성 문제를 주의하여야 한다. 따라서 두 변수 중 하나만 사용하거나 다중공선성 문제를 해결할 수 있는 모델을 사용한다. 예를 들어 랜덤포레스트, XGBoost, SVM 등이 있을 것이다.\n",
    "    - 수치형 연속변수의 단위가 서로 상이하므로 스케일링을 통해 값의 범위를 맞추는 방법을 고려할 수 있을 것이다."
   ]
  },
  {
   "cell_type": "markdown",
   "id": "32d255d6",
   "metadata": {},
   "source": [
    "## 2. 통계 분석\n",
    "### 1) 일표본 t-test(모분산 모름, 유의수준 5%)\n",
    "- 귀무가설: 평균 나이는 35세이다.\n",
    "- 대립가설: 평균 나이는 35세가 아니다."
   ]
  },
  {
   "cell_type": "code",
   "execution_count": 109,
   "id": "16e6b07c",
   "metadata": {},
   "outputs": [
    {
     "name": "stdout",
     "output_type": "stream",
     "text": [
      "Ttest_1sampResult(statistic=0.2481368795563765, pvalue=0.8063299700362077)\n",
      "신뢰구간:  (31.481062474079174, 39.47545926505126)\n"
     ]
    }
   ],
   "source": [
    "import scipy.stats as stats\n",
    "stats_df = df.copy()\n",
    "np.random.seed(1234)\n",
    "sample = np.random.choice(stats_df['Age'], 23)\n",
    "stats.shapiro(sample) # 정규성 만족\n",
    "print(stats.ttest_1samp(sample, popmean=35)) # 귀무가설 채택\n",
    "print('신뢰구간: ', stats.t.interval(alpha=0.95, df=23-1, loc=np.mean(sample), scale=stats.sem(sample)))"
   ]
  },
  {
   "cell_type": "markdown",
   "id": "28d50778",
   "metadata": {},
   "source": [
    "### 2) 독립표본 t-test(모분산 모름, 유의수준 5%)\n",
    "- 귀무가설: 성별에 따라 평균 연봉에 차이가 없다.\n",
    "- 대립가설: 성별에 따라 평균 연봉에 차이가 있다."
   ]
  },
  {
   "cell_type": "code",
   "execution_count": 110,
   "id": "b2702d9f",
   "metadata": {},
   "outputs": [
    {
     "name": "stdout",
     "output_type": "stream",
     "text": [
      "MannwhitneyuResult(statistic=250.5, pvalue=0.625733804325916)\n",
      "신뢰구간:  (-6607.083900556287, 15757.170857078016)\n"
     ]
    }
   ],
   "source": [
    "np.random.seed(1234)\n",
    "a_sample = np.random.choice(stats_df.loc[df['Gender']=='Male', 'Salary'], 20)\n",
    "b_sample = np.random.choice(stats_df.loc[df['Gender']=='Female', 'Salary'], 23)\n",
    "stats.shapiro(a_sample) # 정규성 만족 안 함\n",
    "stats.shapiro(b_sample) # 정규성 만족 안 함\n",
    "print(stats.mannwhitneyu(a_sample, b_sample)) # 귀무가설 기각\n",
    "\n",
    "def sp(data1, data2):\n",
    "    df = len(data1) + len(data2) -2\n",
    "    s1 = (len(data1)-1) * (data1.std()**2)\n",
    "    s2 = (len(data2)-1) * (data2.std()**2)\n",
    "    sp = np.sqrt((s1+s2)/df)\n",
    "    return sp\n",
    "\n",
    "alpha=0.95\n",
    "dof=len(a_sample) + len(b_sample) -2\n",
    "diff_mean= np.mean(a_sample) - np.mean(b_sample)\n",
    "s = sp(a_sample, b_sample)*(1/len(a_sample) + 1/len(b_sample))\n",
    "print('신뢰구간: ', stats.t.interval(alpha, dof, loc=diff_mean, scale=s))"
   ]
  },
  {
   "cell_type": "markdown",
   "id": "12bef7a0",
   "metadata": {},
   "source": [
    "### 3) 독립성 검정\n",
    "#### (1) 성별과 직군(Job Title) 상관성"
   ]
  },
  {
   "cell_type": "code",
   "execution_count": 113,
   "id": "bf2aec4a",
   "metadata": {},
   "outputs": [
    {
     "name": "stdout",
     "output_type": "stream",
     "text": [
      "검정통계량: 1468.8027749853882 / p-value: 2.3076571688581527e-195\n"
     ]
    }
   ],
   "source": [
    "tab1 = pd.crosstab(stats_df['Gender'], stats_df['Job Title'])\n",
    "chi, p, dff, expects = stats.chi2_contingency(tab1)\n",
    "print(f'검정통계량: {chi} / p-value: {p}') # 귀무가설 기각"
   ]
  },
  {
   "cell_type": "code",
   "execution_count": 114,
   "id": "d521afde",
   "metadata": {},
   "outputs": [
    {
     "name": "stdout",
     "output_type": "stream",
     "text": [
      "     Gender              Job Title  Frequency  Total     Ratio\n",
      "12   Female         Data Scientist        202   3016  0.066976\n",
      "124  Female      Software Engineer        195   3016  0.064655\n",
      "67   Female      Marketing Manager        181   3016  0.060013\n",
      "29   Female    Full Stack Engineer        163   3016  0.054045\n",
      "65   Female  Marketing Coordinator        157   3016  0.052056\n",
      "-----------------------------------------------------------------\n",
      "    Gender                  Job Title  Frequency  Total     Ratio\n",
      "255   Male          Software Engineer        325   3674  0.088459\n",
      "256   Male  Software Engineer Manager        276   3674  0.075122\n",
      "145   Male             Data Scientist        251   3674  0.068318\n",
      "144   Male               Data Analyst        234   3674  0.063691\n",
      "244   Male    Senior Project Engineer        213   3674  0.057975\n"
     ]
    }
   ],
   "source": [
    "result = stats_df.groupby(['Gender', 'Job Title'])['Job Title'].count().reset_index(name='Frequency')\n",
    "result['Total'] = result.groupby('Gender')['Frequency'].transform('sum')\n",
    "result['Ratio'] = result['Frequency'] / result['Total']\n",
    "result_sorted = result.sort_values(by=['Gender', 'Frequency'], ascending=[True, False])\n",
    "print(result_sorted[result_sorted['Gender']=='Female'].head())\n",
    "print('-'*65)\n",
    "print(result_sorted[result_sorted['Gender']=='Male'].head())"
   ]
  },
  {
   "cell_type": "code",
   "execution_count": 115,
   "id": "55e38f39",
   "metadata": {},
   "outputs": [
    {
     "name": "stdout",
     "output_type": "stream",
     "text": [
      "     Gender             Job Title  Frequency  Total     Ratio\n",
      "126  Female      Software Manager          1   3016  0.000332\n",
      "127  Female  Supply Chain Analyst          1   3016  0.000332\n",
      "128  Female   Training Specialist          1   3016  0.000332\n",
      "129  Female           UX Designer          1   3016  0.000332\n",
      "130  Female         UX Researcher          1   3016  0.000332\n",
      "-----------------------------------------------------------------\n",
      "    Gender                     Job Title  Frequency  Total     Ratio\n",
      "260   Male           Technical Recruiter          1   3674  0.000272\n",
      "261   Male  Technical Support Specialist          1   3674  0.000272\n",
      "262   Male              Technical Writer          1   3674  0.000272\n",
      "263   Male                 VP of Finance          1   3674  0.000272\n",
      "264   Male              VP of Operations          1   3674  0.000272\n"
     ]
    }
   ],
   "source": [
    "print(result_sorted[result_sorted['Gender']=='Female'].tail())\n",
    "print('-'*65)\n",
    "print(result_sorted[result_sorted['Gender']=='Male'].tail())"
   ]
  },
  {
   "cell_type": "markdown",
   "id": "2a8903dc",
   "metadata": {},
   "source": [
    "#### (2) 성별과 교육수준 상관성"
   ]
  },
  {
   "cell_type": "code",
   "execution_count": 116,
   "id": "cfd30ea6",
   "metadata": {},
   "outputs": [
    {
     "name": "stdout",
     "output_type": "stream",
     "text": [
      "검정통계량: 221.18315104980925 / p-value: 1.1141802276203628e-47\n"
     ]
    }
   ],
   "source": [
    "tab2 = pd.crosstab(stats_df['Gender'], stats_df['Education Level'])\n",
    "chi, p, dff, expects = stats.chi2_contingency(tab2)\n",
    "print(f'검정통계량: {chi} / p-value: {p}') # 귀무가설 기각"
   ]
  },
  {
   "cell_type": "code",
   "execution_count": 117,
   "id": "ccb2fe74",
   "metadata": {},
   "outputs": [
    {
     "name": "stdout",
     "output_type": "stream",
     "text": [
      "   Gender    Education Level  Frequency  Total     Ratio\n",
      "0  Female  Bachelor's Degree       1201   3016  0.398210\n",
      "2  Female    Master's Degree       1068   3016  0.354111\n",
      "3  Female                PhD        496   3016  0.164456\n",
      "1  Female        High School        251   3016  0.083223\n",
      "------------------------------------------------------------\n",
      "  Gender    Education Level  Frequency  Total     Ratio\n",
      "4   Male  Bachelor's Degree       1825   3674  0.496734\n",
      "7   Male                PhD        873   3674  0.237616\n",
      "6   Male    Master's Degree        791   3674  0.215297\n",
      "5   Male        High School        185   3674  0.050354\n"
     ]
    }
   ],
   "source": [
    "result = stats_df.groupby(['Gender', 'Education Level'])['Education Level'].count().reset_index(name='Frequency')\n",
    "result['Total'] = result.groupby('Gender')['Frequency'].transform('sum')\n",
    "result['Ratio'] = result['Frequency'] / result['Total']\n",
    "result_sorted = result.sort_values(by=['Gender', 'Frequency'], ascending=[True, False])\n",
    "print(result_sorted[result_sorted['Gender']=='Female'])\n",
    "print('-'*60)\n",
    "print(result_sorted[result_sorted['Gender']=='Male'])"
   ]
  },
  {
   "cell_type": "markdown",
   "id": "4aca841d",
   "metadata": {},
   "source": [
    "### 4) 일원배치 분산분석\n",
    "- 귀무가설: 학력에 따라 평균 연봉에 차이가 없다.\n",
    "- 대립가설: 적어도 하나의 학력에 대해 평균 연봉에 차이가 있다."
   ]
  },
  {
   "cell_type": "code",
   "execution_count": 122,
   "id": "45805295",
   "metadata": {},
   "outputs": [
    {
     "name": "stdout",
     "output_type": "stream",
     "text": [
      "ShapiroResult(statistic=0.9236940145492554, pvalue=1.0720270460547306e-36)\n",
      "ShapiroResult(statistic=0.9774220585823059, pvalue=1.5224926212484437e-16)\n",
      "ShapiroResult(statistic=0.9128551483154297, pvalue=2.520624562997954e-27)\n",
      "ShapiroResult(statistic=0.5219424962997437, pvalue=1.1818396693280262e-32)\n"
     ]
    },
    {
     "data": {
      "text/plain": [
       "KruskalResult(statistic=2851.8993251658017, pvalue=0.0)"
      ]
     },
     "execution_count": 122,
     "metadata": {},
     "output_type": "execute_result"
    }
   ],
   "source": [
    "target_lst = stats_df['Education Level'].unique() # \"\"Bachelor's Degree\", \"Master's Degree\", 'PhD', 'High School'\n",
    "bachelor = stats_df[stats_df['Education Level']==target_lst[0]]['Salary']\n",
    "master = stats_df[stats_df['Education Level']==target_lst[1]]['Salary']\n",
    "phd = stats_df[stats_df['Education Level']==target_lst[2]]['Salary']\n",
    "high = stats_df[stats_df['Education Level']==target_lst[3]]['Salary']\n",
    "\n",
    "# 정규성 모두 만족 못 함\n",
    "print(stats.shapiro(bachelor))\n",
    "print(stats.shapiro(master))\n",
    "print(stats.shapiro(phd))\n",
    "print(stats.shapiro(high))\n",
    "\n",
    "stats.kruskal(bachelor, master, phd, high) # 귀무가설 기각"
   ]
  },
  {
   "cell_type": "code",
   "execution_count": 130,
   "id": "69b20ea2",
   "metadata": {},
   "outputs": [
    {
     "data": {
      "text/html": [
       "<table class=\"simpletable\">\n",
       "<caption>Multiple Comparison of Means - Tukey HSD, FWER=0.05</caption>\n",
       "<tr>\n",
       "       <th>group1</th>           <th>group2</th>       <th>meandiff</th>   <th>p-adj</th>    <th>lower</th>       <th>upper</th>    <th>reject</th>\n",
       "</tr>\n",
       "<tr>\n",
       "  <td>Bachelor's Degree</td>   <td>High School</td>   <td>-60695.6522</td> <td>-0.0</td>  <td>-65955.1661</td> <td>-55436.1382</td>  <td>True</td> \n",
       "</tr>\n",
       "<tr>\n",
       "  <td>Bachelor's Degree</td> <td>Master's Degree</td> <td>34959.1733</td>  <td>-0.0</td>  <td>31933.5286</td>  <td>37984.8179</td>   <td>True</td> \n",
       "</tr>\n",
       "<tr>\n",
       "  <td>Bachelor's Degree</td>       <td>PhD</td>       <td>70540.1934</td>  <td>-0.0</td>  <td>67195.9103</td>  <td>73884.4766</td>   <td>True</td> \n",
       "</tr>\n",
       "<tr>\n",
       "     <td>High School</td>    <td>Master's Degree</td> <td>95654.8254</td>  <td>-0.0</td>  <td>90191.3601</td>  <td>101118.2908</td>  <td>True</td> \n",
       "</tr>\n",
       "<tr>\n",
       "     <td>High School</td>          <td>PhD</td>       <td>131235.8456</td> <td>-0.0</td>  <td>125589.6825</td> <td>136882.0088</td>  <td>True</td> \n",
       "</tr>\n",
       "<tr>\n",
       "   <td>Master's Degree</td>        <td>PhD</td>       <td>35581.0202</td>  <td>-0.0</td>  <td>31924.3555</td>  <td>39237.6848</td>   <td>True</td> \n",
       "</tr>\n",
       "</table>"
      ],
      "text/plain": [
       "<class 'statsmodels.iolib.table.SimpleTable'>"
      ]
     },
     "execution_count": 130,
     "metadata": {},
     "output_type": "execute_result"
    },
    {
     "data": {
      "image/png": "[encoded data removed]",
      "text/plain": [
       "<Figure size 600x300 with 1 Axes>"
      ]
     },
     "metadata": {},
     "output_type": "display_data"
    }
   ],
   "source": [
    "from statsmodels.stats.multicomp import pairwise_tukeyhsd\n",
    "from statsmodels.stats.multicomp import MultiComparison\n",
    "mc = MultiComparison(data=stats_df['Salary'], groups=stats_df['Education Level'])\n",
    "tuekeyhsd = mc.tukeyhsd(alpha=0.05)\n",
    "fig = tuekeyhsd.plot_simultaneous(figsize=(6, 3))\n",
    "tuekeyhsd.summary()"
   ]
  },
  {
   "cell_type": "markdown",
   "id": "d3594bad",
   "metadata": {},
   "source": [
    "## 3. 머신러닝"
   ]
  },
  {
   "cell_type": "code",
   "execution_count": 146,
   "id": "f03e1dba",
   "metadata": {},
   "outputs": [
    {
     "name": "stdout",
     "output_type": "stream",
     "text": [
      "(5017, 198)\n",
      "(1673, 198)\n",
      "(5017,)\n",
      "(1673,)\n"
     ]
    }
   ],
   "source": [
    "from sklearn.model_selection import train_test_split, cross_val_score, GridSearchCV\n",
    "from sklearn.svm import SVR\n",
    "from sklearn.ensemble import RandomForestRegressor\n",
    "from sklearn.neighbors import KNeighborsRegressor\n",
    "from sklearn.preprocessing import StandardScaler\n",
    "from sklearn.metrics import r2_score, mean_squared_error\n",
    "\n",
    "# 원핫인코딩\n",
    "onehot_df = pd.get_dummies(data=df, columns=['Gender', 'Education Level', 'Job Title'], drop_first=True)\n",
    "onehot_df\n",
    "\n",
    "# 데이터 분할\n",
    "X = onehot_df.drop('Salary', axis=1)\n",
    "y = onehot_df.Salary\n",
    "X_train, X_test, y_train, y_test = train_test_split(X, y, random_state=1234)\n",
    "\n",
    "# 스케일링\n",
    "scaler = StandardScaler()\n",
    "X_train_sc = X_train.copy()\n",
    "X_test_sc = X_test.copy()\n",
    "X_train_sc.iloc[:, :2] = scaler.fit_transform(X_train_sc.iloc[:, :2])\n",
    "X_test_sc.iloc[:, :2] = scaler.transform(X_test_sc.iloc[:, :2])\n",
    "\n",
    "print(X_train_sc.shape)\n",
    "print(X_test_sc.shape)\n",
    "print(y_train.shape)\n",
    "print(y_test.shape)"
   ]
  },
  {
   "cell_type": "code",
   "execution_count": null,
   "id": "9c703fc5",
   "metadata": {},
   "outputs": [],
   "source": [
    "# 모델 객체 생성\n",
    "svr = SVR()\n",
    "rfr_reg = RandomForestRegressor(random_state=1234)\n",
    "knn_reg = KNeighborsRegressor()\n",
    "\n",
    "# 교차검증\n",
    "scores = cross_val_score(estimator=svr, cv=5, X= X_train_sc, y=y_train, scoring='r2')"
   ]
  },
  {
   "cell_type": "code",
   "execution_count": null,
   "id": "7ae9b940",
   "metadata": {},
   "outputs": [],
   "source": [
    "scores"
   ]
  },
  {
   "cell_type": "code",
   "execution_count": null,
   "id": "d92bcd9e",
   "metadata": {},
   "outputs": [],
   "source": []
  }
 ],
 "metadata": {
  "kernelspec": {
   "display_name": "adp_code",
   "language": "python",
   "name": "adp_code"
  },
  "language_info": {
   "codemirror_mode": {
    "name": "ipython",
    "version": 3
   },
   "file_extension": ".py",
   "mimetype": "text/x-python",
   "name": "python",
   "nbconvert_exporter": "python",
   "pygments_lexer": "ipython3",
   "version": "3.7.16"
  }
 },
 "nbformat": 4,
 "nbformat_minor": 5
}
