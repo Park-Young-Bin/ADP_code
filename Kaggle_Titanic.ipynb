{
 "cells": [
  {
   "cell_type": "markdown",
   "id": "d3ad2d23",
   "metadata": {},
   "source": [
    "# [Kaggle - Titanic](https://www.kaggle.com/competitions/titanic/overview)\n",
    "- Survived: 1(생존) / 0(사망)\n",
    "- Pclass(Ticket class): 1(1등급) / 2(2등급) / 3(등급)\n",
    "- SibSp(함께 탑승한 형제 및 배우자 수)\n",
    "- Parch(함께 탑승한 자녀 및 부모 수)\n",
    "- Fare: 승객이 지불한 요금\n",
    "- Cabin: 객실 번호\n",
    "- Embarked(탑승지 이름): C = Cherbourg, Q = Queenstown, S = Southampton\n",
    "\n",
    "#### 참고 사이트\n",
    "**[EDA 및 전처리]**  \n",
    "[3. 캐글 - 타이타닉 생존자](https://right1203.github.io/study/2018/03/06/titanic_prediction/)  \n",
    "[캐글 타이타닉 생존자 예측 도전기 (1)](https://cyc1am3n.github.io/2018/10/09/my-first-kaggle-competition_titanic.html)  \n",
    "[[머신러닝 기초] 타이타닉 생존율 분석 - EDA #1 데이터 내용 및 객실등급(Pclass), 성별(Sex)확인](https://www.kangtaeho.com/89)  \n",
    "[파이썬을 이용한 탐색적 분석 EDA(Exploratory Data Analysis) 02](https://velog.io/@raffier/%ED%8C%8C%EC%9D%B4%EC%8D%AC%EC%9D%84-%EC%9D%B4%EC%9A%A9%ED%95%9C-%ED%83%90%EC%83%89%EC%A0%81-%EB%B6%84%EC%84%9D-EDAExploratory-Data-Analysis-02)  \n",
    "[kaggle 타이타닉 EDA](https://iludaslab.tistory.com/entry/kaggle-%ED%83%80%EC%9D%B4%ED%83%80%EB%8B%89-EDA)  \n",
    "[[Kaggle] Titanic 생존자 예측 (1) EDA](https://mintaewon.github.io/2020/12/kaggle-titanic-%EC%83%9D%EC%A1%B4%EC%9E%90-%EC%98%88%EC%B8%A1-1-eda/)  \n",
    "[Titanic with EDA](https://velog.io/@hyungraelee/Titanic-with-EDA#2-feature-engineering-and-data-cleaning)  \n",
    "[Kaggle - titanic(타이타닉) : EDA](https://steadiness-193.tistory.com/207)"
   ]
  },
  {
   "cell_type": "code",
   "execution_count": 1,
   "id": "ae261898",
   "metadata": {},
   "outputs": [],
   "source": [
    "import pandas as pd\n",
    "import numpy as np\n",
    "import matplotlib.pyplot as plt\n",
    "import seaborn as sns\n",
    "import scipy.stats as stats\n",
    "plt.rc('font',family = 'Malgun Gothic') # 폰트 설정\n",
    "plt.rcParams['axes.unicode_minus'] = False # 음수(-) 기호 표시\n",
    "import warnings\n",
    "warnings.filterwarnings('ignore')"
   ]
  },
  {
   "cell_type": "markdown",
   "id": "4b3f33b1",
   "metadata": {},
   "source": [
    "### 1. 데이터 살펴보기"
   ]
  },
  {
   "cell_type": "code",
   "execution_count": 10,
   "id": "707da4ee",
   "metadata": {},
   "outputs": [
    {
     "data": {
      "text/html": [
       "<div>\n",
       "<style scoped>\n",
       "    .dataframe tbody tr th:only-of-type {\n",
       "        vertical-align: middle;\n",
       "    }\n",
       "\n",
       "    .dataframe tbody tr th {\n",
       "        vertical-align: top;\n",
       "    }\n",
       "\n",
       "    .dataframe thead th {\n",
       "        text-align: right;\n",
       "    }\n",
       "</style>\n",
       "<table border=\"1\" class=\"dataframe\">\n",
       "  <thead>\n",
       "    <tr style=\"text-align: right;\">\n",
       "      <th></th>\n",
       "      <th>PassengerId</th>\n",
       "      <th>Survived</th>\n",
       "      <th>Pclass</th>\n",
       "      <th>Name</th>\n",
       "      <th>Sex</th>\n",
       "      <th>Age</th>\n",
       "      <th>SibSp</th>\n",
       "      <th>Parch</th>\n",
       "      <th>Ticket</th>\n",
       "      <th>Fare</th>\n",
       "      <th>Cabin</th>\n",
       "      <th>Embarked</th>\n",
       "    </tr>\n",
       "  </thead>\n",
       "  <tbody>\n",
       "    <tr>\n",
       "      <th>0</th>\n",
       "      <td>1</td>\n",
       "      <td>0</td>\n",
       "      <td>3</td>\n",
       "      <td>Braund, Mr. Owen Harris</td>\n",
       "      <td>male</td>\n",
       "      <td>22.0</td>\n",
       "      <td>1</td>\n",
       "      <td>0</td>\n",
       "      <td>A/5 21171</td>\n",
       "      <td>7.2500</td>\n",
       "      <td>NaN</td>\n",
       "      <td>S</td>\n",
       "    </tr>\n",
       "    <tr>\n",
       "      <th>1</th>\n",
       "      <td>2</td>\n",
       "      <td>1</td>\n",
       "      <td>1</td>\n",
       "      <td>Cumings, Mrs. John Bradley (Florence Briggs Th...</td>\n",
       "      <td>female</td>\n",
       "      <td>38.0</td>\n",
       "      <td>1</td>\n",
       "      <td>0</td>\n",
       "      <td>PC 17599</td>\n",
       "      <td>71.2833</td>\n",
       "      <td>C85</td>\n",
       "      <td>C</td>\n",
       "    </tr>\n",
       "    <tr>\n",
       "      <th>2</th>\n",
       "      <td>3</td>\n",
       "      <td>1</td>\n",
       "      <td>3</td>\n",
       "      <td>Heikkinen, Miss. Laina</td>\n",
       "      <td>female</td>\n",
       "      <td>26.0</td>\n",
       "      <td>0</td>\n",
       "      <td>0</td>\n",
       "      <td>STON/O2. 3101282</td>\n",
       "      <td>7.9250</td>\n",
       "      <td>NaN</td>\n",
       "      <td>S</td>\n",
       "    </tr>\n",
       "    <tr>\n",
       "      <th>3</th>\n",
       "      <td>4</td>\n",
       "      <td>1</td>\n",
       "      <td>1</td>\n",
       "      <td>Futrelle, Mrs. Jacques Heath (Lily May Peel)</td>\n",
       "      <td>female</td>\n",
       "      <td>35.0</td>\n",
       "      <td>1</td>\n",
       "      <td>0</td>\n",
       "      <td>113803</td>\n",
       "      <td>53.1000</td>\n",
       "      <td>C123</td>\n",
       "      <td>S</td>\n",
       "    </tr>\n",
       "    <tr>\n",
       "      <th>4</th>\n",
       "      <td>5</td>\n",
       "      <td>0</td>\n",
       "      <td>3</td>\n",
       "      <td>Allen, Mr. William Henry</td>\n",
       "      <td>male</td>\n",
       "      <td>35.0</td>\n",
       "      <td>0</td>\n",
       "      <td>0</td>\n",
       "      <td>373450</td>\n",
       "      <td>8.0500</td>\n",
       "      <td>NaN</td>\n",
       "      <td>S</td>\n",
       "    </tr>\n",
       "  </tbody>\n",
       "</table>\n",
       "</div>"
      ],
      "text/plain": [
       "   PassengerId  Survived  Pclass  \\\n",
       "0            1         0       3   \n",
       "1            2         1       1   \n",
       "2            3         1       3   \n",
       "3            4         1       1   \n",
       "4            5         0       3   \n",
       "\n",
       "                                                Name     Sex   Age  SibSp  \\\n",
       "0                            Braund, Mr. Owen Harris    male  22.0      1   \n",
       "1  Cumings, Mrs. John Bradley (Florence Briggs Th...  female  38.0      1   \n",
       "2                             Heikkinen, Miss. Laina  female  26.0      0   \n",
       "3       Futrelle, Mrs. Jacques Heath (Lily May Peel)  female  35.0      1   \n",
       "4                           Allen, Mr. William Henry    male  35.0      0   \n",
       "\n",
       "   Parch            Ticket     Fare Cabin Embarked  \n",
       "0      0         A/5 21171   7.2500   NaN        S  \n",
       "1      0          PC 17599  71.2833   C85        C  \n",
       "2      0  STON/O2. 3101282   7.9250   NaN        S  \n",
       "3      0            113803  53.1000  C123        S  \n",
       "4      0            373450   8.0500   NaN        S  "
      ]
     },
     "execution_count": 10,
     "metadata": {},
     "output_type": "execute_result"
    }
   ],
   "source": [
    "# train data 불러오기\n",
    "train = pd.read_csv('C:/Users/user/Desktop/Python/adp/1. kaggle/data/titanic/train.csv')\n",
    "train.head()"
   ]
  },
  {
   "cell_type": "code",
   "execution_count": 3,
   "id": "4ee0c0bd",
   "metadata": {},
   "outputs": [
    {
     "name": "stdout",
     "output_type": "stream",
     "text": [
      "<class 'pandas.core.frame.DataFrame'>\n",
      "RangeIndex: 891 entries, 0 to 890\n",
      "Data columns (total 12 columns):\n",
      " #   Column       Non-Null Count  Dtype  \n",
      "---  ------       --------------  -----  \n",
      " 0   PassengerId  891 non-null    int64  \n",
      " 1   Survived     891 non-null    int64  \n",
      " 2   Pclass       891 non-null    int64  \n",
      " 3   Name         891 non-null    object \n",
      " 4   Sex          891 non-null    object \n",
      " 5   Age          714 non-null    float64\n",
      " 6   SibSp        891 non-null    int64  \n",
      " 7   Parch        891 non-null    int64  \n",
      " 8   Ticket       891 non-null    object \n",
      " 9   Fare         891 non-null    float64\n",
      " 10  Cabin        204 non-null    object \n",
      " 11  Embarked     889 non-null    object \n",
      "dtypes: float64(2), int64(5), object(5)\n",
      "memory usage: 83.7+ KB\n"
     ]
    }
   ],
   "source": [
    "train.info()"
   ]
  },
  {
   "cell_type": "code",
   "execution_count": 4,
   "id": "c5d78c04",
   "metadata": {},
   "outputs": [
    {
     "data": {
      "text/html": [
       "<div>\n",
       "<style scoped>\n",
       "    .dataframe tbody tr th:only-of-type {\n",
       "        vertical-align: middle;\n",
       "    }\n",
       "\n",
       "    .dataframe tbody tr th {\n",
       "        vertical-align: top;\n",
       "    }\n",
       "\n",
       "    .dataframe thead th {\n",
       "        text-align: right;\n",
       "    }\n",
       "</style>\n",
       "<table border=\"1\" class=\"dataframe\">\n",
       "  <thead>\n",
       "    <tr style=\"text-align: right;\">\n",
       "      <th></th>\n",
       "      <th>Survived</th>\n",
       "      <th>Pclass</th>\n",
       "      <th>Age</th>\n",
       "      <th>SibSp</th>\n",
       "      <th>Parch</th>\n",
       "      <th>Fare</th>\n",
       "    </tr>\n",
       "  </thead>\n",
       "  <tbody>\n",
       "    <tr>\n",
       "      <th>count</th>\n",
       "      <td>891.000000</td>\n",
       "      <td>891.000000</td>\n",
       "      <td>714.000000</td>\n",
       "      <td>891.000000</td>\n",
       "      <td>891.000000</td>\n",
       "      <td>891.000000</td>\n",
       "    </tr>\n",
       "    <tr>\n",
       "      <th>mean</th>\n",
       "      <td>0.383838</td>\n",
       "      <td>2.308642</td>\n",
       "      <td>29.699118</td>\n",
       "      <td>0.523008</td>\n",
       "      <td>0.381594</td>\n",
       "      <td>32.204208</td>\n",
       "    </tr>\n",
       "    <tr>\n",
       "      <th>std</th>\n",
       "      <td>0.486592</td>\n",
       "      <td>0.836071</td>\n",
       "      <td>14.526497</td>\n",
       "      <td>1.102743</td>\n",
       "      <td>0.806057</td>\n",
       "      <td>49.693429</td>\n",
       "    </tr>\n",
       "    <tr>\n",
       "      <th>min</th>\n",
       "      <td>0.000000</td>\n",
       "      <td>1.000000</td>\n",
       "      <td>0.420000</td>\n",
       "      <td>0.000000</td>\n",
       "      <td>0.000000</td>\n",
       "      <td>0.000000</td>\n",
       "    </tr>\n",
       "    <tr>\n",
       "      <th>25%</th>\n",
       "      <td>0.000000</td>\n",
       "      <td>2.000000</td>\n",
       "      <td>20.125000</td>\n",
       "      <td>0.000000</td>\n",
       "      <td>0.000000</td>\n",
       "      <td>7.910400</td>\n",
       "    </tr>\n",
       "    <tr>\n",
       "      <th>50%</th>\n",
       "      <td>0.000000</td>\n",
       "      <td>3.000000</td>\n",
       "      <td>28.000000</td>\n",
       "      <td>0.000000</td>\n",
       "      <td>0.000000</td>\n",
       "      <td>14.454200</td>\n",
       "    </tr>\n",
       "    <tr>\n",
       "      <th>75%</th>\n",
       "      <td>1.000000</td>\n",
       "      <td>3.000000</td>\n",
       "      <td>38.000000</td>\n",
       "      <td>1.000000</td>\n",
       "      <td>0.000000</td>\n",
       "      <td>31.000000</td>\n",
       "    </tr>\n",
       "    <tr>\n",
       "      <th>max</th>\n",
       "      <td>1.000000</td>\n",
       "      <td>3.000000</td>\n",
       "      <td>80.000000</td>\n",
       "      <td>8.000000</td>\n",
       "      <td>6.000000</td>\n",
       "      <td>512.329200</td>\n",
       "    </tr>\n",
       "  </tbody>\n",
       "</table>\n",
       "</div>"
      ],
      "text/plain": [
       "         Survived      Pclass         Age       SibSp       Parch        Fare\n",
       "count  891.000000  891.000000  714.000000  891.000000  891.000000  891.000000\n",
       "mean     0.383838    2.308642   29.699118    0.523008    0.381594   32.204208\n",
       "std      0.486592    0.836071   14.526497    1.102743    0.806057   49.693429\n",
       "min      0.000000    1.000000    0.420000    0.000000    0.000000    0.000000\n",
       "25%      0.000000    2.000000   20.125000    0.000000    0.000000    7.910400\n",
       "50%      0.000000    3.000000   28.000000    0.000000    0.000000   14.454200\n",
       "75%      1.000000    3.000000   38.000000    1.000000    0.000000   31.000000\n",
       "max      1.000000    3.000000   80.000000    8.000000    6.000000  512.329200"
      ]
     },
     "execution_count": 4,
     "metadata": {},
     "output_type": "execute_result"
    }
   ],
   "source": [
    "# 기술통계량 확인 (\"PassengerId\" 컬럼 제외)\n",
    "train.describe().drop(columns = 'PassengerId')"
   ]
  },
  {
   "cell_type": "code",
   "execution_count": 5,
   "id": "d060d2b1",
   "metadata": {},
   "outputs": [
    {
     "data": {
      "text/plain": [
       "PassengerId      0\n",
       "Survived         0\n",
       "Pclass           0\n",
       "Name             0\n",
       "Sex              0\n",
       "Age            177\n",
       "SibSp            0\n",
       "Parch            0\n",
       "Ticket           0\n",
       "Fare             0\n",
       "Cabin          687\n",
       "Embarked         2\n",
       "dtype: int64"
      ]
     },
     "execution_count": 5,
     "metadata": {},
     "output_type": "execute_result"
    }
   ],
   "source": [
    "# 컬럼별 결측치 확인\n",
    "train.isna().sum()"
   ]
  },
  {
   "cell_type": "code",
   "execution_count": 6,
   "id": "0975124a",
   "metadata": {},
   "outputs": [
    {
     "data": {
      "text/plain": [
       "0"
      ]
     },
     "execution_count": 6,
     "metadata": {},
     "output_type": "execute_result"
    }
   ],
   "source": [
    "# 중복 데이터 개수 확인 -> 없음\n",
    "train.duplicated().sum()"
   ]
  },
  {
   "cell_type": "markdown",
   "id": "a7b3fce8",
   "metadata": {},
   "source": [
    "### 2. EDA"
   ]
  },
  {
   "cell_type": "code",
   "execution_count": 3,
   "id": "92260c99",
   "metadata": {},
   "outputs": [
    {
     "data": {
      "text/html": [
       "<div>\n",
       "<style scoped>\n",
       "    .dataframe tbody tr th:only-of-type {\n",
       "        vertical-align: middle;\n",
       "    }\n",
       "\n",
       "    .dataframe tbody tr th {\n",
       "        vertical-align: top;\n",
       "    }\n",
       "\n",
       "    .dataframe thead th {\n",
       "        text-align: right;\n",
       "    }\n",
       "</style>\n",
       "<table border=\"1\" class=\"dataframe\">\n",
       "  <thead>\n",
       "    <tr style=\"text-align: right;\">\n",
       "      <th></th>\n",
       "      <th>Age</th>\n",
       "      <th>Embarked</th>\n",
       "      <th>Fare</th>\n",
       "      <th>Parch</th>\n",
       "      <th>Pclass</th>\n",
       "      <th>Sex</th>\n",
       "      <th>SibSp</th>\n",
       "      <th>Survived</th>\n",
       "    </tr>\n",
       "  </thead>\n",
       "  <tbody>\n",
       "    <tr>\n",
       "      <th>0</th>\n",
       "      <td>22.0</td>\n",
       "      <td>S</td>\n",
       "      <td>7.2500</td>\n",
       "      <td>0</td>\n",
       "      <td>3</td>\n",
       "      <td>male</td>\n",
       "      <td>1</td>\n",
       "      <td>0</td>\n",
       "    </tr>\n",
       "    <tr>\n",
       "      <th>1</th>\n",
       "      <td>38.0</td>\n",
       "      <td>C</td>\n",
       "      <td>71.2833</td>\n",
       "      <td>0</td>\n",
       "      <td>1</td>\n",
       "      <td>female</td>\n",
       "      <td>1</td>\n",
       "      <td>1</td>\n",
       "    </tr>\n",
       "    <tr>\n",
       "      <th>2</th>\n",
       "      <td>26.0</td>\n",
       "      <td>S</td>\n",
       "      <td>7.9250</td>\n",
       "      <td>0</td>\n",
       "      <td>3</td>\n",
       "      <td>female</td>\n",
       "      <td>0</td>\n",
       "      <td>1</td>\n",
       "    </tr>\n",
       "    <tr>\n",
       "      <th>3</th>\n",
       "      <td>35.0</td>\n",
       "      <td>S</td>\n",
       "      <td>53.1000</td>\n",
       "      <td>0</td>\n",
       "      <td>1</td>\n",
       "      <td>female</td>\n",
       "      <td>1</td>\n",
       "      <td>1</td>\n",
       "    </tr>\n",
       "    <tr>\n",
       "      <th>4</th>\n",
       "      <td>35.0</td>\n",
       "      <td>S</td>\n",
       "      <td>8.0500</td>\n",
       "      <td>0</td>\n",
       "      <td>3</td>\n",
       "      <td>male</td>\n",
       "      <td>0</td>\n",
       "      <td>0</td>\n",
       "    </tr>\n",
       "  </tbody>\n",
       "</table>\n",
       "</div>"
      ],
      "text/plain": [
       "    Age Embarked     Fare  Parch  Pclass     Sex  SibSp  Survived\n",
       "0  22.0        S   7.2500      0       3    male      1         0\n",
       "1  38.0        C  71.2833      0       1  female      1         1\n",
       "2  26.0        S   7.9250      0       3  female      0         1\n",
       "3  35.0        S  53.1000      0       1  female      1         1\n",
       "4  35.0        S   8.0500      0       3    male      0         0"
      ]
     },
     "execution_count": 3,
     "metadata": {},
     "output_type": "execute_result"
    }
   ],
   "source": [
    "# 필요 없는 컬럼명 제외\n",
    "df = train[train.columns.difference(['PassengerId', 'Name', 'Ticket', 'Cabin'])]\n",
    "df.head()"
   ]
  },
  {
   "cell_type": "markdown",
   "id": "7abc6cb8",
   "metadata": {},
   "source": [
    "Cabin 칼럼은 전체 891개 中 687의 결측치(77%)가 있으므로 분석 대상에서 제외함."
   ]
  },
  {
   "cell_type": "markdown",
   "id": "be64742f",
   "metadata": {},
   "source": [
    "#### 1) Age"
   ]
  },
  {
   "cell_type": "code",
   "execution_count": 8,
   "id": "0e75a1e2",
   "metadata": {},
   "outputs": [
    {
     "data": {
      "image/png": "[encoded data removed]",
      "text/plain": [
       "<Figure size 500x300 with 1 Axes>"
      ]
     },
     "metadata": {},
     "output_type": "display_data"
    }
   ],
   "source": [
    "# age ~ survived\n",
    "plt.figure(figsize=(5,3))\n",
    "sns.histplot(data=df, x='Age', hue='Survived', alpha=.3, kde=True)\n",
    "plt.title('생존 여부에 따른 Age 히스토그램', fontsize=10)\n",
    "plt.show()"
   ]
  },
  {
   "cell_type": "markdown",
   "id": "7c99dcd4",
   "metadata": {},
   "source": [
    "- 20~30대에서 사망자, 생존자 수가 상대적으로 많음.\n",
    "- 영유아층(0세~8세)은 사망자보다 생존자 수가 더 많았음.\n",
    "- 영유아를 제외하고는 사망자와 생존자 분포가 비슷함."
   ]
  },
  {
   "cell_type": "code",
   "execution_count": 9,
   "id": "61c5cc09",
   "metadata": {},
   "outputs": [
    {
     "data": {
      "image/png": "[encoded data removed]",
      "text/plain": [
       "<Figure size 900x400 with 2 Axes>"
      ]
     },
     "metadata": {},
     "output_type": "display_data"
    }
   ],
   "source": [
    "fig, ax = plt.subplots(1, 2, figsize=(9,4))\n",
    "\n",
    "# plt.figure(figsize=(5,3))\n",
    "sns.violinplot(data=df, x = 'Pclass', y='Age', hue='Survived', split=True, ax=ax[0]) # 데이터의 분포와 범위를 한 눈에 볼 수 있음.\n",
    "ax[0].set_title('Survived에 따른 Pclass와 Age 분포', fontsize=10)\n",
    "\n",
    "sns.violinplot(data=df, x = 'Sex', y='Age', hue='Survived', split=True, ax=ax[1]) # 데이터의 분포와 범위를 한 눈에 볼 수 있음.\n",
    "ax[1].set_title('Survived에 따른 Sex와 Age의 분포', fontsize=10)\n",
    "\n",
    "plt.tight_layout()\n",
    "plt.show()"
   ]
  },
  {
   "cell_type": "markdown",
   "id": "61f83eff",
   "metadata": {},
   "source": [
    "[(좌측) 해석]\n",
    "- Pclass 등급이 낮아질수록(1 → 3) 사망자에 대한 Age 분포가 낮은 연령대로 치우쳐짐.\n",
    "- Pclass=1\n",
    "    - 사망자는 약 40 ~ 50대에서 가장 많으며, 생존자는 약 20 ~ 30대에서 가장 많음\n",
    "- Pclass=2\n",
    "    - 생존자는 약 30대에 가장 많으며, 사망자도 마찬가지로 30대에 가장 많고, 두 번째로는 영유아에 많음.\n",
    "- Pclass=3\n",
    "    - 생존자는 약 20대에 가장 많으며, 사망자도 Pclass=2와 비슷한 분포를 보임.\n",
    "    \n",
    "[(우측) 해석]\n",
    "- 남성\n",
    "    - 사망자: 대략 20대 ~ 30대에서 높게 나옴.\n",
    "    - 생존자: 대략 30대와 영유아에서 높게 나옴.\n",
    "- 여성\n",
    "    - 사망자: 남성과 비슷하지만, 남성은 10대부터 사망자가 급격하게 증가하지만 여성은 영유아부터 점진적으로 증가하는 형태임.\n",
    "    - 생존자: 대략 20대~40대에서 높게 나타남."
   ]
  },
  {
   "cell_type": "markdown",
   "id": "459a09e1",
   "metadata": {},
   "source": [
    "#### 2) Pclass"
   ]
  },
  {
   "cell_type": "code",
   "execution_count": 10,
   "id": "636d1b75",
   "metadata": {},
   "outputs": [
    {
     "data": {
      "image/png": "[encoded data removed]",
      "text/plain": [
       "<Figure size 800x300 with 2 Axes>"
      ]
     },
     "metadata": {},
     "output_type": "display_data"
    },
    {
     "data": {
      "text/plain": [
       "<Figure size 500x300 with 0 Axes>"
      ]
     },
     "metadata": {},
     "output_type": "display_data"
    }
   ],
   "source": [
    "fig, ax = plt.subplots(1, 2, figsize=(8,3))\n",
    "\n",
    "sns.countplot(x=df.Pclass, ax=ax[0])\n",
    "ax[0].set_title('Pclass별 탑승자 수', fontsize=10)\n",
    "\n",
    "# pclass ~ survived\n",
    "plt.figure(figsize=(5,3))\n",
    "sns.pointplot(data=df, x='Pclass', y='Survived', ax=ax[1])\n",
    "ax[1].set_title('Pclass별 생존율', fontsize=10)\n",
    "ax[1].set_ylim(0, 1)\n",
    "\n",
    "plt.tight_layout()\n",
    "plt.show()"
   ]
  },
  {
   "cell_type": "markdown",
   "id": "2be44255",
   "metadata": {},
   "source": [
    "[해석]\n",
    "- Pclass = 3인 탑승자 수가 가장 많지만 생존율은 가장 낮음."
   ]
  },
  {
   "cell_type": "code",
   "execution_count": 11,
   "id": "643f4c39",
   "metadata": {},
   "outputs": [
    {
     "data": {
      "text/html": [
       "<div>\n",
       "<style scoped>\n",
       "    .dataframe tbody tr th:only-of-type {\n",
       "        vertical-align: middle;\n",
       "    }\n",
       "\n",
       "    .dataframe tbody tr th {\n",
       "        vertical-align: top;\n",
       "    }\n",
       "\n",
       "    .dataframe thead th {\n",
       "        text-align: right;\n",
       "    }\n",
       "</style>\n",
       "<table border=\"1\" class=\"dataframe\">\n",
       "  <thead>\n",
       "    <tr style=\"text-align: right;\">\n",
       "      <th></th>\n",
       "      <th>Survived</th>\n",
       "    </tr>\n",
       "    <tr>\n",
       "      <th>Pclass</th>\n",
       "      <th></th>\n",
       "    </tr>\n",
       "  </thead>\n",
       "  <tbody>\n",
       "    <tr>\n",
       "      <th>1</th>\n",
       "      <td>0.629630</td>\n",
       "    </tr>\n",
       "    <tr>\n",
       "      <th>2</th>\n",
       "      <td>0.472826</td>\n",
       "    </tr>\n",
       "    <tr>\n",
       "      <th>3</th>\n",
       "      <td>0.242363</td>\n",
       "    </tr>\n",
       "  </tbody>\n",
       "</table>\n",
       "</div>"
      ],
      "text/plain": [
       "        Survived\n",
       "Pclass          \n",
       "1       0.629630\n",
       "2       0.472826\n",
       "3       0.242363"
      ]
     },
     "execution_count": 11,
     "metadata": {},
     "output_type": "execute_result"
    }
   ],
   "source": [
    "# Pclass별 생존율\n",
    "df[['Pclass', 'Survived']].groupby('Pclass').mean()"
   ]
  },
  {
   "cell_type": "markdown",
   "id": "be6bcf78",
   "metadata": {},
   "source": [
    "[해석]\n",
    "- Plcass 등급이 낮을수록 생존율은 감소함."
   ]
  },
  {
   "cell_type": "code",
   "execution_count": 12,
   "id": "657eec47",
   "metadata": {},
   "outputs": [
    {
     "name": "stdout",
     "output_type": "stream",
     "text": [
      "<교차표>\n"
     ]
    },
    {
     "data": {
      "text/html": [
       "<div>\n",
       "<style scoped>\n",
       "    .dataframe tbody tr th:only-of-type {\n",
       "        vertical-align: middle;\n",
       "    }\n",
       "\n",
       "    .dataframe tbody tr th {\n",
       "        vertical-align: top;\n",
       "    }\n",
       "\n",
       "    .dataframe thead th {\n",
       "        text-align: right;\n",
       "    }\n",
       "</style>\n",
       "<table border=\"1\" class=\"dataframe\">\n",
       "  <thead>\n",
       "    <tr style=\"text-align: right;\">\n",
       "      <th>Survived</th>\n",
       "      <th>0</th>\n",
       "      <th>1</th>\n",
       "      <th>All</th>\n",
       "    </tr>\n",
       "    <tr>\n",
       "      <th>Pclass</th>\n",
       "      <th></th>\n",
       "      <th></th>\n",
       "      <th></th>\n",
       "    </tr>\n",
       "  </thead>\n",
       "  <tbody>\n",
       "    <tr>\n",
       "      <th>1</th>\n",
       "      <td>80</td>\n",
       "      <td>136</td>\n",
       "      <td>216</td>\n",
       "    </tr>\n",
       "    <tr>\n",
       "      <th>2</th>\n",
       "      <td>97</td>\n",
       "      <td>87</td>\n",
       "      <td>184</td>\n",
       "    </tr>\n",
       "    <tr>\n",
       "      <th>3</th>\n",
       "      <td>372</td>\n",
       "      <td>119</td>\n",
       "      <td>491</td>\n",
       "    </tr>\n",
       "    <tr>\n",
       "      <th>All</th>\n",
       "      <td>549</td>\n",
       "      <td>342</td>\n",
       "      <td>891</td>\n",
       "    </tr>\n",
       "  </tbody>\n",
       "</table>\n",
       "</div>"
      ],
      "text/plain": [
       "Survived    0    1  All\n",
       "Pclass                 \n",
       "1          80  136  216\n",
       "2          97   87  184\n",
       "3         372  119  491\n",
       "All       549  342  891"
      ]
     },
     "metadata": {},
     "output_type": "display_data"
    },
    {
     "name": "stdout",
     "output_type": "stream",
     "text": [
      "<독립성 검정>\n",
      "Statistic: 102.88898875696057\n",
      "p-value: 6.258462423531468e-20\n",
      "df: 6\n",
      "expect:\n",
      " [[133.09090909  82.90909091 216.        ]\n",
      " [113.37373737  70.62626263 184.        ]\n",
      " [302.53535354 188.46464646 491.        ]\n",
      " [549.         342.         891.        ]]\n"
     ]
    }
   ],
   "source": [
    "# 카이제곱 검정(독립성 검정)\n",
    "# 귀무가설: 두 변수는 서로 독립이다.\n",
    "# 대립가설: 두 변수는 서로 독립이 아니다.\n",
    "\n",
    "df_cross = pd.crosstab(index=df.Pclass, columns=df.Survived, margins=True) # 독립성 검정을 위한 교차표 생성\n",
    "print('<교차표>')\n",
    "display(df_cross)\n",
    "\n",
    "from scipy.stats import chi2_contingency\n",
    "chi, p, dff, expect = chi2_contingency(df_cross)\n",
    "print('<독립성 검정>')\n",
    "print('Statistic:', chi)\n",
    "print('p-value:', p)\n",
    "print('df:', dff)\n",
    "print('expect:\\n', expect)"
   ]
  },
  {
   "cell_type": "markdown",
   "id": "ffe5e52d",
   "metadata": {},
   "source": [
    "[해석]\n",
    "- Pclass와 Survived의 교차표(df_cross)를 생성하고 독립성 검정 수행\n",
    "- p-value < 0.05 이므로 귀무가설을 기각하여, 두 변수는 서로 상관성이 있다고 할 수 있음."
   ]
  },
  {
   "cell_type": "code",
   "execution_count": 13,
   "id": "f5542e3f",
   "metadata": {},
   "outputs": [
    {
     "data": {
      "image/png": "[encoded data removed]",
      "text/plain": [
       "<Figure size 500x300 with 1 Axes>"
      ]
     },
     "metadata": {},
     "output_type": "display_data"
    }
   ],
   "source": [
    "# (pclass ~ survived) by sex\n",
    "plt.figure(figsize=(5,3))\n",
    "sns.pointplot(data=df, x='Pclass', y='Survived',hue='Sex')\n",
    "plt.title('성별에 따른 Pclass와 Survived 관계', fontsize=10)\n",
    "plt.show()"
   ]
  },
  {
   "cell_type": "markdown",
   "id": "761a043c",
   "metadata": {},
   "source": [
    "[해석]\n",
    "- 남성, 여성 모두 Pclass가 높은 등급(3 < 2 < 1)일수록 생존률이 높음.\n",
    "- 하지만 여성은 남성보다 생존률이 앞도적으로 높음.\n",
    "    - Pclass=1인 여성은 생존률이 거의 1로 나타났지만 Pclass=1인 남성은 0.4를 넘지 못함."
   ]
  },
  {
   "cell_type": "code",
   "execution_count": 14,
   "id": "6bdf496f",
   "metadata": {
    "scrolled": false
   },
   "outputs": [
    {
     "data": {
      "image/png": "[encoded data removed]",
      "text/plain": [
       "<Figure size 500x300 with 1 Axes>"
      ]
     },
     "metadata": {},
     "output_type": "display_data"
    }
   ],
   "source": [
    "# (fare ~ pclass) by survived\n",
    "plt.figure(figsize=(5,3))\n",
    "sns.barplot(data=df, x='Pclass', y='Fare', hue='Survived')\n",
    "plt.title('Survived에 따른 Pclass와 Fare 관계', fontsize=10)\n",
    "plt.show()"
   ]
  },
  {
   "cell_type": "markdown",
   "id": "dfb62829",
   "metadata": {},
   "source": [
    "[해석]\n",
    "- Pclass 등급이 높을수록(3 < 2 < 1) 생존자 수와 Fare 값이 높음."
   ]
  },
  {
   "cell_type": "markdown",
   "id": "7acfacf8",
   "metadata": {},
   "source": [
    "#### 3) Sex"
   ]
  },
  {
   "cell_type": "code",
   "execution_count": 15,
   "id": "62f60c5c",
   "metadata": {},
   "outputs": [
    {
     "data": {
      "text/plain": [
       "Sex     Survived\n",
       "female  0            81\n",
       "        1           233\n",
       "male    0           468\n",
       "        1           109\n",
       "Name: Sex, dtype: int64"
      ]
     },
     "execution_count": 15,
     "metadata": {},
     "output_type": "execute_result"
    }
   ],
   "source": [
    "# 성별 생존자 수\n",
    "df.groupby(['Sex', 'Survived'])['Sex'].count()"
   ]
  },
  {
   "cell_type": "code",
   "execution_count": 16,
   "id": "4b6bf03d",
   "metadata": {},
   "outputs": [
    {
     "data": {
      "image/png": "[encoded data removed]",
      "text/plain": [
       "<Figure size 800x300 with 2 Axes>"
      ]
     },
     "metadata": {},
     "output_type": "display_data"
    }
   ],
   "source": [
    "fig, ax = plt.subplots(1, 2, figsize=(8, 3))\n",
    "\n",
    "# plt.figure(figsize=(5,3))\n",
    "sns.countplot(data=df, x='Sex', ax=ax[0])\n",
    "ax[0].set_title('성별 탑승자 수', fontsize=10)\n",
    "\n",
    "sns.countplot(data=df, x='Sex', hue='Survived', ax=ax[1])\n",
    "ax[1].set_title('생존 여부에 따른 Sex 막대그래프', fontsize=10)\n",
    "\n",
    "plt.tight_layout()\n",
    "plt.show()"
   ]
  },
  {
   "cell_type": "markdown",
   "id": "b8c08033",
   "metadata": {},
   "source": [
    "[해석]\n",
    "- 남성 탑승자 수가 더 많지만 사망자는 남성이 더 많음."
   ]
  },
  {
   "cell_type": "markdown",
   "id": "9c2af516",
   "metadata": {},
   "source": [
    "#### 4) Embarked"
   ]
  },
  {
   "cell_type": "code",
   "execution_count": 17,
   "id": "f7a24c4d",
   "metadata": {},
   "outputs": [
    {
     "data": {
      "image/png": "[encoded data removed]",
      "text/plain": [
       "<Figure size 500x300 with 1 Axes>"
      ]
     },
     "metadata": {},
     "output_type": "display_data"
    }
   ],
   "source": [
    "# embarked ~ survived\n",
    "plt.figure(figsize=(5,3))\n",
    "sns.countplot(data=df, x='Embarked', hue='Survived')\n",
    "plt.title('생존 여부에 따른 Embarked 막대그래프')\n",
    "plt.show()"
   ]
  },
  {
   "cell_type": "markdown",
   "id": "f88b6d58",
   "metadata": {},
   "source": [
    "[해석]\n",
    "- S 탑승자들이 가장 많음.\n",
    "- S, Q 탑승자들은 사망자가 더 많았고, C 탑승자들은 생존자가 더 많음."
   ]
  },
  {
   "cell_type": "code",
   "execution_count": 18,
   "id": "bdca8725",
   "metadata": {},
   "outputs": [
    {
     "data": {
      "text/html": [
       "<div>\n",
       "<style scoped>\n",
       "    .dataframe tbody tr th:only-of-type {\n",
       "        vertical-align: middle;\n",
       "    }\n",
       "\n",
       "    .dataframe tbody tr th {\n",
       "        vertical-align: top;\n",
       "    }\n",
       "\n",
       "    .dataframe thead th {\n",
       "        text-align: right;\n",
       "    }\n",
       "</style>\n",
       "<table border=\"1\" class=\"dataframe\">\n",
       "  <thead>\n",
       "    <tr style=\"text-align: right;\">\n",
       "      <th></th>\n",
       "      <th>Survived</th>\n",
       "    </tr>\n",
       "    <tr>\n",
       "      <th>Embarked</th>\n",
       "      <th></th>\n",
       "    </tr>\n",
       "  </thead>\n",
       "  <tbody>\n",
       "    <tr>\n",
       "      <th>C</th>\n",
       "      <td>0.553571</td>\n",
       "    </tr>\n",
       "    <tr>\n",
       "      <th>Q</th>\n",
       "      <td>0.389610</td>\n",
       "    </tr>\n",
       "    <tr>\n",
       "      <th>S</th>\n",
       "      <td>0.336957</td>\n",
       "    </tr>\n",
       "  </tbody>\n",
       "</table>\n",
       "</div>"
      ],
      "text/plain": [
       "          Survived\n",
       "Embarked          \n",
       "C         0.553571\n",
       "Q         0.389610\n",
       "S         0.336957"
      ]
     },
     "execution_count": 18,
     "metadata": {},
     "output_type": "execute_result"
    }
   ],
   "source": [
    "# Embarked별 생존률\n",
    "df[['Embarked', 'Survived']].groupby('Embarked').mean()"
   ]
  },
  {
   "cell_type": "markdown",
   "id": "fe0b0e8b",
   "metadata": {},
   "source": [
    "[해석]\n",
    "- C 탑승자의 생존률이 상대적으로 가장 높았으며, Q와 S의 생존률은 비슷함."
   ]
  },
  {
   "cell_type": "code",
   "execution_count": 19,
   "id": "e25aca8c",
   "metadata": {},
   "outputs": [
    {
     "data": {
      "image/png": "[encoded data removed]",
      "text/plain": [
       "<Figure size 500x300 with 1 Axes>"
      ]
     },
     "metadata": {},
     "output_type": "display_data"
    }
   ],
   "source": [
    "# Embakred ~ Pclass\n",
    "plt.figure(figsize=(5,3))\n",
    "sns.countplot(data=df, x='Embarked', hue = 'Pclass')\n",
    "plt.title('Pclass별 Embarked 수')\n",
    "plt.show()"
   ]
  },
  {
   "cell_type": "markdown",
   "id": "034d899e",
   "metadata": {},
   "source": [
    "#### 5) Fare"
   ]
  },
  {
   "cell_type": "code",
   "execution_count": 20,
   "id": "d31f091f",
   "metadata": {},
   "outputs": [
    {
     "data": {
      "image/png": "[encoded data removed]",
      "text/plain": [
       "<Figure size 1200x400 with 2 Axes>"
      ]
     },
     "metadata": {},
     "output_type": "display_data"
    }
   ],
   "source": [
    "fig, ax = plt.subplots(1, 2, figsize=(12,4))\n",
    "\n",
    "sns.histplot(data=df, x='Fare', hue='Survived', alpha=.4, kde=True, ax=ax[0])\n",
    "ax[0].set_title('생존 여부에 따른 Fare 히스토그램')\n",
    "\n",
    "sns.histplot(data=df, x='Fare', hue='Survived', alpha=.4, kde=True)\n",
    "ax[1].set_title('생존 여부에 따른 Fare 히스토그램 (adjusted X-axis)')\n",
    "ax[1].set_xlim(0, 150)\n",
    "\n",
    "plt.tight_layout()\n",
    "plt.show()"
   ]
  },
  {
   "cell_type": "markdown",
   "id": "97909e07",
   "metadata": {},
   "source": [
    "[해석]\n",
    "- 생존자, 사망자 모두 20 이하에 집중적으로 분포함. \n",
    "- 특히 대부분의 사망자가 대략 5~10 부근에 집중되어 있음.\n",
    "- 생존자도 마찬가지로 대략 5~10 부근에 집중되어 있음.\n",
    "- Survived별 Fare의 분포가 어느정도 비슷한 패턴을 보임."
   ]
  },
  {
   "cell_type": "code",
   "execution_count": 21,
   "id": "b31fda34",
   "metadata": {},
   "outputs": [
    {
     "data": {
      "image/png": "[encoded data removed]",
      "text/plain": [
       "<Figure size 1200x400 with 3 Axes>"
      ]
     },
     "metadata": {},
     "output_type": "display_data"
    }
   ],
   "source": [
    "fig, ax = plt.subplots(1, 3, figsize=(12,4))\n",
    "\n",
    "for i in range(3):\n",
    "    sns.histplot(data=df[df['Pclass']==i+1], x='Fare', kde=True, ax=ax[i])\n",
    "    ax[i].set_title(f'Pclass={i+1}')\n",
    "\n",
    "# ax[1].set_title('생존 여부에 따른 Fare 히스토그램 (adjusted X-axis)')\n",
    "# ax[1].set_xlim(0, 150)\n",
    "\n",
    "plt.tight_layout()\n",
    "plt.show()"
   ]
  },
  {
   "cell_type": "markdown",
   "id": "d1cd589a",
   "metadata": {},
   "source": [
    "[해석]\n",
    "- 상대적으로 Pclass = 1인 사람들이 많은 요금을 지불했음"
   ]
  },
  {
   "cell_type": "code",
   "execution_count": 22,
   "id": "1cfe7e6b",
   "metadata": {},
   "outputs": [
    {
     "name": "stdout",
     "output_type": "stream",
     "text": [
      "<정규성 검정>\n",
      "Pclass 1:\n",
      " ShapiroResult(statistic=0.718401312828064, pvalue=7.556354866266318e-19)\n",
      "Pclass 2:\n",
      " ShapiroResult(statistic=0.7785055637359619, pvalue=2.1134516002102284e-15)\n",
      "Pclass 3:\n",
      " ShapiroResult(statistic=0.6183854937553406, pvalue=1.5995106796893175e-31)\n",
      "\n",
      "<등분산성 검정>\n",
      "LeveneResult(statistic=118.57020037111805, pvalue=2.288618662046418e-46)\n",
      "\n",
      "<일원배치 분산분석>\n",
      " F_onewayResult(statistic=242.34415651744814, pvalue=1.0313763209141171e-84)\n",
      "\n",
      "<사후 검정>\n"
     ]
    },
    {
     "data": {
      "text/html": [
       "<table class=\"simpletable\">\n",
       "<caption>Multiple Comparison of Means - Tukey HSD, FWER=0.05</caption>\n",
       "<tr>\n",
       "  <th>group1</th> <th>group2</th> <th>meandiff</th> <th>p-adj</th>   <th>lower</th>    <th>upper</th>  <th>reject</th>\n",
       "</tr>\n",
       "<tr>\n",
       "     <td>1</td>      <td>2</td>   <td>-63.4925</td> <td>-0.0</td>  <td>-72.9165</td> <td>-54.0685</td>  <td>True</td> \n",
       "</tr>\n",
       "<tr>\n",
       "     <td>1</td>      <td>3</td>   <td>-70.4791</td> <td>-0.0</td>  <td>-78.1489</td> <td>-62.8094</td>  <td>True</td> \n",
       "</tr>\n",
       "<tr>\n",
       "     <td>2</td>      <td>3</td>    <td>-6.9866</td> <td>0.108</td> <td>-15.1064</td>  <td>1.1331</td>   <td>False</td>\n",
       "</tr>\n",
       "</table>"
      ],
      "text/plain": [
       "<class 'statsmodels.iolib.table.SimpleTable'>"
      ]
     },
     "metadata": {},
     "output_type": "display_data"
    },
    {
     "data": {
      "image/png": "[encoded data removed]",
      "text/plain": [
       "<Figure size 500x300 with 1 Axes>"
      ]
     },
     "metadata": {},
     "output_type": "display_data"
    }
   ],
   "source": [
    "# 일원배치 분산분석(Pclass ~ Fare)\n",
    "import scipy.stats as stats\n",
    "\n",
    "# 정규성 검정\n",
    "pclass_1 = df[df['Pclass']==1]['Fare']\n",
    "pclass_2 = df[df['Pclass']==2]['Fare']\n",
    "pclass_3 = df[df['Pclass']==3]['Fare']\n",
    "print('<정규성 검정>')\n",
    "print('Pclass 1:\\n', stats.shapiro(pclass_1))\n",
    "print('Pclass 2:\\n',stats.shapiro(pclass_2))\n",
    "print('Pclass 3:\\n',stats.shapiro(pclass_3))\n",
    "\n",
    "# 등분산성 검정\n",
    "print('\\n<등분산성 검정>')\n",
    "print(stats.levene(pclass_1, pclass_2, pclass_3))\n",
    "\n",
    "# 일원배치 분산분석\n",
    "print('\\n<일원배치 분산분석>\\n', stats.f_oneway(pclass_1, pclass_2, pclass_3))\n",
    "\n",
    "# 사후 검정\n",
    "from statsmodels.stats.multicomp import pairwise_tukeyhsd, MultiComparison\n",
    "mc = MultiComparison(data=df['Fare'], groups=df['Pclass'])\n",
    "tukeyhsd = mc.tukeyhsd()\n",
    "print('\\n<사후 검정>')\n",
    "fig = tukeyhsd.plot_simultaneous(figsize=(5, 3))\n",
    "plt.xlabel('Fare')\n",
    "plt.ylabel('Pclass')\n",
    "display(tukeyhsd.summary())"
   ]
  },
  {
   "cell_type": "markdown",
   "id": "bea0d63f",
   "metadata": {},
   "source": [
    "[해석]\n",
    "- 정규성과 등분산성 가정에 위배되는 결과이지만(p < 0.05) 두 가정을 만족한다는 가정하에 분산분석을 진행함.\n",
    "- 귀무가설을 기각하여 Pclass에 따라 Fare 값에 차이가 있다고 할 수 있으면 사후 검정을 진행함.\n",
    "- Pclass 2와 3은 유의한 차이가 없지만 Pclass 2와 1, 그리고 Pclass 3과 1에는 유의한 차이가 있음."
   ]
  },
  {
   "cell_type": "code",
   "execution_count": 23,
   "id": "fe265960",
   "metadata": {},
   "outputs": [
    {
     "name": "stdout",
     "output_type": "stream",
     "text": [
      "<크루스칼-왈리스 순위합 검정>\n",
      "KruskalResult(statistic=438.0437034212556, pvalue=7.586096900646798e-96)\n"
     ]
    }
   ],
   "source": [
    "# 크루스칼-왈리스 순위합 검정(Kruskal-Wallis rank sum test)\n",
    "# 정규성을 만족하지 않은 비모수 분산분석 방법\n",
    "print('<크루스칼-왈리스 순위합 검정>')\n",
    "print(stats.kruskal(pclass_1, pclass_2, pclass_3))"
   ]
  },
  {
   "cell_type": "markdown",
   "id": "bb05d65d",
   "metadata": {},
   "source": [
    "[해석]\n",
    "- 정규성 가정에 위배되었기에, 이때 사용할 수 있는 크루스칼-왈리스 순위합 검정(Kruskal-Wallis rank sum test)으로 분석분석을 진행함.\n",
    "- p < 0.05이므로 귀무가설을 기각할 수 있음."
   ]
  },
  {
   "cell_type": "code",
   "execution_count": 24,
   "id": "563ad01b",
   "metadata": {},
   "outputs": [
    {
     "name": "stdout",
     "output_type": "stream",
     "text": [
      "<Welch's ANOVA >\n"
     ]
    },
    {
     "data": {
      "text/html": [
       "<div>\n",
       "<style scoped>\n",
       "    .dataframe tbody tr th:only-of-type {\n",
       "        vertical-align: middle;\n",
       "    }\n",
       "\n",
       "    .dataframe tbody tr th {\n",
       "        vertical-align: top;\n",
       "    }\n",
       "\n",
       "    .dataframe thead th {\n",
       "        text-align: right;\n",
       "    }\n",
       "</style>\n",
       "<table border=\"1\" class=\"dataframe\">\n",
       "  <thead>\n",
       "    <tr style=\"text-align: right;\">\n",
       "      <th></th>\n",
       "      <th>Source</th>\n",
       "      <th>ddof1</th>\n",
       "      <th>ddof2</th>\n",
       "      <th>F</th>\n",
       "      <th>p-unc</th>\n",
       "      <th>np2</th>\n",
       "    </tr>\n",
       "  </thead>\n",
       "  <tbody>\n",
       "    <tr>\n",
       "      <th>0</th>\n",
       "      <td>Fare</td>\n",
       "      <td>247</td>\n",
       "      <td>19436.613995</td>\n",
       "      <td>0.0</td>\n",
       "      <td>1.0</td>\n",
       "      <td>0.976506</td>\n",
       "    </tr>\n",
       "  </tbody>\n",
       "</table>\n",
       "</div>"
      ],
      "text/plain": [
       "  Source  ddof1         ddof2    F  p-unc       np2\n",
       "0   Fare    247  19436.613995  0.0    1.0  0.976506"
      ]
     },
     "metadata": {},
     "output_type": "display_data"
    }
   ],
   "source": [
    "# Welch's ANOVA \n",
    "# 등분산성 가정을 충족하지 않을 때 사용\n",
    "import pingouin as pg\n",
    "import warnings\n",
    "warnings.filterwarnings(action='ignore')\n",
    "print(\"<Welch's ANOVA >\")\n",
    "display(pg.welch_anova(dv = 'Pclass', between = 'Fare', data = df))"
   ]
  },
  {
   "cell_type": "markdown",
   "id": "cf735187",
   "metadata": {},
   "source": [
    "[해석]\n",
    "- 등분산성 가정에 위배되었기에, 이때 사용할 수 있는 Welch's ANOVA 으로 분석분석을 진행함.\n",
    "- p > 0.05이므로 귀무가설을 기각할 수 없음"
   ]
  },
  {
   "cell_type": "markdown",
   "id": "09fd1595",
   "metadata": {},
   "source": [
    "#### 6) Parch"
   ]
  },
  {
   "cell_type": "code",
   "execution_count": 25,
   "id": "ab2f97c4",
   "metadata": {},
   "outputs": [
    {
     "data": {
      "image/png": "[encoded data removed]",
      "text/plain": [
       "<Figure size 800x300 with 2 Axes>"
      ]
     },
     "metadata": {},
     "output_type": "display_data"
    }
   ],
   "source": [
    "fig, ax = plt.subplots(1, 2, figsize=(8, 3))\n",
    "\n",
    "sns.countplot(data=df, x='Parch', ax=ax[0])\n",
    "ax[0].set_title('Parch별 탑승자 수', fontsize=10)\n",
    "\n",
    "sns.pointplot(data=df, x='Parch', y='Survived',ax=ax[1])\n",
    "ax[1].set_title('Parch에 따른 생존율', fontsize=10)\n",
    "\n",
    "plt.tight_layout()\n",
    "plt.show()"
   ]
  },
  {
   "cell_type": "markdown",
   "id": "5e512f98",
   "metadata": {},
   "source": [
    "[해석]\n",
    "- 부모, 자녀 없이 혼자 탑승한 사람들이 가장 많음.\n",
    "- 함께 탑승한 부모, 자녀 수가 4명 이상이면 생존율이 급격히 낮아짐"
   ]
  },
  {
   "cell_type": "code",
   "execution_count": 26,
   "id": "672ecae9",
   "metadata": {},
   "outputs": [
    {
     "data": {
      "text/html": [
       "<div>\n",
       "<style scoped>\n",
       "    .dataframe tbody tr th:only-of-type {\n",
       "        vertical-align: middle;\n",
       "    }\n",
       "\n",
       "    .dataframe tbody tr th {\n",
       "        vertical-align: top;\n",
       "    }\n",
       "\n",
       "    .dataframe thead th {\n",
       "        text-align: right;\n",
       "    }\n",
       "</style>\n",
       "<table border=\"1\" class=\"dataframe\">\n",
       "  <thead>\n",
       "    <tr style=\"text-align: right;\">\n",
       "      <th></th>\n",
       "      <th>Survived</th>\n",
       "    </tr>\n",
       "    <tr>\n",
       "      <th>Parch</th>\n",
       "      <th></th>\n",
       "    </tr>\n",
       "  </thead>\n",
       "  <tbody>\n",
       "    <tr>\n",
       "      <th>3</th>\n",
       "      <td>0.600000</td>\n",
       "    </tr>\n",
       "    <tr>\n",
       "      <th>1</th>\n",
       "      <td>0.550847</td>\n",
       "    </tr>\n",
       "    <tr>\n",
       "      <th>2</th>\n",
       "      <td>0.500000</td>\n",
       "    </tr>\n",
       "    <tr>\n",
       "      <th>0</th>\n",
       "      <td>0.343658</td>\n",
       "    </tr>\n",
       "    <tr>\n",
       "      <th>5</th>\n",
       "      <td>0.200000</td>\n",
       "    </tr>\n",
       "    <tr>\n",
       "      <th>4</th>\n",
       "      <td>0.000000</td>\n",
       "    </tr>\n",
       "    <tr>\n",
       "      <th>6</th>\n",
       "      <td>0.000000</td>\n",
       "    </tr>\n",
       "  </tbody>\n",
       "</table>\n",
       "</div>"
      ],
      "text/plain": [
       "       Survived\n",
       "Parch          \n",
       "3      0.600000\n",
       "1      0.550847\n",
       "2      0.500000\n",
       "0      0.343658\n",
       "5      0.200000\n",
       "4      0.000000\n",
       "6      0.000000"
      ]
     },
     "execution_count": 26,
     "metadata": {},
     "output_type": "execute_result"
    }
   ],
   "source": [
    "# Parch별 생존율\n",
    "df[['Parch', 'Survived']].groupby('Parch').mean().sort_values(by='Survived', ascending=False)"
   ]
  },
  {
   "cell_type": "markdown",
   "id": "9d7216d6",
   "metadata": {},
   "source": [
    "#### 7) SibSp"
   ]
  },
  {
   "cell_type": "code",
   "execution_count": 27,
   "id": "35fa7730",
   "metadata": {},
   "outputs": [
    {
     "data": {
      "image/png": "[encoded data removed]",
      "text/plain": [
       "<Figure size 800x300 with 2 Axes>"
      ]
     },
     "metadata": {},
     "output_type": "display_data"
    }
   ],
   "source": [
    "fig, ax = plt.subplots(1, 2, figsize=(8, 3))\n",
    "\n",
    "sns.countplot(data=df, x='SibSp', ax=ax[0])\n",
    "ax[0].set_title('SibSp별 탑승자 수', fontsize=10)\n",
    "\n",
    "sns.pointplot(data=df, x='SibSp', y='Survived', ax=ax[1])\n",
    "ax[1].set_title('SibSp에 따른 생존율', fontsize=10)\n",
    "\n",
    "plt.tight_layout()\n",
    "plt.show()"
   ]
  },
  {
   "cell_type": "markdown",
   "id": "ca199fc9",
   "metadata": {},
   "source": [
    "[해석]\n",
    "- 함께 탑승한 형제 및 배우자 수가 3명 이상일수록 생존률이 낮아짐."
   ]
  },
  {
   "cell_type": "code",
   "execution_count": 28,
   "id": "b05e261d",
   "metadata": {},
   "outputs": [
    {
     "data": {
      "text/html": [
       "<div>\n",
       "<style scoped>\n",
       "    .dataframe tbody tr th:only-of-type {\n",
       "        vertical-align: middle;\n",
       "    }\n",
       "\n",
       "    .dataframe tbody tr th {\n",
       "        vertical-align: top;\n",
       "    }\n",
       "\n",
       "    .dataframe thead th {\n",
       "        text-align: right;\n",
       "    }\n",
       "</style>\n",
       "<table border=\"1\" class=\"dataframe\">\n",
       "  <thead>\n",
       "    <tr style=\"text-align: right;\">\n",
       "      <th></th>\n",
       "      <th>SibSp</th>\n",
       "      <th>Survived</th>\n",
       "    </tr>\n",
       "  </thead>\n",
       "  <tbody>\n",
       "    <tr>\n",
       "      <th>1</th>\n",
       "      <td>1</td>\n",
       "      <td>0.535885</td>\n",
       "    </tr>\n",
       "    <tr>\n",
       "      <th>2</th>\n",
       "      <td>2</td>\n",
       "      <td>0.464286</td>\n",
       "    </tr>\n",
       "    <tr>\n",
       "      <th>0</th>\n",
       "      <td>0</td>\n",
       "      <td>0.345395</td>\n",
       "    </tr>\n",
       "    <tr>\n",
       "      <th>3</th>\n",
       "      <td>3</td>\n",
       "      <td>0.250000</td>\n",
       "    </tr>\n",
       "    <tr>\n",
       "      <th>4</th>\n",
       "      <td>4</td>\n",
       "      <td>0.166667</td>\n",
       "    </tr>\n",
       "    <tr>\n",
       "      <th>5</th>\n",
       "      <td>5</td>\n",
       "      <td>0.000000</td>\n",
       "    </tr>\n",
       "    <tr>\n",
       "      <th>6</th>\n",
       "      <td>8</td>\n",
       "      <td>0.000000</td>\n",
       "    </tr>\n",
       "  </tbody>\n",
       "</table>\n",
       "</div>"
      ],
      "text/plain": [
       "   SibSp  Survived\n",
       "1      1  0.535885\n",
       "2      2  0.464286\n",
       "0      0  0.345395\n",
       "3      3  0.250000\n",
       "4      4  0.166667\n",
       "5      5  0.000000\n",
       "6      8  0.000000"
      ]
     },
     "execution_count": 28,
     "metadata": {},
     "output_type": "execute_result"
    }
   ],
   "source": [
    "# SibSp별 생존률\n",
    "df[['SibSp', 'Survived']].groupby('SibSp', as_index=False).mean().sort_values('Survived', ascending=False)"
   ]
  },
  {
   "cell_type": "code",
   "execution_count": 29,
   "id": "35d36edc",
   "metadata": {},
   "outputs": [
    {
     "name": "stdout",
     "output_type": "stream",
     "text": [
      "<독립성 검정>\n",
      "Statistic: 341.6819870377193\n",
      "p-value: 1.7902298345649077e-51\n",
      "df: 36\n"
     ]
    }
   ],
   "source": [
    "# Parch ~ SibSp 간 독립성 검정\n",
    "# 귀무가설: Parch와 SibSp 변수는 서로 독립이다.\n",
    "# 대립가설: 두 변수는 서로 독립이 아니다.\n",
    "\n",
    "from scipy.stats import chi2_contingency\n",
    "table = pd.crosstab(df.Parch, df.SibSp)\n",
    "chi, p, dff, expect = chi2_contingency(table)\n",
    "print('<독립성 검정>')\n",
    "print('Statistic:', chi)\n",
    "print('p-value:', p)\n",
    "print('df:', dff)\n",
    "# print('expect:\\n', expect)"
   ]
  },
  {
   "cell_type": "markdown",
   "id": "9bc1fc3b",
   "metadata": {},
   "source": [
    "[해석]\n",
    "- p-value < 0.05 이므로 귀무가설을 기각하여 두 변수는 서로 연관성이 있음."
   ]
  },
  {
   "cell_type": "markdown",
   "id": "a98507ee",
   "metadata": {},
   "source": [
    "#### 8) Survived"
   ]
  },
  {
   "cell_type": "code",
   "execution_count": 30,
   "id": "181b408f",
   "metadata": {},
   "outputs": [
    {
     "data": {
      "text/plain": [
       "0    549\n",
       "1    342\n",
       "Name: Survived, dtype: int64"
      ]
     },
     "execution_count": 30,
     "metadata": {},
     "output_type": "execute_result"
    }
   ],
   "source": [
    "# 사망자 수(0, 549명)가 더 많음\n",
    "df.Survived.value_counts()"
   ]
  },
  {
   "cell_type": "markdown",
   "id": "314a348a",
   "metadata": {},
   "source": [
    "#### 9) 상관관계 히트맵"
   ]
  },
  {
   "cell_type": "code",
   "execution_count": 31,
   "id": "f299b2f6",
   "metadata": {},
   "outputs": [
    {
     "data": {
      "text/html": [
       "<div>\n",
       "<style scoped>\n",
       "    .dataframe tbody tr th:only-of-type {\n",
       "        vertical-align: middle;\n",
       "    }\n",
       "\n",
       "    .dataframe tbody tr th {\n",
       "        vertical-align: top;\n",
       "    }\n",
       "\n",
       "    .dataframe thead th {\n",
       "        text-align: right;\n",
       "    }\n",
       "</style>\n",
       "<table border=\"1\" class=\"dataframe\">\n",
       "  <thead>\n",
       "    <tr style=\"text-align: right;\">\n",
       "      <th></th>\n",
       "      <th>Age</th>\n",
       "      <th>Fare</th>\n",
       "      <th>Parch</th>\n",
       "      <th>Pclass</th>\n",
       "      <th>SibSp</th>\n",
       "      <th>Survived</th>\n",
       "    </tr>\n",
       "  </thead>\n",
       "  <tbody>\n",
       "    <tr>\n",
       "      <th>Age</th>\n",
       "      <td>1.000000</td>\n",
       "      <td>0.096067</td>\n",
       "      <td>-0.189119</td>\n",
       "      <td>-0.369226</td>\n",
       "      <td>-0.308247</td>\n",
       "      <td>-0.077221</td>\n",
       "    </tr>\n",
       "    <tr>\n",
       "      <th>Fare</th>\n",
       "      <td>0.096067</td>\n",
       "      <td>1.000000</td>\n",
       "      <td>0.216225</td>\n",
       "      <td>-0.549500</td>\n",
       "      <td>0.159651</td>\n",
       "      <td>0.257307</td>\n",
       "    </tr>\n",
       "    <tr>\n",
       "      <th>Parch</th>\n",
       "      <td>-0.189119</td>\n",
       "      <td>0.216225</td>\n",
       "      <td>1.000000</td>\n",
       "      <td>0.018443</td>\n",
       "      <td>0.414838</td>\n",
       "      <td>0.081629</td>\n",
       "    </tr>\n",
       "    <tr>\n",
       "      <th>Pclass</th>\n",
       "      <td>-0.369226</td>\n",
       "      <td>-0.549500</td>\n",
       "      <td>0.018443</td>\n",
       "      <td>1.000000</td>\n",
       "      <td>0.083081</td>\n",
       "      <td>-0.338481</td>\n",
       "    </tr>\n",
       "    <tr>\n",
       "      <th>SibSp</th>\n",
       "      <td>-0.308247</td>\n",
       "      <td>0.159651</td>\n",
       "      <td>0.414838</td>\n",
       "      <td>0.083081</td>\n",
       "      <td>1.000000</td>\n",
       "      <td>-0.035322</td>\n",
       "    </tr>\n",
       "    <tr>\n",
       "      <th>Survived</th>\n",
       "      <td>-0.077221</td>\n",
       "      <td>0.257307</td>\n",
       "      <td>0.081629</td>\n",
       "      <td>-0.338481</td>\n",
       "      <td>-0.035322</td>\n",
       "      <td>1.000000</td>\n",
       "    </tr>\n",
       "  </tbody>\n",
       "</table>\n",
       "</div>"
      ],
      "text/plain": [
       "               Age      Fare     Parch    Pclass     SibSp  Survived\n",
       "Age       1.000000  0.096067 -0.189119 -0.369226 -0.308247 -0.077221\n",
       "Fare      0.096067  1.000000  0.216225 -0.549500  0.159651  0.257307\n",
       "Parch    -0.189119  0.216225  1.000000  0.018443  0.414838  0.081629\n",
       "Pclass   -0.369226 -0.549500  0.018443  1.000000  0.083081 -0.338481\n",
       "SibSp    -0.308247  0.159651  0.414838  0.083081  1.000000 -0.035322\n",
       "Survived -0.077221  0.257307  0.081629 -0.338481 -0.035322  1.000000"
      ]
     },
     "execution_count": 31,
     "metadata": {},
     "output_type": "execute_result"
    }
   ],
   "source": [
    "# 상관관계 파악\n",
    "df_corr = df.corr(method='pearson')\n",
    "df_corr"
   ]
  },
  {
   "cell_type": "code",
   "execution_count": 32,
   "id": "55fcf560",
   "metadata": {},
   "outputs": [
    {
     "data": {
      "image/png": "[encoded data removed]",
      "text/plain": [
       "<Figure size 500x300 with 2 Axes>"
      ]
     },
     "metadata": {},
     "output_type": "display_data"
    }
   ],
   "source": [
    "plt.figure(figsize=(5,3))\n",
    "sns.heatmap(df_corr, annot=True, cmap='RdBu_r', linewidth=.3, vmin=-1, vmax=1, fmt='.2f')\n",
    "plt.show()"
   ]
  },
  {
   "cell_type": "markdown",
   "id": "5f290d6a",
   "metadata": {},
   "source": []
  },
  {
   "cell_type": "markdown",
   "id": "0a412d93",
   "metadata": {},
   "source": [
    "[해석]\n",
    "1. Fare와 Pclass 간에 상대적으로 높은 음의 상관성 존재(-0.55)\n",
    "1. Parch와 SibSp 간에 상대적으로 높은 양의 상관성 존재(0.41)\n",
    "1. Age와 Pcalss 간에 상대적으로 약한 음의 상관성 존재(-0.37)\n",
    "1. Age, SibSp, Parch와 Survived 사이에는 상관성이 약함.\n",
    "1. Pclass와 Survived 간에 상대적으로 약한 음의 상관성 존재(-0.34)"
   ]
  },
  {
   "cell_type": "markdown",
   "id": "53cc555f",
   "metadata": {},
   "source": [
    "### 3. 전처리\n",
    "- 결측치 대체\n",
    "- 파생 변수 생성\n",
    "    - Name\n",
    "    - Parch + Sibsp + 1(본인) = \"Family\"\n",
    "    \n",
    "    \n",
    "~~- 범주형 변수 인코딩~~"
   ]
  },
  {
   "cell_type": "markdown",
   "id": "53e56628",
   "metadata": {},
   "source": [
    "#### 1) 결측치 대체\n",
    "\n",
    "**[참고서]**  \n",
    "**\"파이썬을 활용한 머신러닝 쿡북(p.144~145)\" - KNN을 이용한 결측값 대체**"
   ]
  },
  {
   "cell_type": "code",
   "execution_count": 11,
   "id": "f0f1beb1",
   "metadata": {},
   "outputs": [
    {
     "data": {
      "text/plain": [
       "Age         177\n",
       "Embarked      2\n",
       "Fare          0\n",
       "Name          0\n",
       "Parch         0\n",
       "Pclass        0\n",
       "Sex           0\n",
       "SibSp         0\n",
       "Survived      0\n",
       "dtype: int64"
      ]
     },
     "execution_count": 11,
     "metadata": {},
     "output_type": "execute_result"
    }
   ],
   "source": [
    "# df 다시 설정\n",
    "df = train[train.columns.difference(['PassengerId', 'Ticket', 'Cabin'])]\n",
    "\n",
    "# 결측치 확인\n",
    "df.isna().sum()"
   ]
  },
  {
   "cell_type": "markdown",
   "id": "6df3a94f",
   "metadata": {},
   "source": [
    "[해석]  \n",
    "\n",
    "- 수치형 변수 1개, 범주형 변수 1개씩 결측치 존재함.\n",
    "- 수치형 변수의 결측치 대체 방법은 (1) 단순대치법, (2) KNN을이용한 결측치 대체가 있음.\n",
    "    - (1) 단순대치법: 수치형 변수라면 평균과 중앙값으로 대체할 수 있고, 범주형 변수라면 최빈값으로 대체할 수 있음.\n",
    "    - (2) KNN을 이용한 방법: 수치형 변수로만 가능하며, 결측치가 없는 컬럼들의 최근접 이웃 알고리즘을 이용해 결측치를 대체할 수 있음.\n",
    "        - 즉, 여러 거리 측정 방식을 기반으로 가장 가까이 있는 k개의 샘플을 이용해 결측치를 대체함.\n",
    "        - 장점: 머신러닝 기법으로 누락된 값을 예측할 수 있음.\n",
    "        - 단점: 누락된 값에 가장 가까운 샘플을 구하기 위해 누락된 값과 모든 샘플 사이의 거리를 계산해야 함."
   ]
  },
  {
   "cell_type": "code",
   "execution_count": 12,
   "id": "37b6afbb",
   "metadata": {},
   "outputs": [
    {
     "data": {
      "text/plain": [
       "Age         0\n",
       "Embarked    2\n",
       "Fare        0\n",
       "Name        0\n",
       "Parch       0\n",
       "Pclass      0\n",
       "Sex         0\n",
       "SibSp       0\n",
       "Survived    0\n",
       "dtype: int64"
      ]
     },
     "execution_count": 12,
     "metadata": {},
     "output_type": "execute_result"
    }
   ],
   "source": [
    "# 수치형 변수 결측치 대체\n",
    "from sklearn.impute import KNNImputer\n",
    "\n",
    "# 결측치가 있는 수치형 데이터만 추출\n",
    "KNN_data = df[['Age']]\n",
    "\n",
    "# 모델링\n",
    "imputer = KNNImputer()\n",
    "df_filled = imputer.fit_transform(KNN_data)\n",
    "df_filled= pd.DataFrame(df_filled, columns =KNN_data.columns)\n",
    "df[KNN_data.columns] = df_filled\n",
    "\n",
    "# 결측치 확인\n",
    "df.isna().sum()"
   ]
  },
  {
   "cell_type": "code",
   "execution_count": 13,
   "id": "239873ac",
   "metadata": {},
   "outputs": [
    {
     "data": {
      "text/plain": [
       "Age         0\n",
       "Embarked    0\n",
       "Fare        0\n",
       "Name        0\n",
       "Parch       0\n",
       "Pclass      0\n",
       "Sex         0\n",
       "SibSp       0\n",
       "Survived    0\n",
       "dtype: int64"
      ]
     },
     "execution_count": 13,
     "metadata": {},
     "output_type": "execute_result"
    }
   ],
   "source": [
    "# 범주형 변수 결측치 대체\n",
    "from sklearn.impute import SimpleImputer\n",
    "\n",
    "simple_imputer = SimpleImputer(strategy='most_frequent') # 최빈값으로 대체\n",
    "categori_data = df[['Embarked']]\n",
    "\n",
    "df_filled = simple_imputer.fit_transform(categori_data)\n",
    "df_filled = pd.DataFrame(df_filled, columns=categori_data.columns)\n",
    "df[categori_data.columns] = df_filled\n",
    "\n",
    "# 결측치 확인\n",
    "df.isna().sum()"
   ]
  },
  {
   "cell_type": "markdown",
   "id": "a0028314",
   "metadata": {},
   "source": [
    "#### 2) 파생변수 생성\n",
    "- Family\n",
    "- Name_Title"
   ]
  },
  {
   "cell_type": "code",
   "execution_count": 14,
   "id": "bc942f50",
   "metadata": {},
   "outputs": [
    {
     "data": {
      "text/html": [
       "<div>\n",
       "<style scoped>\n",
       "    .dataframe tbody tr th:only-of-type {\n",
       "        vertical-align: middle;\n",
       "    }\n",
       "\n",
       "    .dataframe tbody tr th {\n",
       "        vertical-align: top;\n",
       "    }\n",
       "\n",
       "    .dataframe thead th {\n",
       "        text-align: right;\n",
       "    }\n",
       "</style>\n",
       "<table border=\"1\" class=\"dataframe\">\n",
       "  <thead>\n",
       "    <tr style=\"text-align: right;\">\n",
       "      <th></th>\n",
       "      <th>Age</th>\n",
       "      <th>Embarked</th>\n",
       "      <th>Fare</th>\n",
       "      <th>Name</th>\n",
       "      <th>Parch</th>\n",
       "      <th>Pclass</th>\n",
       "      <th>Sex</th>\n",
       "      <th>SibSp</th>\n",
       "      <th>Survived</th>\n",
       "      <th>Family</th>\n",
       "    </tr>\n",
       "  </thead>\n",
       "  <tbody>\n",
       "    <tr>\n",
       "      <th>0</th>\n",
       "      <td>22.0</td>\n",
       "      <td>S</td>\n",
       "      <td>7.2500</td>\n",
       "      <td>Braund, Mr. Owen Harris</td>\n",
       "      <td>0</td>\n",
       "      <td>3</td>\n",
       "      <td>male</td>\n",
       "      <td>1</td>\n",
       "      <td>0</td>\n",
       "      <td>2</td>\n",
       "    </tr>\n",
       "    <tr>\n",
       "      <th>1</th>\n",
       "      <td>38.0</td>\n",
       "      <td>C</td>\n",
       "      <td>71.2833</td>\n",
       "      <td>Cumings, Mrs. John Bradley (Florence Briggs Th...</td>\n",
       "      <td>0</td>\n",
       "      <td>1</td>\n",
       "      <td>female</td>\n",
       "      <td>1</td>\n",
       "      <td>1</td>\n",
       "      <td>2</td>\n",
       "    </tr>\n",
       "    <tr>\n",
       "      <th>2</th>\n",
       "      <td>26.0</td>\n",
       "      <td>S</td>\n",
       "      <td>7.9250</td>\n",
       "      <td>Heikkinen, Miss. Laina</td>\n",
       "      <td>0</td>\n",
       "      <td>3</td>\n",
       "      <td>female</td>\n",
       "      <td>0</td>\n",
       "      <td>1</td>\n",
       "      <td>1</td>\n",
       "    </tr>\n",
       "    <tr>\n",
       "      <th>3</th>\n",
       "      <td>35.0</td>\n",
       "      <td>S</td>\n",
       "      <td>53.1000</td>\n",
       "      <td>Futrelle, Mrs. Jacques Heath (Lily May Peel)</td>\n",
       "      <td>0</td>\n",
       "      <td>1</td>\n",
       "      <td>female</td>\n",
       "      <td>1</td>\n",
       "      <td>1</td>\n",
       "      <td>2</td>\n",
       "    </tr>\n",
       "    <tr>\n",
       "      <th>4</th>\n",
       "      <td>35.0</td>\n",
       "      <td>S</td>\n",
       "      <td>8.0500</td>\n",
       "      <td>Allen, Mr. William Henry</td>\n",
       "      <td>0</td>\n",
       "      <td>3</td>\n",
       "      <td>male</td>\n",
       "      <td>0</td>\n",
       "      <td>0</td>\n",
       "      <td>1</td>\n",
       "    </tr>\n",
       "  </tbody>\n",
       "</table>\n",
       "</div>"
      ],
      "text/plain": [
       "    Age Embarked     Fare                                               Name  \\\n",
       "0  22.0        S   7.2500                            Braund, Mr. Owen Harris   \n",
       "1  38.0        C  71.2833  Cumings, Mrs. John Bradley (Florence Briggs Th...   \n",
       "2  26.0        S   7.9250                             Heikkinen, Miss. Laina   \n",
       "3  35.0        S  53.1000       Futrelle, Mrs. Jacques Heath (Lily May Peel)   \n",
       "4  35.0        S   8.0500                           Allen, Mr. William Henry   \n",
       "\n",
       "   Parch  Pclass     Sex  SibSp  Survived  Family  \n",
       "0      0       3    male      1         0       2  \n",
       "1      0       1  female      1         1       2  \n",
       "2      0       3  female      0         1       1  \n",
       "3      0       1  female      1         1       2  \n",
       "4      0       3    male      0         0       1  "
      ]
     },
     "execution_count": 14,
     "metadata": {},
     "output_type": "execute_result"
    }
   ],
   "source": [
    "# Family 변수 생성\n",
    "df['Family'] = df['Parch'] + df['SibSp'] + 1\n",
    "df.head()"
   ]
  },
  {
   "cell_type": "code",
   "execution_count": 15,
   "id": "e011bd07",
   "metadata": {},
   "outputs": [
    {
     "data": {
      "text/html": [
       "<div>\n",
       "<style scoped>\n",
       "    .dataframe tbody tr th:only-of-type {\n",
       "        vertical-align: middle;\n",
       "    }\n",
       "\n",
       "    .dataframe tbody tr th {\n",
       "        vertical-align: top;\n",
       "    }\n",
       "\n",
       "    .dataframe thead th {\n",
       "        text-align: right;\n",
       "    }\n",
       "</style>\n",
       "<table border=\"1\" class=\"dataframe\">\n",
       "  <thead>\n",
       "    <tr style=\"text-align: right;\">\n",
       "      <th></th>\n",
       "      <th>Age</th>\n",
       "      <th>Embarked</th>\n",
       "      <th>Fare</th>\n",
       "      <th>Parch</th>\n",
       "      <th>Pclass</th>\n",
       "      <th>Sex</th>\n",
       "      <th>SibSp</th>\n",
       "      <th>Survived</th>\n",
       "      <th>Family</th>\n",
       "      <th>Name_Title</th>\n",
       "    </tr>\n",
       "  </thead>\n",
       "  <tbody>\n",
       "    <tr>\n",
       "      <th>0</th>\n",
       "      <td>22.0</td>\n",
       "      <td>S</td>\n",
       "      <td>7.2500</td>\n",
       "      <td>0</td>\n",
       "      <td>3</td>\n",
       "      <td>male</td>\n",
       "      <td>1</td>\n",
       "      <td>0</td>\n",
       "      <td>2</td>\n",
       "      <td>Mr</td>\n",
       "    </tr>\n",
       "    <tr>\n",
       "      <th>1</th>\n",
       "      <td>38.0</td>\n",
       "      <td>C</td>\n",
       "      <td>71.2833</td>\n",
       "      <td>0</td>\n",
       "      <td>1</td>\n",
       "      <td>female</td>\n",
       "      <td>1</td>\n",
       "      <td>1</td>\n",
       "      <td>2</td>\n",
       "      <td>Mrs</td>\n",
       "    </tr>\n",
       "    <tr>\n",
       "      <th>2</th>\n",
       "      <td>26.0</td>\n",
       "      <td>S</td>\n",
       "      <td>7.9250</td>\n",
       "      <td>0</td>\n",
       "      <td>3</td>\n",
       "      <td>female</td>\n",
       "      <td>0</td>\n",
       "      <td>1</td>\n",
       "      <td>1</td>\n",
       "      <td>Miss</td>\n",
       "    </tr>\n",
       "    <tr>\n",
       "      <th>3</th>\n",
       "      <td>35.0</td>\n",
       "      <td>S</td>\n",
       "      <td>53.1000</td>\n",
       "      <td>0</td>\n",
       "      <td>1</td>\n",
       "      <td>female</td>\n",
       "      <td>1</td>\n",
       "      <td>1</td>\n",
       "      <td>2</td>\n",
       "      <td>Mrs</td>\n",
       "    </tr>\n",
       "    <tr>\n",
       "      <th>4</th>\n",
       "      <td>35.0</td>\n",
       "      <td>S</td>\n",
       "      <td>8.0500</td>\n",
       "      <td>0</td>\n",
       "      <td>3</td>\n",
       "      <td>male</td>\n",
       "      <td>0</td>\n",
       "      <td>0</td>\n",
       "      <td>1</td>\n",
       "      <td>Mr</td>\n",
       "    </tr>\n",
       "  </tbody>\n",
       "</table>\n",
       "</div>"
      ],
      "text/plain": [
       "    Age Embarked     Fare  Parch  Pclass     Sex  SibSp  Survived  Family  \\\n",
       "0  22.0        S   7.2500      0       3    male      1         0       2   \n",
       "1  38.0        C  71.2833      0       1  female      1         1       2   \n",
       "2  26.0        S   7.9250      0       3  female      0         1       1   \n",
       "3  35.0        S  53.1000      0       1  female      1         1       2   \n",
       "4  35.0        S   8.0500      0       3    male      0         0       1   \n",
       "\n",
       "  Name_Title  \n",
       "0         Mr  \n",
       "1        Mrs  \n",
       "2       Miss  \n",
       "3        Mrs  \n",
       "4         Mr  "
      ]
     },
     "execution_count": 15,
     "metadata": {},
     "output_type": "execute_result"
    }
   ],
   "source": [
    "# Name_Title 변수 생성\n",
    "df['Name_Title'] = train['Name'].str.split(', ', expand=True)[1].str.split('.', expand=True)[0]\n",
    "df.drop(columns=['Name'], inplace=True)\n",
    "df.head()"
   ]
  },
  {
   "cell_type": "code",
   "execution_count": 10,
   "id": "2e5b0639",
   "metadata": {},
   "outputs": [
    {
     "data": {
      "text/plain": [
       "Mr              517\n",
       "Miss            182\n",
       "Mrs             125\n",
       "Master           40\n",
       "Dr                7\n",
       "Rev               6\n",
       "Col               2\n",
       "Mlle              2\n",
       "Major             2\n",
       "Sir               1\n",
       "Don               1\n",
       "Mme               1\n",
       "Capt              1\n",
       "the Countess      1\n",
       "Lady              1\n",
       "Ms                1\n",
       "Jonkheer          1\n",
       "Name: Name_Title, dtype: int64"
      ]
     },
     "execution_count": 10,
     "metadata": {},
     "output_type": "execute_result"
    }
   ],
   "source": [
    "df['Name_Title'].value_counts()"
   ]
  },
  {
   "cell_type": "code",
   "execution_count": 124,
   "id": "34f458e0",
   "metadata": {},
   "outputs": [
    {
     "data": {
      "image/png": "[encoded data removed]",
      "text/plain": [
       "<Figure size 900x400 with 1 Axes>"
      ]
     },
     "metadata": {},
     "output_type": "display_data"
    }
   ],
   "source": [
    "plt.figure(figsize=(9,4))\n",
    "sns.countplot(data=df, y='Name_Title', order=df['Name_Title'].value_counts().index)\n",
    "plt.title('Name_Title별 탑승자 수')\n",
    "plt.show()"
   ]
  },
  {
   "cell_type": "code",
   "execution_count": 125,
   "id": "e9f2aa12",
   "metadata": {},
   "outputs": [
    {
     "data": {
      "text/html": [
       "<div>\n",
       "<style scoped>\n",
       "    .dataframe tbody tr th:only-of-type {\n",
       "        vertical-align: middle;\n",
       "    }\n",
       "\n",
       "    .dataframe tbody tr th {\n",
       "        vertical-align: top;\n",
       "    }\n",
       "\n",
       "    .dataframe thead th {\n",
       "        text-align: right;\n",
       "    }\n",
       "</style>\n",
       "<table border=\"1\" class=\"dataframe\">\n",
       "  <thead>\n",
       "    <tr style=\"text-align: right;\">\n",
       "      <th></th>\n",
       "      <th>Name_Title</th>\n",
       "      <th>Survived</th>\n",
       "    </tr>\n",
       "  </thead>\n",
       "  <tbody>\n",
       "    <tr>\n",
       "      <th>16</th>\n",
       "      <td>the Countess</td>\n",
       "      <td>1.000000</td>\n",
       "    </tr>\n",
       "    <tr>\n",
       "      <th>9</th>\n",
       "      <td>Mlle</td>\n",
       "      <td>1.000000</td>\n",
       "    </tr>\n",
       "    <tr>\n",
       "      <th>15</th>\n",
       "      <td>Sir</td>\n",
       "      <td>1.000000</td>\n",
       "    </tr>\n",
       "    <tr>\n",
       "      <th>13</th>\n",
       "      <td>Ms</td>\n",
       "      <td>1.000000</td>\n",
       "    </tr>\n",
       "    <tr>\n",
       "      <th>5</th>\n",
       "      <td>Lady</td>\n",
       "      <td>1.000000</td>\n",
       "    </tr>\n",
       "    <tr>\n",
       "      <th>10</th>\n",
       "      <td>Mme</td>\n",
       "      <td>1.000000</td>\n",
       "    </tr>\n",
       "    <tr>\n",
       "      <th>12</th>\n",
       "      <td>Mrs</td>\n",
       "      <td>0.792000</td>\n",
       "    </tr>\n",
       "    <tr>\n",
       "      <th>8</th>\n",
       "      <td>Miss</td>\n",
       "      <td>0.697802</td>\n",
       "    </tr>\n",
       "    <tr>\n",
       "      <th>7</th>\n",
       "      <td>Master</td>\n",
       "      <td>0.575000</td>\n",
       "    </tr>\n",
       "    <tr>\n",
       "      <th>1</th>\n",
       "      <td>Col</td>\n",
       "      <td>0.500000</td>\n",
       "    </tr>\n",
       "    <tr>\n",
       "      <th>6</th>\n",
       "      <td>Major</td>\n",
       "      <td>0.500000</td>\n",
       "    </tr>\n",
       "    <tr>\n",
       "      <th>3</th>\n",
       "      <td>Dr</td>\n",
       "      <td>0.428571</td>\n",
       "    </tr>\n",
       "    <tr>\n",
       "      <th>11</th>\n",
       "      <td>Mr</td>\n",
       "      <td>0.156673</td>\n",
       "    </tr>\n",
       "    <tr>\n",
       "      <th>4</th>\n",
       "      <td>Jonkheer</td>\n",
       "      <td>0.000000</td>\n",
       "    </tr>\n",
       "    <tr>\n",
       "      <th>14</th>\n",
       "      <td>Rev</td>\n",
       "      <td>0.000000</td>\n",
       "    </tr>\n",
       "    <tr>\n",
       "      <th>2</th>\n",
       "      <td>Don</td>\n",
       "      <td>0.000000</td>\n",
       "    </tr>\n",
       "    <tr>\n",
       "      <th>0</th>\n",
       "      <td>Capt</td>\n",
       "      <td>0.000000</td>\n",
       "    </tr>\n",
       "  </tbody>\n",
       "</table>\n",
       "</div>"
      ],
      "text/plain": [
       "      Name_Title  Survived\n",
       "16  the Countess  1.000000\n",
       "9           Mlle  1.000000\n",
       "15           Sir  1.000000\n",
       "13            Ms  1.000000\n",
       "5           Lady  1.000000\n",
       "10           Mme  1.000000\n",
       "12           Mrs  0.792000\n",
       "8           Miss  0.697802\n",
       "7         Master  0.575000\n",
       "1            Col  0.500000\n",
       "6          Major  0.500000\n",
       "3             Dr  0.428571\n",
       "11            Mr  0.156673\n",
       "4       Jonkheer  0.000000\n",
       "14           Rev  0.000000\n",
       "2            Don  0.000000\n",
       "0           Capt  0.000000"
      ]
     },
     "execution_count": 125,
     "metadata": {},
     "output_type": "execute_result"
    }
   ],
   "source": [
    "df[['Name_Title', 'Survived']].groupby('Name_Title', as_index=False).mean().sort_values(by='Survived', ascending=False)"
   ]
  },
  {
   "cell_type": "code",
   "execution_count": 126,
   "id": "8ef4b5a0",
   "metadata": {},
   "outputs": [
    {
     "data": {
      "image/png": "[encoded data removed]",
      "text/plain": [
       "<Figure size 640x480 with 1 Axes>"
      ]
     },
     "metadata": {},
     "output_type": "display_data"
    }
   ],
   "source": [
    "sns.barplot(data=df[['Name_Title', 'Survived']].groupby('Name_Title', as_index=False).mean().sort_values(by='Name_Title', ascending=False),\n",
    "       y='Name_Title', x='Survived',\n",
    "           order = list(df[['Name_Title', 'Survived']].groupby('Name_Title', as_index=False).mean().sort_values(by='Survived', ascending=False)['Name_Title'].values))\n",
    "plt.title('Name_Title별 생존율')\n",
    "plt.show()"
   ]
  },
  {
   "cell_type": "markdown",
   "id": "24920a06",
   "metadata": {},
   "source": [
    "~~#### 3) 범주형 변수 인코딩(더미 변수)~~\n",
    "~~[해석]~~\n",
    "~~- 범주형 변수는 Embarked, Sex로 나타났기에 두 변수가 원핫인코딩의 대상임.~~"
   ]
  },
  {
   "cell_type": "code",
   "execution_count": 10,
   "id": "449d48f6",
   "metadata": {},
   "outputs": [
    {
     "data": {
      "text/plain": [
       "Index(['Embarked', 'Sex', 'Name_Title'], dtype='object')"
      ]
     },
     "execution_count": 10,
     "metadata": {},
     "output_type": "execute_result"
    }
   ],
   "source": [
    "# # 범주형 변수 확인\n",
    "# df.select_dtypes(include='object').columns"
   ]
  },
  {
   "cell_type": "code",
   "execution_count": 1,
   "id": "73f0a11c",
   "metadata": {},
   "outputs": [],
   "source": [
    "# # 더미 변수로 변환\n",
    "# df = pd.get_dummies(df, columns=['Embarked', 'Sex', 'Name_Title'], drop_first=True)\n",
    "# df.head()"
   ]
  },
  {
   "cell_type": "markdown",
   "id": "02a5b7af",
   "metadata": {},
   "source": [
    "### 4. 모델 구현"
   ]
  },
  {
   "cell_type": "code",
   "execution_count": 9,
   "id": "2f974c61",
   "metadata": {
    "scrolled": true
   },
   "outputs": [
    {
     "name": "stderr",
     "output_type": "stream",
     "text": [
      "Using TensorFlow backend.\n"
     ]
    },
    {
     "data": {
      "text/plain": [
       "Index(['Age', 'Embarked', 'Fare', 'Parch', 'Pclass', 'Sex', 'SibSp',\n",
       "       'Survived', 'Family', 'Name_Title'],\n",
       "      dtype='object')"
      ]
     },
     "execution_count": 9,
     "metadata": {},
     "output_type": "execute_result"
    }
   ],
   "source": [
    "from sklearn.model_selection import train_test_split, cross_val_score, GridSearchCV\n",
    "from sklearn.preprocessing import StandardScaler, OneHotEncoder\n",
    "from sklearn.linear_model import LogisticRegression\n",
    "from sklearn.svm import SVC\n",
    "from xgboost import XGBClassifier\n",
    "from sklearn.ensemble import RandomForestClassifier\n",
    "from sklearn.metrics import accuracy_score\n",
    "from imblearn.over_sampling import SMOTE\n",
    "from sklearn.pipeline import Pipeline\n",
    "from sklearn.compose import ColumnTransformer\n",
    "\n",
    "df.columns"
   ]
  },
  {
   "cell_type": "code",
   "execution_count": 10,
   "id": "6dc83acf",
   "metadata": {},
   "outputs": [
    {
     "name": "stdout",
     "output_type": "stream",
     "text": [
      "(623, 9)\n",
      "(268, 9)\n",
      "(623,)\n",
      "(268,)\n"
     ]
    }
   ],
   "source": [
    "# 데이터 분할\n",
    "X = df[df.columns.difference(['Survived'])]\n",
    "y = df.Survived\n",
    "\n",
    "X_train, X_test, y_train, y_test = train_test_split(X, y, test_size=.3, stratify=y, random_state=0)\n",
    "\n",
    "# # SMOTE를 이용한 오버 샘플링\n",
    "# smote = SMOTE()\n",
    "# X_train_sm, y_train_sm = smote.fit_resample(X_train, y_train)\n",
    "\n",
    "print(X_train.shape)\n",
    "print(X_test.shape)\n",
    "print(y_train.shape)\n",
    "print(y_test.shape)"
   ]
  },
  {
   "cell_type": "markdown",
   "id": "1566f8f8",
   "metadata": {},
   "source": [
    "**[참고서]**  \n",
    "**\"파이썬 라이브러리를 활용한 머신러닝(번역개정판)(p.283)\" - ColumnTransformer**"
   ]
  },
  {
   "cell_type": "code",
   "execution_count": 11,
   "id": "97405307",
   "metadata": {},
   "outputs": [],
   "source": [
    "# 연속형 변수\n",
    "numeric_features = ['Age', 'Fare', 'Family', 'Parch', 'Pclass', 'SibSp']\n",
    "\n",
    "# 범주형 변수\n",
    "categorical_features = df[df.columns.difference(['Age', 'Fare', 'Family', 'Parch', 'Pclass', 'SibSp', 'Survived'])].columns\n",
    "\n",
    "# ColumnTransformer를 사용하여 연속형 변수와 범주형 변수에 각각 변환기를 적용\n",
    "columm_transformer = ColumnTransformer([\n",
    "        ('num', StandardScaler(), numeric_features), # 스케일링\n",
    "        ('cat', OneHotEncoder(sparse=False, handle_unknown=\"ignore\"), categorical_features) # 원핫인코딩(더미변수)\n",
    "])"
   ]
  },
  {
   "cell_type": "markdown",
   "id": "c09e0214",
   "metadata": {},
   "source": [
    "**[참고서]**  \n",
    "**\"파이썬 머신러닝 완벽가이드 개정2판(p.111~115)\" - GridSearchCV**"
   ]
  },
  {
   "cell_type": "code",
   "execution_count": 66,
   "id": "61ec9f66",
   "metadata": {},
   "outputs": [
    {
     "data": {
      "text/html": [
       "<div>\n",
       "<style scoped>\n",
       "    .dataframe tbody tr th:only-of-type {\n",
       "        vertical-align: middle;\n",
       "    }\n",
       "\n",
       "    .dataframe tbody tr th {\n",
       "        vertical-align: top;\n",
       "    }\n",
       "\n",
       "    .dataframe thead th {\n",
       "        text-align: right;\n",
       "    }\n",
       "</style>\n",
       "<table border=\"1\" class=\"dataframe\">\n",
       "  <thead>\n",
       "    <tr style=\"text-align: right;\">\n",
       "      <th></th>\n",
       "      <th>mean_fit_time</th>\n",
       "      <th>std_fit_time</th>\n",
       "      <th>mean_score_time</th>\n",
       "      <th>std_score_time</th>\n",
       "      <th>param_log__C</th>\n",
       "      <th>param_log__penalty</th>\n",
       "      <th>params</th>\n",
       "      <th>split0_test_score</th>\n",
       "      <th>split1_test_score</th>\n",
       "      <th>split2_test_score</th>\n",
       "      <th>split3_test_score</th>\n",
       "      <th>split4_test_score</th>\n",
       "      <th>mean_test_score</th>\n",
       "      <th>std_test_score</th>\n",
       "      <th>rank_test_score</th>\n",
       "    </tr>\n",
       "  </thead>\n",
       "  <tbody>\n",
       "    <tr>\n",
       "      <th>6</th>\n",
       "      <td>0.015973</td>\n",
       "      <td>0.000906</td>\n",
       "      <td>0.007124</td>\n",
       "      <td>0.000808</td>\n",
       "      <td>1</td>\n",
       "      <td>l1</td>\n",
       "      <td>{'log__C': 1, 'log__penalty': 'l1'}</td>\n",
       "      <td>0.816</td>\n",
       "      <td>0.832</td>\n",
       "      <td>0.824</td>\n",
       "      <td>0.822581</td>\n",
       "      <td>0.830645</td>\n",
       "      <td>0.825045</td>\n",
       "      <td>0.005809</td>\n",
       "      <td>1</td>\n",
       "    </tr>\n",
       "    <tr>\n",
       "      <th>8</th>\n",
       "      <td>0.029927</td>\n",
       "      <td>0.005804</td>\n",
       "      <td>0.007643</td>\n",
       "      <td>0.003008</td>\n",
       "      <td>10</td>\n",
       "      <td>l1</td>\n",
       "      <td>{'log__C': 10, 'log__penalty': 'l1'}</td>\n",
       "      <td>0.808</td>\n",
       "      <td>0.832</td>\n",
       "      <td>0.832</td>\n",
       "      <td>0.822581</td>\n",
       "      <td>0.822581</td>\n",
       "      <td>0.823432</td>\n",
       "      <td>0.008791</td>\n",
       "      <td>2</td>\n",
       "    </tr>\n",
       "    <tr>\n",
       "      <th>9</th>\n",
       "      <td>0.020711</td>\n",
       "      <td>0.002620</td>\n",
       "      <td>0.009174</td>\n",
       "      <td>0.002922</td>\n",
       "      <td>10</td>\n",
       "      <td>l2</td>\n",
       "      <td>{'log__C': 10, 'log__penalty': 'l2'}</td>\n",
       "      <td>0.816</td>\n",
       "      <td>0.832</td>\n",
       "      <td>0.832</td>\n",
       "      <td>0.822581</td>\n",
       "      <td>0.814516</td>\n",
       "      <td>0.823419</td>\n",
       "      <td>0.007514</td>\n",
       "      <td>3</td>\n",
       "    </tr>\n",
       "    <tr>\n",
       "      <th>7</th>\n",
       "      <td>0.018624</td>\n",
       "      <td>0.006170</td>\n",
       "      <td>0.008576</td>\n",
       "      <td>0.002239</td>\n",
       "      <td>1</td>\n",
       "      <td>l2</td>\n",
       "      <td>{'log__C': 1, 'log__penalty': 'l2'}</td>\n",
       "      <td>0.824</td>\n",
       "      <td>0.832</td>\n",
       "      <td>0.832</td>\n",
       "      <td>0.814516</td>\n",
       "      <td>0.814516</td>\n",
       "      <td>0.823406</td>\n",
       "      <td>0.007825</td>\n",
       "      <td>4</td>\n",
       "    </tr>\n",
       "    <tr>\n",
       "      <th>5</th>\n",
       "      <td>0.012386</td>\n",
       "      <td>0.000471</td>\n",
       "      <td>0.006815</td>\n",
       "      <td>0.000778</td>\n",
       "      <td>0.1</td>\n",
       "      <td>l2</td>\n",
       "      <td>{'log__C': 0.1, 'log__penalty': 'l2'}</td>\n",
       "      <td>0.816</td>\n",
       "      <td>0.824</td>\n",
       "      <td>0.832</td>\n",
       "      <td>0.798387</td>\n",
       "      <td>0.806452</td>\n",
       "      <td>0.815368</td>\n",
       "      <td>0.011995</td>\n",
       "      <td>5</td>\n",
       "    </tr>\n",
       "  </tbody>\n",
       "</table>\n",
       "</div>"
      ],
      "text/plain": [
       "   mean_fit_time  std_fit_time  mean_score_time  std_score_time param_log__C  \\\n",
       "6       0.015973      0.000906         0.007124        0.000808            1   \n",
       "8       0.029927      0.005804         0.007643        0.003008           10   \n",
       "9       0.020711      0.002620         0.009174        0.002922           10   \n",
       "7       0.018624      0.006170         0.008576        0.002239            1   \n",
       "5       0.012386      0.000471         0.006815        0.000778          0.1   \n",
       "\n",
       "  param_log__penalty                                 params  \\\n",
       "6                 l1    {'log__C': 1, 'log__penalty': 'l1'}   \n",
       "8                 l1   {'log__C': 10, 'log__penalty': 'l1'}   \n",
       "9                 l2   {'log__C': 10, 'log__penalty': 'l2'}   \n",
       "7                 l2    {'log__C': 1, 'log__penalty': 'l2'}   \n",
       "5                 l2  {'log__C': 0.1, 'log__penalty': 'l2'}   \n",
       "\n",
       "   split0_test_score  split1_test_score  split2_test_score  split3_test_score  \\\n",
       "6              0.816              0.832              0.824           0.822581   \n",
       "8              0.808              0.832              0.832           0.822581   \n",
       "9              0.816              0.832              0.832           0.822581   \n",
       "7              0.824              0.832              0.832           0.814516   \n",
       "5              0.816              0.824              0.832           0.798387   \n",
       "\n",
       "   split4_test_score  mean_test_score  std_test_score  rank_test_score  \n",
       "6           0.830645         0.825045        0.005809                1  \n",
       "8           0.822581         0.823432        0.008791                2  \n",
       "9           0.814516         0.823419        0.007514                3  \n",
       "7           0.814516         0.823406        0.007825                4  \n",
       "5           0.806452         0.815368        0.011995                5  "
      ]
     },
     "metadata": {},
     "output_type": "display_data"
    },
    {
     "name": "stdout",
     "output_type": "stream",
     "text": [
      "최적의 성능을 보일 때의 파라미터(mean_test_score 기준):  {'log__C': 1, 'log__penalty': 'l1'}\n",
      "테스트 데이터의 정확도: 0.8208955223880597\n",
      "classification report:\n",
      "               precision    recall  f1-score   support\n",
      "\n",
      "           0       0.82      0.92      0.86       165\n",
      "           1       0.83      0.67      0.74       103\n",
      "\n",
      "    accuracy                           0.82       268\n",
      "   macro avg       0.82      0.79      0.80       268\n",
      "weighted avg       0.82      0.82      0.82       268\n",
      "\n"
     ]
    }
   ],
   "source": [
    "# LogisticRegression\n",
    "\n",
    "## 연속형 & 범주형 데이터 전처리와 모델 학습하는 파이프라인 만들기\n",
    "log = Pipeline([('preprocessor', columm_transformer),\n",
    "                ('log', LogisticRegression(random_state=2023, solver='liblinear'))])\n",
    "\n",
    "## GridSearchCV(교차 검증 + 최적 하이퍼 파라미터 튜닝)\n",
    "param_grid = {'log__C': [0.001, 0.01, 0.1, 1, 10],\n",
    "              'log__penalty': ['l1', 'l2']}\n",
    "\n",
    "grid = GridSearchCV(estimator=log, cv=5, param_grid = param_grid, scoring ='accuracy')\n",
    "grid.fit(X_train, y_train)\n",
    "\n",
    "scores_df = pd.DataFrame(grid.cv_results_) # GridSearchCV 결과를 데이터프레임으로 변환\n",
    "display(scores_df.sort_values(by='mean_test_score', ascending=False).head(5)) # 상위 5개 추출\n",
    "print('최적의 성능을 보일 때의 파라미터(mean_test_score 기준): ',grid.best_params_)\n",
    "\n",
    "## GridSearchCV의 refit으로 이미 학습된 estimator 반환\n",
    "estimator = grid.best_estimator_\n",
    "\n",
    "## GridSearchCV의 best_estimator_는 이미 최적 학습이 됐으므로 별도 학습이 필요 없음\n",
    "pred = estimator.predict(X_test)\n",
    "print('테스트 데이터의 정확도:', accuracy_score(y_test, pred))\n",
    "\n",
    "## classification report 출력\n",
    "from sklearn.metrics import classification_report\n",
    "print('classification report:\\n',classification_report(y_test, pred))"
   ]
  },
  {
   "cell_type": "code",
   "execution_count": 85,
   "id": "e6948536",
   "metadata": {},
   "outputs": [
    {
     "data": {
      "text/html": [
       "<div>\n",
       "<style scoped>\n",
       "    .dataframe tbody tr th:only-of-type {\n",
       "        vertical-align: middle;\n",
       "    }\n",
       "\n",
       "    .dataframe tbody tr th {\n",
       "        vertical-align: top;\n",
       "    }\n",
       "\n",
       "    .dataframe thead th {\n",
       "        text-align: right;\n",
       "    }\n",
       "</style>\n",
       "<table border=\"1\" class=\"dataframe\">\n",
       "  <thead>\n",
       "    <tr style=\"text-align: right;\">\n",
       "      <th></th>\n",
       "      <th>mean_fit_time</th>\n",
       "      <th>std_fit_time</th>\n",
       "      <th>mean_score_time</th>\n",
       "      <th>std_score_time</th>\n",
       "      <th>param_svc__C</th>\n",
       "      <th>param_svc__gamma</th>\n",
       "      <th>params</th>\n",
       "      <th>split0_test_score</th>\n",
       "      <th>split1_test_score</th>\n",
       "      <th>split2_test_score</th>\n",
       "      <th>split3_test_score</th>\n",
       "      <th>split4_test_score</th>\n",
       "      <th>mean_test_score</th>\n",
       "      <th>std_test_score</th>\n",
       "      <th>rank_test_score</th>\n",
       "    </tr>\n",
       "  </thead>\n",
       "  <tbody>\n",
       "    <tr>\n",
       "      <th>9</th>\n",
       "      <td>0.023759</td>\n",
       "      <td>0.000429</td>\n",
       "      <td>0.007806</td>\n",
       "      <td>0.000384</td>\n",
       "      <td>10</td>\n",
       "      <td>auto</td>\n",
       "      <td>{'svc__C': 10, 'svc__gamma': 'auto'}</td>\n",
       "      <td>0.800</td>\n",
       "      <td>0.856</td>\n",
       "      <td>0.824</td>\n",
       "      <td>0.822581</td>\n",
       "      <td>0.838710</td>\n",
       "      <td>0.828258</td>\n",
       "      <td>0.018589</td>\n",
       "      <td>1</td>\n",
       "    </tr>\n",
       "    <tr>\n",
       "      <th>7</th>\n",
       "      <td>0.022631</td>\n",
       "      <td>0.002220</td>\n",
       "      <td>0.008380</td>\n",
       "      <td>0.000486</td>\n",
       "      <td>1</td>\n",
       "      <td>auto</td>\n",
       "      <td>{'svc__C': 1, 'svc__gamma': 'auto'}</td>\n",
       "      <td>0.816</td>\n",
       "      <td>0.856</td>\n",
       "      <td>0.816</td>\n",
       "      <td>0.830645</td>\n",
       "      <td>0.822581</td>\n",
       "      <td>0.828245</td>\n",
       "      <td>0.014887</td>\n",
       "      <td>2</td>\n",
       "    </tr>\n",
       "    <tr>\n",
       "      <th>6</th>\n",
       "      <td>0.027879</td>\n",
       "      <td>0.006857</td>\n",
       "      <td>0.009779</td>\n",
       "      <td>0.002381</td>\n",
       "      <td>1</td>\n",
       "      <td>scale</td>\n",
       "      <td>{'svc__C': 1, 'svc__gamma': 'scale'}</td>\n",
       "      <td>0.808</td>\n",
       "      <td>0.840</td>\n",
       "      <td>0.824</td>\n",
       "      <td>0.822581</td>\n",
       "      <td>0.830645</td>\n",
       "      <td>0.825045</td>\n",
       "      <td>0.010514</td>\n",
       "      <td>3</td>\n",
       "    </tr>\n",
       "    <tr>\n",
       "      <th>4</th>\n",
       "      <td>0.026719</td>\n",
       "      <td>0.002478</td>\n",
       "      <td>0.010858</td>\n",
       "      <td>0.001860</td>\n",
       "      <td>0.1</td>\n",
       "      <td>scale</td>\n",
       "      <td>{'svc__C': 0.1, 'svc__gamma': 'scale'}</td>\n",
       "      <td>0.800</td>\n",
       "      <td>0.824</td>\n",
       "      <td>0.832</td>\n",
       "      <td>0.814516</td>\n",
       "      <td>0.822581</td>\n",
       "      <td>0.818619</td>\n",
       "      <td>0.010837</td>\n",
       "      <td>4</td>\n",
       "    </tr>\n",
       "    <tr>\n",
       "      <th>5</th>\n",
       "      <td>0.039940</td>\n",
       "      <td>0.008503</td>\n",
       "      <td>0.018096</td>\n",
       "      <td>0.008432</td>\n",
       "      <td>0.1</td>\n",
       "      <td>auto</td>\n",
       "      <td>{'svc__C': 0.1, 'svc__gamma': 'auto'}</td>\n",
       "      <td>0.784</td>\n",
       "      <td>0.840</td>\n",
       "      <td>0.824</td>\n",
       "      <td>0.806452</td>\n",
       "      <td>0.790323</td>\n",
       "      <td>0.808955</td>\n",
       "      <td>0.020815</td>\n",
       "      <td>5</td>\n",
       "    </tr>\n",
       "  </tbody>\n",
       "</table>\n",
       "</div>"
      ],
      "text/plain": [
       "   mean_fit_time  std_fit_time  mean_score_time  std_score_time param_svc__C  \\\n",
       "9       0.023759      0.000429         0.007806        0.000384           10   \n",
       "7       0.022631      0.002220         0.008380        0.000486            1   \n",
       "6       0.027879      0.006857         0.009779        0.002381            1   \n",
       "4       0.026719      0.002478         0.010858        0.001860          0.1   \n",
       "5       0.039940      0.008503         0.018096        0.008432          0.1   \n",
       "\n",
       "  param_svc__gamma                                  params  split0_test_score  \\\n",
       "9             auto    {'svc__C': 10, 'svc__gamma': 'auto'}              0.800   \n",
       "7             auto     {'svc__C': 1, 'svc__gamma': 'auto'}              0.816   \n",
       "6            scale    {'svc__C': 1, 'svc__gamma': 'scale'}              0.808   \n",
       "4            scale  {'svc__C': 0.1, 'svc__gamma': 'scale'}              0.800   \n",
       "5             auto   {'svc__C': 0.1, 'svc__gamma': 'auto'}              0.784   \n",
       "\n",
       "   split1_test_score  split2_test_score  split3_test_score  split4_test_score  \\\n",
       "9              0.856              0.824           0.822581           0.838710   \n",
       "7              0.856              0.816           0.830645           0.822581   \n",
       "6              0.840              0.824           0.822581           0.830645   \n",
       "4              0.824              0.832           0.814516           0.822581   \n",
       "5              0.840              0.824           0.806452           0.790323   \n",
       "\n",
       "   mean_test_score  std_test_score  rank_test_score  \n",
       "9         0.828258        0.018589                1  \n",
       "7         0.828245        0.014887                2  \n",
       "6         0.825045        0.010514                3  \n",
       "4         0.818619        0.010837                4  \n",
       "5         0.808955        0.020815                5  "
      ]
     },
     "metadata": {},
     "output_type": "display_data"
    },
    {
     "name": "stdout",
     "output_type": "stream",
     "text": [
      "최적의 성능을 보일 때의 파라미터(mean_test_score 기준):  {'svc__C': 10, 'svc__gamma': 'auto'}\n",
      "테스트 데이터의 정확도: 0.835820895522388\n",
      "classification report:\n",
      "               precision    recall  f1-score   support\n",
      "\n",
      "           0       0.83      0.92      0.87       165\n",
      "           1       0.84      0.71      0.77       103\n",
      "\n",
      "    accuracy                           0.84       268\n",
      "   macro avg       0.84      0.81      0.82       268\n",
      "weighted avg       0.84      0.84      0.83       268\n",
      "\n"
     ]
    }
   ],
   "source": [
    "# SVC\n",
    "\n",
    "## 연속형 & 범주형 데이터 전처리와 모델 학습하는 파이프라인 만들기\n",
    "svc = Pipeline([('preprocessor', columm_transformer),\n",
    "                ('svc', SVC(random_state=2023))])\n",
    "\n",
    "## GridSearchCV(교차 검증 + 최적 하이퍼 파라미터 튜닝)\n",
    "param_grid = {'svc__C': [0.001, 0.01, 0.1, 1, 10],\n",
    "              'svc__gamma': ['scale', 'auto']}\n",
    "\n",
    "grid = GridSearchCV(estimator=svc, cv=5, scoring='accuracy', param_grid=param_grid)\n",
    "grid.fit(X_train, y_train)\n",
    "\n",
    "scores_df = pd.DataFrame(grid.cv_results_) # GridSearchCV 결과를 데이터프레임으로 변환\n",
    "display(scores_df.sort_values('mean_test_score', ascending=False).head())\n",
    "print('최적의 성능을 보일 때의 파라미터(mean_test_score 기준): ',grid.best_params_)\n",
    "\n",
    "## GridSearchCV의 refit으로 이미 학습된 estimator 반환\n",
    "estimator = grid.best_estimator_\n",
    "\n",
    "## GridSearchCV의 best_estimator_는 이미 최적 학습이 됐으므로 별도 학습이 필요 없음\n",
    "pred = estimator.predict(X_test)\n",
    "print('테스트 데이터의 정확도:', accuracy_score(y_test, pred))\n",
    "\n",
    "## classification report 출력\n",
    "from sklearn.metrics import classification_report\n",
    "print('classification report:\\n',classification_report(y_test, pred))"
   ]
  },
  {
   "cell_type": "code",
   "execution_count": 12,
   "id": "7773b973",
   "metadata": {},
   "outputs": [
    {
     "data": {
      "text/html": [
       "<div>\n",
       "<style scoped>\n",
       "    .dataframe tbody tr th:only-of-type {\n",
       "        vertical-align: middle;\n",
       "    }\n",
       "\n",
       "    .dataframe tbody tr th {\n",
       "        vertical-align: top;\n",
       "    }\n",
       "\n",
       "    .dataframe thead th {\n",
       "        text-align: right;\n",
       "    }\n",
       "</style>\n",
       "<table border=\"1\" class=\"dataframe\">\n",
       "  <thead>\n",
       "    <tr style=\"text-align: right;\">\n",
       "      <th></th>\n",
       "      <th>mean_fit_time</th>\n",
       "      <th>std_fit_time</th>\n",
       "      <th>mean_score_time</th>\n",
       "      <th>std_score_time</th>\n",
       "      <th>param_rf__max_depth</th>\n",
       "      <th>param_rf__min_samples_split</th>\n",
       "      <th>param_rf__n_estimators</th>\n",
       "      <th>params</th>\n",
       "      <th>split0_test_score</th>\n",
       "      <th>split1_test_score</th>\n",
       "      <th>split2_test_score</th>\n",
       "      <th>split3_test_score</th>\n",
       "      <th>split4_test_score</th>\n",
       "      <th>mean_test_score</th>\n",
       "      <th>std_test_score</th>\n",
       "      <th>rank_test_score</th>\n",
       "    </tr>\n",
       "  </thead>\n",
       "  <tbody>\n",
       "    <tr>\n",
       "      <th>17</th>\n",
       "      <td>1.388480</td>\n",
       "      <td>0.595928</td>\n",
       "      <td>0.183616</td>\n",
       "      <td>0.199593</td>\n",
       "      <td>5</td>\n",
       "      <td>5</td>\n",
       "      <td>300</td>\n",
       "      <td>{'rf__max_depth': 5, 'rf__min_samples_split': ...</td>\n",
       "      <td>0.816</td>\n",
       "      <td>0.848</td>\n",
       "      <td>0.824</td>\n",
       "      <td>0.814516</td>\n",
       "      <td>0.830645</td>\n",
       "      <td>0.826632</td>\n",
       "      <td>0.012161</td>\n",
       "      <td>1</td>\n",
       "    </tr>\n",
       "    <tr>\n",
       "      <th>13</th>\n",
       "      <td>0.424659</td>\n",
       "      <td>0.029863</td>\n",
       "      <td>0.031714</td>\n",
       "      <td>0.003700</td>\n",
       "      <td>5</td>\n",
       "      <td>4</td>\n",
       "      <td>200</td>\n",
       "      <td>{'rf__max_depth': 5, 'rf__min_samples_split': ...</td>\n",
       "      <td>0.816</td>\n",
       "      <td>0.848</td>\n",
       "      <td>0.816</td>\n",
       "      <td>0.814516</td>\n",
       "      <td>0.830645</td>\n",
       "      <td>0.825032</td>\n",
       "      <td>0.012906</td>\n",
       "      <td>2</td>\n",
       "    </tr>\n",
       "    <tr>\n",
       "      <th>21</th>\n",
       "      <td>0.225934</td>\n",
       "      <td>0.003776</td>\n",
       "      <td>0.019116</td>\n",
       "      <td>0.000404</td>\n",
       "      <td>7</td>\n",
       "      <td>4</td>\n",
       "      <td>100</td>\n",
       "      <td>{'rf__max_depth': 7, 'rf__min_samples_split': ...</td>\n",
       "      <td>0.824</td>\n",
       "      <td>0.840</td>\n",
       "      <td>0.816</td>\n",
       "      <td>0.798387</td>\n",
       "      <td>0.846774</td>\n",
       "      <td>0.825032</td>\n",
       "      <td>0.017259</td>\n",
       "      <td>2</td>\n",
       "    </tr>\n",
       "    <tr>\n",
       "      <th>15</th>\n",
       "      <td>0.199068</td>\n",
       "      <td>0.007842</td>\n",
       "      <td>0.018152</td>\n",
       "      <td>0.000746</td>\n",
       "      <td>5</td>\n",
       "      <td>5</td>\n",
       "      <td>100</td>\n",
       "      <td>{'rf__max_depth': 5, 'rf__min_samples_split': ...</td>\n",
       "      <td>0.816</td>\n",
       "      <td>0.848</td>\n",
       "      <td>0.816</td>\n",
       "      <td>0.814516</td>\n",
       "      <td>0.830645</td>\n",
       "      <td>0.825032</td>\n",
       "      <td>0.012906</td>\n",
       "      <td>2</td>\n",
       "    </tr>\n",
       "    <tr>\n",
       "      <th>14</th>\n",
       "      <td>0.637675</td>\n",
       "      <td>0.052118</td>\n",
       "      <td>0.046277</td>\n",
       "      <td>0.003920</td>\n",
       "      <td>5</td>\n",
       "      <td>4</td>\n",
       "      <td>300</td>\n",
       "      <td>{'rf__max_depth': 5, 'rf__min_samples_split': ...</td>\n",
       "      <td>0.816</td>\n",
       "      <td>0.848</td>\n",
       "      <td>0.816</td>\n",
       "      <td>0.814516</td>\n",
       "      <td>0.830645</td>\n",
       "      <td>0.825032</td>\n",
       "      <td>0.012906</td>\n",
       "      <td>2</td>\n",
       "    </tr>\n",
       "  </tbody>\n",
       "</table>\n",
       "</div>"
      ],
      "text/plain": [
       "    mean_fit_time  std_fit_time  mean_score_time  std_score_time  \\\n",
       "17       1.388480      0.595928         0.183616        0.199593   \n",
       "13       0.424659      0.029863         0.031714        0.003700   \n",
       "21       0.225934      0.003776         0.019116        0.000404   \n",
       "15       0.199068      0.007842         0.018152        0.000746   \n",
       "14       0.637675      0.052118         0.046277        0.003920   \n",
       "\n",
       "   param_rf__max_depth param_rf__min_samples_split param_rf__n_estimators  \\\n",
       "17                   5                           5                    300   \n",
       "13                   5                           4                    200   \n",
       "21                   7                           4                    100   \n",
       "15                   5                           5                    100   \n",
       "14                   5                           4                    300   \n",
       "\n",
       "                                               params  split0_test_score  \\\n",
       "17  {'rf__max_depth': 5, 'rf__min_samples_split': ...              0.816   \n",
       "13  {'rf__max_depth': 5, 'rf__min_samples_split': ...              0.816   \n",
       "21  {'rf__max_depth': 7, 'rf__min_samples_split': ...              0.824   \n",
       "15  {'rf__max_depth': 5, 'rf__min_samples_split': ...              0.816   \n",
       "14  {'rf__max_depth': 5, 'rf__min_samples_split': ...              0.816   \n",
       "\n",
       "    split1_test_score  split2_test_score  split3_test_score  \\\n",
       "17              0.848              0.824           0.814516   \n",
       "13              0.848              0.816           0.814516   \n",
       "21              0.840              0.816           0.798387   \n",
       "15              0.848              0.816           0.814516   \n",
       "14              0.848              0.816           0.814516   \n",
       "\n",
       "    split4_test_score  mean_test_score  std_test_score  rank_test_score  \n",
       "17           0.830645         0.826632        0.012161                1  \n",
       "13           0.830645         0.825032        0.012906                2  \n",
       "21           0.846774         0.825032        0.017259                2  \n",
       "15           0.830645         0.825032        0.012906                2  \n",
       "14           0.830645         0.825032        0.012906                2  "
      ]
     },
     "metadata": {},
     "output_type": "display_data"
    },
    {
     "name": "stdout",
     "output_type": "stream",
     "text": [
      "최적의 성능을 보일 때의 파라미터(mean_test_score 기준):  {'rf__max_depth': 5, 'rf__min_samples_split': 5, 'rf__n_estimators': 300}\n",
      "테스트 데이터의 정확도: 0.8432835820895522\n",
      "classification report:\n",
      "               precision    recall  f1-score   support\n",
      "\n",
      "           0       0.84      0.92      0.88       165\n",
      "           1       0.85      0.72      0.78       103\n",
      "\n",
      "    accuracy                           0.84       268\n",
      "   macro avg       0.85      0.82      0.83       268\n",
      "weighted avg       0.84      0.84      0.84       268\n",
      "\n"
     ]
    }
   ],
   "source": [
    "# RandomForestClassifier\n",
    "\n",
    "## 연속형 & 범주형 데이터 전처리와 모델 학습하는 파이프라인 만들기\n",
    "rf = Pipeline([('preprocessor', columm_transformer),\n",
    "                ('rf', RandomForestClassifier(random_state=2023))])\n",
    "\n",
    "## GridSearchCV(교차 검증 + 최적 하이퍼 파라미터 튜닝)\n",
    "param_grid = {'rf__max_depth': [3, 5, 7],\n",
    "              'rf__min_samples_split': [3, 4, 5],\n",
    "              'rf__n_estimators': [100, 200, 300]}\n",
    "\n",
    "grid = GridSearchCV(estimator=rf, cv=5, scoring='accuracy', param_grid=param_grid)\n",
    "grid.fit(X_train, y_train)\n",
    "\n",
    "scores_df = pd.DataFrame(grid.cv_results_) # GridSearchCV 결과를 데이터프레임으로 변환\n",
    "display(scores_df.sort_values('mean_test_score', ascending=False).head())\n",
    "print('최적의 성능을 보일 때의 파라미터(mean_test_score 기준): ',grid.best_params_)\n",
    "\n",
    "## GridSearchCV의 refit으로 이미 학습된 estimator 반환\n",
    "estimator = grid.best_estimator_\n",
    "\n",
    "## GridSearchCV의 best_estimator_는 이미 최적 학습이 됐으므로 별도 학습이 필요 없음\n",
    "pred = estimator.predict(X_test)\n",
    "print('테스트 데이터의 정확도:', accuracy_score(y_test, pred))\n",
    "\n",
    "## classification report 출력\n",
    "from sklearn.metrics import classification_report\n",
    "print('classification report:\\n',classification_report(y_test, pred))"
   ]
  },
  {
   "cell_type": "markdown",
   "id": "7fea0e23",
   "metadata": {},
   "source": [
    "### 5. test 데이터 전처리"
   ]
  },
  {
   "cell_type": "code",
   "execution_count": 13,
   "id": "040536a5",
   "metadata": {},
   "outputs": [
    {
     "data": {
      "text/html": [
       "<div>\n",
       "<style scoped>\n",
       "    .dataframe tbody tr th:only-of-type {\n",
       "        vertical-align: middle;\n",
       "    }\n",
       "\n",
       "    .dataframe tbody tr th {\n",
       "        vertical-align: top;\n",
       "    }\n",
       "\n",
       "    .dataframe thead th {\n",
       "        text-align: right;\n",
       "    }\n",
       "</style>\n",
       "<table border=\"1\" class=\"dataframe\">\n",
       "  <thead>\n",
       "    <tr style=\"text-align: right;\">\n",
       "      <th></th>\n",
       "      <th>Pclass</th>\n",
       "      <th>Name</th>\n",
       "      <th>Sex</th>\n",
       "      <th>Age</th>\n",
       "      <th>SibSp</th>\n",
       "      <th>Parch</th>\n",
       "      <th>Fare</th>\n",
       "      <th>Embarked</th>\n",
       "    </tr>\n",
       "  </thead>\n",
       "  <tbody>\n",
       "    <tr>\n",
       "      <th>0</th>\n",
       "      <td>3</td>\n",
       "      <td>Kelly, Mr. James</td>\n",
       "      <td>male</td>\n",
       "      <td>34.5</td>\n",
       "      <td>0</td>\n",
       "      <td>0</td>\n",
       "      <td>7.8292</td>\n",
       "      <td>Q</td>\n",
       "    </tr>\n",
       "    <tr>\n",
       "      <th>1</th>\n",
       "      <td>3</td>\n",
       "      <td>Wilkes, Mrs. James (Ellen Needs)</td>\n",
       "      <td>female</td>\n",
       "      <td>47.0</td>\n",
       "      <td>1</td>\n",
       "      <td>0</td>\n",
       "      <td>7.0000</td>\n",
       "      <td>S</td>\n",
       "    </tr>\n",
       "    <tr>\n",
       "      <th>2</th>\n",
       "      <td>2</td>\n",
       "      <td>Myles, Mr. Thomas Francis</td>\n",
       "      <td>male</td>\n",
       "      <td>62.0</td>\n",
       "      <td>0</td>\n",
       "      <td>0</td>\n",
       "      <td>9.6875</td>\n",
       "      <td>Q</td>\n",
       "    </tr>\n",
       "    <tr>\n",
       "      <th>3</th>\n",
       "      <td>3</td>\n",
       "      <td>Wirz, Mr. Albert</td>\n",
       "      <td>male</td>\n",
       "      <td>27.0</td>\n",
       "      <td>0</td>\n",
       "      <td>0</td>\n",
       "      <td>8.6625</td>\n",
       "      <td>S</td>\n",
       "    </tr>\n",
       "    <tr>\n",
       "      <th>4</th>\n",
       "      <td>3</td>\n",
       "      <td>Hirvonen, Mrs. Alexander (Helga E Lindqvist)</td>\n",
       "      <td>female</td>\n",
       "      <td>22.0</td>\n",
       "      <td>1</td>\n",
       "      <td>1</td>\n",
       "      <td>12.2875</td>\n",
       "      <td>S</td>\n",
       "    </tr>\n",
       "  </tbody>\n",
       "</table>\n",
       "</div>"
      ],
      "text/plain": [
       "   Pclass                                          Name     Sex   Age  SibSp  \\\n",
       "0       3                              Kelly, Mr. James    male  34.5      0   \n",
       "1       3              Wilkes, Mrs. James (Ellen Needs)  female  47.0      1   \n",
       "2       2                     Myles, Mr. Thomas Francis    male  62.0      0   \n",
       "3       3                              Wirz, Mr. Albert    male  27.0      0   \n",
       "4       3  Hirvonen, Mrs. Alexander (Helga E Lindqvist)  female  22.0      1   \n",
       "\n",
       "   Parch     Fare Embarked  \n",
       "0      0   7.8292        Q  \n",
       "1      0   7.0000        S  \n",
       "2      0   9.6875        Q  \n",
       "3      0   8.6625        S  \n",
       "4      1  12.2875        S  "
      ]
     },
     "execution_count": 13,
     "metadata": {},
     "output_type": "execute_result"
    }
   ],
   "source": [
    "# test 데이터 불러오기\n",
    "test = pd.read_csv('C:/Users/user/Desktop/Python/adp/kaggle/data/titanic/test.csv')\n",
    "\n",
    "# 필요없는 컬럼 제거\n",
    "test = test.drop(columns=['PassengerId', 'Ticket', 'Cabin']) \n",
    "test.head()"
   ]
  },
  {
   "cell_type": "code",
   "execution_count": 14,
   "id": "f2f2c286",
   "metadata": {},
   "outputs": [
    {
     "name": "stdout",
     "output_type": "stream",
     "text": [
      "<class 'pandas.core.frame.DataFrame'>\n",
      "RangeIndex: 418 entries, 0 to 417\n",
      "Data columns (total 8 columns):\n",
      " #   Column    Non-Null Count  Dtype  \n",
      "---  ------    --------------  -----  \n",
      " 0   Pclass    418 non-null    int64  \n",
      " 1   Name      418 non-null    object \n",
      " 2   Sex       418 non-null    object \n",
      " 3   Age       332 non-null    float64\n",
      " 4   SibSp     418 non-null    int64  \n",
      " 5   Parch     418 non-null    int64  \n",
      " 6   Fare      417 non-null    float64\n",
      " 7   Embarked  418 non-null    object \n",
      "dtypes: float64(2), int64(3), object(3)\n",
      "memory usage: 26.2+ KB\n"
     ]
    }
   ],
   "source": [
    "test.info()"
   ]
  },
  {
   "cell_type": "code",
   "execution_count": 54,
   "id": "def89b66",
   "metadata": {},
   "outputs": [
    {
     "data": {
      "text/plain": [
       "Pclass       0\n",
       "Name         0\n",
       "Sex          0\n",
       "Age         86\n",
       "SibSp        0\n",
       "Parch        0\n",
       "Fare         1\n",
       "Embarked     0\n",
       "dtype: int64"
      ]
     },
     "execution_count": 54,
     "metadata": {},
     "output_type": "execute_result"
    }
   ],
   "source": [
    "test.isna().sum() # 결측값 확인"
   ]
  },
  {
   "cell_type": "code",
   "execution_count": 15,
   "id": "ebaf776f",
   "metadata": {},
   "outputs": [
    {
     "data": {
      "text/plain": [
       "Pclass      0\n",
       "Name        0\n",
       "Sex         0\n",
       "Age         0\n",
       "SibSp       0\n",
       "Parch       0\n",
       "Fare        0\n",
       "Embarked    0\n",
       "dtype: int64"
      ]
     },
     "execution_count": 15,
     "metadata": {},
     "output_type": "execute_result"
    }
   ],
   "source": [
    "# 결측치 대체\n",
    "from sklearn.impute import KNNImputer\n",
    "\n",
    "# 결측치가 있는 수치형 데이터만 추출\n",
    "KNN_data = test[['Age', 'Fare']]\n",
    "\n",
    "# 모델링\n",
    "imputer = KNNImputer()\n",
    "df_filled = imputer.fit_transform(KNN_data)\n",
    "df_filled = pd.DataFrame(df_filled, columns = KNN_data.columns)\n",
    "test[KNN_data.columns] = df_filled\n",
    "\n",
    "# 결측치 확인\n",
    "test.isna().sum()"
   ]
  },
  {
   "cell_type": "code",
   "execution_count": 16,
   "id": "617ebb95",
   "metadata": {},
   "outputs": [
    {
     "data": {
      "text/html": [
       "<div>\n",
       "<style scoped>\n",
       "    .dataframe tbody tr th:only-of-type {\n",
       "        vertical-align: middle;\n",
       "    }\n",
       "\n",
       "    .dataframe tbody tr th {\n",
       "        vertical-align: top;\n",
       "    }\n",
       "\n",
       "    .dataframe thead th {\n",
       "        text-align: right;\n",
       "    }\n",
       "</style>\n",
       "<table border=\"1\" class=\"dataframe\">\n",
       "  <thead>\n",
       "    <tr style=\"text-align: right;\">\n",
       "      <th></th>\n",
       "      <th>Pclass</th>\n",
       "      <th>Sex</th>\n",
       "      <th>Age</th>\n",
       "      <th>SibSp</th>\n",
       "      <th>Parch</th>\n",
       "      <th>Fare</th>\n",
       "      <th>Embarked</th>\n",
       "      <th>Name_Title</th>\n",
       "      <th>Family</th>\n",
       "    </tr>\n",
       "  </thead>\n",
       "  <tbody>\n",
       "    <tr>\n",
       "      <th>0</th>\n",
       "      <td>3</td>\n",
       "      <td>male</td>\n",
       "      <td>34.5</td>\n",
       "      <td>0</td>\n",
       "      <td>0</td>\n",
       "      <td>7.8292</td>\n",
       "      <td>Q</td>\n",
       "      <td>Mr</td>\n",
       "      <td>1</td>\n",
       "    </tr>\n",
       "    <tr>\n",
       "      <th>1</th>\n",
       "      <td>3</td>\n",
       "      <td>female</td>\n",
       "      <td>47.0</td>\n",
       "      <td>1</td>\n",
       "      <td>0</td>\n",
       "      <td>7.0000</td>\n",
       "      <td>S</td>\n",
       "      <td>Mrs</td>\n",
       "      <td>2</td>\n",
       "    </tr>\n",
       "    <tr>\n",
       "      <th>2</th>\n",
       "      <td>2</td>\n",
       "      <td>male</td>\n",
       "      <td>62.0</td>\n",
       "      <td>0</td>\n",
       "      <td>0</td>\n",
       "      <td>9.6875</td>\n",
       "      <td>Q</td>\n",
       "      <td>Mr</td>\n",
       "      <td>1</td>\n",
       "    </tr>\n",
       "    <tr>\n",
       "      <th>3</th>\n",
       "      <td>3</td>\n",
       "      <td>male</td>\n",
       "      <td>27.0</td>\n",
       "      <td>0</td>\n",
       "      <td>0</td>\n",
       "      <td>8.6625</td>\n",
       "      <td>S</td>\n",
       "      <td>Mr</td>\n",
       "      <td>1</td>\n",
       "    </tr>\n",
       "    <tr>\n",
       "      <th>4</th>\n",
       "      <td>3</td>\n",
       "      <td>female</td>\n",
       "      <td>22.0</td>\n",
       "      <td>1</td>\n",
       "      <td>1</td>\n",
       "      <td>12.2875</td>\n",
       "      <td>S</td>\n",
       "      <td>Mrs</td>\n",
       "      <td>3</td>\n",
       "    </tr>\n",
       "  </tbody>\n",
       "</table>\n",
       "</div>"
      ],
      "text/plain": [
       "   Pclass     Sex   Age  SibSp  Parch     Fare Embarked Name_Title  Family\n",
       "0       3    male  34.5      0      0   7.8292        Q         Mr       1\n",
       "1       3  female  47.0      1      0   7.0000        S        Mrs       2\n",
       "2       2    male  62.0      0      0   9.6875        Q         Mr       1\n",
       "3       3    male  27.0      0      0   8.6625        S         Mr       1\n",
       "4       3  female  22.0      1      1  12.2875        S        Mrs       3"
      ]
     },
     "execution_count": 16,
     "metadata": {},
     "output_type": "execute_result"
    }
   ],
   "source": [
    "# Name Title 추출\n",
    "name_title = []\n",
    "for i in range(418):\n",
    "    name_title.append(test.loc[i, 'Name'].split(', ')[1].split('. ')[0])\n",
    "    \n",
    "# Name_Title 변수 생성\n",
    "test['Name_Title'] = name_title\n",
    "\n",
    "# Family 변수 생성\n",
    "test['Family'] = 1+ test['SibSp'] + test['Parch']\n",
    "test.drop(columns=['Name'], inplace=True)\n",
    "\n",
    "# 확인\n",
    "test.head()"
   ]
  },
  {
   "cell_type": "markdown",
   "id": "5955bb2c",
   "metadata": {},
   "source": [
    "### 6. 실제 값 예측"
   ]
  },
  {
   "cell_type": "code",
   "execution_count": 17,
   "id": "96ccdc32",
   "metadata": {},
   "outputs": [
    {
     "data": {
      "text/html": [
       "<div>\n",
       "<style scoped>\n",
       "    .dataframe tbody tr th:only-of-type {\n",
       "        vertical-align: middle;\n",
       "    }\n",
       "\n",
       "    .dataframe tbody tr th {\n",
       "        vertical-align: top;\n",
       "    }\n",
       "\n",
       "    .dataframe thead th {\n",
       "        text-align: right;\n",
       "    }\n",
       "</style>\n",
       "<table border=\"1\" class=\"dataframe\">\n",
       "  <thead>\n",
       "    <tr style=\"text-align: right;\">\n",
       "      <th></th>\n",
       "      <th>PassengerId</th>\n",
       "      <th>Survived</th>\n",
       "    </tr>\n",
       "  </thead>\n",
       "  <tbody>\n",
       "    <tr>\n",
       "      <th>0</th>\n",
       "      <td>892</td>\n",
       "      <td>0</td>\n",
       "    </tr>\n",
       "    <tr>\n",
       "      <th>1</th>\n",
       "      <td>893</td>\n",
       "      <td>1</td>\n",
       "    </tr>\n",
       "    <tr>\n",
       "      <th>2</th>\n",
       "      <td>894</td>\n",
       "      <td>0</td>\n",
       "    </tr>\n",
       "    <tr>\n",
       "      <th>3</th>\n",
       "      <td>895</td>\n",
       "      <td>0</td>\n",
       "    </tr>\n",
       "    <tr>\n",
       "      <th>4</th>\n",
       "      <td>896</td>\n",
       "      <td>1</td>\n",
       "    </tr>\n",
       "  </tbody>\n",
       "</table>\n",
       "</div>"
      ],
      "text/plain": [
       "   PassengerId  Survived\n",
       "0          892         0\n",
       "1          893         1\n",
       "2          894         0\n",
       "3          895         0\n",
       "4          896         1"
      ]
     },
     "metadata": {},
     "output_type": "display_data"
    },
    {
     "name": "stdout",
     "output_type": "stream",
     "text": [
      "(418, 2)\n"
     ]
    }
   ],
   "source": [
    "# submission data 불러오기\n",
    "submission = pd.read_csv('C:/Users/user/Desktop/Python/adp/kaggle/data/titanic/gender_submission.csv')\n",
    "display(submission.head())\n",
    "print(submission.shape)"
   ]
  },
  {
   "cell_type": "code",
   "execution_count": 18,
   "id": "35daad98",
   "metadata": {},
   "outputs": [],
   "source": [
    "# 앞서 구축한 모델로 y_test 값 예측\n",
    "pred = estimator.predict(test)\n",
    "\n",
    "# pred 값 대입\n",
    "submission['Survived'] = pred\n",
    "\n",
    "# 확인\n",
    "submission.head()\n",
    "\n",
    "# 데이터 저장\n",
    "submission.to_csv('C:/Users/user/Desktop/Python/adp/kaggle/data/titanic/result1.csv', index=False)"
   ]
  },
  {
   "cell_type": "markdown",
   "id": "42377b62",
   "metadata": {},
   "source": [
    "---\n",
    "**[파이썬 한권으로 끝내기] 제3회 기출동형 모의고사 문제 활용**\n",
    "\n",
    "### 1: 데이터 불균형을 시각화하여 불균형 판단 근거를 작성하시오."
   ]
  },
  {
   "cell_type": "code",
   "execution_count": 22,
   "id": "d54eb7da",
   "metadata": {},
   "outputs": [
    {
     "data": {
      "text/html": [
       "<div>\n",
       "<style scoped>\n",
       "    .dataframe tbody tr th:only-of-type {\n",
       "        vertical-align: middle;\n",
       "    }\n",
       "\n",
       "    .dataframe tbody tr th {\n",
       "        vertical-align: top;\n",
       "    }\n",
       "\n",
       "    .dataframe thead th {\n",
       "        text-align: right;\n",
       "    }\n",
       "</style>\n",
       "<table border=\"1\" class=\"dataframe\">\n",
       "  <thead>\n",
       "    <tr style=\"text-align: right;\">\n",
       "      <th></th>\n",
       "      <th>Age</th>\n",
       "      <th>Fare</th>\n",
       "      <th>Parch</th>\n",
       "      <th>Pclass</th>\n",
       "      <th>SibSp</th>\n",
       "      <th>Survived</th>\n",
       "      <th>Family</th>\n",
       "      <th>Embarked_Q</th>\n",
       "      <th>Embarked_S</th>\n",
       "      <th>Sex_male</th>\n",
       "      <th>...</th>\n",
       "      <th>Name_Title_Master</th>\n",
       "      <th>Name_Title_Miss</th>\n",
       "      <th>Name_Title_Mlle</th>\n",
       "      <th>Name_Title_Mme</th>\n",
       "      <th>Name_Title_Mr</th>\n",
       "      <th>Name_Title_Mrs</th>\n",
       "      <th>Name_Title_Ms</th>\n",
       "      <th>Name_Title_Rev</th>\n",
       "      <th>Name_Title_Sir</th>\n",
       "      <th>Name_Title_the Countess</th>\n",
       "    </tr>\n",
       "  </thead>\n",
       "  <tbody>\n",
       "    <tr>\n",
       "      <th>0</th>\n",
       "      <td>22.0</td>\n",
       "      <td>7.2500</td>\n",
       "      <td>0</td>\n",
       "      <td>3</td>\n",
       "      <td>1</td>\n",
       "      <td>0</td>\n",
       "      <td>2</td>\n",
       "      <td>0</td>\n",
       "      <td>1</td>\n",
       "      <td>1</td>\n",
       "      <td>...</td>\n",
       "      <td>0</td>\n",
       "      <td>0</td>\n",
       "      <td>0</td>\n",
       "      <td>0</td>\n",
       "      <td>1</td>\n",
       "      <td>0</td>\n",
       "      <td>0</td>\n",
       "      <td>0</td>\n",
       "      <td>0</td>\n",
       "      <td>0</td>\n",
       "    </tr>\n",
       "    <tr>\n",
       "      <th>1</th>\n",
       "      <td>38.0</td>\n",
       "      <td>71.2833</td>\n",
       "      <td>0</td>\n",
       "      <td>1</td>\n",
       "      <td>1</td>\n",
       "      <td>1</td>\n",
       "      <td>2</td>\n",
       "      <td>0</td>\n",
       "      <td>0</td>\n",
       "      <td>0</td>\n",
       "      <td>...</td>\n",
       "      <td>0</td>\n",
       "      <td>0</td>\n",
       "      <td>0</td>\n",
       "      <td>0</td>\n",
       "      <td>0</td>\n",
       "      <td>1</td>\n",
       "      <td>0</td>\n",
       "      <td>0</td>\n",
       "      <td>0</td>\n",
       "      <td>0</td>\n",
       "    </tr>\n",
       "    <tr>\n",
       "      <th>2</th>\n",
       "      <td>26.0</td>\n",
       "      <td>7.9250</td>\n",
       "      <td>0</td>\n",
       "      <td>3</td>\n",
       "      <td>0</td>\n",
       "      <td>1</td>\n",
       "      <td>1</td>\n",
       "      <td>0</td>\n",
       "      <td>1</td>\n",
       "      <td>0</td>\n",
       "      <td>...</td>\n",
       "      <td>0</td>\n",
       "      <td>1</td>\n",
       "      <td>0</td>\n",
       "      <td>0</td>\n",
       "      <td>0</td>\n",
       "      <td>0</td>\n",
       "      <td>0</td>\n",
       "      <td>0</td>\n",
       "      <td>0</td>\n",
       "      <td>0</td>\n",
       "    </tr>\n",
       "    <tr>\n",
       "      <th>3</th>\n",
       "      <td>35.0</td>\n",
       "      <td>53.1000</td>\n",
       "      <td>0</td>\n",
       "      <td>1</td>\n",
       "      <td>1</td>\n",
       "      <td>1</td>\n",
       "      <td>2</td>\n",
       "      <td>0</td>\n",
       "      <td>1</td>\n",
       "      <td>0</td>\n",
       "      <td>...</td>\n",
       "      <td>0</td>\n",
       "      <td>0</td>\n",
       "      <td>0</td>\n",
       "      <td>0</td>\n",
       "      <td>0</td>\n",
       "      <td>1</td>\n",
       "      <td>0</td>\n",
       "      <td>0</td>\n",
       "      <td>0</td>\n",
       "      <td>0</td>\n",
       "    </tr>\n",
       "    <tr>\n",
       "      <th>4</th>\n",
       "      <td>35.0</td>\n",
       "      <td>8.0500</td>\n",
       "      <td>0</td>\n",
       "      <td>3</td>\n",
       "      <td>0</td>\n",
       "      <td>0</td>\n",
       "      <td>1</td>\n",
       "      <td>0</td>\n",
       "      <td>1</td>\n",
       "      <td>1</td>\n",
       "      <td>...</td>\n",
       "      <td>0</td>\n",
       "      <td>0</td>\n",
       "      <td>0</td>\n",
       "      <td>0</td>\n",
       "      <td>1</td>\n",
       "      <td>0</td>\n",
       "      <td>0</td>\n",
       "      <td>0</td>\n",
       "      <td>0</td>\n",
       "      <td>0</td>\n",
       "    </tr>\n",
       "  </tbody>\n",
       "</table>\n",
       "<p>5 rows × 26 columns</p>\n",
       "</div>"
      ],
      "text/plain": [
       "    Age     Fare  Parch  Pclass  SibSp  Survived  Family  Embarked_Q  \\\n",
       "0  22.0   7.2500      0       3      1         0       2           0   \n",
       "1  38.0  71.2833      0       1      1         1       2           0   \n",
       "2  26.0   7.9250      0       3      0         1       1           0   \n",
       "3  35.0  53.1000      0       1      1         1       2           0   \n",
       "4  35.0   8.0500      0       3      0         0       1           0   \n",
       "\n",
       "   Embarked_S  Sex_male  ...  Name_Title_Master  Name_Title_Miss  \\\n",
       "0           1         1  ...                  0                0   \n",
       "1           0         0  ...                  0                0   \n",
       "2           1         0  ...                  0                1   \n",
       "3           1         0  ...                  0                0   \n",
       "4           1         1  ...                  0                0   \n",
       "\n",
       "   Name_Title_Mlle  Name_Title_Mme  Name_Title_Mr  Name_Title_Mrs  \\\n",
       "0                0               0              1               0   \n",
       "1                0               0              0               1   \n",
       "2                0               0              0               0   \n",
       "3                0               0              0               1   \n",
       "4                0               0              1               0   \n",
       "\n",
       "   Name_Title_Ms  Name_Title_Rev  Name_Title_Sir  Name_Title_the Countess  \n",
       "0              0               0               0                        0  \n",
       "1              0               0               0                        0  \n",
       "2              0               0               0                        0  \n",
       "3              0               0               0                        0  \n",
       "4              0               0               0                        0  \n",
       "\n",
       "[5 rows x 26 columns]"
      ]
     },
     "execution_count": 22,
     "metadata": {},
     "output_type": "execute_result"
    }
   ],
   "source": [
    "adp_df = df.copy()\n",
    "adp_df = pd.get_dummies(data=adp_df, columns=['Embarked','Sex','Name_Title'], drop_first=True)\n",
    "adp_df.head()"
   ]
  },
  {
   "cell_type": "code",
   "execution_count": 33,
   "id": "4c67272e",
   "metadata": {},
   "outputs": [
    {
     "data": {
      "text/plain": [
       "0    549\n",
       "1    342\n",
       "Name: Survived, dtype: int64"
      ]
     },
     "execution_count": 33,
     "metadata": {},
     "output_type": "execute_result"
    }
   ],
   "source": [
    "adp_df.Survived.value_counts()"
   ]
  },
  {
   "cell_type": "code",
   "execution_count": 32,
   "id": "35781eda",
   "metadata": {},
   "outputs": [
    {
     "data": {
      "image/png": "[encoded data removed]",
      "text/plain": [
       "<Figure size 500x400 with 1 Axes>"
      ]
     },
     "metadata": {},
     "output_type": "display_data"
    }
   ],
   "source": [
    "plt.figure(figsize=(5,4))\n",
    "sns.countplot(data=adp_df, x='Survived');"
   ]
  },
  {
   "cell_type": "markdown",
   "id": "5fafbfb8",
   "metadata": {},
   "source": [
    "[해석]\n",
    "- 0의 개수가 549이고, 1의 개수가 342으로 나타났기에 데이터 불균형을 의심할 수 있음."
   ]
  },
  {
   "cell_type": "markdown",
   "id": "76437d7f",
   "metadata": {},
   "source": [
    "### 2. 언더샘플링, 오버샘플링의 장단점을 설명하고, 둘 중 하나를 선택하고 선택한 이유를 밝히시오.\n",
    "\n",
    "[언더샘플링]\n",
    "- 다수의 레이블을 가진 데이터를 소수의 데이터세트가 가진 레이블의 수 수준으로 감소하는 기법임.\n",
    "- 데이터 불균형 문제를 피할 수 있지만 데이터 수가 급격히 줄어들어 오히려 학습 성능을 떨어뜨리는 결과를 초래할 수 있음.\n",
    "\n",
    "[오버샘플링]\n",
    "- 소수의 레이블을 가진 데이터를 다수의 데이터세트가 가진 레이블의 수 수준으로 증가 시키는 기법임.\n",
    "- 데이터 손실이 없고, 언더 샘플링에 비해 높은 정확도를 보이지만 과적합 문제가 발생할 수 있음.\n",
    "\n",
    "따라서 본 분석에서는 데이터 정소 손실의 우려를 피하기 위해 오버샘플링 기법을 적용함."
   ]
  },
  {
   "cell_type": "markdown",
   "id": "033c644b",
   "metadata": {},
   "source": [
    "### 3. 원데이터를 포함해 3개의 데이터 세트를 구성하시오."
   ]
  },
  {
   "cell_type": "code",
   "execution_count": 46,
   "id": "7ff0335b",
   "metadata": {},
   "outputs": [
    {
     "name": "stdout",
     "output_type": "stream",
     "text": [
      "<<랜덤오버샘플링>>\n",
      "1    549\n",
      "0    549\n",
      "dtype: int64\n",
      "\n",
      "<smote>>\n",
      "1    549\n",
      "0    549\n",
      "dtype: int64\n"
     ]
    }
   ],
   "source": [
    "from imblearn.over_sampling import RandomOverSampler, SMOTE\n",
    "\n",
    "X = adp_df.drop(columns=['Survived'])\n",
    "y = adp_df.Survived\n",
    "\n",
    "rm_sampler = RandomOverSampler()\n",
    "smote = SMOTE()\n",
    "\n",
    "X_rm, y_rm = rm_sampler.fit_resample(X, y)\n",
    "X_sm, y_sm = smote.fit_resample(X, y)\n",
    "\n",
    "print('<<랜덤오버샘플링>>')\n",
    "print(pd.Series(y_rm).value_counts())\n",
    "print('\\n<smote>>')\n",
    "print(pd.Series(y_sm).value_counts())"
   ]
  },
  {
   "cell_type": "markdown",
   "id": "4193df54",
   "metadata": {},
   "source": [
    "[해석]\n",
    "- 원본 X, y 데이터와 랜덤 오버 샘플링을 적용한 X_rm, y_rm, 그리고 SMOTE를 적용한 X_rm, y_rm 데이터 세트를 생성함.\n",
    "- 오버 샘플링한 y의 클래스 개수를 살펴보면 각각 549개로 1 값이 증가한 것을 알 수 있음."
   ]
  },
  {
   "cell_type": "markdown",
   "id": "510664b1",
   "metadata": {},
   "source": [
    "### 4. 앞서 만든 3개 데이터 세트를 사용해 정확도 측면 모델 하나와 속도 측면의 모델 하나를 선정하고, 그 이유를 설명하시오."
   ]
  },
  {
   "cell_type": "code",
   "execution_count": 60,
   "id": "c4c13c3a",
   "metadata": {},
   "outputs": [
    {
     "name": "stdout",
     "output_type": "stream",
     "text": [
      "원본 데이터 정확도:  0.7873134328358209\n",
      "              precision    recall  f1-score   support\n",
      "\n",
      "           0       0.89      0.77      0.83       176\n",
      "           1       0.65      0.82      0.72        92\n",
      "\n",
      "    accuracy                           0.79       268\n",
      "   macro avg       0.77      0.79      0.78       268\n",
      "weighted avg       0.81      0.79      0.79       268\n",
      "\n",
      "원본 데이터 수행 속도: 0.28822875022888184 초\n",
      "\n",
      "랜덤 오버 샘플링 데이터 정확도:  0.8424242424242424\n",
      "              precision    recall  f1-score   support\n",
      "\n",
      "           0       0.81      0.85      0.83       149\n",
      "           1       0.87      0.84      0.85       181\n",
      "\n",
      "    accuracy                           0.84       330\n",
      "   macro avg       0.84      0.84      0.84       330\n",
      "weighted avg       0.84      0.84      0.84       330\n",
      "\n",
      "랜덤 오버 샘플링 데이터 수행 속도: 0.3899548053741455 초\n",
      "\n",
      "SMOTE 데이터 정확도:  0.8333333333333334\n",
      "              precision    recall  f1-score   support\n",
      "\n",
      "           0       0.87      0.79      0.83       170\n",
      "           1       0.80      0.88      0.84       160\n",
      "\n",
      "    accuracy                           0.83       330\n",
      "   macro avg       0.84      0.83      0.83       330\n",
      "weighted avg       0.84      0.83      0.83       330\n",
      "\n",
      "SMOTE 수행 속도: 0.29122376441955566 초\n"
     ]
    }
   ],
   "source": [
    "import time\n",
    "from sklearn.model_selection import train_test_split\n",
    "from sklearn.ensemble import RandomForestClassifier\n",
    "from sklearn.metrics import accuracy_score, classification_report\n",
    "\n",
    "# 원본 데이터\n",
    "start_time = time.time()\n",
    "X_trian, X_test, y_train, y_test = train_test_split(X, y, test_size=0.3, random_state=1)\n",
    "rf_clf = RandomForestClassifier(n_estimators=100, min_samples_split=10, random_state=100).fit(X_trian, y_train)\n",
    "pred = rf_clf.predict(X_test)\n",
    "print('원본 데이터 정확도: ', accuracy_score(pred, y_test))\n",
    "print(classification_report(pred, y_test))\n",
    "print('원본 데이터 수행 속도: {} 초'.format(time.time()-start_time))\n",
    "\n",
    "# 랜덤 오버 샘플링\n",
    "start_time = time.time()\n",
    "X_trian_rm, X_test_rm, y_train_rm, y_test_rm = train_test_split(X_rm, y_rm, test_size=0.3, random_state=1)\n",
    "rf_clf_rm = RandomForestClassifier(n_estimators=100, min_samples_split=10, random_state=100).fit(X_trian_rm, y_train_rm)\n",
    "pred_rm = rf_clf_rm.predict(X_test_rm)\n",
    "print('\\n랜덤 오버 샘플링 데이터 정확도: ', accuracy_score(pred_rm, y_test_rm))\n",
    "print(classification_report(pred_rm, y_test_rm))\n",
    "print('랜덤 오버 샘플링 데이터 수행 속도: {} 초'.format(time.time()-start_time))\n",
    "\n",
    "# SMOTE 기법\n",
    "start_time = time.time()\n",
    "X_trian_sm, X_test_sm, y_train_sm, y_test_sm = train_test_split(X_sm, y_sm, test_size=0.3, random_state=1)\n",
    "rf_clf_sm = RandomForestClassifier(n_estimators=100, min_samples_split=10, random_state=100).fit(X_trian_sm, y_train_sm)\n",
    "pred_sm = rf_clf_sm.predict(X_test_sm)\n",
    "print('\\nSMOTE 데이터 정확도: ', accuracy_score(pred_sm, y_test_sm))\n",
    "print(classification_report(pred_sm, y_test_sm))\n",
    "print('SMOTE 수행 속도: {} 초'.format(time.time()-start_time))"
   ]
  },
  {
   "cell_type": "markdown",
   "id": "ccea4f63",
   "metadata": {},
   "source": [
    "[해석]\n",
    "- 정확도 측면에서 랜덤 오버 샘플링 데이터의 모델 정확도가 약 0.845로 가장 높음.\n",
    "- 속도 측면에서는 오버 샘플링을 하지 않은 원본 데이터의 속도가 가장 빠름. 이는 원본 데이터가 오버 샘플링 데이터들에 비해 사이즈가 작기 때문임.\n",
    "- 이 점을 감안한다면 랜덤 오버 샘플링과 SMOTE의 모델 간 수행 속도에 큰 차이가 없으므로 정확도가 더 높은 랜덤 오버 샘플링을 적용한 모델을 사용하기로 결정함."
   ]
  },
  {
   "cell_type": "markdown",
   "id": "da41b97f",
   "metadata": {},
   "source": [
    "### 5. 원데이터와 오버 샘플링 데이터를 가지고 각각 분류한 결과를 바탕으로, 오버 샘플링이 성능에 미친 영향에 대해서 작성하시오.\n",
    "[해석]\n",
    "- 오버 샘플링을 통해 데이터 불균형 문제를 해결했으므로 원본 데이터의 모델 성능보다 향상된 것을 확인할 수 있음.\n",
    "- 원본 데이터의 경우, test 데이터 y값이 0일 때의 f1-score와 1일 때의 f1-score에 차이가 존재함. 이는 정밀도와 재현율에서도 확인할 수 있음. 이처럼 불균형한 데이터로 학습한 예측 모델은 일반화에 어려움이 있음.\n",
    "- 하지만 오버 샘플링을 진행한 모델의 test 데이터 성능 대부분은 train 성능과 비슷하므로 데이터 학습 시 과적합이 발생하지 않았다는 것을 알 수 있음. 데이터 불균형 문제를 전처리 과정에서 극복했기 때문임. 따라서 오버 샘플링 처리를 한 예측 모델은 일반화가 가능하다고 판단되므로 실제 분석 환경에서 사용할 수 있음."
   ]
  },
  {
   "cell_type": "markdown",
   "id": "dc7714d9",
   "metadata": {},
   "source": [
    "---\n",
    "**[파이썬 한권으로 끝내기] 제4회 기출동형 모의고사 문제 활용**\n",
    "\n",
    "### 1. Kmeans, DBSCAN 등의 방법으로 군집을 생성하시오."
   ]
  },
  {
   "cell_type": "code",
   "execution_count": 17,
   "id": "43df7079",
   "metadata": {},
   "outputs": [
    {
     "data": {
      "text/html": [
       "<div>\n",
       "<style scoped>\n",
       "    .dataframe tbody tr th:only-of-type {\n",
       "        vertical-align: middle;\n",
       "    }\n",
       "\n",
       "    .dataframe tbody tr th {\n",
       "        vertical-align: top;\n",
       "    }\n",
       "\n",
       "    .dataframe thead th {\n",
       "        text-align: right;\n",
       "    }\n",
       "</style>\n",
       "<table border=\"1\" class=\"dataframe\">\n",
       "  <thead>\n",
       "    <tr style=\"text-align: right;\">\n",
       "      <th></th>\n",
       "      <th>Age</th>\n",
       "      <th>Fare</th>\n",
       "      <th>Parch</th>\n",
       "      <th>Pclass</th>\n",
       "      <th>SibSp</th>\n",
       "      <th>Family</th>\n",
       "      <th>Embarked_Q</th>\n",
       "      <th>Embarked_S</th>\n",
       "      <th>Sex_male</th>\n",
       "    </tr>\n",
       "  </thead>\n",
       "  <tbody>\n",
       "    <tr>\n",
       "      <th>0</th>\n",
       "      <td>22.0</td>\n",
       "      <td>7.2500</td>\n",
       "      <td>0</td>\n",
       "      <td>3</td>\n",
       "      <td>1</td>\n",
       "      <td>2</td>\n",
       "      <td>0</td>\n",
       "      <td>1</td>\n",
       "      <td>1</td>\n",
       "    </tr>\n",
       "    <tr>\n",
       "      <th>1</th>\n",
       "      <td>38.0</td>\n",
       "      <td>71.2833</td>\n",
       "      <td>0</td>\n",
       "      <td>1</td>\n",
       "      <td>1</td>\n",
       "      <td>2</td>\n",
       "      <td>0</td>\n",
       "      <td>0</td>\n",
       "      <td>0</td>\n",
       "    </tr>\n",
       "    <tr>\n",
       "      <th>2</th>\n",
       "      <td>26.0</td>\n",
       "      <td>7.9250</td>\n",
       "      <td>0</td>\n",
       "      <td>3</td>\n",
       "      <td>0</td>\n",
       "      <td>1</td>\n",
       "      <td>0</td>\n",
       "      <td>1</td>\n",
       "      <td>0</td>\n",
       "    </tr>\n",
       "    <tr>\n",
       "      <th>3</th>\n",
       "      <td>35.0</td>\n",
       "      <td>53.1000</td>\n",
       "      <td>0</td>\n",
       "      <td>1</td>\n",
       "      <td>1</td>\n",
       "      <td>2</td>\n",
       "      <td>0</td>\n",
       "      <td>1</td>\n",
       "      <td>0</td>\n",
       "    </tr>\n",
       "    <tr>\n",
       "      <th>4</th>\n",
       "      <td>35.0</td>\n",
       "      <td>8.0500</td>\n",
       "      <td>0</td>\n",
       "      <td>3</td>\n",
       "      <td>0</td>\n",
       "      <td>1</td>\n",
       "      <td>0</td>\n",
       "      <td>1</td>\n",
       "      <td>1</td>\n",
       "    </tr>\n",
       "  </tbody>\n",
       "</table>\n",
       "</div>"
      ],
      "text/plain": [
       "    Age     Fare  Parch  Pclass  SibSp  Family  Embarked_Q  Embarked_S  \\\n",
       "0  22.0   7.2500      0       3      1       2           0           1   \n",
       "1  38.0  71.2833      0       1      1       2           0           0   \n",
       "2  26.0   7.9250      0       3      0       1           0           1   \n",
       "3  35.0  53.1000      0       1      1       2           0           1   \n",
       "4  35.0   8.0500      0       3      0       1           0           1   \n",
       "\n",
       "   Sex_male  \n",
       "0         1  \n",
       "1         0  \n",
       "2         0  \n",
       "3         0  \n",
       "4         1  "
      ]
     },
     "execution_count": 17,
     "metadata": {},
     "output_type": "execute_result"
    }
   ],
   "source": [
    "# 범주형 변수 더미 변수화 + 불필요한 변수 제거\n",
    "ex_df = pd.get_dummies(data=df.drop(columns=['Name_Title', 'Survived'], axis=1), drop_first=True)\n",
    "ex_df.head()"
   ]
  },
  {
   "cell_type": "code",
   "execution_count": 18,
   "id": "f0efaca4",
   "metadata": {},
   "outputs": [
    {
     "data": {
      "text/html": [
       "<div>\n",
       "<style scoped>\n",
       "    .dataframe tbody tr th:only-of-type {\n",
       "        vertical-align: middle;\n",
       "    }\n",
       "\n",
       "    .dataframe tbody tr th {\n",
       "        vertical-align: top;\n",
       "    }\n",
       "\n",
       "    .dataframe thead th {\n",
       "        text-align: right;\n",
       "    }\n",
       "</style>\n",
       "<table border=\"1\" class=\"dataframe\">\n",
       "  <thead>\n",
       "    <tr style=\"text-align: right;\">\n",
       "      <th></th>\n",
       "      <th>Age</th>\n",
       "      <th>Fare</th>\n",
       "      <th>Parch</th>\n",
       "      <th>Pclass</th>\n",
       "      <th>SibSp</th>\n",
       "      <th>Family</th>\n",
       "      <th>Embarked_Q</th>\n",
       "      <th>Embarked_S</th>\n",
       "      <th>Sex_male</th>\n",
       "    </tr>\n",
       "  </thead>\n",
       "  <tbody>\n",
       "    <tr>\n",
       "      <th>0</th>\n",
       "      <td>-0.592481</td>\n",
       "      <td>-0.502445</td>\n",
       "      <td>-0.473674</td>\n",
       "      <td>0.827377</td>\n",
       "      <td>0.432793</td>\n",
       "      <td>0.059160</td>\n",
       "      <td>0</td>\n",
       "      <td>1</td>\n",
       "      <td>1</td>\n",
       "    </tr>\n",
       "    <tr>\n",
       "      <th>1</th>\n",
       "      <td>0.638789</td>\n",
       "      <td>0.786845</td>\n",
       "      <td>-0.473674</td>\n",
       "      <td>-1.566107</td>\n",
       "      <td>0.432793</td>\n",
       "      <td>0.059160</td>\n",
       "      <td>0</td>\n",
       "      <td>0</td>\n",
       "      <td>0</td>\n",
       "    </tr>\n",
       "    <tr>\n",
       "      <th>2</th>\n",
       "      <td>-0.284663</td>\n",
       "      <td>-0.488854</td>\n",
       "      <td>-0.473674</td>\n",
       "      <td>0.827377</td>\n",
       "      <td>-0.474545</td>\n",
       "      <td>-0.560975</td>\n",
       "      <td>0</td>\n",
       "      <td>1</td>\n",
       "      <td>0</td>\n",
       "    </tr>\n",
       "    <tr>\n",
       "      <th>3</th>\n",
       "      <td>0.407926</td>\n",
       "      <td>0.420730</td>\n",
       "      <td>-0.473674</td>\n",
       "      <td>-1.566107</td>\n",
       "      <td>0.432793</td>\n",
       "      <td>0.059160</td>\n",
       "      <td>0</td>\n",
       "      <td>1</td>\n",
       "      <td>0</td>\n",
       "    </tr>\n",
       "    <tr>\n",
       "      <th>4</th>\n",
       "      <td>0.407926</td>\n",
       "      <td>-0.486337</td>\n",
       "      <td>-0.473674</td>\n",
       "      <td>0.827377</td>\n",
       "      <td>-0.474545</td>\n",
       "      <td>-0.560975</td>\n",
       "      <td>0</td>\n",
       "      <td>1</td>\n",
       "      <td>1</td>\n",
       "    </tr>\n",
       "  </tbody>\n",
       "</table>\n",
       "</div>"
      ],
      "text/plain": [
       "        Age      Fare     Parch    Pclass     SibSp    Family  Embarked_Q  \\\n",
       "0 -0.592481 -0.502445 -0.473674  0.827377  0.432793  0.059160           0   \n",
       "1  0.638789  0.786845 -0.473674 -1.566107  0.432793  0.059160           0   \n",
       "2 -0.284663 -0.488854 -0.473674  0.827377 -0.474545 -0.560975           0   \n",
       "3  0.407926  0.420730 -0.473674 -1.566107  0.432793  0.059160           0   \n",
       "4  0.407926 -0.486337 -0.473674  0.827377 -0.474545 -0.560975           0   \n",
       "\n",
       "   Embarked_S  Sex_male  \n",
       "0           1         1  \n",
       "1           0         0  \n",
       "2           1         0  \n",
       "3           1         0  \n",
       "4           1         1  "
      ]
     },
     "execution_count": 18,
     "metadata": {},
     "output_type": "execute_result"
    }
   ],
   "source": [
    "# 연속형 변수 스케일링\n",
    "from sklearn.preprocessing import StandardScaler\n",
    "\n",
    "scaled_df = ex_df[['Age', 'Fare', 'Parch', 'Pclass', 'SibSp', 'Family']]\n",
    "scaler = StandardScaler()\n",
    "scaled_df = scaler.fit_transform(scaled_df)\n",
    "scaled_df = pd.DataFrame(scaled_df, columns = ['Age', 'Fare', 'Parch', 'Pclass', 'SibSp', 'Family'])\n",
    "\n",
    "# 스케일링한 연속형 변수 데이터와 범주형 변수 데이터 합치기\n",
    "ex_df = pd.concat([scaled_df, ex_df[['Embarked_Q', 'Embarked_S', 'Sex_male']]], axis=1)\n",
    "ex_df.head()"
   ]
  },
  {
   "cell_type": "code",
   "execution_count": 20,
   "id": "cbce6dad",
   "metadata": {},
   "outputs": [
    {
     "name": "stdout",
     "output_type": "stream",
     "text": [
      "333.91548043961143\n",
      "357.27702844796414\n",
      "325.3205008936358\n",
      "321.49871752719963\n",
      "300.1063097731906\n",
      "279.9971162269085\n",
      "275.8561600901945\n",
      "264.2815603336369\n"
     ]
    }
   ],
   "source": [
    "# 클러스터별 콜린스키 하라바츠 결과 비교\n",
    "from sklearn.metrics import calinski_harabasz_score\n",
    "from sklearn.cluster import KMeans\n",
    "\n",
    "for k in range(2, 10):\n",
    "    kmeans_model = KMeans(n_clusters=k, random_state=1).fit(ex_df)\n",
    "    labels = kmeans_model.labels_\n",
    "    print(calinski_harabasz_score(ex_df, labels))"
   ]
  },
  {
   "cell_type": "markdown",
   "id": "32f307c7",
   "metadata": {},
   "source": [
    "[해석]\n",
    "- 콜린스키 하라바츠 스코어 결과 k 값이 3일 때 가장 높은 값을 갖는 것으로 확인했지만, 콜린스키 하라바츠 스코어만을 가지고 k값을 확정짓기 어려움.\n",
    "- 따라서 분산에 대한 검정뿐 아니라 SSE의 증감을 보는 엘보우 기법을 사용하여 적절한 K의 값을 추가로 확인하는 것이 좋음."
   ]
  },
  {
   "cell_type": "code",
   "execution_count": 21,
   "id": "478ecea7",
   "metadata": {},
   "outputs": [
    {
     "data": {
      "image/png": "[encoded data removed]",
      "text/plain": [
       "<Figure size 640x480 with 1 Axes>"
      ]
     },
     "metadata": {},
     "output_type": "display_data"
    },
    {
     "name": "stdout",
     "output_type": "stream",
     "text": [
      "[5797.319865319862, 4214.369220689454, 3212.384642035419, 2760.2409996872, 2364.8423259932065, 2150.7274063288387, 1998.7774356732778, 1819.135023304147, 1706.5438079027276, 1590.6968133133073]\n"
     ]
    }
   ],
   "source": [
    "def elbow(X):\n",
    "    sse = []\n",
    "    for i in range(1, 11):\n",
    "        km = KMeans(n_clusters=i, random_state=1)\n",
    "        km.fit(X)\n",
    "        sse.append(km.inertia_)\n",
    "        \n",
    "    plt.plot(range(1,11), sse, marker='o')\n",
    "    plt.xlabel('The Number of Clusters')\n",
    "    plt.ylabel('SSE')\n",
    "    plt.show()\n",
    "    print(sse)\n",
    "    \n",
    "elbow(ex_df)"
   ]
  },
  {
   "cell_type": "markdown",
   "id": "2d42d804",
   "metadata": {},
   "source": [
    "[해석]\n",
    "- 2에서 3으로 갈 때에 기울기 소실이 발생하므로, 해당 데이터에서는 2~3개의 군집이 적절함을 알 수 있음.\n",
    "- 따라서 k=3으로 하여 최종 군집 분석을 진행함."
   ]
  },
  {
   "cell_type": "code",
   "execution_count": 28,
   "id": "1e2b2757",
   "metadata": {},
   "outputs": [
    {
     "data": {
      "text/html": [
       "<div>\n",
       "<style scoped>\n",
       "    .dataframe tbody tr th:only-of-type {\n",
       "        vertical-align: middle;\n",
       "    }\n",
       "\n",
       "    .dataframe tbody tr th {\n",
       "        vertical-align: top;\n",
       "    }\n",
       "\n",
       "    .dataframe thead th {\n",
       "        text-align: right;\n",
       "    }\n",
       "</style>\n",
       "<table border=\"1\" class=\"dataframe\">\n",
       "  <thead>\n",
       "    <tr style=\"text-align: right;\">\n",
       "      <th></th>\n",
       "      <th>Age</th>\n",
       "      <th>Fare</th>\n",
       "      <th>Parch</th>\n",
       "      <th>Pclass</th>\n",
       "      <th>SibSp</th>\n",
       "      <th>Survived</th>\n",
       "      <th>Family</th>\n",
       "    </tr>\n",
       "    <tr>\n",
       "      <th>cluster</th>\n",
       "      <th></th>\n",
       "      <th></th>\n",
       "      <th></th>\n",
       "      <th></th>\n",
       "      <th></th>\n",
       "      <th></th>\n",
       "      <th></th>\n",
       "    </tr>\n",
       "  </thead>\n",
       "  <tbody>\n",
       "    <tr>\n",
       "      <th>0</th>\n",
       "      <td>39.460471</td>\n",
       "      <td>70.122147</td>\n",
       "      <td>0.273859</td>\n",
       "      <td>1.145228</td>\n",
       "      <td>0.360996</td>\n",
       "      <td>0.585062</td>\n",
       "      <td>1.634855</td>\n",
       "    </tr>\n",
       "    <tr>\n",
       "      <th>1</th>\n",
       "      <td>18.738471</td>\n",
       "      <td>55.030670</td>\n",
       "      <td>2.081395</td>\n",
       "      <td>2.604651</td>\n",
       "      <td>2.872093</td>\n",
       "      <td>0.313953</td>\n",
       "      <td>5.953488</td>\n",
       "    </tr>\n",
       "    <tr>\n",
       "      <th>2</th>\n",
       "      <td>27.199347</td>\n",
       "      <td>12.521054</td>\n",
       "      <td>0.168440</td>\n",
       "      <td>2.760638</td>\n",
       "      <td>0.234043</td>\n",
       "      <td>0.308511</td>\n",
       "      <td>1.402482</td>\n",
       "    </tr>\n",
       "  </tbody>\n",
       "</table>\n",
       "</div>"
      ],
      "text/plain": [
       "               Age       Fare     Parch    Pclass     SibSp  Survived  \\\n",
       "cluster                                                                 \n",
       "0        39.460471  70.122147  0.273859  1.145228  0.360996  0.585062   \n",
       "1        18.738471  55.030670  2.081395  2.604651  2.872093  0.313953   \n",
       "2        27.199347  12.521054  0.168440  2.760638  0.234043  0.308511   \n",
       "\n",
       "           Family  \n",
       "cluster            \n",
       "0        1.634855  \n",
       "1        5.953488  \n",
       "2        1.402482  "
      ]
     },
     "execution_count": 28,
     "metadata": {},
     "output_type": "execute_result"
    }
   ],
   "source": [
    "# 최적의 k로 K-Means 군집화 실행\n",
    "km = KMeans(n_clusters=3, random_state=1)\n",
    "km.fit(ex_df)\n",
    "\n",
    "# 할당된 군집을 df 데이터에 추가\n",
    "new_labels= km.labels_\n",
    "df['cluster']=new_labels\n",
    "\n",
    "df.groupby(['cluster']).mean()"
   ]
  },
  {
   "cell_type": "code",
   "execution_count": null,
   "id": "9adbffa0",
   "metadata": {},
   "outputs": [],
   "source": []
  }
 ],
 "metadata": {
  "kernelspec": {
   "display_name": "adp_code",
   "language": "python",
   "name": "adp_code"
  },
  "language_info": {
   "codemirror_mode": {
    "name": "ipython",
    "version": 3
   },
   "file_extension": ".py",
   "mimetype": "text/x-python",
   "name": "python",
   "nbconvert_exporter": "python",
   "pygments_lexer": "ipython3",
   "version": "3.7.16"
  }
 },
 "nbformat": 4,
 "nbformat_minor": 5
}
