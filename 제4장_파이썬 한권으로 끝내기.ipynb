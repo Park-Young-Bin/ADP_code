{
 "cells": [
  {
   "cell_type": "markdown",
   "id": "d768e7f2",
   "metadata": {},
   "source": [
    "# 제 4장 데이터 전처리\n",
    "#### [깃허브 주소](https://github.com/ADPclass/ADP_book_ver01/blob/main/%EC%A0%9C4%EC%9E%A5_%EB%8D%B0%EC%9D%B4%ED%84%B0%EC%A0%84%EC%B2%98%EB%A6%AC/Ch%204.ipynb)\n",
    "#### 가상환경에서 패키지 설치 방법\n",
    "1. Anaconda Prompt (anaconda3) 접속\n",
    "2. 가상환경 활성화 \n",
    "    - activate <가상환경 이름(adp_code)>\n",
    "3. 가상환경이 활성화된 상태에서 패키지 설치\n",
    "    - pip install <패키지 이름>==<버전>"
   ]
  },
  {
   "cell_type": "code",
   "execution_count": 1,
   "id": "67ac77cf",
   "metadata": {},
   "outputs": [],
   "source": [
    "# !pip install pandas==1.1.2\n",
    "import pandas as pd\n",
    "# print(pd.__version__)\n",
    "import sklearn\n",
    "# print(sklearn.__version__)\n",
    "import numpy as np\n",
    "# print(np.__version__)\n",
    "import matplotlib.pyplot as plt\n",
    "import seaborn as sns\n",
    "# print(sns.__version__)"
   ]
  },
  {
   "cell_type": "markdown",
   "id": "88e5a30f",
   "metadata": {},
   "source": [
    "### 이상치 확인"
   ]
  },
  {
   "cell_type": "code",
   "execution_count": 19,
   "id": "51591d6d",
   "metadata": {},
   "outputs": [],
   "source": [
    "from sklearn.datasets import load_wine\n",
    "wine_load = load_wine()\n",
    "wine = pd.DataFrame(wine_load.data, columns=wine_load.feature_names)\n",
    "wine['Class'] = wine_load.target\n",
    "wine['Class'] = wine['Class'].map({0:'class_0', 1:'class_1', 2:'class_2'})"
   ]
  },
  {
   "cell_type": "code",
   "execution_count": 20,
   "id": "f72f2ee7",
   "metadata": {},
   "outputs": [
    {
     "data": {
      "image/png": "[encoded data removed]",
      "text/plain": [
       "<Figure size 500x400 with 1 Axes>"
      ]
     },
     "metadata": {},
     "output_type": "display_data"
    }
   ],
   "source": [
    "# 이상치 확인1\n",
    "plt.figure(figsize=(5,4))\n",
    "plt.boxplot('color_intensity', data=wine, whis=1.5)\n",
    "plt.title('color_intensity')\n",
    "plt.show()"
   ]
  },
  {
   "cell_type": "code",
   "execution_count": 21,
   "id": "a1461711",
   "metadata": {},
   "outputs": [
    {
     "data": {
      "text/html": [
       "<div>\n",
       "<style scoped>\n",
       "    .dataframe tbody tr th:only-of-type {\n",
       "        vertical-align: middle;\n",
       "    }\n",
       "\n",
       "    .dataframe tbody tr th {\n",
       "        vertical-align: top;\n",
       "    }\n",
       "\n",
       "    .dataframe thead th {\n",
       "        text-align: right;\n",
       "    }\n",
       "</style>\n",
       "<table border=\"1\" class=\"dataframe\">\n",
       "  <thead>\n",
       "    <tr style=\"text-align: right;\">\n",
       "      <th></th>\n",
       "      <th>color_intensity</th>\n",
       "    </tr>\n",
       "  </thead>\n",
       "  <tbody>\n",
       "    <tr>\n",
       "      <th>151</th>\n",
       "      <td>10.80</td>\n",
       "    </tr>\n",
       "    <tr>\n",
       "      <th>158</th>\n",
       "      <td>13.00</td>\n",
       "    </tr>\n",
       "    <tr>\n",
       "      <th>159</th>\n",
       "      <td>11.75</td>\n",
       "    </tr>\n",
       "    <tr>\n",
       "      <th>166</th>\n",
       "      <td>10.68</td>\n",
       "    </tr>\n",
       "  </tbody>\n",
       "</table>\n",
       "</div>"
      ],
      "text/plain": [
       "     color_intensity\n",
       "151            10.80\n",
       "158            13.00\n",
       "159            11.75\n",
       "166            10.68"
      ]
     },
     "execution_count": 21,
     "metadata": {},
     "output_type": "execute_result"
    }
   ],
   "source": [
    "# 이상치 확인2\n",
    "def outliers_iqr(dt, col):\n",
    "    quartile_1, quartile_3 = np.percentile(dt[col], [25, 75])\n",
    "    iqr = quartile_3 - quartile_1\n",
    "    lower_whis = quartile_1 - (iqr*1.5)\n",
    "    upper_whis = quartile_3 + (iqr*1.5)\n",
    "    outliers = dt[(dt[col] > upper_whis) | (dt[col] < lower_whis)]\n",
    "    return outliers[[col]]\n",
    "\n",
    "outliers = outliers_iqr(wine, 'color_intensity')\n",
    "outliers"
   ]
  },
  {
   "cell_type": "markdown",
   "id": "4633a7b4",
   "metadata": {},
   "source": [
    "### 이상치 정제"
   ]
  },
  {
   "cell_type": "code",
   "execution_count": 17,
   "id": "08f0baa1",
   "metadata": {},
   "outputs": [
    {
     "name": "stdout",
     "output_type": "stream",
     "text": [
      "Original : (178, 14)\n",
      "Drop outliers : (174, 14)\n"
     ]
    }
   ],
   "source": [
    "# 이상치 제거\n",
    "drop_outliers = wine.drop(index=outliers.index)\n",
    "\n",
    "# 이상치를 삭제하기 전과 후의 데이터 shape\n",
    "print('Original :', wine.shape)\n",
    "print('Drop outliers :', drop_outliers.shape)"
   ]
  },
  {
   "cell_type": "code",
   "execution_count": 22,
   "id": "e90f7d89",
   "metadata": {},
   "outputs": [
    {
     "data": {
      "text/plain": [
       "151    4.908678\n",
       "158    4.908678\n",
       "159    4.908678\n",
       "166    4.908678\n",
       "Name: color_intensity, dtype: float64"
      ]
     },
     "execution_count": 22,
     "metadata": {},
     "output_type": "execute_result"
    }
   ],
   "source": [
    "# 이상치 대체\n",
    "# 이상치를 NaN으로 변경\n",
    "wine.loc[outliers.index, 'color_intensity'] = np.NaN\n",
    "\n",
    "# NaN이 된 이상치를 평균값으로 변경\n",
    "wine['color_intensity'] = wine['color_intensity'].fillna(wine['color_intensity'].mean())\n",
    "wine.loc[outliers.index, 'color_intensity']"
   ]
  },
  {
   "cell_type": "markdown",
   "id": "18caccac",
   "metadata": {},
   "source": [
    "### 범주형 변수 처리"
   ]
  },
  {
   "cell_type": "code",
   "execution_count": 25,
   "id": "b77cfb6e",
   "metadata": {},
   "outputs": [],
   "source": [
    "# 데이터 불러오기\n",
    "from sklearn.datasets import load_iris\n",
    "iris = load_iris()\n",
    "iris = pd.DataFrame(iris.data, columns=iris.feature_names)\n",
    "iris['Class'] = load_iris().target\n",
    "iris['Class'] = iris['Class'].map({0:'Setosa', 1:'Versicolour', 2:'Virginica'})"
   ]
  },
  {
   "cell_type": "code",
   "execution_count": 27,
   "id": "7670e0e8",
   "metadata": {},
   "outputs": [
    {
     "data": {
      "text/html": [
       "<div>\n",
       "<style scoped>\n",
       "    .dataframe tbody tr th:only-of-type {\n",
       "        vertical-align: middle;\n",
       "    }\n",
       "\n",
       "    .dataframe tbody tr th {\n",
       "        vertical-align: top;\n",
       "    }\n",
       "\n",
       "    .dataframe thead th {\n",
       "        text-align: right;\n",
       "    }\n",
       "</style>\n",
       "<table border=\"1\" class=\"dataframe\">\n",
       "  <thead>\n",
       "    <tr style=\"text-align: right;\">\n",
       "      <th></th>\n",
       "      <th>sepal length (cm)</th>\n",
       "      <th>sepal width (cm)</th>\n",
       "      <th>petal length (cm)</th>\n",
       "      <th>petal width (cm)</th>\n",
       "      <th>Class_Setosa</th>\n",
       "      <th>Class_Versicolour</th>\n",
       "      <th>Class_Virginica</th>\n",
       "    </tr>\n",
       "  </thead>\n",
       "  <tbody>\n",
       "    <tr>\n",
       "      <th>0</th>\n",
       "      <td>5.1</td>\n",
       "      <td>3.5</td>\n",
       "      <td>1.4</td>\n",
       "      <td>0.2</td>\n",
       "      <td>1</td>\n",
       "      <td>0</td>\n",
       "      <td>0</td>\n",
       "    </tr>\n",
       "    <tr>\n",
       "      <th>1</th>\n",
       "      <td>4.9</td>\n",
       "      <td>3.0</td>\n",
       "      <td>1.4</td>\n",
       "      <td>0.2</td>\n",
       "      <td>1</td>\n",
       "      <td>0</td>\n",
       "      <td>0</td>\n",
       "    </tr>\n",
       "    <tr>\n",
       "      <th>2</th>\n",
       "      <td>4.7</td>\n",
       "      <td>3.2</td>\n",
       "      <td>1.3</td>\n",
       "      <td>0.2</td>\n",
       "      <td>1</td>\n",
       "      <td>0</td>\n",
       "      <td>0</td>\n",
       "    </tr>\n",
       "    <tr>\n",
       "      <th>3</th>\n",
       "      <td>4.6</td>\n",
       "      <td>3.1</td>\n",
       "      <td>1.5</td>\n",
       "      <td>0.2</td>\n",
       "      <td>1</td>\n",
       "      <td>0</td>\n",
       "      <td>0</td>\n",
       "    </tr>\n",
       "    <tr>\n",
       "      <th>4</th>\n",
       "      <td>5.0</td>\n",
       "      <td>3.6</td>\n",
       "      <td>1.4</td>\n",
       "      <td>0.2</td>\n",
       "      <td>1</td>\n",
       "      <td>0</td>\n",
       "      <td>0</td>\n",
       "    </tr>\n",
       "    <tr>\n",
       "      <th>...</th>\n",
       "      <td>...</td>\n",
       "      <td>...</td>\n",
       "      <td>...</td>\n",
       "      <td>...</td>\n",
       "      <td>...</td>\n",
       "      <td>...</td>\n",
       "      <td>...</td>\n",
       "    </tr>\n",
       "    <tr>\n",
       "      <th>145</th>\n",
       "      <td>6.7</td>\n",
       "      <td>3.0</td>\n",
       "      <td>5.2</td>\n",
       "      <td>2.3</td>\n",
       "      <td>0</td>\n",
       "      <td>0</td>\n",
       "      <td>1</td>\n",
       "    </tr>\n",
       "    <tr>\n",
       "      <th>146</th>\n",
       "      <td>6.3</td>\n",
       "      <td>2.5</td>\n",
       "      <td>5.0</td>\n",
       "      <td>1.9</td>\n",
       "      <td>0</td>\n",
       "      <td>0</td>\n",
       "      <td>1</td>\n",
       "    </tr>\n",
       "    <tr>\n",
       "      <th>147</th>\n",
       "      <td>6.5</td>\n",
       "      <td>3.0</td>\n",
       "      <td>5.2</td>\n",
       "      <td>2.0</td>\n",
       "      <td>0</td>\n",
       "      <td>0</td>\n",
       "      <td>1</td>\n",
       "    </tr>\n",
       "    <tr>\n",
       "      <th>148</th>\n",
       "      <td>6.2</td>\n",
       "      <td>3.4</td>\n",
       "      <td>5.4</td>\n",
       "      <td>2.3</td>\n",
       "      <td>0</td>\n",
       "      <td>0</td>\n",
       "      <td>1</td>\n",
       "    </tr>\n",
       "    <tr>\n",
       "      <th>149</th>\n",
       "      <td>5.9</td>\n",
       "      <td>3.0</td>\n",
       "      <td>5.1</td>\n",
       "      <td>1.8</td>\n",
       "      <td>0</td>\n",
       "      <td>0</td>\n",
       "      <td>1</td>\n",
       "    </tr>\n",
       "  </tbody>\n",
       "</table>\n",
       "<p>150 rows × 7 columns</p>\n",
       "</div>"
      ],
      "text/plain": [
       "     sepal length (cm)  sepal width (cm)  petal length (cm)  petal width (cm)  \\\n",
       "0                  5.1               3.5                1.4               0.2   \n",
       "1                  4.9               3.0                1.4               0.2   \n",
       "2                  4.7               3.2                1.3               0.2   \n",
       "3                  4.6               3.1                1.5               0.2   \n",
       "4                  5.0               3.6                1.4               0.2   \n",
       "..                 ...               ...                ...               ...   \n",
       "145                6.7               3.0                5.2               2.3   \n",
       "146                6.3               2.5                5.0               1.9   \n",
       "147                6.5               3.0                5.2               2.0   \n",
       "148                6.2               3.4                5.4               2.3   \n",
       "149                5.9               3.0                5.1               1.8   \n",
       "\n",
       "     Class_Setosa  Class_Versicolour  Class_Virginica  \n",
       "0               1                  0                0  \n",
       "1               1                  0                0  \n",
       "2               1                  0                0  \n",
       "3               1                  0                0  \n",
       "4               1                  0                0  \n",
       "..            ...                ...              ...  \n",
       "145             0                  0                1  \n",
       "146             0                  0                1  \n",
       "147             0                  0                1  \n",
       "148             0                  0                1  \n",
       "149             0                  0                1  \n",
       "\n",
       "[150 rows x 7 columns]"
      ]
     },
     "execution_count": 27,
     "metadata": {},
     "output_type": "execute_result"
    }
   ],
   "source": [
    "iris_dummy = pd.get_dummies(iris, 'Class')\n",
    "iris_dummy"
   ]
  },
  {
   "cell_type": "markdown",
   "id": "2a1a1240",
   "metadata": {},
   "source": [
    "### 데이터 분할\n",
    "[[sklearn] 'stratify'의 역할(train_test_split)](https://yeko90.tistory.com/entry/what-is-stratify-in-traintestsplit)"
   ]
  },
  {
   "cell_type": "code",
   "execution_count": 29,
   "id": "538d84e3",
   "metadata": {},
   "outputs": [
    {
     "name": "stdout",
     "output_type": "stream",
     "text": [
      "X_train : (120, 4) X_test : (30, 4)\n",
      "y_train : (120,) y_test : (30,)\n"
     ]
    }
   ],
   "source": [
    "# 데이터 불러오기\n",
    "from sklearn.datasets import load_iris\n",
    "iris = load_iris()\n",
    "iris = pd.DataFrame(iris.data, columns=iris.feature_names)\n",
    "iris['Class'] = load_iris().target\n",
    "iris['Class'] = iris['Class'].map({0:'Setosa', 1:'Versicolour', 2:'Virginica'})\n",
    "\n",
    "# 데이터 분할\n",
    "from sklearn.model_selection import train_test_split\n",
    "X_train, X_test, y_train, y_test = train_test_split(iris.drop(columns = 'Class'), iris['Class'], test_size=0.2, random_state=1004)\n",
    "print('X_train :', X_train.shape, 'X_test :', X_test.shape)\n",
    "print('y_train :', y_train.shape, 'y_test :', y_test.shape)"
   ]
  },
  {
   "cell_type": "code",
   "execution_count": 30,
   "id": "69bbb026",
   "metadata": {},
   "outputs": [
    {
     "data": {
      "text/html": [
       "<div>\n",
       "<style scoped>\n",
       "    .dataframe tbody tr th:only-of-type {\n",
       "        vertical-align: middle;\n",
       "    }\n",
       "\n",
       "    .dataframe tbody tr th {\n",
       "        vertical-align: top;\n",
       "    }\n",
       "\n",
       "    .dataframe thead th {\n",
       "        text-align: right;\n",
       "    }\n",
       "</style>\n",
       "<table border=\"1\" class=\"dataframe\">\n",
       "  <thead>\n",
       "    <tr style=\"text-align: right;\">\n",
       "      <th></th>\n",
       "      <th>sepal length (cm)</th>\n",
       "      <th>sepal width (cm)</th>\n",
       "      <th>petal length (cm)</th>\n",
       "      <th>petal width (cm)</th>\n",
       "    </tr>\n",
       "  </thead>\n",
       "  <tbody>\n",
       "    <tr>\n",
       "      <th>87</th>\n",
       "      <td>6.3</td>\n",
       "      <td>2.3</td>\n",
       "      <td>4.4</td>\n",
       "      <td>1.3</td>\n",
       "    </tr>\n",
       "    <tr>\n",
       "      <th>67</th>\n",
       "      <td>5.8</td>\n",
       "      <td>2.7</td>\n",
       "      <td>4.1</td>\n",
       "      <td>1.0</td>\n",
       "    </tr>\n",
       "    <tr>\n",
       "      <th>131</th>\n",
       "      <td>7.9</td>\n",
       "      <td>3.8</td>\n",
       "      <td>6.4</td>\n",
       "      <td>2.0</td>\n",
       "    </tr>\n",
       "  </tbody>\n",
       "</table>\n",
       "</div>"
      ],
      "text/plain": [
       "     sepal length (cm)  sepal width (cm)  petal length (cm)  petal width (cm)\n",
       "87                 6.3               2.3                4.4               1.3\n",
       "67                 5.8               2.7                4.1               1.0\n",
       "131                7.9               3.8                6.4               2.0"
      ]
     },
     "execution_count": 30,
     "metadata": {},
     "output_type": "execute_result"
    }
   ],
   "source": [
    "X_train.head(3)"
   ]
  },
  {
   "cell_type": "code",
   "execution_count": 31,
   "id": "3ddcb2bd",
   "metadata": {},
   "outputs": [
    {
     "data": {
      "text/plain": [
       "87     Versicolour\n",
       "67     Versicolour\n",
       "131      Virginica\n",
       "Name: Class, dtype: object"
      ]
     },
     "execution_count": 31,
     "metadata": {},
     "output_type": "execute_result"
    }
   ],
   "source": [
    "y_train.head(3)"
   ]
  },
  {
   "cell_type": "code",
   "execution_count": 32,
   "id": "dc7525ac",
   "metadata": {},
   "outputs": [
    {
     "data": {
      "text/plain": [
       "Setosa         50\n",
       "Versicolour    50\n",
       "Virginica      50\n",
       "Name: Class, dtype: int64"
      ]
     },
     "execution_count": 32,
     "metadata": {},
     "output_type": "execute_result"
    }
   ],
   "source": [
    "iris['Class'].value_counts()"
   ]
  },
  {
   "cell_type": "code",
   "execution_count": 33,
   "id": "18bea613",
   "metadata": {},
   "outputs": [
    {
     "data": {
      "text/plain": [
       "Versicolour    41\n",
       "Setosa         40\n",
       "Virginica      39\n",
       "Name: Class, dtype: int64"
      ]
     },
     "execution_count": 33,
     "metadata": {},
     "output_type": "execute_result"
    }
   ],
   "source": [
    "y_train.value_counts()"
   ]
  },
  {
   "cell_type": "code",
   "execution_count": 34,
   "id": "3b6c7be6",
   "metadata": {},
   "outputs": [
    {
     "name": "stdout",
     "output_type": "stream",
     "text": [
      "X_train : (120, 4) X_test : (30, 4)\n",
      "y_train : (120,) y_test : (30,)\n"
     ]
    }
   ],
   "source": [
    "# stratify 설정\n",
    "X_train, X_test, y_train, y_test = train_test_split(iris.drop(columns='Class'), iris['Class'], test_size=0.2, stratify=iris.Class)\n",
    "print('X_train :', X_train.shape, 'X_test :', X_test.shape)\n",
    "print('y_train :', y_train.shape, 'y_test :', y_test.shape)"
   ]
  },
  {
   "cell_type": "code",
   "execution_count": 36,
   "id": "6e101d67",
   "metadata": {},
   "outputs": [
    {
     "data": {
      "text/plain": [
       "Setosa         40\n",
       "Versicolour    40\n",
       "Virginica      40\n",
       "Name: Class, dtype: int64"
      ]
     },
     "execution_count": 36,
     "metadata": {},
     "output_type": "execute_result"
    }
   ],
   "source": [
    "y_train.value_counts()"
   ]
  },
  {
   "cell_type": "markdown",
   "id": "056ff620",
   "metadata": {},
   "source": [
    "### 데이터 스케일링"
   ]
  },
  {
   "cell_type": "code",
   "execution_count": 38,
   "id": "82e38d48",
   "metadata": {},
   "outputs": [
    {
     "name": "stdout",
     "output_type": "stream",
     "text": [
      "\t\t(min, max) (mean, std)\n",
      "Train_scaled (-2.04, 3.03) (-0.00, 1.00)\n",
      "Test_scaled (-2.51, 1.87) (-0.19, 0.99)\n"
     ]
    }
   ],
   "source": [
    "# standard scaler\n",
    "# 평균 0, 분산 1인 정규분포로 스케일링\n",
    "# 최솟값, 최댓값 크기를 제한하지 않아 이상치에 매우 민감하므로 이상치를 미리 확인 및 정제한 후 사용 권장\n",
    "# 회귀 < 분류\n",
    "from sklearn.preprocessing import StandardScaler\n",
    "StdScaler = StandardScaler()\n",
    "\n",
    "# Train 데이터의 fitting과 스케일링\n",
    "StdScaler.fit(X_train)\n",
    "X_train_sc = StdScaler.transform(X_train)\n",
    "\n",
    "# Test 데이터의 스케일링\n",
    "X_test_sc = StdScaler.transform(X_test)\n",
    "\n",
    "# 결과 확인\n",
    "print(\"\\t\\t(min, max) (mean, std)\")\n",
    "print(\"Train_scaled (%.2f, %.2f) (%.2f, %.2f)\"%(X_train_sc.min(), X_train_sc.max(),  X_train_sc.mean(),  X_train_sc.std()))\n",
    "print(\"Test_scaled (%.2f, %.2f) (%.2f, %.2f)\"%(X_test_sc.min(), X_test_sc.max(),  X_test_sc.mean(),  X_test_sc.std()))"
   ]
  },
  {
   "cell_type": "code",
   "execution_count": 39,
   "id": "57be4145",
   "metadata": {},
   "outputs": [
    {
     "name": "stdout",
     "output_type": "stream",
     "text": [
      "\t\t(min, max) (mean, std)\n",
      "Train_scaled (0.00, 1.00) (0.44, 0.27)\n",
      "Test_scaled (-0.09, 0.92) (0.40, 0.26)\n"
     ]
    }
   ],
   "source": [
    "# min-max scaler\n",
    "# 0과 1 사이 값으로 스케일링\n",
    "# 이상치에 매우 민감하므로 이상치를 미리 정제한 후 수행\n",
    "# 회귀 > 분류\n",
    "from sklearn.preprocessing import MinMaxScaler\n",
    "MmScaler = MinMaxScaler()\n",
    "\n",
    "# Train 데이터의 fitting과 스케일링\n",
    "MmScaler.fit(X_train)\n",
    "X_train_sc = MmScaler.transform(X_train)\n",
    "\n",
    "# Test 데이터의 스케일링\n",
    "X_test_sc = MmScaler.transform(X_test)\n",
    "\n",
    "# 결과 확인\n",
    "print(\"\\t\\t(min, max) (mean, std)\")\n",
    "print(\"Train_scaled (%.2f, %.2f) (%.2f, %.2f)\"%(X_train_sc.min(), X_train_sc.max(),  X_train_sc.mean(),  X_train_sc.std()))\n",
    "print(\"Test_scaled (%.2f, %.2f) (%.2f, %.2f)\"%(X_test_sc.min(), X_test_sc.max(),  X_test_sc.mean(),  X_test_sc.std()))"
   ]
  },
  {
   "cell_type": "code",
   "execution_count": null,
   "id": "bf113437",
   "metadata": {},
   "outputs": [],
   "source": []
  }
 ],
 "metadata": {
  "kernelspec": {
   "display_name": "adp_code",
   "language": "python",
   "name": "adp_code"
  },
  "language_info": {
   "codemirror_mode": {
    "name": "ipython",
    "version": 3
   },
   "file_extension": ".py",
   "mimetype": "text/x-python",
   "name": "python",
   "nbconvert_exporter": "python",
   "pygments_lexer": "ipython3",
   "version": "3.7.16"
  }
 },
 "nbformat": 4,
 "nbformat_minor": 5
}
