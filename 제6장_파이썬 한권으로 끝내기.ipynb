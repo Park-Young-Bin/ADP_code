{
 "cells": [
  {
   "cell_type": "markdown",
   "id": "d927e019",
   "metadata": {},
   "source": [
    "# 제 6장 머신러닝-지도학습\n",
    "#### [깃허브 주소](https://github.com/ADPclass/ADP_book_ver01/tree/main/%EC%A0%9C6%EC%9E%A5_%EB%A8%B8%EC%8B%A0%EB%9F%AC%EB%8B%9D_%EC%A7%80%EB%8F%84%ED%95%99%EC%8A%B5)\n",
    "#### 가상환경에서 패키지 설치 방법\n",
    "1. Anaconda Prompt (anaconda3) 접속\n",
    "2. 가상환경 활성화 \n",
    "    - activate <가상환경 이름(adp_code)>\n",
    "3. 가상환경이 활성화된 상태에서 패키지 설치\n",
    "    - pip install <패키지 이름>==<버전>"
   ]
  },
  {
   "cell_type": "code",
   "execution_count": null,
   "id": "5def0831",
   "metadata": {},
   "outputs": [],
   "source": []
  }
 ],
 "metadata": {
  "kernelspec": {
   "display_name": "adp_code",
   "language": "python",
   "name": "adp_code"
  },
  "language_info": {
   "codemirror_mode": {
    "name": "ipython",
    "version": 3
   },
   "file_extension": ".py",
   "mimetype": "text/x-python",
   "name": "python",
   "nbconvert_exporter": "python",
   "pygments_lexer": "ipython3",
   "version": "3.7.16"
  }
 },
 "nbformat": 4,
 "nbformat_minor": 5
}
